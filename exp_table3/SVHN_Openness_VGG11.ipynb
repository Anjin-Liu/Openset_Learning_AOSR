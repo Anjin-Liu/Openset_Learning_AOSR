{
 "cells": [
  {
   "cell_type": "markdown",
   "metadata": {},
   "source": [
    "# Import Packages"
   ]
  },
  {
   "cell_type": "code",
   "execution_count": 1,
   "metadata": {
    "ExecuteTime": {
     "end_time": "2021-05-26T13:25:34.124897Z",
     "start_time": "2021-05-26T13:25:21.875688Z"
    }
   },
   "outputs": [],
   "source": [
    "from scipy.io import loadmat\n",
    "from sklearn.metrics import accuracy_score\n",
    "from sklearn.metrics import f1_score\n",
    "\n",
    "from tensorflow.keras import backend as K\n",
    "import tensorflow as tf\n",
    "import tarfile\n",
    "\n",
    "from torch.utils.data import TensorDataset, DataLoader\n",
    "import torch\n",
    "import torch.nn as nn\n",
    "import torch.optim as optim\n",
    "import torch.nn.functional as F\n",
    "import torch.backends.cudnn as cudnn\n",
    "import torchvision\n",
    "import torchvision.transforms as transforms\n",
    "\n",
    "from io import BytesIO\n",
    "from PIL import Image\n",
    "import gzip\n",
    "import zipfile\n",
    "import numpy as np\n",
    "import pandas as pd\n",
    "import matplotlib.pyplot as plt\n",
    "import os\n",
    "\n",
    "import data_handler as dh\n",
    "import utility_handler as uh\n",
    "import backbond_handler as bh\n",
    "\n",
    "r_seed = 0\n",
    "\n",
    "# To load known-unknown class setting as the same as\n",
    "# The details can be found here:\n",
    "# https://github.com/iCGY96/ARPL/blob/master/split.py\n",
    "num_shuffle = len(uh.splits_2020['svhn'])\n",
    "data_load_func = dh.load_svhn\n",
    "\n",
    "backbone = bh.VGG1132\n",
    "device = 'cuda' if torch.cuda.is_available() else 'cpu'\n",
    "epoch_max = 120"
   ]
  },
  {
   "cell_type": "markdown",
   "metadata": {},
   "source": [
    "# Loading Data"
   ]
  },
  {
   "cell_type": "code",
   "execution_count": 2,
   "metadata": {
    "ExecuteTime": {
     "end_time": "2021-05-26T13:25:37.313342Z",
     "start_time": "2021-05-26T13:25:34.126821Z"
    }
   },
   "outputs": [],
   "source": [
    "trX, trY, teX, teY = data_load_func()\n",
    "\n",
    "# the label ID in SVHN dataset start from 1 not 0\n",
    "# therefore, we shift the label id by -1\n",
    "# to keep the code reusable for SVHN\n",
    "trY = trY - 1\n",
    "teY = teY - 1"
   ]
  },
  {
   "cell_type": "markdown",
   "metadata": {},
   "source": [
    "# Encoding"
   ]
  },
  {
   "cell_type": "code",
   "execution_count": 3,
   "metadata": {
    "ExecuteTime": {
     "end_time": "2021-05-26T13:25:37.318499Z",
     "start_time": "2021-05-26T13:25:37.315103Z"
    }
   },
   "outputs": [],
   "source": [
    "num_class = 10\n",
    "label_set = np.arange(num_class)\n",
    "kn_list = uh.splits_2020['svhn']\n",
    "uk_list = []\n",
    "\n",
    "for kn_labels in kn_list:\n",
    "    temp_uk_label_list = np.setdiff1d(label_set, kn_labels)\n",
    "    uk_list.append(temp_uk_label_list.tolist())"
   ]
  },
  {
   "cell_type": "code",
   "execution_count": 4,
   "metadata": {
    "ExecuteTime": {
     "end_time": "2021-05-26T13:26:59.880743Z",
     "start_time": "2021-05-26T13:25:37.319847Z"
    }
   },
   "outputs": [
    {
     "name": "stdout",
     "output_type": "stream",
     "text": [
      "numpy random seed 0\n",
      "Ranodm set 0\n",
      "    know classes [5, 3, 7, 2, 8, 6]\n",
      "    unkn classes [0, 1, 4, 9]\n",
      "Ranodm set 1\n",
      "    know classes [3, 8, 7, 6, 2, 5]\n",
      "    unkn classes [0, 1, 4, 9]\n",
      "Ranodm set 2\n",
      "    know classes [8, 9, 4, 7, 2, 1]\n",
      "    unkn classes [0, 3, 5, 6]\n",
      "Ranodm set 3\n",
      "    know classes [3, 8, 2, 5, 0, 6]\n",
      "    unkn classes [1, 4, 7, 9]\n",
      "Ranodm set 4\n",
      "    know classes [4, 9, 2, 7, 1, 0]\n",
      "    unkn classes [3, 5, 6, 8]\n",
      "channel 3\n",
      "96.67351453855879 tensor(0.0718, device='cuda:0', grad_fn=<NllLossBackward>)\n",
      "96.67351453855879 tensor(0.0520, device='cuda:0', grad_fn=<NllLossBackward>)\n",
      "96.5797141667823 tensor(0.1189, device='cuda:0', grad_fn=<NllLossBackward>)\n",
      "94.6753650201926 tensor(0.1929, device='cuda:0', grad_fn=<NllLossBackward>)\n",
      "97.10905234959259 tensor(0.1150, device='cuda:0', grad_fn=<NllLossBackward>)\n"
     ]
    }
   ],
   "source": [
    "# ====================================================== #\n",
    "# random split 10 classes into 6 known 4 unknown classes #\n",
    "# ====================================================== #\n",
    "dataset_X_dict, dataset_Y_dict = uh.split_know_unkn_mnist_svhn_cifar10(\n",
    "    trX,\n",
    "    trY,\n",
    "    teX,\n",
    "    teY,\n",
    "    num_shuffle=num_shuffle,\n",
    "    know_class_list=kn_list,\n",
    "    unkn_class_list=uk_list,\n",
    "    r_seed=r_seed)\n",
    "\n",
    "# ============= #\n",
    "# build encoder #\n",
    "# ============= #\n",
    "encoder_list = bh.build_encoder(dataset_X_dict, dataset_Y_dict, backbone,\n",
    "                                device, r_seed, epoch_max,\n",
    "                                data_load_func.__name__)\n",
    "\n",
    "# ============= #\n",
    "# encode images #\n",
    "# ============= #\n",
    "kn_trX_encode_list = []\n",
    "kn_teX_encode_list = []\n",
    "uk_teX_encode_list = []\n",
    "\n",
    "# shuffle is enabled during traing\n",
    "# therefore, we need to store the label at encoding stage\n",
    "kn_trY_encode_list = []\n",
    "kn_teY_encode_list = []\n",
    "uk_teY_encode_list = []\n",
    "\n",
    "for idx, encoder in enumerate(encoder_list):\n",
    "    kn_tr_Dataset = bh.image_data_to_dataloader(dataset_X_dict['kn_tr'][idx],\n",
    "                                                dataset_Y_dict['kn_tr'][idx],\n",
    "                                                128)\n",
    "    kn_te_Dataset = bh.image_data_to_dataloader(dataset_X_dict['kn_te'][idx],\n",
    "                                                dataset_Y_dict['kn_te'][idx],\n",
    "                                                128)\n",
    "    uk_te_Dataset = bh.image_data_to_dataloader(dataset_X_dict['uk_te'][idx],\n",
    "                                                dataset_Y_dict['uk_te'][idx],\n",
    "                                                128)\n",
    "\n",
    "    kn_tr_encode_XY = bh.encoding(kn_tr_Dataset, encoder, device)\n",
    "    kn_te_encode_XY = bh.encoding(kn_te_Dataset, encoder, device)\n",
    "    uk_te_encode_XY = bh.encoding(uk_te_Dataset, encoder, device)\n",
    "\n",
    "    kn_trX_encode_list.append(kn_tr_encode_XY[:, :-1])\n",
    "    kn_teX_encode_list.append(kn_te_encode_XY[:, :-1])\n",
    "    uk_teX_encode_list.append(uk_te_encode_XY[:, :-1])\n",
    "\n",
    "    kn_trY_encode_list.append(kn_tr_encode_XY[:, -1])\n",
    "    kn_teY_encode_list.append(kn_te_encode_XY[:, -1])\n",
    "    uk_teY_encode_list.append(uk_te_encode_XY[:, -1])"
   ]
  },
  {
   "cell_type": "markdown",
   "metadata": {},
   "source": [
    "# Open-set Enrichment"
   ]
  },
  {
   "cell_type": "code",
   "execution_count": 5,
   "metadata": {
    "ExecuteTime": {
     "end_time": "2021-05-26T13:27:20.619607Z",
     "start_time": "2021-05-26T13:26:59.882187Z"
    }
   },
   "outputs": [
    {
     "name": "stdout",
     "output_type": "stream",
     "text": [
      "(59881,)\n",
      "(59277,)\n",
      "(71642,)\n",
      "(74370,)\n",
      "(90057,)\n"
     ]
    }
   ],
   "source": [
    "from aosr_utility import sample_enrichment_IF\n",
    "\n",
    "kn_trX_encode_zqX_list = []\n",
    "kn_trX_encode_zqW_list = []\n",
    "\n",
    "for i in range(num_shuffle):\n",
    "    encX = kn_trX_encode_list[i]\n",
    "    zqX, zqW = sample_enrichment_IF(0, encX, encX.shape[0] * 3)\n",
    "    zqW = 1 - zqW * 1.0\n",
    "\n",
    "    tau = np.sort(zqW)[int(zqW.shape[0] * .001)]\n",
    "\n",
    "    # Unknown Samples\n",
    "    cond1 = (zqW > tau)\n",
    "    cond1 = np.squeeze(cond1)\n",
    "    # Known Samples\n",
    "    cond2 = (zqW <= tau)\n",
    "    cond2 = np.squeeze(cond2)\n",
    "    # Wipe Known Samples\n",
    "    zqW[cond2] = 0\n",
    "    # Balance the weights\n",
    "    zqW = zqW * (zqW.shape[0] / zqW.sum())\n",
    "\n",
    "    kn_trX_encode_zqX_list.append(zqX)\n",
    "    kn_trX_encode_zqW_list.append(zqW)"
   ]
  },
  {
   "cell_type": "markdown",
   "metadata": {},
   "source": [
    "# Open-set Learning"
   ]
  },
  {
   "cell_type": "code",
   "execution_count": 6,
   "metadata": {
    "ExecuteTime": {
     "end_time": "2021-05-26T13:35:11.524599Z",
     "start_time": "2021-05-26T13:27:20.620849Z"
    }
   },
   "outputs": [
    {
     "name": "stdout",
     "output_type": "stream",
     "text": [
      "0.05 6\n",
      "Epoch 1/2\n",
      "1156/1156 [==============================] - 2s 1ms/step - loss: 2.3599 - accuracy: 0.6108\n",
      "Epoch 2/2\n",
      "1156/1156 [==============================] - 1s 1ms/step - loss: 0.0204 - accuracy: 0.9998\n",
      "Epoch 1/100\n",
      "1156/1156 [==============================] - 4s 2ms/step - loss: 1963871577.6664 - accuracy: 1.0000\n",
      "Epoch 2/100\n",
      "1156/1156 [==============================] - 3s 2ms/step - loss: 3634.5485 - accuracy: 0.9998\n",
      "Epoch 3/100\n",
      "1156/1156 [==============================] - 3s 2ms/step - loss: 3633.0618 - accuracy: 0.9999\n",
      "Epoch 4/100\n",
      "1156/1156 [==============================] - 3s 2ms/step - loss: 3629.7961 - accuracy: 0.9999\n",
      "Epoch 5/100\n",
      "1156/1156 [==============================] - 3s 2ms/step - loss: 3278.3309 - accuracy: 0.9999\n",
      "Epoch 6/100\n",
      "1156/1156 [==============================] - 3s 3ms/step - loss: 2329.7503 - accuracy: 0.9998\n",
      "Epoch 7/100\n",
      "1156/1156 [==============================] - 3s 3ms/step - loss: 1803.5467 - accuracy: 0.9999\n",
      "Epoch 8/100\n",
      "1156/1156 [==============================] - 3s 3ms/step - loss: 1672.0414 - accuracy: 0.9999\n",
      "Epoch 9/100\n",
      "1156/1156 [==============================] - 3s 3ms/step - loss: 1427.0028 - accuracy: 0.9998\n",
      "Epoch 10/100\n",
      "1156/1156 [==============================] - 3s 2ms/step - loss: 1410.7123 - accuracy: 0.9999\n",
      "Epoch 11/100\n",
      "1156/1156 [==============================] - 3s 3ms/step - loss: 1382.2629 - accuracy: 0.9997\n",
      "Epoch 12/100\n",
      "1156/1156 [==============================] - 3s 2ms/step - loss: 1333.3814 - accuracy: 0.9998\n",
      "Epoch 13/100\n",
      "1156/1156 [==============================] - 3s 3ms/step - loss: 1205.1353 - accuracy: 0.9998\n",
      "Epoch 14/100\n",
      "1156/1156 [==============================] - 3s 3ms/step - loss: 807.4406 - accuracy: 0.9997\n",
      "Epoch 15/100\n",
      "1156/1156 [==============================] - 3s 2ms/step - loss: 517.0694 - accuracy: 0.9998\n",
      "Epoch 16/100\n",
      "1156/1156 [==============================] - 3s 3ms/step - loss: 262.8415 - accuracy: 0.9993\n",
      "Epoch 17/100\n",
      "1156/1156 [==============================] - 3s 3ms/step - loss: 149.1145 - accuracy: 0.9992\n",
      "Epoch 18/100\n",
      "1156/1156 [==============================] - 3s 3ms/step - loss: 82.3724 - accuracy: 0.9990\n",
      "Epoch 19/100\n",
      "1156/1156 [==============================] - 3s 3ms/step - loss: 48.3466 - accuracy: 0.9983\n",
      "Epoch 20/100\n",
      "1156/1156 [==============================] - 3s 2ms/step - loss: 27.3694 - accuracy: 0.9976\n",
      "Epoch 21/100\n",
      "1156/1156 [==============================] - 2s 2ms/step - loss: 15.6718 - accuracy: 0.9964\n",
      "Epoch 22/100\n",
      "1156/1156 [==============================] - 2s 2ms/step - loss: 8.8116 - accuracy: 0.9944\n",
      "Epoch 23/100\n",
      "1156/1156 [==============================] - 3s 2ms/step - loss: 4.8617 - accuracy: 0.9915\n",
      "Epoch 24/100\n",
      "1156/1156 [==============================] - 3s 2ms/step - loss: 2.7967 - accuracy: 0.9877\n",
      "Epoch 25/100\n",
      "1156/1156 [==============================] - 3s 3ms/step - loss: 1.6748 - accuracy: 0.9828\n",
      "Epoch 26/100\n",
      "1156/1156 [==============================] - 3s 3ms/step - loss: 1.0716 - accuracy: 0.9768\n",
      "Epoch 27/100\n",
      "1156/1156 [==============================] - 3s 2ms/step - loss: 0.7315 - accuracy: 0.9704\n",
      "Epoch 28/100\n",
      "1156/1156 [==============================] - 3s 2ms/step - loss: 0.5442 - accuracy: 0.9621\n",
      "Epoch 29/100\n",
      "1156/1156 [==============================] - 3s 2ms/step - loss: 0.4620 - accuracy: 0.9605\n",
      "Epoch 30/100\n",
      "1156/1156 [==============================] - 3s 2ms/step - loss: 0.4234 - accuracy: 0.9633\n",
      "Epoch 31/100\n",
      "1156/1156 [==============================] - 3s 3ms/step - loss: 0.3988 - accuracy: 0.9708\n",
      "Epoch 32/100\n",
      "1156/1156 [==============================] - 3s 2ms/step - loss: 0.3831 - accuracy: 0.9765\n",
      "Epoch 33/100\n",
      "1156/1156 [==============================] - 3s 2ms/step - loss: 0.3783 - accuracy: 0.9810\n",
      "Epoch 34/100\n",
      "1156/1156 [==============================] - 3s 2ms/step - loss: 0.3807 - accuracy: 0.9856\n",
      "Epoch 35/100\n",
      "1156/1156 [==============================] - 3s 2ms/step - loss: 0.3963 - accuracy: 0.9866\n",
      "Epoch 36/100\n",
      "1156/1156 [==============================] - 3s 2ms/step - loss: 0.4217 - accuracy: 0.9899\n",
      "Epoch 37/100\n",
      "1156/1156 [==============================] - 3s 2ms/step - loss: 0.4651 - accuracy: 0.9915\n",
      "Epoch 38/100\n",
      "1156/1156 [==============================] - 3s 2ms/step - loss: 0.5170 - accuracy: 0.9936\n",
      "Epoch 39/100\n",
      "1156/1156 [==============================] - 3s 2ms/step - loss: 0.5493 - accuracy: 0.9943\n",
      "Epoch 40/100\n",
      "1156/1156 [==============================] - 3s 2ms/step - loss: 0.5682 - accuracy: 0.9955\n",
      "Epoch 41/100\n",
      "1156/1156 [==============================] - 3s 2ms/step - loss: 0.5702 - accuracy: 0.9947\n",
      "Epoch 42/100\n",
      "1156/1156 [==============================] - 3s 2ms/step - loss: 0.5638 - accuracy: 0.9956\n",
      "Epoch 43/100\n",
      "1156/1156 [==============================] - 3s 2ms/step - loss: 0.5508 - accuracy: 0.9950\n",
      "Epoch 44/100\n",
      "1156/1156 [==============================] - 3s 2ms/step - loss: 0.5432 - accuracy: 0.9951\n",
      "Epoch 00029: early stopping\n",
      "Epoch 1/2\n",
      "1156/1156 [==============================] - 2s 1ms/step - loss: 2.4033 - accuracy: 0.6073\n",
      "Epoch 2/2\n",
      "1156/1156 [==============================] - 1s 1ms/step - loss: 0.0206 - accuracy: 0.9997\n",
      "Epoch 1/100\n",
      "1156/1156 [==============================] - 3s 3ms/step - loss: 1942854157.6629 - accuracy: 0.9999\n",
      "Epoch 2/100\n",
      "1156/1156 [==============================] - 3s 3ms/step - loss: 2266.4344 - accuracy: 0.9999\n",
      "Epoch 3/100\n",
      "1156/1156 [==============================] - 3s 2ms/step - loss: 2191.0317 - accuracy: 0.9999\n",
      "Epoch 4/100\n",
      "1156/1156 [==============================] - 2s 2ms/step - loss: 1698.7640 - accuracy: 0.9999\n",
      "Epoch 5/100\n",
      "1156/1156 [==============================] - 2s 2ms/step - loss: 1697.4531 - accuracy: 0.9999\n",
      "Epoch 6/100\n",
      "1156/1156 [==============================] - 2s 2ms/step - loss: 1695.0956 - accuracy: 0.9999\n",
      "Epoch 7/100\n",
      "1156/1156 [==============================] - 2s 2ms/step - loss: 1690.9424 - accuracy: 1.0000\n",
      "Epoch 8/100\n",
      "1156/1156 [==============================] - 2s 2ms/step - loss: 1462.5003 - accuracy: 0.9999\n",
      "Epoch 9/100\n",
      "1156/1156 [==============================] - 2s 2ms/step - loss: 1338.7254 - accuracy: 0.9998\n",
      "Epoch 10/100\n",
      "1156/1156 [==============================] - 2s 2ms/step - loss: 1323.9782 - accuracy: 0.9998\n",
      "Epoch 11/100\n",
      "1156/1156 [==============================] - 2s 1ms/step - loss: 1298.2134 - accuracy: 0.9999\n",
      "Epoch 12/100\n",
      "1156/1156 [==============================] - 2s 2ms/step - loss: 1253.9073 - accuracy: 0.9998\n",
      "Epoch 13/100\n",
      "1156/1156 [==============================] - 2s 2ms/step - loss: 1147.2810 - accuracy: 0.9998\n",
      "Epoch 14/100\n",
      "1156/1156 [==============================] - 2s 2ms/step - loss: 816.4823 - accuracy: 0.9998\n",
      "Epoch 15/100\n",
      "1156/1156 [==============================] - 2s 2ms/step - loss: 495.7775 - accuracy: 0.9997\n",
      "Epoch 16/100\n",
      "1156/1156 [==============================] - 2s 2ms/step - loss: 263.5746 - accuracy: 0.9995\n",
      "Epoch 17/100\n",
      "1156/1156 [==============================] - 2s 2ms/step - loss: 146.5542 - accuracy: 0.9994\n",
      "Epoch 18/100\n",
      "1156/1156 [==============================] - 2s 2ms/step - loss: 80.4040 - accuracy: 0.9993\n",
      "Epoch 19/100\n",
      "1156/1156 [==============================] - 2s 2ms/step - loss: 47.2108 - accuracy: 0.9981\n",
      "Epoch 20/100\n",
      "1156/1156 [==============================] - 2s 2ms/step - loss: 26.7032 - accuracy: 0.9971\n",
      "Epoch 21/100\n",
      "1156/1156 [==============================] - 2s 2ms/step - loss: 15.4890 - accuracy: 0.9962\n",
      "Epoch 22/100\n",
      "1156/1156 [==============================] - 2s 2ms/step - loss: 8.5752 - accuracy: 0.9955\n",
      "Epoch 23/100\n",
      "1156/1156 [==============================] - 2s 2ms/step - loss: 4.7829 - accuracy: 0.9923\n",
      "Epoch 24/100\n",
      "1156/1156 [==============================] - 2s 1ms/step - loss: 2.7316 - accuracy: 0.9887\n",
      "Epoch 25/100\n",
      "1156/1156 [==============================] - 2s 2ms/step - loss: 1.6413 - accuracy: 0.9833\n",
      "Epoch 26/100\n",
      "1156/1156 [==============================] - 2s 2ms/step - loss: 1.0534 - accuracy: 0.9786\n",
      "Epoch 27/100\n",
      "1156/1156 [==============================] - 2s 2ms/step - loss: 0.7316 - accuracy: 0.9719\n",
      "Epoch 28/100\n",
      "1156/1156 [==============================] - 2s 2ms/step - loss: 0.5369 - accuracy: 0.9643\n",
      "Epoch 29/100\n",
      "1156/1156 [==============================] - 2s 2ms/step - loss: 0.4540 - accuracy: 0.9629\n",
      "Epoch 30/100\n",
      "1156/1156 [==============================] - 2s 2ms/step - loss: 0.4231 - accuracy: 0.9655\n",
      "Epoch 31/100\n",
      "1156/1156 [==============================] - 2s 2ms/step - loss: 0.3959 - accuracy: 0.9723\n",
      "Epoch 32/100\n",
      "1156/1156 [==============================] - 2s 2ms/step - loss: 0.3860 - accuracy: 0.9742\n",
      "Epoch 33/100\n",
      "1156/1156 [==============================] - 2s 2ms/step - loss: 0.3831 - accuracy: 0.9821\n",
      "Epoch 34/100\n",
      "1156/1156 [==============================] - 2s 2ms/step - loss: 0.3796 - accuracy: 0.9862\n",
      "Epoch 35/100\n",
      "1156/1156 [==============================] - 2s 2ms/step - loss: 0.3992 - accuracy: 0.9872\n",
      "Epoch 36/100\n",
      "1156/1156 [==============================] - 2s 2ms/step - loss: 0.4266 - accuracy: 0.9901\n",
      "Epoch 37/100\n",
      "1156/1156 [==============================] - 2s 2ms/step - loss: 0.4664 - accuracy: 0.9927\n",
      "Epoch 38/100\n",
      "1156/1156 [==============================] - 2s 1ms/step - loss: 0.5178 - accuracy: 0.9932\n",
      "Epoch 39/100\n",
      "1156/1156 [==============================] - 2s 2ms/step - loss: 0.5497 - accuracy: 0.9953\n",
      "Epoch 40/100\n",
      "1156/1156 [==============================] - 2s 2ms/step - loss: 0.5679 - accuracy: 0.9955\n",
      "Epoch 41/100\n",
      "1156/1156 [==============================] - 2s 2ms/step - loss: 0.5653 - accuracy: 0.9952\n",
      "Epoch 42/100\n",
      "1156/1156 [==============================] - 2s 2ms/step - loss: 0.5606 - accuracy: 0.9958\n",
      "Epoch 43/100\n",
      "1156/1156 [==============================] - 2s 1ms/step - loss: 0.5451 - accuracy: 0.9955\n",
      "Epoch 44/100\n",
      "1156/1156 [==============================] - 2s 2ms/step - loss: 0.5366 - accuracy: 0.9944\n",
      "Epoch 00029: early stopping\n",
      "Epoch 1/2\n",
      "1270/1270 [==============================] - 1s 869us/step - loss: 1.1990 - accuracy: 0.7431\n",
      "Epoch 2/2\n",
      "1270/1270 [==============================] - 1s 858us/step - loss: 0.0105 - accuracy: 0.9999\n",
      "Epoch 1/100\n",
      "1270/1270 [==============================] - 3s 2ms/step - loss: 1004115359.5216 - accuracy: 0.9999\n",
      "Epoch 2/100\n",
      "1270/1270 [==============================] - 2s 2ms/step - loss: 942.5968 - accuracy: 0.9999\n",
      "Epoch 3/100\n",
      "1270/1270 [==============================] - 2s 2ms/step - loss: 942.4919 - accuracy: 0.9999\n",
      "Epoch 4/100\n",
      "1270/1270 [==============================] - 2s 2ms/step - loss: 942.0865 - accuracy: 0.9999\n",
      "Epoch 5/100\n",
      "1270/1270 [==============================] - 2s 2ms/step - loss: 941.1814 - accuracy: 0.9999\n",
      "Epoch 6/100\n",
      "1270/1270 [==============================] - 2s 2ms/step - loss: 939.4273 - accuracy: 0.9999\n",
      "Epoch 7/100\n",
      "1270/1270 [==============================] - 2s 2ms/step - loss: 924.9485 - accuracy: 0.9999\n",
      "Epoch 8/100\n",
      "1270/1270 [==============================] - 2s 2ms/step - loss: 744.6888 - accuracy: 0.9999\n",
      "Epoch 9/100\n",
      "1270/1270 [==============================] - 2s 2ms/step - loss: 737.3903 - accuracy: 0.9998\n",
      "Epoch 10/100\n",
      "1270/1270 [==============================] - 2s 2ms/step - loss: 723.9176 - accuracy: 0.9999\n",
      "Epoch 11/100\n",
      "1270/1270 [==============================] - 2s 2ms/step - loss: 669.1926 - accuracy: 0.9999\n",
      "Epoch 12/100\n",
      "1270/1270 [==============================] - 2s 2ms/step - loss: 416.0487 - accuracy: 0.9999\n",
      "Epoch 13/100\n",
      "1270/1270 [==============================] - 2s 2ms/step - loss: 339.4675 - accuracy: 0.9997\n",
      "Epoch 14/100\n",
      "1270/1270 [==============================] - 2s 2ms/step - loss: 206.2621 - accuracy: 0.9997\n",
      "Epoch 15/100\n",
      "1270/1270 [==============================] - 2s 2ms/step - loss: 102.1926 - accuracy: 0.9994\n",
      "Epoch 16/100\n",
      "1270/1270 [==============================] - 2s 2ms/step - loss: 55.5052 - accuracy: 0.9990\n",
      "Epoch 17/100\n",
      "1270/1270 [==============================] - 2s 2ms/step - loss: 29.7086 - accuracy: 0.9983\n",
      "Epoch 18/100\n",
      "1270/1270 [==============================] - 2s 2ms/step - loss: 16.0516 - accuracy: 0.9969\n",
      "Epoch 19/100\n",
      "1270/1270 [==============================] - 2s 2ms/step - loss: 9.8924 - accuracy: 0.9958\n",
      "Epoch 20/100\n",
      "1270/1270 [==============================] - 2s 2ms/step - loss: 6.4532 - accuracy: 0.9939\n",
      "Epoch 21/100\n",
      "1270/1270 [==============================] - 2s 2ms/step - loss: 4.1084 - accuracy: 0.9933\n",
      "Epoch 22/100\n",
      "1270/1270 [==============================] - 2s 2ms/step - loss: 2.5748 - accuracy: 0.9895\n",
      "Epoch 23/100\n",
      "1270/1270 [==============================] - 2s 2ms/step - loss: 1.5650 - accuracy: 0.9878\n",
      "Epoch 24/100\n",
      "1270/1270 [==============================] - 2s 2ms/step - loss: 0.9458 - accuracy: 0.9829\n",
      "Epoch 25/100\n",
      "1270/1270 [==============================] - 2s 2ms/step - loss: 0.6256 - accuracy: 0.9771\n",
      "Epoch 26/100\n",
      "1270/1270 [==============================] - 2s 2ms/step - loss: 0.4728 - accuracy: 0.9732\n",
      "Epoch 27/100\n",
      "1270/1270 [==============================] - 2s 2ms/step - loss: 0.3924 - accuracy: 0.9684\n",
      "Epoch 28/100\n",
      "1270/1270 [==============================] - 2s 2ms/step - loss: 0.3607 - accuracy: 0.9700\n",
      "Epoch 29/100\n",
      "1270/1270 [==============================] - 2s 2ms/step - loss: 0.3410 - accuracy: 0.9724\n",
      "Epoch 30/100\n",
      "1270/1270 [==============================] - 2s 2ms/step - loss: 0.3329 - accuracy: 0.9759\n",
      "Epoch 31/100\n",
      "1270/1270 [==============================] - 2s 2ms/step - loss: 0.3260 - accuracy: 0.9771\n",
      "Epoch 32/100\n",
      "1270/1270 [==============================] - 2s 2ms/step - loss: 0.3192 - accuracy: 0.9804\n",
      "Epoch 33/100\n",
      "1270/1270 [==============================] - 2s 2ms/step - loss: 0.3192 - accuracy: 0.9815\n",
      "Epoch 34/100\n",
      "1270/1270 [==============================] - 2s 2ms/step - loss: 0.3240 - accuracy: 0.9826\n",
      "Epoch 35/100\n",
      "1270/1270 [==============================] - 2s 2ms/step - loss: 0.3227 - accuracy: 0.9843\n",
      "Epoch 36/100\n",
      "1270/1270 [==============================] - 2s 2ms/step - loss: 0.3146 - accuracy: 0.9841\n",
      "Epoch 37/100\n",
      "1270/1270 [==============================] - 2s 2ms/step - loss: 0.3071 - accuracy: 0.9846\n",
      "Epoch 38/100\n",
      "1270/1270 [==============================] - 2s 2ms/step - loss: 0.3000 - accuracy: 0.9837\n",
      "Epoch 39/100\n",
      "1270/1270 [==============================] - 2s 2ms/step - loss: 0.2886 - accuracy: 0.9839\n",
      "Epoch 40/100\n",
      "1270/1270 [==============================] - 2s 2ms/step - loss: 0.2819 - accuracy: 0.9837\n",
      "Epoch 41/100\n",
      "1270/1270 [==============================] - 2s 2ms/step - loss: 0.2743 - accuracy: 0.9841\n",
      "Epoch 42/100\n",
      "1270/1270 [==============================] - 2s 2ms/step - loss: 0.2679 - accuracy: 0.9834\n",
      "Epoch 00027: early stopping\n",
      "Epoch 1/2\n",
      "1432/1432 [==============================] - 1s 876us/step - loss: 2.6680 - accuracy: 0.5820\n",
      "Epoch 2/2\n",
      "1432/1432 [==============================] - 1s 839us/step - loss: 0.0582 - accuracy: 0.9869\n",
      "Epoch 1/100\n",
      "1432/1432 [==============================] - 3s 2ms/step - loss: 2746433019.6232 - accuracy: 0.9896\n",
      "Epoch 2/100\n",
      "1432/1432 [==============================] - 2s 2ms/step - loss: 18924.8255 - accuracy: 0.9894\n",
      "Epoch 3/100\n",
      "1432/1432 [==============================] - 2s 2ms/step - loss: 18917.2421 - accuracy: 0.9894\n",
      "Epoch 4/100\n",
      "1432/1432 [==============================] - 2s 2ms/step - loss: 18901.2588 - accuracy: 0.9885\n",
      "Epoch 5/100\n",
      "1432/1432 [==============================] - 2s 2ms/step - loss: 18868.2645 - accuracy: 0.9889\n",
      "Epoch 6/100\n",
      "1432/1432 [==============================] - 2s 2ms/step - loss: 18800.6933 - accuracy: 0.9884\n",
      "Epoch 7/100\n",
      "1432/1432 [==============================] - 2s 2ms/step - loss: 18660.8690 - accuracy: 0.9884\n",
      "Epoch 8/100\n",
      "1432/1432 [==============================] - 2s 2ms/step - loss: 13128.1485 - accuracy: 0.9894\n",
      "Epoch 9/100\n",
      "1432/1432 [==============================] - 2s 2ms/step - loss: 10830.2770 - accuracy: 0.9893\n",
      "Epoch 10/100\n",
      "1432/1432 [==============================] - 2s 2ms/step - loss: 9215.7097 - accuracy: 0.9889\n",
      "Epoch 11/100\n",
      "1432/1432 [==============================] - 2s 2ms/step - loss: 4586.2100 - accuracy: 0.9894\n",
      "Epoch 12/100\n",
      "1432/1432 [==============================] - 2s 2ms/step - loss: 2199.4496 - accuracy: 0.9885\n",
      "Epoch 13/100\n",
      "1432/1432 [==============================] - 2s 2ms/step - loss: 1010.2158 - accuracy: 0.9891\n",
      "Epoch 14/100\n",
      "1432/1432 [==============================] - 2s 2ms/step - loss: 591.4808 - accuracy: 0.9884\n",
      "Epoch 15/100\n",
      "1432/1432 [==============================] - 2s 2ms/step - loss: 312.7006 - accuracy: 0.9874\n",
      "Epoch 16/100\n",
      "1432/1432 [==============================] - 2s 2ms/step - loss: 141.6916 - accuracy: 0.9848\n",
      "Epoch 17/100\n",
      "1432/1432 [==============================] - 2s 2ms/step - loss: 64.7824 - accuracy: 0.9821\n",
      "Epoch 18/100\n",
      "1432/1432 [==============================] - 2s 2ms/step - loss: 33.0154 - accuracy: 0.9762\n",
      "Epoch 19/100\n",
      "1432/1432 [==============================] - 2s 2ms/step - loss: 16.7151 - accuracy: 0.9673\n",
      "Epoch 20/100\n",
      "1432/1432 [==============================] - 2s 2ms/step - loss: 8.4532 - accuracy: 0.9570\n",
      "Epoch 21/100\n",
      "1432/1432 [==============================] - 2s 2ms/step - loss: 3.9828 - accuracy: 0.9439\n",
      "Epoch 00020: early stopping\n",
      "Epoch 1/2\n",
      "1557/1557 [==============================] - 2s 878us/step - loss: 1.9613 - accuracy: 0.5717\n",
      "Epoch 2/2\n",
      "1557/1557 [==============================] - 1s 889us/step - loss: 0.0150 - accuracy: 0.9999\n",
      "Epoch 1/100\n",
      "1557/1557 [==============================] - 3s 2ms/step - loss: 824444863.4763 - accuracy: 0.9999\n",
      "Epoch 2/100\n",
      "1557/1557 [==============================] - 3s 2ms/step - loss: 1568.8333 - accuracy: 1.0000\n",
      "Epoch 3/100\n",
      "1557/1557 [==============================] - 3s 2ms/step - loss: 1566.2650 - accuracy: 0.9999\n",
      "Epoch 4/100\n",
      "1557/1557 [==============================] - 3s 2ms/step - loss: 782.7536 - accuracy: 0.9999\n",
      "Epoch 5/100\n",
      "1557/1557 [==============================] - 3s 2ms/step - loss: 781.2863 - accuracy: 1.0000\n",
      "Epoch 6/100\n",
      "1557/1557 [==============================] - 3s 2ms/step - loss: 778.0971 - accuracy: 1.0000\n",
      "Epoch 7/100\n",
      "1557/1557 [==============================] - 3s 2ms/step - loss: 771.2412 - accuracy: 1.0000\n",
      "Epoch 8/100\n",
      "1557/1557 [==============================] - 3s 2ms/step - loss: 733.2088 - accuracy: 0.9999\n",
      "Epoch 9/100\n",
      "1557/1557 [==============================] - 3s 2ms/step - loss: 489.3734 - accuracy: 0.9999\n",
      "Epoch 10/100\n",
      "1557/1557 [==============================] - 3s 2ms/step - loss: 317.9403 - accuracy: 0.9998\n",
      "Epoch 11/100\n",
      "1557/1557 [==============================] - 3s 2ms/step - loss: 217.7795 - accuracy: 0.9999\n",
      "Epoch 12/100\n",
      "1557/1557 [==============================] - 3s 2ms/step - loss: 162.2394 - accuracy: 0.9997\n",
      "Epoch 13/100\n",
      "1557/1557 [==============================] - 3s 2ms/step - loss: 83.5921 - accuracy: 0.9998\n",
      "Epoch 14/100\n",
      "1557/1557 [==============================] - 3s 2ms/step - loss: 33.4714 - accuracy: 0.9994\n",
      "Epoch 15/100\n",
      "1557/1557 [==============================] - 3s 2ms/step - loss: 15.5786 - accuracy: 0.9990\n",
      "Epoch 16/100\n",
      "1557/1557 [==============================] - 3s 2ms/step - loss: 7.3139 - accuracy: 0.9977\n",
      "Epoch 17/100\n",
      "1557/1557 [==============================] - 3s 2ms/step - loss: 3.4807 - accuracy: 0.9961\n",
      "Epoch 18/100\n",
      "1557/1557 [==============================] - 3s 2ms/step - loss: 1.9480 - accuracy: 0.9940\n",
      "Epoch 19/100\n",
      "1557/1557 [==============================] - 3s 2ms/step - loss: 1.2132 - accuracy: 0.9924\n",
      "Epoch 20/100\n",
      "1557/1557 [==============================] - 3s 2ms/step - loss: 0.8187 - accuracy: 0.9889\n",
      "Epoch 21/100\n",
      "1557/1557 [==============================] - 4s 3ms/step - loss: 0.5777 - accuracy: 0.9862\n",
      "Epoch 22/100\n",
      "1557/1557 [==============================] - 4s 3ms/step - loss: 0.4577 - accuracy: 0.9833\n",
      "Epoch 23/100\n",
      "1557/1557 [==============================] - 3s 2ms/step - loss: 0.4214 - accuracy: 0.9811\n",
      "Epoch 24/100\n",
      "1557/1557 [==============================] - 4s 3ms/step - loss: 0.4062 - accuracy: 0.9831\n",
      "Epoch 25/100\n",
      "1557/1557 [==============================] - 4s 3ms/step - loss: 0.4073 - accuracy: 0.9856\n",
      "Epoch 26/100\n",
      "1557/1557 [==============================] - 3s 2ms/step - loss: 0.4289 - accuracy: 0.9877\n",
      "Epoch 27/100\n",
      "1557/1557 [==============================] - 4s 3ms/step - loss: 0.4643 - accuracy: 0.9906\n",
      "Epoch 28/100\n",
      "1557/1557 [==============================] - 3s 2ms/step - loss: 0.4824 - accuracy: 0.9916\n",
      "Epoch 29/100\n",
      "1557/1557 [==============================] - 3s 2ms/step - loss: 0.4788 - accuracy: 0.9911\n",
      "Epoch 30/100\n",
      "1557/1557 [==============================] - 3s 2ms/step - loss: 0.4686 - accuracy: 0.9906\n",
      "Epoch 31/100\n",
      "1557/1557 [==============================] - 3s 2ms/step - loss: 0.4520 - accuracy: 0.9910\n",
      "Epoch 32/100\n",
      "1557/1557 [==============================] - 3s 2ms/step - loss: 0.4429 - accuracy: 0.9905\n",
      "Epoch 33/100\n",
      "1557/1557 [==============================] - 3s 2ms/step - loss: 0.4365 - accuracy: 0.9902\n",
      "Epoch 34/100\n",
      "1557/1557 [==============================] - 3s 2ms/step - loss: 0.4341 - accuracy: 0.9899\n",
      "Epoch 35/100\n",
      "1557/1557 [==============================] - 4s 2ms/step - loss: 0.4259 - accuracy: 0.9899\n",
      "Epoch 36/100\n",
      "1557/1557 [==============================] - 4s 3ms/step - loss: 0.4231 - accuracy: 0.9909\n",
      "Epoch 37/100\n",
      "1557/1557 [==============================] - 4s 3ms/step - loss: 0.4235 - accuracy: 0.9901\n",
      "Epoch 00022: early stopping\n"
     ]
    }
   ],
   "source": [
    "from aosr_utility import aosr_risk, EarlyStoppingBeforeOverfit\n",
    "from sklearn.preprocessing import LabelEncoder\n",
    "\n",
    "for i in range(num_shuffle):\n",
    "    le = LabelEncoder()\n",
    "    kn_trY_encode_list[i] = le.fit_transform(kn_trY_encode_list[i])\n",
    "    kn_teY_encode_list[i] = le.transform(kn_teY_encode_list[i])\n",
    "\n",
    "\n",
    "def build_openset_learner(zpX, zpY, zqX, zqW, mu, num_class):\n",
    "\n",
    "    bh.set_random_seed(r_seed, device)\n",
    "\n",
    "    detector = tf.keras.models.Sequential([\n",
    "        tf.keras.layers.Dense(num_class + 1),\n",
    "        tf.keras.layers.Activation(activation='softmax')\n",
    "    ])\n",
    "\n",
    "    detector.compile(optimizer='adam',\n",
    "                     loss='sparse_categorical_crossentropy',\n",
    "                     metrics=['accuracy'])\n",
    "    detector.fit(zpX, zpY * 1.0, epochs=2)\n",
    "\n",
    "    detector.compile(optimizer='adam',\n",
    "                     loss=aosr_risk(detector, zqX, zqW, zpX, mu, num_class),\n",
    "                     metrics=['accuracy'])\n",
    "\n",
    "    K.set_value(detector.optimizer.learning_rate, 0.001)\n",
    "    detector.fit(zpX,\n",
    "                 zpY,\n",
    "                 epochs=100,\n",
    "                 callbacks=[EarlyStoppingBeforeOverfit()])\n",
    "    return detector\n",
    "\n",
    "\n",
    "mu = 0.05\n",
    "num_class = np.unique(kn_trY_encode_list[0]).shape[0]\n",
    "print(mu, num_class)\n",
    "detector_list = []\n",
    "\n",
    "for i in range(num_shuffle):\n",
    "\n",
    "    zpX = kn_trX_encode_list[i]\n",
    "    zpY = kn_trY_encode_list[i]\n",
    "    zqX = kn_trX_encode_zqX_list[i]\n",
    "    zqW = kn_trX_encode_zqW_list[i]\n",
    "    detector = build_openset_learner(zpX, zpY, zqX, zqW, mu, num_class)\n",
    "    detector_list.append(detector)"
   ]
  },
  {
   "cell_type": "markdown",
   "metadata": {},
   "source": [
    "# Evaluation"
   ]
  },
  {
   "cell_type": "code",
   "execution_count": 7,
   "metadata": {
    "ExecuteTime": {
     "end_time": "2021-05-26T13:35:11.528591Z",
     "start_time": "2021-05-26T13:35:11.525998Z"
    }
   },
   "outputs": [],
   "source": [
    "from sklearn.metrics import roc_auc_score\n",
    "from sklearn.metrics import accuracy_score\n",
    "from sklearn import metrics\n",
    "from sklearn.metrics import f1_score"
   ]
  },
  {
   "cell_type": "code",
   "execution_count": 8,
   "metadata": {
    "ExecuteTime": {
     "end_time": "2021-05-26T13:35:13.857655Z",
     "start_time": "2021-05-26T13:35:11.530012Z"
    }
   },
   "outputs": [],
   "source": [
    "actY_list = []\n",
    "preY_list = []\n",
    "\n",
    "actY_know_list = []\n",
    "preY_know_list = []\n",
    "\n",
    "actY_binary_list = []\n",
    "preY_binary_list = []\n",
    "\n",
    "for i in range(num_shuffle):\n",
    "    \n",
    "    actY = np.zeros(kn_teX_encode_list[i].shape[0] + uk_teX_encode_list[i].shape[0])\n",
    "    actY[:kn_teX_encode_list[i].shape[0]] = kn_teY_encode_list[i]\n",
    "    actY[kn_teX_encode_list[i].shape[0]:] = num_class\n",
    "    \n",
    "    kn_preY = detector_list[i].predict(kn_teX_encode_list[i])\n",
    "    uk_preY = detector_list[i].predict(uk_teX_encode_list[i])\n",
    "    preY = np.concatenate([kn_preY, uk_preY], axis=0)\n",
    "    \n",
    "    actY_know_list.append(kn_teY_encode_list[i])\n",
    "    preY_know_list.append(kn_preY.argmax(axis=1))\n",
    "    \n",
    "    actY_list.append(actY)\n",
    "    preY_list.append(preY)\n",
    "    \n",
    "    actY_bi = np.array(actY)\n",
    "    preY_bi = preY[:, -1]\n",
    "    \n",
    "    actY_bi[actY_bi<6] = 0\n",
    "    actY_bi[actY_bi==6] = 1\n",
    "    \n",
    "    actY_binary_list.append(actY_bi)\n",
    "    preY_binary_list.append(preY_bi)"
   ]
  },
  {
   "cell_type": "code",
   "execution_count": 9,
   "metadata": {
    "ExecuteTime": {
     "end_time": "2021-05-26T13:35:14.177948Z",
     "start_time": "2021-05-26T13:35:13.858957Z"
    }
   },
   "outputs": [
    {
     "name": "stdout",
     "output_type": "stream",
     "text": [
      "shuffle 0\n",
      "    acc score 0.8848767383059418\n",
      "    acc known 0.8896599583622484\n",
      "    acc uknow 0.9258818866428854\n",
      "    f1 macro score 0.8377099402754586\n",
      "    auc only score 0.91497829279586\n",
      "    auc multi-score 0.949761442427355\n",
      "    auc binary score 0.91497829279586\n",
      "shuffle 1\n",
      "    acc score 0.8867730720606827\n",
      "    acc known 0.892088827203331\n",
      "    acc uknow 0.9262782401902497\n",
      "    f1 macro score 0.8387692792377351\n",
      "    auc only score 0.9154355792815709\n",
      "    auc multi-score 0.9500069578466614\n",
      "    auc binary score 0.9154355792815709\n",
      "shuffle 2\n",
      "    acc score 0.8516719855695851\n",
      "    acc known 0.9088937093275488\n",
      "    acc uknow 0.7907702984038862\n",
      "    f1 macro score 0.8699895629995638\n",
      "    auc only score 0.9341417560579706\n",
      "    auc multi-score 0.9625958935065364\n",
      "    auc binary score 0.9341417560579706\n",
      "shuffle 3\n",
      "    acc score 0.8946877912395154\n",
      "    acc known 0.9137085703079035\n",
      "    acc uknow 0.8889659958362248\n",
      "    f1 macro score 0.7998400915890309\n",
      "    auc only score 0.8840323988314952\n",
      "    auc multi-score 0.9459098050080117\n",
      "    auc binary score 0.8840323988314952\n",
      "shuffle 4\n",
      "    acc score 0.8882129701975667\n",
      "    acc known 0.9460678564424397\n",
      "    acc uknow 0.8937093275488069\n",
      "    f1 macro score 0.8654688031878586\n",
      "    auc only score 0.9099020073727264\n",
      "    auc multi-score 0.9648975101147516\n",
      "    auc binary score 0.9099020073727264\n",
      "Avg F1 0.8423555354579294, 0.02505940294170205\n",
      "Avg AUC 0.9116980068679246, 0.016106291213274698\n",
      "Avg Accurac 0.9546343217806633, 0.0076156982898886606\n",
      "Avg ROC_AUC 0.9116980068679246, 0.016106291213274698\n"
     ]
    }
   ],
   "source": [
    "acc_list = []\n",
    "auc_bi_list = []\n",
    "auc_list = []\n",
    "f1_list = []\n",
    "for i in range(num_shuffle):\n",
    "    print(f'shuffle {i}')\n",
    "    print('    acc score', accuracy_score(actY_know_list[i], preY_know_list[i]))\n",
    "    print('    acc known', accuracy_score(actY_know_list[i][actY_know_list[i]==0], preY_know_list[i][actY_know_list[i]==0]))\n",
    "    print('    acc uknow', accuracy_score(actY_know_list[i][actY_know_list[i]==1], preY_know_list[i][actY_know_list[i]==1]))\n",
    "    acc_list.append(roc_auc_score(actY_list[i], preY_list[i], multi_class='ovr', average='weighted'))\n",
    "    auc_bi_list.append(roc_auc_score(actY_binary_list[i], preY_binary_list[i]))\n",
    "    fpr, tpr, thresholds = metrics.roc_curve(actY_binary_list[i], preY_binary_list[i], pos_label=1)\n",
    "    auc_list.append(metrics.auc(fpr, tpr))\n",
    "    f1_list.append(f1_score(actY_list[i], preY_list[i].argmax(1), average='macro'))\n",
    "    print('    f1 macro score', f1_list[i])\n",
    "    print('    auc only score', auc_list[i])\n",
    "    print('    auc multi-score', acc_list[i])\n",
    "    print('    auc binary score', auc_bi_list[i])\n",
    "print(f'Avg F1 {np.mean(f1_list)}, {np.std(f1_list)}')\n",
    "print(f'Avg AUC {np.mean(auc_list)}, {np.std(auc_list)}')\n",
    "print(f'Avg Accurac {np.mean(acc_list)}, {np.std(acc_list)}')\n",
    "print(f'Avg ROC_AUC {np.mean(auc_bi_list)}, {np.std(auc_bi_list)}')"
   ]
  }
 ],
 "metadata": {
  "kernelspec": {
   "display_name": "Python 3",
   "language": "python",
   "name": "python3"
  },
  "language_info": {
   "codemirror_mode": {
    "name": "ipython",
    "version": 3
   },
   "file_extension": ".py",
   "mimetype": "text/x-python",
   "name": "python",
   "nbconvert_exporter": "python",
   "pygments_lexer": "ipython3",
   "version": "3.6.8"
  },
  "toc": {
   "base_numbering": 1,
   "nav_menu": {},
   "number_sections": true,
   "sideBar": true,
   "skip_h1_title": false,
   "title_cell": "Table of Contents",
   "title_sidebar": "Contents",
   "toc_cell": false,
   "toc_position": {
    "height": "calc(100% - 180px)",
    "left": "10px",
    "top": "150px",
    "width": "384px"
   },
   "toc_section_display": true,
   "toc_window_display": true
  },
  "widgets": {
   "application/vnd.jupyter.widget-state+json": {
    "state": {
     "002b427987ca4810933d19d770d85b76": {
      "model_module": "@jupyter-widgets/base",
      "model_module_version": "1.2.0",
      "model_name": "LayoutModel",
      "state": {}
     },
     "002d1e06de994c1984f453615f4fbe43": {
      "model_module": "@jupyter-widgets/base",
      "model_module_version": "1.2.0",
      "model_name": "LayoutModel",
      "state": {}
     },
     "00478914572244bc8e5a2ddbccdc1a1f": {
      "model_module": "@jupyter-widgets/base",
      "model_module_version": "1.2.0",
      "model_name": "LayoutModel",
      "state": {}
     },
     "007599700c694ec3aa5646fa0ff98adb": {
      "model_module": "@jupyter-widgets/base",
      "model_module_version": "1.2.0",
      "model_name": "LayoutModel",
      "state": {}
     },
     "007bcb058aa249a2bbc7898eabfff431": {
      "model_module": "@jupyter-widgets/controls",
      "model_module_version": "1.5.0",
      "model_name": "ProgressStyleModel",
      "state": {
       "description_width": "initial"
      }
     },
     "010c16b88e19418f87b186d696257f57": {
      "model_module": "@jupyter-widgets/base",
      "model_module_version": "1.2.0",
      "model_name": "LayoutModel",
      "state": {}
     },
     "0121d79ccb394ae69efcec1f46e39bc2": {
      "model_module": "@jupyter-widgets/controls",
      "model_module_version": "1.5.0",
      "model_name": "HBoxModel",
      "state": {
       "children": [
        "IPY_MODEL_3eb6b8c136f942b7bdddc0e8d4bcced3",
        "IPY_MODEL_559c6eba07f3405a8ae166a7734de73f"
       ],
       "layout": "IPY_MODEL_5b0e1b74a0e6458188cd3f11ab19d9fa"
      }
     },
     "012f17d1daf041b4b19b2fc89771a727": {
      "model_module": "@jupyter-widgets/base",
      "model_module_version": "1.2.0",
      "model_name": "LayoutModel",
      "state": {}
     },
     "015f417271b24a2cbcca119bef59dcd0": {
      "model_module": "@jupyter-widgets/controls",
      "model_module_version": "1.5.0",
      "model_name": "IntProgressModel",
      "state": {
       "bar_style": "success",
       "description": "Epoch [33/40]: 100%",
       "layout": "IPY_MODEL_c976736036154f579932e982148c46f5",
       "max": 361,
       "style": "IPY_MODEL_41b694b364d84fffb3c348eee7e5ba87",
       "value": 361
      }
     },
     "01639fdee15d4b6780ba5655433e0070": {
      "model_module": "@jupyter-widgets/controls",
      "model_module_version": "1.5.0",
      "model_name": "IntProgressModel",
      "state": {
       "bar_style": "success",
       "description": "Epoch [30/40]: 100%",
       "layout": "IPY_MODEL_cebc109e71e8464ab70cf130904071ae",
       "max": 361,
       "style": "IPY_MODEL_bb766c70df6d44e597a133b97ff87d11",
       "value": 361
      }
     },
     "01ab69396fdd4ab691963e6a7c66d053": {
      "model_module": "@jupyter-widgets/controls",
      "model_module_version": "1.5.0",
      "model_name": "HTMLModel",
      "state": {
       "layout": "IPY_MODEL_cdbead11d7e346a69b5bb7d1116e24e0",
       "style": "IPY_MODEL_9001d48fd46642d88348b9eb3ab44b8a",
       "value": " 255/255 [01:12&lt;00:00,  3.51it/s, acc=0.244, loss=1.85]"
      }
     },
     "01da7248ab5c4d9996798d26e478740e": {
      "model_module": "@jupyter-widgets/controls",
      "model_module_version": "1.5.0",
      "model_name": "HBoxModel",
      "state": {
       "children": [
        "IPY_MODEL_1debade6e12f420f96032437842b78e0",
        "IPY_MODEL_87ce0572f4d24460ac8d982dee219d94"
       ],
       "layout": "IPY_MODEL_fb4f529a0919426e96fc1f896e28b8d4"
      }
     },
     "01e01780bfae4a5bb9dad2435691ea56": {
      "model_module": "@jupyter-widgets/controls",
      "model_module_version": "1.5.0",
      "model_name": "HBoxModel",
      "state": {
       "children": [
        "IPY_MODEL_af151fd089d240aa92a92e8ba9466c1e",
        "IPY_MODEL_d8b6935cb92142b1a52ee1851e58b33d"
       ],
       "layout": "IPY_MODEL_70350e9125634b2e958262f3695b06ca"
      }
     },
     "01fd3bbd58db4135a22bb66f161f0e38": {
      "model_module": "@jupyter-widgets/controls",
      "model_module_version": "1.5.0",
      "model_name": "DescriptionStyleModel",
      "state": {
       "description_width": ""
      }
     },
     "02122b57f19b47539f1232cd8e5adec0": {
      "model_module": "@jupyter-widgets/controls",
      "model_module_version": "1.5.0",
      "model_name": "IntProgressModel",
      "state": {
       "bar_style": "success",
       "description": "Epoch [30/40]: 100%",
       "layout": "IPY_MODEL_96656f3e3c4548698a812086324ecd45",
       "max": 241,
       "style": "IPY_MODEL_73414a2661aa492fa0f01ff441930b50",
       "value": 241
      }
     },
     "023b15911e5c46e3aace1f1267891046": {
      "model_module": "@jupyter-widgets/controls",
      "model_module_version": "1.5.0",
      "model_name": "DescriptionStyleModel",
      "state": {
       "description_width": ""
      }
     },
     "024c8ff3dd004d9384bd6426641a7201": {
      "model_module": "@jupyter-widgets/controls",
      "model_module_version": "1.5.0",
      "model_name": "DescriptionStyleModel",
      "state": {
       "description_width": ""
      }
     },
     "0257053704fb423886f67bbe34224556": {
      "model_module": "@jupyter-widgets/controls",
      "model_module_version": "1.5.0",
      "model_name": "DescriptionStyleModel",
      "state": {
       "description_width": ""
      }
     },
     "027ad8b9f14a4222978c2e704002d039": {
      "model_module": "@jupyter-widgets/controls",
      "model_module_version": "1.5.0",
      "model_name": "ProgressStyleModel",
      "state": {
       "description_width": "initial"
      }
     },
     "027eda20001c4abb886f9dc4f058db7f": {
      "model_module": "@jupyter-widgets/controls",
      "model_module_version": "1.5.0",
      "model_name": "HBoxModel",
      "state": {
       "children": [
        "IPY_MODEL_eccec5c73acc4b3f8a0760b7e1a158de",
        "IPY_MODEL_5f7239a6a4384a43830313f28071ad32"
       ],
       "layout": "IPY_MODEL_d5a86fb1d1f14bc99b6400be646c43d6"
      }
     },
     "02dc33892439454188fb073a161d6b2c": {
      "model_module": "@jupyter-widgets/base",
      "model_module_version": "1.2.0",
      "model_name": "LayoutModel",
      "state": {}
     },
     "03608d6d7b2c46cc8c140be2d089f598": {
      "model_module": "@jupyter-widgets/controls",
      "model_module_version": "1.5.0",
      "model_name": "IntProgressModel",
      "state": {
       "bar_style": "success",
       "description": "Epoch [23/40]: 100%",
       "layout": "IPY_MODEL_36eb98102b5d4f8a898dfbaf56d17153",
       "max": 361,
       "style": "IPY_MODEL_c9b4b9bbcfe14e00885806a345280597",
       "value": 361
      }
     },
     "0391ea13bcc6431c9f728908a36047a3": {
      "model_module": "@jupyter-widgets/controls",
      "model_module_version": "1.5.0",
      "model_name": "IntProgressModel",
      "state": {
       "bar_style": "success",
       "description": "Epoch [1/5]: 100%",
       "layout": "IPY_MODEL_09d08ba5886148b2a66e4f5a7aa808fa",
       "max": 282,
       "style": "IPY_MODEL_329ed4509f074009a88b4ccd8a4772ae",
       "value": 282
      }
     },
     "0393988914ab4d1d91dc3fd291e2cf69": {
      "model_module": "@jupyter-widgets/controls",
      "model_module_version": "1.5.0",
      "model_name": "HTMLModel",
      "state": {
       "layout": "IPY_MODEL_00478914572244bc8e5a2ddbccdc1a1f",
       "style": "IPY_MODEL_2b36dfb67af8468baad1e5e5f1146076",
       "value": " 338/338 [01:36&lt;00:00,  3.49it/s, acc=0.983, loss=0.0885]"
      }
     },
     "03c782e4d3b442f3bc50dc5614b8835a": {
      "model_module": "@jupyter-widgets/base",
      "model_module_version": "1.2.0",
      "model_name": "LayoutModel",
      "state": {}
     },
     "03dc6743864b4062a3bf7cc15486b829": {
      "model_module": "@jupyter-widgets/base",
      "model_module_version": "1.2.0",
      "model_name": "LayoutModel",
      "state": {}
     },
     "03f2a84efef441319d6b67e4ac7b249a": {
      "model_module": "@jupyter-widgets/base",
      "model_module_version": "1.2.0",
      "model_name": "LayoutModel",
      "state": {}
     },
     "03f450826ea844b9bd20f87754eb6119": {
      "model_module": "@jupyter-widgets/base",
      "model_module_version": "1.2.0",
      "model_name": "LayoutModel",
      "state": {}
     },
     "03fa25600d7f468cb86bdfb5fe39d90a": {
      "model_module": "@jupyter-widgets/base",
      "model_module_version": "1.2.0",
      "model_name": "LayoutModel",
      "state": {}
     },
     "040df3dcf81643b384c2c981a1a2801a": {
      "model_module": "@jupyter-widgets/controls",
      "model_module_version": "1.5.0",
      "model_name": "IntProgressModel",
      "state": {
       "bar_style": "success",
       "description": "Epoch [26/40]: 100%",
       "layout": "IPY_MODEL_0aecdd247737419ca88f0eca5717fb48",
       "max": 241,
       "style": "IPY_MODEL_a8bba9a87bdb426db529bc6b75129094",
       "value": 241
      }
     },
     "0446b10c444542edb10ca23a67b6550f": {
      "model_module": "@jupyter-widgets/controls",
      "model_module_version": "1.5.0",
      "model_name": "HBoxModel",
      "state": {
       "children": [
        "IPY_MODEL_0391ea13bcc6431c9f728908a36047a3",
        "IPY_MODEL_69291b22bdad485f8e126070ba44a74a"
       ],
       "layout": "IPY_MODEL_9859e2b5638e42189a9d06a36ebc6cd4"
      }
     },
     "04974bf192d24a6585ce0fc52bb2aec0": {
      "model_module": "@jupyter-widgets/controls",
      "model_module_version": "1.5.0",
      "model_name": "IntProgressModel",
      "state": {
       "bar_style": "success",
       "description": "Epoch [23/100]: 100%",
       "layout": "IPY_MODEL_6d980232ca6546b3bdb6c6f66da4a16d",
       "max": 289,
       "style": "IPY_MODEL_925f115dc3cd4082bf35cca155826254",
       "value": 289
      }
     },
     "049ebe479dee41588642cd544781d248": {
      "model_module": "@jupyter-widgets/controls",
      "model_module_version": "1.5.0",
      "model_name": "ProgressStyleModel",
      "state": {
       "description_width": "initial"
      }
     },
     "04c25d15401a44b09c0948532fe775df": {
      "model_module": "@jupyter-widgets/base",
      "model_module_version": "1.2.0",
      "model_name": "LayoutModel",
      "state": {}
     },
     "04cd8caa5ba148ba9cc725d61e18b97d": {
      "model_module": "@jupyter-widgets/controls",
      "model_module_version": "1.5.0",
      "model_name": "HTMLModel",
      "state": {
       "layout": "IPY_MODEL_4fc72d1126ac4553861ec8552f90ca0e",
       "style": "IPY_MODEL_ff06ec3880184a5a920b7e87f31c4790",
       "value": " 241/241 [01:52&lt;00:00,  2.14it/s, acc=0.266, loss=1.6]"
      }
     },
     "04d66d4808e144169a1edf85b774e830": {
      "model_module": "@jupyter-widgets/controls",
      "model_module_version": "1.5.0",
      "model_name": "ProgressStyleModel",
      "state": {
       "description_width": "initial"
      }
     },
     "04ec94fa47284d0bb913775e7951b13a": {
      "model_module": "@jupyter-widgets/base",
      "model_module_version": "1.2.0",
      "model_name": "LayoutModel",
      "state": {}
     },
     "0508fc08ead74d1daa220a9f279c6d5c": {
      "model_module": "@jupyter-widgets/controls",
      "model_module_version": "1.5.0",
      "model_name": "IntProgressModel",
      "state": {
       "bar_style": "success",
       "description": "Epoch [4/5]: 100%",
       "layout": "IPY_MODEL_f164287aedef44d683b266113cea9179",
       "max": 282,
       "style": "IPY_MODEL_83becb79a69d4fbda41c6749f04f3e50",
       "value": 282
      }
     },
     "050bc108458b4dd8910f609c13b05b93": {
      "model_module": "@jupyter-widgets/base",
      "model_module_version": "1.2.0",
      "model_name": "LayoutModel",
      "state": {}
     },
     "051b39bab7c04aa9848d5c94b7c8593f": {
      "model_module": "@jupyter-widgets/controls",
      "model_module_version": "1.5.0",
      "model_name": "IntProgressModel",
      "state": {
       "bar_style": "success",
       "description": "Epoch [26/40]: 100%",
       "layout": "IPY_MODEL_3e5d288ca318409d96caadfd6198ecc1",
       "max": 289,
       "style": "IPY_MODEL_18ebd593e63049f188fc0ab71d4d2662",
       "value": 289
      }
     },
     "05274fb7515747249b8697ce564a0e5e": {
      "model_module": "@jupyter-widgets/controls",
      "model_module_version": "1.5.0",
      "model_name": "IntProgressModel",
      "state": {
       "bar_style": "success",
       "description": "Epoch [19/40]: 100%",
       "layout": "IPY_MODEL_0f7a92e441c24e01b03eb1fe296ee293",
       "max": 361,
       "style": "IPY_MODEL_dc4712306d9b4e7bb8d303bef4f92908",
       "value": 361
      }
     },
     "05359040c4114f5790d89d4233f37168": {
      "model_module": "@jupyter-widgets/controls",
      "model_module_version": "1.5.0",
      "model_name": "IntProgressModel",
      "state": {
       "bar_style": "success",
       "description": "Epoch [8/40]: 100%",
       "layout": "IPY_MODEL_6fc81ffe07b041b9860d1d9481fe1e91",
       "max": 289,
       "style": "IPY_MODEL_290aea8134f945579cce565c35eb13ea",
       "value": 289
      }
     },
     "05412cfc855c4e1883fd66a38148676b": {
      "model_module": "@jupyter-widgets/base",
      "model_module_version": "1.2.0",
      "model_name": "LayoutModel",
      "state": {}
     },
     "058b9f583dd24f23a3030d9e59923a9b": {
      "model_module": "@jupyter-widgets/base",
      "model_module_version": "1.2.0",
      "model_name": "LayoutModel",
      "state": {}
     },
     "059d2d8f503e4252b231ca8feaf2b69b": {
      "model_module": "@jupyter-widgets/base",
      "model_module_version": "1.2.0",
      "model_name": "LayoutModel",
      "state": {}
     },
     "05aeb57bd7bf426c98d6344484eb0401": {
      "model_module": "@jupyter-widgets/controls",
      "model_module_version": "1.5.0",
      "model_name": "HTMLModel",
      "state": {
       "layout": "IPY_MODEL_0e2cc82eaca0409f9361b403c626ed0f",
       "style": "IPY_MODEL_f2d5e41e3c7f49d6a936a0c1e9650731",
       "value": " 241/241 [01:04&lt;00:00,  3.72it/s, acc=0.983, loss=0.022]"
      }
     },
     "05c44d9770ee4cf79b18b82f015dc7dd": {
      "model_module": "@jupyter-widgets/base",
      "model_module_version": "1.2.0",
      "model_name": "LayoutModel",
      "state": {}
     },
     "05de3359bb8247028c45ca968c3015f7": {
      "model_module": "@jupyter-widgets/base",
      "model_module_version": "1.2.0",
      "model_name": "LayoutModel",
      "state": {}
     },
     "05e13a80baf44f00a30787edc6270dd2": {
      "model_module": "@jupyter-widgets/controls",
      "model_module_version": "1.5.0",
      "model_name": "DescriptionStyleModel",
      "state": {
       "description_width": ""
      }
     },
     "05f4d4562f6c4e36b22355244c4058ed": {
      "model_module": "@jupyter-widgets/controls",
      "model_module_version": "1.5.0",
      "model_name": "HTMLModel",
      "state": {
       "layout": "IPY_MODEL_e1a27b8e2058404791d2dd67404c6f66",
       "style": "IPY_MODEL_35735cd2e4874fabb6ffa6beb5c82912",
       "value": " 241/241 [01:25&lt;00:00,  2.82it/s, acc=0.985, loss=0.024]"
      }
     },
     "060fca1db3a84adfb28e566487003ec5": {
      "model_module": "@jupyter-widgets/base",
      "model_module_version": "1.2.0",
      "model_name": "LayoutModel",
      "state": {}
     },
     "06456391e99f4c40afead04771095049": {
      "model_module": "@jupyter-widgets/controls",
      "model_module_version": "1.5.0",
      "model_name": "IntProgressModel",
      "state": {
       "bar_style": "success",
       "description": "Epoch [29/40]: 100%",
       "layout": "IPY_MODEL_dec9505677a14a1e9145b29a9268dd61",
       "max": 255,
       "style": "IPY_MODEL_a44d8e3e744e42ccb728756603f9d225",
       "value": 255
      }
     },
     "0657228b829b4646b1c83ae3a5535b81": {
      "model_module": "@jupyter-widgets/controls",
      "model_module_version": "1.5.0",
      "model_name": "ProgressStyleModel",
      "state": {
       "description_width": "initial"
      }
     },
     "065d8931fd08455cb69104fc8986c284": {
      "model_module": "@jupyter-widgets/controls",
      "model_module_version": "1.5.0",
      "model_name": "DescriptionStyleModel",
      "state": {
       "description_width": ""
      }
     },
     "067aefa4b17144d7848b016d5d58bf83": {
      "model_module": "@jupyter-widgets/base",
      "model_module_version": "1.2.0",
      "model_name": "LayoutModel",
      "state": {}
     },
     "06b79763cf5340f691fb98fccc12c839": {
      "model_module": "@jupyter-widgets/controls",
      "model_module_version": "1.5.0",
      "model_name": "IntProgressModel",
      "state": {
       "bar_style": "success",
       "description": "Epoch [23/40]: 100%",
       "layout": "IPY_MODEL_5451cac233cd437482e4c51462b878d2",
       "max": 255,
       "style": "IPY_MODEL_a71af41cc6a44086a49caf04033bd9ef",
       "value": 255
      }
     },
     "06beee3421fe468aada3ce93965617cc": {
      "model_module": "@jupyter-widgets/controls",
      "model_module_version": "1.5.0",
      "model_name": "IntProgressModel",
      "state": {
       "bar_style": "success",
       "description": "Epoch [16/40]: 100%",
       "layout": "IPY_MODEL_2f803dfb56bf49f88e424d19866bd742",
       "max": 361,
       "style": "IPY_MODEL_251f0389d92348abb44976609c570bd9",
       "value": 361
      }
     },
     "06f2455c62d84fb79a1f67b1d1b41cee": {
      "model_module": "@jupyter-widgets/base",
      "model_module_version": "1.2.0",
      "model_name": "LayoutModel",
      "state": {}
     },
     "06f84dd26e8949db9104145078e06126": {
      "model_module": "@jupyter-widgets/controls",
      "model_module_version": "1.5.0",
      "model_name": "ProgressStyleModel",
      "state": {
       "description_width": ""
      }
     },
     "070f0dcb656a4838b84e742d5588f1ed": {
      "model_module": "@jupyter-widgets/controls",
      "model_module_version": "1.5.0",
      "model_name": "HTMLModel",
      "state": {
       "layout": "IPY_MODEL_0d082f07375e45f09a379fb199c330a9",
       "style": "IPY_MODEL_a24983cd7eb041239db31610c882d965",
       "value": " 361/361 [00:34&lt;00:00, 10.34it/s, acc=0.976, loss=0.058]"
      }
     },
     "07235eefb3e54296bc502d931d60c108": {
      "model_module": "@jupyter-widgets/controls",
      "model_module_version": "1.5.0",
      "model_name": "ProgressStyleModel",
      "state": {
       "description_width": "initial"
      }
     },
     "074cc8a4681242648b8f04d01ba2f7ac": {
      "model_module": "@jupyter-widgets/controls",
      "model_module_version": "1.5.0",
      "model_name": "HBoxModel",
      "state": {
       "children": [
        "IPY_MODEL_a8a1350773d34161a4aca90796609028",
        "IPY_MODEL_d2ddafe862e14d9db02617095ea22592"
       ],
       "layout": "IPY_MODEL_65d5b185de454ea58e24f531a26f7440"
      }
     },
     "07a31aa493474e10850a9c87934130cc": {
      "model_module": "@jupyter-widgets/base",
      "model_module_version": "1.2.0",
      "model_name": "LayoutModel",
      "state": {}
     },
     "07c438dd282045e3a9070de61b75b664": {
      "model_module": "@jupyter-widgets/controls",
      "model_module_version": "1.5.0",
      "model_name": "HBoxModel",
      "state": {
       "children": [
        "IPY_MODEL_17dd381ebcc941f79266b5840a0da8ee",
        "IPY_MODEL_e62c7831909c4d448637da3d2147e32f"
       ],
       "layout": "IPY_MODEL_c24b1f4ee9d54cf597bdbb04596f7bd6"
      }
     },
     "07cd6d5f15ce47b4ae81f4085b1247e2": {
      "model_module": "@jupyter-widgets/base",
      "model_module_version": "1.2.0",
      "model_name": "LayoutModel",
      "state": {}
     },
     "07cf6db0841442d08553f59fbdc63bb0": {
      "model_module": "@jupyter-widgets/base",
      "model_module_version": "1.2.0",
      "model_name": "LayoutModel",
      "state": {}
     },
     "07efb71ff2684a679a5b3050943b477b": {
      "model_module": "@jupyter-widgets/base",
      "model_module_version": "1.2.0",
      "model_name": "LayoutModel",
      "state": {}
     },
     "0819b5a98b914ec792b6c22060a6605f": {
      "model_module": "@jupyter-widgets/controls",
      "model_module_version": "1.5.0",
      "model_name": "ProgressStyleModel",
      "state": {
       "description_width": "initial"
      }
     },
     "082e41896b5c43068f2ab97ce78747fc": {
      "model_module": "@jupyter-widgets/base",
      "model_module_version": "1.2.0",
      "model_name": "LayoutModel",
      "state": {}
     },
     "0870903c54164f2fb7c5e8d14a7b261c": {
      "model_module": "@jupyter-widgets/base",
      "model_module_version": "1.2.0",
      "model_name": "LayoutModel",
      "state": {}
     },
     "087450c2bb62432888c96a2ca7cecf33": {
      "model_module": "@jupyter-widgets/controls",
      "model_module_version": "1.5.0",
      "model_name": "DescriptionStyleModel",
      "state": {
       "description_width": ""
      }
     },
     "0896bdb148e94a2d96644a97cafb8757": {
      "model_module": "@jupyter-widgets/controls",
      "model_module_version": "1.5.0",
      "model_name": "ProgressStyleModel",
      "state": {
       "description_width": "initial"
      }
     },
     "089814377f4040509b64b6b72245c2a8": {
      "model_module": "@jupyter-widgets/controls",
      "model_module_version": "1.5.0",
      "model_name": "ProgressStyleModel",
      "state": {
       "description_width": "initial"
      }
     },
     "08baf3bb6d3b4bab86b30439fca46e77": {
      "model_module": "@jupyter-widgets/controls",
      "model_module_version": "1.5.0",
      "model_name": "HBoxModel",
      "state": {
       "children": [
        "IPY_MODEL_ca74ff5250df493587a0a0ae4752d4ed",
        "IPY_MODEL_5b1871dc030c47bcad2726e080440068"
       ],
       "layout": "IPY_MODEL_3df041f18e0542b58833fadc9e9f686b"
      }
     },
     "08c756f6bbc643e3b791479340cff38e": {
      "model_module": "@jupyter-widgets/controls",
      "model_module_version": "1.5.0",
      "model_name": "ProgressStyleModel",
      "state": {
       "description_width": "initial"
      }
     },
     "091b05e1003f4af28ad4a7a0dfcb07a1": {
      "model_module": "@jupyter-widgets/controls",
      "model_module_version": "1.5.0",
      "model_name": "HBoxModel",
      "state": {
       "children": [
        "IPY_MODEL_c5c4c045dc424a0aadd754de5ce69385",
        "IPY_MODEL_0393988914ab4d1d91dc3fd291e2cf69"
       ],
       "layout": "IPY_MODEL_d33e2e7d4d0a4abbb1ae7160104a6d6d"
      }
     },
     "092697fabcc44fd090c697f407bec179": {
      "model_module": "@jupyter-widgets/base",
      "model_module_version": "1.2.0",
      "model_name": "LayoutModel",
      "state": {}
     },
     "0932b886169f4bf7834349a544251b16": {
      "model_module": "@jupyter-widgets/base",
      "model_module_version": "1.2.0",
      "model_name": "LayoutModel",
      "state": {}
     },
     "095ee02ab7bf4a819fac5fb1997f11d6": {
      "model_module": "@jupyter-widgets/controls",
      "model_module_version": "1.5.0",
      "model_name": "IntProgressModel",
      "state": {
       "bar_style": "success",
       "description": "Epoch [37/40]: 100%",
       "layout": "IPY_MODEL_cc5e8febe36c4ad2bf19672a7b28dac7",
       "max": 241,
       "style": "IPY_MODEL_ac3a4576b37b48da87d4db5587d35347",
       "value": 241
      }
     },
     "096a6be964a44682837fa59393b9b015": {
      "model_module": "@jupyter-widgets/base",
      "model_module_version": "1.2.0",
      "model_name": "LayoutModel",
      "state": {}
     },
     "097b96d47a134189be36875a2ae1bc97": {
      "model_module": "@jupyter-widgets/controls",
      "model_module_version": "1.5.0",
      "model_name": "HTMLModel",
      "state": {
       "layout": "IPY_MODEL_5a48840711d346c0b278ad3efda7ed7d",
       "style": "IPY_MODEL_39b4f9569ca34fb688b55a547cfc50cb",
       "value": " 0/289 [00:00&lt;?, ?it/s]"
      }
     },
     "098af687605b4189aee78de847de5fd6": {
      "model_module": "@jupyter-widgets/base",
      "model_module_version": "1.2.0",
      "model_name": "LayoutModel",
      "state": {}
     },
     "09a9786ae9944e3fa3aa91c9da3068b7": {
      "model_module": "@jupyter-widgets/base",
      "model_module_version": "1.2.0",
      "model_name": "LayoutModel",
      "state": {}
     },
     "09d08ba5886148b2a66e4f5a7aa808fa": {
      "model_module": "@jupyter-widgets/base",
      "model_module_version": "1.2.0",
      "model_name": "LayoutModel",
      "state": {}
     },
     "09d3ba5b91e54af68f186112cdd53a23": {
      "model_module": "@jupyter-widgets/controls",
      "model_module_version": "1.5.0",
      "model_name": "DescriptionStyleModel",
      "state": {
       "description_width": ""
      }
     },
     "09fa32466f274a208c1dc931a75064d5": {
      "model_module": "@jupyter-widgets/controls",
      "model_module_version": "1.5.0",
      "model_name": "IntProgressModel",
      "state": {
       "bar_style": "success",
       "description": "Epoch [9/40]: 100%",
       "layout": "IPY_MODEL_c3df06abfb46442b8505fd25ccdb64dd",
       "max": 241,
       "style": "IPY_MODEL_2216b4a1148244e489e2f542ac3927ce",
       "value": 241
      }
     },
     "09fc6caf334140a3a4f4d6e7cfd2f4f6": {
      "model_module": "@jupyter-widgets/controls",
      "model_module_version": "1.5.0",
      "model_name": "HTMLModel",
      "state": {
       "layout": "IPY_MODEL_03dc6743864b4062a3bf7cc15486b829",
       "style": "IPY_MODEL_cfacd85255234c449c3d4479be99c82f",
       "value": " 241/241 [01:48&lt;00:00,  2.23it/s, acc=0.271, loss=1.54]"
      }
     },
     "0a4fb974e68545d1affdba80ff9c8546": {
      "model_module": "@jupyter-widgets/controls",
      "model_module_version": "1.5.0",
      "model_name": "HBoxModel",
      "state": {
       "children": [
        "IPY_MODEL_01639fdee15d4b6780ba5655433e0070",
        "IPY_MODEL_7b6a7605cef042cd9a3bcb4bdd62e647"
       ],
       "layout": "IPY_MODEL_bf8bf36df9cc49b6a9a78e3f85c6e3a2"
      }
     },
     "0a5388463a4f46f3bf4c6a162aea4744": {
      "model_module": "@jupyter-widgets/controls",
      "model_module_version": "1.5.0",
      "model_name": "HTMLModel",
      "state": {
       "layout": "IPY_MODEL_10931956026b4508af82b909bd02edc2",
       "style": "IPY_MODEL_9f7f93bd326b4a969368f40fc23d54ce",
       "value": " 241/241 [00:45&lt;00:00,  5.29it/s, acc=0.745, loss=0.409]"
      }
     },
     "0a5c5cf1df3b41328cf362127e79b7c9": {
      "model_module": "@jupyter-widgets/controls",
      "model_module_version": "1.5.0",
      "model_name": "HBoxModel",
      "state": {
       "children": [
        "IPY_MODEL_d62c68cfbe7e455f8b06728ebb239c03",
        "IPY_MODEL_75e157ac9c154243a80767fa95b6c92b"
       ],
       "layout": "IPY_MODEL_af291e3fedb442099b3e6f9fbf445395"
      }
     },
     "0a5f7494786d465781d6d2c5b352ab5b": {
      "model_module": "@jupyter-widgets/controls",
      "model_module_version": "1.5.0",
      "model_name": "DescriptionStyleModel",
      "state": {
       "description_width": ""
      }
     },
     "0a7b0a4635364d2b85b6627319a2a4ec": {
      "model_module": "@jupyter-widgets/base",
      "model_module_version": "1.2.0",
      "model_name": "LayoutModel",
      "state": {}
     },
     "0a7cf4bcbbef4a59a943aac272669f97": {
      "model_module": "@jupyter-widgets/base",
      "model_module_version": "1.2.0",
      "model_name": "LayoutModel",
      "state": {}
     },
     "0a82cb00217e4337b3e4397e3c059d67": {
      "model_module": "@jupyter-widgets/controls",
      "model_module_version": "1.5.0",
      "model_name": "DescriptionStyleModel",
      "state": {
       "description_width": ""
      }
     },
     "0a84d4ad97304a7181efb9e88c7a2155": {
      "model_module": "@jupyter-widgets/controls",
      "model_module_version": "1.5.0",
      "model_name": "HBoxModel",
      "state": {
       "children": [
        "IPY_MODEL_3a3edbc59a3e416a8413aac399b0f549",
        "IPY_MODEL_a346f829c04d421482d83a1fb9634fec"
       ],
       "layout": "IPY_MODEL_9f5fcb8a92e047e597cfc5e5087faf91"
      }
     },
     "0a8a500536244717962e2a1d017d1012": {
      "model_module": "@jupyter-widgets/base",
      "model_module_version": "1.2.0",
      "model_name": "LayoutModel",
      "state": {}
     },
     "0ac0be6cdfee4c5aa774bc89dad77ad1": {
      "model_module": "@jupyter-widgets/controls",
      "model_module_version": "1.5.0",
      "model_name": "IntProgressModel",
      "state": {
       "bar_style": "success",
       "description": "Epoch [2/5]: 100%",
       "layout": "IPY_MODEL_6cacbab916a743e69f7b053497398c32",
       "max": 283,
       "style": "IPY_MODEL_355c23ab94cf4e41841fbdf6827f5b37",
       "value": 283
      }
     },
     "0aea756ae4ed4664a477623116b6eb42": {
      "model_module": "@jupyter-widgets/controls",
      "model_module_version": "1.5.0",
      "model_name": "ProgressStyleModel",
      "state": {
       "description_width": "initial"
      }
     },
     "0aecdd247737419ca88f0eca5717fb48": {
      "model_module": "@jupyter-widgets/base",
      "model_module_version": "1.2.0",
      "model_name": "LayoutModel",
      "state": {}
     },
     "0af19800b66d48dd833bb9b6d1d9b76d": {
      "model_module": "@jupyter-widgets/controls",
      "model_module_version": "1.5.0",
      "model_name": "HBoxModel",
      "state": {
       "children": [
        "IPY_MODEL_e7170faad4754317a522f49dbebc906f",
        "IPY_MODEL_a737aa406ce642949eee54143a73e52c"
       ],
       "layout": "IPY_MODEL_1709750e5a96481697909cc9b01a8b3c"
      }
     },
     "0b6571b6c0774c12a5974ef3ebf446a6": {
      "model_module": "@jupyter-widgets/controls",
      "model_module_version": "1.5.0",
      "model_name": "DescriptionStyleModel",
      "state": {
       "description_width": ""
      }
     },
     "0b82a1ca17084a9e9b92707059d9fa1d": {
      "model_module": "@jupyter-widgets/controls",
      "model_module_version": "1.5.0",
      "model_name": "HBoxModel",
      "state": {
       "children": [
        "IPY_MODEL_29e0297aecc84808b47182d15b29a37c",
        "IPY_MODEL_7355906d04ca4e59a1b06577c68c758a"
       ],
       "layout": "IPY_MODEL_3e5eb2a4b35f424fb6a622f500e5f294"
      }
     },
     "0ba928b4fd3e4094b83575d82652090f": {
      "model_module": "@jupyter-widgets/controls",
      "model_module_version": "1.5.0",
      "model_name": "HBoxModel",
      "state": {
       "children": [
        "IPY_MODEL_0f28c8ca55b84e6998340852fbfad93d",
        "IPY_MODEL_2652a9c3a4ff4f239225a6b12694b375"
       ],
       "layout": "IPY_MODEL_02dc33892439454188fb073a161d6b2c"
      }
     },
     "0bb6076387614e7e8c304d375b61a6ec": {
      "model_module": "@jupyter-widgets/controls",
      "model_module_version": "1.5.0",
      "model_name": "HBoxModel",
      "state": {
       "children": [
        "IPY_MODEL_4db4dfceff1b48d7b17ed86a08def91f",
        "IPY_MODEL_876769f892b44254ae6866386755f8ec"
       ],
       "layout": "IPY_MODEL_4b0ea944da174126a845e441a2cf54cb"
      }
     },
     "0bb68470949e42279b54e2aa151ece53": {
      "model_module": "@jupyter-widgets/base",
      "model_module_version": "1.2.0",
      "model_name": "LayoutModel",
      "state": {}
     },
     "0bff57df135b4ac08204ef6f165d1bf8": {
      "model_module": "@jupyter-widgets/controls",
      "model_module_version": "1.5.0",
      "model_name": "IntProgressModel",
      "state": {
       "bar_style": "success",
       "description": "Epoch [2/40]: 100%",
       "layout": "IPY_MODEL_71d6584c1fb24a68ade653ff8114b4b1",
       "max": 241,
       "style": "IPY_MODEL_95999ff88e364d068f0ec4a84bc30c19",
       "value": 241
      }
     },
     "0c15679bf8c14ee29aefb841da6ddc86": {
      "model_module": "@jupyter-widgets/controls",
      "model_module_version": "1.5.0",
      "model_name": "IntProgressModel",
      "state": {
       "bar_style": "success",
       "description": "Epoch [35/40]: 100%",
       "layout": "IPY_MODEL_7f89ebee276b42c985650a2d25887280",
       "max": 255,
       "style": "IPY_MODEL_0896bdb148e94a2d96644a97cafb8757",
       "value": 255
      }
     },
     "0c3facec9134404b86c2bcd320fa49d7": {
      "model_module": "@jupyter-widgets/controls",
      "model_module_version": "1.5.0",
      "model_name": "HBoxModel",
      "state": {
       "children": [
        "IPY_MODEL_f1701f59fc8a4374987d79e857009007",
        "IPY_MODEL_81d3d27fa0a24abcaef8e2e4527cad5c"
       ],
       "layout": "IPY_MODEL_2add613cb1ea47cea1d11be6bfa0bbbb"
      }
     },
     "0c4f0e7cd84b40d18e8e7ab44c440586": {
      "model_module": "@jupyter-widgets/base",
      "model_module_version": "1.2.0",
      "model_name": "LayoutModel",
      "state": {}
     },
     "0c6cb8705f174ca38da04f1f8073a429": {
      "model_module": "@jupyter-widgets/controls",
      "model_module_version": "1.5.0",
      "model_name": "IntProgressModel",
      "state": {
       "bar_style": "success",
       "description": "Epoch [26/40]: 100%",
       "layout": "IPY_MODEL_3901e545a3f0419085c6b558ab7777dd",
       "max": 338,
       "style": "IPY_MODEL_6ac7ac68f01d4bf89a609fc62a14e3f3",
       "value": 338
      }
     },
     "0c71e4db24504671973d75c16f691817": {
      "model_module": "@jupyter-widgets/base",
      "model_module_version": "1.2.0",
      "model_name": "LayoutModel",
      "state": {}
     },
     "0c72ae24e38e42da86d68c93c3076f95": {
      "model_module": "@jupyter-widgets/base",
      "model_module_version": "1.2.0",
      "model_name": "LayoutModel",
      "state": {}
     },
     "0c9af3b0e9bc4606b90f8f91ecac83bd": {
      "model_module": "@jupyter-widgets/controls",
      "model_module_version": "1.5.0",
      "model_name": "ProgressStyleModel",
      "state": {
       "description_width": "initial"
      }
     },
     "0d082f07375e45f09a379fb199c330a9": {
      "model_module": "@jupyter-widgets/base",
      "model_module_version": "1.2.0",
      "model_name": "LayoutModel",
      "state": {}
     },
     "0d623f16c85945a0a3dc236d13505585": {
      "model_module": "@jupyter-widgets/controls",
      "model_module_version": "1.5.0",
      "model_name": "ProgressStyleModel",
      "state": {
       "description_width": "initial"
      }
     },
     "0d6d72631c4a43c5b7460c1429839028": {
      "model_module": "@jupyter-widgets/controls",
      "model_module_version": "1.5.0",
      "model_name": "HBoxModel",
      "state": {
       "children": [
        "IPY_MODEL_c11fee162b594b4387028e2e1ca4d0c7",
        "IPY_MODEL_9a0248132866457780ac61805c693121"
       ],
       "layout": "IPY_MODEL_b16e97bd08784873810a99497ea7674a"
      }
     },
     "0d708c5cd8734a0eafae14e024b464f3": {
      "model_module": "@jupyter-widgets/base",
      "model_module_version": "1.2.0",
      "model_name": "LayoutModel",
      "state": {}
     },
     "0d962961d16d447a9c3c279565ff1e92": {
      "model_module": "@jupyter-widgets/controls",
      "model_module_version": "1.5.0",
      "model_name": "ProgressStyleModel",
      "state": {
       "description_width": ""
      }
     },
     "0da9c0e486ff448183376c3babb77e39": {
      "model_module": "@jupyter-widgets/controls",
      "model_module_version": "1.5.0",
      "model_name": "DescriptionStyleModel",
      "state": {
       "description_width": ""
      }
     },
     "0df9d3968af84c579f993d67a9e56a4b": {
      "model_module": "@jupyter-widgets/base",
      "model_module_version": "1.2.0",
      "model_name": "LayoutModel",
      "state": {}
     },
     "0e155fa6ba8145afaeda954260d02bbf": {
      "model_module": "@jupyter-widgets/controls",
      "model_module_version": "1.5.0",
      "model_name": "HTMLModel",
      "state": {
       "layout": "IPY_MODEL_d6dbc0972a92400796a93b890b0723e0",
       "style": "IPY_MODEL_ee8e221ce07a4f2190f30ab62fbb61e1",
       "value": " 289/289 [01:47&lt;00:00,  2.68it/s, acc=0.988, loss=0.0201]"
      }
     },
     "0e16bf239ca74be687be6638cfc6c056": {
      "model_module": "@jupyter-widgets/base",
      "model_module_version": "1.2.0",
      "model_name": "LayoutModel",
      "state": {}
     },
     "0e2cc82eaca0409f9361b403c626ed0f": {
      "model_module": "@jupyter-widgets/base",
      "model_module_version": "1.2.0",
      "model_name": "LayoutModel",
      "state": {}
     },
     "0e883bde970d4c4ab9ade4032894d388": {
      "model_module": "@jupyter-widgets/base",
      "model_module_version": "1.2.0",
      "model_name": "LayoutModel",
      "state": {}
     },
     "0e98adce9e484a04b3ba801f50043b64": {
      "model_module": "@jupyter-widgets/controls",
      "model_module_version": "1.5.0",
      "model_name": "DescriptionStyleModel",
      "state": {
       "description_width": ""
      }
     },
     "0eaccbf08cd74319baf2fcb695688cf1": {
      "model_module": "@jupyter-widgets/controls",
      "model_module_version": "1.5.0",
      "model_name": "IntProgressModel",
      "state": {
       "bar_style": "success",
       "description": "Epoch [25/40]: 100%",
       "layout": "IPY_MODEL_32b1c224f2d2401d985db4abd1f9feba",
       "max": 338,
       "style": "IPY_MODEL_b736aceab10d4df493a7f11282bace8c",
       "value": 338
      }
     },
     "0eae86ed0b9942f59164c723b22417ec": {
      "model_module": "@jupyter-widgets/controls",
      "model_module_version": "1.5.0",
      "model_name": "HTMLModel",
      "state": {
       "layout": "IPY_MODEL_3092e235f9c74407a9e9832e6b533846",
       "style": "IPY_MODEL_e12c696b403f4e6eb905fd4d3cc373a4",
       "value": " 338/338 [00:37&lt;00:00,  9.05it/s, acc=0.985, loss=0.0201]"
      }
     },
     "0eb43ad3c1ee44509496bcf2bbafb7c8": {
      "model_module": "@jupyter-widgets/controls",
      "model_module_version": "1.5.0",
      "model_name": "HBoxModel",
      "state": {
       "children": [
        "IPY_MODEL_c49d0e5f337e4ce29d0692892d9ce47f",
        "IPY_MODEL_1fb04bdb9cef4a7cbf754ca9e4211c2a"
       ],
       "layout": "IPY_MODEL_8d193e6b63a84a5a90eeb328287dd1bd"
      }
     },
     "0ecd25c53d8749ffb941dbc0cef4dc17": {
      "model_module": "@jupyter-widgets/controls",
      "model_module_version": "1.5.0",
      "model_name": "DescriptionStyleModel",
      "state": {
       "description_width": ""
      }
     },
     "0ed7273504da4b889d2690c3ca292720": {
      "model_module": "@jupyter-widgets/base",
      "model_module_version": "1.2.0",
      "model_name": "LayoutModel",
      "state": {}
     },
     "0ee2db1461c94e0cb70d6559677010f4": {
      "model_module": "@jupyter-widgets/controls",
      "model_module_version": "1.5.0",
      "model_name": "HBoxModel",
      "state": {
       "children": [
        "IPY_MODEL_02122b57f19b47539f1232cd8e5adec0",
        "IPY_MODEL_7a3034cdbe864490892a79d10cb88af6"
       ],
       "layout": "IPY_MODEL_5ba35898815542e1b7ecdec9b12f3868"
      }
     },
     "0f28c8ca55b84e6998340852fbfad93d": {
      "model_module": "@jupyter-widgets/controls",
      "model_module_version": "1.5.0",
      "model_name": "IntProgressModel",
      "state": {
       "bar_style": "success",
       "description": "Epoch [13/100]: 100%",
       "layout": "IPY_MODEL_082e41896b5c43068f2ab97ce78747fc",
       "max": 289,
       "style": "IPY_MODEL_29b029a1a2d3408a9eaee0422ed38b85",
       "value": 289
      }
     },
     "0f476c475f144347913f072eb1b370c2": {
      "model_module": "@jupyter-widgets/base",
      "model_module_version": "1.2.0",
      "model_name": "LayoutModel",
      "state": {}
     },
     "0f655d610bba42fbab887c03e109e8eb": {
      "model_module": "@jupyter-widgets/base",
      "model_module_version": "1.2.0",
      "model_name": "LayoutModel",
      "state": {}
     },
     "0f7a92e441c24e01b03eb1fe296ee293": {
      "model_module": "@jupyter-widgets/base",
      "model_module_version": "1.2.0",
      "model_name": "LayoutModel",
      "state": {}
     },
     "0f7f9415fedd4532b7f8c3ebfd4a5fba": {
      "model_module": "@jupyter-widgets/base",
      "model_module_version": "1.2.0",
      "model_name": "LayoutModel",
      "state": {}
     },
     "0f93ba755b2b497eba79b6fdfd3b6c89": {
      "model_module": "@jupyter-widgets/controls",
      "model_module_version": "1.5.0",
      "model_name": "HTMLModel",
      "state": {
       "layout": "IPY_MODEL_189e3638138d46bf9daedc39a3f7b204",
       "style": "IPY_MODEL_558e3c995e114835b6d8d81899bdef5e",
       "value": " 289/289 [01:59&lt;00:00,  2.41it/s, acc=0.977, loss=0.056]"
      }
     },
     "0fcd679425a54b2fa64cfd3944fd8f47": {
      "model_module": "@jupyter-widgets/controls",
      "model_module_version": "1.5.0",
      "model_name": "IntProgressModel",
      "state": {
       "bar_style": "success",
       "description": "Epoch [12/40]: 100%",
       "layout": "IPY_MODEL_8423af4d692e4caf904dd44ba7f06930",
       "max": 289,
       "style": "IPY_MODEL_089814377f4040509b64b6b72245c2a8",
       "value": 289
      }
     },
     "1012903e0cdd4dba90068e7bf426f003": {
      "model_module": "@jupyter-widgets/base",
      "model_module_version": "1.2.0",
      "model_name": "LayoutModel",
      "state": {}
     },
     "102f361b68054f80835548550b7312f1": {
      "model_module": "@jupyter-widgets/controls",
      "model_module_version": "1.5.0",
      "model_name": "DescriptionStyleModel",
      "state": {
       "description_width": ""
      }
     },
     "103a6c10b8d840f3a865ebebbf23cebd": {
      "model_module": "@jupyter-widgets/base",
      "model_module_version": "1.2.0",
      "model_name": "LayoutModel",
      "state": {}
     },
     "103f40ead0ad454c905ddf52f5edcaaa": {
      "model_module": "@jupyter-widgets/controls",
      "model_module_version": "1.5.0",
      "model_name": "ProgressStyleModel",
      "state": {
       "description_width": "initial"
      }
     },
     "10416a4faebc48daa82005badbf21c4d": {
      "model_module": "@jupyter-widgets/controls",
      "model_module_version": "1.5.0",
      "model_name": "ProgressStyleModel",
      "state": {
       "description_width": "initial"
      }
     },
     "10589ec6650849e5be5091357628ac21": {
      "model_module": "@jupyter-widgets/base",
      "model_module_version": "1.2.0",
      "model_name": "LayoutModel",
      "state": {}
     },
     "10931956026b4508af82b909bd02edc2": {
      "model_module": "@jupyter-widgets/base",
      "model_module_version": "1.2.0",
      "model_name": "LayoutModel",
      "state": {}
     },
     "10a8dcfceed2457087c4f70daf396d03": {
      "model_module": "@jupyter-widgets/base",
      "model_module_version": "1.2.0",
      "model_name": "LayoutModel",
      "state": {}
     },
     "10b59372d14b4321878b3895fadd77ff": {
      "model_module": "@jupyter-widgets/controls",
      "model_module_version": "1.5.0",
      "model_name": "ProgressStyleModel",
      "state": {
       "description_width": "initial"
      }
     },
     "1108583d93e14845af931b1b36237581": {
      "model_module": "@jupyter-widgets/controls",
      "model_module_version": "1.5.0",
      "model_name": "HBoxModel",
      "state": {
       "children": [
        "IPY_MODEL_04974bf192d24a6585ce0fc52bb2aec0",
        "IPY_MODEL_849dd89eb2364bb7bf20011b4eb5435f"
       ],
       "layout": "IPY_MODEL_9cf63f65978f409095aff82bc8090c4e"
      }
     },
     "110c6a08cc6f4689bcaa1ddde8158a48": {
      "model_module": "@jupyter-widgets/controls",
      "model_module_version": "1.5.0",
      "model_name": "HTMLModel",
      "state": {
       "layout": "IPY_MODEL_6e711056b26d48a5891ff23ce5ef2ee2",
       "style": "IPY_MODEL_54ef3100e60945588b0806f02f975fde",
       "value": " 289/289 [01:46&lt;00:00,  2.70it/s, acc=0.973, loss=0.0749]"
      }
     },
     "1113318dfdb24490a3b40741af323d3d": {
      "model_module": "@jupyter-widgets/controls",
      "model_module_version": "1.5.0",
      "model_name": "HBoxModel",
      "state": {
       "children": [
        "IPY_MODEL_ed027b7a16e049ca907161dd094c5039",
        "IPY_MODEL_191ea45e5e174d0f819b1d470b66ce40"
       ],
       "layout": "IPY_MODEL_257bc47627af4881a02e4adeba0c0c0a"
      }
     },
     "1172b492f1834cc89e6cf0a1f2447bdb": {
      "model_module": "@jupyter-widgets/base",
      "model_module_version": "1.2.0",
      "model_name": "LayoutModel",
      "state": {}
     },
     "11831c76d70a4d5d9ce1a52902a8c240": {
      "model_module": "@jupyter-widgets/controls",
      "model_module_version": "1.5.0",
      "model_name": "ProgressStyleModel",
      "state": {
       "description_width": "initial"
      }
     },
     "119992c99fe34ad59db84f1b95515bf7": {
      "model_module": "@jupyter-widgets/controls",
      "model_module_version": "1.5.0",
      "model_name": "HTMLModel",
      "state": {
       "layout": "IPY_MODEL_45978bef081844bcad96a5a438179a49",
       "style": "IPY_MODEL_ca1539bec8ae42d1995f54a467338972",
       "value": " 338/338 [01:22&lt;00:00,  4.12it/s, acc=0.985, loss=0.076]"
      }
     },
     "11a4f556e3ed4fcf9b536da467a17204": {
      "model_module": "@jupyter-widgets/base",
      "model_module_version": "1.2.0",
      "model_name": "LayoutModel",
      "state": {}
     },
     "11ae42cc869545afbaac62d5d4517df7": {
      "model_module": "@jupyter-widgets/base",
      "model_module_version": "1.2.0",
      "model_name": "LayoutModel",
      "state": {}
     },
     "11dfcb185a7c46e68f23a46f062b34b1": {
      "model_module": "@jupyter-widgets/controls",
      "model_module_version": "1.5.0",
      "model_name": "HBoxModel",
      "state": {
       "children": [
        "IPY_MODEL_cb847cc09cf141f89c54c1f37ab734a7",
        "IPY_MODEL_d282c389040d4c0ca587c26f22865fe7"
       ],
       "layout": "IPY_MODEL_4a14f5bb099f4ecdbb24d5fbdb0fa5b5"
      }
     },
     "11f46b3ce9e84bdba9c2e9b0c69b470c": {
      "model_module": "@jupyter-widgets/base",
      "model_module_version": "1.2.0",
      "model_name": "LayoutModel",
      "state": {}
     },
     "122bd876d8a94faf89a891114ef8220c": {
      "model_module": "@jupyter-widgets/base",
      "model_module_version": "1.2.0",
      "model_name": "LayoutModel",
      "state": {}
     },
     "1238acc68eab4bd8a0f80b54873795c8": {
      "model_module": "@jupyter-widgets/base",
      "model_module_version": "1.2.0",
      "model_name": "LayoutModel",
      "state": {}
     },
     "12a223b738244e54b9a6a7673e8758f8": {
      "model_module": "@jupyter-widgets/controls",
      "model_module_version": "1.5.0",
      "model_name": "HBoxModel",
      "state": {
       "children": [
        "IPY_MODEL_fd8ed01ab14f464c8b22c202987bb099",
        "IPY_MODEL_e4c9f865f1ab4f3aaa9e4d848ca8f20f"
       ],
       "layout": "IPY_MODEL_a877cf5e9acc464eae91ff9cf55c15d8"
      }
     },
     "12ceed9212184f0a8ed22a1c9554f74e": {
      "model_module": "@jupyter-widgets/base",
      "model_module_version": "1.2.0",
      "model_name": "LayoutModel",
      "state": {}
     },
     "12ecda2e6fdf4bd7908913f3899ee011": {
      "model_module": "@jupyter-widgets/controls",
      "model_module_version": "1.5.0",
      "model_name": "DescriptionStyleModel",
      "state": {
       "description_width": ""
      }
     },
     "12eeec86c7664effa35296cd9c64d5c1": {
      "model_module": "@jupyter-widgets/controls",
      "model_module_version": "1.5.0",
      "model_name": "DescriptionStyleModel",
      "state": {
       "description_width": ""
      }
     },
     "130ad79bb62b43f3a7efa122dc6b21e5": {
      "model_module": "@jupyter-widgets/base",
      "model_module_version": "1.2.0",
      "model_name": "LayoutModel",
      "state": {}
     },
     "13133c3b0cb24f60aff1a8e107fbd526": {
      "model_module": "@jupyter-widgets/base",
      "model_module_version": "1.2.0",
      "model_name": "LayoutModel",
      "state": {}
     },
     "131b705ff54f49739c7d4ca6fe13c8d4": {
      "model_module": "@jupyter-widgets/base",
      "model_module_version": "1.2.0",
      "model_name": "LayoutModel",
      "state": {}
     },
     "131cf029889e4f538f0ad7172f85a814": {
      "model_module": "@jupyter-widgets/base",
      "model_module_version": "1.2.0",
      "model_name": "LayoutModel",
      "state": {}
     },
     "131e25581aa947aa85467da73320ebd0": {
      "model_module": "@jupyter-widgets/controls",
      "model_module_version": "1.5.0",
      "model_name": "IntProgressModel",
      "state": {
       "bar_style": "success",
       "description": "Epoch [4/40]: 100%",
       "layout": "IPY_MODEL_c7ff6850a2654a8fa2fb4b4373f3bf90",
       "max": 338,
       "style": "IPY_MODEL_b661371ab81144618965e8961407a618",
       "value": 338
      }
     },
     "1320fc212d5644369b07875434f78dfe": {
      "model_module": "@jupyter-widgets/controls",
      "model_module_version": "1.5.0",
      "model_name": "ProgressStyleModel",
      "state": {
       "description_width": "initial"
      }
     },
     "1325dc6e04b842068422fc09e51cfaa0": {
      "model_module": "@jupyter-widgets/base",
      "model_module_version": "1.2.0",
      "model_name": "LayoutModel",
      "state": {}
     },
     "1337b6602909435f9a42d01bbe05fe00": {
      "model_module": "@jupyter-widgets/controls",
      "model_module_version": "1.5.0",
      "model_name": "HBoxModel",
      "state": {
       "children": [
        "IPY_MODEL_a806c78eff384bf0a5be506e35db2ef2",
        "IPY_MODEL_8dc430df94944970803f26e8c9ea590d"
       ],
       "layout": "IPY_MODEL_2e7aee65d19748dfbd58381309a9b185"
      }
     },
     "13475e4c8a6d4546a23d61cb3338f9c3": {
      "model_module": "@jupyter-widgets/controls",
      "model_module_version": "1.5.0",
      "model_name": "DescriptionStyleModel",
      "state": {
       "description_width": ""
      }
     },
     "1391fd74b9a54f0caab661b3587a60cd": {
      "model_module": "@jupyter-widgets/base",
      "model_module_version": "1.2.0",
      "model_name": "LayoutModel",
      "state": {}
     },
     "1393f3ed2dd0492c8b835369f1548315": {
      "model_module": "@jupyter-widgets/controls",
      "model_module_version": "1.5.0",
      "model_name": "HBoxModel",
      "state": {
       "children": [
        "IPY_MODEL_6a3030f0da654b09a8f2dda82d63e74e",
        "IPY_MODEL_e00add41df064b93bec0fff6bceedbf3"
       ],
       "layout": "IPY_MODEL_b029d65264d74e8fb54c53ce014edb89"
      }
     },
     "139e127a08ed4264af38e7ae964a5e88": {
      "model_module": "@jupyter-widgets/controls",
      "model_module_version": "1.5.0",
      "model_name": "HBoxModel",
      "state": {
       "children": [
        "IPY_MODEL_cf511d3fb7a84314b24060198e07b917",
        "IPY_MODEL_dda5c81c264a47cb916119006a7ef4d4"
       ],
       "layout": "IPY_MODEL_ab70f2b0f99a44cebebc55bf2ebffb3a"
      }
     },
     "13b89948a3b849ccb6a5dcbb939c390f": {
      "model_module": "@jupyter-widgets/controls",
      "model_module_version": "1.5.0",
      "model_name": "HBoxModel",
      "state": {
       "children": [
        "IPY_MODEL_18ab842139e84bd6bb2a87e09ee3de74",
        "IPY_MODEL_ed021b3310de47198ab2a5ec53ef3d0f"
       ],
       "layout": "IPY_MODEL_ea9910372299461d9042bbe8bbd5dd82"
      }
     },
     "13dfe68da745414eb07a6b5816725e25": {
      "model_module": "@jupyter-widgets/controls",
      "model_module_version": "1.5.0",
      "model_name": "ProgressStyleModel",
      "state": {
       "description_width": "initial"
      }
     },
     "13ea553863dd40e6a718f32d849842c9": {
      "model_module": "@jupyter-widgets/controls",
      "model_module_version": "1.5.0",
      "model_name": "HBoxModel",
      "state": {
       "children": [
        "IPY_MODEL_3b1953ac6fde49bfaa5e2ee760d0ed62",
        "IPY_MODEL_c287d9ab28d340a48e8e16db6103f876"
       ],
       "layout": "IPY_MODEL_5045a2c6e6ec433c92dc20d24142c916"
      }
     },
     "1401458bc1014f2c9cd000392346a855": {
      "model_module": "@jupyter-widgets/controls",
      "model_module_version": "1.5.0",
      "model_name": "IntProgressModel",
      "state": {
       "bar_style": "success",
       "description": "Epoch [15/40]: 100%",
       "layout": "IPY_MODEL_521b2892274348678df36b027f02d9fd",
       "max": 241,
       "style": "IPY_MODEL_a88a2194235947aa8f2e8d5d10aef55c",
       "value": 241
      }
     },
     "1453958c95ee490783600dc4365c6d88": {
      "model_module": "@jupyter-widgets/controls",
      "model_module_version": "1.5.0",
      "model_name": "ProgressStyleModel",
      "state": {
       "description_width": "initial"
      }
     },
     "147d44397aa04be7a18050cc2d243861": {
      "model_module": "@jupyter-widgets/controls",
      "model_module_version": "1.5.0",
      "model_name": "IntProgressModel",
      "state": {
       "bar_style": "success",
       "description": "Epoch [7/40]: 100%",
       "layout": "IPY_MODEL_31ff6c100a194700a85b8103074e9fbc",
       "max": 361,
       "style": "IPY_MODEL_b7a43967ac6b49348e68697087c74b96",
       "value": 361
      }
     },
     "14a61ff5d50647499caec3d0a8215644": {
      "model_module": "@jupyter-widgets/controls",
      "model_module_version": "1.5.0",
      "model_name": "DescriptionStyleModel",
      "state": {
       "description_width": ""
      }
     },
     "14e57d76bddb452d8e0d3f53b4f063e1": {
      "model_module": "@jupyter-widgets/controls",
      "model_module_version": "1.5.0",
      "model_name": "HBoxModel",
      "state": {
       "children": [
        "IPY_MODEL_aa81318c242c4391a585112b44e1cce2",
        "IPY_MODEL_64d2be1a9a144c8ea6f0f4562b94951d"
       ],
       "layout": "IPY_MODEL_58a4eb0356314f7aa742785932b86ae8"
      }
     },
     "14ff791ff7ef49e0a7d0a02d9a0f1272": {
      "model_module": "@jupyter-widgets/controls",
      "model_module_version": "1.5.0",
      "model_name": "IntProgressModel",
      "state": {
       "bar_style": "success",
       "description": "Epoch [22/40]: 100%",
       "layout": "IPY_MODEL_9d6c3bfa457b41189ea5970304e6ae50",
       "max": 241,
       "style": "IPY_MODEL_775deb0ee185431e8373f0ca77d29afd",
       "value": 241
      }
     },
     "15064251ff13417797d74a612d1d0169": {
      "model_module": "@jupyter-widgets/base",
      "model_module_version": "1.2.0",
      "model_name": "LayoutModel",
      "state": {}
     },
     "151bb9a908c14d8f81e0145b585cdc9c": {
      "model_module": "@jupyter-widgets/controls",
      "model_module_version": "1.5.0",
      "model_name": "IntProgressModel",
      "state": {
       "bar_style": "success",
       "description": "Epoch [36/40]: 100%",
       "layout": "IPY_MODEL_494685da00194c83ad627307cafebd71",
       "max": 241,
       "style": "IPY_MODEL_e91a8e276ec14981b38fbc850ef6141b",
       "value": 241
      }
     },
     "154a409a00b546e2baf9c1c8130f9ae4": {
      "model_module": "@jupyter-widgets/controls",
      "model_module_version": "1.5.0",
      "model_name": "IntProgressModel",
      "state": {
       "bar_style": "success",
       "description": "Epoch [35/40]: 100%",
       "layout": "IPY_MODEL_b815042fb6284d92b221e1ec9c08911c",
       "max": 338,
       "style": "IPY_MODEL_6d1e8bfac44d451180d5e7e6f455e3c6",
       "value": 338
      }
     },
     "1553f2f655994708b881348cf2f114cf": {
      "model_module": "@jupyter-widgets/base",
      "model_module_version": "1.2.0",
      "model_name": "LayoutModel",
      "state": {}
     },
     "1555966fcbcd493c9ad8f3cbcdee645b": {
      "model_module": "@jupyter-widgets/base",
      "model_module_version": "1.2.0",
      "model_name": "LayoutModel",
      "state": {}
     },
     "1572f75d983f43b09d2a9cc836bcfe67": {
      "model_module": "@jupyter-widgets/controls",
      "model_module_version": "1.5.0",
      "model_name": "DescriptionStyleModel",
      "state": {
       "description_width": ""
      }
     },
     "1576468bc6894d1f95cc5412fbff5754": {
      "model_module": "@jupyter-widgets/base",
      "model_module_version": "1.2.0",
      "model_name": "LayoutModel",
      "state": {}
     },
     "157743c184ce42e6b8f00b0e22010c9b": {
      "model_module": "@jupyter-widgets/base",
      "model_module_version": "1.2.0",
      "model_name": "LayoutModel",
      "state": {}
     },
     "157dccf0857140e2b9b1cbafa4e39509": {
      "model_module": "@jupyter-widgets/controls",
      "model_module_version": "1.5.0",
      "model_name": "HTMLModel",
      "state": {
       "layout": "IPY_MODEL_96c3a093040d427ea21cc7cc8ef2e03f",
       "style": "IPY_MODEL_98dbde3f16a44d2bbafc785855cd8f8d",
       "value": " 241/241 [01:05&lt;00:00,  3.69it/s, acc=0.977, loss=0.092]"
      }
     },
     "1587ac07c6f44109b7d5e318bdc77a0b": {
      "model_module": "@jupyter-widgets/base",
      "model_module_version": "1.2.0",
      "model_name": "LayoutModel",
      "state": {}
     },
     "15e117a859d34d1a8c339cbd92d113cd": {
      "model_module": "@jupyter-widgets/controls",
      "model_module_version": "1.5.0",
      "model_name": "ProgressStyleModel",
      "state": {
       "description_width": ""
      }
     },
     "15e1666d81954fa09b8884de10a44272": {
      "model_module": "@jupyter-widgets/controls",
      "model_module_version": "1.5.0",
      "model_name": "HTMLModel",
      "state": {
       "layout": "IPY_MODEL_16c7a82fd1fe4f1ea518d097d396d89a",
       "style": "IPY_MODEL_0da9c0e486ff448183376c3babb77e39",
       "value": " 255/255 [01:58&lt;00:00,  2.15it/s, acc=0.954, loss=0.192]"
      }
     },
     "16119af91b6e49639cab3190842fc827": {
      "model_module": "@jupyter-widgets/controls",
      "model_module_version": "1.5.0",
      "model_name": "ProgressStyleModel",
      "state": {
       "description_width": "initial"
      }
     },
     "161a0e2250374f5fb776b35496e69198": {
      "model_module": "@jupyter-widgets/base",
      "model_module_version": "1.2.0",
      "model_name": "LayoutModel",
      "state": {}
     },
     "165a9894c5da48829a04130dd9297a29": {
      "model_module": "@jupyter-widgets/controls",
      "model_module_version": "1.5.0",
      "model_name": "DescriptionStyleModel",
      "state": {
       "description_width": ""
      }
     },
     "1688ce5b8c2543f7b7dad007596f80d2": {
      "model_module": "@jupyter-widgets/base",
      "model_module_version": "1.2.0",
      "model_name": "LayoutModel",
      "state": {}
     },
     "16c7a82fd1fe4f1ea518d097d396d89a": {
      "model_module": "@jupyter-widgets/base",
      "model_module_version": "1.2.0",
      "model_name": "LayoutModel",
      "state": {}
     },
     "16eaad0771cf4a399d26ddbd8302e273": {
      "model_module": "@jupyter-widgets/controls",
      "model_module_version": "1.5.0",
      "model_name": "DescriptionStyleModel",
      "state": {
       "description_width": ""
      }
     },
     "1703bc161c9345cc8faf127bbe724b98": {
      "model_module": "@jupyter-widgets/base",
      "model_module_version": "1.2.0",
      "model_name": "LayoutModel",
      "state": {}
     },
     "1709750e5a96481697909cc9b01a8b3c": {
      "model_module": "@jupyter-widgets/base",
      "model_module_version": "1.2.0",
      "model_name": "LayoutModel",
      "state": {}
     },
     "170d9c27331044498bed2ba141d0d725": {
      "model_module": "@jupyter-widgets/base",
      "model_module_version": "1.2.0",
      "model_name": "LayoutModel",
      "state": {}
     },
     "1725845bf591452e84653acdf7c56c37": {
      "model_module": "@jupyter-widgets/base",
      "model_module_version": "1.2.0",
      "model_name": "LayoutModel",
      "state": {}
     },
     "176d05beceda4440af19eba11bd6fa97": {
      "model_module": "@jupyter-widgets/base",
      "model_module_version": "1.2.0",
      "model_name": "LayoutModel",
      "state": {}
     },
     "17a6c7c13aca4f58833233c8a7e0c495": {
      "model_module": "@jupyter-widgets/base",
      "model_module_version": "1.2.0",
      "model_name": "LayoutModel",
      "state": {}
     },
     "17a716fcf09d4423bdf809586d16dcda": {
      "model_module": "@jupyter-widgets/controls",
      "model_module_version": "1.5.0",
      "model_name": "IntProgressModel",
      "state": {
       "bar_style": "success",
       "description": "Epoch [21/40]: 100%",
       "layout": "IPY_MODEL_3dcfa4dda8ed4bf78647127f643ad599",
       "max": 361,
       "style": "IPY_MODEL_d5a891e3f8ac4eefbc03f7101da2c947",
       "value": 361
      }
     },
     "17ad8f2288fc4474a788ff80972a8f02": {
      "model_module": "@jupyter-widgets/controls",
      "model_module_version": "1.5.0",
      "model_name": "ProgressStyleModel",
      "state": {
       "description_width": "initial"
      }
     },
     "17cff444bfd84ac7b064b52758d90cf6": {
      "model_module": "@jupyter-widgets/base",
      "model_module_version": "1.2.0",
      "model_name": "LayoutModel",
      "state": {}
     },
     "17d96c798000430baf2642b357c6fe85": {
      "model_module": "@jupyter-widgets/base",
      "model_module_version": "1.2.0",
      "model_name": "LayoutModel",
      "state": {}
     },
     "17dd381ebcc941f79266b5840a0da8ee": {
      "model_module": "@jupyter-widgets/controls",
      "model_module_version": "1.5.0",
      "model_name": "IntProgressModel",
      "state": {
       "bar_style": "success",
       "description": "Epoch [40/40]: 100%",
       "layout": "IPY_MODEL_d3e6788bb6c94ec4ab5ca836772f8042",
       "max": 289,
       "style": "IPY_MODEL_58cbcd95701a4e7597458baac62006ee",
       "value": 289
      }
     },
     "17e0ef16613f43559b96747660edd42c": {
      "model_module": "@jupyter-widgets/controls",
      "model_module_version": "1.5.0",
      "model_name": "DescriptionStyleModel",
      "state": {
       "description_width": ""
      }
     },
     "180734269de74b0796f0a5051db0161c": {
      "model_module": "@jupyter-widgets/controls",
      "model_module_version": "1.5.0",
      "model_name": "DescriptionStyleModel",
      "state": {
       "description_width": ""
      }
     },
     "1811993d44d8435d953b0ad917dd7868": {
      "model_module": "@jupyter-widgets/controls",
      "model_module_version": "1.5.0",
      "model_name": "IntProgressModel",
      "state": {
       "bar_style": "success",
       "description": "Epoch [24/40]: 100%",
       "layout": "IPY_MODEL_e99f7373c6dc42c4991396aed4c72103",
       "max": 289,
       "style": "IPY_MODEL_04d66d4808e144169a1edf85b774e830",
       "value": 289
      }
     },
     "18158bf82ad04aaa9039c245aa4b5f40": {
      "model_module": "@jupyter-widgets/controls",
      "model_module_version": "1.5.0",
      "model_name": "DescriptionStyleModel",
      "state": {
       "description_width": ""
      }
     },
     "1827d8ef907c41c7ae62f9b86c684fc6": {
      "model_module": "@jupyter-widgets/base",
      "model_module_version": "1.2.0",
      "model_name": "LayoutModel",
      "state": {}
     },
     "1828b98ee53544c4997848526977fdfc": {
      "model_module": "@jupyter-widgets/base",
      "model_module_version": "1.2.0",
      "model_name": "LayoutModel",
      "state": {}
     },
     "1837a854efab423484f6103d315c2077": {
      "model_module": "@jupyter-widgets/controls",
      "model_module_version": "1.5.0",
      "model_name": "HBoxModel",
      "state": {
       "children": [
        "IPY_MODEL_151bb9a908c14d8f81e0145b585cdc9c",
        "IPY_MODEL_05f4d4562f6c4e36b22355244c4058ed"
       ],
       "layout": "IPY_MODEL_62dc8838eeb24faeaa0a574396c0d115"
      }
     },
     "18675f315a12409ba6307ab5c36f1352": {
      "model_module": "@jupyter-widgets/controls",
      "model_module_version": "1.5.0",
      "model_name": "ProgressStyleModel",
      "state": {
       "description_width": "initial"
      }
     },
     "189e3638138d46bf9daedc39a3f7b204": {
      "model_module": "@jupyter-widgets/base",
      "model_module_version": "1.2.0",
      "model_name": "LayoutModel",
      "state": {}
     },
     "18ab842139e84bd6bb2a87e09ee3de74": {
      "model_module": "@jupyter-widgets/controls",
      "model_module_version": "1.5.0",
      "model_name": "IntProgressModel",
      "state": {
       "bar_style": "success",
       "description": "Epoch [9/40]: 100%",
       "layout": "IPY_MODEL_62ba530218c243a3a2b558e8e87da4b7",
       "max": 255,
       "style": "IPY_MODEL_5d0f3ded53c043a98538307807719746",
       "value": 255
      }
     },
     "18b05d3749664cb8a9bfdcaba46fe153": {
      "model_module": "@jupyter-widgets/controls",
      "model_module_version": "1.5.0",
      "model_name": "IntProgressModel",
      "state": {
       "bar_style": "success",
       "description": "Epoch [18/40]: 100%",
       "layout": "IPY_MODEL_b67713737db649e7bbfc0395793e13c5",
       "max": 338,
       "style": "IPY_MODEL_8320f4597ef749269c19ad8509cf4e61",
       "value": 338
      }
     },
     "18b5cb03f29d4db1972e3ff0bf641ddf": {
      "model_module": "@jupyter-widgets/controls",
      "model_module_version": "1.5.0",
      "model_name": "IntProgressModel",
      "state": {
       "bar_style": "success",
       "description": "Epoch [28/40]: 100%",
       "layout": "IPY_MODEL_d0691ec7e6b64dba9f73160b97e3b8df",
       "max": 361,
       "style": "IPY_MODEL_bc694644cdb74e928f4430cf1744bbe3",
       "value": 361
      }
     },
     "18c777e8be5d4c10820e4d84cf5eeead": {
      "model_module": "@jupyter-widgets/controls",
      "model_module_version": "1.5.0",
      "model_name": "HTMLModel",
      "state": {
       "layout": "IPY_MODEL_dd00cdadf5284ee98681203168fe4db8",
       "style": "IPY_MODEL_73c085a0c10145028706127f30578026",
       "value": " 241/241 [01:47&lt;00:00,  2.24it/s, acc=0.918, loss=0.356]"
      }
     },
     "18d988a73c064595a93b4127e22d1d42": {
      "model_module": "@jupyter-widgets/controls",
      "model_module_version": "1.5.0",
      "model_name": "HBoxModel",
      "state": {
       "children": [
        "IPY_MODEL_ee2c08e395d2447b9ac19a1ff1c8218a",
        "IPY_MODEL_869e99b57b7949b290ac9555069f1d24"
       ],
       "layout": "IPY_MODEL_cc4e7a8615e6404d824808968ea370fc"
      }
     },
     "18ebd593e63049f188fc0ab71d4d2662": {
      "model_module": "@jupyter-widgets/controls",
      "model_module_version": "1.5.0",
      "model_name": "ProgressStyleModel",
      "state": {
       "description_width": "initial"
      }
     },
     "18efba08f6b24a72b48766fbc857d729": {
      "model_module": "@jupyter-widgets/controls",
      "model_module_version": "1.5.0",
      "model_name": "HBoxModel",
      "state": {
       "children": [
        "IPY_MODEL_18b05d3749664cb8a9bfdcaba46fe153",
        "IPY_MODEL_6ac7fac25a304481abfd6cafaad813f0"
       ],
       "layout": "IPY_MODEL_f87c34537c7a4a378049936ebad07dff"
      }
     },
     "191052923d5f49629964edec69e3d2e0": {
      "model_module": "@jupyter-widgets/controls",
      "model_module_version": "1.5.0",
      "model_name": "IntProgressModel",
      "state": {
       "bar_style": "success",
       "description": "Epoch [22/40]: 100%",
       "layout": "IPY_MODEL_940c07e845584a1c8dcb3e9f52152e9e",
       "max": 338,
       "style": "IPY_MODEL_17ad8f2288fc4474a788ff80972a8f02",
       "value": 338
      }
     },
     "191ea45e5e174d0f819b1d470b66ce40": {
      "model_module": "@jupyter-widgets/controls",
      "model_module_version": "1.5.0",
      "model_name": "HTMLModel",
      "state": {
       "layout": "IPY_MODEL_6772c9af6e8a4828953451038ccde071",
       "style": "IPY_MODEL_4edc0d74db214356bf33cffa04982579"
      }
     },
     "194aafe458354fa8b7c5688e3b91ca0d": {
      "model_module": "@jupyter-widgets/controls",
      "model_module_version": "1.5.0",
      "model_name": "HTMLModel",
      "state": {
       "layout": "IPY_MODEL_a46fddc37be248a9ac9f4f7eac03fdd3",
       "style": "IPY_MODEL_2a4e8c1d5b234febbcc10a747dfb35c4",
       "value": " 241/241 [00:43&lt;00:00,  5.49it/s, acc=0.985, loss=0.00927]"
      }
     },
     "196f566fd7604b77a80beb5a87e02b5c": {
      "model_module": "@jupyter-widgets/controls",
      "model_module_version": "1.5.0",
      "model_name": "HBoxModel",
      "state": {
       "children": [
        "IPY_MODEL_5e1fd6ebb4174e93827ccb35f159b946",
        "IPY_MODEL_ce7cf69f8bed4276b86c4f7230bb4624"
       ],
       "layout": "IPY_MODEL_e2015875bdae4fdfac6ec6a55beb16e1"
      }
     },
     "1996ca13550a4599a91df7e824792c57": {
      "model_module": "@jupyter-widgets/base",
      "model_module_version": "1.2.0",
      "model_name": "LayoutModel",
      "state": {}
     },
     "19b1c94a7b284cdd8c153c52325142de": {
      "model_module": "@jupyter-widgets/base",
      "model_module_version": "1.2.0",
      "model_name": "LayoutModel",
      "state": {}
     },
     "19c57a19fcfd47c595003301828290e0": {
      "model_module": "@jupyter-widgets/base",
      "model_module_version": "1.2.0",
      "model_name": "LayoutModel",
      "state": {}
     },
     "19d2b42e326046e49da708714b1a813c": {
      "model_module": "@jupyter-widgets/base",
      "model_module_version": "1.2.0",
      "model_name": "LayoutModel",
      "state": {}
     },
     "19f16e7e35b24469bd536d4e5ebe31e0": {
      "model_module": "@jupyter-widgets/controls",
      "model_module_version": "1.5.0",
      "model_name": "HBoxModel",
      "state": {
       "children": [
        "IPY_MODEL_6f76e5b0ebf448acbd9e217a398e0039",
        "IPY_MODEL_5ea0472afb5449828fe9dcb6d78d7222"
       ],
       "layout": "IPY_MODEL_fbc65bbaf819448f9284b6cd099aa8c2"
      }
     },
     "19fc4dfdb4244cb0afc3458e3f53e162": {
      "model_module": "@jupyter-widgets/controls",
      "model_module_version": "1.5.0",
      "model_name": "ProgressStyleModel",
      "state": {
       "description_width": "initial"
      }
     },
     "1a23fddc09204360981938c528d5c3eb": {
      "model_module": "@jupyter-widgets/controls",
      "model_module_version": "1.5.0",
      "model_name": "HTMLModel",
      "state": {
       "layout": "IPY_MODEL_0a7b0a4635364d2b85b6627319a2a4ec",
       "style": "IPY_MODEL_4919871078fd4bfebc5ce9b4b59c3c3c",
       "value": " 289/289 [01:05&lt;00:00,  4.42it/s, acc=0.979, loss=0.0995]"
      }
     },
     "1a296509902a4e07b279fae338571567": {
      "model_module": "@jupyter-widgets/controls",
      "model_module_version": "1.5.0",
      "model_name": "HBoxModel",
      "state": {
       "children": [
        "IPY_MODEL_440b5b857abd46b99f5707c202138f61",
        "IPY_MODEL_a11324dfabe24b44aee42393401ab51e"
       ],
       "layout": "IPY_MODEL_c91c4b6f88324cd6aa877747991ec61a"
      }
     },
     "1a3af0113821479fad3c50da02f4d043": {
      "model_module": "@jupyter-widgets/controls",
      "model_module_version": "1.5.0",
      "model_name": "HBoxModel",
      "state": {
       "children": [
        "IPY_MODEL_ab419794814c49659546978da713f8b9",
        "IPY_MODEL_e79e55478c034605afd058f08c7d007d"
       ],
       "layout": "IPY_MODEL_319fe55339644d69a4c77fdf8a9dc746"
      }
     },
     "1a4727c0a66a42f2aa176680f2a5af6e": {
      "model_module": "@jupyter-widgets/controls",
      "model_module_version": "1.5.0",
      "model_name": "IntProgressModel",
      "state": {
       "bar_style": "success",
       "description": "Epoch [1/5]: 100%",
       "layout": "IPY_MODEL_a10ce095382e4cc3958491fa90d1ce47",
       "max": 289,
       "style": "IPY_MODEL_90471ce768774842bd005045e8195e53",
       "value": 289
      }
     },
     "1a67cbf8ccf64624bbc86d8e6aa391e4": {
      "model_module": "@jupyter-widgets/base",
      "model_module_version": "1.2.0",
      "model_name": "LayoutModel",
      "state": {}
     },
     "1a6fc8eceaf64f2f8257bd37cc2e55f9": {
      "model_module": "@jupyter-widgets/controls",
      "model_module_version": "1.5.0",
      "model_name": "IntProgressModel",
      "state": {
       "bar_style": "success",
       "description": "Epoch [32/40]: 100%",
       "layout": "IPY_MODEL_4e98d6e8fa32459fbe91dae42d638ebb",
       "max": 361,
       "style": "IPY_MODEL_6adf6e5ef36b4ad9a5d227ccba865cdb",
       "value": 361
      }
     },
     "1a89e3adc95f461580583976c1b89561": {
      "model_module": "@jupyter-widgets/controls",
      "model_module_version": "1.5.0",
      "model_name": "IntProgressModel",
      "state": {
       "bar_style": "success",
       "description": "Epoch [1/5]: 100%",
       "layout": "IPY_MODEL_e4afaaa935aa44608ae66829d8ff24c7",
       "max": 281,
       "style": "IPY_MODEL_e4e091e5cc5b426e9b25eda54946ccc6",
       "value": 281
      }
     },
     "1a9cb4b68294409a80bcfbf9ea69f609": {
      "model_module": "@jupyter-widgets/controls",
      "model_module_version": "1.5.0",
      "model_name": "HTMLModel",
      "state": {
       "layout": "IPY_MODEL_deaae29cf5a447c9800d60db97518d20",
       "style": "IPY_MODEL_8b9480a35ff84ead8cd4a680c8230871",
       "value": " 255/255 [02:17&lt;00:00,  1.86it/s, acc=0.247, loss=1.6]"
      }
     },
     "1ab0ebabcec740908636276204467b6f": {
      "model_module": "@jupyter-widgets/base",
      "model_module_version": "1.2.0",
      "model_name": "LayoutModel",
      "state": {}
     },
     "1ac1950265564aec9b0386d303f6ec09": {
      "model_module": "@jupyter-widgets/controls",
      "model_module_version": "1.5.0",
      "model_name": "HBoxModel",
      "state": {
       "children": [
        "IPY_MODEL_df2dc44b2db740b9a497790d0f38bf41",
        "IPY_MODEL_d669ad94bcc344a6a1857d798d9d3e1c"
       ],
       "layout": "IPY_MODEL_d077ac636f514b1f9dd32f0123d026aa"
      }
     },
     "1b3996ef6f7d4e2b8d9ae26a26c7c9a1": {
      "model_module": "@jupyter-widgets/controls",
      "model_module_version": "1.5.0",
      "model_name": "IntProgressModel",
      "state": {
       "bar_style": "success",
       "description": "Epoch [32/40]: 100%",
       "layout": "IPY_MODEL_ca94a97b5125463f9eb69450cc016eea",
       "max": 338,
       "style": "IPY_MODEL_457dfb2395764a6b8049531dca7db5c0",
       "value": 338
      }
     },
     "1b52646d2209424880fb083082f7a3c6": {
      "model_module": "@jupyter-widgets/controls",
      "model_module_version": "1.5.0",
      "model_name": "DescriptionStyleModel",
      "state": {
       "description_width": ""
      }
     },
     "1b5f5ba80e244f868ebf3e1f45057eca": {
      "model_module": "@jupyter-widgets/base",
      "model_module_version": "1.2.0",
      "model_name": "LayoutModel",
      "state": {}
     },
     "1bb0958813894b0790c2f375d7dcd391": {
      "model_module": "@jupyter-widgets/controls",
      "model_module_version": "1.5.0",
      "model_name": "ProgressStyleModel",
      "state": {
       "description_width": "initial"
      }
     },
     "1bbdc0ff4f8d4008b818f622a79cdbad": {
      "model_module": "@jupyter-widgets/controls",
      "model_module_version": "1.5.0",
      "model_name": "HTMLModel",
      "state": {
       "layout": "IPY_MODEL_d3fc8b8ea5254b82afb9671cb3ed47eb",
       "style": "IPY_MODEL_ff9fe7f0e66e4399a198c953715ea169",
       "value": " 289/289 [00:56&lt;00:00,  5.16it/s, acc=0.373, loss=1.22]"
      }
     },
     "1bf89bafbdd847a2ba5f8e1416bb1c0f": {
      "model_module": "@jupyter-widgets/base",
      "model_module_version": "1.2.0",
      "model_name": "LayoutModel",
      "state": {}
     },
     "1c9f3009dd604a97bc7cbbdaaf269b32": {
      "model_module": "@jupyter-widgets/controls",
      "model_module_version": "1.5.0",
      "model_name": "ProgressStyleModel",
      "state": {
       "description_width": "initial"
      }
     },
     "1ca9c6e2e0d640fb84f9862a9d3180fc": {
      "model_module": "@jupyter-widgets/controls",
      "model_module_version": "1.5.0",
      "model_name": "HTMLModel",
      "state": {
       "layout": "IPY_MODEL_1b5f5ba80e244f868ebf3e1f45057eca",
       "style": "IPY_MODEL_024c8ff3dd004d9384bd6426641a7201",
       "value": " 241/241 [00:23&lt;00:00, 10.40it/s, acc=0.984, loss=0.0692]"
      }
     },
     "1cddadb76dd94047a9ec746ab78fca91": {
      "model_module": "@jupyter-widgets/controls",
      "model_module_version": "1.5.0",
      "model_name": "IntProgressModel",
      "state": {
       "bar_style": "success",
       "description": "Epoch [39/40]: 100%",
       "layout": "IPY_MODEL_f4670a2417d54dce9589fd9a43296886",
       "max": 289,
       "style": "IPY_MODEL_9a79a704403b464787ff36139447289a",
       "value": 289
      }
     },
     "1ce3ff08ec274e51bc28455159d46603": {
      "model_module": "@jupyter-widgets/base",
      "model_module_version": "1.2.0",
      "model_name": "LayoutModel",
      "state": {}
     },
     "1d18cb107d894d59a802f2ff84ed9ca0": {
      "model_module": "@jupyter-widgets/controls",
      "model_module_version": "1.5.0",
      "model_name": "ProgressStyleModel",
      "state": {
       "description_width": "initial"
      }
     },
     "1d3cb08707cb448a9edb282bd6f7fcc8": {
      "model_module": "@jupyter-widgets/controls",
      "model_module_version": "1.5.0",
      "model_name": "HTMLModel",
      "state": {
       "layout": "IPY_MODEL_8832249e594a459d9ecc143943e56fbf",
       "style": "IPY_MODEL_360eeb30093b4347a94e123382d57e9a",
       "value": " 241/241 [01:47&lt;00:00,  2.25it/s, acc=0.959, loss=0.205]"
      }
     },
     "1d4078b8a2084db7ac8893b6e717e89b": {
      "model_module": "@jupyter-widgets/base",
      "model_module_version": "1.2.0",
      "model_name": "LayoutModel",
      "state": {}
     },
     "1d40a13248a0491e98add675c2ba825e": {
      "model_module": "@jupyter-widgets/controls",
      "model_module_version": "1.5.0",
      "model_name": "IntProgressModel",
      "state": {
       "bar_style": "success",
       "description": "Epoch [14/40]: 100%",
       "layout": "IPY_MODEL_0f655d610bba42fbab887c03e109e8eb",
       "max": 338,
       "style": "IPY_MODEL_ca719eea2c7c453394aeac633fa135dc",
       "value": 338
      }
     },
     "1d46cea0b0534dab9801de210fa714f2": {
      "model_module": "@jupyter-widgets/base",
      "model_module_version": "1.2.0",
      "model_name": "LayoutModel",
      "state": {}
     },
     "1d56839e60374611beae90fe6e480fe0": {
      "model_module": "@jupyter-widgets/base",
      "model_module_version": "1.2.0",
      "model_name": "LayoutModel",
      "state": {}
     },
     "1d659bdf148a40b6a9c67e922863ff72": {
      "model_module": "@jupyter-widgets/controls",
      "model_module_version": "1.5.0",
      "model_name": "ProgressStyleModel",
      "state": {
       "description_width": "initial"
      }
     },
     "1d889790292f4b7a9a97fca55e7d0e60": {
      "model_module": "@jupyter-widgets/base",
      "model_module_version": "1.2.0",
      "model_name": "LayoutModel",
      "state": {}
     },
     "1d9f6dc4c99d44778a48c1fc68c85e93": {
      "model_module": "@jupyter-widgets/controls",
      "model_module_version": "1.5.0",
      "model_name": "IntProgressModel",
      "state": {
       "bar_style": "success",
       "description": "Epoch [10/40]: 100%",
       "layout": "IPY_MODEL_8dc28d0f483842b5afb52392d58ce1bc",
       "max": 241,
       "style": "IPY_MODEL_9875cd772c0e46818d76e2c42865e283",
       "value": 241
      }
     },
     "1db019730054417aae4d2ef8537d19ed": {
      "model_module": "@jupyter-widgets/controls",
      "model_module_version": "1.5.0",
      "model_name": "IntProgressModel",
      "state": {
       "bar_style": "success",
       "description": "Epoch [19/40]: 100%",
       "layout": "IPY_MODEL_ada86ac25f634f53bfef191b87514c1e",
       "max": 289,
       "style": "IPY_MODEL_b5c8c1f312234f1db658abc5f959829a",
       "value": 289
      }
     },
     "1db4d48c17ae4d078d4aa9c936ce8f4f": {
      "model_module": "@jupyter-widgets/base",
      "model_module_version": "1.2.0",
      "model_name": "LayoutModel",
      "state": {}
     },
     "1db931e2f68f42c995005c4e4b67f2ba": {
      "model_module": "@jupyter-widgets/controls",
      "model_module_version": "1.5.0",
      "model_name": "DescriptionStyleModel",
      "state": {
       "description_width": ""
      }
     },
     "1dc63f0f1d8b432cb25d483be7babe85": {
      "model_module": "@jupyter-widgets/controls",
      "model_module_version": "1.5.0",
      "model_name": "HBoxModel",
      "state": {
       "children": [
        "IPY_MODEL_5291cd6129c443d7b1d70cf81180d838",
        "IPY_MODEL_3b0a9a40425b48f7aa4617db2cee7d6b"
       ],
       "layout": "IPY_MODEL_9bb7309900cd4c93a31f3c092c76467a"
      }
     },
     "1dc712ed39c9436d8c1e3f871a5a832c": {
      "model_module": "@jupyter-widgets/controls",
      "model_module_version": "1.5.0",
      "model_name": "HTMLModel",
      "state": {
       "layout": "IPY_MODEL_243b6badd3624afabbb4319ddb11302b",
       "style": "IPY_MODEL_9272b3fc4f9841809c1bf46118ed2255",
       "value": " 241/241 [01:04&lt;00:00,  3.73it/s, acc=0.98, loss=0.0296]"
      }
     },
     "1debade6e12f420f96032437842b78e0": {
      "model_module": "@jupyter-widgets/controls",
      "model_module_version": "1.5.0",
      "model_name": "IntProgressModel",
      "state": {
       "bar_style": "success",
       "description": "Epoch [3/40]: 100%",
       "layout": "IPY_MODEL_ea49bc96274346d6837999dc24255c60",
       "max": 289,
       "style": "IPY_MODEL_1320fc212d5644369b07875434f78dfe",
       "value": 289
      }
     },
     "1dfdc6ae06d94199858e8f83fc57078d": {
      "model_module": "@jupyter-widgets/controls",
      "model_module_version": "1.5.0",
      "model_name": "IntProgressModel",
      "state": {
       "bar_style": "success",
       "description": "Epoch [13/40]: 100%",
       "layout": "IPY_MODEL_374c10d313294450aac50bc54b01e27c",
       "max": 361,
       "style": "IPY_MODEL_6275c5cb3cf8489ca9997df75ce281d1",
       "value": 361
      }
     },
     "1e7b86b570764b8faaabfa34db6c68e6": {
      "model_module": "@jupyter-widgets/controls",
      "model_module_version": "1.5.0",
      "model_name": "HBoxModel",
      "state": {
       "children": [
        "IPY_MODEL_fae5f6a7b6b74175b8f65772732fcc6e",
        "IPY_MODEL_31231be2b0e642a4ad235ace699b8a7a"
       ],
       "layout": "IPY_MODEL_4ab457ed8ffe4897a3fe8554eaf1de96"
      }
     },
     "1eb381d53edf4e55b7cd4b83809e369c": {
      "model_module": "@jupyter-widgets/controls",
      "model_module_version": "1.5.0",
      "model_name": "IntProgressModel",
      "state": {
       "bar_style": "success",
       "description": "Epoch [14/100]: 100%",
       "layout": "IPY_MODEL_65a3b621b6b448529c41322e8c6336b5",
       "max": 289,
       "style": "IPY_MODEL_11831c76d70a4d5d9ce1a52902a8c240",
       "value": 289
      }
     },
     "1f5f6ca6387542ff8df5e8051130476d": {
      "model_module": "@jupyter-widgets/base",
      "model_module_version": "1.2.0",
      "model_name": "LayoutModel",
      "state": {}
     },
     "1f81069bd321478ab1d6c05adcdb7ac5": {
      "model_module": "@jupyter-widgets/controls",
      "model_module_version": "1.5.0",
      "model_name": "ProgressStyleModel",
      "state": {
       "description_width": "initial"
      }
     },
     "1f81ebee27bd4f7880e529561b4e3875": {
      "model_module": "@jupyter-widgets/controls",
      "model_module_version": "1.5.0",
      "model_name": "DescriptionStyleModel",
      "state": {
       "description_width": ""
      }
     },
     "1fa2546ef1f84936b644dc1d322a1f81": {
      "model_module": "@jupyter-widgets/controls",
      "model_module_version": "1.5.0",
      "model_name": "HBoxModel",
      "state": {
       "children": [
        "IPY_MODEL_d2c87cd6ec6144f69b96db8a37fb77d6",
        "IPY_MODEL_7b201d8c4e984dc28d8fa2074c3a1ec2"
       ],
       "layout": "IPY_MODEL_30c14431986f4365b9c8cf77a82f75e0"
      }
     },
     "1fb04bdb9cef4a7cbf754ca9e4211c2a": {
      "model_module": "@jupyter-widgets/controls",
      "model_module_version": "1.5.0",
      "model_name": "HTMLModel",
      "state": {
       "layout": "IPY_MODEL_9d845109b3214967af9f122be72208f1",
       "style": "IPY_MODEL_17e0ef16613f43559b96747660edd42c",
       "value": " 338/338 [02:04&lt;00:00,  2.72it/s, acc=0.987, loss=0.0147]"
      }
     },
     "1fc4fef080d6429488f94ee1fa66d128": {
      "model_module": "@jupyter-widgets/base",
      "model_module_version": "1.2.0",
      "model_name": "LayoutModel",
      "state": {}
     },
     "1fd10350686042a69b39e151b0a90461": {
      "model_module": "@jupyter-widgets/base",
      "model_module_version": "1.2.0",
      "model_name": "LayoutModel",
      "state": {}
     },
     "1ff4a6226de04a06ae7cd3f9692a3fd4": {
      "model_module": "@jupyter-widgets/controls",
      "model_module_version": "1.5.0",
      "model_name": "ProgressStyleModel",
      "state": {
       "description_width": "initial"
      }
     },
     "204c8bcd6f50475693bbe5cf33461e69": {
      "model_module": "@jupyter-widgets/controls",
      "model_module_version": "1.5.0",
      "model_name": "HBoxModel",
      "state": {
       "children": [
        "IPY_MODEL_095ee02ab7bf4a819fac5fb1997f11d6",
        "IPY_MODEL_05aeb57bd7bf426c98d6344484eb0401"
       ],
       "layout": "IPY_MODEL_dcb08f75112b47f7a674544386f4b0df"
      }
     },
     "2053e273429f4c2b9750e69a81bab5f4": {
      "model_module": "@jupyter-widgets/controls",
      "model_module_version": "1.5.0",
      "model_name": "HBoxModel",
      "state": {
       "children": [
        "IPY_MODEL_1a89e3adc95f461580583976c1b89561",
        "IPY_MODEL_e91930c00fd14ce3bf488bacaadf86ca"
       ],
       "layout": "IPY_MODEL_ddc7da7979ad4f919f675a52345c19eb"
      }
     },
     "2074ef67d16e42b6a040a54a6a4a0e41": {
      "model_module": "@jupyter-widgets/controls",
      "model_module_version": "1.5.0",
      "model_name": "DescriptionStyleModel",
      "state": {
       "description_width": ""
      }
     },
     "20cde568def24676b7af718337183402": {
      "model_module": "@jupyter-widgets/base",
      "model_module_version": "1.2.0",
      "model_name": "LayoutModel",
      "state": {}
     },
     "21153cf7ae48418b92da3413189c2c90": {
      "model_module": "@jupyter-widgets/base",
      "model_module_version": "1.2.0",
      "model_name": "LayoutModel",
      "state": {}
     },
     "212c87742467451fa418b1ded3a0ac3d": {
      "model_module": "@jupyter-widgets/controls",
      "model_module_version": "1.5.0",
      "model_name": "HTMLModel",
      "state": {
       "layout": "IPY_MODEL_bbb5d591ee564467a8eddd3ee9fcc9d7",
       "style": "IPY_MODEL_4a1f80a954874935a33331d9120f82f3",
       "value": " 289/289 [01:01&lt;00:00,  4.72it/s, acc=0.965, loss=0.144]"
      }
     },
     "212c89ffcfe340d691a91eb2f04bd603": {
      "model_module": "@jupyter-widgets/controls",
      "model_module_version": "1.5.0",
      "model_name": "DescriptionStyleModel",
      "state": {
       "description_width": ""
      }
     },
     "21be92b755424f48ae2cd96291d98aaa": {
      "model_module": "@jupyter-widgets/controls",
      "model_module_version": "1.5.0",
      "model_name": "HBoxModel",
      "state": {
       "children": [
        "IPY_MODEL_a6b301fc255f47388575db9a8bdb36fd",
        "IPY_MODEL_d5fe03560bdd4046823628276c853f78"
       ],
       "layout": "IPY_MODEL_8aaf2fb3504d4ac985e3cb3da63e10a1"
      }
     },
     "21becc8994b244429d8259ff73140bbe": {
      "model_module": "@jupyter-widgets/base",
      "model_module_version": "1.2.0",
      "model_name": "LayoutModel",
      "state": {}
     },
     "21e086da455e4e25a7d224d85243f9da": {
      "model_module": "@jupyter-widgets/controls",
      "model_module_version": "1.5.0",
      "model_name": "HBoxModel",
      "state": {
       "children": [
        "IPY_MODEL_7d946010ec6b44458574ab4a7a513f4c",
        "IPY_MODEL_fdacc825756b4ee985919f4a36ca6f71"
       ],
       "layout": "IPY_MODEL_9b4465799dc941c7a97f01dd700a7f93"
      }
     },
     "21f5036540d2453fbf4fe1b844fc83db": {
      "model_module": "@jupyter-widgets/base",
      "model_module_version": "1.2.0",
      "model_name": "LayoutModel",
      "state": {}
     },
     "2200562157854bbe8cea9df4dbccad28": {
      "model_module": "@jupyter-widgets/base",
      "model_module_version": "1.2.0",
      "model_name": "LayoutModel",
      "state": {}
     },
     "2216b4a1148244e489e2f542ac3927ce": {
      "model_module": "@jupyter-widgets/controls",
      "model_module_version": "1.5.0",
      "model_name": "ProgressStyleModel",
      "state": {
       "description_width": "initial"
      }
     },
     "221c1b6746fe4b9f95fa02bdaf7b4186": {
      "model_module": "@jupyter-widgets/controls",
      "model_module_version": "1.5.0",
      "model_name": "HTMLModel",
      "state": {
       "layout": "IPY_MODEL_6d983901ecfd4684bb75b9a0e5dfbecf",
       "style": "IPY_MODEL_102f361b68054f80835548550b7312f1",
       "value": " 361/361 [01:57&lt;00:00,  3.07it/s, acc=0.983, loss=0.054]"
      }
     },
     "222b19340fcd4115aa3e7907a718d672": {
      "model_module": "@jupyter-widgets/base",
      "model_module_version": "1.2.0",
      "model_name": "LayoutModel",
      "state": {}
     },
     "224312e0c7494df0a58342a0c34eb338": {
      "model_module": "@jupyter-widgets/controls",
      "model_module_version": "1.5.0",
      "model_name": "ProgressStyleModel",
      "state": {
       "description_width": "initial"
      }
     },
     "2248db2c04734f58bf46042081d694be": {
      "model_module": "@jupyter-widgets/base",
      "model_module_version": "1.2.0",
      "model_name": "LayoutModel",
      "state": {}
     },
     "2259b5cdbfb74df5875d3395349e2c25": {
      "model_module": "@jupyter-widgets/controls",
      "model_module_version": "1.5.0",
      "model_name": "HBoxModel",
      "state": {
       "children": [
        "IPY_MODEL_65393f717dcb4d7582ee53b577ffa495",
        "IPY_MODEL_194aafe458354fa8b7c5688e3b91ca0d"
       ],
       "layout": "IPY_MODEL_44318b88ece44a17b33d605f34209666"
      }
     },
     "2269f9d45e804cb788f568ceb51edd6a": {
      "model_module": "@jupyter-widgets/controls",
      "model_module_version": "1.5.0",
      "model_name": "HBoxModel",
      "state": {
       "children": [
        "IPY_MODEL_fa5358bbb8b0407a9dcaadd8ea506d0d",
        "IPY_MODEL_3dbe1e6b6b0844c38513b114640f34c9"
       ],
       "layout": "IPY_MODEL_e1f040ae5665441f8435b932bc23ee5e"
      }
     },
     "22c2962c121b4521acf383c1a7e19eb4": {
      "model_module": "@jupyter-widgets/base",
      "model_module_version": "1.2.0",
      "model_name": "LayoutModel",
      "state": {}
     },
     "22db874e8483448d96ee14aa3fd9e77b": {
      "model_module": "@jupyter-widgets/controls",
      "model_module_version": "1.5.0",
      "model_name": "ProgressStyleModel",
      "state": {
       "description_width": "initial"
      }
     },
     "232a5a93521844ca9d44c8276caf28e3": {
      "model_module": "@jupyter-widgets/base",
      "model_module_version": "1.2.0",
      "model_name": "LayoutModel",
      "state": {}
     },
     "233eab81305b4cf3af5e5c8cff25c315": {
      "model_module": "@jupyter-widgets/controls",
      "model_module_version": "1.5.0",
      "model_name": "DescriptionStyleModel",
      "state": {
       "description_width": ""
      }
     },
     "23480704001d4127aa828b04991d39f8": {
      "model_module": "@jupyter-widgets/controls",
      "model_module_version": "1.5.0",
      "model_name": "DescriptionStyleModel",
      "state": {
       "description_width": ""
      }
     },
     "23aba32ebeaa4fe3b70066779c4fe81e": {
      "model_module": "@jupyter-widgets/controls",
      "model_module_version": "1.5.0",
      "model_name": "HTMLModel",
      "state": {
       "layout": "IPY_MODEL_39bfe77b6da24494853300f17861fea2",
       "style": "IPY_MODEL_5431e86be36b4608b81347ce7a125faa",
       "value": " 289/289 [01:01&lt;00:00,  4.69it/s, acc=0.983, loss=0.015]"
      }
     },
     "23b061dc8f10496cb31dc0eb2b54feb5": {
      "model_module": "@jupyter-widgets/base",
      "model_module_version": "1.2.0",
      "model_name": "LayoutModel",
      "state": {}
     },
     "23e1d084d3984c0c94d49cc1eb35499f": {
      "model_module": "@jupyter-widgets/controls",
      "model_module_version": "1.5.0",
      "model_name": "DescriptionStyleModel",
      "state": {
       "description_width": ""
      }
     },
     "23feb35a7d5642339c6527d1289a1324": {
      "model_module": "@jupyter-widgets/controls",
      "model_module_version": "1.5.0",
      "model_name": "HTMLModel",
      "state": {
       "layout": "IPY_MODEL_73225a9fd9cd42ea98a939660afe8576",
       "style": "IPY_MODEL_273d42fd642546528499a9c34417116b",
       "value": " 255/255 [01:35&lt;00:00,  2.66it/s, acc=0.986, loss=0.164]"
      }
     },
     "240f97915cb84e789c077dd6f2d67be6": {
      "model_module": "@jupyter-widgets/controls",
      "model_module_version": "1.5.0",
      "model_name": "DescriptionStyleModel",
      "state": {
       "description_width": ""
      }
     },
     "2412c18073cf447e8cf21f08c0c6cced": {
      "model_module": "@jupyter-widgets/controls",
      "model_module_version": "1.5.0",
      "model_name": "IntProgressModel",
      "state": {
       "bar_style": "success",
       "description": "Epoch [4/40]: 100%",
       "layout": "IPY_MODEL_c537e5969af048df9aad813dbbe09906",
       "max": 241,
       "style": "IPY_MODEL_33770b961ad743618ae702aa5ac1170a",
       "value": 241
      }
     },
     "241eb2987c004051a31941842dae701a": {
      "model_module": "@jupyter-widgets/base",
      "model_module_version": "1.2.0",
      "model_name": "LayoutModel",
      "state": {}
     },
     "243b6badd3624afabbb4319ddb11302b": {
      "model_module": "@jupyter-widgets/base",
      "model_module_version": "1.2.0",
      "model_name": "LayoutModel",
      "state": {}
     },
     "245fe470de0c4694a70ab41e99c86e2d": {
      "model_module": "@jupyter-widgets/controls",
      "model_module_version": "1.5.0",
      "model_name": "HTMLModel",
      "state": {
       "layout": "IPY_MODEL_0a7cf4bcbbef4a59a943aac272669f97",
       "style": "IPY_MODEL_9bcfec469f5e43a1b16226cfac4362a7",
       "value": " 289/289 [00:28&lt;00:00, 10.01it/s, acc=0.779, loss=0.232]"
      }
     },
     "24834c8470484385bf310ffdcbc6c165": {
      "model_module": "@jupyter-widgets/base",
      "model_module_version": "1.2.0",
      "model_name": "LayoutModel",
      "state": {}
     },
     "2494436e1f53486bbd861f8af0c3f66c": {
      "model_module": "@jupyter-widgets/controls",
      "model_module_version": "1.5.0",
      "model_name": "HBoxModel",
      "state": {
       "children": [
        "IPY_MODEL_05274fb7515747249b8697ce564a0e5e",
        "IPY_MODEL_caca6a66c7354d97a5c0aefa59facb53"
       ],
       "layout": "IPY_MODEL_349e1fa601b24a04a3e20e2d8c575105"
      }
     },
     "24977bfe1b4b4b1cac18dfc1b6b00c7b": {
      "model_module": "@jupyter-widgets/controls",
      "model_module_version": "1.5.0",
      "model_name": "IntProgressModel",
      "state": {
       "bar_style": "success",
       "description": "Epoch [22/40]: 100%",
       "layout": "IPY_MODEL_b2363d1f1fe74710a233f50ff8fee69f",
       "max": 361,
       "style": "IPY_MODEL_4f55384d54004924b4be0b9ac4969eac",
       "value": 361
      }
     },
     "24ff9e7eb8474e12b91944f119348acf": {
      "model_module": "@jupyter-widgets/base",
      "model_module_version": "1.2.0",
      "model_name": "LayoutModel",
      "state": {}
     },
     "25108d8e0dab4cd489d88a96b7652d8a": {
      "model_module": "@jupyter-widgets/controls",
      "model_module_version": "1.5.0",
      "model_name": "HBoxModel",
      "state": {
       "children": [
        "IPY_MODEL_4344fbf2473a4984a3fff94aa2f00a1e",
        "IPY_MODEL_b48e34fcb4bc474f8b0a8e51c3373ae4"
       ],
       "layout": "IPY_MODEL_1a67cbf8ccf64624bbc86d8e6aa391e4"
      }
     },
     "251f0389d92348abb44976609c570bd9": {
      "model_module": "@jupyter-widgets/controls",
      "model_module_version": "1.5.0",
      "model_name": "ProgressStyleModel",
      "state": {
       "description_width": "initial"
      }
     },
     "2556f39c06ce4f43b3896180d6ec1312": {
      "model_module": "@jupyter-widgets/controls",
      "model_module_version": "1.5.0",
      "model_name": "DescriptionStyleModel",
      "state": {
       "description_width": ""
      }
     },
     "255ae8e91bdc41509f5c8c43ee1d9688": {
      "model_module": "@jupyter-widgets/base",
      "model_module_version": "1.2.0",
      "model_name": "LayoutModel",
      "state": {}
     },
     "255e3a14525d4b62bbe23795c230e889": {
      "model_module": "@jupyter-widgets/controls",
      "model_module_version": "1.5.0",
      "model_name": "DescriptionStyleModel",
      "state": {
       "description_width": ""
      }
     },
     "256491fe8b77450ba1b2b0fb75af63bd": {
      "model_module": "@jupyter-widgets/controls",
      "model_module_version": "1.5.0",
      "model_name": "HBoxModel",
      "state": {
       "children": [
        "IPY_MODEL_d4b08f721d164a139ddd95442fc6c0e0",
        "IPY_MODEL_6c9d73f4257345518e8d6a14069fe989"
       ],
       "layout": "IPY_MODEL_3318f0a5032f43ce8dc3eede191c83f8"
      }
     },
     "257bc47627af4881a02e4adeba0c0c0a": {
      "model_module": "@jupyter-widgets/base",
      "model_module_version": "1.2.0",
      "model_name": "LayoutModel",
      "state": {}
     },
     "257e25747e1042db82b5461aa8c531f4": {
      "model_module": "@jupyter-widgets/controls",
      "model_module_version": "1.5.0",
      "model_name": "ProgressStyleModel",
      "state": {
       "description_width": "initial"
      }
     },
     "25b0352a4eff43e2919f023b3598e186": {
      "model_module": "@jupyter-widgets/controls",
      "model_module_version": "1.5.0",
      "model_name": "HTMLModel",
      "state": {
       "layout": "IPY_MODEL_772bba90c2db4fedaa2fb2a335821578",
       "style": "IPY_MODEL_5a93ce4f8cd44205ac97125df2a493e6",
       "value": " 361/361 [00:46&lt;00:00,  7.75it/s, acc=0.288, loss=1.53]"
      }
     },
     "25c09b44b0c847b88cc5f8659a24b66a": {
      "model_module": "@jupyter-widgets/base",
      "model_module_version": "1.2.0",
      "model_name": "LayoutModel",
      "state": {}
     },
     "261f96449fd640569c55c127af13ad16": {
      "model_module": "@jupyter-widgets/controls",
      "model_module_version": "1.5.0",
      "model_name": "DescriptionStyleModel",
      "state": {
       "description_width": ""
      }
     },
     "262a4331b18748cc8372fad2d99d9938": {
      "model_module": "@jupyter-widgets/base",
      "model_module_version": "1.2.0",
      "model_name": "LayoutModel",
      "state": {}
     },
     "262e15f4b32b4e6288064d713caf6f78": {
      "model_module": "@jupyter-widgets/controls",
      "model_module_version": "1.5.0",
      "model_name": "IntProgressModel",
      "state": {
       "bar_style": "success",
       "description": "Epoch [21/40]: 100%",
       "layout": "IPY_MODEL_d93b61a92d824f47908e191c38c3c346",
       "max": 289,
       "style": "IPY_MODEL_007bcb058aa249a2bbc7898eabfff431",
       "value": 289
      }
     },
     "2640883bce1d418ca5932b84baf2ca04": {
      "model_module": "@jupyter-widgets/controls",
      "model_module_version": "1.5.0",
      "model_name": "DescriptionStyleModel",
      "state": {
       "description_width": ""
      }
     },
     "2652a9c3a4ff4f239225a6b12694b375": {
      "model_module": "@jupyter-widgets/controls",
      "model_module_version": "1.5.0",
      "model_name": "HTMLModel",
      "state": {
       "layout": "IPY_MODEL_529df614145d456ca453b78c377e34c6",
       "style": "IPY_MODEL_7e9ac4c1efaf48db89a02700579aad57",
       "value": " 289/289 [01:28&lt;00:00,  3.26it/s, acc=0.96, loss=0.252]"
      }
     },
     "267968a6d6934f878c85110c3ec097a3": {
      "model_module": "@jupyter-widgets/base",
      "model_module_version": "1.2.0",
      "model_name": "LayoutModel",
      "state": {}
     },
     "2684b2d475764ffd9db7a03316a02ec6": {
      "model_module": "@jupyter-widgets/base",
      "model_module_version": "1.2.0",
      "model_name": "LayoutModel",
      "state": {}
     },
     "268eb536604541268d428319a48e6a1b": {
      "model_module": "@jupyter-widgets/base",
      "model_module_version": "1.2.0",
      "model_name": "LayoutModel",
      "state": {}
     },
     "2697dc4873f94ebd979e30418b3b5ba9": {
      "model_module": "@jupyter-widgets/controls",
      "model_module_version": "1.5.0",
      "model_name": "DescriptionStyleModel",
      "state": {
       "description_width": ""
      }
     },
     "26b7dc83f360405489c8c4672bc20a59": {
      "model_module": "@jupyter-widgets/controls",
      "model_module_version": "1.5.0",
      "model_name": "ProgressStyleModel",
      "state": {
       "description_width": "initial"
      }
     },
     "26c2464f691c4ec8b61281fa4d1e7ffa": {
      "model_module": "@jupyter-widgets/controls",
      "model_module_version": "1.5.0",
      "model_name": "HTMLModel",
      "state": {
       "layout": "IPY_MODEL_3d0117952ce644e4bed19a6275b167ce",
       "style": "IPY_MODEL_f02a7d5f044a4bcaac1ef07589d02841",
       "value": " 284/284 [01:17&lt;00:00,  3.66it/s, acc=0.935, loss=0.564]"
      }
     },
     "26c62c0589f74c048748cc0cbd0c8198": {
      "model_module": "@jupyter-widgets/controls",
      "model_module_version": "1.5.0",
      "model_name": "HBoxModel",
      "state": {
       "children": [
        "IPY_MODEL_36737fceedfd42bea1638b31267df686",
        "IPY_MODEL_d4d08ec8a9404ddea11d0ee0b9180909"
       ],
       "layout": "IPY_MODEL_2fc86bea5bdb471c83c928c740abd68d"
      }
     },
     "2726ee29aacf40888cdba910e3c241d4": {
      "model_module": "@jupyter-widgets/controls",
      "model_module_version": "1.5.0",
      "model_name": "HTMLModel",
      "state": {
       "layout": "IPY_MODEL_34494c9ad72f4d1c8d68b2cb20740716",
       "style": "IPY_MODEL_d862c666ae2e4c45aa86930c24751f4f",
       "value": " 338/338 [01:51&lt;00:00,  3.04it/s, acc=0.986, loss=0.0171]"
      }
     },
     "273d42fd642546528499a9c34417116b": {
      "model_module": "@jupyter-widgets/controls",
      "model_module_version": "1.5.0",
      "model_name": "DescriptionStyleModel",
      "state": {
       "description_width": ""
      }
     },
     "274979508c3c4506ab775db479c9bb8e": {
      "model_module": "@jupyter-widgets/controls",
      "model_module_version": "1.5.0",
      "model_name": "HBoxModel",
      "state": {
       "children": [
        "IPY_MODEL_ce9f5a8d0dd84330b75d1ee68faa4459",
        "IPY_MODEL_ec8cab37c5914df6935bf8970eab8077"
       ],
       "layout": "IPY_MODEL_fdc80a6506c445af873b4a8e8e7b0168"
      }
     },
     "2775d3b93fef4c14b2dc11c01752fc66": {
      "model_module": "@jupyter-widgets/controls",
      "model_module_version": "1.5.0",
      "model_name": "ProgressStyleModel",
      "state": {
       "description_width": "initial"
      }
     },
     "277bd6946b76406fbae6d2d98639eb51": {
      "model_module": "@jupyter-widgets/base",
      "model_module_version": "1.2.0",
      "model_name": "LayoutModel",
      "state": {}
     },
     "27b7960e009b411daa6ec0b259be064a": {
      "model_module": "@jupyter-widgets/controls",
      "model_module_version": "1.5.0",
      "model_name": "HTMLModel",
      "state": {
       "layout": "IPY_MODEL_e3b0072cb16645b19aa4c1ccf9d6768a",
       "style": "IPY_MODEL_b94b70d9bbe94a13a5c8538b4a1d01bb"
      }
     },
     "27ed9c07bcc248c09f94c593ecfe3fbb": {
      "model_module": "@jupyter-widgets/controls",
      "model_module_version": "1.5.0",
      "model_name": "ProgressStyleModel",
      "state": {
       "description_width": "initial"
      }
     },
     "2800aaf65be54efe81e13d615eb8335b": {
      "model_module": "@jupyter-widgets/controls",
      "model_module_version": "1.5.0",
      "model_name": "HTMLModel",
      "state": {
       "layout": "IPY_MODEL_1f5f6ca6387542ff8df5e8051130476d",
       "style": "IPY_MODEL_98cc207c5f0840359335d1c0255e1d28",
       "value": " 289/289 [00:50&lt;00:00,  5.72it/s, acc=0.986, loss=0.0658]"
      }
     },
     "2809180dd8cf419983aaca3851b6b225": {
      "model_module": "@jupyter-widgets/controls",
      "model_module_version": "1.5.0",
      "model_name": "IntProgressModel",
      "state": {
       "layout": "IPY_MODEL_dbb95d2647ca4cb2a8be42a311ccf41e",
       "max": 289,
       "style": "IPY_MODEL_ad5d29c174764d84ba806e158c663429"
      }
     },
     "286511e4fc2b4a0caa2c39843b5119a6": {
      "model_module": "@jupyter-widgets/base",
      "model_module_version": "1.2.0",
      "model_name": "LayoutModel",
      "state": {}
     },
     "28955c3de769404498b87e5cf35f0134": {
      "model_module": "@jupyter-widgets/controls",
      "model_module_version": "1.5.0",
      "model_name": "IntProgressModel",
      "state": {
       "bar_style": "success",
       "description": "Epoch [12/40]: 100%",
       "layout": "IPY_MODEL_9ffc11c7592b4bfba574f71647eeac7d",
       "max": 241,
       "style": "IPY_MODEL_92c96a718f98477d917aea03130dd108",
       "value": 241
      }
     },
     "289ddf85539548b2aa00c78156a57b69": {
      "model_module": "@jupyter-widgets/controls",
      "model_module_version": "1.5.0",
      "model_name": "ProgressStyleModel",
      "state": {
       "description_width": "initial"
      }
     },
     "28a38374e75145cc998e7b2a6d377ec3": {
      "model_module": "@jupyter-widgets/controls",
      "model_module_version": "1.5.0",
      "model_name": "HTMLModel",
      "state": {
       "layout": "IPY_MODEL_04c25d15401a44b09c0948532fe775df",
       "style": "IPY_MODEL_89e2ecc4c6e04416bce181188acd0358",
       "value": " 255/255 [01:26&lt;00:00,  2.95it/s, acc=0.252, loss=1.69]"
      }
     },
     "28b84eb7700a4871b641bc42412513c8": {
      "model_module": "@jupyter-widgets/controls",
      "model_module_version": "1.5.0",
      "model_name": "IntProgressModel",
      "state": {
       "bar_style": "success",
       "description": "Epoch [36/40]: 100%",
       "layout": "IPY_MODEL_8580328d991b4b1da7f8d990c0fe3e4d",
       "max": 338,
       "style": "IPY_MODEL_891d671291334adb90c9d3dbff518122",
       "value": 338
      }
     },
     "28f1ddfeba134674bdbc35f8e27da8fc": {
      "model_module": "@jupyter-widgets/base",
      "model_module_version": "1.2.0",
      "model_name": "LayoutModel",
      "state": {}
     },
     "290aea8134f945579cce565c35eb13ea": {
      "model_module": "@jupyter-widgets/controls",
      "model_module_version": "1.5.0",
      "model_name": "ProgressStyleModel",
      "state": {
       "description_width": "initial"
      }
     },
     "29108dd0b6084ddbbda2079df57df136": {
      "model_module": "@jupyter-widgets/controls",
      "model_module_version": "1.5.0",
      "model_name": "HTMLModel",
      "state": {
       "layout": "IPY_MODEL_f9b709f78ebf4fd49de42b0742c8f2ab",
       "style": "IPY_MODEL_98f4af748f9c421cb307d62f72f732f9",
       "value": " 241/241 [00:44&lt;00:00,  5.44it/s, acc=0.97, loss=0.155]"
      }
     },
     "29773b1b84f84c3cb58b97e2041fa0f9": {
      "model_module": "@jupyter-widgets/controls",
      "model_module_version": "1.5.0",
      "model_name": "ProgressStyleModel",
      "state": {
       "description_width": "initial"
      }
     },
     "29b029a1a2d3408a9eaee0422ed38b85": {
      "model_module": "@jupyter-widgets/controls",
      "model_module_version": "1.5.0",
      "model_name": "ProgressStyleModel",
      "state": {
       "description_width": "initial"
      }
     },
     "29bc6fdd297f482890e81f0cc1c0d8dd": {
      "model_module": "@jupyter-widgets/controls",
      "model_module_version": "1.5.0",
      "model_name": "DescriptionStyleModel",
      "state": {
       "description_width": ""
      }
     },
     "29e0297aecc84808b47182d15b29a37c": {
      "model_module": "@jupyter-widgets/controls",
      "model_module_version": "1.5.0",
      "model_name": "IntProgressModel",
      "state": {
       "bar_style": "success",
       "description": "Epoch [6/100]: 100%",
       "layout": "IPY_MODEL_89b2f5b4b0164676a99543b90037d684",
       "max": 289,
       "style": "IPY_MODEL_0657228b829b4646b1c83ae3a5535b81",
       "value": 289
      }
     },
     "29fd437ef98a4ffe8efa902b5a21888f": {
      "model_module": "@jupyter-widgets/controls",
      "model_module_version": "1.5.0",
      "model_name": "HTMLModel",
      "state": {
       "layout": "IPY_MODEL_17cff444bfd84ac7b064b52758d90cf6",
       "style": "IPY_MODEL_96686eacfdb7492e8d08785c709a06d3",
       "value": " 289/289 [00:42&lt;00:00,  6.87it/s, acc=0.975, loss=0.0308]"
      }
     },
     "2a0576c3c70e4289ab142d1d530c818a": {
      "model_module": "@jupyter-widgets/controls",
      "model_module_version": "1.5.0",
      "model_name": "DescriptionStyleModel",
      "state": {
       "description_width": ""
      }
     },
     "2a3e903b10a44e9dbb7170c987c4a422": {
      "model_module": "@jupyter-widgets/base",
      "model_module_version": "1.2.0",
      "model_name": "LayoutModel",
      "state": {}
     },
     "2a478abbfa1e4ad0bf49a6e03200a1b1": {
      "model_module": "@jupyter-widgets/controls",
      "model_module_version": "1.5.0",
      "model_name": "IntProgressModel",
      "state": {
       "bar_style": "success",
       "description": "Epoch [3/40]: 100%",
       "layout": "IPY_MODEL_836d1ea0465a468a96621136bc0b5b0b",
       "max": 241,
       "style": "IPY_MODEL_13dfe68da745414eb07a6b5816725e25",
       "value": 241
      }
     },
     "2a4e8c1d5b234febbcc10a747dfb35c4": {
      "model_module": "@jupyter-widgets/controls",
      "model_module_version": "1.5.0",
      "model_name": "DescriptionStyleModel",
      "state": {
       "description_width": ""
      }
     },
     "2a6dab3cfe6e41258bd299b7018d2b6e": {
      "model_module": "@jupyter-widgets/controls",
      "model_module_version": "1.5.0",
      "model_name": "DescriptionStyleModel",
      "state": {
       "description_width": ""
      }
     },
     "2a9ea2476f9643cda315e5746f49d207": {
      "model_module": "@jupyter-widgets/controls",
      "model_module_version": "1.5.0",
      "model_name": "ProgressStyleModel",
      "state": {
       "description_width": "initial"
      }
     },
     "2a9ef5b7c3674b808223692ee9d67f7f": {
      "model_module": "@jupyter-widgets/controls",
      "model_module_version": "1.5.0",
      "model_name": "IntProgressModel",
      "state": {
       "bar_style": "success",
       "description": "Epoch [4/40]: 100%",
       "layout": "IPY_MODEL_286511e4fc2b4a0caa2c39843b5119a6",
       "max": 361,
       "style": "IPY_MODEL_454046a20d0b4d1c97a3e43ea97ea16b",
       "value": 361
      }
     },
     "2add613cb1ea47cea1d11be6bfa0bbbb": {
      "model_module": "@jupyter-widgets/base",
      "model_module_version": "1.2.0",
      "model_name": "LayoutModel",
      "state": {}
     },
     "2ae098f3d2f24b86a0ccd0ee6ce6667d": {
      "model_module": "@jupyter-widgets/controls",
      "model_module_version": "1.5.0",
      "model_name": "IntProgressModel",
      "state": {
       "bar_style": "danger",
       "description": "Epoch [47/100]:   6%",
       "layout": "IPY_MODEL_03fa25600d7f468cb86bdfb5fe39d90a",
       "max": 289,
       "style": "IPY_MODEL_c6af7a8f5641420389613128d4e3d24d",
       "value": 17
      }
     },
     "2b26cabf3c4e4ae08a96821861242df5": {
      "model_module": "@jupyter-widgets/controls",
      "model_module_version": "1.5.0",
      "model_name": "HBoxModel",
      "state": {
       "children": [
        "IPY_MODEL_a43a160017924734b6b9af3cd2837c02",
        "IPY_MODEL_5a765adcdd6148b5938b897e9606589f"
       ],
       "layout": "IPY_MODEL_2ee98c8a2d1d4430b16ae13650256851"
      }
     },
     "2b36dfb67af8468baad1e5e5f1146076": {
      "model_module": "@jupyter-widgets/controls",
      "model_module_version": "1.5.0",
      "model_name": "DescriptionStyleModel",
      "state": {
       "description_width": ""
      }
     },
     "2b56e59e93a2471a9604ab86be4029fe": {
      "model_module": "@jupyter-widgets/controls",
      "model_module_version": "1.5.0",
      "model_name": "HBoxModel",
      "state": {
       "children": [
        "IPY_MODEL_c7662dd49275426883aba32e054286b2",
        "IPY_MODEL_93c1167e11b345f78b05ea09eef16280"
       ],
       "layout": "IPY_MODEL_deb9230dc2e34403af31012e9951802e"
      }
     },
     "2b6dd2f683264cce9eb72e4279d46a9a": {
      "model_module": "@jupyter-widgets/base",
      "model_module_version": "1.2.0",
      "model_name": "LayoutModel",
      "state": {}
     },
     "2b7413c74eba4fac89cafb0d0a5a0367": {
      "model_module": "@jupyter-widgets/base",
      "model_module_version": "1.2.0",
      "model_name": "LayoutModel",
      "state": {}
     },
     "2ba9a64408fc43fa835684eb8486c7ac": {
      "model_module": "@jupyter-widgets/controls",
      "model_module_version": "1.5.0",
      "model_name": "HTMLModel",
      "state": {
       "layout": "IPY_MODEL_c250af10fcb2483cb008fee6193fb981",
       "style": "IPY_MODEL_96f84d6e84dd45cebce21605dcda610c",
       "value": " 281/281 [01:13&lt;00:00,  3.83it/s, acc=0.991, loss=0.00161]"
      }
     },
     "2bb699652b564b3598367544bdb4a95c": {
      "model_module": "@jupyter-widgets/controls",
      "model_module_version": "1.5.0",
      "model_name": "ProgressStyleModel",
      "state": {
       "description_width": "initial"
      }
     },
     "2bd7f3cdf3a246739e906842bf4981bd": {
      "model_module": "@jupyter-widgets/base",
      "model_module_version": "1.2.0",
      "model_name": "LayoutModel",
      "state": {}
     },
     "2c1e0b4b60454c87880500c8b8f275a3": {
      "model_module": "@jupyter-widgets/base",
      "model_module_version": "1.2.0",
      "model_name": "LayoutModel",
      "state": {}
     },
     "2c2ecfcf479f4f6a96aa387684cdb07b": {
      "model_module": "@jupyter-widgets/controls",
      "model_module_version": "1.5.0",
      "model_name": "DescriptionStyleModel",
      "state": {
       "description_width": ""
      }
     },
     "2c673da418d9450691ca2d0b0b390582": {
      "model_module": "@jupyter-widgets/base",
      "model_module_version": "1.2.0",
      "model_name": "LayoutModel",
      "state": {}
     },
     "2c6a872be21b41bd89f8ecaf5c4ee8eb": {
      "model_module": "@jupyter-widgets/controls",
      "model_module_version": "1.5.0",
      "model_name": "IntProgressModel",
      "state": {
       "bar_style": "success",
       "description": "Epoch [2/5]: 100%",
       "layout": "IPY_MODEL_5336b3ab9e2b488693784bc47057f807",
       "max": 289,
       "style": "IPY_MODEL_0aea756ae4ed4664a477623116b6eb42",
       "value": 289
      }
     },
     "2c74fbb73cb04472a961ae4ea05a4554": {
      "model_module": "@jupyter-widgets/base",
      "model_module_version": "1.2.0",
      "model_name": "LayoutModel",
      "state": {}
     },
     "2ca3109fb275409282dd63a3d91e42a6": {
      "model_module": "@jupyter-widgets/base",
      "model_module_version": "1.2.0",
      "model_name": "LayoutModel",
      "state": {}
     },
     "2ca564cd01c44d818c99bcded5df59b6": {
      "model_module": "@jupyter-widgets/base",
      "model_module_version": "1.2.0",
      "model_name": "LayoutModel",
      "state": {}
     },
     "2ccefc66b32541c08b5e3b93499b9948": {
      "model_module": "@jupyter-widgets/controls",
      "model_module_version": "1.5.0",
      "model_name": "ProgressStyleModel",
      "state": {
       "description_width": "initial"
      }
     },
     "2d2e909911af4006b001175ff3345c77": {
      "model_module": "@jupyter-widgets/base",
      "model_module_version": "1.2.0",
      "model_name": "LayoutModel",
      "state": {}
     },
     "2d564a28b7e64ba1b00db58bd36f5fc8": {
      "model_module": "@jupyter-widgets/controls",
      "model_module_version": "1.5.0",
      "model_name": "IntProgressModel",
      "state": {
       "bar_style": "success",
       "description": "Epoch [27/40]: 100%",
       "layout": "IPY_MODEL_74add039a0634f508bf7287dd9dda024",
       "max": 361,
       "style": "IPY_MODEL_9612e2e11cda4057b15a68c522357759",
       "value": 361
      }
     },
     "2d5a8e5557b140ff8ce1ef07fe635dec": {
      "model_module": "@jupyter-widgets/base",
      "model_module_version": "1.2.0",
      "model_name": "LayoutModel",
      "state": {}
     },
     "2dacbc54486149df94d29bdf72825f4e": {
      "model_module": "@jupyter-widgets/base",
      "model_module_version": "1.2.0",
      "model_name": "LayoutModel",
      "state": {}
     },
     "2dd00ed064c34d61b53680efbce9e44a": {
      "model_module": "@jupyter-widgets/controls",
      "model_module_version": "1.5.0",
      "model_name": "IntProgressModel",
      "state": {
       "bar_style": "success",
       "description": "Epoch [2/100]: 100%",
       "layout": "IPY_MODEL_e2017493ddb74da39d101e9bbdb06e7b",
       "max": 289,
       "style": "IPY_MODEL_65b58facb5b04c329155905659683169",
       "value": 289
      }
     },
     "2de1f3415c004be8acb6cdd4150478ac": {
      "model_module": "@jupyter-widgets/base",
      "model_module_version": "1.2.0",
      "model_name": "LayoutModel",
      "state": {}
     },
     "2e25e2e9e3a34b439747132762df73e2": {
      "model_module": "@jupyter-widgets/base",
      "model_module_version": "1.2.0",
      "model_name": "LayoutModel",
      "state": {}
     },
     "2e3071864f624e719b192d7daff6bb97": {
      "model_module": "@jupyter-widgets/controls",
      "model_module_version": "1.5.0",
      "model_name": "DescriptionStyleModel",
      "state": {
       "description_width": ""
      }
     },
     "2e35d2fcf9db486fa3a51afc7ab1c9b7": {
      "model_module": "@jupyter-widgets/controls",
      "model_module_version": "1.5.0",
      "model_name": "HBoxModel",
      "state": {
       "children": [
        "IPY_MODEL_434ce0758c3a4397939f511283d9ae9e",
        "IPY_MODEL_7dc8622fc04f4a6fb1caff6e407b4176"
       ],
       "layout": "IPY_MODEL_f6ae7ebc742f4d618a8ff14cd0293b65"
      }
     },
     "2e7aee65d19748dfbd58381309a9b185": {
      "model_module": "@jupyter-widgets/base",
      "model_module_version": "1.2.0",
      "model_name": "LayoutModel",
      "state": {}
     },
     "2eb6f524bff542d1a273f16b691f6482": {
      "model_module": "@jupyter-widgets/controls",
      "model_module_version": "1.5.0",
      "model_name": "IntProgressModel",
      "state": {
       "bar_style": "success",
       "description": "Epoch [38/40]: 100%",
       "layout": "IPY_MODEL_a8501d0fb0914743b756539e3f689c65",
       "max": 289,
       "style": "IPY_MODEL_41b38170d8ef45e5a4e7cff92da8af74",
       "value": 289
      }
     },
     "2ee98c8a2d1d4430b16ae13650256851": {
      "model_module": "@jupyter-widgets/base",
      "model_module_version": "1.2.0",
      "model_name": "LayoutModel",
      "state": {}
     },
     "2efe3790c97b492792d957ddd71698ce": {
      "model_module": "@jupyter-widgets/controls",
      "model_module_version": "1.5.0",
      "model_name": "HTMLModel",
      "state": {
       "layout": "IPY_MODEL_c98724891645400ba71e71928a6705f6",
       "style": "IPY_MODEL_32a27e30063f42558e97acb8f56f6d0d",
       "value": " 289/289 [01:50&lt;00:00,  2.62it/s, acc=0.279, loss=1.62]"
      }
     },
     "2f01efc27936473e896f411e64441bd0": {
      "model_module": "@jupyter-widgets/controls",
      "model_module_version": "1.5.0",
      "model_name": "IntProgressModel",
      "state": {
       "bar_style": "success",
       "description": "Epoch [45/100]: 100%",
       "layout": "IPY_MODEL_89ebc25bc8864179b3d712b52d64e1b4",
       "max": 289,
       "style": "IPY_MODEL_e658868ae5444ccbb62a9db2d84ab528",
       "value": 289
      }
     },
     "2f1b9fbbc38a42278f61194469c25801": {
      "model_module": "@jupyter-widgets/base",
      "model_module_version": "1.2.0",
      "model_name": "LayoutModel",
      "state": {}
     },
     "2f47733d8bab4b88bd726a6a139ada4b": {
      "model_module": "@jupyter-widgets/base",
      "model_module_version": "1.2.0",
      "model_name": "LayoutModel",
      "state": {}
     },
     "2f48a05a66f840b18273c9706536db8d": {
      "model_module": "@jupyter-widgets/controls",
      "model_module_version": "1.5.0",
      "model_name": "HTMLModel",
      "state": {
       "layout": "IPY_MODEL_cce5d7f7de184252ac1aa6763dce2ddf",
       "style": "IPY_MODEL_683230edf2334b2e94490c8fc8610e02",
       "value": " 255/255 [02:13&lt;00:00,  1.91it/s, acc=0.972, loss=0.278]"
      }
     },
     "2f4c070b42b245f79fe16ede15cc40c1": {
      "model_module": "@jupyter-widgets/controls",
      "model_module_version": "1.5.0",
      "model_name": "IntProgressModel",
      "state": {
       "bar_style": "success",
       "description": "Epoch [19/40]: 100%",
       "layout": "IPY_MODEL_f266bf060e0847dcb539736b1faad279",
       "max": 241,
       "style": "IPY_MODEL_a39ba91709514f20a5c8b320dc12329b",
       "value": 241
      }
     },
     "2f62bc516b2947f880984083a0875ba8": {
      "model_module": "@jupyter-widgets/base",
      "model_module_version": "1.2.0",
      "model_name": "LayoutModel",
      "state": {}
     },
     "2f6517dca11e40b5a08e314df179e24f": {
      "model_module": "@jupyter-widgets/base",
      "model_module_version": "1.2.0",
      "model_name": "LayoutModel",
      "state": {}
     },
     "2f6f0db6bd2a41fabaa1acbf3ef52375": {
      "model_module": "@jupyter-widgets/base",
      "model_module_version": "1.2.0",
      "model_name": "LayoutModel",
      "state": {}
     },
     "2f7e92af50d64919951e535f0083ca05": {
      "model_module": "@jupyter-widgets/base",
      "model_module_version": "1.2.0",
      "model_name": "LayoutModel",
      "state": {}
     },
     "2f803dfb56bf49f88e424d19866bd742": {
      "model_module": "@jupyter-widgets/base",
      "model_module_version": "1.2.0",
      "model_name": "LayoutModel",
      "state": {}
     },
     "2fc86bea5bdb471c83c928c740abd68d": {
      "model_module": "@jupyter-widgets/base",
      "model_module_version": "1.2.0",
      "model_name": "LayoutModel",
      "state": {}
     },
     "2fcd69ad69b04b0abfd0db10c087cfbb": {
      "model_module": "@jupyter-widgets/controls",
      "model_module_version": "1.5.0",
      "model_name": "HBoxModel",
      "state": {
       "children": [
        "IPY_MODEL_14ff791ff7ef49e0a7d0a02d9a0f1272",
        "IPY_MODEL_afaec1976cdb432ca4f4391248e26d6e"
       ],
       "layout": "IPY_MODEL_5c4404f8c52940ddae97595d89b82689"
      }
     },
     "2fe0b679798c4137ba82775907e32f97": {
      "model_module": "@jupyter-widgets/base",
      "model_module_version": "1.2.0",
      "model_name": "LayoutModel",
      "state": {}
     },
     "2fffe96928624cd1befd935dd8208841": {
      "model_module": "@jupyter-widgets/base",
      "model_module_version": "1.2.0",
      "model_name": "LayoutModel",
      "state": {}
     },
     "302b167fd3a64c48a89a52e547e47f95": {
      "model_module": "@jupyter-widgets/controls",
      "model_module_version": "1.5.0",
      "model_name": "ProgressStyleModel",
      "state": {
       "description_width": "initial"
      }
     },
     "303db7fdc6874cafa141ea40e68f86c4": {
      "model_module": "@jupyter-widgets/controls",
      "model_module_version": "1.5.0",
      "model_name": "IntProgressModel",
      "state": {
       "bar_style": "success",
       "description": "Epoch [40/40]: 100%",
       "layout": "IPY_MODEL_f1d606ed4ff34d6dbb731d393517ee1e",
       "max": 338,
       "style": "IPY_MODEL_9dcdedffce0147a1a6191cc357827027",
       "value": 338
      }
     },
     "30463f90c12a469c96458899497c2925": {
      "model_module": "@jupyter-widgets/controls",
      "model_module_version": "1.5.0",
      "model_name": "IntProgressModel",
      "state": {
       "bar_style": "success",
       "description": "Epoch [40/40]: 100%",
       "layout": "IPY_MODEL_6a3df3e41be94005b4affd6e25752171",
       "max": 255,
       "style": "IPY_MODEL_c1518accef3a4c82b9cad8fa05ba224e",
       "value": 255
      }
     },
     "3092e235f9c74407a9e9832e6b533846": {
      "model_module": "@jupyter-widgets/base",
      "model_module_version": "1.2.0",
      "model_name": "LayoutModel",
      "state": {}
     },
     "30a3e0d85ed841929842651ec978ec33": {
      "model_module": "@jupyter-widgets/controls",
      "model_module_version": "1.5.0",
      "model_name": "ProgressStyleModel",
      "state": {
       "description_width": "initial"
      }
     },
     "30af894d181e4320a823cd57264f3bb2": {
      "model_module": "@jupyter-widgets/controls",
      "model_module_version": "1.5.0",
      "model_name": "DescriptionStyleModel",
      "state": {
       "description_width": ""
      }
     },
     "30c14431986f4365b9c8cf77a82f75e0": {
      "model_module": "@jupyter-widgets/base",
      "model_module_version": "1.2.0",
      "model_name": "LayoutModel",
      "state": {}
     },
     "30fa78c8c5cc49d08b68f253370094be": {
      "model_module": "@jupyter-widgets/controls",
      "model_module_version": "1.5.0",
      "model_name": "ProgressStyleModel",
      "state": {
       "description_width": "initial"
      }
     },
     "31025ab9500b4124859cdd1c235f208e": {
      "model_module": "@jupyter-widgets/base",
      "model_module_version": "1.2.0",
      "model_name": "LayoutModel",
      "state": {}
     },
     "31231be2b0e642a4ad235ace699b8a7a": {
      "model_module": "@jupyter-widgets/controls",
      "model_module_version": "1.5.0",
      "model_name": "HTMLModel",
      "state": {
       "layout": "IPY_MODEL_b62aea15bfcc48109afc62e0eddbec0b",
       "style": "IPY_MODEL_c0b730abe09642e2b087ed90b71ca16e",
       "value": " 241/241 [01:42&lt;00:00,  2.35it/s, acc=0.258, loss=1.51]"
      }
     },
     "31238c7966514ebfbb8a152b3e879881": {
      "model_module": "@jupyter-widgets/controls",
      "model_module_version": "1.5.0",
      "model_name": "ProgressStyleModel",
      "state": {
       "description_width": "initial"
      }
     },
     "3155e0762b0f4cc88cf2fa5ae2d351f6": {
      "model_module": "@jupyter-widgets/controls",
      "model_module_version": "1.5.0",
      "model_name": "ProgressStyleModel",
      "state": {
       "description_width": "initial"
      }
     },
     "3157608ad700479a8c29e9c494ddad5d": {
      "model_module": "@jupyter-widgets/controls",
      "model_module_version": "1.5.0",
      "model_name": "ProgressStyleModel",
      "state": {
       "description_width": "initial"
      }
     },
     "315ee885acbd43f6be3bc952aa37dad6": {
      "model_module": "@jupyter-widgets/controls",
      "model_module_version": "1.5.0",
      "model_name": "DescriptionStyleModel",
      "state": {
       "description_width": ""
      }
     },
     "317f1193445c40dc94bb222bb03ee578": {
      "model_module": "@jupyter-widgets/base",
      "model_module_version": "1.2.0",
      "model_name": "LayoutModel",
      "state": {}
     },
     "319fe55339644d69a4c77fdf8a9dc746": {
      "model_module": "@jupyter-widgets/base",
      "model_module_version": "1.2.0",
      "model_name": "LayoutModel",
      "state": {}
     },
     "31b33b40e3a44e2594f1ecfdd20e112c": {
      "model_module": "@jupyter-widgets/controls",
      "model_module_version": "1.5.0",
      "model_name": "IntProgressModel",
      "state": {
       "bar_style": "success",
       "description": "Epoch [21/40]: 100%",
       "layout": "IPY_MODEL_47d93d1edd42452da8f8c0d1a2fd2a01",
       "max": 338,
       "style": "IPY_MODEL_996c1808acac43c482dd0ebb815b03a4",
       "value": 338
      }
     },
     "31c2903468274584b899d31e0e14f0ba": {
      "model_module": "@jupyter-widgets/controls",
      "model_module_version": "1.5.0",
      "model_name": "ProgressStyleModel",
      "state": {
       "description_width": "initial"
      }
     },
     "31cdbff756964f449483460052c20bbe": {
      "model_module": "@jupyter-widgets/controls",
      "model_module_version": "1.5.0",
      "model_name": "HBoxModel",
      "state": {
       "children": [
        "IPY_MODEL_18b5cb03f29d4db1972e3ff0bf641ddf",
        "IPY_MODEL_d1129fdb35414752b93478f0b83e726f"
       ],
       "layout": "IPY_MODEL_07cf6db0841442d08553f59fbdc63bb0"
      }
     },
     "31da1c27446449288f9f3db35e725718": {
      "model_module": "@jupyter-widgets/controls",
      "model_module_version": "1.5.0",
      "model_name": "HBoxModel",
      "state": {
       "children": [
        "IPY_MODEL_f24cb15126ab4938b0ce633e1a05eb17",
        "IPY_MODEL_fffc7be8bc8547f9ba7f8355f0af9e21"
       ],
       "layout": "IPY_MODEL_ff7a276c3e1a4dac9e9169b87a114717"
      }
     },
     "31dd30cbf17442d084f62727b39f165a": {
      "model_module": "@jupyter-widgets/controls",
      "model_module_version": "1.5.0",
      "model_name": "HTMLModel",
      "state": {
       "layout": "IPY_MODEL_d3ed8a9c863b4d9c8c45551fbc216d0c",
       "style": "IPY_MODEL_5b1c0615f7d24f048addc6ea5045809b",
       "value": " 255/255 [00:42&lt;00:00,  5.96it/s, acc=0.968, loss=0.0258]"
      }
     },
     "31ff4451542d4c0d9198e67d53ea0c61": {
      "model_module": "@jupyter-widgets/base",
      "model_module_version": "1.2.0",
      "model_name": "LayoutModel",
      "state": {}
     },
     "31ff6c100a194700a85b8103074e9fbc": {
      "model_module": "@jupyter-widgets/base",
      "model_module_version": "1.2.0",
      "model_name": "LayoutModel",
      "state": {}
     },
     "32126dc4c8aa49bd84378ed4d1c5e847": {
      "model_module": "@jupyter-widgets/controls",
      "model_module_version": "1.5.0",
      "model_name": "DescriptionStyleModel",
      "state": {
       "description_width": ""
      }
     },
     "3216d5b9867c44fea847e73e7c0d34db": {
      "model_module": "@jupyter-widgets/controls",
      "model_module_version": "1.5.0",
      "model_name": "IntProgressModel",
      "state": {
       "bar_style": "success",
       "description": "Epoch [8/40]: 100%",
       "layout": "IPY_MODEL_04ec94fa47284d0bb913775e7951b13a",
       "max": 338,
       "style": "IPY_MODEL_aabf60ab314144fb8eee8999947b270e",
       "value": 338
      }
     },
     "32610dae73de4bc58fec258e93ffb124": {
      "model_module": "@jupyter-widgets/base",
      "model_module_version": "1.2.0",
      "model_name": "LayoutModel",
      "state": {}
     },
     "329ed4509f074009a88b4ccd8a4772ae": {
      "model_module": "@jupyter-widgets/controls",
      "model_module_version": "1.5.0",
      "model_name": "ProgressStyleModel",
      "state": {
       "description_width": "initial"
      }
     },
     "32a27e30063f42558e97acb8f56f6d0d": {
      "model_module": "@jupyter-widgets/controls",
      "model_module_version": "1.5.0",
      "model_name": "DescriptionStyleModel",
      "state": {
       "description_width": ""
      }
     },
     "32ad3ed80be34e97825b95da61410832": {
      "model_module": "@jupyter-widgets/controls",
      "model_module_version": "1.5.0",
      "model_name": "ProgressStyleModel",
      "state": {
       "description_width": "initial"
      }
     },
     "32b1c224f2d2401d985db4abd1f9feba": {
      "model_module": "@jupyter-widgets/base",
      "model_module_version": "1.2.0",
      "model_name": "LayoutModel",
      "state": {}
     },
     "32dfbd535ccb4e46b458321a7c587b51": {
      "model_module": "@jupyter-widgets/base",
      "model_module_version": "1.2.0",
      "model_name": "LayoutModel",
      "state": {}
     },
     "3318f0a5032f43ce8dc3eede191c83f8": {
      "model_module": "@jupyter-widgets/base",
      "model_module_version": "1.2.0",
      "model_name": "LayoutModel",
      "state": {}
     },
     "333f1dc08388491095dc9a0212fe240d": {
      "model_module": "@jupyter-widgets/controls",
      "model_module_version": "1.5.0",
      "model_name": "IntProgressModel",
      "state": {
       "bar_style": "success",
       "description": "Epoch [29/40]: 100%",
       "layout": "IPY_MODEL_ba2de7a1204346c3ab4bd64bf2039886",
       "max": 289,
       "style": "IPY_MODEL_31c2903468274584b899d31e0e14f0ba",
       "value": 289
      }
     },
     "33770b961ad743618ae702aa5ac1170a": {
      "model_module": "@jupyter-widgets/controls",
      "model_module_version": "1.5.0",
      "model_name": "ProgressStyleModel",
      "state": {
       "description_width": "initial"
      }
     },
     "33ceed4d76be4322a069ec42211f5003": {
      "model_module": "@jupyter-widgets/base",
      "model_module_version": "1.2.0",
      "model_name": "LayoutModel",
      "state": {}
     },
     "33dd51e7ae7d40d7af83eb43e86a712a": {
      "model_module": "@jupyter-widgets/base",
      "model_module_version": "1.2.0",
      "model_name": "LayoutModel",
      "state": {}
     },
     "33fa9564ec0440e3882a969b945a266a": {
      "model_module": "@jupyter-widgets/controls",
      "model_module_version": "1.5.0",
      "model_name": "ProgressStyleModel",
      "state": {
       "description_width": "initial"
      }
     },
     "34118ad1da4b4580b63ae11fca977f9d": {
      "model_module": "@jupyter-widgets/controls",
      "model_module_version": "1.5.0",
      "model_name": "DescriptionStyleModel",
      "state": {
       "description_width": ""
      }
     },
     "34355e72695b4482a9e3db2048e34dcd": {
      "model_module": "@jupyter-widgets/controls",
      "model_module_version": "1.5.0",
      "model_name": "ProgressStyleModel",
      "state": {
       "description_width": "initial"
      }
     },
     "34494c9ad72f4d1c8d68b2cb20740716": {
      "model_module": "@jupyter-widgets/base",
      "model_module_version": "1.2.0",
      "model_name": "LayoutModel",
      "state": {}
     },
     "345a85e059ac44ca84212576f4bea646": {
      "model_module": "@jupyter-widgets/base",
      "model_module_version": "1.2.0",
      "model_name": "LayoutModel",
      "state": {}
     },
     "34655f06e8b547f5bad7fc52f0704a8e": {
      "model_module": "@jupyter-widgets/base",
      "model_module_version": "1.2.0",
      "model_name": "LayoutModel",
      "state": {}
     },
     "348f1ef8c5fb4776b5e46f2fd652f840": {
      "model_module": "@jupyter-widgets/controls",
      "model_module_version": "1.5.0",
      "model_name": "DescriptionStyleModel",
      "state": {
       "description_width": ""
      }
     },
     "34923f7a55c64bae96d3c56fe2b5476f": {
      "model_module": "@jupyter-widgets/controls",
      "model_module_version": "1.5.0",
      "model_name": "HBoxModel",
      "state": {
       "children": [
        "IPY_MODEL_3743d26e6550490eb1ef5dbfed30ffc5",
        "IPY_MODEL_54de20894f274dbb811044e9f55870d2"
       ],
       "layout": "IPY_MODEL_d1df847722dc4d70bc310df150636685"
      }
     },
     "349569bf42c849058e47020b9488e7f5": {
      "model_module": "@jupyter-widgets/controls",
      "model_module_version": "1.5.0",
      "model_name": "IntProgressModel",
      "state": {
       "bar_style": "success",
       "description": "Epoch [8/40]: 100%",
       "layout": "IPY_MODEL_a82e3cee873a4a84940af3af7ea1cdf7",
       "max": 361,
       "style": "IPY_MODEL_7aca05dbb6894cd9a5fa0463fad909c6",
       "value": 361
      }
     },
     "349e1fa601b24a04a3e20e2d8c575105": {
      "model_module": "@jupyter-widgets/base",
      "model_module_version": "1.2.0",
      "model_name": "LayoutModel",
      "state": {}
     },
     "34a102bd9225434a896b5dda053e0f6d": {
      "model_module": "@jupyter-widgets/controls",
      "model_module_version": "1.5.0",
      "model_name": "HTMLModel",
      "state": {
       "layout": "IPY_MODEL_6d941e3ebe874d2ab7f38e259358d019",
       "style": "IPY_MODEL_a75b7da2f93743d8947476476c5eab8b"
      }
     },
     "34cae68d6f8f4f869d201260dec57a6c": {
      "model_module": "@jupyter-widgets/controls",
      "model_module_version": "1.5.0",
      "model_name": "HBoxModel",
      "state": {
       "children": [
        "IPY_MODEL_4f34052f178f4606ae6717d6159bf5e0",
        "IPY_MODEL_41a0c422d0844bb281a1b412aeb5cf23"
       ],
       "layout": "IPY_MODEL_1688ce5b8c2543f7b7dad007596f80d2"
      }
     },
     "34dd3c4b2162410da3d25f2d4f73d7d7": {
      "model_module": "@jupyter-widgets/controls",
      "model_module_version": "1.5.0",
      "model_name": "HTMLModel",
      "state": {
       "layout": "IPY_MODEL_eb4f00699257409eb987e8aee62ee22b",
       "style": "IPY_MODEL_6f7c807f132140979b60e3cd31562517",
       "value": " 361/361 [02:07&lt;00:00,  2.84it/s, acc=0.969, loss=0.12]"
      }
     },
     "350bf462665641cf8d9e25080ccbdc7a": {
      "model_module": "@jupyter-widgets/controls",
      "model_module_version": "1.5.0",
      "model_name": "HBoxModel",
      "state": {
       "children": [
        "IPY_MODEL_4202216777374e82b26b8c29b7007617",
        "IPY_MODEL_8e1cf1cff23e47c2a3bc5487de4f2deb"
       ],
       "layout": "IPY_MODEL_3886506d033f40fea2e18950d4665807"
      }
     },
     "3510b5f40ec845c4879bca3b55bf6760": {
      "model_module": "@jupyter-widgets/base",
      "model_module_version": "1.2.0",
      "model_name": "LayoutModel",
      "state": {}
     },
     "351e566584c146dfb27df54fbef11c27": {
      "model_module": "@jupyter-widgets/base",
      "model_module_version": "1.2.0",
      "model_name": "LayoutModel",
      "state": {}
     },
     "3531c1b9af874cee9c83746dd9cc36e8": {
      "model_module": "@jupyter-widgets/controls",
      "model_module_version": "1.5.0",
      "model_name": "IntProgressModel",
      "state": {
       "bar_style": "success",
       "description": "Epoch [13/40]: 100%",
       "layout": "IPY_MODEL_c5c0bd13260142afa79405954483d2d1",
       "max": 289,
       "style": "IPY_MODEL_7e9b61ecfdc44ef68e37e9557ba155c0",
       "value": 289
      }
     },
     "355c23ab94cf4e41841fbdf6827f5b37": {
      "model_module": "@jupyter-widgets/controls",
      "model_module_version": "1.5.0",
      "model_name": "ProgressStyleModel",
      "state": {
       "description_width": "initial"
      }
     },
     "356054ad6a06489db244ab2d6440e69c": {
      "model_module": "@jupyter-widgets/controls",
      "model_module_version": "1.5.0",
      "model_name": "HTMLModel",
      "state": {
       "layout": "IPY_MODEL_007599700c694ec3aa5646fa0ff98adb",
       "style": "IPY_MODEL_2a6dab3cfe6e41258bd299b7018d2b6e",
       "value": " 361/361 [00:52&lt;00:00,  6.83it/s, acc=0.985, loss=0.0137]"
      }
     },
     "35735cd2e4874fabb6ffa6beb5c82912": {
      "model_module": "@jupyter-widgets/controls",
      "model_module_version": "1.5.0",
      "model_name": "DescriptionStyleModel",
      "state": {
       "description_width": ""
      }
     },
     "360eeb30093b4347a94e123382d57e9a": {
      "model_module": "@jupyter-widgets/controls",
      "model_module_version": "1.5.0",
      "model_name": "DescriptionStyleModel",
      "state": {
       "description_width": ""
      }
     },
     "362c2e9114254cb8a93281656300dffc": {
      "model_module": "@jupyter-widgets/controls",
      "model_module_version": "1.5.0",
      "model_name": "DescriptionStyleModel",
      "state": {
       "description_width": ""
      }
     },
     "3637f5bd5f534a2aba2148350c4f3094": {
      "model_module": "@jupyter-widgets/base",
      "model_module_version": "1.2.0",
      "model_name": "LayoutModel",
      "state": {}
     },
     "3647435eb0584ff4a7326995f31f95c7": {
      "model_module": "@jupyter-widgets/controls",
      "model_module_version": "1.5.0",
      "model_name": "HTMLModel",
      "state": {
       "layout": "IPY_MODEL_55ed19eb47b04b20b0008864da6e856d",
       "style": "IPY_MODEL_9a3d8656c4bf4c178117a3d2444654de",
       "value": " 289/289 [00:27&lt;00:00, 10.58it/s, acc=0.983, loss=0.0578]"
      }
     },
     "3648ce5ff128456e83bfb9ab8e638a4e": {
      "model_module": "@jupyter-widgets/base",
      "model_module_version": "1.2.0",
      "model_name": "LayoutModel",
      "state": {}
     },
     "36737fceedfd42bea1638b31267df686": {
      "model_module": "@jupyter-widgets/controls",
      "model_module_version": "1.5.0",
      "model_name": "IntProgressModel",
      "state": {
       "bar_style": "success",
       "description": "Epoch [12/40]: 100%",
       "layout": "IPY_MODEL_62fc67fbdb30472f8f549ddedc054913",
       "max": 361,
       "style": "IPY_MODEL_86f451e97e834e89a8214f044628ecc0",
       "value": 361
      }
     },
     "368ff3882f714e9a860b7f19a8c9469f": {
      "model_module": "@jupyter-widgets/controls",
      "model_module_version": "1.5.0",
      "model_name": "HTMLModel",
      "state": {
       "layout": "IPY_MODEL_faaa417127f746dd95137b43a9170585",
       "style": "IPY_MODEL_ede3c539d04f47a1be70bad6a2170feb",
       "value": " 289/289 [01:32&lt;00:00,  3.12it/s, acc=0.978, loss=0.11]"
      }
     },
     "36ca96f18ec64c51a3f94024fe0615d8": {
      "model_module": "@jupyter-widgets/controls",
      "model_module_version": "1.5.0",
      "model_name": "ProgressStyleModel",
      "state": {
       "description_width": "initial"
      }
     },
     "36eb8abfd4e543b2bbfee5e25a1a5ff1": {
      "model_module": "@jupyter-widgets/base",
      "model_module_version": "1.2.0",
      "model_name": "LayoutModel",
      "state": {}
     },
     "36eb98102b5d4f8a898dfbaf56d17153": {
      "model_module": "@jupyter-widgets/base",
      "model_module_version": "1.2.0",
      "model_name": "LayoutModel",
      "state": {}
     },
     "36f84c6883a6403494e7ece0664f1c10": {
      "model_module": "@jupyter-widgets/controls",
      "model_module_version": "1.5.0",
      "model_name": "HBoxModel",
      "state": {
       "children": [
        "IPY_MODEL_7faa544b581347acb7d4092ca4c7a788",
        "IPY_MODEL_acf859fe09d74f84965b1063e6c34b3e"
       ],
       "layout": "IPY_MODEL_f4e7211f28744d8bbbbcbea6ce7e1c3f"
      }
     },
     "370eea13693f4ab7925ffa8f83e00223": {
      "model_module": "@jupyter-widgets/controls",
      "model_module_version": "1.5.0",
      "model_name": "HTMLModel",
      "state": {
       "layout": "IPY_MODEL_7bbab9d7bb1b4a208b73ab89a0772fc9",
       "style": "IPY_MODEL_a4825f0cd3ec4b54bd8cc46cacdd94fe",
       "value": " 255/255 [01:29&lt;00:00,  2.86it/s, acc=0.984, loss=0.0982]"
      }
     },
     "37366efa39844fb082a055414d6fa931": {
      "model_module": "@jupyter-widgets/base",
      "model_module_version": "1.2.0",
      "model_name": "LayoutModel",
      "state": {}
     },
     "3741904616a1405fbb13198776323ada": {
      "model_module": "@jupyter-widgets/controls",
      "model_module_version": "1.5.0",
      "model_name": "ProgressStyleModel",
      "state": {
       "description_width": "initial"
      }
     },
     "3743d26e6550490eb1ef5dbfed30ffc5": {
      "model_module": "@jupyter-widgets/controls",
      "model_module_version": "1.5.0",
      "model_name": "IntProgressModel",
      "state": {
       "bar_style": "success",
       "description": "Epoch [22/40]: 100%",
       "layout": "IPY_MODEL_0a8a500536244717962e2a1d017d1012",
       "max": 289,
       "style": "IPY_MODEL_ef2e099beafd4334b419a9ebf90fb3cc",
       "value": 289
      }
     },
     "374c10d313294450aac50bc54b01e27c": {
      "model_module": "@jupyter-widgets/base",
      "model_module_version": "1.2.0",
      "model_name": "LayoutModel",
      "state": {}
     },
     "377ac569b76e46c69e76496b7cbc830c": {
      "model_module": "@jupyter-widgets/controls",
      "model_module_version": "1.5.0",
      "model_name": "HBoxModel",
      "state": {
       "children": [
        "IPY_MODEL_efe142abdd16447d9d3361a9c6c97c87",
        "IPY_MODEL_f39842a1468743e5beb2cc9c37d5c6b1"
       ],
       "layout": "IPY_MODEL_38a74dc1618a4f8ebdebe328b991fc54"
      }
     },
     "3788f0ae3ac6412da042c23603b4397a": {
      "model_module": "@jupyter-widgets/controls",
      "model_module_version": "1.5.0",
      "model_name": "ProgressStyleModel",
      "state": {
       "description_width": "initial"
      }
     },
     "37dcd25aea714368bd3b4f1421e9316d": {
      "model_module": "@jupyter-widgets/controls",
      "model_module_version": "1.5.0",
      "model_name": "HTMLModel",
      "state": {
       "layout": "IPY_MODEL_76af3645e2594fcdba6797b54a705e73",
       "style": "IPY_MODEL_c1d213d5896f4e5ba99ab7e73c829e6c",
       "value": " 338/338 [01:06&lt;00:00,  5.10it/s, acc=0.986, loss=0.00414]"
      }
     },
     "37efaa242a2e4dfba9515ed6878a91c5": {
      "model_module": "@jupyter-widgets/controls",
      "model_module_version": "1.5.0",
      "model_name": "IntProgressModel",
      "state": {
       "bar_style": "success",
       "description": "Epoch [27/40]: 100%",
       "layout": "IPY_MODEL_a886b1e6fc46438bbbc28af9416b13a2",
       "max": 241,
       "style": "IPY_MODEL_3efc7a2d2b80464f97b48833d289e49c",
       "value": 241
      }
     },
     "38295ca3bae4423c86211eca02c737dc": {
      "model_module": "@jupyter-widgets/controls",
      "model_module_version": "1.5.0",
      "model_name": "HBoxModel",
      "state": {
       "children": [
        "IPY_MODEL_af1ba49d835d4f249f54fe9524b89020",
        "IPY_MODEL_3bb4de313401476da70e909400c4ca1c"
       ],
       "layout": "IPY_MODEL_7c67585b726d4028977f60158bfb2dac"
      }
     },
     "384c07c1a2474c1589fb8457649bcec3": {
      "model_module": "@jupyter-widgets/controls",
      "model_module_version": "1.5.0",
      "model_name": "HBoxModel",
      "state": {
       "children": [
        "IPY_MODEL_2dd00ed064c34d61b53680efbce9e44a",
        "IPY_MODEL_f02e8ad458124640934c4e5ffd4e154c"
       ],
       "layout": "IPY_MODEL_63644d4a21ea40e5a750da5b5ebfba9a"
      }
     },
     "38862dc3ecb047b2bebfad3a11cdc168": {
      "model_module": "@jupyter-widgets/base",
      "model_module_version": "1.2.0",
      "model_name": "LayoutModel",
      "state": {}
     },
     "3886506d033f40fea2e18950d4665807": {
      "model_module": "@jupyter-widgets/base",
      "model_module_version": "1.2.0",
      "model_name": "LayoutModel",
      "state": {}
     },
     "38a74dc1618a4f8ebdebe328b991fc54": {
      "model_module": "@jupyter-widgets/base",
      "model_module_version": "1.2.0",
      "model_name": "LayoutModel",
      "state": {}
     },
     "38b5d168cd2941069e8e811b2e7560dd": {
      "model_module": "@jupyter-widgets/controls",
      "model_module_version": "1.5.0",
      "model_name": "DescriptionStyleModel",
      "state": {
       "description_width": ""
      }
     },
     "3901e545a3f0419085c6b558ab7777dd": {
      "model_module": "@jupyter-widgets/base",
      "model_module_version": "1.2.0",
      "model_name": "LayoutModel",
      "state": {}
     },
     "3907aa95345f4c8899fc7b338efc66c5": {
      "model_module": "@jupyter-widgets/controls",
      "model_module_version": "1.5.0",
      "model_name": "DescriptionStyleModel",
      "state": {
       "description_width": ""
      }
     },
     "392e0a03fa1a4fa986ebacf55324e349": {
      "model_module": "@jupyter-widgets/controls",
      "model_module_version": "1.5.0",
      "model_name": "DescriptionStyleModel",
      "state": {
       "description_width": ""
      }
     },
     "3941e98c5e824360a2fd50665cd01a69": {
      "model_module": "@jupyter-widgets/controls",
      "model_module_version": "1.5.0",
      "model_name": "HBoxModel",
      "state": {
       "children": [
        "IPY_MODEL_da6356e4cabd453daafd591e98960af0",
        "IPY_MODEL_23aba32ebeaa4fe3b70066779c4fe81e"
       ],
       "layout": "IPY_MODEL_b4f8fde79ad547168c6629996e9a0e41"
      }
     },
     "394762be53f94725ad6e5a789ae33655": {
      "model_module": "@jupyter-widgets/controls",
      "model_module_version": "1.5.0",
      "model_name": "DescriptionStyleModel",
      "state": {
       "description_width": ""
      }
     },
     "3947ccd696994b3c9e1761340c19568a": {
      "model_module": "@jupyter-widgets/controls",
      "model_module_version": "1.5.0",
      "model_name": "HTMLModel",
      "state": {
       "layout": "IPY_MODEL_a2d398ba87004c20b7ee946f4834c0cd",
       "style": "IPY_MODEL_4952dd5046184bdab04af0b292da602b",
       "value": " 361/361 [01:30&lt;00:00,  3.99it/s, acc=0.981, loss=0.00665]"
      }
     },
     "398038b4eb0e438ebd0c1e21de50b172": {
      "model_module": "@jupyter-widgets/controls",
      "model_module_version": "1.5.0",
      "model_name": "ProgressStyleModel",
      "state": {
       "description_width": "initial"
      }
     },
     "39b4abd181d949e7946c6d564b79ee87": {
      "model_module": "@jupyter-widgets/base",
      "model_module_version": "1.2.0",
      "model_name": "LayoutModel",
      "state": {}
     },
     "39b4f9569ca34fb688b55a547cfc50cb": {
      "model_module": "@jupyter-widgets/controls",
      "model_module_version": "1.5.0",
      "model_name": "DescriptionStyleModel",
      "state": {
       "description_width": ""
      }
     },
     "39bfe77b6da24494853300f17861fea2": {
      "model_module": "@jupyter-widgets/base",
      "model_module_version": "1.2.0",
      "model_name": "LayoutModel",
      "state": {}
     },
     "39c6c38c21994282b204e1c510d7bddd": {
      "model_module": "@jupyter-widgets/controls",
      "model_module_version": "1.5.0",
      "model_name": "ProgressStyleModel",
      "state": {
       "description_width": "initial"
      }
     },
     "3a0d1558b8b643b2a42bd4f8bc9d0697": {
      "model_module": "@jupyter-widgets/base",
      "model_module_version": "1.2.0",
      "model_name": "LayoutModel",
      "state": {}
     },
     "3a195048a58d40e193a69c142409920f": {
      "model_module": "@jupyter-widgets/controls",
      "model_module_version": "1.5.0",
      "model_name": "IntProgressModel",
      "state": {
       "bar_style": "success",
       "description": "Epoch [7/40]: 100%",
       "layout": "IPY_MODEL_758a7dd2917e4790826e4f585409310a",
       "max": 255,
       "style": "IPY_MODEL_e8e752630f524add94d92d40f5bb3c8c",
       "value": 255
      }
     },
     "3a2d29f8e88e45c58f195f2bea590a9c": {
      "model_module": "@jupyter-widgets/base",
      "model_module_version": "1.2.0",
      "model_name": "LayoutModel",
      "state": {}
     },
     "3a3bde8a3d7b44d39a06060c95618122": {
      "model_module": "@jupyter-widgets/base",
      "model_module_version": "1.2.0",
      "model_name": "LayoutModel",
      "state": {}
     },
     "3a3edbc59a3e416a8413aac399b0f549": {
      "model_module": "@jupyter-widgets/controls",
      "model_module_version": "1.5.0",
      "model_name": "IntProgressModel",
      "state": {
       "bar_style": "success",
       "description": "Epoch [7/40]: 100%",
       "layout": "IPY_MODEL_56c0cce8317c4a3e8bcba51871c1fabc",
       "max": 289,
       "style": "IPY_MODEL_62d7381a1d36496590fbf70237e2df98",
       "value": 289
      }
     },
     "3a407d2fb8ae4a7ba73309782384b57a": {
      "model_module": "@jupyter-widgets/base",
      "model_module_version": "1.2.0",
      "model_name": "LayoutModel",
      "state": {}
     },
     "3a6182cfb68c45938341094b96f72eee": {
      "model_module": "@jupyter-widgets/controls",
      "model_module_version": "1.5.0",
      "model_name": "IntProgressModel",
      "state": {
       "bar_style": "success",
       "description": "Epoch [9/100]: 100%",
       "layout": "IPY_MODEL_93caf87636934669a70f53267ff1ede1",
       "max": 289,
       "style": "IPY_MODEL_39c6c38c21994282b204e1c510d7bddd",
       "value": 289
      }
     },
     "3a912142aa0241d085cd79ea29faf858": {
      "model_module": "@jupyter-widgets/base",
      "model_module_version": "1.2.0",
      "model_name": "LayoutModel",
      "state": {}
     },
     "3acdbf13a5f446fda1cd866d2381d81e": {
      "model_module": "@jupyter-widgets/controls",
      "model_module_version": "1.5.0",
      "model_name": "ProgressStyleModel",
      "state": {
       "description_width": "initial"
      }
     },
     "3aed7376d6824d888de520255132a36b": {
      "model_module": "@jupyter-widgets/base",
      "model_module_version": "1.2.0",
      "model_name": "LayoutModel",
      "state": {}
     },
     "3b0a9a40425b48f7aa4617db2cee7d6b": {
      "model_module": "@jupyter-widgets/controls",
      "model_module_version": "1.5.0",
      "model_name": "HTMLModel",
      "state": {
       "layout": "IPY_MODEL_dde46240fa504956b9d9d1e7e1aa9b38",
       "style": "IPY_MODEL_820ec438a7b24473a41eb74125e4772f",
       "value": " 289/289 [01:30&lt;00:00,  3.19it/s, acc=0.984, loss=0.00575]"
      }
     },
     "3b13dfdbfbed41e3b285fce2f5dae8a0": {
      "model_module": "@jupyter-widgets/controls",
      "model_module_version": "1.5.0",
      "model_name": "HBoxModel",
      "state": {
       "children": [
        "IPY_MODEL_06beee3421fe468aada3ce93965617cc",
        "IPY_MODEL_070f0dcb656a4838b84e742d5588f1ed"
       ],
       "layout": "IPY_MODEL_a9e1f51593b44d3581964aa64af37f02"
      }
     },
     "3b1953ac6fde49bfaa5e2ee760d0ed62": {
      "model_module": "@jupyter-widgets/controls",
      "model_module_version": "1.5.0",
      "model_name": "IntProgressModel",
      "state": {
       "bar_style": "success",
       "description": "Epoch [25/40]: 100%",
       "layout": "IPY_MODEL_6c16f834b9954c6397a1fa694d7d336a",
       "max": 289,
       "style": "IPY_MODEL_3155e0762b0f4cc88cf2fa5ae2d351f6",
       "value": 289
      }
     },
     "3b236a3cf28041b7b30df3a51ef7aa37": {
      "model_module": "@jupyter-widgets/controls",
      "model_module_version": "1.5.0",
      "model_name": "HBoxModel",
      "state": {
       "children": [
        "IPY_MODEL_e742ca03cf484ab5ab88a8767850a8cf",
        "IPY_MODEL_83082725ac604d7c8bd8f53ba1437f73"
       ],
       "layout": "IPY_MODEL_cdde2c23f8db4c999e0f0c6245e3dd7c"
      }
     },
     "3b2b773654e44b28bda0022299886be4": {
      "model_module": "@jupyter-widgets/base",
      "model_module_version": "1.2.0",
      "model_name": "LayoutModel",
      "state": {}
     },
     "3b6e40026b9146bebf8667ccd2e713bc": {
      "model_module": "@jupyter-widgets/base",
      "model_module_version": "1.2.0",
      "model_name": "LayoutModel",
      "state": {}
     },
     "3b729607674043cfac27c112c69371ad": {
      "model_module": "@jupyter-widgets/controls",
      "model_module_version": "1.5.0",
      "model_name": "ProgressStyleModel",
      "state": {
       "description_width": "initial"
      }
     },
     "3b7f44b17b7d41be93c9a981d68f323a": {
      "model_module": "@jupyter-widgets/controls",
      "model_module_version": "1.5.0",
      "model_name": "ProgressStyleModel",
      "state": {
       "description_width": "initial"
      }
     },
     "3bb4de313401476da70e909400c4ca1c": {
      "model_module": "@jupyter-widgets/controls",
      "model_module_version": "1.5.0",
      "model_name": "HTMLModel",
      "state": {
       "layout": "IPY_MODEL_fb6e64eee4644067bc62c91293d7f013",
       "style": "IPY_MODEL_165a9894c5da48829a04130dd9297a29",
       "value": " 255/255 [02:19&lt;00:00,  1.83it/s, acc=0.98, loss=0.318]"
      }
     },
     "3bddb713a71240a8b4c63dbe92def8e9": {
      "model_module": "@jupyter-widgets/controls",
      "model_module_version": "1.5.0",
      "model_name": "HBoxModel",
      "state": {
       "children": [
        "IPY_MODEL_b00196cd7a804e0dbf033be6b6381d2e",
        "IPY_MODEL_80e4044bc5464306afd3b8982d5b76b4"
       ],
       "layout": "IPY_MODEL_6dfc73f5e9fe4138b8391bb02117bb39"
      }
     },
     "3c0507795ddd4d48b9fca5e4cfdb8a09": {
      "model_module": "@jupyter-widgets/base",
      "model_module_version": "1.2.0",
      "model_name": "LayoutModel",
      "state": {}
     },
     "3c28bc3803144c518b25608550a79fa8": {
      "model_module": "@jupyter-widgets/controls",
      "model_module_version": "1.5.0",
      "model_name": "HTMLModel",
      "state": {
       "layout": "IPY_MODEL_4899e1ce4fe14f039e1178d12b02d4c3",
       "style": "IPY_MODEL_de8bb49010984c6f8f7c905f344fc82b",
       "value": " 338/338 [01:41&lt;00:00,  3.34it/s, acc=0.97, loss=0.0625]"
      }
     },
     "3c2d36f92f4546e1895507cf5061e246": {
      "model_module": "@jupyter-widgets/controls",
      "model_module_version": "1.5.0",
      "model_name": "DescriptionStyleModel",
      "state": {
       "description_width": ""
      }
     },
     "3c4b8f974ed948d5abb2b1539f1993f1": {
      "model_module": "@jupyter-widgets/base",
      "model_module_version": "1.2.0",
      "model_name": "LayoutModel",
      "state": {}
     },
     "3c4d2b0bad2b44e38b9884f032f4fe13": {
      "model_module": "@jupyter-widgets/controls",
      "model_module_version": "1.5.0",
      "model_name": "ProgressStyleModel",
      "state": {
       "description_width": "initial"
      }
     },
     "3cb6b9add10c405981b5fd7f19829106": {
      "model_module": "@jupyter-widgets/base",
      "model_module_version": "1.2.0",
      "model_name": "LayoutModel",
      "state": {}
     },
     "3cbbec183d8d4528b58184d18eaabd98": {
      "model_module": "@jupyter-widgets/base",
      "model_module_version": "1.2.0",
      "model_name": "LayoutModel",
      "state": {}
     },
     "3d0117952ce644e4bed19a6275b167ce": {
      "model_module": "@jupyter-widgets/base",
      "model_module_version": "1.2.0",
      "model_name": "LayoutModel",
      "state": {}
     },
     "3d24241972e24db094a81ef770b932d8": {
      "model_module": "@jupyter-widgets/controls",
      "model_module_version": "1.5.0",
      "model_name": "HTMLModel",
      "state": {
       "layout": "IPY_MODEL_7f0b7f5365ee430a9d7a88c398df549c",
       "style": "IPY_MODEL_f2b4ea7024b8487e92a9b13ef921e82b",
       "value": " 289/289 [01:56&lt;00:00,  2.48it/s, acc=0.278, loss=1.6]"
      }
     },
     "3d3cd9475d9943b89a3a346692363b52": {
      "model_module": "@jupyter-widgets/controls",
      "model_module_version": "1.5.0",
      "model_name": "HBoxModel",
      "state": {
       "children": [
        "IPY_MODEL_a53df56cfdcf49c8ad3616e797851608",
        "IPY_MODEL_ede3a45cfe8d4e8ca65d98ca06860fd1"
       ],
       "layout": "IPY_MODEL_db8005ccd76742c2816aa62593a666a0"
      }
     },
     "3d55598a967840e7b33c81f11a34c165": {
      "model_module": "@jupyter-widgets/controls",
      "model_module_version": "1.5.0",
      "model_name": "HTMLModel",
      "state": {
       "layout": "IPY_MODEL_31ff4451542d4c0d9198e67d53ea0c61",
       "style": "IPY_MODEL_ffb2cf6c0ff04dd6bdff5ae91156573a",
       "value": " 289/289 [00:50&lt;00:00,  5.70it/s, acc=0.977, loss=0.128]"
      }
     },
     "3d78dfa005b34ea293afc2e27fb5e338": {
      "model_module": "@jupyter-widgets/base",
      "model_module_version": "1.2.0",
      "model_name": "LayoutModel",
      "state": {}
     },
     "3d8935d728a54c4c8e4ac00db86f2418": {
      "model_module": "@jupyter-widgets/controls",
      "model_module_version": "1.5.0",
      "model_name": "HTMLModel",
      "state": {
       "layout": "IPY_MODEL_486ee408c38745e3bbd52326e25ea4bb",
       "style": "IPY_MODEL_6ccade0682ad41d7969a1b692d269fde",
       "value": " 338/338 [01:58&lt;00:00,  2.84it/s, acc=0.314, loss=1.51]"
      }
     },
     "3d8b6a06d6404e15a5ad41c7b0d9f684": {
      "model_module": "@jupyter-widgets/controls",
      "model_module_version": "1.5.0",
      "model_name": "HBoxModel",
      "state": {
       "children": [
        "IPY_MODEL_d3a5bf157e4d4e8c97d776de19c6cc60",
        "IPY_MODEL_eddb8d10bac64b0fbb9bc8697efef7f1"
       ],
       "layout": "IPY_MODEL_67e366da26284be3a3fb987e0cca1ba6"
      }
     },
     "3da25eb3d30249e59b7054e875c19d1f": {
      "model_module": "@jupyter-widgets/base",
      "model_module_version": "1.2.0",
      "model_name": "LayoutModel",
      "state": {}
     },
     "3dbe1e6b6b0844c38513b114640f34c9": {
      "model_module": "@jupyter-widgets/controls",
      "model_module_version": "1.5.0",
      "model_name": "HTMLModel",
      "state": {
       "layout": "IPY_MODEL_9447d1cb8cc64f99b22cd2d935985979",
       "style": "IPY_MODEL_4af477ddb3c640a88aa83f41a244a28a",
       "value": " 255/255 [00:48&lt;00:00,  5.29it/s, acc=0.247, loss=1.53]"
      }
     },
     "3dcfa4dda8ed4bf78647127f643ad599": {
      "model_module": "@jupyter-widgets/base",
      "model_module_version": "1.2.0",
      "model_name": "LayoutModel",
      "state": {}
     },
     "3dd87b10dceb4fb7b62ae369971f4a89": {
      "model_module": "@jupyter-widgets/controls",
      "model_module_version": "1.5.0",
      "model_name": "DescriptionStyleModel",
      "state": {
       "description_width": ""
      }
     },
     "3df041f18e0542b58833fadc9e9f686b": {
      "model_module": "@jupyter-widgets/base",
      "model_module_version": "1.2.0",
      "model_name": "LayoutModel",
      "state": {}
     },
     "3e10bde68f5540d4bc074169d9617125": {
      "model_module": "@jupyter-widgets/controls",
      "model_module_version": "1.5.0",
      "model_name": "DescriptionStyleModel",
      "state": {
       "description_width": ""
      }
     },
     "3e4a146b207c4377b700da7532b238b2": {
      "model_module": "@jupyter-widgets/controls",
      "model_module_version": "1.5.0",
      "model_name": "HBoxModel",
      "state": {
       "children": [
        "IPY_MODEL_0508fc08ead74d1daa220a9f279c6d5c",
        "IPY_MODEL_4138f984272d40858188504572df0d20"
       ],
       "layout": "IPY_MODEL_56fd1f7cbd094ff4ad75bbd846275d01"
      }
     },
     "3e5d288ca318409d96caadfd6198ecc1": {
      "model_module": "@jupyter-widgets/base",
      "model_module_version": "1.2.0",
      "model_name": "LayoutModel",
      "state": {}
     },
     "3e5eb2a4b35f424fb6a622f500e5f294": {
      "model_module": "@jupyter-widgets/base",
      "model_module_version": "1.2.0",
      "model_name": "LayoutModel",
      "state": {}
     },
     "3eb6b8c136f942b7bdddc0e8d4bcced3": {
      "model_module": "@jupyter-widgets/controls",
      "model_module_version": "1.5.0",
      "model_name": "IntProgressModel",
      "state": {
       "bar_style": "success",
       "description": "Epoch [21/40]: 100%",
       "layout": "IPY_MODEL_f726e00f26904c4ab74d9931a9a238e2",
       "max": 241,
       "style": "IPY_MODEL_fd720423515843dd825a5730630419a5",
       "value": 241
      }
     },
     "3ec290666a394fe18ad216f2166aced5": {
      "model_module": "@jupyter-widgets/controls",
      "model_module_version": "1.5.0",
      "model_name": "IntProgressModel",
      "state": {
       "bar_style": "success",
       "description": "Epoch [13/40]: 100%",
       "layout": "IPY_MODEL_131b705ff54f49739c7d4ca6fe13c8d4",
       "max": 338,
       "style": "IPY_MODEL_4b341571537a41a48e5d666375e168fe",
       "value": 338
      }
     },
     "3ef1077a24534de3a64e00f67efa79ac": {
      "model_module": "@jupyter-widgets/controls",
      "model_module_version": "1.5.0",
      "model_name": "HTMLModel",
      "state": {
       "layout": "IPY_MODEL_277bd6946b76406fbae6d2d98639eb51",
       "style": "IPY_MODEL_0257053704fb423886f67bbe34224556",
       "value": " 289/289 [02:08&lt;00:00,  2.25it/s, acc=0.985, loss=0.155]"
      }
     },
     "3efc7a2d2b80464f97b48833d289e49c": {
      "model_module": "@jupyter-widgets/controls",
      "model_module_version": "1.5.0",
      "model_name": "ProgressStyleModel",
      "state": {
       "description_width": "initial"
      }
     },
     "3f092a76b48f45119a60cf78c0880452": {
      "model_module": "@jupyter-widgets/base",
      "model_module_version": "1.2.0",
      "model_name": "LayoutModel",
      "state": {}
     },
     "3f49e0d959074fbebb5963e506edf037": {
      "model_module": "@jupyter-widgets/controls",
      "model_module_version": "1.5.0",
      "model_name": "ProgressStyleModel",
      "state": {
       "description_width": "initial"
      }
     },
     "3fa3d896a3cc485eb85e2d9e9e353c45": {
      "model_module": "@jupyter-widgets/base",
      "model_module_version": "1.2.0",
      "model_name": "LayoutModel",
      "state": {}
     },
     "3fb13ccf2104447c82e204a5d4637eee": {
      "model_module": "@jupyter-widgets/controls",
      "model_module_version": "1.5.0",
      "model_name": "HTMLModel",
      "state": {
       "layout": "IPY_MODEL_95bd0c67f54544b48abe5e252b67f734",
       "style": "IPY_MODEL_ab2447ffa8bd466c8246e0e81f8bf668",
       "value": " 241/241 [01:46&lt;00:00,  2.25it/s, acc=0.972, loss=0.146]"
      }
     },
     "401155209f374d99bbf4ca0a3bf7e172": {
      "model_module": "@jupyter-widgets/controls",
      "model_module_version": "1.5.0",
      "model_name": "DescriptionStyleModel",
      "state": {
       "description_width": ""
      }
     },
     "402046986d184ca19eab6bc3d2ba869d": {
      "model_module": "@jupyter-widgets/controls",
      "model_module_version": "1.5.0",
      "model_name": "ProgressStyleModel",
      "state": {
       "description_width": "initial"
      }
     },
     "403b87a455e841029e93c61956dbb61f": {
      "model_module": "@jupyter-widgets/controls",
      "model_module_version": "1.5.0",
      "model_name": "DescriptionStyleModel",
      "state": {
       "description_width": ""
      }
     },
     "40684262ace94f8cb0e05b66565b7c9a": {
      "model_module": "@jupyter-widgets/controls",
      "model_module_version": "1.5.0",
      "model_name": "HBoxModel",
      "state": {
       "children": [
        "IPY_MODEL_8d6daec101b04ae68cb6445af3ab86e8",
        "IPY_MODEL_b04fc22382e443029c7f7f258ffe849f"
       ],
       "layout": "IPY_MODEL_059d2d8f503e4252b231ca8feaf2b69b"
      }
     },
     "406fb1cc8378406486752fcdb0f9f60a": {
      "model_module": "@jupyter-widgets/controls",
      "model_module_version": "1.5.0",
      "model_name": "DescriptionStyleModel",
      "state": {
       "description_width": ""
      }
     },
     "408fea58aa944077b0eac13035cb4b77": {
      "model_module": "@jupyter-widgets/controls",
      "model_module_version": "1.5.0",
      "model_name": "HBoxModel",
      "state": {
       "children": [
        "IPY_MODEL_d929a156f4ca4936998c4fff6a1b24e4",
        "IPY_MODEL_839d4e4e204a4446bcc0aeaf51f77cc7"
       ],
       "layout": "IPY_MODEL_76c2972f356e435d88b79eabe53abbc5"
      }
     },
     "40a6fc69a84d47258cb3594d34073661": {
      "model_module": "@jupyter-widgets/controls",
      "model_module_version": "1.5.0",
      "model_name": "ProgressStyleModel",
      "state": {
       "description_width": "initial"
      }
     },
     "4138f984272d40858188504572df0d20": {
      "model_module": "@jupyter-widgets/controls",
      "model_module_version": "1.5.0",
      "model_name": "HTMLModel",
      "state": {
       "layout": "IPY_MODEL_f404beed6d1a4e508628902529256913",
       "style": "IPY_MODEL_52ab95b9b2c04e4092fb0f6aaeec4da5",
       "value": " 282/282 [00:27&lt;00:00, 10.19it/s, acc=0.991, loss=0.00851]"
      }
     },
     "41494f6368bd49b884112de683fb247b": {
      "model_module": "@jupyter-widgets/controls",
      "model_module_version": "1.5.0",
      "model_name": "IntProgressModel",
      "state": {
       "bar_style": "success",
       "description": "Epoch [11/100]: 100%",
       "layout": "IPY_MODEL_8a50ef9ab3324685beea00a0ecdebbe5",
       "max": 289,
       "style": "IPY_MODEL_a4def54e9dfa439f8908c9fb0b8a55bb",
       "value": 289
      }
     },
     "416d2857f3b04b8c9c26c9ae74d84157": {
      "model_module": "@jupyter-widgets/controls",
      "model_module_version": "1.5.0",
      "model_name": "IntProgressModel",
      "state": {
       "bar_style": "success",
       "description": "Epoch [5/5]: 100%",
       "layout": "IPY_MODEL_7e26c3656d614761a2ba70a260929470",
       "max": 282,
       "style": "IPY_MODEL_e32d12d842b644aa8379fc2f023c4081",
       "value": 282
      }
     },
     "417167abdd204be4bfa105dd36f15446": {
      "model_module": "@jupyter-widgets/base",
      "model_module_version": "1.2.0",
      "model_name": "LayoutModel",
      "state": {}
     },
     "4185aaea27f14007a6919e503aa6fd08": {
      "model_module": "@jupyter-widgets/controls",
      "model_module_version": "1.5.0",
      "model_name": "DescriptionStyleModel",
      "state": {
       "description_width": ""
      }
     },
     "418a61518d9f4b8690b99882f5498b6f": {
      "model_module": "@jupyter-widgets/controls",
      "model_module_version": "1.5.0",
      "model_name": "HTMLModel",
      "state": {
       "layout": "IPY_MODEL_86dc392010814a3c9e7c2c2e82149cde",
       "style": "IPY_MODEL_2c2ecfcf479f4f6a96aa387684cdb07b",
       "value": " 255/255 [02:07&lt;00:00,  1.99it/s, acc=0.584, loss=1.07]"
      }
     },
     "419d4727da2a4a6f880a7223b29ba33c": {
      "model_module": "@jupyter-widgets/controls",
      "model_module_version": "1.5.0",
      "model_name": "HBoxModel",
      "state": {
       "children": [
        "IPY_MODEL_a3628eca10984b9d9a35422b8e534bf7",
        "IPY_MODEL_79498f367d46455e81f49bcb2cad81ca"
       ],
       "layout": "IPY_MODEL_05412cfc855c4e1883fd66a38148676b"
      }
     },
     "41a0c422d0844bb281a1b412aeb5cf23": {
      "model_module": "@jupyter-widgets/controls",
      "model_module_version": "1.5.0",
      "model_name": "HTMLModel",
      "state": {
       "layout": "IPY_MODEL_1db4d48c17ae4d078d4aa9c936ce8f4f",
       "style": "IPY_MODEL_403b87a455e841029e93c61956dbb61f",
       "value": " 289/289 [00:44&lt;00:00,  6.53it/s, acc=0.986, loss=0.0121]"
      }
     },
     "41b38170d8ef45e5a4e7cff92da8af74": {
      "model_module": "@jupyter-widgets/controls",
      "model_module_version": "1.5.0",
      "model_name": "ProgressStyleModel",
      "state": {
       "description_width": "initial"
      }
     },
     "41b694b364d84fffb3c348eee7e5ba87": {
      "model_module": "@jupyter-widgets/controls",
      "model_module_version": "1.5.0",
      "model_name": "ProgressStyleModel",
      "state": {
       "description_width": "initial"
      }
     },
     "41d2e9428d184ab8887586377037aff7": {
      "model_module": "@jupyter-widgets/controls",
      "model_module_version": "1.5.0",
      "model_name": "ProgressStyleModel",
      "state": {
       "description_width": "initial"
      }
     },
     "41f0246a4c0a428faa7f393190a694df": {
      "model_module": "@jupyter-widgets/controls",
      "model_module_version": "1.5.0",
      "model_name": "ProgressStyleModel",
      "state": {
       "description_width": "initial"
      }
     },
     "41fcf5fb34c44e22b6a8d76893bc3484": {
      "model_module": "@jupyter-widgets/base",
      "model_module_version": "1.2.0",
      "model_name": "LayoutModel",
      "state": {}
     },
     "4202216777374e82b26b8c29b7007617": {
      "model_module": "@jupyter-widgets/controls",
      "model_module_version": "1.5.0",
      "model_name": "IntProgressModel",
      "state": {
       "bar_style": "success",
       "description": "Epoch [35/40]: 100%",
       "layout": "IPY_MODEL_222b19340fcd4115aa3e7907a718d672",
       "max": 241,
       "style": "IPY_MODEL_78c47c11f52a4448a77ab929c454d843",
       "value": 241
      }
     },
     "422870a498d5470e884fc80bb65bb872": {
      "model_module": "@jupyter-widgets/controls",
      "model_module_version": "1.5.0",
      "model_name": "IntProgressModel",
      "state": {
       "bar_style": "success",
       "description": "Epoch [11/40]: 100%",
       "layout": "IPY_MODEL_423eebc4f5f94e4fadab95e9755b4444",
       "max": 241,
       "style": "IPY_MODEL_bd9febe7012240c1a22d52bca0d8f429",
       "value": 241
      }
     },
     "423eebc4f5f94e4fadab95e9755b4444": {
      "model_module": "@jupyter-widgets/base",
      "model_module_version": "1.2.0",
      "model_name": "LayoutModel",
      "state": {}
     },
     "42435783c4434fc48673f2e867bcd3c5": {
      "model_module": "@jupyter-widgets/controls",
      "model_module_version": "1.5.0",
      "model_name": "ProgressStyleModel",
      "state": {
       "description_width": "initial"
      }
     },
     "42584332cce14150b5c7ee1aa280d0f6": {
      "model_module": "@jupyter-widgets/base",
      "model_module_version": "1.2.0",
      "model_name": "LayoutModel",
      "state": {}
     },
     "42b144a5f2754030a2c1a2bcf0d15439": {
      "model_module": "@jupyter-widgets/controls",
      "model_module_version": "1.5.0",
      "model_name": "IntProgressModel",
      "state": {
       "layout": "IPY_MODEL_60570490ba80495286b02f2ada9a57b3",
       "max": 289,
       "style": "IPY_MODEL_15e117a859d34d1a8c339cbd92d113cd"
      }
     },
     "42b9513dd7ff4d4299753e777c95e2ce": {
      "model_module": "@jupyter-widgets/base",
      "model_module_version": "1.2.0",
      "model_name": "LayoutModel",
      "state": {}
     },
     "42ce6d5f58344a1f94d7f932a3e1c450": {
      "model_module": "@jupyter-widgets/controls",
      "model_module_version": "1.5.0",
      "model_name": "HBoxModel",
      "state": {
       "children": [
        "IPY_MODEL_c40a3c433d024dd29ee0fbbd9828bc35",
        "IPY_MODEL_7622db4e201c4b4fbff0b7d159bde227"
       ],
       "layout": "IPY_MODEL_59fd94891a5f42f5803f5f6dbfd18267"
      }
     },
     "42e34b23709945159382f70cd1e98952": {
      "model_module": "@jupyter-widgets/controls",
      "model_module_version": "1.5.0",
      "model_name": "DescriptionStyleModel",
      "state": {
       "description_width": ""
      }
     },
     "43230cffabd747acaa438859196a5ab6": {
      "model_module": "@jupyter-widgets/base",
      "model_module_version": "1.2.0",
      "model_name": "LayoutModel",
      "state": {}
     },
     "43256b80d8f94c2da9b32c8b60974d2e": {
      "model_module": "@jupyter-widgets/base",
      "model_module_version": "1.2.0",
      "model_name": "LayoutModel",
      "state": {}
     },
     "4344fbf2473a4984a3fff94aa2f00a1e": {
      "model_module": "@jupyter-widgets/controls",
      "model_module_version": "1.5.0",
      "model_name": "IntProgressModel",
      "state": {
       "bar_style": "success",
       "description": "Epoch [20/40]: 100%",
       "layout": "IPY_MODEL_750424db96ef492faa4ce757e25cb7fb",
       "max": 338,
       "style": "IPY_MODEL_16119af91b6e49639cab3190842fc827",
       "value": 338
      }
     },
     "434ce0758c3a4397939f511283d9ae9e": {
      "model_module": "@jupyter-widgets/controls",
      "model_module_version": "1.5.0",
      "model_name": "IntProgressModel",
      "state": {
       "bar_style": "success",
       "description": "Epoch [3/5]: 100%",
       "layout": "IPY_MODEL_789f16a83b4d43e899aa7a5053eb3fd7",
       "max": 289,
       "style": "IPY_MODEL_3acdbf13a5f446fda1cd866d2381d81e",
       "value": 289
      }
     },
     "4383d555a9e64c76a8eab1a2340bee2c": {
      "model_module": "@jupyter-widgets/controls",
      "model_module_version": "1.5.0",
      "model_name": "HTMLModel",
      "state": {
       "layout": "IPY_MODEL_a40d00cc4f6346dfb71090f57198460b",
       "style": "IPY_MODEL_3907aa95345f4c8899fc7b338efc66c5",
       "value": " 289/289 [00:35&lt;00:00,  8.24it/s, acc=0.278, loss=1.58]"
      }
     },
     "4388599e535046969b9435fecc8339fa": {
      "model_module": "@jupyter-widgets/base",
      "model_module_version": "1.2.0",
      "model_name": "LayoutModel",
      "state": {}
     },
     "43a90a53a70940588c035ad30f893619": {
      "model_module": "@jupyter-widgets/base",
      "model_module_version": "1.2.0",
      "model_name": "LayoutModel",
      "state": {}
     },
     "43c72b1eec704854ae7e9a1f45565bbf": {
      "model_module": "@jupyter-widgets/controls",
      "model_module_version": "1.5.0",
      "model_name": "HTMLModel",
      "state": {
       "layout": "IPY_MODEL_fab8793e9b6644aab344660ca2f04668",
       "style": "IPY_MODEL_e49712a4a89b48a38aa3f70002c77d2e",
       "value": " 255/255 [01:48&lt;00:00,  2.35it/s, acc=0.972, loss=0.0207]"
      }
     },
     "43db2e024a504e2ca97fedad0b2b61d1": {
      "model_module": "@jupyter-widgets/controls",
      "model_module_version": "1.5.0",
      "model_name": "DescriptionStyleModel",
      "state": {
       "description_width": ""
      }
     },
     "440b5b857abd46b99f5707c202138f61": {
      "model_module": "@jupyter-widgets/controls",
      "model_module_version": "1.5.0",
      "model_name": "IntProgressModel",
      "state": {
       "bar_style": "success",
       "description": "Epoch [1/5]: 100%",
       "layout": "IPY_MODEL_edb83818f3d3466fa8c12beed4a93ff1",
       "max": 283,
       "style": "IPY_MODEL_f692537c70654045837f570de214fe9f",
       "value": 283
      }
     },
     "441455e1f995489ebfc843d05e3197fe": {
      "model_module": "@jupyter-widgets/controls",
      "model_module_version": "1.5.0",
      "model_name": "IntProgressModel",
      "state": {
       "bar_style": "success",
       "description": "Epoch [26/100]: 100%",
       "layout": "IPY_MODEL_317f1193445c40dc94bb222bb03ee578",
       "max": 289,
       "style": "IPY_MODEL_883660bf7e074de8a8d22edcf442306b",
       "value": 289
      }
     },
     "4421c1484ed04f4ab75c51d58f463723": {
      "model_module": "@jupyter-widgets/base",
      "model_module_version": "1.2.0",
      "model_name": "LayoutModel",
      "state": {}
     },
     "44227f04b6154b5a97343c8548a90cf7": {
      "model_module": "@jupyter-widgets/controls",
      "model_module_version": "1.5.0",
      "model_name": "IntProgressModel",
      "state": {
       "bar_style": "success",
       "description": "Epoch [15/100]: 100%",
       "layout": "IPY_MODEL_a8bc4d79a9704b31ac24b88be636b964",
       "max": 289,
       "style": "IPY_MODEL_049ebe479dee41588642cd544781d248",
       "value": 289
      }
     },
     "44318b88ece44a17b33d605f34209666": {
      "model_module": "@jupyter-widgets/base",
      "model_module_version": "1.2.0",
      "model_name": "LayoutModel",
      "state": {}
     },
     "4474660a5cc14cad90e0c9ce04709b6a": {
      "model_module": "@jupyter-widgets/base",
      "model_module_version": "1.2.0",
      "model_name": "LayoutModel",
      "state": {}
     },
     "44bdf8ea0ff74308a7a7309d277374a1": {
      "model_module": "@jupyter-widgets/controls",
      "model_module_version": "1.5.0",
      "model_name": "HTMLModel",
      "state": {
       "layout": "IPY_MODEL_4f62c57f661b40dd81d3907b58d6f657",
       "style": "IPY_MODEL_be250e033fc54b85bbc34c2fa8fb3f8e",
       "value": " 361/361 [02:12&lt;00:00,  2.73it/s, acc=0.313, loss=1.4]"
      }
     },
     "44f65f47dd5d4045a92e42eedc7dbf77": {
      "model_module": "@jupyter-widgets/controls",
      "model_module_version": "1.5.0",
      "model_name": "HBoxModel",
      "state": {
       "children": [
        "IPY_MODEL_a82d76a1b2e64be6bce4fd7a359d4e00",
        "IPY_MODEL_e2899e919f6d45f1878d338b150f4a73"
       ],
       "layout": "IPY_MODEL_a0e094d094d44326acd0075682ed438f"
      }
     },
     "45004fa9bce248c4b0505704c4b553c7": {
      "model_module": "@jupyter-widgets/controls",
      "model_module_version": "1.5.0",
      "model_name": "HBoxModel",
      "state": {
       "children": [
        "IPY_MODEL_cc41b9a72d0e479ca3a71bfc26095bff",
        "IPY_MODEL_29fd437ef98a4ffe8efa902b5a21888f"
       ],
       "layout": "IPY_MODEL_ecf644eaa6dd4d92a1117fb6281dfebf"
      }
     },
     "45185fa7d5c54a259fcd826aaeef40e5": {
      "model_module": "@jupyter-widgets/base",
      "model_module_version": "1.2.0",
      "model_name": "LayoutModel",
      "state": {}
     },
     "451b7bd138a7410cb16e7a169bf8281d": {
      "model_module": "@jupyter-widgets/controls",
      "model_module_version": "1.5.0",
      "model_name": "ProgressStyleModel",
      "state": {
       "description_width": "initial"
      }
     },
     "454046a20d0b4d1c97a3e43ea97ea16b": {
      "model_module": "@jupyter-widgets/controls",
      "model_module_version": "1.5.0",
      "model_name": "ProgressStyleModel",
      "state": {
       "description_width": "initial"
      }
     },
     "4548e8995e4f409cb355bd6dd15830b1": {
      "model_module": "@jupyter-widgets/controls",
      "model_module_version": "1.5.0",
      "model_name": "ProgressStyleModel",
      "state": {
       "description_width": "initial"
      }
     },
     "457a359d87cb462b87bb401c36dd5c72": {
      "model_module": "@jupyter-widgets/base",
      "model_module_version": "1.2.0",
      "model_name": "LayoutModel",
      "state": {}
     },
     "457bdfd42a004287aab82190cab6d042": {
      "model_module": "@jupyter-widgets/base",
      "model_module_version": "1.2.0",
      "model_name": "LayoutModel",
      "state": {}
     },
     "457dfb2395764a6b8049531dca7db5c0": {
      "model_module": "@jupyter-widgets/controls",
      "model_module_version": "1.5.0",
      "model_name": "ProgressStyleModel",
      "state": {
       "description_width": "initial"
      }
     },
     "4590adfa935d4356b96745f431d8eed7": {
      "model_module": "@jupyter-widgets/controls",
      "model_module_version": "1.5.0",
      "model_name": "HBoxModel",
      "state": {
       "children": [
        "IPY_MODEL_6e253a8424f34339b42ea84c946e7fb7",
        "IPY_MODEL_01ab69396fdd4ab691963e6a7c66d053"
       ],
       "layout": "IPY_MODEL_f136f40d033c4ac29140ec3228d1bc89"
      }
     },
     "45978bef081844bcad96a5a438179a49": {
      "model_module": "@jupyter-widgets/base",
      "model_module_version": "1.2.0",
      "model_name": "LayoutModel",
      "state": {}
     },
     "460d4e173ba340968682468907455c4a": {
      "model_module": "@jupyter-widgets/controls",
      "model_module_version": "1.5.0",
      "model_name": "DescriptionStyleModel",
      "state": {
       "description_width": ""
      }
     },
     "461dcd30a8a844d2adc6487a44f8ac25": {
      "model_module": "@jupyter-widgets/base",
      "model_module_version": "1.2.0",
      "model_name": "LayoutModel",
      "state": {}
     },
     "46254d8fe7d64e999bfc7f9ec1c2046c": {
      "model_module": "@jupyter-widgets/base",
      "model_module_version": "1.2.0",
      "model_name": "LayoutModel",
      "state": {}
     },
     "462b115b87854cea8a2d66aef00232bc": {
      "model_module": "@jupyter-widgets/controls",
      "model_module_version": "1.5.0",
      "model_name": "DescriptionStyleModel",
      "state": {
       "description_width": ""
      }
     },
     "4648bf25f9ba4a4ba15758458d9ba9b3": {
      "model_module": "@jupyter-widgets/controls",
      "model_module_version": "1.5.0",
      "model_name": "IntProgressModel",
      "state": {
       "bar_style": "success",
       "description": "Epoch [6/40]: 100%",
       "layout": "IPY_MODEL_2b7413c74eba4fac89cafb0d0a5a0367",
       "max": 338,
       "style": "IPY_MODEL_7304367707844fa283f2c50d313f4acf",
       "value": 338
      }
     },
     "46cf8ae52c48498b9e874d78d3309c42": {
      "model_module": "@jupyter-widgets/base",
      "model_module_version": "1.2.0",
      "model_name": "LayoutModel",
      "state": {}
     },
     "46d80a4b53c446bd822a4bf8519c62de": {
      "model_module": "@jupyter-widgets/controls",
      "model_module_version": "1.5.0",
      "model_name": "IntProgressModel",
      "state": {
       "bar_style": "success",
       "description": "Epoch [8/100]: 100%",
       "layout": "IPY_MODEL_3a2d29f8e88e45c58f195f2bea590a9c",
       "max": 289,
       "style": "IPY_MODEL_5c4e0e0b18c04fc5aa9ff6e61f78a5be",
       "value": 289
      }
     },
     "46e5f47c154e4567abaf602255baf903": {
      "model_module": "@jupyter-widgets/controls",
      "model_module_version": "1.5.0",
      "model_name": "HTMLModel",
      "state": {
       "layout": "IPY_MODEL_de0e9f67077b48a391ac3d03acba3d8f",
       "style": "IPY_MODEL_392e0a03fa1a4fa986ebacf55324e349",
       "value": " 338/338 [01:49&lt;00:00,  3.08it/s, acc=0.951, loss=0.241]"
      }
     },
     "46e8bb985b86464a9e50754b2260d2ca": {
      "model_module": "@jupyter-widgets/controls",
      "model_module_version": "1.5.0",
      "model_name": "HBoxModel",
      "state": {
       "children": [
        "IPY_MODEL_f6ef42eff73440eb9fadb2a1acfe249b",
        "IPY_MODEL_ba01dfa29b4a461eace4eb5343a005b6"
       ],
       "layout": "IPY_MODEL_f9b2cabd73f94d5a9a3e629a458c5002"
      }
     },
     "46f7c2c00a60462199c96a76a0c4ee45": {
      "model_module": "@jupyter-widgets/controls",
      "model_module_version": "1.5.0",
      "model_name": "HBoxModel",
      "state": {
       "children": [
        "IPY_MODEL_d5e3e8e74f3047039565a0a59ca75530",
        "IPY_MODEL_9c25c1e64df342c582543da578b06306"
       ],
       "layout": "IPY_MODEL_83abeef7ded24239b9bcf80ab355cc94"
      }
     },
     "46fe17ec0f124e6ea533bee3107a99cc": {
      "model_module": "@jupyter-widgets/controls",
      "model_module_version": "1.5.0",
      "model_name": "HBoxModel",
      "state": {
       "children": [
        "IPY_MODEL_7bce922c61eb49ec9ddfd4e64e18187e",
        "IPY_MODEL_b535aa15a5db4c2d8065016016a7e334"
       ],
       "layout": "IPY_MODEL_68023f117891404f8b14f3e86738ea7c"
      }
     },
     "474850821e2e4c3283b5f75928a06f0f": {
      "model_module": "@jupyter-widgets/controls",
      "model_module_version": "1.5.0",
      "model_name": "HBoxModel",
      "state": {
       "children": [
        "IPY_MODEL_d1fde1cf7b2840f39baff13ff28f21f8",
        "IPY_MODEL_810ab80203e54963a54c8d1bab48f35e"
       ],
       "layout": "IPY_MODEL_f1ecf2b7596442aab931b30631cfd5b9"
      }
     },
     "47d93d1edd42452da8f8c0d1a2fd2a01": {
      "model_module": "@jupyter-widgets/base",
      "model_module_version": "1.2.0",
      "model_name": "LayoutModel",
      "state": {}
     },
     "47e3fd5f311648faac3737fefb029f7b": {
      "model_module": "@jupyter-widgets/controls",
      "model_module_version": "1.5.0",
      "model_name": "DescriptionStyleModel",
      "state": {
       "description_width": ""
      }
     },
     "4822ee6468b843daae6f3b5efbb0ccde": {
      "model_module": "@jupyter-widgets/controls",
      "model_module_version": "1.5.0",
      "model_name": "HBoxModel",
      "state": {
       "children": [
        "IPY_MODEL_1eb381d53edf4e55b7cd4b83809e369c",
        "IPY_MODEL_212c87742467451fa418b1ded3a0ac3d"
       ],
       "layout": "IPY_MODEL_ce44824eef4d4908ad6ee37d9f98e091"
      }
     },
     "486ee408c38745e3bbd52326e25ea4bb": {
      "model_module": "@jupyter-widgets/base",
      "model_module_version": "1.2.0",
      "model_name": "LayoutModel",
      "state": {}
     },
     "4899e1ce4fe14f039e1178d12b02d4c3": {
      "model_module": "@jupyter-widgets/base",
      "model_module_version": "1.2.0",
      "model_name": "LayoutModel",
      "state": {}
     },
     "4919871078fd4bfebc5ce9b4b59c3c3c": {
      "model_module": "@jupyter-widgets/controls",
      "model_module_version": "1.5.0",
      "model_name": "DescriptionStyleModel",
      "state": {
       "description_width": ""
      }
     },
     "492d1439784d4ac1aabf9d2f7c5e7bf2": {
      "model_module": "@jupyter-widgets/controls",
      "model_module_version": "1.5.0",
      "model_name": "HTMLModel",
      "state": {
       "layout": "IPY_MODEL_13133c3b0cb24f60aff1a8e107fbd526",
       "style": "IPY_MODEL_622098900e254ae885f0c40df31a2197",
       "value": " 241/241 [01:29&lt;00:00,  2.71it/s, acc=0.267, loss=1.62]"
      }
     },
     "494685da00194c83ad627307cafebd71": {
      "model_module": "@jupyter-widgets/base",
      "model_module_version": "1.2.0",
      "model_name": "LayoutModel",
      "state": {}
     },
     "4952dd5046184bdab04af0b292da602b": {
      "model_module": "@jupyter-widgets/controls",
      "model_module_version": "1.5.0",
      "model_name": "DescriptionStyleModel",
      "state": {
       "description_width": ""
      }
     },
     "49571ef29aee44468860407a905fb835": {
      "model_module": "@jupyter-widgets/base",
      "model_module_version": "1.2.0",
      "model_name": "LayoutModel",
      "state": {}
     },
     "498cca242d6046e4adbecef2885c60a1": {
      "model_module": "@jupyter-widgets/base",
      "model_module_version": "1.2.0",
      "model_name": "LayoutModel",
      "state": {}
     },
     "49e229e523d44fe5b29e35873f528d98": {
      "model_module": "@jupyter-widgets/base",
      "model_module_version": "1.2.0",
      "model_name": "LayoutModel",
      "state": {}
     },
     "4a14f5bb099f4ecdbb24d5fbdb0fa5b5": {
      "model_module": "@jupyter-widgets/base",
      "model_module_version": "1.2.0",
      "model_name": "LayoutModel",
      "state": {}
     },
     "4a1f80a954874935a33331d9120f82f3": {
      "model_module": "@jupyter-widgets/controls",
      "model_module_version": "1.5.0",
      "model_name": "DescriptionStyleModel",
      "state": {
       "description_width": ""
      }
     },
     "4a28d50b6060427ba0c6c55a0aec3837": {
      "model_module": "@jupyter-widgets/controls",
      "model_module_version": "1.5.0",
      "model_name": "ProgressStyleModel",
      "state": {
       "description_width": ""
      }
     },
     "4a7c8a898c324efba2a34c916f1e08f4": {
      "model_module": "@jupyter-widgets/base",
      "model_module_version": "1.2.0",
      "model_name": "LayoutModel",
      "state": {}
     },
     "4a8daf33e2ba4164b15df7b9d4ff8795": {
      "model_module": "@jupyter-widgets/base",
      "model_module_version": "1.2.0",
      "model_name": "LayoutModel",
      "state": {}
     },
     "4ab457ed8ffe4897a3fe8554eaf1de96": {
      "model_module": "@jupyter-widgets/base",
      "model_module_version": "1.2.0",
      "model_name": "LayoutModel",
      "state": {}
     },
     "4ac7fdb1df4a42e889d420bdcf6fda95": {
      "model_module": "@jupyter-widgets/controls",
      "model_module_version": "1.5.0",
      "model_name": "IntProgressModel",
      "state": {
       "bar_style": "success",
       "description": "Epoch [35/40]: 100%",
       "layout": "IPY_MODEL_3da25eb3d30249e59b7054e875c19d1f",
       "max": 289,
       "style": "IPY_MODEL_e6b5fa0736fe4197baed3ca7972b2e61",
       "value": 289
      }
     },
     "4acf1fe5db7f444bbb44a1151cd52721": {
      "model_module": "@jupyter-widgets/base",
      "model_module_version": "1.2.0",
      "model_name": "LayoutModel",
      "state": {}
     },
     "4af477ddb3c640a88aa83f41a244a28a": {
      "model_module": "@jupyter-widgets/controls",
      "model_module_version": "1.5.0",
      "model_name": "DescriptionStyleModel",
      "state": {
       "description_width": ""
      }
     },
     "4b0ea944da174126a845e441a2cf54cb": {
      "model_module": "@jupyter-widgets/base",
      "model_module_version": "1.2.0",
      "model_name": "LayoutModel",
      "state": {}
     },
     "4b2c1d1ae9384bf59923f4d34bc8fd4a": {
      "model_module": "@jupyter-widgets/controls",
      "model_module_version": "1.5.0",
      "model_name": "IntProgressModel",
      "state": {
       "bar_style": "success",
       "description": "Epoch [34/40]: 100%",
       "layout": "IPY_MODEL_8d3238d4c9fc4e5eaa5f038212bc7a3c",
       "max": 338,
       "style": "IPY_MODEL_6972bf986b45497fbe4141a35be3c119",
       "value": 338
      }
     },
     "4b341571537a41a48e5d666375e168fe": {
      "model_module": "@jupyter-widgets/controls",
      "model_module_version": "1.5.0",
      "model_name": "ProgressStyleModel",
      "state": {
       "description_width": "initial"
      }
     },
     "4b378c5d82bc4fcd8f7413e7b65e80bb": {
      "model_module": "@jupyter-widgets/base",
      "model_module_version": "1.2.0",
      "model_name": "LayoutModel",
      "state": {}
     },
     "4b507b25db264393b2892d27144df764": {
      "model_module": "@jupyter-widgets/controls",
      "model_module_version": "1.5.0",
      "model_name": "DescriptionStyleModel",
      "state": {
       "description_width": ""
      }
     },
     "4b84144a31b14b24be8e5b79042aab6d": {
      "model_module": "@jupyter-widgets/controls",
      "model_module_version": "1.5.0",
      "model_name": "DescriptionStyleModel",
      "state": {
       "description_width": ""
      }
     },
     "4b846b9fea9246f7bb18d58705c8917b": {
      "model_module": "@jupyter-widgets/controls",
      "model_module_version": "1.5.0",
      "model_name": "ProgressStyleModel",
      "state": {
       "description_width": "initial"
      }
     },
     "4b957390b6ef494b9293eebe9c9b43bf": {
      "model_module": "@jupyter-widgets/base",
      "model_module_version": "1.2.0",
      "model_name": "LayoutModel",
      "state": {}
     },
     "4b9f9c22bb0f4242b6eca8dd5b157450": {
      "model_module": "@jupyter-widgets/controls",
      "model_module_version": "1.5.0",
      "model_name": "ProgressStyleModel",
      "state": {
       "description_width": "initial"
      }
     },
     "4bbcecb0b05642ff8a4b712d20e6f956": {
      "model_module": "@jupyter-widgets/base",
      "model_module_version": "1.2.0",
      "model_name": "LayoutModel",
      "state": {}
     },
     "4bead9bc1f6e4c2d9b5b2b126d604d1d": {
      "model_module": "@jupyter-widgets/base",
      "model_module_version": "1.2.0",
      "model_name": "LayoutModel",
      "state": {}
     },
     "4bf048f61f45481e9ace5b7d57eb919c": {
      "model_module": "@jupyter-widgets/base",
      "model_module_version": "1.2.0",
      "model_name": "LayoutModel",
      "state": {}
     },
     "4bf34092b40a4b6f95d2d59f5b3cd682": {
      "model_module": "@jupyter-widgets/base",
      "model_module_version": "1.2.0",
      "model_name": "LayoutModel",
      "state": {}
     },
     "4c7f89ee47d7456eb55e8085be3763aa": {
      "model_module": "@jupyter-widgets/base",
      "model_module_version": "1.2.0",
      "model_name": "LayoutModel",
      "state": {}
     },
     "4d55420aa2e949189ec2e84401db4734": {
      "model_module": "@jupyter-widgets/controls",
      "model_module_version": "1.5.0",
      "model_name": "HBoxModel",
      "state": {
       "children": [
        "IPY_MODEL_3a195048a58d40e193a69c142409920f",
        "IPY_MODEL_84775b1edd1e4220ba093fb71331faf8"
       ],
       "layout": "IPY_MODEL_a980650d35c3429199ed0374ce699e12"
      }
     },
     "4d8493cff605407dabf7bb5aae588c38": {
      "model_module": "@jupyter-widgets/controls",
      "model_module_version": "1.5.0",
      "model_name": "ProgressStyleModel",
      "state": {
       "description_width": "initial"
      }
     },
     "4da73d336f0d422eaf331a2ddc92c089": {
      "model_module": "@jupyter-widgets/base",
      "model_module_version": "1.2.0",
      "model_name": "LayoutModel",
      "state": {}
     },
     "4db4dfceff1b48d7b17ed86a08def91f": {
      "model_module": "@jupyter-widgets/controls",
      "model_module_version": "1.5.0",
      "model_name": "IntProgressModel",
      "state": {
       "bar_style": "success",
       "description": "Epoch [11/40]: 100%",
       "layout": "IPY_MODEL_2d2e909911af4006b001175ff3345c77",
       "max": 338,
       "style": "IPY_MODEL_864f24e8930a432ab7c696262b2d160c",
       "value": 338
      }
     },
     "4dbee4b23bce4602a50b9c9cd997b00a": {
      "model_module": "@jupyter-widgets/controls",
      "model_module_version": "1.5.0",
      "model_name": "IntProgressModel",
      "state": {
       "bar_style": "success",
       "description": "Epoch [23/40]: 100%",
       "layout": "IPY_MODEL_9c11099f4285487eb1eb77a665d220ec",
       "max": 241,
       "style": "IPY_MODEL_ab1a5a8a85dc435390ac93b4584342da",
       "value": 241
      }
     },
     "4dc2298000b94bb0b4f6f1cded5f6f41": {
      "model_module": "@jupyter-widgets/controls",
      "model_module_version": "1.5.0",
      "model_name": "DescriptionStyleModel",
      "state": {
       "description_width": ""
      }
     },
     "4dcfd33f77504052a2844d11dc83139d": {
      "model_module": "@jupyter-widgets/base",
      "model_module_version": "1.2.0",
      "model_name": "LayoutModel",
      "state": {}
     },
     "4e3948e481544b8e915dfbe76fba5306": {
      "model_module": "@jupyter-widgets/controls",
      "model_module_version": "1.5.0",
      "model_name": "ProgressStyleModel",
      "state": {
       "description_width": "initial"
      }
     },
     "4e3fb34b75d145d6b9ceb738d1a46328": {
      "model_module": "@jupyter-widgets/base",
      "model_module_version": "1.2.0",
      "model_name": "LayoutModel",
      "state": {}
     },
     "4e5dd273c9ac4c319bdd8934bb74d66f": {
      "model_module": "@jupyter-widgets/controls",
      "model_module_version": "1.5.0",
      "model_name": "HTMLModel",
      "state": {
       "layout": "IPY_MODEL_c53ee6ee503144408fb5cb2732c097f1",
       "style": "IPY_MODEL_efff6bbb4f7543be9585988b198933f6",
       "value": " 338/338 [01:12&lt;00:00,  4.67it/s, acc=0.97, loss=0.0834]"
      }
     },
     "4e60f5e21a144e008d75429a3c50b85f": {
      "model_module": "@jupyter-widgets/controls",
      "model_module_version": "1.5.0",
      "model_name": "HTMLModel",
      "state": {
       "layout": "IPY_MODEL_a0402acfb23f4c89ac2567c669fabd15",
       "style": "IPY_MODEL_3e10bde68f5540d4bc074169d9617125",
       "value": " 289/289 [01:05&lt;00:00,  4.44it/s, acc=0.99, loss=0.0133]"
      }
     },
     "4e7a0cbba37f42a5acf4b9bde4556131": {
      "model_module": "@jupyter-widgets/base",
      "model_module_version": "1.2.0",
      "model_name": "LayoutModel",
      "state": {}
     },
     "4e98d6e8fa32459fbe91dae42d638ebb": {
      "model_module": "@jupyter-widgets/base",
      "model_module_version": "1.2.0",
      "model_name": "LayoutModel",
      "state": {}
     },
     "4e9cbe6ef591498da1b2ade8b8c29a60": {
      "model_module": "@jupyter-widgets/controls",
      "model_module_version": "1.5.0",
      "model_name": "DescriptionStyleModel",
      "state": {
       "description_width": ""
      }
     },
     "4eda0faf5b524b798f2c543e0e7e7eae": {
      "model_module": "@jupyter-widgets/controls",
      "model_module_version": "1.5.0",
      "model_name": "ProgressStyleModel",
      "state": {
       "description_width": "initial"
      }
     },
     "4edc0d74db214356bf33cffa04982579": {
      "model_module": "@jupyter-widgets/controls",
      "model_module_version": "1.5.0",
      "model_name": "DescriptionStyleModel",
      "state": {
       "description_width": ""
      }
     },
     "4f34052f178f4606ae6717d6159bf5e0": {
      "model_module": "@jupyter-widgets/controls",
      "model_module_version": "1.5.0",
      "model_name": "IntProgressModel",
      "state": {
       "bar_style": "success",
       "description": "Epoch [31/40]: 100%",
       "layout": "IPY_MODEL_edfd7c33cc6f4341a901530d6da2c566",
       "max": 289,
       "style": "IPY_MODEL_4e3948e481544b8e915dfbe76fba5306",
       "value": 289
      }
     },
     "4f55384d54004924b4be0b9ac4969eac": {
      "model_module": "@jupyter-widgets/controls",
      "model_module_version": "1.5.0",
      "model_name": "ProgressStyleModel",
      "state": {
       "description_width": "initial"
      }
     },
     "4f62c57f661b40dd81d3907b58d6f657": {
      "model_module": "@jupyter-widgets/base",
      "model_module_version": "1.2.0",
      "model_name": "LayoutModel",
      "state": {}
     },
     "4f6a0244b4a94f8e8544c15bf61c378c": {
      "model_module": "@jupyter-widgets/controls",
      "model_module_version": "1.5.0",
      "model_name": "IntProgressModel",
      "state": {
       "bar_style": "success",
       "description": "Epoch [14/40]: 100%",
       "layout": "IPY_MODEL_780c921155ee48bfa4daee17292af5cb",
       "max": 255,
       "style": "IPY_MODEL_c5836dcf47ae4866a65d7ac4fb7986fd",
       "value": 255
      }
     },
     "4f7058c4e1394327bb7cc212c3866f9e": {
      "model_module": "@jupyter-widgets/controls",
      "model_module_version": "1.5.0",
      "model_name": "ProgressStyleModel",
      "state": {
       "description_width": "initial"
      }
     },
     "4f72ad7bca654e15b0b37d6bef56b7b2": {
      "model_module": "@jupyter-widgets/controls",
      "model_module_version": "1.5.0",
      "model_name": "ProgressStyleModel",
      "state": {
       "description_width": "initial"
      }
     },
     "4f81d4c6bb004558a0befc09bd0b4ce5": {
      "model_module": "@jupyter-widgets/base",
      "model_module_version": "1.2.0",
      "model_name": "LayoutModel",
      "state": {}
     },
     "4fa2c25cc1e4470ba693f4a79cbd1b24": {
      "model_module": "@jupyter-widgets/controls",
      "model_module_version": "1.5.0",
      "model_name": "HTMLModel",
      "state": {
       "layout": "IPY_MODEL_868d83e7857a4753a3de069196522058",
       "style": "IPY_MODEL_aa7e2da9e2c14578b078d93bbe207f20",
       "value": " 241/241 [00:23&lt;00:00, 10.47it/s, acc=0.982, loss=0.0382]"
      }
     },
     "4fa568c7b4254ba49362b458e28b27a5": {
      "model_module": "@jupyter-widgets/base",
      "model_module_version": "1.2.0",
      "model_name": "LayoutModel",
      "state": {}
     },
     "4faa0352dbc3441dab93c63936795321": {
      "model_module": "@jupyter-widgets/controls",
      "model_module_version": "1.5.0",
      "model_name": "HTMLModel",
      "state": {
       "layout": "IPY_MODEL_709468c0ced9425e969b92eece25f9b1",
       "style": "IPY_MODEL_7b7f3e8f72d44c9a9c26d114e946ae32",
       "value": " 255/255 [02:11&lt;00:00,  1.93it/s, acc=0.987, loss=0.0814]"
      }
     },
     "4fc6ef9c196c41dd8fa61dc2b9b2942b": {
      "model_module": "@jupyter-widgets/base",
      "model_module_version": "1.2.0",
      "model_name": "LayoutModel",
      "state": {}
     },
     "4fc72d1126ac4553861ec8552f90ca0e": {
      "model_module": "@jupyter-widgets/base",
      "model_module_version": "1.2.0",
      "model_name": "LayoutModel",
      "state": {}
     },
     "4ff336d4341a4381ad5dc4c0476de520": {
      "model_module": "@jupyter-widgets/controls",
      "model_module_version": "1.5.0",
      "model_name": "DescriptionStyleModel",
      "state": {
       "description_width": ""
      }
     },
     "500b5f37fd4144b8bdbb68ea68b8d573": {
      "model_module": "@jupyter-widgets/base",
      "model_module_version": "1.2.0",
      "model_name": "LayoutModel",
      "state": {}
     },
     "503cf3ec661d4f308507458fb960bff8": {
      "model_module": "@jupyter-widgets/base",
      "model_module_version": "1.2.0",
      "model_name": "LayoutModel",
      "state": {}
     },
     "5045a2c6e6ec433c92dc20d24142c916": {
      "model_module": "@jupyter-widgets/base",
      "model_module_version": "1.2.0",
      "model_name": "LayoutModel",
      "state": {}
     },
     "5074cbdda23e48f093229e304f86997a": {
      "model_module": "@jupyter-widgets/controls",
      "model_module_version": "1.5.0",
      "model_name": "HTMLModel",
      "state": {
       "layout": "IPY_MODEL_1ab0ebabcec740908636276204467b6f",
       "style": "IPY_MODEL_43db2e024a504e2ca97fedad0b2b61d1",
       "value": " 361/361 [01:49&lt;00:00,  3.30it/s, acc=0.978, loss=0.0828]"
      }
     },
     "508b770817a34ebcb63a72e4a8010f97": {
      "model_module": "@jupyter-widgets/controls",
      "model_module_version": "1.5.0",
      "model_name": "HBoxModel",
      "state": {
       "children": [
        "IPY_MODEL_4648bf25f9ba4a4ba15758458d9ba9b3",
        "IPY_MODEL_58e54cfc7a4c4b9da0d9f7a0bf27e415"
       ],
       "layout": "IPY_MODEL_ed188e327ccd49fbbb1ef04be45eef6f"
      }
     },
     "50976d2b5bf345d28ebb5e2876aecdea": {
      "model_module": "@jupyter-widgets/controls",
      "model_module_version": "1.5.0",
      "model_name": "ProgressStyleModel",
      "state": {
       "description_width": "initial"
      }
     },
     "50cc1ee22b194812ae80c91c3f5bbbaa": {
      "model_module": "@jupyter-widgets/controls",
      "model_module_version": "1.5.0",
      "model_name": "IntProgressModel",
      "state": {
       "bar_style": "success",
       "description": "Epoch [17/40]: 100%",
       "layout": "IPY_MODEL_b6c4c3b6c7c54f6486cf107e28a30694",
       "max": 361,
       "style": "IPY_MODEL_2ccefc66b32541c08b5e3b93499b9948",
       "value": 361
      }
     },
     "51298a8b081d4cc5ba4c2105c86a50b5": {
      "model_module": "@jupyter-widgets/controls",
      "model_module_version": "1.5.0",
      "model_name": "DescriptionStyleModel",
      "state": {
       "description_width": ""
      }
     },
     "51975ad57f144a5e87440dd4bf9b0ee6": {
      "model_module": "@jupyter-widgets/controls",
      "model_module_version": "1.5.0",
      "model_name": "HTMLModel",
      "state": {
       "layout": "IPY_MODEL_157743c184ce42e6b8f00b0e22010c9b",
       "style": "IPY_MODEL_b589109b70b244fd88b86adefe5f59c2",
       "value": " 361/361 [01:59&lt;00:00,  3.02it/s, acc=0.295, loss=1.57]"
      }
     },
     "51c97ed1586a4d88a74d82d4c79be39e": {
      "model_module": "@jupyter-widgets/controls",
      "model_module_version": "1.5.0",
      "model_name": "HTMLModel",
      "state": {
       "layout": "IPY_MODEL_c0b130f5efc54b18987836c0fc4c4186",
       "style": "IPY_MODEL_7c40dd0d028b438d9d38472b289be819",
       "value": " 289/289 [01:20&lt;00:00,  3.61it/s, acc=0.99, loss=0.0032]"
      }
     },
     "51e4351b7b7c4174a1a6c6f23fec7fbc": {
      "model_module": "@jupyter-widgets/base",
      "model_module_version": "1.2.0",
      "model_name": "LayoutModel",
      "state": {}
     },
     "521b2892274348678df36b027f02d9fd": {
      "model_module": "@jupyter-widgets/base",
      "model_module_version": "1.2.0",
      "model_name": "LayoutModel",
      "state": {}
     },
     "52260b6f28994dd0b14b260236a69312": {
      "model_module": "@jupyter-widgets/base",
      "model_module_version": "1.2.0",
      "model_name": "LayoutModel",
      "state": {}
     },
     "523aacdb3d974ca2b0473282d21d3b1d": {
      "model_module": "@jupyter-widgets/base",
      "model_module_version": "1.2.0",
      "model_name": "LayoutModel",
      "state": {}
     },
     "5291cd6129c443d7b1d70cf81180d838": {
      "model_module": "@jupyter-widgets/controls",
      "model_module_version": "1.5.0",
      "model_name": "IntProgressModel",
      "state": {
       "bar_style": "success",
       "description": "Epoch [24/100]: 100%",
       "layout": "IPY_MODEL_0ed7273504da4b889d2690c3ca292720",
       "max": 289,
       "style": "IPY_MODEL_1d659bdf148a40b6a9c67e922863ff72",
       "value": 289
      }
     },
     "529df614145d456ca453b78c377e34c6": {
      "model_module": "@jupyter-widgets/base",
      "model_module_version": "1.2.0",
      "model_name": "LayoutModel",
      "state": {}
     },
     "52ab95b9b2c04e4092fb0f6aaeec4da5": {
      "model_module": "@jupyter-widgets/controls",
      "model_module_version": "1.5.0",
      "model_name": "DescriptionStyleModel",
      "state": {
       "description_width": ""
      }
     },
     "52ad0c82d7554367b81437b8a8aa9146": {
      "model_module": "@jupyter-widgets/controls",
      "model_module_version": "1.5.0",
      "model_name": "HBoxModel",
      "state": {
       "children": [
        "IPY_MODEL_6f87e2adc49c4d6da1f64b01f64428b6",
        "IPY_MODEL_e0e937b65cdd47e9bab3baaf04ed3eca"
       ],
       "layout": "IPY_MODEL_f81464cd71694e44892f806c15b70049"
      }
     },
     "52c2328569cf43638da2a75cdcb89363": {
      "model_module": "@jupyter-widgets/base",
      "model_module_version": "1.2.0",
      "model_name": "LayoutModel",
      "state": {}
     },
     "52cbdde9b9834b238785af752dc6bf61": {
      "model_module": "@jupyter-widgets/base",
      "model_module_version": "1.2.0",
      "model_name": "LayoutModel",
      "state": {}
     },
     "52ee77e9f32948f081f0b9f768ae4ee7": {
      "model_module": "@jupyter-widgets/base",
      "model_module_version": "1.2.0",
      "model_name": "LayoutModel",
      "state": {}
     },
     "530d8b0faf5044a4a39613e9005514bc": {
      "model_module": "@jupyter-widgets/base",
      "model_module_version": "1.2.0",
      "model_name": "LayoutModel",
      "state": {}
     },
     "5336b3ab9e2b488693784bc47057f807": {
      "model_module": "@jupyter-widgets/base",
      "model_module_version": "1.2.0",
      "model_name": "LayoutModel",
      "state": {}
     },
     "5349f50c624f45f7a0d1abdb7ab35f92": {
      "model_module": "@jupyter-widgets/base",
      "model_module_version": "1.2.0",
      "model_name": "LayoutModel",
      "state": {}
     },
     "535d1e5f81ec436c846cc72584b6e87e": {
      "model_module": "@jupyter-widgets/controls",
      "model_module_version": "1.5.0",
      "model_name": "ProgressStyleModel",
      "state": {
       "description_width": "initial"
      }
     },
     "53c09200e6a04627b242af5d1237b92d": {
      "model_module": "@jupyter-widgets/base",
      "model_module_version": "1.2.0",
      "model_name": "LayoutModel",
      "state": {}
     },
     "53c9459a1eb941db8fa814d4ba88918f": {
      "model_module": "@jupyter-widgets/base",
      "model_module_version": "1.2.0",
      "model_name": "LayoutModel",
      "state": {}
     },
     "53dd3568115f497ab2d008ddd8a3e670": {
      "model_module": "@jupyter-widgets/base",
      "model_module_version": "1.2.0",
      "model_name": "LayoutModel",
      "state": {}
     },
     "5407f4afc6f8499eb89d02e8e5ba0f59": {
      "model_module": "@jupyter-widgets/base",
      "model_module_version": "1.2.0",
      "model_name": "LayoutModel",
      "state": {}
     },
     "541eb8d08fbc47988ff28780cf888dd7": {
      "model_module": "@jupyter-widgets/controls",
      "model_module_version": "1.5.0",
      "model_name": "IntProgressModel",
      "state": {
       "bar_style": "success",
       "description": "Epoch [4/5]: 100%",
       "layout": "IPY_MODEL_c77640ed38194e7f9c3412ed6fe0f6cb",
       "max": 289,
       "style": "IPY_MODEL_4d8493cff605407dabf7bb5aae588c38",
       "value": 289
      }
     },
     "5431e86be36b4608b81347ce7a125faa": {
      "model_module": "@jupyter-widgets/controls",
      "model_module_version": "1.5.0",
      "model_name": "DescriptionStyleModel",
      "state": {
       "description_width": ""
      }
     },
     "544657f096834f1a9d1b67d29e14fce0": {
      "model_module": "@jupyter-widgets/base",
      "model_module_version": "1.2.0",
      "model_name": "LayoutModel",
      "state": {}
     },
     "5451cac233cd437482e4c51462b878d2": {
      "model_module": "@jupyter-widgets/base",
      "model_module_version": "1.2.0",
      "model_name": "LayoutModel",
      "state": {}
     },
     "54523b5b79c6474a99ea6d84584d51ec": {
      "model_module": "@jupyter-widgets/base",
      "model_module_version": "1.2.0",
      "model_name": "LayoutModel",
      "state": {}
     },
     "5461af6dd630439b9a96c2d47fbc3a8b": {
      "model_module": "@jupyter-widgets/controls",
      "model_module_version": "1.5.0",
      "model_name": "ProgressStyleModel",
      "state": {
       "description_width": "initial"
      }
     },
     "547b40509191452097ac9c8bad93d877": {
      "model_module": "@jupyter-widgets/controls",
      "model_module_version": "1.5.0",
      "model_name": "HTMLModel",
      "state": {
       "layout": "IPY_MODEL_3c4b8f974ed948d5abb2b1539f1993f1",
       "style": "IPY_MODEL_2074ef67d16e42b6a040a54a6a4a0e41",
       "value": " 338/338 [00:55&lt;00:00,  6.06it/s, acc=0.98, loss=0.113]"
      }
     },
     "54b736ad90dd468aa8dd889ec0814ed3": {
      "model_module": "@jupyter-widgets/base",
      "model_module_version": "1.2.0",
      "model_name": "LayoutModel",
      "state": {}
     },
     "54de20894f274dbb811044e9f55870d2": {
      "model_module": "@jupyter-widgets/controls",
      "model_module_version": "1.5.0",
      "model_name": "HTMLModel",
      "state": {
       "layout": "IPY_MODEL_f9159efa16384beea9657eeef8d7686b",
       "style": "IPY_MODEL_bb6f5b149d854c4e86e812964d47898f",
       "value": " 289/289 [01:26&lt;00:00,  3.35it/s, acc=0.982, loss=0.0107]"
      }
     },
     "54ef3100e60945588b0806f02f975fde": {
      "model_module": "@jupyter-widgets/controls",
      "model_module_version": "1.5.0",
      "model_name": "DescriptionStyleModel",
      "state": {
       "description_width": ""
      }
     },
     "54fad4666a1c491bb5aa05e7a002ca78": {
      "model_module": "@jupyter-widgets/controls",
      "model_module_version": "1.5.0",
      "model_name": "IntProgressModel",
      "state": {
       "bar_style": "success",
       "description": "Epoch [38/40]: 100%",
       "layout": "IPY_MODEL_e4c2ca9d191741748be2861486051775",
       "max": 338,
       "style": "IPY_MODEL_b03b9aa7ea1d4dd2ae64d51582f2da8a",
       "value": 338
      }
     },
     "556fd52f005842f5a1d7ed12f9096b5d": {
      "model_module": "@jupyter-widgets/base",
      "model_module_version": "1.2.0",
      "model_name": "LayoutModel",
      "state": {}
     },
     "558886b32b0645a882a6c53c7a6d710f": {
      "model_module": "@jupyter-widgets/controls",
      "model_module_version": "1.5.0",
      "model_name": "HBoxModel",
      "state": {
       "children": [
        "IPY_MODEL_262e15f4b32b4e6288064d713caf6f78",
        "IPY_MODEL_c8b27a9c5aca4f4185c591ef58f0e8fb"
       ],
       "layout": "IPY_MODEL_457a359d87cb462b87bb401c36dd5c72"
      }
     },
     "558e3c995e114835b6d8d81899bdef5e": {
      "model_module": "@jupyter-widgets/controls",
      "model_module_version": "1.5.0",
      "model_name": "DescriptionStyleModel",
      "state": {
       "description_width": ""
      }
     },
     "559c6eba07f3405a8ae166a7734de73f": {
      "model_module": "@jupyter-widgets/controls",
      "model_module_version": "1.5.0",
      "model_name": "HTMLModel",
      "state": {
       "layout": "IPY_MODEL_920328be421f4152afe6c94734ce395f",
       "style": "IPY_MODEL_e2b76d58533540d690c9cba0b55903ba",
       "value": " 241/241 [01:26&lt;00:00,  2.80it/s, acc=0.965, loss=0.0588]"
      }
     },
     "55a910fbdfbd4da581ad3ec29130b299": {
      "model_module": "@jupyter-widgets/base",
      "model_module_version": "1.2.0",
      "model_name": "LayoutModel",
      "state": {}
     },
     "55ed19eb47b04b20b0008864da6e856d": {
      "model_module": "@jupyter-widgets/base",
      "model_module_version": "1.2.0",
      "model_name": "LayoutModel",
      "state": {}
     },
     "55f5f8098f74412299f1c0eea3524ef8": {
      "model_module": "@jupyter-widgets/controls",
      "model_module_version": "1.5.0",
      "model_name": "HBoxModel",
      "state": {
       "children": [
        "IPY_MODEL_93597bf23cdb43b3890b942a502d9586",
        "IPY_MODEL_368ff3882f714e9a860b7f19a8c9469f"
       ],
       "layout": "IPY_MODEL_b610a4b4db13427ab70ba365181b13d6"
      }
     },
     "562ada0434994877a24c070d167813ed": {
      "model_module": "@jupyter-widgets/controls",
      "model_module_version": "1.5.0",
      "model_name": "HTMLModel",
      "state": {
       "layout": "IPY_MODEL_267968a6d6934f878c85110c3ec097a3",
       "style": "IPY_MODEL_7f557896bb8c480a8654246d2e6189a3",
       "value": " 241/241 [00:43&lt;00:00,  5.50it/s, acc=0.98, loss=0.0404]"
      }
     },
     "566ffd70035643db9d9d376cf24e9862": {
      "model_module": "@jupyter-widgets/base",
      "model_module_version": "1.2.0",
      "model_name": "LayoutModel",
      "state": {}
     },
     "5692af56fb8b43dda25e521a21595ed1": {
      "model_module": "@jupyter-widgets/controls",
      "model_module_version": "1.5.0",
      "model_name": "HTMLModel",
      "state": {
       "layout": "IPY_MODEL_241eb2987c004051a31941842dae701a",
       "style": "IPY_MODEL_7da7c94ce6cc48db8dcb02eb64ba3427",
       "value": " 255/255 [02:01&lt;00:00,  2.10it/s, acc=0.989, loss=0.0531]"
      }
     },
     "56a2bf53e2644569b6048a891e5d9a3c": {
      "model_module": "@jupyter-widgets/controls",
      "model_module_version": "1.5.0",
      "model_name": "DescriptionStyleModel",
      "state": {
       "description_width": ""
      }
     },
     "56c0cce8317c4a3e8bcba51871c1fabc": {
      "model_module": "@jupyter-widgets/base",
      "model_module_version": "1.2.0",
      "model_name": "LayoutModel",
      "state": {}
     },
     "56d1801b2c784ea497a147c0dfb0874f": {
      "model_module": "@jupyter-widgets/base",
      "model_module_version": "1.2.0",
      "model_name": "LayoutModel",
      "state": {}
     },
     "56fd1f7cbd094ff4ad75bbd846275d01": {
      "model_module": "@jupyter-widgets/base",
      "model_module_version": "1.2.0",
      "model_name": "LayoutModel",
      "state": {}
     },
     "57979953a55c4c0dba8996a071fb23da": {
      "model_module": "@jupyter-widgets/controls",
      "model_module_version": "1.5.0",
      "model_name": "DescriptionStyleModel",
      "state": {
       "description_width": ""
      }
     },
     "57d838b3b40d40ba9f7a8d45de4ce484": {
      "model_module": "@jupyter-widgets/controls",
      "model_module_version": "1.5.0",
      "model_name": "ProgressStyleModel",
      "state": {
       "description_width": "initial"
      }
     },
     "580477320af448f7bba4982e9c0b8246": {
      "model_module": "@jupyter-widgets/controls",
      "model_module_version": "1.5.0",
      "model_name": "HBoxModel",
      "state": {
       "children": [
        "IPY_MODEL_f746c5572cce4a37873334da9f6f93d4",
        "IPY_MODEL_c27b6dfdf56b4b6d86a9e72f651685f1"
       ],
       "layout": "IPY_MODEL_4dcfd33f77504052a2844d11dc83139d"
      }
     },
     "580d33911fa443c9a0519d39b9cd2a27": {
      "model_module": "@jupyter-widgets/controls",
      "model_module_version": "1.5.0",
      "model_name": "HTMLModel",
      "state": {
       "layout": "IPY_MODEL_718dc0ba3ae04cf2bffeb72e38fa8c20",
       "style": "IPY_MODEL_c6aba30a257c440e8a014680977b176c",
       "value": " 338/338 [01:35&lt;00:00,  3.55it/s, acc=0.988, loss=0.049]"
      }
     },
     "582cbc31d51349a49429656b721ad22b": {
      "model_module": "@jupyter-widgets/controls",
      "model_module_version": "1.5.0",
      "model_name": "DescriptionStyleModel",
      "state": {
       "description_width": ""
      }
     },
     "5836a9e09f5d480fbb1c9ccd222d12b5": {
      "model_module": "@jupyter-widgets/controls",
      "model_module_version": "1.5.0",
      "model_name": "DescriptionStyleModel",
      "state": {
       "description_width": ""
      }
     },
     "5848c6848daa4e068933a6daa9fb9463": {
      "model_module": "@jupyter-widgets/base",
      "model_module_version": "1.2.0",
      "model_name": "LayoutModel",
      "state": {}
     },
     "585b8f88a0844666be92ac29db970cab": {
      "model_module": "@jupyter-widgets/base",
      "model_module_version": "1.2.0",
      "model_name": "LayoutModel",
      "state": {}
     },
     "58953bf766ba4c5a9709c3dc5df34e6e": {
      "model_module": "@jupyter-widgets/base",
      "model_module_version": "1.2.0",
      "model_name": "LayoutModel",
      "state": {}
     },
     "58a4eb0356314f7aa742785932b86ae8": {
      "model_module": "@jupyter-widgets/base",
      "model_module_version": "1.2.0",
      "model_name": "LayoutModel",
      "state": {}
     },
     "58cbcd95701a4e7597458baac62006ee": {
      "model_module": "@jupyter-widgets/controls",
      "model_module_version": "1.5.0",
      "model_name": "ProgressStyleModel",
      "state": {
       "description_width": "initial"
      }
     },
     "58e18739a90441aa8a46721c86073992": {
      "model_module": "@jupyter-widgets/controls",
      "model_module_version": "1.5.0",
      "model_name": "IntProgressModel",
      "state": {
       "bar_style": "success",
       "description": "Epoch [7/40]: 100%",
       "layout": "IPY_MODEL_de4e8e97819d4d218c2b60f7d8212435",
       "max": 241,
       "style": "IPY_MODEL_826a23271c9d4bca8beb4f0861abd222",
       "value": 241
      }
     },
     "58e394fb838f4722bd168b818985c1c3": {
      "model_module": "@jupyter-widgets/controls",
      "model_module_version": "1.5.0",
      "model_name": "ProgressStyleModel",
      "state": {
       "description_width": "initial"
      }
     },
     "58e54cfc7a4c4b9da0d9f7a0bf27e415": {
      "model_module": "@jupyter-widgets/controls",
      "model_module_version": "1.5.0",
      "model_name": "HTMLModel",
      "state": {
       "layout": "IPY_MODEL_9e04d56185894edc8ed8895f4fb0b314",
       "style": "IPY_MODEL_fd68a03efc6e40e18d9e6bf823f10ac3",
       "value": " 338/338 [01:01&lt;00:00,  5.53it/s, acc=0.899, loss=0.225]"
      }
     },
     "593911c2992d45b4bfe4dde90b133140": {
      "model_module": "@jupyter-widgets/controls",
      "model_module_version": "1.5.0",
      "model_name": "DescriptionStyleModel",
      "state": {
       "description_width": ""
      }
     },
     "5946e4256298479ab978156be9dc07f0": {
      "model_module": "@jupyter-widgets/controls",
      "model_module_version": "1.5.0",
      "model_name": "HTMLModel",
      "state": {
       "layout": "IPY_MODEL_b5ede6ef7b4c437d8be83b7a9f313953",
       "style": "IPY_MODEL_ba36788b0c7c43d2823abba895a38048",
       "value": " 241/241 [01:26&lt;00:00,  2.80it/s, acc=0.974, loss=0.0941]"
      }
     },
     "59dabc7a766f440681b37e2ff6270e5c": {
      "model_module": "@jupyter-widgets/controls",
      "model_module_version": "1.5.0",
      "model_name": "DescriptionStyleModel",
      "state": {
       "description_width": ""
      }
     },
     "59e91c18914946cfaaf550586e586ce6": {
      "model_module": "@jupyter-widgets/controls",
      "model_module_version": "1.5.0",
      "model_name": "ProgressStyleModel",
      "state": {
       "description_width": "initial"
      }
     },
     "59fd94891a5f42f5803f5f6dbfd18267": {
      "model_module": "@jupyter-widgets/base",
      "model_module_version": "1.2.0",
      "model_name": "LayoutModel",
      "state": {}
     },
     "5a4405a71160437b9c90a34bf6be2447": {
      "model_module": "@jupyter-widgets/controls",
      "model_module_version": "1.5.0",
      "model_name": "DescriptionStyleModel",
      "state": {
       "description_width": ""
      }
     },
     "5a48840711d346c0b278ad3efda7ed7d": {
      "model_module": "@jupyter-widgets/base",
      "model_module_version": "1.2.0",
      "model_name": "LayoutModel",
      "state": {}
     },
     "5a62afb740cb41bda01abf67359c754a": {
      "model_module": "@jupyter-widgets/controls",
      "model_module_version": "1.5.0",
      "model_name": "HBoxModel",
      "state": {
       "children": [
        "IPY_MODEL_d5c83183225940f684d45fef44ae9670",
        "IPY_MODEL_77f8a159486248b999034e5ad27cff7a"
       ],
       "layout": "IPY_MODEL_673179669d604796bb2d5167382e542d"
      }
     },
     "5a765adcdd6148b5938b897e9606589f": {
      "model_module": "@jupyter-widgets/controls",
      "model_module_version": "1.5.0",
      "model_name": "HTMLModel",
      "state": {
       "layout": "IPY_MODEL_b96ac541ab864644af4d90d5ea8ad0c2",
       "style": "IPY_MODEL_67d13637180e481ba732f41d234e444d",
       "value": " 280/280 [00:38&lt;00:00,  7.19it/s, acc=0.988, loss=0.0131]"
      }
     },
     "5a87d0b9206b43cd8160de41ca5a9f32": {
      "model_module": "@jupyter-widgets/controls",
      "model_module_version": "1.5.0",
      "model_name": "ProgressStyleModel",
      "state": {
       "description_width": ""
      }
     },
     "5a93ce4f8cd44205ac97125df2a493e6": {
      "model_module": "@jupyter-widgets/controls",
      "model_module_version": "1.5.0",
      "model_name": "DescriptionStyleModel",
      "state": {
       "description_width": ""
      }
     },
     "5a988dcd365b4db38d0fdaea46c05976": {
      "model_module": "@jupyter-widgets/controls",
      "model_module_version": "1.5.0",
      "model_name": "IntProgressModel",
      "state": {
       "bar_style": "success",
       "description": "Epoch [4/5]: 100%",
       "layout": "IPY_MODEL_88731f7e08b9489489913511951ab166",
       "max": 283,
       "style": "IPY_MODEL_4b9f9c22bb0f4242b6eca8dd5b157450",
       "value": 283
      }
     },
     "5a99eb32f9b24852be1432b3f9f20c2c": {
      "model_module": "@jupyter-widgets/controls",
      "model_module_version": "1.5.0",
      "model_name": "HBoxModel",
      "state": {
       "children": [
        "IPY_MODEL_c168acf0e56d4af6b37da4543c4812a0",
        "IPY_MODEL_dc26ca2de6504204acda496b6314fcdf"
       ],
       "layout": "IPY_MODEL_786e6685a2af4a47aae184fa0173b76b"
      }
     },
     "5ab373ec375942858bc04cefa42f2c03": {
      "model_module": "@jupyter-widgets/controls",
      "model_module_version": "1.5.0",
      "model_name": "IntProgressModel",
      "state": {
       "bar_style": "success",
       "description": "Epoch [16/100]: 100%",
       "layout": "IPY_MODEL_d6b8225335e3425b82bdc9085474d2b7",
       "max": 289,
       "style": "IPY_MODEL_93e54088ff814e8e92cd8e7bf475ccbf",
       "value": 289
      }
     },
     "5ae31cc4b263435fbf5df1def3267056": {
      "model_module": "@jupyter-widgets/base",
      "model_module_version": "1.2.0",
      "model_name": "LayoutModel",
      "state": {}
     },
     "5b0e1b74a0e6458188cd3f11ab19d9fa": {
      "model_module": "@jupyter-widgets/base",
      "model_module_version": "1.2.0",
      "model_name": "LayoutModel",
      "state": {}
     },
     "5b1871dc030c47bcad2726e080440068": {
      "model_module": "@jupyter-widgets/controls",
      "model_module_version": "1.5.0",
      "model_name": "HTMLModel",
      "state": {
       "layout": "IPY_MODEL_92dd2464061a42e8a813142c532cc237",
       "style": "IPY_MODEL_b2aad718a50b4021b56c3b0c7231feb3"
      }
     },
     "5b1c0615f7d24f048addc6ea5045809b": {
      "model_module": "@jupyter-widgets/controls",
      "model_module_version": "1.5.0",
      "model_name": "DescriptionStyleModel",
      "state": {
       "description_width": ""
      }
     },
     "5b1f5140aa844210a24d496e7d9d14d3": {
      "model_module": "@jupyter-widgets/controls",
      "model_module_version": "1.5.0",
      "model_name": "DescriptionStyleModel",
      "state": {
       "description_width": ""
      }
     },
     "5b49826e34cd4ac58140f41934b84ffc": {
      "model_module": "@jupyter-widgets/controls",
      "model_module_version": "1.5.0",
      "model_name": "HTMLModel",
      "state": {
       "layout": "IPY_MODEL_1d4078b8a2084db7ac8893b6e717e89b",
       "style": "IPY_MODEL_7b00d54b267547c885891f2f4b76ce1e",
       "value": " 289/289 [00:47&lt;00:00,  6.02it/s, acc=0.28, loss=1.55]"
      }
     },
     "5b4c09c98b5b45dd9b64edda2d4cf8ec": {
      "model_module": "@jupyter-widgets/controls",
      "model_module_version": "1.5.0",
      "model_name": "HTMLModel",
      "state": {
       "layout": "IPY_MODEL_010c16b88e19418f87b186d696257f57",
       "style": "IPY_MODEL_eca685b5fb6a4e3aba3278ee87678344",
       "value": " 255/255 [00:31&lt;00:00,  8.18it/s, acc=0.985, loss=0.0119]"
      }
     },
     "5b7f3f794b1042e9b05d6f2abc6353d5": {
      "model_module": "@jupyter-widgets/controls",
      "model_module_version": "1.5.0",
      "model_name": "DescriptionStyleModel",
      "state": {
       "description_width": ""
      }
     },
     "5ba35898815542e1b7ecdec9b12f3868": {
      "model_module": "@jupyter-widgets/base",
      "model_module_version": "1.2.0",
      "model_name": "LayoutModel",
      "state": {}
     },
     "5bfec29da0594ed2b55f19ed20a9f3da": {
      "model_module": "@jupyter-widgets/controls",
      "model_module_version": "1.5.0",
      "model_name": "HBoxModel",
      "state": {
       "children": [
        "IPY_MODEL_7d973ac378104d3188d9db36d482ccf7",
        "IPY_MODEL_097b96d47a134189be36875a2ae1bc97"
       ],
       "layout": "IPY_MODEL_4f81d4c6bb004558a0befc09bd0b4ce5"
      }
     },
     "5c0034162bc24911b579dc15d793dae0": {
      "model_module": "@jupyter-widgets/controls",
      "model_module_version": "1.5.0",
      "model_name": "DescriptionStyleModel",
      "state": {
       "description_width": ""
      }
     },
     "5c4404f8c52940ddae97595d89b82689": {
      "model_module": "@jupyter-widgets/base",
      "model_module_version": "1.2.0",
      "model_name": "LayoutModel",
      "state": {}
     },
     "5c4e0e0b18c04fc5aa9ff6e61f78a5be": {
      "model_module": "@jupyter-widgets/controls",
      "model_module_version": "1.5.0",
      "model_name": "ProgressStyleModel",
      "state": {
       "description_width": "initial"
      }
     },
     "5ce417ef67b648249d00459f74a0f64b": {
      "model_module": "@jupyter-widgets/controls",
      "model_module_version": "1.5.0",
      "model_name": "IntProgressModel",
      "state": {
       "bar_style": "success",
       "description": "Epoch [24/40]: 100%",
       "layout": "IPY_MODEL_56d1801b2c784ea497a147c0dfb0874f",
       "max": 338,
       "style": "IPY_MODEL_9b4dedf95f3d425a88fc2638e9271e36",
       "value": 338
      }
     },
     "5cf13739f1fe428db5844043cb289f79": {
      "model_module": "@jupyter-widgets/controls",
      "model_module_version": "1.5.0",
      "model_name": "ProgressStyleModel",
      "state": {
       "description_width": "initial"
      }
     },
     "5cffc0bb78554b4fa30e5c249ee15b0b": {
      "model_module": "@jupyter-widgets/base",
      "model_module_version": "1.2.0",
      "model_name": "LayoutModel",
      "state": {}
     },
     "5d0f3ded53c043a98538307807719746": {
      "model_module": "@jupyter-widgets/controls",
      "model_module_version": "1.5.0",
      "model_name": "ProgressStyleModel",
      "state": {
       "description_width": "initial"
      }
     },
     "5d28eacacb1448d0b909b3f6e2c7045b": {
      "model_module": "@jupyter-widgets/controls",
      "model_module_version": "1.5.0",
      "model_name": "HBoxModel",
      "state": {
       "children": [
        "IPY_MODEL_a7551a129cbe4577b051ef58052d77b8",
        "IPY_MODEL_acf1eba4c56847a7bd73fc5cd989d3ba"
       ],
       "layout": "IPY_MODEL_2ca564cd01c44d818c99bcded5df59b6"
      }
     },
     "5d337c0dbb7042cc87444a58432a8477": {
      "model_module": "@jupyter-widgets/base",
      "model_module_version": "1.2.0",
      "model_name": "LayoutModel",
      "state": {}
     },
     "5d76c99a7adb4761aa3d5e4fd6cd0aa8": {
      "model_module": "@jupyter-widgets/controls",
      "model_module_version": "1.5.0",
      "model_name": "IntProgressModel",
      "state": {
       "bar_style": "success",
       "description": "Epoch [32/40]: 100%",
       "layout": "IPY_MODEL_566ffd70035643db9d9d376cf24e9862",
       "max": 241,
       "style": "IPY_MODEL_31238c7966514ebfbb8a152b3e879881",
       "value": 241
      }
     },
     "5d8b935079eb4041ac32cd350bf37915": {
      "model_module": "@jupyter-widgets/controls",
      "model_module_version": "1.5.0",
      "model_name": "DescriptionStyleModel",
      "state": {
       "description_width": ""
      }
     },
     "5dc0b15550734f149992becd5d71ba30": {
      "model_module": "@jupyter-widgets/base",
      "model_module_version": "1.2.0",
      "model_name": "LayoutModel",
      "state": {}
     },
     "5dda6843214848d88b3fcadf9df30138": {
      "model_module": "@jupyter-widgets/controls",
      "model_module_version": "1.5.0",
      "model_name": "HBoxModel",
      "state": {
       "children": [
        "IPY_MODEL_a2749e01b8db42b399579fac8870f521",
        "IPY_MODEL_7ffa1822ac234b6bb9d18f536d0bbbed"
       ],
       "layout": "IPY_MODEL_e85948628b8a4dcda3f5a78ded9ede1c"
      }
     },
     "5df2b04f242e45b2aa6ce731a820e315": {
      "model_module": "@jupyter-widgets/controls",
      "model_module_version": "1.5.0",
      "model_name": "HTMLModel",
      "state": {
       "layout": "IPY_MODEL_53c09200e6a04627b242af5d1237b92d",
       "style": "IPY_MODEL_34118ad1da4b4580b63ae11fca977f9d",
       "value": " 241/241 [01:18&lt;00:00,  3.08it/s, acc=0.267, loss=1.69]"
      }
     },
     "5e05933a641f4047930bd706a6d0eb84": {
      "model_module": "@jupyter-widgets/controls",
      "model_module_version": "1.5.0",
      "model_name": "DescriptionStyleModel",
      "state": {
       "description_width": ""
      }
     },
     "5e0705d89a474a158f04c5aeaa37f40c": {
      "model_module": "@jupyter-widgets/base",
      "model_module_version": "1.2.0",
      "model_name": "LayoutModel",
      "state": {}
     },
     "5e17ca33844d476796b2dd0a02a317c5": {
      "model_module": "@jupyter-widgets/base",
      "model_module_version": "1.2.0",
      "model_name": "LayoutModel",
      "state": {}
     },
     "5e1fd6ebb4174e93827ccb35f159b946": {
      "model_module": "@jupyter-widgets/controls",
      "model_module_version": "1.5.0",
      "model_name": "IntProgressModel",
      "state": {
       "bar_style": "success",
       "description": "Epoch [19/40]: 100%",
       "layout": "IPY_MODEL_19b1c94a7b284cdd8c153c52325142de",
       "max": 338,
       "style": "IPY_MODEL_ef1e2b6ee9e549ed8596043f677dd511",
       "value": 338
      }
     },
     "5e46ca9952f14af4a50a62c6042a252c": {
      "model_module": "@jupyter-widgets/controls",
      "model_module_version": "1.5.0",
      "model_name": "HTMLModel",
      "state": {
       "layout": "IPY_MODEL_9a7dcd2cb4fb40f3902f6cc6d1a4ed8a",
       "style": "IPY_MODEL_261f96449fd640569c55c127af13ad16",
       "value": " 282/282 [01:15&lt;00:00,  3.74it/s, acc=0.993, loss=0.0434]"
      }
     },
     "5e5e1d1cffd94ff6bb7144902c2a2a7c": {
      "model_module": "@jupyter-widgets/controls",
      "model_module_version": "1.5.0",
      "model_name": "ProgressStyleModel",
      "state": {
       "description_width": "initial"
      }
     },
     "5e6a43ff413843ff85f9a18052a3a21f": {
      "model_module": "@jupyter-widgets/controls",
      "model_module_version": "1.5.0",
      "model_name": "HTMLModel",
      "state": {
       "layout": "IPY_MODEL_ee742cb8ac3e40648701fcc1b6d04fbb",
       "style": "IPY_MODEL_7dc9d306e7914098892dc2a6922e5aeb",
       "value": " 361/361 [01:41&lt;00:00,  3.56it/s, acc=0.643, loss=0.707]"
      }
     },
     "5ea0472afb5449828fe9dcb6d78d7222": {
      "model_module": "@jupyter-widgets/controls",
      "model_module_version": "1.5.0",
      "model_name": "HTMLModel",
      "state": {
       "layout": "IPY_MODEL_3648ce5ff128456e83bfb9ab8e638a4e",
       "style": "IPY_MODEL_69b25b3fcc30443fa7d73525d510e1c2",
       "value": " 255/255 [00:40&lt;00:00,  6.34it/s, acc=0.985, loss=0.0906]"
      }
     },
     "5ea43ee7f5674f28a6fae9d42d8c4738": {
      "model_module": "@jupyter-widgets/controls",
      "model_module_version": "1.5.0",
      "model_name": "HTMLModel",
      "state": {
       "layout": "IPY_MODEL_db6f731f19ca42ca89a928a8127fe069",
       "style": "IPY_MODEL_be9feee2566e4bf6b751a00c0e99a380",
       "value": " 338/338 [01:15&lt;00:00,  4.47it/s, acc=0.981, loss=0.0768]"
      }
     },
     "5ef8b3cf6475459591d9e2048bbfd059": {
      "model_module": "@jupyter-widgets/controls",
      "model_module_version": "1.5.0",
      "model_name": "DescriptionStyleModel",
      "state": {
       "description_width": ""
      }
     },
     "5eff8e9c88304224b2a58bd09522600b": {
      "model_module": "@jupyter-widgets/controls",
      "model_module_version": "1.5.0",
      "model_name": "HBoxModel",
      "state": {
       "children": [
        "IPY_MODEL_9440b09b08dd4ee5a6c4b129543c816a",
        "IPY_MODEL_828fb812776c4bfc81a004bedc58f412"
       ],
       "layout": "IPY_MODEL_f8c072660eb443cd9299bcb7037375eb"
      }
     },
     "5f11132f56dd4aae9424f50af2c17ff7": {
      "model_module": "@jupyter-widgets/controls",
      "model_module_version": "1.5.0",
      "model_name": "HBoxModel",
      "state": {
       "children": [
        "IPY_MODEL_4ac7fdb1df4a42e889d420bdcf6fda95",
        "IPY_MODEL_a55a163893c045258708468e68d69b9b"
       ],
       "layout": "IPY_MODEL_2f62bc516b2947f880984083a0875ba8"
      }
     },
     "5f58e2c245204eaa8661db4b8d65aed7": {
      "model_module": "@jupyter-widgets/controls",
      "model_module_version": "1.5.0",
      "model_name": "IntProgressModel",
      "state": {
       "bar_style": "success",
       "description": "Epoch [3/40]: 100%",
       "layout": "IPY_MODEL_498cca242d6046e4adbecef2885c60a1",
       "max": 361,
       "style": "IPY_MODEL_b33df3d3f87042508b72a5fc837732c8",
       "value": 361
      }
     },
     "5f7239a6a4384a43830313f28071ad32": {
      "model_module": "@jupyter-widgets/controls",
      "model_module_version": "1.5.0",
      "model_name": "HTMLModel",
      "state": {
       "layout": "IPY_MODEL_b87a01a661234b938aecd1d690288412",
       "style": "IPY_MODEL_f27d5c5297f849cdb696c95af1f6fc47",
       "value": " 289/289 [01:45&lt;00:00,  2.73it/s, acc=0.28, loss=1.59]"
      }
     },
     "5f8dbca8addc4ff3996b1a10bbab064e": {
      "model_module": "@jupyter-widgets/controls",
      "model_module_version": "1.5.0",
      "model_name": "DescriptionStyleModel",
      "state": {
       "description_width": ""
      }
     },
     "5fcba7381779499ea807798bde301df0": {
      "model_module": "@jupyter-widgets/controls",
      "model_module_version": "1.5.0",
      "model_name": "IntProgressModel",
      "state": {
       "bar_style": "success",
       "description": "Epoch [6/40]: 100%",
       "layout": "IPY_MODEL_9210328016a64b27b06ee791873a0064",
       "max": 241,
       "style": "IPY_MODEL_257e25747e1042db82b5461aa8c531f4",
       "value": 241
      }
     },
     "5fd51b51d9ac45a997bde8afa1031801": {
      "model_module": "@jupyter-widgets/controls",
      "model_module_version": "1.5.0",
      "model_name": "HTMLModel",
      "state": {
       "layout": "IPY_MODEL_2dacbc54486149df94d29bdf72825f4e",
       "style": "IPY_MODEL_c83b359cbb974d99952ba2e215f9e3b4",
       "value": " 255/255 [01:52&lt;00:00,  2.28it/s, acc=0.25, loss=1.64]"
      }
     },
     "600b2652be3f4921858d71188a4b1dfd": {
      "model_module": "@jupyter-widgets/controls",
      "model_module_version": "1.5.0",
      "model_name": "DescriptionStyleModel",
      "state": {
       "description_width": ""
      }
     },
     "603f64bfdc884703b9700c7e4dc1f75e": {
      "model_module": "@jupyter-widgets/controls",
      "model_module_version": "1.5.0",
      "model_name": "HTMLModel",
      "state": {
       "layout": "IPY_MODEL_af80f8707d114ce191d5153a5f2abef6",
       "style": "IPY_MODEL_4b507b25db264393b2892d27144df764"
      }
     },
     "604a392735f247f0b5898e0684f1bf36": {
      "model_module": "@jupyter-widgets/controls",
      "model_module_version": "1.5.0",
      "model_name": "HTMLModel",
      "state": {
       "layout": "IPY_MODEL_c045c23630af45abab5169523792c4bd",
       "style": "IPY_MODEL_4b84144a31b14b24be8e5b79042aab6d",
       "value": " 289/289 [01:28&lt;00:00,  3.26it/s, acc=0.988, loss=0.0172]"
      }
     },
     "60570490ba80495286b02f2ada9a57b3": {
      "model_module": "@jupyter-widgets/base",
      "model_module_version": "1.2.0",
      "model_name": "LayoutModel",
      "state": {}
     },
     "60dad761b75e4b5fbaacda3840af463e": {
      "model_module": "@jupyter-widgets/controls",
      "model_module_version": "1.5.0",
      "model_name": "IntProgressModel",
      "state": {
       "bar_style": "success",
       "description": "Epoch [21/100]: 100%",
       "layout": "IPY_MODEL_9b4a0d1b16bf40629eed6c386de177e9",
       "max": 289,
       "style": "IPY_MODEL_e7e4fe2accb64a1c9da561112472ac2f",
       "value": 289
      }
     },
     "60f03756a694463f814ebb535c3d34ce": {
      "model_module": "@jupyter-widgets/controls",
      "model_module_version": "1.5.0",
      "model_name": "IntProgressModel",
      "state": {
       "bar_style": "success",
       "description": "Epoch [10/40]: 100%",
       "layout": "IPY_MODEL_d11cad2b81fd415c9de27ded10c4d6a7",
       "max": 255,
       "style": "IPY_MODEL_451b7bd138a7410cb16e7a169bf8281d",
       "value": 255
      }
     },
     "613cb5941f554154914fffdbad2025dd": {
      "model_module": "@jupyter-widgets/base",
      "model_module_version": "1.2.0",
      "model_name": "LayoutModel",
      "state": {}
     },
     "61665ef2087a4613b5940b3b28ac08ef": {
      "model_module": "@jupyter-widgets/controls",
      "model_module_version": "1.5.0",
      "model_name": "ProgressStyleModel",
      "state": {
       "description_width": "initial"
      }
     },
     "619b2780560d4240b14cf67723dcd9c3": {
      "model_module": "@jupyter-widgets/controls",
      "model_module_version": "1.5.0",
      "model_name": "HBoxModel",
      "state": {
       "children": [
        "IPY_MODEL_60f03756a694463f814ebb535c3d34ce",
        "IPY_MODEL_ad85c41f71054961848c9b3aff51d9de"
       ],
       "layout": "IPY_MODEL_7aeb44f58f6545b6a4cff6e7b79ec95d"
      }
     },
     "620760c61aeb42f7b04f5de6d8260a4a": {
      "model_module": "@jupyter-widgets/base",
      "model_module_version": "1.2.0",
      "model_name": "LayoutModel",
      "state": {}
     },
     "62104807a8a649cdb663e7213053baa1": {
      "model_module": "@jupyter-widgets/controls",
      "model_module_version": "1.5.0",
      "model_name": "HBoxModel",
      "state": {
       "children": [
        "IPY_MODEL_6fc34b029c2346e68604fc58d2ab3352",
        "IPY_MODEL_f43b6a9beedc4030a613de141a930a5b"
       ],
       "layout": "IPY_MODEL_63345faaa3d3411dbcaa7da8d9936b94"
      }
     },
     "62172606efa94ed787142fd6a72a08d4": {
      "model_module": "@jupyter-widgets/controls",
      "model_module_version": "1.5.0",
      "model_name": "IntProgressModel",
      "state": {
       "bar_style": "success",
       "description": "Epoch [24/40]: 100%",
       "layout": "IPY_MODEL_c0bf7b0ed85a48c897da3d7df2709601",
       "max": 255,
       "style": "IPY_MODEL_08c756f6bbc643e3b791479340cff38e",
       "value": 255
      }
     },
     "622098900e254ae885f0c40df31a2197": {
      "model_module": "@jupyter-widgets/controls",
      "model_module_version": "1.5.0",
      "model_name": "DescriptionStyleModel",
      "state": {
       "description_width": ""
      }
     },
     "6226bbb1b8334ac4b4e4f01377f0903e": {
      "model_module": "@jupyter-widgets/controls",
      "model_module_version": "1.5.0",
      "model_name": "ProgressStyleModel",
      "state": {
       "description_width": "initial"
      }
     },
     "623d6dc7337b473a88be68776af7c0a0": {
      "model_module": "@jupyter-widgets/controls",
      "model_module_version": "1.5.0",
      "model_name": "IntProgressModel",
      "state": {
       "description": "Epoch [29/100]:  94%",
       "layout": "IPY_MODEL_523aacdb3d974ca2b0473282d21d3b1d",
       "max": 289,
       "style": "IPY_MODEL_a0d7b1cec2134521be8434216b9ef7da",
       "value": 273
      }
     },
     "6242b9153cb845ba8f956ed2202bdd14": {
      "model_module": "@jupyter-widgets/controls",
      "model_module_version": "1.5.0",
      "model_name": "HBoxModel",
      "state": {
       "children": [
        "IPY_MODEL_3216d5b9867c44fea847e73e7c0d34db",
        "IPY_MODEL_46e5f47c154e4567abaf602255baf903"
       ],
       "layout": "IPY_MODEL_74d90d4d06954f1c982985691f529555"
      }
     },
     "6275c5cb3cf8489ca9997df75ce281d1": {
      "model_module": "@jupyter-widgets/controls",
      "model_module_version": "1.5.0",
      "model_name": "ProgressStyleModel",
      "state": {
       "description_width": "initial"
      }
     },
     "62b4b6e6a90e454c974ae7480f393761": {
      "model_module": "@jupyter-widgets/controls",
      "model_module_version": "1.5.0",
      "model_name": "HBoxModel",
      "state": {
       "children": [
        "IPY_MODEL_ff78d4054d1b43c0a6a767328750427f",
        "IPY_MODEL_9e5c812e652647fd9d3b2157bd02da85"
       ],
       "layout": "IPY_MODEL_2a3e903b10a44e9dbb7170c987c4a422"
      }
     },
     "62b87c6409d74b00a84b703316ed40dd": {
      "model_module": "@jupyter-widgets/controls",
      "model_module_version": "1.5.0",
      "model_name": "HBoxModel",
      "state": {
       "children": [
        "IPY_MODEL_3ec290666a394fe18ad216f2166aced5",
        "IPY_MODEL_4e5dd273c9ac4c319bdd8934bb74d66f"
       ],
       "layout": "IPY_MODEL_d59dc5885cd7426eb0b79ffe1636b05e"
      }
     },
     "62ba530218c243a3a2b558e8e87da4b7": {
      "model_module": "@jupyter-widgets/base",
      "model_module_version": "1.2.0",
      "model_name": "LayoutModel",
      "state": {}
     },
     "62d7381a1d36496590fbf70237e2df98": {
      "model_module": "@jupyter-widgets/controls",
      "model_module_version": "1.5.0",
      "model_name": "ProgressStyleModel",
      "state": {
       "description_width": "initial"
      }
     },
     "62dc8838eeb24faeaa0a574396c0d115": {
      "model_module": "@jupyter-widgets/base",
      "model_module_version": "1.2.0",
      "model_name": "LayoutModel",
      "state": {}
     },
     "62e17f1048ee46d1aaa3e72c8ddd7c59": {
      "model_module": "@jupyter-widgets/controls",
      "model_module_version": "1.5.0",
      "model_name": "IntProgressModel",
      "state": {
       "bar_style": "success",
       "description": "Epoch [10/100]: 100%",
       "layout": "IPY_MODEL_a1517b4733e842939e3fa10445094531",
       "max": 289,
       "style": "IPY_MODEL_224312e0c7494df0a58342a0c34eb338",
       "value": 289
      }
     },
     "62fc67fbdb30472f8f549ddedc054913": {
      "model_module": "@jupyter-widgets/base",
      "model_module_version": "1.2.0",
      "model_name": "LayoutModel",
      "state": {}
     },
     "63345faaa3d3411dbcaa7da8d9936b94": {
      "model_module": "@jupyter-widgets/base",
      "model_module_version": "1.2.0",
      "model_name": "LayoutModel",
      "state": {}
     },
     "63644d4a21ea40e5a750da5b5ebfba9a": {
      "model_module": "@jupyter-widgets/base",
      "model_module_version": "1.2.0",
      "model_name": "LayoutModel",
      "state": {}
     },
     "63801adb41104852b580293f566c8b80": {
      "model_module": "@jupyter-widgets/controls",
      "model_module_version": "1.5.0",
      "model_name": "IntProgressModel",
      "state": {
       "layout": "IPY_MODEL_c45cfa0e85d84c74919a3bd115e1a5b1",
       "max": 289,
       "style": "IPY_MODEL_4a28d50b6060427ba0c6c55a0aec3837"
      }
     },
     "63db00a99d294a0bbad391822bfd85c2": {
      "model_module": "@jupyter-widgets/controls",
      "model_module_version": "1.5.0",
      "model_name": "ProgressStyleModel",
      "state": {
       "description_width": ""
      }
     },
     "63f7d2d4d1d04208ab3c64b74f27d2da": {
      "model_module": "@jupyter-widgets/controls",
      "model_module_version": "1.5.0",
      "model_name": "HTMLModel",
      "state": {
       "layout": "IPY_MODEL_07a31aa493474e10850a9c87934130cc",
       "style": "IPY_MODEL_c14f8fc1a8b44d0696032e8455bf3a0b",
       "value": " 289/289 [01:15&lt;00:00,  3.81it/s, acc=0.946, loss=0.0999]"
      }
     },
     "6403abb5044b45c6839de7eec2186b0f": {
      "model_module": "@jupyter-widgets/controls",
      "model_module_version": "1.5.0",
      "model_name": "HBoxModel",
      "state": {
       "children": [
        "IPY_MODEL_f793577a54d945ec909d6901d633f24c",
        "IPY_MODEL_7ec31e1c02db4a4dac53a420c091b25b"
       ],
       "layout": "IPY_MODEL_bf43131567fd41b689c4a428955be3f1"
      }
     },
     "6424def5dfb24cf99a07cdf11c95520d": {
      "model_module": "@jupyter-widgets/controls",
      "model_module_version": "1.5.0",
      "model_name": "DescriptionStyleModel",
      "state": {
       "description_width": ""
      }
     },
     "643c54988a174865b1b85917e6744956": {
      "model_module": "@jupyter-widgets/base",
      "model_module_version": "1.2.0",
      "model_name": "LayoutModel",
      "state": {}
     },
     "6492ad864b8e4b61a504077db7b577d1": {
      "model_module": "@jupyter-widgets/controls",
      "model_module_version": "1.5.0",
      "model_name": "HBoxModel",
      "state": {
       "children": [
        "IPY_MODEL_41494f6368bd49b884112de683fb247b",
        "IPY_MODEL_a80192640b044d2280911efc53136580"
       ],
       "layout": "IPY_MODEL_a48e32d8f683481caff3438a54a5b5c5"
      }
     },
     "64ab98e71f0649298a64edb626be4cd0": {
      "model_module": "@jupyter-widgets/controls",
      "model_module_version": "1.5.0",
      "model_name": "HTMLModel",
      "state": {
       "layout": "IPY_MODEL_a4d98f21799942e29238912edd2ee671",
       "style": "IPY_MODEL_f027c48cdc894d74b000d3aeb089bc9e",
       "value": " 284/284 [00:32&lt;00:00,  8.75it/s, acc=0.99, loss=0.296]"
      }
     },
     "64d2be1a9a144c8ea6f0f4562b94951d": {
      "model_module": "@jupyter-widgets/controls",
      "model_module_version": "1.5.0",
      "model_name": "HTMLModel",
      "state": {
       "layout": "IPY_MODEL_2e25e2e9e3a34b439747132762df73e2",
       "style": "IPY_MODEL_f582bb8591c941a4b2387634ede3e78d",
       "value": " 241/241 [00:47&lt;00:00,  5.09it/s, acc=0.27, loss=1.6]"
      }
     },
     "651020f67a984e20b9e1246fd485f2e1": {
      "model_module": "@jupyter-widgets/controls",
      "model_module_version": "1.5.0",
      "model_name": "DescriptionStyleModel",
      "state": {
       "description_width": ""
      }
     },
     "65124b7c4f234ce8918bd8409c511cfa": {
      "model_module": "@jupyter-widgets/controls",
      "model_module_version": "1.5.0",
      "model_name": "HBoxModel",
      "state": {
       "children": [
        "IPY_MODEL_724792d77a8c4874b5738e515d9fee5d",
        "IPY_MODEL_5fd51b51d9ac45a997bde8afa1031801"
       ],
       "layout": "IPY_MODEL_ad8f35f76ac54773ba1d421ee9f5d338"
      }
     },
     "651a5fb99b564ad2b75094c27834f0cd": {
      "model_module": "@jupyter-widgets/controls",
      "model_module_version": "1.5.0",
      "model_name": "ProgressStyleModel",
      "state": {
       "description_width": "initial"
      }
     },
     "652072ca46d546ceb0d56b7df69af2ea": {
      "model_module": "@jupyter-widgets/controls",
      "model_module_version": "1.5.0",
      "model_name": "HTMLModel",
      "state": {
       "layout": "IPY_MODEL_b90103d44ddf46c586041c575f30a9f7",
       "style": "IPY_MODEL_5d8b935079eb4041ac32cd350bf37915",
       "value": " 338/338 [01:20&lt;00:00,  4.18it/s, acc=0.957, loss=0.253]"
      }
     },
     "65393f717dcb4d7582ee53b577ffa495": {
      "model_module": "@jupyter-widgets/controls",
      "model_module_version": "1.5.0",
      "model_name": "IntProgressModel",
      "state": {
       "bar_style": "success",
       "description": "Epoch [38/40]: 100%",
       "layout": "IPY_MODEL_d5dd8eb34a96457192d3a3f24177af03",
       "max": 241,
       "style": "IPY_MODEL_991412fcaf554a608bc5ea065a944e31",
       "value": 241
      }
     },
     "65791373d26e4310b9c5f1868a029dcd": {
      "model_module": "@jupyter-widgets/controls",
      "model_module_version": "1.5.0",
      "model_name": "IntProgressModel",
      "state": {
       "bar_style": "success",
       "description": "Epoch [31/40]: 100%",
       "layout": "IPY_MODEL_0932b886169f4bf7834349a544251b16",
       "max": 255,
       "style": "IPY_MODEL_41d2e9428d184ab8887586377037aff7",
       "value": 255
      }
     },
     "657d7ab3b8ea407fa6624369f6344811": {
      "model_module": "@jupyter-widgets/controls",
      "model_module_version": "1.5.0",
      "model_name": "HTMLModel",
      "state": {
       "layout": "IPY_MODEL_da3c21d040b840efa1f45e430372bed3",
       "style": "IPY_MODEL_5e05933a641f4047930bd706a6d0eb84",
       "value": " 289/289 [01:07&lt;00:00,  4.26it/s, acc=0.986, loss=0.0244]"
      }
     },
     "6588704668914ed08341c6537d844628": {
      "model_module": "@jupyter-widgets/controls",
      "model_module_version": "1.5.0",
      "model_name": "HBoxModel",
      "state": {
       "children": [
        "IPY_MODEL_c28e46ddb5d842eba3f4db33f45be387",
        "IPY_MODEL_1a9cb4b68294409a80bcfbf9ea69f609"
       ],
       "layout": "IPY_MODEL_05de3359bb8247028c45ca968c3015f7"
      }
     },
     "658ae1bd912f462bac781010c2d97d9a": {
      "model_module": "@jupyter-widgets/base",
      "model_module_version": "1.2.0",
      "model_name": "LayoutModel",
      "state": {}
     },
     "65a3b621b6b448529c41322e8c6336b5": {
      "model_module": "@jupyter-widgets/base",
      "model_module_version": "1.2.0",
      "model_name": "LayoutModel",
      "state": {}
     },
     "65b58facb5b04c329155905659683169": {
      "model_module": "@jupyter-widgets/controls",
      "model_module_version": "1.5.0",
      "model_name": "ProgressStyleModel",
      "state": {
       "description_width": "initial"
      }
     },
     "65bad96b485148c69678718ca4f0256b": {
      "model_module": "@jupyter-widgets/controls",
      "model_module_version": "1.5.0",
      "model_name": "ProgressStyleModel",
      "state": {
       "description_width": "initial"
      }
     },
     "65c531e4a342438b8d4cf830efa2e9cd": {
      "model_module": "@jupyter-widgets/base",
      "model_module_version": "1.2.0",
      "model_name": "LayoutModel",
      "state": {}
     },
     "65d5b185de454ea58e24f531a26f7440": {
      "model_module": "@jupyter-widgets/base",
      "model_module_version": "1.2.0",
      "model_name": "LayoutModel",
      "state": {}
     },
     "65e68a04271c4154b6241195e56d26e4": {
      "model_module": "@jupyter-widgets/controls",
      "model_module_version": "1.5.0",
      "model_name": "HBoxModel",
      "state": {
       "children": [
        "IPY_MODEL_441455e1f995489ebfc843d05e3197fe",
        "IPY_MODEL_a5bf84630df043bab53282e782abc610"
       ],
       "layout": "IPY_MODEL_b0889546fdae4979977c9eb67afdbf72"
      }
     },
     "65e7914c1d21403d8847bf4ec82264e8": {
      "model_module": "@jupyter-widgets/controls",
      "model_module_version": "1.5.0",
      "model_name": "HTMLModel",
      "state": {
       "layout": "IPY_MODEL_4b378c5d82bc4fcd8f7413e7b65e80bb",
       "style": "IPY_MODEL_a77656c695104b73b386e2f6979bb50c",
       "value": " 338/338 [00:52&lt;00:00,  6.49it/s, acc=0.962, loss=0.0272]"
      }
     },
     "66ab5477e0474a27a711985d8708170a": {
      "model_module": "@jupyter-widgets/controls",
      "model_module_version": "1.5.0",
      "model_name": "ProgressStyleModel",
      "state": {
       "description_width": "initial"
      }
     },
     "66f301e6d8e74719bba9d71a4c4ceddd": {
      "model_module": "@jupyter-widgets/controls",
      "model_module_version": "1.5.0",
      "model_name": "HTMLModel",
      "state": {
       "layout": "IPY_MODEL_baeb69ba544b4cd0a639e5baa860fb02",
       "style": "IPY_MODEL_d50bf4a175a44258a4b071478a840894",
       "value": " 255/255 [00:51&lt;00:00,  4.95it/s, acc=0.936, loss=0.0347]"
      }
     },
     "66f9a94c09384367bdc41f1b94ee6217": {
      "model_module": "@jupyter-widgets/controls",
      "model_module_version": "1.5.0",
      "model_name": "HTMLModel",
      "state": {
       "layout": "IPY_MODEL_ac9ef44cc1ed4dfc8416bc4b7c4e2747",
       "style": "IPY_MODEL_2556f39c06ce4f43b3896180d6ec1312",
       "value": " 283/283 [01:06&lt;00:00,  4.27it/s, acc=0.994, loss=0.00532]"
      }
     },
     "6704ebf3888147a99fe7766708da58db": {
      "model_module": "@jupyter-widgets/controls",
      "model_module_version": "1.5.0",
      "model_name": "DescriptionStyleModel",
      "state": {
       "description_width": ""
      }
     },
     "673179669d604796bb2d5167382e542d": {
      "model_module": "@jupyter-widgets/base",
      "model_module_version": "1.2.0",
      "model_name": "LayoutModel",
      "state": {}
     },
     "675af4bc40f842d0b1af01ab4e8a0d52": {
      "model_module": "@jupyter-widgets/controls",
      "model_module_version": "1.5.0",
      "model_name": "HBoxModel",
      "state": {
       "children": [
        "IPY_MODEL_015f417271b24a2cbcca119bef59dcd0",
        "IPY_MODEL_eba476dcb59943adb70816540d05a2b2"
       ],
       "layout": "IPY_MODEL_a00e629e77554fe3a1a4445dd93eb3d1"
      }
     },
     "6772c9af6e8a4828953451038ccde071": {
      "model_module": "@jupyter-widgets/base",
      "model_module_version": "1.2.0",
      "model_name": "LayoutModel",
      "state": {}
     },
     "678bb4fa3cc44d27b2bd970c2c2e7b10": {
      "model_module": "@jupyter-widgets/controls",
      "model_module_version": "1.5.0",
      "model_name": "ProgressStyleModel",
      "state": {
       "description_width": "initial"
      }
     },
     "67d13637180e481ba732f41d234e444d": {
      "model_module": "@jupyter-widgets/controls",
      "model_module_version": "1.5.0",
      "model_name": "DescriptionStyleModel",
      "state": {
       "description_width": ""
      }
     },
     "67e366da26284be3a3fb987e0cca1ba6": {
      "model_module": "@jupyter-widgets/base",
      "model_module_version": "1.2.0",
      "model_name": "LayoutModel",
      "state": {}
     },
     "68023f117891404f8b14f3e86738ea7c": {
      "model_module": "@jupyter-widgets/base",
      "model_module_version": "1.2.0",
      "model_name": "LayoutModel",
      "state": {}
     },
     "680f451a2dc64dde8f3d97365e513348": {
      "model_module": "@jupyter-widgets/controls",
      "model_module_version": "1.5.0",
      "model_name": "DescriptionStyleModel",
      "state": {
       "description_width": ""
      }
     },
     "683230edf2334b2e94490c8fc8610e02": {
      "model_module": "@jupyter-widgets/controls",
      "model_module_version": "1.5.0",
      "model_name": "DescriptionStyleModel",
      "state": {
       "description_width": ""
      }
     },
     "683f69cbb92845498de9a69934cbb854": {
      "model_module": "@jupyter-widgets/controls",
      "model_module_version": "1.5.0",
      "model_name": "HBoxModel",
      "state": {
       "children": [
        "IPY_MODEL_856e339e15b7432ba11247c71291d56c",
        "IPY_MODEL_f79935b12f574bb38564141831c54535"
       ],
       "layout": "IPY_MODEL_ec4ff90e745349b998ecdb172a92a44a"
      }
     },
     "6853b3d17d2f41a697c9d701ded08b52": {
      "model_module": "@jupyter-widgets/controls",
      "model_module_version": "1.5.0",
      "model_name": "DescriptionStyleModel",
      "state": {
       "description_width": ""
      }
     },
     "68542deaeec64077bb5e892f2b3b29b8": {
      "model_module": "@jupyter-widgets/base",
      "model_module_version": "1.2.0",
      "model_name": "LayoutModel",
      "state": {}
     },
     "68765fa74011400ba5d1eda9f2e5fa85": {
      "model_module": "@jupyter-widgets/base",
      "model_module_version": "1.2.0",
      "model_name": "LayoutModel",
      "state": {}
     },
     "687fac64901648ceb1c68b0692b668ee": {
      "model_module": "@jupyter-widgets/base",
      "model_module_version": "1.2.0",
      "model_name": "LayoutModel",
      "state": {}
     },
     "688abd51a38e4b52832cf9f8879a32d0": {
      "model_module": "@jupyter-widgets/controls",
      "model_module_version": "1.5.0",
      "model_name": "ProgressStyleModel",
      "state": {
       "description_width": "initial"
      }
     },
     "68e49792f6f1482387563f9d8aa7fce6": {
      "model_module": "@jupyter-widgets/controls",
      "model_module_version": "1.5.0",
      "model_name": "DescriptionStyleModel",
      "state": {
       "description_width": ""
      }
     },
     "68ec414006be4e92b309a248961364a7": {
      "model_module": "@jupyter-widgets/base",
      "model_module_version": "1.2.0",
      "model_name": "LayoutModel",
      "state": {}
     },
     "6911e2d3c50941a7b7307c2ab66184b9": {
      "model_module": "@jupyter-widgets/base",
      "model_module_version": "1.2.0",
      "model_name": "LayoutModel",
      "state": {}
     },
     "691b760de9954fa296a627b89bd1bbdc": {
      "model_module": "@jupyter-widgets/controls",
      "model_module_version": "1.5.0",
      "model_name": "ProgressStyleModel",
      "state": {
       "description_width": "initial"
      }
     },
     "691bcdccd9624fc6aa3e6518267849f4": {
      "model_module": "@jupyter-widgets/controls",
      "model_module_version": "1.5.0",
      "model_name": "ProgressStyleModel",
      "state": {
       "description_width": "initial"
      }
     },
     "6921feb2868342cc94e81a7c496e93c6": {
      "model_module": "@jupyter-widgets/base",
      "model_module_version": "1.2.0",
      "model_name": "LayoutModel",
      "state": {}
     },
     "69291b22bdad485f8e126070ba44a74a": {
      "model_module": "@jupyter-widgets/controls",
      "model_module_version": "1.5.0",
      "model_name": "HTMLModel",
      "state": {
       "layout": "IPY_MODEL_dbae7f54606544c58f2fd2218fcaf13b",
       "style": "IPY_MODEL_42e34b23709945159382f70cd1e98952",
       "value": " 282/282 [01:35&lt;00:00,  2.96it/s, acc=0.925, loss=0.0863]"
      }
     },
     "694b89bee53f4b9e97078e9972b87c98": {
      "model_module": "@jupyter-widgets/base",
      "model_module_version": "1.2.0",
      "model_name": "LayoutModel",
      "state": {}
     },
     "69524d823e3145eda80f7295b02dae0b": {
      "model_module": "@jupyter-widgets/controls",
      "model_module_version": "1.5.0",
      "model_name": "HTMLModel",
      "state": {
       "layout": "IPY_MODEL_33dd51e7ae7d40d7af83eb43e86a712a",
       "style": "IPY_MODEL_cd89492235e8415a8daebd9fb6fc7a11",
       "value": " 284/284 [00:55&lt;00:00,  5.16it/s, acc=0.984, loss=0.193]"
      }
     },
     "6958d10522684d4f9862aba696b7cb86": {
      "model_module": "@jupyter-widgets/controls",
      "model_module_version": "1.5.0",
      "model_name": "HBoxModel",
      "state": {
       "children": [
        "IPY_MODEL_884ec04841d84143aef337123ed5bf30",
        "IPY_MODEL_245fe470de0c4694a70ab41e99c86e2d"
       ],
       "layout": "IPY_MODEL_8f4223b5cdb94116be119f95c71ec7e8"
      }
     },
     "6972bf986b45497fbe4141a35be3c119": {
      "model_module": "@jupyter-widgets/controls",
      "model_module_version": "1.5.0",
      "model_name": "ProgressStyleModel",
      "state": {
       "description_width": "initial"
      }
     },
     "6979c17e7048474697a95600cd375afc": {
      "model_module": "@jupyter-widgets/controls",
      "model_module_version": "1.5.0",
      "model_name": "DescriptionStyleModel",
      "state": {
       "description_width": ""
      }
     },
     "69ad7ce1263d47ee862144e50337184e": {
      "model_module": "@jupyter-widgets/base",
      "model_module_version": "1.2.0",
      "model_name": "LayoutModel",
      "state": {}
     },
     "69b25b3fcc30443fa7d73525d510e1c2": {
      "model_module": "@jupyter-widgets/controls",
      "model_module_version": "1.5.0",
      "model_name": "DescriptionStyleModel",
      "state": {
       "description_width": ""
      }
     },
     "6a12e4d116fd44898fa36b644c24152e": {
      "model_module": "@jupyter-widgets/base",
      "model_module_version": "1.2.0",
      "model_name": "LayoutModel",
      "state": {}
     },
     "6a3030f0da654b09a8f2dda82d63e74e": {
      "model_module": "@jupyter-widgets/controls",
      "model_module_version": "1.5.0",
      "model_name": "IntProgressModel",
      "state": {
       "bar_style": "success",
       "description": "Epoch [20/40]: 100%",
       "layout": "IPY_MODEL_970aa45e49a74133937f5c8b01a0ac06",
       "max": 361,
       "style": "IPY_MODEL_dfcebf2015764b8b8fb74cfec229d06f",
       "value": 361
      }
     },
     "6a3df3e41be94005b4affd6e25752171": {
      "model_module": "@jupyter-widgets/base",
      "model_module_version": "1.2.0",
      "model_name": "LayoutModel",
      "state": {}
     },
     "6a4e4d57437a4ee883e18851f971f41b": {
      "model_module": "@jupyter-widgets/controls",
      "model_module_version": "1.5.0",
      "model_name": "IntProgressModel",
      "state": {
       "bar_style": "success",
       "description": "Epoch [39/40]: 100%",
       "layout": "IPY_MODEL_b09702d8165c4aa7bc958301fcc20d09",
       "max": 255,
       "style": "IPY_MODEL_c904ea6d67214af5acf1eb73b5be554e",
       "value": 255
      }
     },
     "6a8f1dc306d047cf9d4822a583b5caf0": {
      "model_module": "@jupyter-widgets/base",
      "model_module_version": "1.2.0",
      "model_name": "LayoutModel",
      "state": {}
     },
     "6a99a58b62fe4685bc13f751abdd2ecd": {
      "model_module": "@jupyter-widgets/controls",
      "model_module_version": "1.5.0",
      "model_name": "HTMLModel",
      "state": {
       "layout": "IPY_MODEL_092697fabcc44fd090c697f407bec179",
       "style": "IPY_MODEL_db0b8f35e4db4d73a571c6989862dd07",
       "value": " 338/338 [00:53&lt;00:00,  6.35it/s, acc=0.985, loss=0.106]"
      }
     },
     "6ab5b2264ddf4d9aad276e0b044286ee": {
      "model_module": "@jupyter-widgets/controls",
      "model_module_version": "1.5.0",
      "model_name": "HBoxModel",
      "state": {
       "children": [
        "IPY_MODEL_6a4e4d57437a4ee883e18851f971f41b",
        "IPY_MODEL_afd5e552da7d4f17b864e91500eeebd3"
       ],
       "layout": "IPY_MODEL_2f1b9fbbc38a42278f61194469c25801"
      }
     },
     "6ac7ac68f01d4bf89a609fc62a14e3f3": {
      "model_module": "@jupyter-widgets/controls",
      "model_module_version": "1.5.0",
      "model_name": "ProgressStyleModel",
      "state": {
       "description_width": "initial"
      }
     },
     "6ac7fac25a304481abfd6cafaad813f0": {
      "model_module": "@jupyter-widgets/controls",
      "model_module_version": "1.5.0",
      "model_name": "HTMLModel",
      "state": {
       "layout": "IPY_MODEL_9a6ce239335d4992818f72f41b4a9da3",
       "style": "IPY_MODEL_13475e4c8a6d4546a23d61cb3338f9c3",
       "value": " 338/338 [00:35&lt;00:00,  9.51it/s, acc=0.977, loss=0.081]"
      }
     },
     "6adf6e5ef36b4ad9a5d227ccba865cdb": {
      "model_module": "@jupyter-widgets/controls",
      "model_module_version": "1.5.0",
      "model_name": "ProgressStyleModel",
      "state": {
       "description_width": "initial"
      }
     },
     "6ae0b811cc884f708b1483874ebb4f2b": {
      "model_module": "@jupyter-widgets/controls",
      "model_module_version": "1.5.0",
      "model_name": "HTMLModel",
      "state": {
       "layout": "IPY_MODEL_4bbcecb0b05642ff8a4b712d20e6f956",
       "style": "IPY_MODEL_da2549d989284dd69b6eb15c14346072",
       "value": " 255/255 [01:20&lt;00:00,  3.18it/s, acc=0.981, loss=0.0051]"
      }
     },
     "6b16dab38f984c19a219889ad041ee93": {
      "model_module": "@jupyter-widgets/controls",
      "model_module_version": "1.5.0",
      "model_name": "HBoxModel",
      "state": {
       "children": [
        "IPY_MODEL_d19b5c75cf7543f486ce4bd13418e9be",
        "IPY_MODEL_c71ec3d921034a4d8d281cac9131faeb"
       ],
       "layout": "IPY_MODEL_acd2998ca04946e896cf1866caf382c9"
      }
     },
     "6b30d093d5cf43aeb2a687b5a5cfe14f": {
      "model_module": "@jupyter-widgets/base",
      "model_module_version": "1.2.0",
      "model_name": "LayoutModel",
      "state": {}
     },
     "6b5809f406a94ed6ac343cbdca7b3110": {
      "model_module": "@jupyter-widgets/controls",
      "model_module_version": "1.5.0",
      "model_name": "IntProgressModel",
      "state": {
       "bar_style": "success",
       "description": "Epoch [14/40]: 100%",
       "layout": "IPY_MODEL_32dfbd535ccb4e46b458321a7c587b51",
       "max": 241,
       "style": "IPY_MODEL_ac8a1e6a98304376b1616ef174ee46ce",
       "value": 241
      }
     },
     "6b689c6602324e3fa8ecd98bed75128f": {
      "model_module": "@jupyter-widgets/controls",
      "model_module_version": "1.5.0",
      "model_name": "HTMLModel",
      "state": {
       "layout": "IPY_MODEL_cbe3fc62cd9e42e4a0b54b05919455d1",
       "style": "IPY_MODEL_e5007b0d79714b118671db6bb543d303",
       "value": " 255/255 [01:33&lt;00:00,  2.73it/s, acc=0.96, loss=0.125]"
      }
     },
     "6b71dc0235e04fb5b8948ff08c396bdb": {
      "model_module": "@jupyter-widgets/controls",
      "model_module_version": "1.5.0",
      "model_name": "ProgressStyleModel",
      "state": {
       "description_width": "initial"
      }
     },
     "6b77ab5ca638473da9cc43c03cc1cf39": {
      "model_module": "@jupyter-widgets/controls",
      "model_module_version": "1.5.0",
      "model_name": "HBoxModel",
      "state": {
       "children": [
        "IPY_MODEL_8591e28116964742a47a09f1711647be",
        "IPY_MODEL_b45e5deab8454f6392b0d53369940a6b"
       ],
       "layout": "IPY_MODEL_95c6c14b4ab44bdc8df367bca08c610e"
      }
     },
     "6b9fa9ee4bd1449f9a7275eab3a5a157": {
      "model_module": "@jupyter-widgets/controls",
      "model_module_version": "1.5.0",
      "model_name": "ProgressStyleModel",
      "state": {
       "description_width": "initial"
      }
     },
     "6bcd2f6d9d20430c8caccd85298c81c4": {
      "model_module": "@jupyter-widgets/controls",
      "model_module_version": "1.5.0",
      "model_name": "IntProgressModel",
      "state": {
       "bar_style": "success",
       "description": "Epoch [1/40]: 100%",
       "layout": "IPY_MODEL_86fbc36b0b37401aa585877988a18cf1",
       "max": 338,
       "style": "IPY_MODEL_daecd484e5e24068be6b16f44bf66d76",
       "value": 338
      }
     },
     "6bdf4aa0766e42c1ba5ec522f682be79": {
      "model_module": "@jupyter-widgets/base",
      "model_module_version": "1.2.0",
      "model_name": "LayoutModel",
      "state": {}
     },
     "6c16f834b9954c6397a1fa694d7d336a": {
      "model_module": "@jupyter-widgets/base",
      "model_module_version": "1.2.0",
      "model_name": "LayoutModel",
      "state": {}
     },
     "6c1d6f1ef5984d3f923ff95aa916e70d": {
      "model_module": "@jupyter-widgets/controls",
      "model_module_version": "1.5.0",
      "model_name": "HBoxModel",
      "state": {
       "children": [
        "IPY_MODEL_2a9ef5b7c3674b808223692ee9d67f7f",
        "IPY_MODEL_fcfa2551919847b28ddd1e16957bd8d6"
       ],
       "layout": "IPY_MODEL_2fe0b679798c4137ba82775907e32f97"
      }
     },
     "6c3111df4f4144b38d1df5212004f794": {
      "model_module": "@jupyter-widgets/controls",
      "model_module_version": "1.5.0",
      "model_name": "ProgressStyleModel",
      "state": {
       "description_width": "initial"
      }
     },
     "6c6c38c00fee452392c5f3044035b0b1": {
      "model_module": "@jupyter-widgets/controls",
      "model_module_version": "1.5.0",
      "model_name": "ProgressStyleModel",
      "state": {
       "description_width": "initial"
      }
     },
     "6c893fbdc3b243cf994dc4bda68e3cb6": {
      "model_module": "@jupyter-widgets/controls",
      "model_module_version": "1.5.0",
      "model_name": "ProgressStyleModel",
      "state": {
       "description_width": "initial"
      }
     },
     "6c8e14d304ea4b2b862735a5892f81c9": {
      "model_module": "@jupyter-widgets/controls",
      "model_module_version": "1.5.0",
      "model_name": "HBoxModel",
      "state": {
       "children": [
        "IPY_MODEL_ada4728582094466b7a1ebd06c964089",
        "IPY_MODEL_fecb51716bfa4edbb1c95281a8d6863a"
       ],
       "layout": "IPY_MODEL_edb1fb7f87174ae8a850d01e39e4df74"
      }
     },
     "6c9d5bc0874d4aa3949ace7a37d9b73a": {
      "model_module": "@jupyter-widgets/controls",
      "model_module_version": "1.5.0",
      "model_name": "ProgressStyleModel",
      "state": {
       "description_width": "initial"
      }
     },
     "6c9d73f4257345518e8d6a14069fe989": {
      "model_module": "@jupyter-widgets/controls",
      "model_module_version": "1.5.0",
      "model_name": "HTMLModel",
      "state": {
       "layout": "IPY_MODEL_1391fd74b9a54f0caab661b3587a60cd",
       "style": "IPY_MODEL_401155209f374d99bbf4ca0a3bf7e172",
       "value": " 361/361 [00:39&lt;00:00,  9.10it/s, acc=0.946, loss=0.211]"
      }
     },
     "6cacb272abb4471ea63b03a72124e2ca": {
      "model_module": "@jupyter-widgets/base",
      "model_module_version": "1.2.0",
      "model_name": "LayoutModel",
      "state": {}
     },
     "6cacbab916a743e69f7b053497398c32": {
      "model_module": "@jupyter-widgets/base",
      "model_module_version": "1.2.0",
      "model_name": "LayoutModel",
      "state": {}
     },
     "6ccade0682ad41d7969a1b692d269fde": {
      "model_module": "@jupyter-widgets/controls",
      "model_module_version": "1.5.0",
      "model_name": "DescriptionStyleModel",
      "state": {
       "description_width": ""
      }
     },
     "6cd45769fd1b4070a7c9b70e0b400d64": {
      "model_module": "@jupyter-widgets/base",
      "model_module_version": "1.2.0",
      "model_name": "LayoutModel",
      "state": {}
     },
     "6d1e8bfac44d451180d5e7e6f455e3c6": {
      "model_module": "@jupyter-widgets/controls",
      "model_module_version": "1.5.0",
      "model_name": "ProgressStyleModel",
      "state": {
       "description_width": "initial"
      }
     },
     "6d941e3ebe874d2ab7f38e259358d019": {
      "model_module": "@jupyter-widgets/base",
      "model_module_version": "1.2.0",
      "model_name": "LayoutModel",
      "state": {}
     },
     "6d980232ca6546b3bdb6c6f66da4a16d": {
      "model_module": "@jupyter-widgets/base",
      "model_module_version": "1.2.0",
      "model_name": "LayoutModel",
      "state": {}
     },
     "6d983901ecfd4684bb75b9a0e5dfbecf": {
      "model_module": "@jupyter-widgets/base",
      "model_module_version": "1.2.0",
      "model_name": "LayoutModel",
      "state": {}
     },
     "6dcaae71b4c4480185cf0a33c0fa946f": {
      "model_module": "@jupyter-widgets/controls",
      "model_module_version": "1.5.0",
      "model_name": "DescriptionStyleModel",
      "state": {
       "description_width": ""
      }
     },
     "6dd10274e85d44d58fc0a38392e8ef4e": {
      "model_module": "@jupyter-widgets/controls",
      "model_module_version": "1.5.0",
      "model_name": "DescriptionStyleModel",
      "state": {
       "description_width": ""
      }
     },
     "6dfc73f5e9fe4138b8391bb02117bb39": {
      "model_module": "@jupyter-widgets/base",
      "model_module_version": "1.2.0",
      "model_name": "LayoutModel",
      "state": {}
     },
     "6e253a8424f34339b42ea84c946e7fb7": {
      "model_module": "@jupyter-widgets/controls",
      "model_module_version": "1.5.0",
      "model_name": "IntProgressModel",
      "state": {
       "bar_style": "success",
       "description": "Epoch [1/40]: 100%",
       "layout": "IPY_MODEL_ec3af8ae8f57465bbda149dca2f408c2",
       "max": 255,
       "style": "IPY_MODEL_8d3205c4bc0b4925a886a085dbe9acbd",
       "value": 255
      }
     },
     "6e31e3ecb12f448da3fa576ec14e6a2e": {
      "model_module": "@jupyter-widgets/controls",
      "model_module_version": "1.5.0",
      "model_name": "HBoxModel",
      "state": {
       "children": [
        "IPY_MODEL_0ac0be6cdfee4c5aa774bc89dad77ad1",
        "IPY_MODEL_938782f1142f40c4b3d93854ef175a8b"
       ],
       "layout": "IPY_MODEL_11ae42cc869545afbaac62d5d4517df7"
      }
     },
     "6e4f1799aef6401db81656b4fa3c281f": {
      "model_module": "@jupyter-widgets/controls",
      "model_module_version": "1.5.0",
      "model_name": "DescriptionStyleModel",
      "state": {
       "description_width": ""
      }
     },
     "6e512e03c514400f8fac827f41e60e8c": {
      "model_module": "@jupyter-widgets/controls",
      "model_module_version": "1.5.0",
      "model_name": "ProgressStyleModel",
      "state": {
       "description_width": "initial"
      }
     },
     "6e711056b26d48a5891ff23ce5ef2ee2": {
      "model_module": "@jupyter-widgets/base",
      "model_module_version": "1.2.0",
      "model_name": "LayoutModel",
      "state": {}
     },
     "6eb542fe376e43838fa2b21ad043a975": {
      "model_module": "@jupyter-widgets/base",
      "model_module_version": "1.2.0",
      "model_name": "LayoutModel",
      "state": {}
     },
     "6f174548c0b847eab7ab2fc1c5e1a91a": {
      "model_module": "@jupyter-widgets/controls",
      "model_module_version": "1.5.0",
      "model_name": "ProgressStyleModel",
      "state": {
       "description_width": "initial"
      }
     },
     "6f347c9988c44746af464b030eafd1ab": {
      "model_module": "@jupyter-widgets/controls",
      "model_module_version": "1.5.0",
      "model_name": "DescriptionStyleModel",
      "state": {
       "description_width": ""
      }
     },
     "6f6fecaf812841bdbe889f1585382ed9": {
      "model_module": "@jupyter-widgets/controls",
      "model_module_version": "1.5.0",
      "model_name": "IntProgressModel",
      "state": {
       "bar_style": "success",
       "description": "Epoch [3/5]: 100%",
       "layout": "IPY_MODEL_4a8daf33e2ba4164b15df7b9d4ff8795",
       "max": 284,
       "style": "IPY_MODEL_103f40ead0ad454c905ddf52f5edcaaa",
       "value": 284
      }
     },
     "6f76e5b0ebf448acbd9e217a398e0039": {
      "model_module": "@jupyter-widgets/controls",
      "model_module_version": "1.5.0",
      "model_name": "IntProgressModel",
      "state": {
       "bar_style": "success",
       "description": "Epoch [30/40]: 100%",
       "layout": "IPY_MODEL_1d56839e60374611beae90fe6e480fe0",
       "max": 255,
       "style": "IPY_MODEL_b453d426dfc443639dfee174b0a57b52",
       "value": 255
      }
     },
     "6f7c807f132140979b60e3cd31562517": {
      "model_module": "@jupyter-widgets/controls",
      "model_module_version": "1.5.0",
      "model_name": "DescriptionStyleModel",
      "state": {
       "description_width": ""
      }
     },
     "6f87e2adc49c4d6da1f64b01f64428b6": {
      "model_module": "@jupyter-widgets/controls",
      "model_module_version": "1.5.0",
      "model_name": "IntProgressModel",
      "state": {
       "bar_style": "success",
       "description": "Epoch [29/40]: 100%",
       "layout": "IPY_MODEL_5349f50c624f45f7a0d1abdb7ab35f92",
       "max": 361,
       "style": "IPY_MODEL_78693986fba4479ca99453d8d2832c6a",
       "value": 361
      }
     },
     "6fb7794d94524746816290a2493fc8f6": {
      "model_module": "@jupyter-widgets/controls",
      "model_module_version": "1.5.0",
      "model_name": "HTMLModel",
      "state": {
       "layout": "IPY_MODEL_97191647494c459eb3c597321e0827a5",
       "style": "IPY_MODEL_255e3a14525d4b62bbe23795c230e889",
       "value": " 255/255 [01:23&lt;00:00,  3.04it/s, acc=0.976, loss=0.0611]"
      }
     },
     "6fc34b029c2346e68604fc58d2ab3352": {
      "model_module": "@jupyter-widgets/controls",
      "model_module_version": "1.5.0",
      "model_name": "IntProgressModel",
      "state": {
       "bar_style": "success",
       "description": "Epoch [4/5]: 100%",
       "layout": "IPY_MODEL_2f6517dca11e40b5a08e314df179e24f",
       "max": 281,
       "style": "IPY_MODEL_535d1e5f81ec436c846cc72584b6e87e",
       "value": 281
      }
     },
     "6fc81ffe07b041b9860d1d9481fe1e91": {
      "model_module": "@jupyter-widgets/base",
      "model_module_version": "1.2.0",
      "model_name": "LayoutModel",
      "state": {}
     },
     "6fde55c504b34d1bbd215f3613f85f32": {
      "model_module": "@jupyter-widgets/controls",
      "model_module_version": "1.5.0",
      "model_name": "DescriptionStyleModel",
      "state": {
       "description_width": ""
      }
     },
     "7001abf41a4c4a939c1f1ecc665b0e06": {
      "model_module": "@jupyter-widgets/controls",
      "model_module_version": "1.5.0",
      "model_name": "HBoxModel",
      "state": {
       "children": [
        "IPY_MODEL_f902d34c38d44bb7989c2f1126358f90",
        "IPY_MODEL_96044e4f54f24f219de3dfe62976c708"
       ],
       "layout": "IPY_MODEL_5848c6848daa4e068933a6daa9fb9463"
      }
     },
     "70350e9125634b2e958262f3695b06ca": {
      "model_module": "@jupyter-widgets/base",
      "model_module_version": "1.2.0",
      "model_name": "LayoutModel",
      "state": {}
     },
     "7062c4a0023b40af942abd0e0bcd1367": {
      "model_module": "@jupyter-widgets/base",
      "model_module_version": "1.2.0",
      "model_name": "LayoutModel",
      "state": {}
     },
     "706414125b4d41358b5acfa37b2613f9": {
      "model_module": "@jupyter-widgets/controls",
      "model_module_version": "1.5.0",
      "model_name": "ProgressStyleModel",
      "state": {
       "description_width": "initial"
      }
     },
     "7071fe9d9a3549139108851bbf6e1c5e": {
      "model_module": "@jupyter-widgets/controls",
      "model_module_version": "1.5.0",
      "model_name": "ProgressStyleModel",
      "state": {
       "description_width": "initial"
      }
     },
     "7077b875cab949e681f1e3e38add046b": {
      "model_module": "@jupyter-widgets/base",
      "model_module_version": "1.2.0",
      "model_name": "LayoutModel",
      "state": {}
     },
     "709468c0ced9425e969b92eece25f9b1": {
      "model_module": "@jupyter-widgets/base",
      "model_module_version": "1.2.0",
      "model_name": "LayoutModel",
      "state": {}
     },
     "7094e131cdce47fa97b42af9f79bbdd8": {
      "model_module": "@jupyter-widgets/base",
      "model_module_version": "1.2.0",
      "model_name": "LayoutModel",
      "state": {}
     },
     "70ad97b929864391ac55f35a99ca7a2d": {
      "model_module": "@jupyter-widgets/controls",
      "model_module_version": "1.5.0",
      "model_name": "HTMLModel",
      "state": {
       "layout": "IPY_MODEL_e74e8b4115a7492095c31a57c9cfa321",
       "style": "IPY_MODEL_8d14a88318df4f8ead6be57097dd3636",
       "value": " 289/289 [02:05&lt;00:00,  2.31it/s, acc=0.286, loss=1.64]"
      }
     },
     "70d435c92a6b4679aab30dc1be7288e9": {
      "model_module": "@jupyter-widgets/controls",
      "model_module_version": "1.5.0",
      "model_name": "HTMLModel",
      "state": {
       "layout": "IPY_MODEL_d55c71571e464273925a5b7ae1d60450",
       "style": "IPY_MODEL_09d3ba5b91e54af68f186112cdd53a23",
       "value": " 361/361 [01:10&lt;00:00,  5.13it/s, acc=0.986, loss=0.0194]"
      }
     },
     "70d9f34dba134d5aa5ee1b45f54e8e42": {
      "model_module": "@jupyter-widgets/controls",
      "model_module_version": "1.5.0",
      "model_name": "HBoxModel",
      "state": {
       "children": [
        "IPY_MODEL_2809180dd8cf419983aaca3851b6b225",
        "IPY_MODEL_603f64bfdc884703b9700c7e4dc1f75e"
       ],
       "layout": "IPY_MODEL_d4b3f93753e94573b2d4cc9443546f3b"
      }
     },
     "70fa483657a141aa9bb09d2f84f3aa88": {
      "model_module": "@jupyter-widgets/controls",
      "model_module_version": "1.5.0",
      "model_name": "HBoxModel",
      "state": {
       "children": [
        "IPY_MODEL_4f6a0244b4a94f8e8544c15bf61c378c",
        "IPY_MODEL_6b689c6602324e3fa8ecd98bed75128f"
       ],
       "layout": "IPY_MODEL_500b5f37fd4144b8bdbb68ea68b8d573"
      }
     },
     "716d973127dd419e8d302509f7743c7c": {
      "model_module": "@jupyter-widgets/controls",
      "model_module_version": "1.5.0",
      "model_name": "HTMLModel",
      "state": {
       "layout": "IPY_MODEL_c07e8bf3cefc4b258dacd79a904b1f96",
       "style": "IPY_MODEL_f286d1e11bbd4ae7ae401af8a2c921c9",
       "value": " 361/361 [00:33&lt;00:00, 10.86it/s, acc=0.989, loss=0.00455]"
      }
     },
     "718dc0ba3ae04cf2bffeb72e38fa8c20": {
      "model_module": "@jupyter-widgets/base",
      "model_module_version": "1.2.0",
      "model_name": "LayoutModel",
      "state": {}
     },
     "71bdb77dab454e758cc35608deba7c89": {
      "model_module": "@jupyter-widgets/base",
      "model_module_version": "1.2.0",
      "model_name": "LayoutModel",
      "state": {}
     },
     "71d6584c1fb24a68ade653ff8114b4b1": {
      "model_module": "@jupyter-widgets/base",
      "model_module_version": "1.2.0",
      "model_name": "LayoutModel",
      "state": {}
     },
     "7225b15964ce42f991df8caca269fc56": {
      "model_module": "@jupyter-widgets/controls",
      "model_module_version": "1.5.0",
      "model_name": "HTMLModel",
      "state": {
       "layout": "IPY_MODEL_cdd630ab76764db5bdeb300160ad301d",
       "style": "IPY_MODEL_4ff336d4341a4381ad5dc4c0476de520",
       "value": " 283/283 [01:32&lt;00:00,  3.06it/s, acc=0.995, loss=0.0145]"
      }
     },
     "724792d77a8c4874b5738e515d9fee5d": {
      "model_module": "@jupyter-widgets/controls",
      "model_module_version": "1.5.0",
      "model_name": "IntProgressModel",
      "state": {
       "bar_style": "success",
       "description": "Epoch [4/40]: 100%",
       "layout": "IPY_MODEL_3510b5f40ec845c4879bca3b55bf6760",
       "max": 255,
       "style": "IPY_MODEL_f683747129dc4ca2b456f538471dc11a",
       "value": 255
      }
     },
     "724cc335bfd7407ca232003f57260916": {
      "model_module": "@jupyter-widgets/base",
      "model_module_version": "1.2.0",
      "model_name": "LayoutModel",
      "state": {}
     },
     "725cf55509cd499fb0330c9c131654ea": {
      "model_module": "@jupyter-widgets/controls",
      "model_module_version": "1.5.0",
      "model_name": "ProgressStyleModel",
      "state": {
       "description_width": ""
      }
     },
     "72835e441f454946890fc513eb714b48": {
      "model_module": "@jupyter-widgets/base",
      "model_module_version": "1.2.0",
      "model_name": "LayoutModel",
      "state": {}
     },
     "72a5a6980e384ad5a20fdcd7767053dc": {
      "model_module": "@jupyter-widgets/controls",
      "model_module_version": "1.5.0",
      "model_name": "HBoxModel",
      "state": {
       "children": [
        "IPY_MODEL_03608d6d7b2c46cc8c140be2d089f598",
        "IPY_MODEL_b015525b6d0e471a910514decea62743"
       ],
       "layout": "IPY_MODEL_72835e441f454946890fc513eb714b48"
      }
     },
     "73005dfb7c9047e68869d35aaecadc2a": {
      "model_module": "@jupyter-widgets/base",
      "model_module_version": "1.2.0",
      "model_name": "LayoutModel",
      "state": {}
     },
     "7304367707844fa283f2c50d313f4acf": {
      "model_module": "@jupyter-widgets/controls",
      "model_module_version": "1.5.0",
      "model_name": "ProgressStyleModel",
      "state": {
       "description_width": "initial"
      }
     },
     "730c9fef21304d64a21a8c20a37ce13f": {
      "model_module": "@jupyter-widgets/controls",
      "model_module_version": "1.5.0",
      "model_name": "DescriptionStyleModel",
      "state": {
       "description_width": ""
      }
     },
     "7321c7fb33504ded86c967df296d6c7d": {
      "model_module": "@jupyter-widgets/controls",
      "model_module_version": "1.5.0",
      "model_name": "HBoxModel",
      "state": {
       "children": [
        "IPY_MODEL_333f1dc08388491095dc9a0212fe240d",
        "IPY_MODEL_c24937f69a7f41cc90581689824812f6"
       ],
       "layout": "IPY_MODEL_d0ce2bb7f3a041bb91bbe6991f0940c3"
      }
     },
     "73225a9fd9cd42ea98a939660afe8576": {
      "model_module": "@jupyter-widgets/base",
      "model_module_version": "1.2.0",
      "model_name": "LayoutModel",
      "state": {}
     },
     "732a7c4031c34151ae3c1bf0ac5da4e3": {
      "model_module": "@jupyter-widgets/controls",
      "model_module_version": "1.5.0",
      "model_name": "ProgressStyleModel",
      "state": {
       "description_width": "initial"
      }
     },
     "732b06cf0a344c7db1d87507ae79b860": {
      "model_module": "@jupyter-widgets/controls",
      "model_module_version": "1.5.0",
      "model_name": "IntProgressModel",
      "state": {
       "bar_style": "success",
       "description": "Epoch [5/5]: 100%",
       "layout": "IPY_MODEL_c6300e489054432196372f4f428af9af",
       "max": 280,
       "style": "IPY_MODEL_6c893fbdc3b243cf994dc4bda68e3cb6",
       "value": 280
      }
     },
     "732b9ef94f634ab2ae3b1de573b54bdf": {
      "model_module": "@jupyter-widgets/controls",
      "model_module_version": "1.5.0",
      "model_name": "HBoxModel",
      "state": {
       "children": [
        "IPY_MODEL_37efaa242a2e4dfba9515ed6878a91c5",
        "IPY_MODEL_157dccf0857140e2b9b1cbafa4e39509"
       ],
       "layout": "IPY_MODEL_a63806bd7782470ea91923e0b9f254cf"
      }
     },
     "73414a2661aa492fa0f01ff441930b50": {
      "model_module": "@jupyter-widgets/controls",
      "model_module_version": "1.5.0",
      "model_name": "ProgressStyleModel",
      "state": {
       "description_width": "initial"
      }
     },
     "7355906d04ca4e59a1b06577c68c758a": {
      "model_module": "@jupyter-widgets/controls",
      "model_module_version": "1.5.0",
      "model_name": "HTMLModel",
      "state": {
       "layout": "IPY_MODEL_ed84722da5564bbda1dedb2707fe8cf6",
       "style": "IPY_MODEL_6e4f1799aef6401db81656b4fa3c281f",
       "value": " 289/289 [01:16&lt;00:00,  3.77it/s, acc=0.278, loss=1.6]"
      }
     },
     "73613c23aeb549ffacab41a61bc80399": {
      "model_module": "@jupyter-widgets/controls",
      "model_module_version": "1.5.0",
      "model_name": "HBoxModel",
      "state": {
       "children": [
        "IPY_MODEL_d7f52fba81de41858244aba975b77652",
        "IPY_MODEL_0f93ba755b2b497eba79b6fdfd3b6c89"
       ],
       "layout": "IPY_MODEL_53c9459a1eb941db8fa814d4ba88918f"
      }
     },
     "73c085a0c10145028706127f30578026": {
      "model_module": "@jupyter-widgets/controls",
      "model_module_version": "1.5.0",
      "model_name": "DescriptionStyleModel",
      "state": {
       "description_width": ""
      }
     },
     "73c7a8e0b9f44badabfd11564d5860b7": {
      "model_module": "@jupyter-widgets/base",
      "model_module_version": "1.2.0",
      "model_name": "LayoutModel",
      "state": {}
     },
     "73d288b6424d4c10a42cf14b6314d9f0": {
      "model_module": "@jupyter-widgets/controls",
      "model_module_version": "1.5.0",
      "model_name": "HTMLModel",
      "state": {
       "layout": "IPY_MODEL_9c922024560b4fc3910791dbc76cc46d",
       "style": "IPY_MODEL_cbbd628e00614588a44db92a84ce95b1",
       "value": " 289/289 [01:01&lt;00:00,  4.70it/s, acc=0.989, loss=0.0184]"
      }
     },
     "73ee95690a444393a0c626fafe18ab64": {
      "model_module": "@jupyter-widgets/controls",
      "model_module_version": "1.5.0",
      "model_name": "DescriptionStyleModel",
      "state": {
       "description_width": ""
      }
     },
     "73fcf2b79cf64d08894f6a76a9ff39ff": {
      "model_module": "@jupyter-widgets/base",
      "model_module_version": "1.2.0",
      "model_name": "LayoutModel",
      "state": {}
     },
     "74140896f29842fe85e1c6c0f21a2621": {
      "model_module": "@jupyter-widgets/controls",
      "model_module_version": "1.5.0",
      "model_name": "HBoxModel",
      "state": {
       "children": [
        "IPY_MODEL_46d80a4b53c446bd822a4bf8519c62de",
        "IPY_MODEL_70ad97b929864391ac55f35a99ca7a2d"
       ],
       "layout": "IPY_MODEL_df84e8fe274a44658e4d62822e01a6fb"
      }
     },
     "74188bcb396d48c388f252cd89a3b104": {
      "model_module": "@jupyter-widgets/controls",
      "model_module_version": "1.5.0",
      "model_name": "DescriptionStyleModel",
      "state": {
       "description_width": ""
      }
     },
     "7484cec33c9544869d19d84f0073a33b": {
      "model_module": "@jupyter-widgets/controls",
      "model_module_version": "1.5.0",
      "model_name": "IntProgressModel",
      "state": {
       "bar_style": "success",
       "description": "Epoch [1/5]: 100%",
       "layout": "IPY_MODEL_694b89bee53f4b9e97078e9972b87c98",
       "max": 280,
       "style": "IPY_MODEL_6b9fa9ee4bd1449f9a7275eab3a5a157",
       "value": 280
      }
     },
     "74add039a0634f508bf7287dd9dda024": {
      "model_module": "@jupyter-widgets/base",
      "model_module_version": "1.2.0",
      "model_name": "LayoutModel",
      "state": {}
     },
     "74d90d4d06954f1c982985691f529555": {
      "model_module": "@jupyter-widgets/base",
      "model_module_version": "1.2.0",
      "model_name": "LayoutModel",
      "state": {}
     },
     "74dfccb991bb4da2a475082fe7ba9a5b": {
      "model_module": "@jupyter-widgets/controls",
      "model_module_version": "1.5.0",
      "model_name": "HBoxModel",
      "state": {
       "children": [
        "IPY_MODEL_f75fbd13a8844902a639f660a9ffda11",
        "IPY_MODEL_26c2464f691c4ec8b61281fa4d1e7ffa"
       ],
       "layout": "IPY_MODEL_c262c5bc27674adcaa321dd31b1397c2"
      }
     },
     "750424db96ef492faa4ce757e25cb7fb": {
      "model_module": "@jupyter-widgets/base",
      "model_module_version": "1.2.0",
      "model_name": "LayoutModel",
      "state": {}
     },
     "755158370d764888a193d10267f0d9e8": {
      "model_module": "@jupyter-widgets/base",
      "model_module_version": "1.2.0",
      "model_name": "LayoutModel",
      "state": {}
     },
     "75645e28cf0a44c2828e80101550c8cd": {
      "model_module": "@jupyter-widgets/base",
      "model_module_version": "1.2.0",
      "model_name": "LayoutModel",
      "state": {}
     },
     "758a7dd2917e4790826e4f585409310a": {
      "model_module": "@jupyter-widgets/base",
      "model_module_version": "1.2.0",
      "model_name": "LayoutModel",
      "state": {}
     },
     "75e157ac9c154243a80767fa95b6c92b": {
      "model_module": "@jupyter-widgets/controls",
      "model_module_version": "1.5.0",
      "model_name": "HTMLModel",
      "state": {
       "layout": "IPY_MODEL_e4069cef1d334806b955576b800e7029",
       "style": "IPY_MODEL_f90fb26c21684511878dc350b6fef27f",
       "value": " 338/338 [00:32&lt;00:00, 10.52it/s, acc=0.937, loss=0.298]"
      }
     },
     "75e1a84652fe412f85817f66af12737c": {
      "model_module": "@jupyter-widgets/controls",
      "model_module_version": "1.5.0",
      "model_name": "HBoxModel",
      "state": {
       "children": [
        "IPY_MODEL_63801adb41104852b580293f566c8b80",
        "IPY_MODEL_a2b8cb90f00f4c5fa39eee18568ca531"
       ],
       "layout": "IPY_MODEL_a4fb1fa6a7a34950ba325c4927e3b260"
      }
     },
     "760804e017854b4ba74f0bf0365d480a": {
      "model_module": "@jupyter-widgets/base",
      "model_module_version": "1.2.0",
      "model_name": "LayoutModel",
      "state": {}
     },
     "7622db4e201c4b4fbff0b7d159bde227": {
      "model_module": "@jupyter-widgets/controls",
      "model_module_version": "1.5.0",
      "model_name": "HTMLModel",
      "state": {
       "layout": "IPY_MODEL_fd68732358b3408ca98257020ed49d98",
       "style": "IPY_MODEL_1db931e2f68f42c995005c4e4b67f2ba",
       "value": " 289/289 [02:06&lt;00:00,  2.28it/s, acc=0.979, loss=0.0281]"
      }
     },
     "76445470732b4586943dcd4eaec5da6a": {
      "model_module": "@jupyter-widgets/base",
      "model_module_version": "1.2.0",
      "model_name": "LayoutModel",
      "state": {}
     },
     "765979586fc64339b0a45285ea5ec1a7": {
      "model_module": "@jupyter-widgets/base",
      "model_module_version": "1.2.0",
      "model_name": "LayoutModel",
      "state": {}
     },
     "76834dfc6edc4cd28c6ede49bd2e3e2a": {
      "model_module": "@jupyter-widgets/base",
      "model_module_version": "1.2.0",
      "model_name": "LayoutModel",
      "state": {}
     },
     "769789d272c34786919adf52daf23a65": {
      "model_module": "@jupyter-widgets/controls",
      "model_module_version": "1.5.0",
      "model_name": "IntProgressModel",
      "state": {
       "bar_style": "success",
       "description": "Epoch [2/5]: 100%",
       "layout": "IPY_MODEL_122bd876d8a94faf89a891114ef8220c",
       "max": 282,
       "style": "IPY_MODEL_3788f0ae3ac6412da042c23603b4397a",
       "value": 282
      }
     },
     "76af3645e2594fcdba6797b54a705e73": {
      "model_module": "@jupyter-widgets/base",
      "model_module_version": "1.2.0",
      "model_name": "LayoutModel",
      "state": {}
     },
     "76c2972f356e435d88b79eabe53abbc5": {
      "model_module": "@jupyter-widgets/base",
      "model_module_version": "1.2.0",
      "model_name": "LayoutModel",
      "state": {}
     },
     "772bba90c2db4fedaa2fb2a335821578": {
      "model_module": "@jupyter-widgets/base",
      "model_module_version": "1.2.0",
      "model_name": "LayoutModel",
      "state": {}
     },
     "775deb0ee185431e8373f0ca77d29afd": {
      "model_module": "@jupyter-widgets/controls",
      "model_module_version": "1.5.0",
      "model_name": "ProgressStyleModel",
      "state": {
       "description_width": "initial"
      }
     },
     "77873ffb1d21464cb7b528e051ef72d6": {
      "model_module": "@jupyter-widgets/base",
      "model_module_version": "1.2.0",
      "model_name": "LayoutModel",
      "state": {}
     },
     "77f8a159486248b999034e5ad27cff7a": {
      "model_module": "@jupyter-widgets/controls",
      "model_module_version": "1.5.0",
      "model_name": "HTMLModel",
      "state": {
       "layout": "IPY_MODEL_4bf048f61f45481e9ace5b7d57eb919c",
       "style": "IPY_MODEL_d8021c4800254d7ba5fc15d7fad931c6",
       "value": " 289/289 [00:27&lt;00:00, 10.55it/s, acc=0.986, loss=0.145]"
      }
     },
     "780c921155ee48bfa4daee17292af5cb": {
      "model_module": "@jupyter-widgets/base",
      "model_module_version": "1.2.0",
      "model_name": "LayoutModel",
      "state": {}
     },
     "784ffa3cb7de4a328cfb8ba36c74e94b": {
      "model_module": "@jupyter-widgets/controls",
      "model_module_version": "1.5.0",
      "model_name": "ProgressStyleModel",
      "state": {
       "description_width": "initial"
      }
     },
     "7860dfeb92fb41099d1c7b9c5a8d6fc8": {
      "model_module": "@jupyter-widgets/base",
      "model_module_version": "1.2.0",
      "model_name": "LayoutModel",
      "state": {}
     },
     "78693986fba4479ca99453d8d2832c6a": {
      "model_module": "@jupyter-widgets/controls",
      "model_module_version": "1.5.0",
      "model_name": "ProgressStyleModel",
      "state": {
       "description_width": "initial"
      }
     },
     "786e6685a2af4a47aae184fa0173b76b": {
      "model_module": "@jupyter-widgets/base",
      "model_module_version": "1.2.0",
      "model_name": "LayoutModel",
      "state": {}
     },
     "787d99c7ffab4aaf8cc94c7c90d2c958": {
      "model_module": "@jupyter-widgets/base",
      "model_module_version": "1.2.0",
      "model_name": "LayoutModel",
      "state": {}
     },
     "789d8e7e390442d4a239b2d94e345acf": {
      "model_module": "@jupyter-widgets/controls",
      "model_module_version": "1.5.0",
      "model_name": "HBoxModel",
      "state": {
       "children": [
        "IPY_MODEL_bf740e90fa9f4fe697956ae318c34648",
        "IPY_MODEL_ab6d252bb29449c490ea7d58adf3a487"
       ],
       "layout": "IPY_MODEL_a2bb7826a7394f3bb734a3bb58c4e1fe"
      }
     },
     "789f16a83b4d43e899aa7a5053eb3fd7": {
      "model_module": "@jupyter-widgets/base",
      "model_module_version": "1.2.0",
      "model_name": "LayoutModel",
      "state": {}
     },
     "78c47c11f52a4448a77ab929c454d843": {
      "model_module": "@jupyter-widgets/controls",
      "model_module_version": "1.5.0",
      "model_name": "ProgressStyleModel",
      "state": {
       "description_width": "initial"
      }
     },
     "78dd3d1ae2374bff87078676b4d052b8": {
      "model_module": "@jupyter-widgets/controls",
      "model_module_version": "1.5.0",
      "model_name": "IntProgressModel",
      "state": {
       "bar_style": "success",
       "description": "Epoch [33/40]: 100%",
       "layout": "IPY_MODEL_1ce3ff08ec274e51bc28455159d46603",
       "max": 241,
       "style": "IPY_MODEL_9c33c63a558d4421829efdf25c440514",
       "value": 241
      }
     },
     "78df76b85ac14d14a233417f9cc5452c": {
      "model_module": "@jupyter-widgets/controls",
      "model_module_version": "1.5.0",
      "model_name": "HTMLModel",
      "state": {
       "layout": "IPY_MODEL_2248db2c04734f58bf46042081d694be",
       "style": "IPY_MODEL_460d4e173ba340968682468907455c4a",
       "value": " 338/338 [01:00&lt;00:00,  5.55it/s, acc=0.984, loss=0.0765]"
      }
     },
     "78e290d0c6bf4f99a07703b77bdf9889": {
      "model_module": "@jupyter-widgets/controls",
      "model_module_version": "1.5.0",
      "model_name": "HBoxModel",
      "state": {
       "children": [
        "IPY_MODEL_a04e5932a8244bd28c295ea96eaf78af",
        "IPY_MODEL_d5bb857570be4ab88c1ac675f8ccd94b"
       ],
       "layout": "IPY_MODEL_f80925aa724647ee987a14fc87024078"
      }
     },
     "79498f367d46455e81f49bcb2cad81ca": {
      "model_module": "@jupyter-widgets/controls",
      "model_module_version": "1.5.0",
      "model_name": "HTMLModel",
      "state": {
       "layout": "IPY_MODEL_2f6f0db6bd2a41fabaa1acbf3ef52375",
       "style": "IPY_MODEL_dfacede4f6c64d56937138c7128d535d",
       "value": " 361/361 [01:23&lt;00:00,  4.35it/s, acc=0.962, loss=0.0657]"
      }
     },
     "794baa53eac046058e9570a15e216e72": {
      "model_module": "@jupyter-widgets/controls",
      "model_module_version": "1.5.0",
      "model_name": "IntProgressModel",
      "state": {
       "bar_style": "success",
       "description": "Epoch [2/5]: 100%",
       "layout": "IPY_MODEL_e2896d41a30a4b78be29476c6c4c7909",
       "max": 284,
       "style": "IPY_MODEL_c0d8d361f2344f7e86feec7514610342",
       "value": 284
      }
     },
     "795273347c114ba5aad281e8dde03d02": {
      "model_module": "@jupyter-widgets/controls",
      "model_module_version": "1.5.0",
      "model_name": "HBoxModel",
      "state": {
       "children": [
        "IPY_MODEL_44227f04b6154b5a97343c8548a90cf7",
        "IPY_MODEL_efcaea1bbd374820817399eb1915d5d0"
       ],
       "layout": "IPY_MODEL_36eb8abfd4e543b2bbfee5e25a1a5ff1"
      }
     },
     "795a43c0595c43779bfb202bbe824e2c": {
      "model_module": "@jupyter-widgets/controls",
      "model_module_version": "1.5.0",
      "model_name": "HBoxModel",
      "state": {
       "children": [
        "IPY_MODEL_9ebed53493ad47c4b2527cafc50dc339",
        "IPY_MODEL_f742b8ff99764815a4de58bf2e7e5ea5"
       ],
       "layout": "IPY_MODEL_dd792552d07b4fe4b0fb962b789b75a0"
      }
     },
     "796d1d42fbf940e6ac9b53da3639e2bc": {
      "model_module": "@jupyter-widgets/controls",
      "model_module_version": "1.5.0",
      "model_name": "HBoxModel",
      "state": {
       "children": [
        "IPY_MODEL_9f33dba61ad348aea8fb9f5d08d77ca0",
        "IPY_MODEL_ecd2b037748340938ba2f3ece20241b9"
       ],
       "layout": "IPY_MODEL_b73750c556a64d85abd0c9cc1c1f274b"
      }
     },
     "79958e1b258145d380fbceb0142d13ea": {
      "model_module": "@jupyter-widgets/controls",
      "model_module_version": "1.5.0",
      "model_name": "HBoxModel",
      "state": {
       "children": [
        "IPY_MODEL_58e18739a90441aa8a46721c86073992",
        "IPY_MODEL_7bce8aa401df49f0b61e3ab8df70b099"
       ],
       "layout": "IPY_MODEL_8927ab1a82534a378118502438fc9a2e"
      }
     },
     "79f7d142f1814407a9c9907fa72dd800": {
      "model_module": "@jupyter-widgets/base",
      "model_module_version": "1.2.0",
      "model_name": "LayoutModel",
      "state": {}
     },
     "7a1217f50a694cdf9bae07a4aa56df11": {
      "model_module": "@jupyter-widgets/controls",
      "model_module_version": "1.5.0",
      "model_name": "IntProgressModel",
      "state": {
       "bar_style": "success",
       "description": "Epoch [39/40]: 100%",
       "layout": "IPY_MODEL_268eb536604541268d428319a48e6a1b",
       "max": 338,
       "style": "IPY_MODEL_5461af6dd630439b9a96c2d47fbc3a8b",
       "value": 338
      }
     },
     "7a3034cdbe864490892a79d10cb88af6": {
      "model_module": "@jupyter-widgets/controls",
      "model_module_version": "1.5.0",
      "model_name": "HTMLModel",
      "state": {
       "layout": "IPY_MODEL_05c44d9770ee4cf79b18b82f015dc7dd",
       "style": "IPY_MODEL_51298a8b081d4cc5ba4c2105c86a50b5",
       "value": " 241/241 [01:46&lt;00:00,  2.26it/s, acc=0.979, loss=0.0717]"
      }
     },
     "7a59a15da60e4cc0b04468a589a50723": {
      "model_module": "@jupyter-widgets/controls",
      "model_module_version": "1.5.0",
      "model_name": "HBoxModel",
      "state": {
       "children": [
        "IPY_MODEL_7a1217f50a694cdf9bae07a4aa56df11",
        "IPY_MODEL_37dcd25aea714368bd3b4f1421e9316d"
       ],
       "layout": "IPY_MODEL_e4c72c00e399497abb07acd64e5e0228"
      }
     },
     "7a745bd7c0d447e9af5c7cea78e7c3d1": {
      "model_module": "@jupyter-widgets/base",
      "model_module_version": "1.2.0",
      "model_name": "LayoutModel",
      "state": {}
     },
     "7a7b9a4d49de41a8b06c6d1797e65309": {
      "model_module": "@jupyter-widgets/controls",
      "model_module_version": "1.5.0",
      "model_name": "DescriptionStyleModel",
      "state": {
       "description_width": ""
      }
     },
     "7aca05dbb6894cd9a5fa0463fad909c6": {
      "model_module": "@jupyter-widgets/controls",
      "model_module_version": "1.5.0",
      "model_name": "ProgressStyleModel",
      "state": {
       "description_width": "initial"
      }
     },
     "7adc27b324d348749c6331c642070cdd": {
      "model_module": "@jupyter-widgets/controls",
      "model_module_version": "1.5.0",
      "model_name": "HBoxModel",
      "state": {
       "children": [
        "IPY_MODEL_1dfdc6ae06d94199858e8f83fc57078d",
        "IPY_MODEL_34dd3c4b2162410da3d25f2d4f73d7d7"
       ],
       "layout": "IPY_MODEL_d35d39a77afc4e258b8d44d371f449d8"
      }
     },
     "7aeb44f58f6545b6a4cff6e7b79ec95d": {
      "model_module": "@jupyter-widgets/base",
      "model_module_version": "1.2.0",
      "model_name": "LayoutModel",
      "state": {}
     },
     "7b00d54b267547c885891f2f4b76ce1e": {
      "model_module": "@jupyter-widgets/controls",
      "model_module_version": "1.5.0",
      "model_name": "DescriptionStyleModel",
      "state": {
       "description_width": ""
      }
     },
     "7b201d8c4e984dc28d8fa2074c3a1ec2": {
      "model_module": "@jupyter-widgets/controls",
      "model_module_version": "1.5.0",
      "model_name": "HTMLModel",
      "state": {
       "layout": "IPY_MODEL_5d337c0dbb7042cc87444a58432a8477",
       "style": "IPY_MODEL_8714e5af3ea34c63a70402faaa3b785d",
       "value": " 255/255 [02:04&lt;00:00,  2.05it/s, acc=0.979, loss=0.0108]"
      }
     },
     "7b41f2a7242c4f5ebe668db870a613c7": {
      "model_module": "@jupyter-widgets/controls",
      "model_module_version": "1.5.0",
      "model_name": "HBoxModel",
      "state": {
       "children": [
        "IPY_MODEL_adafd711d0614f57951f3bd9fbb5761c",
        "IPY_MODEL_27b7960e009b411daa6ec0b259be064a"
       ],
       "layout": "IPY_MODEL_3a3bde8a3d7b44d39a06060c95618122"
      }
     },
     "7b5aafb44a1445c5bbdea2a8f1a73e40": {
      "model_module": "@jupyter-widgets/controls",
      "model_module_version": "1.5.0",
      "model_name": "DescriptionStyleModel",
      "state": {
       "description_width": ""
      }
     },
     "7b6a7605cef042cd9a3bcb4bdd62e647": {
      "model_module": "@jupyter-widgets/controls",
      "model_module_version": "1.5.0",
      "model_name": "HTMLModel",
      "state": {
       "layout": "IPY_MODEL_926eb4661eba42ac944e12d1c75e57e2",
       "style": "IPY_MODEL_82dcabd98b634cdf95fde5a8c091fc31",
       "value": " 361/361 [02:12&lt;00:00,  2.73it/s, acc=0.984, loss=0.0596]"
      }
     },
     "7b6f0597afd84c13ba60b3d60176ef57": {
      "model_module": "@jupyter-widgets/base",
      "model_module_version": "1.2.0",
      "model_name": "LayoutModel",
      "state": {}
     },
     "7b6f6e423ffe405e9e335ee11c3ce01d": {
      "model_module": "@jupyter-widgets/base",
      "model_module_version": "1.2.0",
      "model_name": "LayoutModel",
      "state": {}
     },
     "7b7ccdc2a18e4cfea20778da822340ea": {
      "model_module": "@jupyter-widgets/controls",
      "model_module_version": "1.5.0",
      "model_name": "DescriptionStyleModel",
      "state": {
       "description_width": ""
      }
     },
     "7b7f3e8f72d44c9a9c26d114e946ae32": {
      "model_module": "@jupyter-widgets/controls",
      "model_module_version": "1.5.0",
      "model_name": "DescriptionStyleModel",
      "state": {
       "description_width": ""
      }
     },
     "7ba014b8d8d440178f44d50949c07b05": {
      "model_module": "@jupyter-widgets/base",
      "model_module_version": "1.2.0",
      "model_name": "LayoutModel",
      "state": {}
     },
     "7bbab9d7bb1b4a208b73ab89a0772fc9": {
      "model_module": "@jupyter-widgets/base",
      "model_module_version": "1.2.0",
      "model_name": "LayoutModel",
      "state": {}
     },
     "7bcc67dfc94142afb734b096adaf7b91": {
      "model_module": "@jupyter-widgets/controls",
      "model_module_version": "1.5.0",
      "model_name": "HBoxModel",
      "state": {
       "children": [
        "IPY_MODEL_422870a498d5470e884fc80bb65bb872",
        "IPY_MODEL_e333209cd85e418ebca3e834e781f3bd"
       ],
       "layout": "IPY_MODEL_ea9986f63e8b4cc5862c6f8a7a70cc05"
      }
     },
     "7bce8aa401df49f0b61e3ab8df70b099": {
      "model_module": "@jupyter-widgets/controls",
      "model_module_version": "1.5.0",
      "model_name": "HTMLModel",
      "state": {
       "layout": "IPY_MODEL_91b2f0fc62054fc295c02c4d7bacefcc",
       "style": "IPY_MODEL_b8965b0b7a294590828729439d588ad8",
       "value": " 241/241 [01:08&lt;00:00,  3.53it/s, acc=0.268, loss=1.59]"
      }
     },
     "7bce922c61eb49ec9ddfd4e64e18187e": {
      "model_module": "@jupyter-widgets/controls",
      "model_module_version": "1.5.0",
      "model_name": "IntProgressModel",
      "state": {
       "bar_style": "success",
       "description": "Epoch [39/40]: 100%",
       "layout": "IPY_MODEL_eff0fbb779b440cdbc22a139200448d6",
       "max": 361,
       "style": "IPY_MODEL_30fa78c8c5cc49d08b68f253370094be",
       "value": 361
      }
     },
     "7c06442786eb4f309ebac0c0315283d4": {
      "model_module": "@jupyter-widgets/controls",
      "model_module_version": "1.5.0",
      "model_name": "HTMLModel",
      "state": {
       "layout": "IPY_MODEL_52cbdde9b9834b238785af752dc6bf61",
       "style": "IPY_MODEL_4dc2298000b94bb0b4f6f1cded5f6f41",
       "value": " 255/255 [01:45&lt;00:00,  2.43it/s, acc=0.985, loss=0.226]"
      }
     },
     "7c2a78a477c541f9a75024b29e2d63eb": {
      "model_module": "@jupyter-widgets/base",
      "model_module_version": "1.2.0",
      "model_name": "LayoutModel",
      "state": {}
     },
     "7c40dd0d028b438d9d38472b289be819": {
      "model_module": "@jupyter-widgets/controls",
      "model_module_version": "1.5.0",
      "model_name": "DescriptionStyleModel",
      "state": {
       "description_width": ""
      }
     },
     "7c67585b726d4028977f60158bfb2dac": {
      "model_module": "@jupyter-widgets/base",
      "model_module_version": "1.2.0",
      "model_name": "LayoutModel",
      "state": {}
     },
     "7ce09cf4e6194567a6a1b0c0e16b4813": {
      "model_module": "@jupyter-widgets/controls",
      "model_module_version": "1.5.0",
      "model_name": "ProgressStyleModel",
      "state": {
       "description_width": "initial"
      }
     },
     "7d08e19d475b43398d85a629a4545428": {
      "model_module": "@jupyter-widgets/controls",
      "model_module_version": "1.5.0",
      "model_name": "IntProgressModel",
      "state": {
       "bar_style": "success",
       "description": "Epoch [1/40]: 100%",
       "layout": "IPY_MODEL_a1a11f74c8534895b1b8cad1b2e5d292",
       "max": 289,
       "style": "IPY_MODEL_18675f315a12409ba6307ab5c36f1352",
       "value": 289
      }
     },
     "7d5327f70d1e449ebeaef1ba8de9fa3f": {
      "model_module": "@jupyter-widgets/controls",
      "model_module_version": "1.5.0",
      "model_name": "IntProgressModel",
      "state": {
       "bar_style": "success",
       "description": "Epoch [11/40]: 100%",
       "layout": "IPY_MODEL_bb9ee977eb9f40f0825c132ac2d061f1",
       "max": 255,
       "style": "IPY_MODEL_ee905d0b82aa48d0ae11ded423c1d3d4",
       "value": 255
      }
     },
     "7d66002c57014b73892678bfc7b0d9b7": {
      "model_module": "@jupyter-widgets/controls",
      "model_module_version": "1.5.0",
      "model_name": "HBoxModel",
      "state": {
       "children": [
        "IPY_MODEL_f2abaeb782c64f619411a606767caf0d",
        "IPY_MODEL_716d973127dd419e8d302509f7743c7c"
       ],
       "layout": "IPY_MODEL_0c4f0e7cd84b40d18e8e7ab44c440586"
      }
     },
     "7d6dc9303e23444fab59178d01a0d119": {
      "model_module": "@jupyter-widgets/base",
      "model_module_version": "1.2.0",
      "model_name": "LayoutModel",
      "state": {}
     },
     "7d857a5a8fdb484192e2d5990b9392d9": {
      "model_module": "@jupyter-widgets/controls",
      "model_module_version": "1.5.0",
      "model_name": "HBoxModel",
      "state": {
       "children": [
        "IPY_MODEL_e9a9bee10a5c4d9c89ea9f713bd6faed",
        "IPY_MODEL_356054ad6a06489db244ab2d6440e69c"
       ],
       "layout": "IPY_MODEL_a66d398e4efb490391089a6213470a53"
      }
     },
     "7d946010ec6b44458574ab4a7a513f4c": {
      "model_module": "@jupyter-widgets/controls",
      "model_module_version": "1.5.0",
      "model_name": "IntProgressModel",
      "state": {
       "bar_style": "success",
       "description": "Epoch [30/40]: 100%",
       "layout": "IPY_MODEL_c5b6598c661e43e9aa57e17582b24f63",
       "max": 338,
       "style": "IPY_MODEL_a54c08baeb8044979f3b257ddf3827de",
       "value": 338
      }
     },
     "7d973ac378104d3188d9db36d482ccf7": {
      "model_module": "@jupyter-widgets/controls",
      "model_module_version": "1.5.0",
      "model_name": "IntProgressModel",
      "state": {
       "bar_style": "danger",
       "description": "  0%",
       "layout": "IPY_MODEL_ec1561b8da4f4447bdc8aece6041397b",
       "max": 289,
       "style": "IPY_MODEL_66ab5477e0474a27a711985d8708170a"
      }
     },
     "7da7c94ce6cc48db8dcb02eb64ba3427": {
      "model_module": "@jupyter-widgets/controls",
      "model_module_version": "1.5.0",
      "model_name": "DescriptionStyleModel",
      "state": {
       "description_width": ""
      }
     },
     "7dc8622fc04f4a6fb1caff6e407b4176": {
      "model_module": "@jupyter-widgets/controls",
      "model_module_version": "1.5.0",
      "model_name": "HTMLModel",
      "state": {
       "layout": "IPY_MODEL_2c673da418d9450691ca2d0b0b390582",
       "style": "IPY_MODEL_14a61ff5d50647499caec3d0a8215644",
       "value": " 289/289 [01:27&lt;00:00,  3.31it/s, acc=0.277, loss=1.55]"
      }
     },
     "7dc9d306e7914098892dc2a6922e5aeb": {
      "model_module": "@jupyter-widgets/controls",
      "model_module_version": "1.5.0",
      "model_name": "DescriptionStyleModel",
      "state": {
       "description_width": ""
      }
     },
     "7e26c3656d614761a2ba70a260929470": {
      "model_module": "@jupyter-widgets/base",
      "model_module_version": "1.2.0",
      "model_name": "LayoutModel",
      "state": {}
     },
     "7e32e0c422e447bcac2d2ef0974a96b6": {
      "model_module": "@jupyter-widgets/base",
      "model_module_version": "1.2.0",
      "model_name": "LayoutModel",
      "state": {}
     },
     "7e9ac4c1efaf48db89a02700579aad57": {
      "model_module": "@jupyter-widgets/controls",
      "model_module_version": "1.5.0",
      "model_name": "DescriptionStyleModel",
      "state": {
       "description_width": ""
      }
     },
     "7e9b61ecfdc44ef68e37e9557ba155c0": {
      "model_module": "@jupyter-widgets/controls",
      "model_module_version": "1.5.0",
      "model_name": "ProgressStyleModel",
      "state": {
       "description_width": "initial"
      }
     },
     "7ec31e1c02db4a4dac53a420c091b25b": {
      "model_module": "@jupyter-widgets/controls",
      "model_module_version": "1.5.0",
      "model_name": "HTMLModel",
      "state": {
       "layout": "IPY_MODEL_76445470732b4586943dcd4eaec5da6a",
       "style": "IPY_MODEL_2697dc4873f94ebd979e30418b3b5ba9",
       "value": " 361/361 [01:44&lt;00:00,  3.47it/s, acc=0.982, loss=0.104]"
      }
     },
     "7edbf81e139f4253aed77177e783123b": {
      "model_module": "@jupyter-widgets/controls",
      "model_module_version": "1.5.0",
      "model_name": "DescriptionStyleModel",
      "state": {
       "description_width": ""
      }
     },
     "7ee0ef6ac7db4d07bc4179f02b6285bb": {
      "model_module": "@jupyter-widgets/controls",
      "model_module_version": "1.5.0",
      "model_name": "HBoxModel",
      "state": {
       "children": [
        "IPY_MODEL_b0dbcc0a16e74184abddb112e87fae45",
        "IPY_MODEL_370eea13693f4ab7925ffa8f83e00223"
       ],
       "layout": "IPY_MODEL_2f7e92af50d64919951e535f0083ca05"
      }
     },
     "7f0b7f5365ee430a9d7a88c398df549c": {
      "model_module": "@jupyter-widgets/base",
      "model_module_version": "1.2.0",
      "model_name": "LayoutModel",
      "state": {}
     },
     "7f207aad15d349efa72ec1d9dd178ada": {
      "model_module": "@jupyter-widgets/controls",
      "model_module_version": "1.5.0",
      "model_name": "HTMLModel",
      "state": {
       "layout": "IPY_MODEL_7c2a78a477c541f9a75024b29e2d63eb",
       "style": "IPY_MODEL_94491394e11c4e96b6bfc2970ed5fd3f",
       "value": " 284/284 [00:57&lt;00:00,  4.98it/s, acc=0.993, loss=0.0437]"
      }
     },
     "7f557896bb8c480a8654246d2e6189a3": {
      "model_module": "@jupyter-widgets/controls",
      "model_module_version": "1.5.0",
      "model_name": "DescriptionStyleModel",
      "state": {
       "description_width": ""
      }
     },
     "7f89ebee276b42c985650a2d25887280": {
      "model_module": "@jupyter-widgets/base",
      "model_module_version": "1.2.0",
      "model_name": "LayoutModel",
      "state": {}
     },
     "7faa544b581347acb7d4092ca4c7a788": {
      "model_module": "@jupyter-widgets/controls",
      "model_module_version": "1.5.0",
      "model_name": "IntProgressModel",
      "state": {
       "bar_style": "success",
       "description": "Epoch [32/40]: 100%",
       "layout": "IPY_MODEL_d5ccb2e805e34db3b0e4aab27fcf772c",
       "max": 289,
       "style": "IPY_MODEL_4b846b9fea9246f7bb18d58705c8917b",
       "value": 289
      }
     },
     "7fb8c62b156e4c5c94ac2cd121001c07": {
      "model_module": "@jupyter-widgets/controls",
      "model_module_version": "1.5.0",
      "model_name": "DescriptionStyleModel",
      "state": {
       "description_width": ""
      }
     },
     "7fdd3d962da140e2aa9583458c3b7a40": {
      "model_module": "@jupyter-widgets/controls",
      "model_module_version": "1.5.0",
      "model_name": "ProgressStyleModel",
      "state": {
       "description_width": "initial"
      }
     },
     "7ffa1822ac234b6bb9d18f536d0bbbed": {
      "model_module": "@jupyter-widgets/controls",
      "model_module_version": "1.5.0",
      "model_name": "HTMLModel",
      "state": {
       "layout": "IPY_MODEL_a54566dde58a429084b3a6b3692d46c4",
       "style": "IPY_MODEL_cfe3ab040d1f4ced8f8666a76a0aab6b",
       "value": " 241/241 [01:26&lt;00:00,  2.78it/s, acc=0.932, loss=0.132]"
      }
     },
     "80110fa57754447a9f5ad5ab9ec75705": {
      "model_module": "@jupyter-widgets/base",
      "model_module_version": "1.2.0",
      "model_name": "LayoutModel",
      "state": {}
     },
     "8029bad94f68484dbfe210f349d198fa": {
      "model_module": "@jupyter-widgets/controls",
      "model_module_version": "1.5.0",
      "model_name": "HTMLModel",
      "state": {
       "layout": "IPY_MODEL_060fca1db3a84adfb28e566487003ec5",
       "style": "IPY_MODEL_5a4405a71160437b9c90a34bf6be2447",
       "value": " 289/289 [00:48&lt;00:00,  6.00it/s, acc=0.271, loss=1.61]"
      }
     },
     "80a0b9f7379b4be5bc906ddb5064d7a1": {
      "model_module": "@jupyter-widgets/controls",
      "model_module_version": "1.5.0",
      "model_name": "ProgressStyleModel",
      "state": {
       "description_width": "initial"
      }
     },
     "80e4044bc5464306afd3b8982d5b76b4": {
      "model_module": "@jupyter-widgets/controls",
      "model_module_version": "1.5.0",
      "model_name": "HTMLModel",
      "state": {
       "layout": "IPY_MODEL_098af687605b4189aee78de847de5fd6",
       "style": "IPY_MODEL_74188bcb396d48c388f252cd89a3b104",
       "value": " 338/338 [01:09&lt;00:00,  4.86it/s, acc=0.31, loss=1.59]"
      }
     },
     "810ab80203e54963a54c8d1bab48f35e": {
      "model_module": "@jupyter-widgets/controls",
      "model_module_version": "1.5.0",
      "model_name": "HTMLModel",
      "state": {
       "layout": "IPY_MODEL_b0ab4f0e025f4280b976cf0eeadc62bc",
       "style": "IPY_MODEL_93708e54fc7949ba9f1324a84dbe50d8",
       "value": " 361/361 [00:42&lt;00:00,  8.51it/s, acc=0.982, loss=0.00819]"
      }
     },
     "8111781c1e564827bce06487b0f06867": {
      "model_module": "@jupyter-widgets/controls",
      "model_module_version": "1.5.0",
      "model_name": "DescriptionStyleModel",
      "state": {
       "description_width": ""
      }
     },
     "8157b9b4aa834d11b2d2051be0861097": {
      "model_module": "@jupyter-widgets/controls",
      "model_module_version": "1.5.0",
      "model_name": "HTMLModel",
      "state": {
       "layout": "IPY_MODEL_e173b8848baf4d5b8122e94d3440a6e7",
       "style": "IPY_MODEL_b42ee7f2207e44fe9f359656dbeff8c1",
       "value": " 255/255 [02:10&lt;00:00,  1.95it/s, acc=0.985, loss=0.00201]"
      }
     },
     "815e9da96a8e4f96ba4919d51844ce80": {
      "model_module": "@jupyter-widgets/controls",
      "model_module_version": "1.5.0",
      "model_name": "DescriptionStyleModel",
      "state": {
       "description_width": ""
      }
     },
     "817876fcf0a745ac9ee1e3e804e4412d": {
      "model_module": "@jupyter-widgets/base",
      "model_module_version": "1.2.0",
      "model_name": "LayoutModel",
      "state": {}
     },
     "81c89e02d38147a3b3dbb4859f19c674": {
      "model_module": "@jupyter-widgets/controls",
      "model_module_version": "1.5.0",
      "model_name": "HBoxModel",
      "state": {
       "children": [
        "IPY_MODEL_4dbee4b23bce4602a50b9c9cd997b00a",
        "IPY_MODEL_29108dd0b6084ddbbda2079df57df136"
       ],
       "layout": "IPY_MODEL_3b2b773654e44b28bda0022299886be4"
      }
     },
     "81cbd4defcf342e899ce0a465f81fb16": {
      "model_module": "@jupyter-widgets/controls",
      "model_module_version": "1.5.0",
      "model_name": "ProgressStyleModel",
      "state": {
       "description_width": "initial"
      }
     },
     "81d3d27fa0a24abcaef8e2e4527cad5c": {
      "model_module": "@jupyter-widgets/controls",
      "model_module_version": "1.5.0",
      "model_name": "HTMLModel",
      "state": {
       "layout": "IPY_MODEL_df303bc7dc4241da98da23614002ba7e",
       "style": "IPY_MODEL_f87516095f4c4ae1be0a0c34622e8d08",
       "value": " 255/255 [00:27&lt;00:00,  9.37it/s, acc=0.95, loss=0.119]"
      }
     },
     "820ec438a7b24473a41eb74125e4772f": {
      "model_module": "@jupyter-widgets/controls",
      "model_module_version": "1.5.0",
      "model_name": "DescriptionStyleModel",
      "state": {
       "description_width": ""
      }
     },
     "826a23271c9d4bca8beb4f0861abd222": {
      "model_module": "@jupyter-widgets/controls",
      "model_module_version": "1.5.0",
      "model_name": "ProgressStyleModel",
      "state": {
       "description_width": "initial"
      }
     },
     "828fb812776c4bfc81a004bedc58f412": {
      "model_module": "@jupyter-widgets/controls",
      "model_module_version": "1.5.0",
      "model_name": "HTMLModel",
      "state": {
       "layout": "IPY_MODEL_7077b875cab949e681f1e3e38add046b",
       "style": "IPY_MODEL_680f451a2dc64dde8f3d97365e513348",
       "value": " 255/255 [01:10&lt;00:00,  3.62it/s, acc=0.986, loss=0.0128]"
      }
     },
     "8297630b08714718a71a7419f3138ba7": {
      "model_module": "@jupyter-widgets/controls",
      "model_module_version": "1.5.0",
      "model_name": "HBoxModel",
      "state": {
       "children": [
        "IPY_MODEL_fcbd07e4d32843788a0abcd324cab08f",
        "IPY_MODEL_964a6bbf9ee547278305e9048c188219"
       ],
       "layout": "IPY_MODEL_9dca3c1118654354a0e8c53bd2be5070"
      }
     },
     "82981c39e4eb4355ae5bbfbf14f06ca1": {
      "model_module": "@jupyter-widgets/controls",
      "model_module_version": "1.5.0",
      "model_name": "ProgressStyleModel",
      "state": {
       "description_width": "initial"
      }
     },
     "82a406d5606141b6897baf69ad9be007": {
      "model_module": "@jupyter-widgets/base",
      "model_module_version": "1.2.0",
      "model_name": "LayoutModel",
      "state": {}
     },
     "82a56feef79c4b0b8a39c6189da711ee": {
      "model_module": "@jupyter-widgets/controls",
      "model_module_version": "1.5.0",
      "model_name": "HBoxModel",
      "state": {
       "children": [
        "IPY_MODEL_2f01efc27936473e896f411e64441bd0",
        "IPY_MODEL_4e60f5e21a144e008d75429a3c50b85f"
       ],
       "layout": "IPY_MODEL_f6fb0a92328f4365a3904e7e35f12733"
      }
     },
     "82ab1e4068f0452fbc9939779db7213c": {
      "model_module": "@jupyter-widgets/controls",
      "model_module_version": "1.5.0",
      "model_name": "HBoxModel",
      "state": {
       "children": [
        "IPY_MODEL_416d2857f3b04b8c9c26c9ae74d84157",
        "IPY_MODEL_5e46ca9952f14af4a50a62c6042a252c"
       ],
       "layout": "IPY_MODEL_1fd10350686042a69b39e151b0a90461"
      }
     },
     "82dcabd98b634cdf95fde5a8c091fc31": {
      "model_module": "@jupyter-widgets/controls",
      "model_module_version": "1.5.0",
      "model_name": "DescriptionStyleModel",
      "state": {
       "description_width": ""
      }
     },
     "82f2b727302f4df0a22339f7153569d6": {
      "model_module": "@jupyter-widgets/controls",
      "model_module_version": "1.5.0",
      "model_name": "ProgressStyleModel",
      "state": {
       "description_width": "initial"
      }
     },
     "83082725ac604d7c8bd8f53ba1437f73": {
      "model_module": "@jupyter-widgets/controls",
      "model_module_version": "1.5.0",
      "model_name": "HTMLModel",
      "state": {
       "layout": "IPY_MODEL_f506e8ea715f40168142175500b2f1a2",
       "style": "IPY_MODEL_6979c17e7048474697a95600cd375afc",
       "value": " 289/289 [00:36&lt;00:00,  7.82it/s, acc=0.98, loss=0.0784]"
      }
     },
     "831660880fa84d649d0f7b9cb56cd6cf": {
      "model_module": "@jupyter-widgets/base",
      "model_module_version": "1.2.0",
      "model_name": "LayoutModel",
      "state": {}
     },
     "8320f4597ef749269c19ad8509cf4e61": {
      "model_module": "@jupyter-widgets/controls",
      "model_module_version": "1.5.0",
      "model_name": "ProgressStyleModel",
      "state": {
       "description_width": "initial"
      }
     },
     "836d1ea0465a468a96621136bc0b5b0b": {
      "model_module": "@jupyter-widgets/base",
      "model_module_version": "1.2.0",
      "model_name": "LayoutModel",
      "state": {}
     },
     "838f1f47252546fc93028b18b167e9df": {
      "model_module": "@jupyter-widgets/base",
      "model_module_version": "1.2.0",
      "model_name": "LayoutModel",
      "state": {}
     },
     "839d4e4e204a4446bcc0aeaf51f77cc7": {
      "model_module": "@jupyter-widgets/controls",
      "model_module_version": "1.5.0",
      "model_name": "HTMLModel",
      "state": {
       "layout": "IPY_MODEL_f21e9ca59b4944f599827a5267cc9a11",
       "style": "IPY_MODEL_0a5f7494786d465781d6d2c5b352ab5b",
       "value": " 338/338 [02:02&lt;00:00,  2.76it/s, acc=0.974, loss=0.131]"
      }
     },
     "83abeef7ded24239b9bcf80ab355cc94": {
      "model_module": "@jupyter-widgets/base",
      "model_module_version": "1.2.0",
      "model_name": "LayoutModel",
      "state": {}
     },
     "83becb79a69d4fbda41c6749f04f3e50": {
      "model_module": "@jupyter-widgets/controls",
      "model_module_version": "1.5.0",
      "model_name": "ProgressStyleModel",
      "state": {
       "description_width": "initial"
      }
     },
     "83cef394a09f4be5ad8724a5b0d93f67": {
      "model_module": "@jupyter-widgets/base",
      "model_module_version": "1.2.0",
      "model_name": "LayoutModel",
      "state": {}
     },
     "84050fb30b5e4ce7bd8855a9ec7a32d5": {
      "model_module": "@jupyter-widgets/controls",
      "model_module_version": "1.5.0",
      "model_name": "DescriptionStyleModel",
      "state": {
       "description_width": ""
      }
     },
     "841ec4ac83a345c38681184379a5cf6c": {
      "model_module": "@jupyter-widgets/controls",
      "model_module_version": "1.5.0",
      "model_name": "DescriptionStyleModel",
      "state": {
       "description_width": ""
      }
     },
     "8423af4d692e4caf904dd44ba7f06930": {
      "model_module": "@jupyter-widgets/base",
      "model_module_version": "1.2.0",
      "model_name": "LayoutModel",
      "state": {}
     },
     "8432a68eb01e41cf84465501a02eb4c7": {
      "model_module": "@jupyter-widgets/controls",
      "model_module_version": "1.5.0",
      "model_name": "HBoxModel",
      "state": {
       "children": [
        "IPY_MODEL_2eb6f524bff542d1a273f16b691f6482",
        "IPY_MODEL_73d288b6424d4c10a42cf14b6314d9f0"
       ],
       "layout": "IPY_MODEL_3aed7376d6824d888de520255132a36b"
      }
     },
     "84373fe55e174040897b93c5e020b49d": {
      "model_module": "@jupyter-widgets/controls",
      "model_module_version": "1.5.0",
      "model_name": "HBoxModel",
      "state": {
       "children": [
        "IPY_MODEL_303db7fdc6874cafa141ea40e68f86c4",
        "IPY_MODEL_0eae86ed0b9942f59164c723b22417ec"
       ],
       "layout": "IPY_MODEL_6eb542fe376e43838fa2b21ad043a975"
      }
     },
     "8438ab02333448b2a6463ab5e9897324": {
      "model_module": "@jupyter-widgets/base",
      "model_module_version": "1.2.0",
      "model_name": "LayoutModel",
      "state": {}
     },
     "843a399c79e843b9b3217d3787da3716": {
      "model_module": "@jupyter-widgets/controls",
      "model_module_version": "1.5.0",
      "model_name": "HBoxModel",
      "state": {
       "children": [
        "IPY_MODEL_b02c22272a9e455195d384b9ef2eb908",
        "IPY_MODEL_604a392735f247f0b5898e0684f1bf36"
       ],
       "layout": "IPY_MODEL_8f1a9ef1009348f89723083b2763bdd0"
      }
     },
     "845143ba38f346f8885b4fc92bfd281b": {
      "model_module": "@jupyter-widgets/controls",
      "model_module_version": "1.5.0",
      "model_name": "IntProgressModel",
      "state": {
       "bar_style": "success",
       "description": "Epoch [15/40]: 100%",
       "layout": "IPY_MODEL_abf49a1458424455a677872bfbea1d40",
       "max": 255,
       "style": "IPY_MODEL_50976d2b5bf345d28ebb5e2876aecdea",
       "value": 255
      }
     },
     "84775b1edd1e4220ba093fb71331faf8": {
      "model_module": "@jupyter-widgets/controls",
      "model_module_version": "1.5.0",
      "model_name": "HTMLModel",
      "state": {
       "layout": "IPY_MODEL_8f8a587fe93048b5811fe175137f3999",
       "style": "IPY_MODEL_d190dbb409ac4abeb4af1a5f2023811e",
       "value": " 255/255 [00:36&lt;00:00,  6.93it/s, acc=0.321, loss=1.52]"
      }
     },
     "849dd89eb2364bb7bf20011b4eb5435f": {
      "model_module": "@jupyter-widgets/controls",
      "model_module_version": "1.5.0",
      "model_name": "HTMLModel",
      "state": {
       "layout": "IPY_MODEL_d01f67ecba6947c4855157efc021dea2",
       "style": "IPY_MODEL_e44896f7079940ad85ab026d1a480da9",
       "value": " 289/289 [01:58&lt;00:00,  2.44it/s, acc=0.982, loss=0.0179]"
      }
     },
     "84e441b172374d80aa40ace8c3bbe81b": {
      "model_module": "@jupyter-widgets/controls",
      "model_module_version": "1.5.0",
      "model_name": "HTMLModel",
      "state": {
       "layout": "IPY_MODEL_34655f06e8b547f5bad7fc52f0704a8e",
       "style": "IPY_MODEL_2640883bce1d418ca5932b84baf2ca04",
       "value": " 241/241 [00:24&lt;00:00,  9.97it/s, acc=0.954, loss=0.123]"
      }
     },
     "854cdefc3f6e45b3819db0683fe122e2": {
      "model_module": "@jupyter-widgets/base",
      "model_module_version": "1.2.0",
      "model_name": "LayoutModel",
      "state": {}
     },
     "856e339e15b7432ba11247c71291d56c": {
      "model_module": "@jupyter-widgets/controls",
      "model_module_version": "1.5.0",
      "model_name": "IntProgressModel",
      "state": {
       "bar_style": "success",
       "description": "Epoch [14/40]: 100%",
       "layout": "IPY_MODEL_130ad79bb62b43f3a7efa122dc6b21e5",
       "max": 361,
       "style": "IPY_MODEL_b0be876ac87d40a8964809e36be8993c",
       "value": 361
      }
     },
     "8580328d991b4b1da7f8d990c0fe3e4d": {
      "model_module": "@jupyter-widgets/base",
      "model_module_version": "1.2.0",
      "model_name": "LayoutModel",
      "state": {}
     },
     "8591e28116964742a47a09f1711647be": {
      "model_module": "@jupyter-widgets/controls",
      "model_module_version": "1.5.0",
      "model_name": "IntProgressModel",
      "state": {
       "bar_style": "success",
       "description": "Epoch [23/40]: 100%",
       "layout": "IPY_MODEL_91dc3d455d5a456f9532504c978fb2ce",
       "max": 289,
       "style": "IPY_MODEL_fcc66342a8e64a47b023c04dabc24386",
       "value": 289
      }
     },
     "8592dddb7dbe4690bf525eaccba327fc": {
      "model_module": "@jupyter-widgets/base",
      "model_module_version": "1.2.0",
      "model_name": "LayoutModel",
      "state": {}
     },
     "85a9decc642b488e8aef8ea61c51d3fb": {
      "model_module": "@jupyter-widgets/controls",
      "model_module_version": "1.5.0",
      "model_name": "HTMLModel",
      "state": {
       "layout": "IPY_MODEL_ca3235e7522f4f89b3a00b8dd21d0995",
       "style": "IPY_MODEL_18158bf82ad04aaa9039c245aa4b5f40",
       "value": " 255/255 [01:53&lt;00:00,  2.24it/s, acc=0.981, loss=0.00441]"
      }
     },
     "85b07b58007b4fe088c6ae60cf12d8ec": {
      "model_module": "@jupyter-widgets/controls",
      "model_module_version": "1.5.0",
      "model_name": "HBoxModel",
      "state": {
       "children": [
        "IPY_MODEL_05359040c4114f5790d89d4233f37168",
        "IPY_MODEL_1bbdc0ff4f8d4008b818f622a79cdbad"
       ],
       "layout": "IPY_MODEL_f2dbf91008234ef9956989914e9c0dea"
      }
     },
     "85dca35800184dfe992671b2d0fe04a7": {
      "model_module": "@jupyter-widgets/controls",
      "model_module_version": "1.5.0",
      "model_name": "ProgressStyleModel",
      "state": {
       "description_width": "initial"
      }
     },
     "85eaa49e9b4e4a53888d6ff9ae534984": {
      "model_module": "@jupyter-widgets/controls",
      "model_module_version": "1.5.0",
      "model_name": "HBoxModel",
      "state": {
       "children": [
        "IPY_MODEL_5a988dcd365b4db38d0fdaea46c05976",
        "IPY_MODEL_afda1c922cb74885945c5b814fddf4c4"
       ],
       "layout": "IPY_MODEL_bc8d71ce31694a96aba94e5eff018112"
      }
     },
     "86007e763c504d62a19ab017081673fe": {
      "model_module": "@jupyter-widgets/controls",
      "model_module_version": "1.5.0",
      "model_name": "HTMLModel",
      "state": {
       "layout": "IPY_MODEL_a8489688a688427fa13ca4c80516594e",
       "style": "IPY_MODEL_b9f2bebdadfe48159da3b4cde90858fa",
       "value": " 361/361 [01:13&lt;00:00,  4.94it/s, acc=0.983, loss=0.0587]"
      }
     },
     "861aff1d28124aa3ad9053b4b91a1996": {
      "model_module": "@jupyter-widgets/base",
      "model_module_version": "1.2.0",
      "model_name": "LayoutModel",
      "state": {}
     },
     "864f24e8930a432ab7c696262b2d160c": {
      "model_module": "@jupyter-widgets/controls",
      "model_module_version": "1.5.0",
      "model_name": "ProgressStyleModel",
      "state": {
       "description_width": "initial"
      }
     },
     "8657be0399e44926bc71ce62c837131f": {
      "model_module": "@jupyter-widgets/base",
      "model_module_version": "1.2.0",
      "model_name": "LayoutModel",
      "state": {}
     },
     "867754a2a28b42cc96510102de04e36d": {
      "model_module": "@jupyter-widgets/controls",
      "model_module_version": "1.5.0",
      "model_name": "HTMLModel",
      "state": {
       "layout": "IPY_MODEL_ec270eab4644458dad93ee8ec8d34b2f",
       "style": "IPY_MODEL_d8f013974d014603a980b6b2b6c0470d",
       "value": " 280/280 [01:01&lt;00:00,  4.57it/s, acc=0.943, loss=0.0273]"
      }
     },
     "868d83e7857a4753a3de069196522058": {
      "model_module": "@jupyter-widgets/base",
      "model_module_version": "1.2.0",
      "model_name": "LayoutModel",
      "state": {}
     },
     "869e99b57b7949b290ac9555069f1d24": {
      "model_module": "@jupyter-widgets/controls",
      "model_module_version": "1.5.0",
      "model_name": "HTMLModel",
      "state": {
       "layout": "IPY_MODEL_03c782e4d3b442f3bc50dc5614b8835a",
       "style": "IPY_MODEL_5b1f5140aa844210a24d496e7d9d14d3"
      }
     },
     "86a3a3580cc1450b846dbca0d0010c75": {
      "model_module": "@jupyter-widgets/controls",
      "model_module_version": "1.5.0",
      "model_name": "DescriptionStyleModel",
      "state": {
       "description_width": ""
      }
     },
     "86a8f5b5535e4fa79b838ab297fa42fb": {
      "model_module": "@jupyter-widgets/base",
      "model_module_version": "1.2.0",
      "model_name": "LayoutModel",
      "state": {}
     },
     "86da4384163540fdb7e10f5e3eccd506": {
      "model_module": "@jupyter-widgets/controls",
      "model_module_version": "1.5.0",
      "model_name": "HTMLModel",
      "state": {
       "layout": "IPY_MODEL_966bde10c0f54165969d1b552780e9df",
       "style": "IPY_MODEL_ce6c2842950a4b49a151c6264924f0db",
       "value": " 289/289 [01:17&lt;00:00,  3.72it/s, acc=0.986, loss=0.0635]"
      }
     },
     "86dc392010814a3c9e7c2c2e82149cde": {
      "model_module": "@jupyter-widgets/base",
      "model_module_version": "1.2.0",
      "model_name": "LayoutModel",
      "state": {}
     },
     "86ee6814d0484333afcc1290e3792421": {
      "model_module": "@jupyter-widgets/controls",
      "model_module_version": "1.5.0",
      "model_name": "IntProgressModel",
      "state": {
       "bar_style": "success",
       "description": "Epoch [2/40]: 100%",
       "layout": "IPY_MODEL_8987e1fe4538446f8deef254e1214e48",
       "max": 361,
       "style": "IPY_MODEL_678bb4fa3cc44d27b2bd970c2c2e7b10",
       "value": 361
      }
     },
     "86f451e97e834e89a8214f044628ecc0": {
      "model_module": "@jupyter-widgets/controls",
      "model_module_version": "1.5.0",
      "model_name": "ProgressStyleModel",
      "state": {
       "description_width": "initial"
      }
     },
     "86fbc36b0b37401aa585877988a18cf1": {
      "model_module": "@jupyter-widgets/base",
      "model_module_version": "1.2.0",
      "model_name": "LayoutModel",
      "state": {}
     },
     "8714e5af3ea34c63a70402faaa3b785d": {
      "model_module": "@jupyter-widgets/controls",
      "model_module_version": "1.5.0",
      "model_name": "DescriptionStyleModel",
      "state": {
       "description_width": ""
      }
     },
     "8747d4565d8c4934ad2fa8cf8e0e8de0": {
      "model_module": "@jupyter-widgets/base",
      "model_module_version": "1.2.0",
      "model_name": "LayoutModel",
      "state": {}
     },
     "876769f892b44254ae6866386755f8ec": {
      "model_module": "@jupyter-widgets/controls",
      "model_module_version": "1.5.0",
      "model_name": "HTMLModel",
      "state": {
       "layout": "IPY_MODEL_760804e017854b4ba74f0bf0365d480a",
       "style": "IPY_MODEL_ba9015d8089d41d38b0113890228cf1e",
       "value": " 338/338 [02:10&lt;00:00,  2.60it/s, acc=0.965, loss=0.0759]"
      }
     },
     "8797ec0096f04607aa75f4f52e2adad4": {
      "model_module": "@jupyter-widgets/base",
      "model_module_version": "1.2.0",
      "model_name": "LayoutModel",
      "state": {}
     },
     "87a44ffbf295444f9680446def123dd2": {
      "model_module": "@jupyter-widgets/base",
      "model_module_version": "1.2.0",
      "model_name": "LayoutModel",
      "state": {}
     },
     "87c398361d734ce0bc7907cb5135d655": {
      "model_module": "@jupyter-widgets/base",
      "model_module_version": "1.2.0",
      "model_name": "LayoutModel",
      "state": {}
     },
     "87ce0572f4d24460ac8d982dee219d94": {
      "model_module": "@jupyter-widgets/controls",
      "model_module_version": "1.5.0",
      "model_name": "HTMLModel",
      "state": {
       "layout": "IPY_MODEL_03f450826ea844b9bd20f87754eb6119",
       "style": "IPY_MODEL_3c2d36f92f4546e1895507cf5061e246",
       "value": " 289/289 [01:30&lt;00:00,  3.18it/s, acc=0.277, loss=1.55]"
      }
     },
     "87e8c4e568a14e44b750fa1a234517c8": {
      "model_module": "@jupyter-widgets/base",
      "model_module_version": "1.2.0",
      "model_name": "LayoutModel",
      "state": {}
     },
     "882efe15fb29471c96ad8337d7412fb3": {
      "model_module": "@jupyter-widgets/controls",
      "model_module_version": "1.5.0",
      "model_name": "DescriptionStyleModel",
      "state": {
       "description_width": ""
      }
     },
     "8832249e594a459d9ecc143943e56fbf": {
      "model_module": "@jupyter-widgets/base",
      "model_module_version": "1.2.0",
      "model_name": "LayoutModel",
      "state": {}
     },
     "883660bf7e074de8a8d22edcf442306b": {
      "model_module": "@jupyter-widgets/controls",
      "model_module_version": "1.5.0",
      "model_name": "ProgressStyleModel",
      "state": {
       "description_width": "initial"
      }
     },
     "884ec04841d84143aef337123ed5bf30": {
      "model_module": "@jupyter-widgets/controls",
      "model_module_version": "1.5.0",
      "model_name": "IntProgressModel",
      "state": {
       "bar_style": "success",
       "description": "Epoch [9/40]: 100%",
       "layout": "IPY_MODEL_2b6dd2f683264cce9eb72e4279d46a9a",
       "max": 289,
       "style": "IPY_MODEL_58e394fb838f4722bd168b818985c1c3",
       "value": 289
      }
     },
     "886abe65f4f14586861ef658db6d15a1": {
      "model_module": "@jupyter-widgets/controls",
      "model_module_version": "1.5.0",
      "model_name": "HTMLModel",
      "state": {
       "layout": "IPY_MODEL_86a8f5b5535e4fa79b838ab297fa42fb",
       "style": "IPY_MODEL_6fde55c504b34d1bbd215f3613f85f32",
       "value": " 17/289 [00:01&lt;00:25, 10.53it/s, acc=0.995, loss=0.00972]"
      }
     },
     "88731f7e08b9489489913511951ab166": {
      "model_module": "@jupyter-widgets/base",
      "model_module_version": "1.2.0",
      "model_name": "LayoutModel",
      "state": {}
     },
     "88ac433bd72440a8bccf88699ece85da": {
      "model_module": "@jupyter-widgets/controls",
      "model_module_version": "1.5.0",
      "model_name": "HBoxModel",
      "state": {
       "children": [
        "IPY_MODEL_1d40a13248a0491e98add675c2ba825e",
        "IPY_MODEL_966ef86cfd77443a9e0d883af75d50e8"
       ],
       "layout": "IPY_MODEL_45185fa7d5c54a259fcd826aaeef40e5"
      }
     },
     "88d62549df944e8a832282c4f3797308": {
      "model_module": "@jupyter-widgets/controls",
      "model_module_version": "1.5.0",
      "model_name": "HBoxModel",
      "state": {
       "children": [
        "IPY_MODEL_e20c07dc5bde4422aa66b8447437c808",
        "IPY_MODEL_c9e31c0aded54a5bba5f8a5629a0997f"
       ],
       "layout": "IPY_MODEL_f1617f14d0774e41acbe03ef5eddca11"
      }
     },
     "88e6b20309844c4fa5d42813ac36feb1": {
      "model_module": "@jupyter-widgets/controls",
      "model_module_version": "1.5.0",
      "model_name": "DescriptionStyleModel",
      "state": {
       "description_width": ""
      }
     },
     "88f88cdf310b48869d9dc1c29e7e96e3": {
      "model_module": "@jupyter-widgets/controls",
      "model_module_version": "1.5.0",
      "model_name": "ProgressStyleModel",
      "state": {
       "description_width": "initial"
      }
     },
     "88f9fa5bf4ae43ccaba76920a1d25244": {
      "model_module": "@jupyter-widgets/controls",
      "model_module_version": "1.5.0",
      "model_name": "DescriptionStyleModel",
      "state": {
       "description_width": ""
      }
     },
     "891d671291334adb90c9d3dbff518122": {
      "model_module": "@jupyter-widgets/controls",
      "model_module_version": "1.5.0",
      "model_name": "ProgressStyleModel",
      "state": {
       "description_width": "initial"
      }
     },
     "8927ab1a82534a378118502438fc9a2e": {
      "model_module": "@jupyter-widgets/base",
      "model_module_version": "1.2.0",
      "model_name": "LayoutModel",
      "state": {}
     },
     "896f735a63b342cca1e1ed13764fb50a": {
      "model_module": "@jupyter-widgets/base",
      "model_module_version": "1.2.0",
      "model_name": "LayoutModel",
      "state": {}
     },
     "897bf0112c994ddc9d4b452dcb99183a": {
      "model_module": "@jupyter-widgets/controls",
      "model_module_version": "1.5.0",
      "model_name": "HBoxModel",
      "state": {
       "children": [
        "IPY_MODEL_1db019730054417aae4d2ef8537d19ed",
        "IPY_MODEL_1a23fddc09204360981938c528d5c3eb"
       ],
       "layout": "IPY_MODEL_9ffadac38e604e0cbe277f5579c18eae"
      }
     },
     "8980b120dc1346c49b882b04adf8e9b0": {
      "model_module": "@jupyter-widgets/controls",
      "model_module_version": "1.5.0",
      "model_name": "HTMLModel",
      "state": {
       "layout": "IPY_MODEL_52260b6f28994dd0b14b260236a69312",
       "style": "IPY_MODEL_5c0034162bc24911b579dc15d793dae0",
       "value": " 289/289 [01:56&lt;00:00,  2.49it/s, acc=0.988, loss=0.016]"
      }
     },
     "8987e1fe4538446f8deef254e1214e48": {
      "model_module": "@jupyter-widgets/base",
      "model_module_version": "1.2.0",
      "model_name": "LayoutModel",
      "state": {}
     },
     "89b2f5b4b0164676a99543b90037d684": {
      "model_module": "@jupyter-widgets/base",
      "model_module_version": "1.2.0",
      "model_name": "LayoutModel",
      "state": {}
     },
     "89d1a95639f04e0989cd48f30f6f6ee3": {
      "model_module": "@jupyter-widgets/controls",
      "model_module_version": "1.5.0",
      "model_name": "DescriptionStyleModel",
      "state": {
       "description_width": ""
      }
     },
     "89d7b6ea3b11440481bc9d90e8906672": {
      "model_module": "@jupyter-widgets/base",
      "model_module_version": "1.2.0",
      "model_name": "LayoutModel",
      "state": {}
     },
     "89e2ecc4c6e04416bce181188acd0358": {
      "model_module": "@jupyter-widgets/controls",
      "model_module_version": "1.5.0",
      "model_name": "DescriptionStyleModel",
      "state": {
       "description_width": ""
      }
     },
     "89ebc25bc8864179b3d712b52d64e1b4": {
      "model_module": "@jupyter-widgets/base",
      "model_module_version": "1.2.0",
      "model_name": "LayoutModel",
      "state": {}
     },
     "8a0576faff784548a6339f35288e24c2": {
      "model_module": "@jupyter-widgets/controls",
      "model_module_version": "1.5.0",
      "model_name": "DescriptionStyleModel",
      "state": {
       "description_width": ""
      }
     },
     "8a0934a152cd418491ad9c08b05c0300": {
      "model_module": "@jupyter-widgets/controls",
      "model_module_version": "1.5.0",
      "model_name": "DescriptionStyleModel",
      "state": {
       "description_width": ""
      }
     },
     "8a50ef9ab3324685beea00a0ecdebbe5": {
      "model_module": "@jupyter-widgets/base",
      "model_module_version": "1.2.0",
      "model_name": "LayoutModel",
      "state": {}
     },
     "8aaf2fb3504d4ac985e3cb3da63e10a1": {
      "model_module": "@jupyter-widgets/base",
      "model_module_version": "1.2.0",
      "model_name": "LayoutModel",
      "state": {}
     },
     "8abc3497ccbb4a98bcce9a8e2229e6f5": {
      "model_module": "@jupyter-widgets/controls",
      "model_module_version": "1.5.0",
      "model_name": "DescriptionStyleModel",
      "state": {
       "description_width": ""
      }
     },
     "8b1db1016e95493583817f13409ace4d": {
      "model_module": "@jupyter-widgets/base",
      "model_module_version": "1.2.0",
      "model_name": "LayoutModel",
      "state": {}
     },
     "8b2f347f46e544eea17308087806219e": {
      "model_module": "@jupyter-widgets/base",
      "model_module_version": "1.2.0",
      "model_name": "LayoutModel",
      "state": {}
     },
     "8b6aaec1d4a045189ce623703b8aa10f": {
      "model_module": "@jupyter-widgets/controls",
      "model_module_version": "1.5.0",
      "model_name": "HBoxModel",
      "state": {
       "children": [
        "IPY_MODEL_ef119d562a76414d83a8a37df1b8c540",
        "IPY_MODEL_85a9decc642b488e8aef8ea61c51d3fb"
       ],
       "layout": "IPY_MODEL_4fc6ef9c196c41dd8fa61dc2b9b2942b"
      }
     },
     "8b9480a35ff84ead8cd4a680c8230871": {
      "model_module": "@jupyter-widgets/controls",
      "model_module_version": "1.5.0",
      "model_name": "DescriptionStyleModel",
      "state": {
       "description_width": ""
      }
     },
     "8c7cfb04f59f43289ef2c774bb769b3e": {
      "model_module": "@jupyter-widgets/base",
      "model_module_version": "1.2.0",
      "model_name": "LayoutModel",
      "state": {}
     },
     "8c8311223b934fbc8401ef65e4a2516d": {
      "model_module": "@jupyter-widgets/controls",
      "model_module_version": "1.5.0",
      "model_name": "IntProgressModel",
      "state": {
       "bar_style": "success",
       "description": "Epoch [5/40]: 100%",
       "layout": "IPY_MODEL_95941ff5611c45b18de6a82ff185dec1",
       "max": 255,
       "style": "IPY_MODEL_a8b3fb8feea54e3f951a232ac8c64f90",
       "value": 255
      }
     },
     "8ceb86909f864071878b489630629022": {
      "model_module": "@jupyter-widgets/base",
      "model_module_version": "1.2.0",
      "model_name": "LayoutModel",
      "state": {}
     },
     "8d102b81547943019971cd25d6d2cce1": {
      "model_module": "@jupyter-widgets/base",
      "model_module_version": "1.2.0",
      "model_name": "LayoutModel",
      "state": {}
     },
     "8d14a88318df4f8ead6be57097dd3636": {
      "model_module": "@jupyter-widgets/controls",
      "model_module_version": "1.5.0",
      "model_name": "DescriptionStyleModel",
      "state": {
       "description_width": ""
      }
     },
     "8d193e6b63a84a5a90eeb328287dd1bd": {
      "model_module": "@jupyter-widgets/base",
      "model_module_version": "1.2.0",
      "model_name": "LayoutModel",
      "state": {}
     },
     "8d1bfc0b33b6464a9aa86836a9c20411": {
      "model_module": "@jupyter-widgets/base",
      "model_module_version": "1.2.0",
      "model_name": "LayoutModel",
      "state": {}
     },
     "8d2fbfdf89a24ed8bd9eb14c17beb317": {
      "model_module": "@jupyter-widgets/base",
      "model_module_version": "1.2.0",
      "model_name": "LayoutModel",
      "state": {}
     },
     "8d3205c4bc0b4925a886a085dbe9acbd": {
      "model_module": "@jupyter-widgets/controls",
      "model_module_version": "1.5.0",
      "model_name": "ProgressStyleModel",
      "state": {
       "description_width": "initial"
      }
     },
     "8d3238d4c9fc4e5eaa5f038212bc7a3c": {
      "model_module": "@jupyter-widgets/base",
      "model_module_version": "1.2.0",
      "model_name": "LayoutModel",
      "state": {}
     },
     "8d6b487ae0864653b82fb41429051257": {
      "model_module": "@jupyter-widgets/controls",
      "model_module_version": "1.5.0",
      "model_name": "HBoxModel",
      "state": {
       "children": [
        "IPY_MODEL_c7fd7006f8c041af81b19abecd1a4ade",
        "IPY_MODEL_b9e2e75fbd1c463d9a84895b5e1413be"
       ],
       "layout": "IPY_MODEL_ea23dcc4d5804deca67ca0078bd08630"
      }
     },
     "8d6daec101b04ae68cb6445af3ab86e8": {
      "model_module": "@jupyter-widgets/controls",
      "model_module_version": "1.5.0",
      "model_name": "IntProgressModel",
      "state": {
       "bar_style": "success",
       "description": "Epoch [12/100]: 100%",
       "layout": "IPY_MODEL_b6505af386074e1c8d0e3d026695ad70",
       "max": 289,
       "style": "IPY_MODEL_4f7058c4e1394327bb7cc212c3866f9e",
       "value": 289
      }
     },
     "8dc28d0f483842b5afb52392d58ce1bc": {
      "model_module": "@jupyter-widgets/base",
      "model_module_version": "1.2.0",
      "model_name": "LayoutModel",
      "state": {}
     },
     "8dc430df94944970803f26e8c9ea590d": {
      "model_module": "@jupyter-widgets/controls",
      "model_module_version": "1.5.0",
      "model_name": "HTMLModel",
      "state": {
       "layout": "IPY_MODEL_e64ae95a946a4c81907f2468961a10ad",
       "style": "IPY_MODEL_29bc6fdd297f482890e81f0cc1c0d8dd",
       "value": " 255/255 [01:01&lt;00:00,  4.15it/s, acc=0.244, loss=1.63]"
      }
     },
     "8ddb0961e0e14e888bf2fc46b34e7ac9": {
      "model_module": "@jupyter-widgets/controls",
      "model_module_version": "1.5.0",
      "model_name": "DescriptionStyleModel",
      "state": {
       "description_width": ""
      }
     },
     "8e175161ccd440b58c58e128ec77c213": {
      "model_module": "@jupyter-widgets/base",
      "model_module_version": "1.2.0",
      "model_name": "LayoutModel",
      "state": {}
     },
     "8e1cf1cff23e47c2a3bc5487de4f2deb": {
      "model_module": "@jupyter-widgets/controls",
      "model_module_version": "1.5.0",
      "model_name": "HTMLModel",
      "state": {
       "layout": "IPY_MODEL_7b6f0597afd84c13ba60b3d60176ef57",
       "style": "IPY_MODEL_023b15911e5c46e3aace1f1267891046",
       "value": " 241/241 [01:46&lt;00:00,  2.27it/s, acc=0.983, loss=0.0366]"
      }
     },
     "8e2298e4989b4805b2439b91f5b0764e": {
      "model_module": "@jupyter-widgets/controls",
      "model_module_version": "1.5.0",
      "model_name": "HBoxModel",
      "state": {
       "children": [
        "IPY_MODEL_0fcd679425a54b2fa64cfd3944fd8f47",
        "IPY_MODEL_a8335ee55f0249298a4358f7793ab9ec"
       ],
       "layout": "IPY_MODEL_ca1119c0a2824568a8d0a297579ca4ac"
      }
     },
     "8e2ae89fdac047b293d7313e2887cccd": {
      "model_module": "@jupyter-widgets/controls",
      "model_module_version": "1.5.0",
      "model_name": "DescriptionStyleModel",
      "state": {
       "description_width": ""
      }
     },
     "8e78c1a5fbc141ac967af223c9b8602d": {
      "model_module": "@jupyter-widgets/controls",
      "model_module_version": "1.5.0",
      "model_name": "DescriptionStyleModel",
      "state": {
       "description_width": ""
      }
     },
     "8eadbf6ebcd046b9914aaff90fc790b1": {
      "model_module": "@jupyter-widgets/base",
      "model_module_version": "1.2.0",
      "model_name": "LayoutModel",
      "state": {}
     },
     "8ef58032d8224e078ba9ef03a47af123": {
      "model_module": "@jupyter-widgets/base",
      "model_module_version": "1.2.0",
      "model_name": "LayoutModel",
      "state": {}
     },
     "8f1a9ef1009348f89723083b2763bdd0": {
      "model_module": "@jupyter-widgets/base",
      "model_module_version": "1.2.0",
      "model_name": "LayoutModel",
      "state": {}
     },
     "8f4223b5cdb94116be119f95c71ec7e8": {
      "model_module": "@jupyter-widgets/base",
      "model_module_version": "1.2.0",
      "model_name": "LayoutModel",
      "state": {}
     },
     "8f61358fbb0947a2a4fd316e1b4feb8d": {
      "model_module": "@jupyter-widgets/controls",
      "model_module_version": "1.5.0",
      "model_name": "HBoxModel",
      "state": {
       "children": [
        "IPY_MODEL_dd71fd4a381d4b0b957797a3751894cd",
        "IPY_MODEL_eabcf9e90d964ab78a72fa6e314af695"
       ],
       "layout": "IPY_MODEL_a6e34f8b17784446b16cb6d8c998bcd1"
      }
     },
     "8f746500fca147f5a98c134e00ad833c": {
      "model_module": "@jupyter-widgets/base",
      "model_module_version": "1.2.0",
      "model_name": "LayoutModel",
      "state": {}
     },
     "8f8a587fe93048b5811fe175137f3999": {
      "model_module": "@jupyter-widgets/base",
      "model_module_version": "1.2.0",
      "model_name": "LayoutModel",
      "state": {}
     },
     "8fc25859a1284a9a8f06c8691a4bbab5": {
      "model_module": "@jupyter-widgets/base",
      "model_module_version": "1.2.0",
      "model_name": "LayoutModel",
      "state": {}
     },
     "9001d48fd46642d88348b9eb3ab44b8a": {
      "model_module": "@jupyter-widgets/controls",
      "model_module_version": "1.5.0",
      "model_name": "DescriptionStyleModel",
      "state": {
       "description_width": ""
      }
     },
     "901e577894904f9e8779ac36979e5174": {
      "model_module": "@jupyter-widgets/base",
      "model_module_version": "1.2.0",
      "model_name": "LayoutModel",
      "state": {}
     },
     "90471ce768774842bd005045e8195e53": {
      "model_module": "@jupyter-widgets/controls",
      "model_module_version": "1.5.0",
      "model_name": "ProgressStyleModel",
      "state": {
       "description_width": "initial"
      }
     },
     "908119853ebe4a6f9fa497168389c0ad": {
      "model_module": "@jupyter-widgets/base",
      "model_module_version": "1.2.0",
      "model_name": "LayoutModel",
      "state": {}
     },
     "90a67dc093334a638399dc2188f3ab94": {
      "model_module": "@jupyter-widgets/controls",
      "model_module_version": "1.5.0",
      "model_name": "HBoxModel",
      "state": {
       "children": [
        "IPY_MODEL_c6cf9bb63f9a4ddab2feddc77d67c16c",
        "IPY_MODEL_ea4901709b63493ba02beb8d0a435cd2"
       ],
       "layout": "IPY_MODEL_8657be0399e44926bc71ce62c837131f"
      }
     },
     "91280ba9e6384b0ea158e2741486bd76": {
      "model_module": "@jupyter-widgets/controls",
      "model_module_version": "1.5.0",
      "model_name": "HTMLModel",
      "state": {
       "layout": "IPY_MODEL_28f1ddfeba134674bdbc35f8e27da8fc",
       "style": "IPY_MODEL_0ecd25c53d8749ffb941dbc0cef4dc17",
       "value": " 289/289 [00:57&lt;00:00,  5.00it/s, acc=0.277, loss=1.55]"
      }
     },
     "919958ac46df458ab187e0b67661cf29": {
      "model_module": "@jupyter-widgets/controls",
      "model_module_version": "1.5.0",
      "model_name": "ProgressStyleModel",
      "state": {
       "description_width": "initial"
      }
     },
     "91b2f0fc62054fc295c02c4d7bacefcc": {
      "model_module": "@jupyter-widgets/base",
      "model_module_version": "1.2.0",
      "model_name": "LayoutModel",
      "state": {}
     },
     "91c7c653680347808073c0d9dca86779": {
      "model_module": "@jupyter-widgets/base",
      "model_module_version": "1.2.0",
      "model_name": "LayoutModel",
      "state": {}
     },
     "91dc3d455d5a456f9532504c978fb2ce": {
      "model_module": "@jupyter-widgets/base",
      "model_module_version": "1.2.0",
      "model_name": "LayoutModel",
      "state": {}
     },
     "91f8fe604bb141099f88d1e128366abb": {
      "model_module": "@jupyter-widgets/base",
      "model_module_version": "1.2.0",
      "model_name": "LayoutModel",
      "state": {}
     },
     "920328be421f4152afe6c94734ce395f": {
      "model_module": "@jupyter-widgets/base",
      "model_module_version": "1.2.0",
      "model_name": "LayoutModel",
      "state": {}
     },
     "9210328016a64b27b06ee791873a0064": {
      "model_module": "@jupyter-widgets/base",
      "model_module_version": "1.2.0",
      "model_name": "LayoutModel",
      "state": {}
     },
     "9225545fb8cc44029573b21c294217b2": {
      "model_module": "@jupyter-widgets/controls",
      "model_module_version": "1.5.0",
      "model_name": "HBoxModel",
      "state": {
       "children": [
        "IPY_MODEL_d0224dafc36c4fd99b98998dbadb4dce",
        "IPY_MODEL_5692af56fb8b43dda25e521a21595ed1"
       ],
       "layout": "IPY_MODEL_613cb5941f554154914fffdbad2025dd"
      }
     },
     "925f115dc3cd4082bf35cca155826254": {
      "model_module": "@jupyter-widgets/controls",
      "model_module_version": "1.5.0",
      "model_name": "ProgressStyleModel",
      "state": {
       "description_width": "initial"
      }
     },
     "926eb4661eba42ac944e12d1c75e57e2": {
      "model_module": "@jupyter-widgets/base",
      "model_module_version": "1.2.0",
      "model_name": "LayoutModel",
      "state": {}
     },
     "9272b3fc4f9841809c1bf46118ed2255": {
      "model_module": "@jupyter-widgets/controls",
      "model_module_version": "1.5.0",
      "model_name": "DescriptionStyleModel",
      "state": {
       "description_width": ""
      }
     },
     "92c96a718f98477d917aea03130dd108": {
      "model_module": "@jupyter-widgets/controls",
      "model_module_version": "1.5.0",
      "model_name": "ProgressStyleModel",
      "state": {
       "description_width": "initial"
      }
     },
     "92dd2464061a42e8a813142c532cc237": {
      "model_module": "@jupyter-widgets/base",
      "model_module_version": "1.2.0",
      "model_name": "LayoutModel",
      "state": {}
     },
     "93597bf23cdb43b3890b942a502d9586": {
      "model_module": "@jupyter-widgets/controls",
      "model_module_version": "1.5.0",
      "model_name": "IntProgressModel",
      "state": {
       "bar_style": "success",
       "description": "Epoch [18/40]: 100%",
       "layout": "IPY_MODEL_c8ca327c6ebb49ad825d15e1f9afb9ce",
       "max": 289,
       "style": "IPY_MODEL_5e5e1d1cffd94ff6bb7144902c2a2a7c",
       "value": 289
      }
     },
     "93708e54fc7949ba9f1324a84dbe50d8": {
      "model_module": "@jupyter-widgets/controls",
      "model_module_version": "1.5.0",
      "model_name": "DescriptionStyleModel",
      "state": {
       "description_width": ""
      }
     },
     "937a7c862e39410b936ecb06db15ae29": {
      "model_module": "@jupyter-widgets/controls",
      "model_module_version": "1.5.0",
      "model_name": "ProgressStyleModel",
      "state": {
       "description_width": "initial"
      }
     },
     "938782f1142f40c4b3d93854ef175a8b": {
      "model_module": "@jupyter-widgets/controls",
      "model_module_version": "1.5.0",
      "model_name": "HTMLModel",
      "state": {
       "layout": "IPY_MODEL_a4bf6b8c60fd444fae1ef07a7c57f688",
       "style": "IPY_MODEL_be54f7fbddb34dd29cb24bb104c893d6",
       "value": " 283/283 [01:28&lt;00:00,  3.19it/s, acc=0.99, loss=0.00298]"
      }
     },
     "938ea82d4a9a4bd692783c0931394158": {
      "model_module": "@jupyter-widgets/controls",
      "model_module_version": "1.5.0",
      "model_name": "HBoxModel",
      "state": {
       "children": [
        "IPY_MODEL_040df3dcf81643b384c2c981a1a2801a",
        "IPY_MODEL_5946e4256298479ab978156be9dc07f0"
       ],
       "layout": "IPY_MODEL_8fc25859a1284a9a8f06c8691a4bbab5"
      }
     },
     "93c1167e11b345f78b05ea09eef16280": {
      "model_module": "@jupyter-widgets/controls",
      "model_module_version": "1.5.0",
      "model_name": "HTMLModel",
      "state": {
       "layout": "IPY_MODEL_b6d97cce0f40459c9375e8807b3bfb39",
       "style": "IPY_MODEL_1b52646d2209424880fb083082f7a3c6"
      }
     },
     "93caf87636934669a70f53267ff1ede1": {
      "model_module": "@jupyter-widgets/base",
      "model_module_version": "1.2.0",
      "model_name": "LayoutModel",
      "state": {}
     },
     "93e54088ff814e8e92cd8e7bf475ccbf": {
      "model_module": "@jupyter-widgets/controls",
      "model_module_version": "1.5.0",
      "model_name": "ProgressStyleModel",
      "state": {
       "description_width": "initial"
      }
     },
     "93f59162d8f8450fb2b10324537abaa5": {
      "model_module": "@jupyter-widgets/controls",
      "model_module_version": "1.5.0",
      "model_name": "HBoxModel",
      "state": {
       "children": [
        "IPY_MODEL_af5485387b294b61a4bb57428f62dc4e",
        "IPY_MODEL_04cd8caa5ba148ba9cc725d61e18b97d"
       ],
       "layout": "IPY_MODEL_69ad7ce1263d47ee862144e50337184e"
      }
     },
     "94079b44c78d4312a9370fcd8a01f7d2": {
      "model_module": "@jupyter-widgets/base",
      "model_module_version": "1.2.0",
      "model_name": "LayoutModel",
      "state": {}
     },
     "940c07e845584a1c8dcb3e9f52152e9e": {
      "model_module": "@jupyter-widgets/base",
      "model_module_version": "1.2.0",
      "model_name": "LayoutModel",
      "state": {}
     },
     "9440b09b08dd4ee5a6c4b129543c816a": {
      "model_module": "@jupyter-widgets/controls",
      "model_module_version": "1.5.0",
      "model_name": "IntProgressModel",
      "state": {
       "bar_style": "success",
       "description": "Epoch [38/40]: 100%",
       "layout": "IPY_MODEL_9f272676f92745bf948a0fe1de0506e5",
       "max": 255,
       "style": "IPY_MODEL_af8681a541854eec8dfeda5085924ff5",
       "value": 255
      }
     },
     "9447d1cb8cc64f99b22cd2d935985979": {
      "model_module": "@jupyter-widgets/base",
      "model_module_version": "1.2.0",
      "model_name": "LayoutModel",
      "state": {}
     },
     "94491394e11c4e96b6bfc2970ed5fd3f": {
      "model_module": "@jupyter-widgets/controls",
      "model_module_version": "1.5.0",
      "model_name": "DescriptionStyleModel",
      "state": {
       "description_width": ""
      }
     },
     "9467af6b24284edb8276df384e3473cf": {
      "model_module": "@jupyter-widgets/controls",
      "model_module_version": "1.5.0",
      "model_name": "DescriptionStyleModel",
      "state": {
       "description_width": ""
      }
     },
     "949a349410fd4fe19cf472f08222600b": {
      "model_module": "@jupyter-widgets/base",
      "model_module_version": "1.2.0",
      "model_name": "LayoutModel",
      "state": {}
     },
     "94c2e61aa49342d882f91d9cc44c0ac8": {
      "model_module": "@jupyter-widgets/base",
      "model_module_version": "1.2.0",
      "model_name": "LayoutModel",
      "state": {}
     },
     "94c6b552d1da441c9dd5fd1bce24baa6": {
      "model_module": "@jupyter-widgets/base",
      "model_module_version": "1.2.0",
      "model_name": "LayoutModel",
      "state": {}
     },
     "954544d405c24f0189e32e8addddbab5": {
      "model_module": "@jupyter-widgets/controls",
      "model_module_version": "1.5.0",
      "model_name": "HBoxModel",
      "state": {
       "children": [
        "IPY_MODEL_50cc1ee22b194812ae80c91c3f5bbbaa",
        "IPY_MODEL_5074cbdda23e48f093229e304f86997a"
       ],
       "layout": "IPY_MODEL_1827d8ef907c41c7ae62f9b86c684fc6"
      }
     },
     "956d920263e7427ba0d6f9a12625f76a": {
      "model_module": "@jupyter-widgets/base",
      "model_module_version": "1.2.0",
      "model_name": "LayoutModel",
      "state": {}
     },
     "95941ff5611c45b18de6a82ff185dec1": {
      "model_module": "@jupyter-widgets/base",
      "model_module_version": "1.2.0",
      "model_name": "LayoutModel",
      "state": {}
     },
     "95999ff88e364d068f0ec4a84bc30c19": {
      "model_module": "@jupyter-widgets/controls",
      "model_module_version": "1.5.0",
      "model_name": "ProgressStyleModel",
      "state": {
       "description_width": "initial"
      }
     },
     "95bd0c67f54544b48abe5e252b67f734": {
      "model_module": "@jupyter-widgets/base",
      "model_module_version": "1.2.0",
      "model_name": "LayoutModel",
      "state": {}
     },
     "95c6c14b4ab44bdc8df367bca08c610e": {
      "model_module": "@jupyter-widgets/base",
      "model_module_version": "1.2.0",
      "model_name": "LayoutModel",
      "state": {}
     },
     "96026b31f5ba4d38bf3567ebd682d295": {
      "model_module": "@jupyter-widgets/controls",
      "model_module_version": "1.5.0",
      "model_name": "HBoxModel",
      "state": {
       "children": [
        "IPY_MODEL_ca6b3348862a4fdca574642d73c6fde1",
        "IPY_MODEL_31dd30cbf17442d084f62727b39f165a"
       ],
       "layout": "IPY_MODEL_4da73d336f0d422eaf331a2ddc92c089"
      }
     },
     "96044e4f54f24f219de3dfe62976c708": {
      "model_module": "@jupyter-widgets/controls",
      "model_module_version": "1.5.0",
      "model_name": "HTMLModel",
      "state": {
       "layout": "IPY_MODEL_49571ef29aee44468860407a905fb835",
       "style": "IPY_MODEL_406fb1cc8378406486752fcdb0f9f60a",
       "value": " 289/289 [01:03&lt;00:00,  4.55it/s, acc=0.277, loss=1.59]"
      }
     },
     "9612e2e11cda4057b15a68c522357759": {
      "model_module": "@jupyter-widgets/controls",
      "model_module_version": "1.5.0",
      "model_name": "ProgressStyleModel",
      "state": {
       "description_width": "initial"
      }
     },
     "964a6bbf9ee547278305e9048c188219": {
      "model_module": "@jupyter-widgets/controls",
      "model_module_version": "1.5.0",
      "model_name": "HTMLModel",
      "state": {
       "layout": "IPY_MODEL_f89af2f232ac46b1a1286c1a89ad84c1",
       "style": "IPY_MODEL_5f8dbca8addc4ff3996b1a10bbab064e",
       "value": " 255/255 [00:33&lt;00:00,  7.61it/s, acc=0.98, loss=0.112]"
      }
     },
     "96656f3e3c4548698a812086324ecd45": {
      "model_module": "@jupyter-widgets/base",
      "model_module_version": "1.2.0",
      "model_name": "LayoutModel",
      "state": {}
     },
     "96686eacfdb7492e8d08785c709a06d3": {
      "model_module": "@jupyter-widgets/controls",
      "model_module_version": "1.5.0",
      "model_name": "DescriptionStyleModel",
      "state": {
       "description_width": ""
      }
     },
     "966bde10c0f54165969d1b552780e9df": {
      "model_module": "@jupyter-widgets/base",
      "model_module_version": "1.2.0",
      "model_name": "LayoutModel",
      "state": {}
     },
     "966ef86cfd77443a9e0d883af75d50e8": {
      "model_module": "@jupyter-widgets/controls",
      "model_module_version": "1.5.0",
      "model_name": "HTMLModel",
      "state": {
       "layout": "IPY_MODEL_dca05a24bb1345a2a446fe0d59a52d75",
       "style": "IPY_MODEL_2a0576c3c70e4289ab142d1d530c818a",
       "value": " 338/338 [00:43&lt;00:00,  7.75it/s, acc=0.972, loss=0.111]"
      }
     },
     "967555a8236d47508f5558867f512673": {
      "model_module": "@jupyter-widgets/base",
      "model_module_version": "1.2.0",
      "model_name": "LayoutModel",
      "state": {}
     },
     "96847728e09e4f1eafb8e6d1585bf17d": {
      "model_module": "@jupyter-widgets/base",
      "model_module_version": "1.2.0",
      "model_name": "LayoutModel",
      "state": {}
     },
     "96931e932cc641ceaf22cd74ac20786b": {
      "model_module": "@jupyter-widgets/base",
      "model_module_version": "1.2.0",
      "model_name": "LayoutModel",
      "state": {}
     },
     "96b040e1fa1e4d4db74e99604ba1ad07": {
      "model_module": "@jupyter-widgets/controls",
      "model_module_version": "1.5.0",
      "model_name": "ProgressStyleModel",
      "state": {
       "description_width": "initial"
      }
     },
     "96c3a093040d427ea21cc7cc8ef2e03f": {
      "model_module": "@jupyter-widgets/base",
      "model_module_version": "1.2.0",
      "model_name": "LayoutModel",
      "state": {}
     },
     "96e7d4cfd6bb4ad0b11726d8e9d176b4": {
      "model_module": "@jupyter-widgets/base",
      "model_module_version": "1.2.0",
      "model_name": "LayoutModel",
      "state": {}
     },
     "96f84d6e84dd45cebce21605dcda610c": {
      "model_module": "@jupyter-widgets/controls",
      "model_module_version": "1.5.0",
      "model_name": "DescriptionStyleModel",
      "state": {
       "description_width": ""
      }
     },
     "96fd7e15133a427788407b102c2a3319": {
      "model_module": "@jupyter-widgets/base",
      "model_module_version": "1.2.0",
      "model_name": "LayoutModel",
      "state": {}
     },
     "970aa45e49a74133937f5c8b01a0ac06": {
      "model_module": "@jupyter-widgets/base",
      "model_module_version": "1.2.0",
      "model_name": "LayoutModel",
      "state": {}
     },
     "970ae2e7c1b04bc48cbbf3cb66a750c1": {
      "model_module": "@jupyter-widgets/base",
      "model_module_version": "1.2.0",
      "model_name": "LayoutModel",
      "state": {}
     },
     "97191647494c459eb3c597321e0827a5": {
      "model_module": "@jupyter-widgets/base",
      "model_module_version": "1.2.0",
      "model_name": "LayoutModel",
      "state": {}
     },
     "9727c8794c9a420188aa00fb855d809a": {
      "model_module": "@jupyter-widgets/base",
      "model_module_version": "1.2.0",
      "model_name": "LayoutModel",
      "state": {}
     },
     "978fd3ef91ce403b9996335d380e1c7e": {
      "model_module": "@jupyter-widgets/controls",
      "model_module_version": "1.5.0",
      "model_name": "HBoxModel",
      "state": {
       "children": [
        "IPY_MODEL_e05e3e6440694f0f8dc45c411cc89ad1",
        "IPY_MODEL_4383d555a9e64c76a8eab1a2340bee2c"
       ],
       "layout": "IPY_MODEL_838f1f47252546fc93028b18b167e9df"
      }
     },
     "9803a77c42a1416c8d11f8070b8d96dd": {
      "model_module": "@jupyter-widgets/controls",
      "model_module_version": "1.5.0",
      "model_name": "DescriptionStyleModel",
      "state": {
       "description_width": ""
      }
     },
     "98253b86ad0741fd839a7c82b3010ebf": {
      "model_module": "@jupyter-widgets/controls",
      "model_module_version": "1.5.0",
      "model_name": "IntProgressModel",
      "state": {
       "bar_style": "success",
       "description": "Epoch [8/40]: 100%",
       "layout": "IPY_MODEL_7a745bd7c0d447e9af5c7cea78e7c3d1",
       "max": 255,
       "style": "IPY_MODEL_96b040e1fa1e4d4db74e99604ba1ad07",
       "value": 255
      }
     },
     "983d37eb947b4aa8a4436d490ab8ced5": {
      "model_module": "@jupyter-widgets/controls",
      "model_module_version": "1.5.0",
      "model_name": "HBoxModel",
      "state": {
       "children": [
        "IPY_MODEL_0c15679bf8c14ee29aefb841da6ddc86",
        "IPY_MODEL_5b4c09c98b5b45dd9b64edda2d4cf8ec"
       ],
       "layout": "IPY_MODEL_c5fe3b76bfcf47b39f6cccf4f22b9454"
      }
     },
     "9859e2b5638e42189a9d06a36ebc6cd4": {
      "model_module": "@jupyter-widgets/base",
      "model_module_version": "1.2.0",
      "model_name": "LayoutModel",
      "state": {}
     },
     "9875cd772c0e46818d76e2c42865e283": {
      "model_module": "@jupyter-widgets/controls",
      "model_module_version": "1.5.0",
      "model_name": "ProgressStyleModel",
      "state": {
       "description_width": "initial"
      }
     },
     "98cc207c5f0840359335d1c0255e1d28": {
      "model_module": "@jupyter-widgets/controls",
      "model_module_version": "1.5.0",
      "model_name": "DescriptionStyleModel",
      "state": {
       "description_width": ""
      }
     },
     "98dbde3f16a44d2bbafc785855cd8f8d": {
      "model_module": "@jupyter-widgets/controls",
      "model_module_version": "1.5.0",
      "model_name": "DescriptionStyleModel",
      "state": {
       "description_width": ""
      }
     },
     "98e19d87dc4b4ae49241ca801e1e3285": {
      "model_module": "@jupyter-widgets/controls",
      "model_module_version": "1.5.0",
      "model_name": "IntProgressModel",
      "state": {
       "bar_style": "success",
       "description": "Epoch [34/40]: 100%",
       "layout": "IPY_MODEL_d1ca61b648b94e5aba4015abc39777dd",
       "max": 241,
       "style": "IPY_MODEL_cd4942a1b5b942f3b67f97436e82dced",
       "value": 241
      }
     },
     "98f4af748f9c421cb307d62f72f732f9": {
      "model_module": "@jupyter-widgets/controls",
      "model_module_version": "1.5.0",
      "model_name": "DescriptionStyleModel",
      "state": {
       "description_width": ""
      }
     },
     "991412fcaf554a608bc5ea065a944e31": {
      "model_module": "@jupyter-widgets/controls",
      "model_module_version": "1.5.0",
      "model_name": "ProgressStyleModel",
      "state": {
       "description_width": "initial"
      }
     },
     "991b088af20a4752a94d65c07456b954": {
      "model_module": "@jupyter-widgets/base",
      "model_module_version": "1.2.0",
      "model_name": "LayoutModel",
      "state": {}
     },
     "996c1808acac43c482dd0ebb815b03a4": {
      "model_module": "@jupyter-widgets/controls",
      "model_module_version": "1.5.0",
      "model_name": "ProgressStyleModel",
      "state": {
       "description_width": "initial"
      }
     },
     "99b90bea2fc646efbcb3af7c90e1db0f": {
      "model_module": "@jupyter-widgets/controls",
      "model_module_version": "1.5.0",
      "model_name": "HBoxModel",
      "state": {
       "children": [
        "IPY_MODEL_b744d54f68254b96ad450214d4b3f518",
        "IPY_MODEL_6fb7794d94524746816290a2493fc8f6"
       ],
       "layout": "IPY_MODEL_22c2962c121b4521acf383c1a7e19eb4"
      }
     },
     "9a0248132866457780ac61805c693121": {
      "model_module": "@jupyter-widgets/controls",
      "model_module_version": "1.5.0",
      "model_name": "HTMLModel",
      "state": {
       "layout": "IPY_MODEL_e1f6e09ba93f478a9763a2f309038587",
       "style": "IPY_MODEL_5836a9e09f5d480fbb1c9ccd222d12b5",
       "value": " 280/280 [01:27&lt;00:00,  3.19it/s, acc=0.991, loss=0.00687]"
      }
     },
     "9a1dfbf8f55a40488fe6cf091c97a34c": {
      "model_module": "@jupyter-widgets/controls",
      "model_module_version": "1.5.0",
      "model_name": "HTMLModel",
      "state": {
       "layout": "IPY_MODEL_e69ee90de4a441a99b25e4361f626eae",
       "style": "IPY_MODEL_30af894d181e4320a823cd57264f3bb2",
       "value": " 338/338 [01:44&lt;00:00,  3.24it/s, acc=0.981, loss=0.0612]"
      }
     },
     "9a35ae1a716540229e22418b5737d3fc": {
      "model_module": "@jupyter-widgets/controls",
      "model_module_version": "1.5.0",
      "model_name": "DescriptionStyleModel",
      "state": {
       "description_width": ""
      }
     },
     "9a3cd5dd51444cb994e3e41f05be0c85": {
      "model_module": "@jupyter-widgets/controls",
      "model_module_version": "1.5.0",
      "model_name": "ProgressStyleModel",
      "state": {
       "description_width": "initial"
      }
     },
     "9a3d8656c4bf4c178117a3d2444654de": {
      "model_module": "@jupyter-widgets/controls",
      "model_module_version": "1.5.0",
      "model_name": "DescriptionStyleModel",
      "state": {
       "description_width": ""
      }
     },
     "9a5731f1644c4ae891d7ed13539ebc80": {
      "model_module": "@jupyter-widgets/controls",
      "model_module_version": "1.5.0",
      "model_name": "HBoxModel",
      "state": {
       "children": [
        "IPY_MODEL_a78fe492d52d477484f5658a72d41439",
        "IPY_MODEL_8980b120dc1346c49b882b04adf8e9b0"
       ],
       "layout": "IPY_MODEL_5dc0b15550734f149992becd5d71ba30"
      }
     },
     "9a670e1c85aa411cbaad46b081f5c187": {
      "model_module": "@jupyter-widgets/controls",
      "model_module_version": "1.5.0",
      "model_name": "IntProgressModel",
      "state": {
       "bar_style": "success",
       "description": "Epoch [20/40]: 100%",
       "layout": "IPY_MODEL_bb7551b8705441aba71df8af28a269fe",
       "max": 241,
       "style": "IPY_MODEL_a7632ea1532b4de883256b840349bcde",
       "value": 241
      }
     },
     "9a6ce239335d4992818f72f41b4a9da3": {
      "model_module": "@jupyter-widgets/base",
      "model_module_version": "1.2.0",
      "model_name": "LayoutModel",
      "state": {}
     },
     "9a79a704403b464787ff36139447289a": {
      "model_module": "@jupyter-widgets/controls",
      "model_module_version": "1.5.0",
      "model_name": "ProgressStyleModel",
      "state": {
       "description_width": "initial"
      }
     },
     "9a7dcd2cb4fb40f3902f6cc6d1a4ed8a": {
      "model_module": "@jupyter-widgets/base",
      "model_module_version": "1.2.0",
      "model_name": "LayoutModel",
      "state": {}
     },
     "9ac06aa27fd0434bbc7153d53e48dc7a": {
      "model_module": "@jupyter-widgets/controls",
      "model_module_version": "1.5.0",
      "model_name": "HTMLModel",
      "state": {
       "layout": "IPY_MODEL_bc3e8770d7e745a1a3c4067b7a015c6d",
       "style": "IPY_MODEL_38b5d168cd2941069e8e811b2e7560dd",
       "value": " 289/289 [00:34&lt;00:00,  8.42it/s, acc=0.989, loss=0.00387]"
      }
     },
     "9acc961905e94754868195c7ea5206a9": {
      "model_module": "@jupyter-widgets/controls",
      "model_module_version": "1.5.0",
      "model_name": "ProgressStyleModel",
      "state": {
       "description_width": "initial"
      }
     },
     "9ae2a6a8b4004e4b850fb297bb40ea2d": {
      "model_module": "@jupyter-widgets/base",
      "model_module_version": "1.2.0",
      "model_name": "LayoutModel",
      "state": {}
     },
     "9b4465799dc941c7a97f01dd700a7f93": {
      "model_module": "@jupyter-widgets/base",
      "model_module_version": "1.2.0",
      "model_name": "LayoutModel",
      "state": {}
     },
     "9b4a0d1b16bf40629eed6c386de177e9": {
      "model_module": "@jupyter-widgets/base",
      "model_module_version": "1.2.0",
      "model_name": "LayoutModel",
      "state": {}
     },
     "9b4dedf95f3d425a88fc2638e9271e36": {
      "model_module": "@jupyter-widgets/controls",
      "model_module_version": "1.5.0",
      "model_name": "ProgressStyleModel",
      "state": {
       "description_width": "initial"
      }
     },
     "9b71f9524522452db009f9d8b935fdaa": {
      "model_module": "@jupyter-widgets/base",
      "model_module_version": "1.2.0",
      "model_name": "LayoutModel",
      "state": {}
     },
     "9b7450dd63d84450a2d7a29b078784be": {
      "model_module": "@jupyter-widgets/controls",
      "model_module_version": "1.5.0",
      "model_name": "HBoxModel",
      "state": {
       "children": [
        "IPY_MODEL_b46761122bb1425a93883e1a008e8a76",
        "IPY_MODEL_15e1666d81954fa09b8884de10a44272"
       ],
       "layout": "IPY_MODEL_544657f096834f1a9d1b67d29e14fce0"
      }
     },
     "9b819b79afb5496bbab579880d7064b8": {
      "model_module": "@jupyter-widgets/controls",
      "model_module_version": "1.5.0",
      "model_name": "DescriptionStyleModel",
      "state": {
       "description_width": ""
      }
     },
     "9bb7309900cd4c93a31f3c092c76467a": {
      "model_module": "@jupyter-widgets/base",
      "model_module_version": "1.2.0",
      "model_name": "LayoutModel",
      "state": {}
     },
     "9bcfec469f5e43a1b16226cfac4362a7": {
      "model_module": "@jupyter-widgets/controls",
      "model_module_version": "1.5.0",
      "model_name": "DescriptionStyleModel",
      "state": {
       "description_width": ""
      }
     },
     "9bf1272a7fa9404a81cae6da8b4da3f2": {
      "model_module": "@jupyter-widgets/controls",
      "model_module_version": "1.5.0",
      "model_name": "ProgressStyleModel",
      "state": {
       "description_width": "initial"
      }
     },
     "9c11099f4285487eb1eb77a665d220ec": {
      "model_module": "@jupyter-widgets/base",
      "model_module_version": "1.2.0",
      "model_name": "LayoutModel",
      "state": {}
     },
     "9c217ff4b1284a98a7d4a6601e69f63e": {
      "model_module": "@jupyter-widgets/controls",
      "model_module_version": "1.5.0",
      "model_name": "HBoxModel",
      "state": {
       "children": [
        "IPY_MODEL_845143ba38f346f8885b4fc92bfd281b",
        "IPY_MODEL_c53cb2f2b2d0496299ccaf8e410b6005"
       ],
       "layout": "IPY_MODEL_23b061dc8f10496cb31dc0eb2b54feb5"
      }
     },
     "9c25c1e64df342c582543da578b06306": {
      "model_module": "@jupyter-widgets/controls",
      "model_module_version": "1.5.0",
      "model_name": "HTMLModel",
      "state": {
       "layout": "IPY_MODEL_b75f36a9542a461694b61b025d5436f2",
       "style": "IPY_MODEL_7edbf81e139f4253aed77177e783123b",
       "value": " 289/289 [00:51&lt;00:00,  5.62it/s, acc=0.991, loss=0.0119]"
      }
     },
     "9c33c63a558d4421829efdf25c440514": {
      "model_module": "@jupyter-widgets/controls",
      "model_module_version": "1.5.0",
      "model_name": "ProgressStyleModel",
      "state": {
       "description_width": "initial"
      }
     },
     "9c47c35d107e44a3967a4a4b92899f46": {
      "model_module": "@jupyter-widgets/controls",
      "model_module_version": "1.5.0",
      "model_name": "DescriptionStyleModel",
      "state": {
       "description_width": ""
      }
     },
     "9c66f081ec9148dfb55d2c198d5fe1b1": {
      "model_module": "@jupyter-widgets/controls",
      "model_module_version": "1.5.0",
      "model_name": "IntProgressModel",
      "state": {
       "bar_style": "success",
       "description": "Epoch [25/40]: 100%",
       "layout": "IPY_MODEL_c459e411da5a49c7a587fd7fae30afc4",
       "max": 361,
       "style": "IPY_MODEL_ab9d9b19b7844f0882f9b4cda6abd5f2",
       "value": 361
      }
     },
     "9c801c74575e4cd3b52ca10b385f4a35": {
      "model_module": "@jupyter-widgets/controls",
      "model_module_version": "1.5.0",
      "model_name": "HBoxModel",
      "state": {
       "children": [
        "IPY_MODEL_a7c30ed5a5ad4307a6020bc5f6fc8efd",
        "IPY_MODEL_eebcf5b943d949d293e8a32786096ae9"
       ],
       "layout": "IPY_MODEL_87a44ffbf295444f9680446def123dd2"
      }
     },
     "9c80d616c77348ce9092ab11020ef883": {
      "model_module": "@jupyter-widgets/base",
      "model_module_version": "1.2.0",
      "model_name": "LayoutModel",
      "state": {}
     },
     "9c922024560b4fc3910791dbc76cc46d": {
      "model_module": "@jupyter-widgets/base",
      "model_module_version": "1.2.0",
      "model_name": "LayoutModel",
      "state": {}
     },
     "9cf63f65978f409095aff82bc8090c4e": {
      "model_module": "@jupyter-widgets/base",
      "model_module_version": "1.2.0",
      "model_name": "LayoutModel",
      "state": {}
     },
     "9d2b6dd133d443ac8c84f4f780c10265": {
      "model_module": "@jupyter-widgets/base",
      "model_module_version": "1.2.0",
      "model_name": "LayoutModel",
      "state": {}
     },
     "9d6c3bfa457b41189ea5970304e6ae50": {
      "model_module": "@jupyter-widgets/base",
      "model_module_version": "1.2.0",
      "model_name": "LayoutModel",
      "state": {}
     },
     "9d845109b3214967af9f122be72208f1": {
      "model_module": "@jupyter-widgets/base",
      "model_module_version": "1.2.0",
      "model_name": "LayoutModel",
      "state": {}
     },
     "9d9a2d9358aa497988829b2decec73f5": {
      "model_module": "@jupyter-widgets/base",
      "model_module_version": "1.2.0",
      "model_name": "LayoutModel",
      "state": {}
     },
     "9dca3c1118654354a0e8c53bd2be5070": {
      "model_module": "@jupyter-widgets/base",
      "model_module_version": "1.2.0",
      "model_name": "LayoutModel",
      "state": {}
     },
     "9dcdedffce0147a1a6191cc357827027": {
      "model_module": "@jupyter-widgets/controls",
      "model_module_version": "1.5.0",
      "model_name": "ProgressStyleModel",
      "state": {
       "description_width": "initial"
      }
     },
     "9de26acfe6e04b5292491f60c8743194": {
      "model_module": "@jupyter-widgets/controls",
      "model_module_version": "1.5.0",
      "model_name": "ProgressStyleModel",
      "state": {
       "description_width": "initial"
      }
     },
     "9e04d56185894edc8ed8895f4fb0b314": {
      "model_module": "@jupyter-widgets/base",
      "model_module_version": "1.2.0",
      "model_name": "LayoutModel",
      "state": {}
     },
     "9e45670537064dd78a90cf92598f1b78": {
      "model_module": "@jupyter-widgets/controls",
      "model_module_version": "1.5.0",
      "model_name": "HBoxModel",
      "state": {
       "children": [
        "IPY_MODEL_1d9f6dc4c99d44778a48c1fc68c85e93",
        "IPY_MODEL_09fc6caf334140a3a4f4d6e7cfd2f4f6"
       ],
       "layout": "IPY_MODEL_0f476c475f144347913f072eb1b370c2"
      }
     },
     "9e5c812e652647fd9d3b2157bd02da85": {
      "model_module": "@jupyter-widgets/controls",
      "model_module_version": "1.5.0",
      "model_name": "HTMLModel",
      "state": {
       "layout": "IPY_MODEL_a1006c8c07a943b09d4b16af9af54c8e",
       "style": "IPY_MODEL_394762be53f94725ad6e5a789ae33655",
       "value": " 338/338 [00:38&lt;00:00,  8.67it/s, acc=0.983, loss=0.0334]"
      }
     },
     "9e6ae556f1254e9faf0efc7782f9ef97": {
      "model_module": "@jupyter-widgets/controls",
      "model_module_version": "1.5.0",
      "model_name": "HBoxModel",
      "state": {
       "children": [
        "IPY_MODEL_5ce417ef67b648249d00459f74a0f64b",
        "IPY_MODEL_5ea43ee7f5674f28a6fae9d42d8c4738"
       ],
       "layout": "IPY_MODEL_d9e9e4530cba4db29356bbd206b6faf9"
      }
     },
     "9e86e7484569471fa889f75270fb97b8": {
      "model_module": "@jupyter-widgets/controls",
      "model_module_version": "1.5.0",
      "model_name": "HTMLModel",
      "state": {
       "layout": "IPY_MODEL_fdb3463c74e343fdb1ba5fee78c7a903",
       "style": "IPY_MODEL_e73e8f5f24264b0cacddde4e0512c885",
       "value": " 338/338 [01:04&lt;00:00,  5.25it/s, acc=0.977, loss=0.0633]"
      }
     },
     "9ebed53493ad47c4b2527cafc50dc339": {
      "model_module": "@jupyter-widgets/controls",
      "model_module_version": "1.5.0",
      "model_name": "IntProgressModel",
      "state": {
       "bar_style": "success",
       "description": "Epoch [4/5]: 100%",
       "layout": "IPY_MODEL_adfe5979fc3c4cbfa79fce8a3b251fcb",
       "max": 284,
       "style": "IPY_MODEL_ee7dba81b057449fbfabf72ee4d490b9",
       "value": 284
      }
     },
     "9f272676f92745bf948a0fe1de0506e5": {
      "model_module": "@jupyter-widgets/base",
      "model_module_version": "1.2.0",
      "model_name": "LayoutModel",
      "state": {}
     },
     "9f33dba61ad348aea8fb9f5d08d77ca0": {
      "model_module": "@jupyter-widgets/controls",
      "model_module_version": "1.5.0",
      "model_name": "IntProgressModel",
      "state": {
       "bar_style": "success",
       "description": "Epoch [22/100]: 100%",
       "layout": "IPY_MODEL_52c2328569cf43638da2a75cdcb89363",
       "max": 289,
       "style": "IPY_MODEL_f0a7e19a3e96424f8eeda7c91a9ff63f",
       "value": 289
      }
     },
     "9f4d119faedb4bb39e971ac475c14d63": {
      "model_module": "@jupyter-widgets/base",
      "model_module_version": "1.2.0",
      "model_name": "LayoutModel",
      "state": {}
     },
     "9f5a7cc4a86b4470b92103a133d4f77c": {
      "model_module": "@jupyter-widgets/base",
      "model_module_version": "1.2.0",
      "model_name": "LayoutModel",
      "state": {}
     },
     "9f5fcb8a92e047e597cfc5e5087faf91": {
      "model_module": "@jupyter-widgets/base",
      "model_module_version": "1.2.0",
      "model_name": "LayoutModel",
      "state": {}
     },
     "9f6bff53fae144a5b7fb9ca1a252df07": {
      "model_module": "@jupyter-widgets/controls",
      "model_module_version": "1.5.0",
      "model_name": "HBoxModel",
      "state": {
       "children": [
        "IPY_MODEL_06456391e99f4c40afead04771095049",
        "IPY_MODEL_a5a70ae1225547f2beb4d3f40a3897ac"
       ],
       "layout": "IPY_MODEL_4a7c8a898c324efba2a34c916f1e08f4"
      }
     },
     "9f7c184731ed405abc0504ba4cd8763a": {
      "model_module": "@jupyter-widgets/controls",
      "model_module_version": "1.5.0",
      "model_name": "DescriptionStyleModel",
      "state": {
       "description_width": ""
      }
     },
     "9f7f93bd326b4a969368f40fc23d54ce": {
      "model_module": "@jupyter-widgets/controls",
      "model_module_version": "1.5.0",
      "model_name": "DescriptionStyleModel",
      "state": {
       "description_width": ""
      }
     },
     "9f88586068a74a2a9f9ec33431e6ac7c": {
      "model_module": "@jupyter-widgets/controls",
      "model_module_version": "1.5.0",
      "model_name": "HBoxModel",
      "state": {
       "children": [
        "IPY_MODEL_facc3a7063964b72ba12508320b85ad3",
        "IPY_MODEL_3ef1077a24534de3a64e00f67efa79ac"
       ],
       "layout": "IPY_MODEL_e3a0058001204e73a17ffb72e17b0a6d"
      }
     },
     "9ff31787118749a581e2dda6aa8fccb8": {
      "model_module": "@jupyter-widgets/controls",
      "model_module_version": "1.5.0",
      "model_name": "HBoxModel",
      "state": {
       "children": [
        "IPY_MODEL_fc8f006a3ff341b69905b065648a2962",
        "IPY_MODEL_c18cfa388f084524a26e84fdd004226b"
       ],
       "layout": "IPY_MODEL_9c80d616c77348ce9092ab11020ef883"
      }
     },
     "9ffadac38e604e0cbe277f5579c18eae": {
      "model_module": "@jupyter-widgets/base",
      "model_module_version": "1.2.0",
      "model_name": "LayoutModel",
      "state": {}
     },
     "9ffc11c7592b4bfba574f71647eeac7d": {
      "model_module": "@jupyter-widgets/base",
      "model_module_version": "1.2.0",
      "model_name": "LayoutModel",
      "state": {}
     },
     "a00e629e77554fe3a1a4445dd93eb3d1": {
      "model_module": "@jupyter-widgets/base",
      "model_module_version": "1.2.0",
      "model_name": "LayoutModel",
      "state": {}
     },
     "a026b3b0b567415c966fc718f4aae8c3": {
      "model_module": "@jupyter-widgets/base",
      "model_module_version": "1.2.0",
      "model_name": "LayoutModel",
      "state": {}
     },
     "a03e78bbe3a74ac8b289c06e77be0fb3": {
      "model_module": "@jupyter-widgets/controls",
      "model_module_version": "1.5.0",
      "model_name": "ProgressStyleModel",
      "state": {
       "description_width": "initial"
      }
     },
     "a0402acfb23f4c89ac2567c669fabd15": {
      "model_module": "@jupyter-widgets/base",
      "model_module_version": "1.2.0",
      "model_name": "LayoutModel",
      "state": {}
     },
     "a04e5932a8244bd28c295ea96eaf78af": {
      "model_module": "@jupyter-widgets/controls",
      "model_module_version": "1.5.0",
      "model_name": "IntProgressModel",
      "state": {
       "bar_style": "success",
       "description": "Epoch [5/5]: 100%",
       "layout": "IPY_MODEL_a6b536b0900d447ba666ee05d599c366",
       "max": 281,
       "style": "IPY_MODEL_4eda0faf5b524b798f2c543e0e7e7eae",
       "value": 281
      }
     },
     "a0d4d25d538a4d4ea2b21c2afa7389f1": {
      "model_module": "@jupyter-widgets/controls",
      "model_module_version": "1.5.0",
      "model_name": "HBoxModel",
      "state": {
       "children": [
        "IPY_MODEL_b48259a92c2444a892da5e8d428f12ca",
        "IPY_MODEL_b432d55d214042cdbc8a806fd33fcaaa"
       ],
       "layout": "IPY_MODEL_345a85e059ac44ca84212576f4bea646"
      }
     },
     "a0d7b1cec2134521be8434216b9ef7da": {
      "model_module": "@jupyter-widgets/controls",
      "model_module_version": "1.5.0",
      "model_name": "ProgressStyleModel",
      "state": {
       "description_width": "initial"
      }
     },
     "a0e094d094d44326acd0075682ed438f": {
      "model_module": "@jupyter-widgets/base",
      "model_module_version": "1.2.0",
      "model_name": "LayoutModel",
      "state": {}
     },
     "a1006c8c07a943b09d4b16af9af54c8e": {
      "model_module": "@jupyter-widgets/base",
      "model_module_version": "1.2.0",
      "model_name": "LayoutModel",
      "state": {}
     },
     "a109cb7bba80433bbc9871609e9a3e4c": {
      "model_module": "@jupyter-widgets/controls",
      "model_module_version": "1.5.0",
      "model_name": "HBoxModel",
      "state": {
       "children": [
        "IPY_MODEL_eb08a2c9318a4229a947d3f199eb6d2b",
        "IPY_MODEL_f898af74e1884f51b0c037b3563da08c"
       ],
       "layout": "IPY_MODEL_ffa5a412dcd248bc8167cb9286a337c3"
      }
     },
     "a10c1eff4d0a497ab1040e29bb03c44f": {
      "model_module": "@jupyter-widgets/controls",
      "model_module_version": "1.5.0",
      "model_name": "HBoxModel",
      "state": {
       "children": [
        "IPY_MODEL_e6d9723d60ec45d585a2f9f63a94b9d1",
        "IPY_MODEL_7225b15964ce42f991df8caca269fc56"
       ],
       "layout": "IPY_MODEL_896f735a63b342cca1e1ed13764fb50a"
      }
     },
     "a10ce095382e4cc3958491fa90d1ce47": {
      "model_module": "@jupyter-widgets/base",
      "model_module_version": "1.2.0",
      "model_name": "LayoutModel",
      "state": {}
     },
     "a11324dfabe24b44aee42393401ab51e": {
      "model_module": "@jupyter-widgets/controls",
      "model_module_version": "1.5.0",
      "model_name": "HTMLModel",
      "state": {
       "layout": "IPY_MODEL_6a8f1dc306d047cf9d4822a583b5caf0",
       "style": "IPY_MODEL_6dcaae71b4c4480185cf0a33c0fa946f",
       "value": " 283/283 [00:25&lt;00:00, 10.93it/s, acc=0.966, loss=0.0194]"
      }
     },
     "a117c89665ef409ca89c2370a9a563b9": {
      "model_module": "@jupyter-widgets/base",
      "model_module_version": "1.2.0",
      "model_name": "LayoutModel",
      "state": {}
     },
     "a14bceb7b2404848a2d01319682727eb": {
      "model_module": "@jupyter-widgets/controls",
      "model_module_version": "1.5.0",
      "model_name": "HBoxModel",
      "state": {
       "children": [
        "IPY_MODEL_fab22bcb2a9b4e95871c1a1be0f2b73c",
        "IPY_MODEL_2ba9a64408fc43fa835684eb8486c7ac"
       ],
       "layout": "IPY_MODEL_5407f4afc6f8499eb89d02e8e5ba0f59"
      }
     },
     "a1517b4733e842939e3fa10445094531": {
      "model_module": "@jupyter-widgets/base",
      "model_module_version": "1.2.0",
      "model_name": "LayoutModel",
      "state": {}
     },
     "a17c921ef4244b0c8b795d7c390ce2e2": {
      "model_module": "@jupyter-widgets/controls",
      "model_module_version": "1.5.0",
      "model_name": "HBoxModel",
      "state": {
       "children": [
        "IPY_MODEL_349569bf42c849058e47020b9488e7f5",
        "IPY_MODEL_b85d8736ed3542a794d87932a0d44881"
       ],
       "layout": "IPY_MODEL_e72dbeed9de14b1d8aed26df09efb756"
      }
     },
     "a18153f5e5e841a2bbd55b51dbaa27d4": {
      "model_module": "@jupyter-widgets/controls",
      "model_module_version": "1.5.0",
      "model_name": "DescriptionStyleModel",
      "state": {
       "description_width": ""
      }
     },
     "a1a072a03d9840da880a0eb6ba2b02c7": {
      "model_module": "@jupyter-widgets/controls",
      "model_module_version": "1.5.0",
      "model_name": "ProgressStyleModel",
      "state": {
       "description_width": "initial"
      }
     },
     "a1a11f74c8534895b1b8cad1b2e5d292": {
      "model_module": "@jupyter-widgets/base",
      "model_module_version": "1.2.0",
      "model_name": "LayoutModel",
      "state": {}
     },
     "a206f7766787497286f986048744c8c7": {
      "model_module": "@jupyter-widgets/controls",
      "model_module_version": "1.5.0",
      "model_name": "HBoxModel",
      "state": {
       "children": [
        "IPY_MODEL_fa167f5a365541c9970c4304c3d014c3",
        "IPY_MODEL_9a1dfbf8f55a40488fe6cf091c97a34c"
       ],
       "layout": "IPY_MODEL_19c57a19fcfd47c595003301828290e0"
      }
     },
     "a24983cd7eb041239db31610c882d965": {
      "model_module": "@jupyter-widgets/controls",
      "model_module_version": "1.5.0",
      "model_name": "DescriptionStyleModel",
      "state": {
       "description_width": ""
      }
     },
     "a2749e01b8db42b399579fac8870f521": {
      "model_module": "@jupyter-widgets/controls",
      "model_module_version": "1.5.0",
      "model_name": "IntProgressModel",
      "state": {
       "bar_style": "success",
       "description": "Epoch [16/40]: 100%",
       "layout": "IPY_MODEL_131cf029889e4f538f0ad7172f85a814",
       "max": 241,
       "style": "IPY_MODEL_bb30f27fa28944b987c6bbfc0a4e9dd8",
       "value": 241
      }
     },
     "a2866ff7a6c84f028188a48a4c86e5d1": {
      "model_module": "@jupyter-widgets/base",
      "model_module_version": "1.2.0",
      "model_name": "LayoutModel",
      "state": {}
     },
     "a28c056adb8743a281cb43379cae5e8f": {
      "model_module": "@jupyter-widgets/controls",
      "model_module_version": "1.5.0",
      "model_name": "HBoxModel",
      "state": {
       "children": [
        "IPY_MODEL_bc4b680514dc490ea643aee605507253",
        "IPY_MODEL_34a102bd9225434a896b5dda053e0f6d"
       ],
       "layout": "IPY_MODEL_fe990ce890e1442d94727c396610137a"
      }
     },
     "a2b8cb90f00f4c5fa39eee18568ca531": {
      "model_module": "@jupyter-widgets/controls",
      "model_module_version": "1.5.0",
      "model_name": "HTMLModel",
      "state": {
       "layout": "IPY_MODEL_32610dae73de4bc58fec258e93ffb124",
       "style": "IPY_MODEL_f24c940829b547d396bb8f2b515e4d60"
      }
     },
     "a2bb7826a7394f3bb734a3bb58c4e1fe": {
      "model_module": "@jupyter-widgets/base",
      "model_module_version": "1.2.0",
      "model_name": "LayoutModel",
      "state": {}
     },
     "a2d398ba87004c20b7ee946f4834c0cd": {
      "model_module": "@jupyter-widgets/base",
      "model_module_version": "1.2.0",
      "model_name": "LayoutModel",
      "state": {}
     },
     "a2de8c3a8a8948fcb3d7a12ec479a34c": {
      "model_module": "@jupyter-widgets/controls",
      "model_module_version": "1.5.0",
      "model_name": "DescriptionStyleModel",
      "state": {
       "description_width": ""
      }
     },
     "a2e55d9ee103420eaae645f9fa607f96": {
      "model_module": "@jupyter-widgets/base",
      "model_module_version": "1.2.0",
      "model_name": "LayoutModel",
      "state": {}
     },
     "a2e9648334d14a83a19572fea40f1598": {
      "model_module": "@jupyter-widgets/base",
      "model_module_version": "1.2.0",
      "model_name": "LayoutModel",
      "state": {}
     },
     "a2ec5e66108a427da26e1becbffdbdc9": {
      "model_module": "@jupyter-widgets/controls",
      "model_module_version": "1.5.0",
      "model_name": "HBoxModel",
      "state": {
       "children": [
        "IPY_MODEL_b96c0dcfd0914583a0b82304de023825",
        "IPY_MODEL_51c97ed1586a4d88a74d82d4c79be39e"
       ],
       "layout": "IPY_MODEL_b40d2960e0d542b481d8cef1c028f432"
      }
     },
     "a3223c520b0842dd82e4d9b43134f33a": {
      "model_module": "@jupyter-widgets/controls",
      "model_module_version": "1.5.0",
      "model_name": "HBoxModel",
      "state": {
       "children": [
        "IPY_MODEL_b083f332e74546c6b0bbf5dde0e789e7",
        "IPY_MODEL_657d7ab3b8ea407fa6624369f6344811"
       ],
       "layout": "IPY_MODEL_3fa3d896a3cc485eb85e2d9e9e353c45"
      }
     },
     "a346f829c04d421482d83a1fb9634fec": {
      "model_module": "@jupyter-widgets/controls",
      "model_module_version": "1.5.0",
      "model_name": "HTMLModel",
      "state": {
       "layout": "IPY_MODEL_f023914cae1f40458c81e3e6b986ccc1",
       "style": "IPY_MODEL_e21fe9d093484eccbc6313228684865e",
       "value": " 289/289 [01:23&lt;00:00,  3.47it/s, acc=0.276, loss=1.57]"
      }
     },
     "a34ea69f9d3040cc9d535bcfe8da0c9e": {
      "model_module": "@jupyter-widgets/controls",
      "model_module_version": "1.5.0",
      "model_name": "HBoxModel",
      "state": {
       "children": [
        "IPY_MODEL_d85732106ce243aea7ebf6f7c44eecbc",
        "IPY_MODEL_ac25674c212a4a479951d97c513f35dd"
       ],
       "layout": "IPY_MODEL_050bc108458b4dd8910f609c13b05b93"
      }
     },
     "a3628eca10984b9d9a35422b8e534bf7": {
      "model_module": "@jupyter-widgets/controls",
      "model_module_version": "1.5.0",
      "model_name": "IntProgressModel",
      "state": {
       "bar_style": "success",
       "description": "Epoch [11/40]: 100%",
       "layout": "IPY_MODEL_8b2f347f46e544eea17308087806219e",
       "max": 361,
       "style": "IPY_MODEL_691bcdccd9624fc6aa3e6518267849f4",
       "value": 361
      }
     },
     "a39ba91709514f20a5c8b320dc12329b": {
      "model_module": "@jupyter-widgets/controls",
      "model_module_version": "1.5.0",
      "model_name": "ProgressStyleModel",
      "state": {
       "description_width": "initial"
      }
     },
     "a3bbe4dc3de14722a02497e7ed96ab6c": {
      "model_module": "@jupyter-widgets/controls",
      "model_module_version": "1.5.0",
      "model_name": "HTMLModel",
      "state": {
       "layout": "IPY_MODEL_75645e28cf0a44c2828e80101550c8cd",
       "style": "IPY_MODEL_9803a77c42a1416c8d11f8070b8d96dd",
       "value": " 241/241 [00:44&lt;00:00,  5.42it/s, acc=0.978, loss=0.0569]"
      }
     },
     "a3d428e4ea804890be1a3c1dac0b862c": {
      "model_module": "@jupyter-widgets/controls",
      "model_module_version": "1.5.0",
      "model_name": "DescriptionStyleModel",
      "state": {
       "description_width": ""
      }
     },
     "a40d00cc4f6346dfb71090f57198460b": {
      "model_module": "@jupyter-widgets/base",
      "model_module_version": "1.2.0",
      "model_name": "LayoutModel",
      "state": {}
     },
     "a43906846d984f3aad1ae4ed836d8a38": {
      "model_module": "@jupyter-widgets/controls",
      "model_module_version": "1.5.0",
      "model_name": "HTMLModel",
      "state": {
       "layout": "IPY_MODEL_77873ffb1d21464cb7b528e051ef72d6",
       "style": "IPY_MODEL_88e6b20309844c4fa5d42813ac36feb1",
       "value": " 338/338 [02:13&lt;00:00,  2.53it/s, acc=0.979, loss=0.0773]"
      }
     },
     "a43a160017924734b6b9af3cd2837c02": {
      "model_module": "@jupyter-widgets/controls",
      "model_module_version": "1.5.0",
      "model_name": "IntProgressModel",
      "state": {
       "bar_style": "success",
       "description": "Epoch [2/5]: 100%",
       "layout": "IPY_MODEL_d64014acf6054485ac3bf808510a5e3e",
       "max": 280,
       "style": "IPY_MODEL_dd420daf2b2a47558b9fd5ffcc4ac967",
       "value": 280
      }
     },
     "a44d8e3e744e42ccb728756603f9d225": {
      "model_module": "@jupyter-widgets/controls",
      "model_module_version": "1.5.0",
      "model_name": "ProgressStyleModel",
      "state": {
       "description_width": "initial"
      }
     },
     "a45c250505b3408faa3badf32f2114ef": {
      "model_module": "@jupyter-widgets/controls",
      "model_module_version": "1.5.0",
      "model_name": "IntProgressModel",
      "state": {
       "bar_style": "success",
       "description": "Epoch [4/100]: 100%",
       "layout": "IPY_MODEL_8d1bfc0b33b6464a9aa86836a9c20411",
       "max": 289,
       "style": "IPY_MODEL_e119d292bc8f4082b85987a70dd5fe36",
       "value": 289
      }
     },
     "a46452628931409eb0debd0293321413": {
      "model_module": "@jupyter-widgets/controls",
      "model_module_version": "1.5.0",
      "model_name": "HTMLModel",
      "state": {
       "layout": "IPY_MODEL_4acf1fe5db7f444bbb44a1151cd52721",
       "style": "IPY_MODEL_9f7c184731ed405abc0504ba4cd8763a",
       "value": " 287/289 [00:40&lt;00:00, 12.78it/s, acc=0.928, loss=0.0531]"
      }
     },
     "a46fddc37be248a9ac9f4f7eac03fdd3": {
      "model_module": "@jupyter-widgets/base",
      "model_module_version": "1.2.0",
      "model_name": "LayoutModel",
      "state": {}
     },
     "a47602fd90124f0c8991988f8cf6beb5": {
      "model_module": "@jupyter-widgets/controls",
      "model_module_version": "1.5.0",
      "model_name": "HTMLModel",
      "state": {
       "layout": "IPY_MODEL_2ca3109fb275409282dd63a3d91e42a6",
       "style": "IPY_MODEL_f4c8568a59df416b87fcd1f4ee701d57",
       "value": " 255/255 [01:39&lt;00:00,  2.56it/s, acc=0.981, loss=0.0731]"
      }
     },
     "a4825f0cd3ec4b54bd8cc46cacdd94fe": {
      "model_module": "@jupyter-widgets/controls",
      "model_module_version": "1.5.0",
      "model_name": "DescriptionStyleModel",
      "state": {
       "description_width": ""
      }
     },
     "a48e32d8f683481caff3438a54a5b5c5": {
      "model_module": "@jupyter-widgets/base",
      "model_module_version": "1.2.0",
      "model_name": "LayoutModel",
      "state": {}
     },
     "a4bf6b8c60fd444fae1ef07a7c57f688": {
      "model_module": "@jupyter-widgets/base",
      "model_module_version": "1.2.0",
      "model_name": "LayoutModel",
      "state": {}
     },
     "a4d6218f64e94f04a59cc285144fcbcc": {
      "model_module": "@jupyter-widgets/controls",
      "model_module_version": "1.5.0",
      "model_name": "IntProgressModel",
      "state": {
       "bar_style": "success",
       "description": "Epoch [7/100]: 100%",
       "layout": "IPY_MODEL_643c54988a174865b1b85917e6744956",
       "max": 289,
       "style": "IPY_MODEL_33fa9564ec0440e3882a969b945a266a",
       "value": 289
      }
     },
     "a4d98f21799942e29238912edd2ee671": {
      "model_module": "@jupyter-widgets/base",
      "model_module_version": "1.2.0",
      "model_name": "LayoutModel",
      "state": {}
     },
     "a4def54e9dfa439f8908c9fb0b8a55bb": {
      "model_module": "@jupyter-widgets/controls",
      "model_module_version": "1.5.0",
      "model_name": "ProgressStyleModel",
      "state": {
       "description_width": "initial"
      }
     },
     "a4fb1fa6a7a34950ba325c4927e3b260": {
      "model_module": "@jupyter-widgets/base",
      "model_module_version": "1.2.0",
      "model_name": "LayoutModel",
      "state": {}
     },
     "a50d5997a1ca45db8d6aa8a99dfcb504": {
      "model_module": "@jupyter-widgets/controls",
      "model_module_version": "1.5.0",
      "model_name": "DescriptionStyleModel",
      "state": {
       "description_width": ""
      }
     },
     "a53df56cfdcf49c8ad3616e797851608": {
      "model_module": "@jupyter-widgets/controls",
      "model_module_version": "1.5.0",
      "model_name": "IntProgressModel",
      "state": {
       "bar_style": "success",
       "description": "Epoch [17/40]: 100%",
       "layout": "IPY_MODEL_6911e2d3c50941a7b7307c2ab66184b9",
       "max": 241,
       "style": "IPY_MODEL_34355e72695b4482a9e3db2048e34dcd",
       "value": 241
      }
     },
     "a54566dde58a429084b3a6b3692d46c4": {
      "model_module": "@jupyter-widgets/base",
      "model_module_version": "1.2.0",
      "model_name": "LayoutModel",
      "state": {}
     },
     "a54c08baeb8044979f3b257ddf3827de": {
      "model_module": "@jupyter-widgets/controls",
      "model_module_version": "1.5.0",
      "model_name": "ProgressStyleModel",
      "state": {
       "description_width": "initial"
      }
     },
     "a55a163893c045258708468e68d69b9b": {
      "model_module": "@jupyter-widgets/controls",
      "model_module_version": "1.5.0",
      "model_name": "HTMLModel",
      "state": {
       "layout": "IPY_MODEL_91f8fe604bb141099f88d1e128366abb",
       "style": "IPY_MODEL_88f9fa5bf4ae43ccaba76920a1d25244",
       "value": " 289/289 [00:39&lt;00:00,  7.33it/s, acc=0.989, loss=0.0479]"
      }
     },
     "a55ceb2476574eaa8f3554745c9f73f0": {
      "model_module": "@jupyter-widgets/base",
      "model_module_version": "1.2.0",
      "model_name": "LayoutModel",
      "state": {}
     },
     "a57156d9661d4b22a6e15823c0635bdb": {
      "model_module": "@jupyter-widgets/controls",
      "model_module_version": "1.5.0",
      "model_name": "HBoxModel",
      "state": {
       "children": [
        "IPY_MODEL_6bcd2f6d9d20430c8caccd85298c81c4",
        "IPY_MODEL_f6f787a49d72426cac9e0b1bc6266b3e"
       ],
       "layout": "IPY_MODEL_949a349410fd4fe19cf472f08222600b"
      }
     },
     "a5840c64dc494f16a406a3bc7064aab2": {
      "model_module": "@jupyter-widgets/controls",
      "model_module_version": "1.5.0",
      "model_name": "HBoxModel",
      "state": {
       "children": [
        "IPY_MODEL_5f58e2c245204eaa8661db4b8d65aed7",
        "IPY_MODEL_51975ad57f144a5e87440dd4bf9b0ee6"
       ],
       "layout": "IPY_MODEL_956d920263e7427ba0d6f9a12625f76a"
      }
     },
     "a584bd1fafb247c198c7c14b90af58a0": {
      "model_module": "@jupyter-widgets/controls",
      "model_module_version": "1.5.0",
      "model_name": "HTMLModel",
      "state": {
       "layout": "IPY_MODEL_787d99c7ffab4aaf8cc94c7c90d2c958",
       "style": "IPY_MODEL_01fd3bbd58db4135a22bb66f161f0e38",
       "value": " 271/289 [00:26&lt;00:01, 10.35it/s, acc=0.986, loss=0.0403]"
      }
     },
     "a5a70ae1225547f2beb4d3f40a3897ac": {
      "model_module": "@jupyter-widgets/controls",
      "model_module_version": "1.5.0",
      "model_name": "HTMLModel",
      "state": {
       "layout": "IPY_MODEL_6921feb2868342cc94e81a7c496e93c6",
       "style": "IPY_MODEL_dd3d88fbb8d74b87936d2b22746563a2",
       "value": " 255/255 [01:04&lt;00:00,  3.94it/s, acc=0.982, loss=0.233]"
      }
     },
     "a5bf84630df043bab53282e782abc610": {
      "model_module": "@jupyter-widgets/controls",
      "model_module_version": "1.5.0",
      "model_name": "HTMLModel",
      "state": {
       "layout": "IPY_MODEL_5ae31cc4b263435fbf5df1def3267056",
       "style": "IPY_MODEL_c7c1eb7c734c43009015f7ee45f44d94",
       "value": " 289/289 [00:32&lt;00:00,  8.85it/s, acc=0.983, loss=0.112]"
      }
     },
     "a5d6d2728c1a4929bdb9195e8c883eb8": {
      "model_module": "@jupyter-widgets/base",
      "model_module_version": "1.2.0",
      "model_name": "LayoutModel",
      "state": {}
     },
     "a5d74a6cb3184ce9ada8b1867a6500ab": {
      "model_module": "@jupyter-widgets/base",
      "model_module_version": "1.2.0",
      "model_name": "LayoutModel",
      "state": {}
     },
     "a5e4d2fcf69b4ddb9ea97733580f3067": {
      "model_module": "@jupyter-widgets/controls",
      "model_module_version": "1.5.0",
      "model_name": "HBoxModel",
      "state": {
       "children": [
        "IPY_MODEL_42b144a5f2754030a2c1a2bcf0d15439",
        "IPY_MODEL_ce928461cd0c43cdb57b14212fbba815"
       ],
       "layout": "IPY_MODEL_cfe9fc5ef62a474dac84e62617cd2444"
      }
     },
     "a633f47bd8c2405d9253c0327fbda5c5": {
      "model_module": "@jupyter-widgets/controls",
      "model_module_version": "1.5.0",
      "model_name": "ProgressStyleModel",
      "state": {
       "description_width": "initial"
      }
     },
     "a63806bd7782470ea91923e0b9f254cf": {
      "model_module": "@jupyter-widgets/base",
      "model_module_version": "1.2.0",
      "model_name": "LayoutModel",
      "state": {}
     },
     "a64219efc22749a3abc3b3ad28591c41": {
      "model_module": "@jupyter-widgets/controls",
      "model_module_version": "1.5.0",
      "model_name": "HBoxModel",
      "state": {
       "children": [
        "IPY_MODEL_f09a2d79146549f2974e6770ac49f044",
        "IPY_MODEL_7c06442786eb4f309ebac0c0315283d4"
       ],
       "layout": "IPY_MODEL_c615c4d86e2e43e18fcf1b1872977323"
      }
     },
     "a65a06309d274d858ca36e04a1722057": {
      "model_module": "@jupyter-widgets/controls",
      "model_module_version": "1.5.0",
      "model_name": "HTMLModel",
      "state": {
       "layout": "IPY_MODEL_1587ac07c6f44109b7d5e318bdc77a0b",
       "style": "IPY_MODEL_eaa5b1734ded423c9c74c8dce2e97be8",
       "value": " 241/241 [00:26&lt;00:00,  9.08it/s, acc=0.267, loss=1.6]"
      }
     },
     "a66d398e4efb490391089a6213470a53": {
      "model_module": "@jupyter-widgets/base",
      "model_module_version": "1.2.0",
      "model_name": "LayoutModel",
      "state": {}
     },
     "a6a152f4efa343feacf13c181bd7244d": {
      "model_module": "@jupyter-widgets/controls",
      "model_module_version": "1.5.0",
      "model_name": "HBoxModel",
      "state": {
       "children": [
        "IPY_MODEL_0c6cb8705f174ca38da04f1f8073a429",
        "IPY_MODEL_e29f4487a7314585a3c0731de6da6d66"
       ],
       "layout": "IPY_MODEL_e9812daef9044e31a85d2e94af17836a"
      }
     },
     "a6b301fc255f47388575db9a8bdb36fd": {
      "model_module": "@jupyter-widgets/controls",
      "model_module_version": "1.5.0",
      "model_name": "IntProgressModel",
      "state": {
       "bar_style": "success",
       "description": "Epoch [15/40]: 100%",
       "layout": "IPY_MODEL_10589ec6650849e5be5091357628ac21",
       "max": 361,
       "style": "IPY_MODEL_ea02d5f5836b43b8ac7926da4c5055de",
       "value": 361
      }
     },
     "a6b536b0900d447ba666ee05d599c366": {
      "model_module": "@jupyter-widgets/base",
      "model_module_version": "1.2.0",
      "model_name": "LayoutModel",
      "state": {}
     },
     "a6e34f8b17784446b16cb6d8c998bcd1": {
      "model_module": "@jupyter-widgets/base",
      "model_module_version": "1.2.0",
      "model_name": "LayoutModel",
      "state": {}
     },
     "a7111b4587fc4febb83d1019e29748a3": {
      "model_module": "@jupyter-widgets/controls",
      "model_module_version": "1.5.0",
      "model_name": "HBoxModel",
      "state": {
       "children": [
        "IPY_MODEL_f4bc22b903a54febb9ba7cb866b54e24",
        "IPY_MODEL_fd24a387aeca46ebb59304fc04add3eb"
       ],
       "layout": "IPY_MODEL_ee97933f8fcf4aee93c77abd23a2e324"
      }
     },
     "a71af41cc6a44086a49caf04033bd9ef": {
      "model_module": "@jupyter-widgets/controls",
      "model_module_version": "1.5.0",
      "model_name": "ProgressStyleModel",
      "state": {
       "description_width": "initial"
      }
     },
     "a737aa406ce642949eee54143a73e52c": {
      "model_module": "@jupyter-widgets/controls",
      "model_module_version": "1.5.0",
      "model_name": "HTMLModel",
      "state": {
       "layout": "IPY_MODEL_7e32e0c422e447bcac2d2ef0974a96b6",
       "style": "IPY_MODEL_23480704001d4127aa828b04991d39f8",
       "value": " 289/289 [01:35&lt;00:00,  3.03it/s, acc=0.987, loss=0.0353]"
      }
     },
     "a7551a129cbe4577b051ef58052d77b8": {
      "model_module": "@jupyter-widgets/controls",
      "model_module_version": "1.5.0",
      "model_name": "IntProgressModel",
      "state": {
       "bar_style": "danger",
       "description": "  0%",
       "layout": "IPY_MODEL_aff61058b56d45bda3bfdb937f4be19f",
       "max": 370,
       "style": "IPY_MODEL_0819b5a98b914ec792b6c22060a6605f"
      }
     },
     "a75b7da2f93743d8947476476c5eab8b": {
      "model_module": "@jupyter-widgets/controls",
      "model_module_version": "1.5.0",
      "model_name": "DescriptionStyleModel",
      "state": {
       "description_width": ""
      }
     },
     "a7632ea1532b4de883256b840349bcde": {
      "model_module": "@jupyter-widgets/controls",
      "model_module_version": "1.5.0",
      "model_name": "ProgressStyleModel",
      "state": {
       "description_width": "initial"
      }
     },
     "a7718604d0794b898778a916ed3f27f1": {
      "model_module": "@jupyter-widgets/base",
      "model_module_version": "1.2.0",
      "model_name": "LayoutModel",
      "state": {}
     },
     "a774f079eb0047a0aa5f6a409f739420": {
      "model_module": "@jupyter-widgets/base",
      "model_module_version": "1.2.0",
      "model_name": "LayoutModel",
      "state": {}
     },
     "a77656c695104b73b386e2f6979bb50c": {
      "model_module": "@jupyter-widgets/controls",
      "model_module_version": "1.5.0",
      "model_name": "DescriptionStyleModel",
      "state": {
       "description_width": ""
      }
     },
     "a78fe492d52d477484f5658a72d41439": {
      "model_module": "@jupyter-widgets/controls",
      "model_module_version": "1.5.0",
      "model_name": "IntProgressModel",
      "state": {
       "bar_style": "success",
       "description": "Epoch [36/40]: 100%",
       "layout": "IPY_MODEL_d572c9e5781e4edb8d9fdcb315fd9164",
       "max": 289,
       "style": "IPY_MODEL_ade33ca22085445fba958aa9a70a7c16",
       "value": 289
      }
     },
     "a7c30ed5a5ad4307a6020bc5f6fc8efd": {
      "model_module": "@jupyter-widgets/controls",
      "model_module_version": "1.5.0",
      "model_name": "IntProgressModel",
      "state": {
       "layout": "IPY_MODEL_970ae2e7c1b04bc48cbbf3cb66a750c1",
       "max": 289,
       "style": "IPY_MODEL_06f84dd26e8949db9104145078e06126"
      }
     },
     "a7c8df0adea6460b8ee585fefe52fa78": {
      "model_module": "@jupyter-widgets/controls",
      "model_module_version": "1.5.0",
      "model_name": "ProgressStyleModel",
      "state": {
       "description_width": "initial"
      }
     },
     "a7dab5ad6d074a4da9b06c65863141a2": {
      "model_module": "@jupyter-widgets/controls",
      "model_module_version": "1.5.0",
      "model_name": "IntProgressModel",
      "state": {
       "bar_style": "success",
       "description": "Epoch [31/40]: 100%",
       "layout": "IPY_MODEL_d20ef8969573432ca8ed45c7bd28dc49",
       "max": 241,
       "style": "IPY_MODEL_82f2b727302f4df0a22339f7153569d6",
       "value": 241
      }
     },
     "a80192640b044d2280911efc53136580": {
      "model_module": "@jupyter-widgets/controls",
      "model_module_version": "1.5.0",
      "model_name": "HTMLModel",
      "state": {
       "layout": "IPY_MODEL_fd6af58076d74e8998df569cbf038a38",
       "style": "IPY_MODEL_b207247d917f458d81f1ec338cdcea8d",
       "value": " 289/289 [00:40&lt;00:00,  7.20it/s, acc=0.935, loss=0.15]"
      }
     },
     "a806c78eff384bf0a5be506e35db2ef2": {
      "model_module": "@jupyter-widgets/controls",
      "model_module_version": "1.5.0",
      "model_name": "IntProgressModel",
      "state": {
       "bar_style": "success",
       "description": "Epoch [6/40]: 100%",
       "layout": "IPY_MODEL_a5d74a6cb3184ce9ada8b1867a6500ab",
       "max": 255,
       "style": "IPY_MODEL_b13920f6e4e947d8bfe8765e38c76804",
       "value": 255
      }
     },
     "a82d76a1b2e64be6bce4fd7a359d4e00": {
      "model_module": "@jupyter-widgets/controls",
      "model_module_version": "1.5.0",
      "model_name": "IntProgressModel",
      "state": {
       "bar_style": "success",
       "description": "Epoch [3/5]: 100%",
       "layout": "IPY_MODEL_4bf34092b40a4b6f95d2d59f5b3cd682",
       "max": 282,
       "style": "IPY_MODEL_d6ba1ba52e684589aed3ce2fa3873cc5",
       "value": 282
      }
     },
     "a82e3cee873a4a84940af3af7ea1cdf7": {
      "model_module": "@jupyter-widgets/base",
      "model_module_version": "1.2.0",
      "model_name": "LayoutModel",
      "state": {}
     },
     "a8335ee55f0249298a4358f7793ab9ec": {
      "model_module": "@jupyter-widgets/controls",
      "model_module_version": "1.5.0",
      "model_name": "HTMLModel",
      "state": {
       "layout": "IPY_MODEL_11f46b3ce9e84bdba9c2e9b0c69b470c",
       "style": "IPY_MODEL_aad1336c4f2d4f078482f3de6d10e20f",
       "value": " 289/289 [00:48&lt;00:00,  5.94it/s, acc=0.958, loss=0.0675]"
      }
     },
     "a8489688a688427fa13ca4c80516594e": {
      "model_module": "@jupyter-widgets/base",
      "model_module_version": "1.2.0",
      "model_name": "LayoutModel",
      "state": {}
     },
     "a8501d0fb0914743b756539e3f689c65": {
      "model_module": "@jupyter-widgets/base",
      "model_module_version": "1.2.0",
      "model_name": "LayoutModel",
      "state": {}
     },
     "a86ce58693fa416aab5c20c1c61e843a": {
      "model_module": "@jupyter-widgets/controls",
      "model_module_version": "1.5.0",
      "model_name": "HBoxModel",
      "state": {
       "children": [
        "IPY_MODEL_d1067cd2fc874b1788186ff208a6b6ee",
        "IPY_MODEL_6ae0b811cc884f708b1483874ebb4f2b"
       ],
       "layout": "IPY_MODEL_42584332cce14150b5c7ee1aa280d0f6"
      }
     },
     "a877cf5e9acc464eae91ff9cf55c15d8": {
      "model_module": "@jupyter-widgets/base",
      "model_module_version": "1.2.0",
      "model_name": "LayoutModel",
      "state": {}
     },
     "a87caf1afaf84a58bdbadc27128515f4": {
      "model_module": "@jupyter-widgets/base",
      "model_module_version": "1.2.0",
      "model_name": "LayoutModel",
      "state": {}
     },
     "a886b1e6fc46438bbbc28af9416b13a2": {
      "model_module": "@jupyter-widgets/base",
      "model_module_version": "1.2.0",
      "model_name": "LayoutModel",
      "state": {}
     },
     "a88a2194235947aa8f2e8d5d10aef55c": {
      "model_module": "@jupyter-widgets/controls",
      "model_module_version": "1.5.0",
      "model_name": "ProgressStyleModel",
      "state": {
       "description_width": "initial"
      }
     },
     "a8a1350773d34161a4aca90796609028": {
      "model_module": "@jupyter-widgets/controls",
      "model_module_version": "1.5.0",
      "model_name": "IntProgressModel",
      "state": {
       "bar_style": "success",
       "description": "Epoch [16/40]: 100%",
       "layout": "IPY_MODEL_530d8b0faf5044a4a39613e9005514bc",
       "max": 338,
       "style": "IPY_MODEL_f3f7a8fc71b94c3b8591d21a8880624a",
       "value": 338
      }
     },
     "a8b3fb8feea54e3f951a232ac8c64f90": {
      "model_module": "@jupyter-widgets/controls",
      "model_module_version": "1.5.0",
      "model_name": "ProgressStyleModel",
      "state": {
       "description_width": "initial"
      }
     },
     "a8bba9a87bdb426db529bc6b75129094": {
      "model_module": "@jupyter-widgets/controls",
      "model_module_version": "1.5.0",
      "model_name": "ProgressStyleModel",
      "state": {
       "description_width": "initial"
      }
     },
     "a8bc4d79a9704b31ac24b88be636b964": {
      "model_module": "@jupyter-widgets/base",
      "model_module_version": "1.2.0",
      "model_name": "LayoutModel",
      "state": {}
     },
     "a8d7460dea9b4b5c99a46bf62c34f3fe": {
      "model_module": "@jupyter-widgets/base",
      "model_module_version": "1.2.0",
      "model_name": "LayoutModel",
      "state": {}
     },
     "a90ff2875fe04ab5a60605391a6efaca": {
      "model_module": "@jupyter-widgets/controls",
      "model_module_version": "1.5.0",
      "model_name": "HBoxModel",
      "state": {
       "children": [
        "IPY_MODEL_5d76c99a7adb4761aa3d5e4fd6cd0aa8",
        "IPY_MODEL_1dc712ed39c9436d8c1e3f871a5a832c"
       ],
       "layout": "IPY_MODEL_8797ec0096f04607aa75f4f52e2adad4"
      }
     },
     "a952c98caec043a5b4eccb2e16fc8b61": {
      "model_module": "@jupyter-widgets/controls",
      "model_module_version": "1.5.0",
      "model_name": "DescriptionStyleModel",
      "state": {
       "description_width": ""
      }
     },
     "a980650d35c3429199ed0374ce699e12": {
      "model_module": "@jupyter-widgets/base",
      "model_module_version": "1.2.0",
      "model_name": "LayoutModel",
      "state": {}
     },
     "a9e1f51593b44d3581964aa64af37f02": {
      "model_module": "@jupyter-widgets/base",
      "model_module_version": "1.2.0",
      "model_name": "LayoutModel",
      "state": {}
     },
     "aa16ccc62f134d38985ecd362b257103": {
      "model_module": "@jupyter-widgets/controls",
      "model_module_version": "1.5.0",
      "model_name": "HBoxModel",
      "state": {
       "children": [
        "IPY_MODEL_c50d0fcfb14041eda90913627ccbb08f",
        "IPY_MODEL_d97f3f800ec64576be0e530519282fa8"
       ],
       "layout": "IPY_MODEL_f7a64f4e668249e6b254baf1beb6d8a9"
      }
     },
     "aa3a8c968ded4a96b068493426442661": {
      "model_module": "@jupyter-widgets/base",
      "model_module_version": "1.2.0",
      "model_name": "LayoutModel",
      "state": {}
     },
     "aa4e40bf5af3450db57ceced4ec52f00": {
      "model_module": "@jupyter-widgets/base",
      "model_module_version": "1.2.0",
      "model_name": "LayoutModel",
      "state": {}
     },
     "aa518cb30f7346c9b7b28ca5aa0b763c": {
      "model_module": "@jupyter-widgets/base",
      "model_module_version": "1.2.0",
      "model_name": "LayoutModel",
      "state": {}
     },
     "aa5955178af543408110331d841bab36": {
      "model_module": "@jupyter-widgets/base",
      "model_module_version": "1.2.0",
      "model_name": "LayoutModel",
      "state": {}
     },
     "aa616ba7e8194a569ac01c4890d36178": {
      "model_module": "@jupyter-widgets/controls",
      "model_module_version": "1.5.0",
      "model_name": "HBoxModel",
      "state": {
       "children": [
        "IPY_MODEL_794baa53eac046058e9570a15e216e72",
        "IPY_MODEL_69524d823e3145eda80f7295b02dae0b"
       ],
       "layout": "IPY_MODEL_4bead9bc1f6e4c2d9b5b2b126d604d1d"
      }
     },
     "aa7e2da9e2c14578b078d93bbe207f20": {
      "model_module": "@jupyter-widgets/controls",
      "model_module_version": "1.5.0",
      "model_name": "DescriptionStyleModel",
      "state": {
       "description_width": ""
      }
     },
     "aa81318c242c4391a585112b44e1cce2": {
      "model_module": "@jupyter-widgets/controls",
      "model_module_version": "1.5.0",
      "model_name": "IntProgressModel",
      "state": {
       "bar_style": "success",
       "description": "Epoch [8/40]: 100%",
       "layout": "IPY_MODEL_58953bf766ba4c5a9709c3dc5df34e6e",
       "max": 241,
       "style": "IPY_MODEL_30a3e0d85ed841929842651ec978ec33",
       "value": 241
      }
     },
     "aa9f8d7b35a94a91814f7807875e4a28": {
      "model_module": "@jupyter-widgets/controls",
      "model_module_version": "1.5.0",
      "model_name": "HBoxModel",
      "state": {
       "children": [
        "IPY_MODEL_eebdc44dd0b24bf6955446294f87d90f",
        "IPY_MODEL_1ca9c6e2e0d640fb84f9862a9d3180fc"
       ],
       "layout": "IPY_MODEL_a55ceb2476574eaa8f3554745c9f73f0"
      }
     },
     "aaabffd199544dd29282266eb735a2ba": {
      "model_module": "@jupyter-widgets/controls",
      "model_module_version": "1.5.0",
      "model_name": "IntProgressModel",
      "state": {
       "bar_style": "success",
       "description": "Epoch [6/40]: 100%",
       "layout": "IPY_MODEL_39b4abd181d949e7946c6d564b79ee87",
       "max": 361,
       "style": "IPY_MODEL_e15373aeaf504183b8d2e9dd89440d90",
       "value": 361
      }
     },
     "aabf60ab314144fb8eee8999947b270e": {
      "model_module": "@jupyter-widgets/controls",
      "model_module_version": "1.5.0",
      "model_name": "ProgressStyleModel",
      "state": {
       "description_width": "initial"
      }
     },
     "aad1336c4f2d4f078482f3de6d10e20f": {
      "model_module": "@jupyter-widgets/controls",
      "model_module_version": "1.5.0",
      "model_name": "DescriptionStyleModel",
      "state": {
       "description_width": ""
      }
     },
     "aae94c54117948618b9cd4474cc66924": {
      "model_module": "@jupyter-widgets/base",
      "model_module_version": "1.2.0",
      "model_name": "LayoutModel",
      "state": {}
     },
     "ab1a5a8a85dc435390ac93b4584342da": {
      "model_module": "@jupyter-widgets/controls",
      "model_module_version": "1.5.0",
      "model_name": "ProgressStyleModel",
      "state": {
       "description_width": "initial"
      }
     },
     "ab2447ffa8bd466c8246e0e81f8bf668": {
      "model_module": "@jupyter-widgets/controls",
      "model_module_version": "1.5.0",
      "model_name": "DescriptionStyleModel",
      "state": {
       "description_width": ""
      }
     },
     "ab419794814c49659546978da713f8b9": {
      "model_module": "@jupyter-widgets/controls",
      "model_module_version": "1.5.0",
      "model_name": "IntProgressModel",
      "state": {
       "bar_style": "success",
       "description": "Epoch [20/40]: 100%",
       "layout": "IPY_MODEL_d1b053c84f304d1aab74d2d62e70a4e1",
       "max": 255,
       "style": "IPY_MODEL_ea1ccc2023b1448eb148e108476d5c53",
       "value": 255
      }
     },
     "ab6d252bb29449c490ea7d58adf3a487": {
      "model_module": "@jupyter-widgets/controls",
      "model_module_version": "1.5.0",
      "model_name": "HTMLModel",
      "state": {
       "layout": "IPY_MODEL_0c72ae24e38e42da86d68c93c3076f95",
       "style": "IPY_MODEL_730c9fef21304d64a21a8c20a37ce13f",
       "value": " 289/289 [01:18&lt;00:00,  3.68it/s, acc=0.975, loss=0.0795]"
      }
     },
     "ab70f2b0f99a44cebebc55bf2ebffb3a": {
      "model_module": "@jupyter-widgets/base",
      "model_module_version": "1.2.0",
      "model_name": "LayoutModel",
      "state": {}
     },
     "ab9d9b19b7844f0882f9b4cda6abd5f2": {
      "model_module": "@jupyter-widgets/controls",
      "model_module_version": "1.5.0",
      "model_name": "ProgressStyleModel",
      "state": {
       "description_width": "initial"
      }
     },
     "aba4adff6a244d64be730617335eee71": {
      "model_module": "@jupyter-widgets/controls",
      "model_module_version": "1.5.0",
      "model_name": "DescriptionStyleModel",
      "state": {
       "description_width": ""
      }
     },
     "abc15af4dc4c4be99afd8b921771e5ab": {
      "model_module": "@jupyter-widgets/controls",
      "model_module_version": "1.5.0",
      "model_name": "HBoxModel",
      "state": {
       "children": [
        "IPY_MODEL_65791373d26e4310b9c5f1868a029dcd",
        "IPY_MODEL_8157b9b4aa834d11b2d2051be0861097"
       ],
       "layout": "IPY_MODEL_96847728e09e4f1eafb8e6d1585bf17d"
      }
     },
     "abc69771ba9b47089a50ff3eca951e16": {
      "model_module": "@jupyter-widgets/controls",
      "model_module_version": "1.5.0",
      "model_name": "HBoxModel",
      "state": {
       "children": [
        "IPY_MODEL_e4f8cc9d58ba49a9a468c25f848c9227",
        "IPY_MODEL_3c28bc3803144c518b25608550a79fa8"
       ],
       "layout": "IPY_MODEL_c6250adab0924676bd1bc205ac4cdfd2"
      }
     },
     "abf49a1458424455a677872bfbea1d40": {
      "model_module": "@jupyter-widgets/base",
      "model_module_version": "1.2.0",
      "model_name": "LayoutModel",
      "state": {}
     },
     "ac25674c212a4a479951d97c513f35dd": {
      "model_module": "@jupyter-widgets/controls",
      "model_module_version": "1.5.0",
      "model_name": "HTMLModel",
      "state": {
       "layout": "IPY_MODEL_d43cae0648034aa4ad0c08f91ea53700",
       "style": "IPY_MODEL_c54927bc69064848a8652cb4591de27e",
       "value": " 289/289 [00:37&lt;00:00,  7.81it/s, acc=0.991, loss=0.00386]"
      }
     },
     "ac3a4576b37b48da87d4db5587d35347": {
      "model_module": "@jupyter-widgets/controls",
      "model_module_version": "1.5.0",
      "model_name": "ProgressStyleModel",
      "state": {
       "description_width": "initial"
      }
     },
     "ac8a1e6a98304376b1616ef174ee46ce": {
      "model_module": "@jupyter-widgets/controls",
      "model_module_version": "1.5.0",
      "model_name": "ProgressStyleModel",
      "state": {
       "description_width": "initial"
      }
     },
     "ac9ef44cc1ed4dfc8416bc4b7c4e2747": {
      "model_module": "@jupyter-widgets/base",
      "model_module_version": "1.2.0",
      "model_name": "LayoutModel",
      "state": {}
     },
     "acb95733163e47599c8dc8ff4e1b5c5a": {
      "model_module": "@jupyter-widgets/controls",
      "model_module_version": "1.5.0",
      "model_name": "HBoxModel",
      "state": {
       "children": [
        "IPY_MODEL_30463f90c12a469c96458899497c2925",
        "IPY_MODEL_4faa0352dbc3441dab93c63936795321"
       ],
       "layout": "IPY_MODEL_b70a3cd56ad14a1a974e292b2425f156"
      }
     },
     "acd2998ca04946e896cf1866caf382c9": {
      "model_module": "@jupyter-widgets/base",
      "model_module_version": "1.2.0",
      "model_name": "LayoutModel",
      "state": {}
     },
     "acd95f91cfbf408ea56ede0315e324f7": {
      "model_module": "@jupyter-widgets/base",
      "model_module_version": "1.2.0",
      "model_name": "LayoutModel",
      "state": {}
     },
     "acf1eba4c56847a7bd73fc5cd989d3ba": {
      "model_module": "@jupyter-widgets/controls",
      "model_module_version": "1.5.0",
      "model_name": "HTMLModel",
      "state": {
       "layout": "IPY_MODEL_65c531e4a342438b8d4cf830efa2e9cd",
       "style": "IPY_MODEL_7fb8c62b156e4c5c94ac2cd121001c07",
       "value": " 0/370 [07:34&lt;?, ?it/s]"
      }
     },
     "acf859fe09d74f84965b1063e6c34b3e": {
      "model_module": "@jupyter-widgets/controls",
      "model_module_version": "1.5.0",
      "model_name": "HTMLModel",
      "state": {
       "layout": "IPY_MODEL_0f7f9415fedd4532b7f8c3ebfd4a5fba",
       "style": "IPY_MODEL_8e2ae89fdac047b293d7313e2887cccd",
       "value": " 289/289 [02:02&lt;00:00,  2.36it/s, acc=0.987, loss=0.0658]"
      }
     },
     "ad3358a76e544332939a2266a7681e43": {
      "model_module": "@jupyter-widgets/controls",
      "model_module_version": "1.5.0",
      "model_name": "ProgressStyleModel",
      "state": {
       "description_width": "initial"
      }
     },
     "ad3d2202c4664ff2a61090c9c3e7462e": {
      "model_module": "@jupyter-widgets/controls",
      "model_module_version": "1.5.0",
      "model_name": "HBoxModel",
      "state": {
       "children": [
        "IPY_MODEL_b6a5e1da05f1458292025eab55e3c562",
        "IPY_MODEL_2efe3790c97b492792d957ddd71698ce"
       ],
       "layout": "IPY_MODEL_b00e2d9ff17c4ec58499fa797f986314"
      }
     },
     "ad4b35df66ab45a8aabd976a5355b82b": {
      "model_module": "@jupyter-widgets/base",
      "model_module_version": "1.2.0",
      "model_name": "LayoutModel",
      "state": {}
     },
     "ad5d29c174764d84ba806e158c663429": {
      "model_module": "@jupyter-widgets/controls",
      "model_module_version": "1.5.0",
      "model_name": "ProgressStyleModel",
      "state": {
       "description_width": ""
      }
     },
     "ad64978f34d9424cb3fdbfe5963394ab": {
      "model_module": "@jupyter-widgets/controls",
      "model_module_version": "1.5.0",
      "model_name": "IntProgressModel",
      "state": {
       "bar_style": "success",
       "description": "Epoch [2/5]: 100%",
       "layout": "IPY_MODEL_ae445e1dddbc419daafd12a65d9125c0",
       "max": 281,
       "style": "IPY_MODEL_1bb0958813894b0790c2f375d7dcd391",
       "value": 281
      }
     },
     "ad85c41f71054961848c9b3aff51d9de": {
      "model_module": "@jupyter-widgets/controls",
      "model_module_version": "1.5.0",
      "model_name": "HTMLModel",
      "state": {
       "layout": "IPY_MODEL_baab4ad55acf4656903fefc669750302",
       "style": "IPY_MODEL_348f1ef8c5fb4776b5e46f2fd652f840",
       "value": " 255/255 [01:17&lt;00:00,  3.31it/s, acc=0.918, loss=0.712]"
      }
     },
     "ad8f35f76ac54773ba1d421ee9f5d338": {
      "model_module": "@jupyter-widgets/base",
      "model_module_version": "1.2.0",
      "model_name": "LayoutModel",
      "state": {}
     },
     "ada4728582094466b7a1ebd06c964089": {
      "model_module": "@jupyter-widgets/controls",
      "model_module_version": "1.5.0",
      "model_name": "IntProgressModel",
      "state": {
       "bar_style": "success",
       "description": "Epoch [5/5]: 100%",
       "layout": "IPY_MODEL_43a90a53a70940588c035ad30f893619",
       "max": 289,
       "style": "IPY_MODEL_6226bbb1b8334ac4b4e4f01377f0903e",
       "value": 289
      }
     },
     "ada86ac25f634f53bfef191b87514c1e": {
      "model_module": "@jupyter-widgets/base",
      "model_module_version": "1.2.0",
      "model_name": "LayoutModel",
      "state": {}
     },
     "adafd711d0614f57951f3bd9fbb5761c": {
      "model_module": "@jupyter-widgets/controls",
      "model_module_version": "1.5.0",
      "model_name": "IntProgressModel",
      "state": {
       "layout": "IPY_MODEL_fb9fc57708c7472b818200884f6a75d9",
       "max": 289,
       "style": "IPY_MODEL_63db00a99d294a0bbad391822bfd85c2"
      }
     },
     "adb8038d4b28450dbd573527cc4e0a85": {
      "model_module": "@jupyter-widgets/controls",
      "model_module_version": "1.5.0",
      "model_name": "ProgressStyleModel",
      "state": {
       "description_width": "initial"
      }
     },
     "adb83225c6f04bbcac9f335a51a11bb3": {
      "model_module": "@jupyter-widgets/controls",
      "model_module_version": "1.5.0",
      "model_name": "HBoxModel",
      "state": {
       "children": [
        "IPY_MODEL_5ab373ec375942858bc04cefa42f2c03",
        "IPY_MODEL_110c6a08cc6f4689bcaa1ddde8158a48"
       ],
       "layout": "IPY_MODEL_755158370d764888a193d10267f0d9e8"
      }
     },
     "addf0388bffa4aa684d8817b47e0b059": {
      "model_module": "@jupyter-widgets/base",
      "model_module_version": "1.2.0",
      "model_name": "LayoutModel",
      "state": {}
     },
     "ade33ca22085445fba958aa9a70a7c16": {
      "model_module": "@jupyter-widgets/controls",
      "model_module_version": "1.5.0",
      "model_name": "ProgressStyleModel",
      "state": {
       "description_width": "initial"
      }
     },
     "adfe5979fc3c4cbfa79fce8a3b251fcb": {
      "model_module": "@jupyter-widgets/base",
      "model_module_version": "1.2.0",
      "model_name": "LayoutModel",
      "state": {}
     },
     "ae445e1dddbc419daafd12a65d9125c0": {
      "model_module": "@jupyter-widgets/base",
      "model_module_version": "1.2.0",
      "model_name": "LayoutModel",
      "state": {}
     },
     "aeb52cd370584051abc8a28b2b3d6432": {
      "model_module": "@jupyter-widgets/controls",
      "model_module_version": "1.5.0",
      "model_name": "HTMLModel",
      "state": {
       "layout": "IPY_MODEL_b080fa878269455daeac2695c1cb0526",
       "style": "IPY_MODEL_e4c77e1bec0f4e3c97a9a1d0ff682957",
       "value": " 289/289 [01:08&lt;00:00,  4.19it/s, acc=0.981, loss=0.0524]"
      }
     },
     "af06017066f74688902d13bf5dae6596": {
      "model_module": "@jupyter-widgets/controls",
      "model_module_version": "1.5.0",
      "model_name": "HBoxModel",
      "state": {
       "children": [
        "IPY_MODEL_60dad761b75e4b5fbaacda3840af463e",
        "IPY_MODEL_aeb52cd370584051abc8a28b2b3d6432"
       ],
       "layout": "IPY_MODEL_bf53d02158654a259400b753441dfff4"
      }
     },
     "af151fd089d240aa92a92e8ba9466c1e": {
      "model_module": "@jupyter-widgets/controls",
      "model_module_version": "1.5.0",
      "model_name": "IntProgressModel",
      "state": {
       "bar_style": "success",
       "description": "Epoch [5/40]: 100%",
       "layout": "IPY_MODEL_dbb7e1c5d00d45daa5ea8b303358ec2a",
       "max": 338,
       "style": "IPY_MODEL_29773b1b84f84c3cb58b97e2041fa0f9",
       "value": 338
      }
     },
     "af1ba49d835d4f249f54fe9524b89020": {
      "model_module": "@jupyter-widgets/controls",
      "model_module_version": "1.5.0",
      "model_name": "IntProgressModel",
      "state": {
       "bar_style": "success",
       "description": "Epoch [26/40]: 100%",
       "layout": "IPY_MODEL_a5d6d2728c1a4929bdb9195e8c883eb8",
       "max": 255,
       "style": "IPY_MODEL_27ed9c07bcc248c09f94c593ecfe3fbb",
       "value": 255
      }
     },
     "af291e3fedb442099b3e6f9fbf445395": {
      "model_module": "@jupyter-widgets/base",
      "model_module_version": "1.2.0",
      "model_name": "LayoutModel",
      "state": {}
     },
     "af2b22e14d974f048f4ee933089ff7dd": {
      "model_module": "@jupyter-widgets/controls",
      "model_module_version": "1.5.0",
      "model_name": "HBoxModel",
      "state": {
       "children": [
        "IPY_MODEL_f6a3b04b784a417ea6279e0dbbee8d98",
        "IPY_MODEL_0e155fa6ba8145afaeda954260d02bbf"
       ],
       "layout": "IPY_MODEL_20cde568def24676b7af718337183402"
      }
     },
     "af5485387b294b61a4bb57428f62dc4e": {
      "model_module": "@jupyter-widgets/controls",
      "model_module_version": "1.5.0",
      "model_name": "IntProgressModel",
      "state": {
       "bar_style": "success",
       "description": "Epoch [5/40]: 100%",
       "layout": "IPY_MODEL_7860dfeb92fb41099d1c7b9c5a8d6fc8",
       "max": 241,
       "style": "IPY_MODEL_c94212c97e124f289242e0dd29b2c2ea",
       "value": 241
      }
     },
     "af80f8707d114ce191d5153a5f2abef6": {
      "model_module": "@jupyter-widgets/base",
      "model_module_version": "1.2.0",
      "model_name": "LayoutModel",
      "state": {}
     },
     "af8681a541854eec8dfeda5085924ff5": {
      "model_module": "@jupyter-widgets/controls",
      "model_module_version": "1.5.0",
      "model_name": "ProgressStyleModel",
      "state": {
       "description_width": "initial"
      }
     },
     "afaec1976cdb432ca4f4391248e26d6e": {
      "model_module": "@jupyter-widgets/controls",
      "model_module_version": "1.5.0",
      "model_name": "HTMLModel",
      "state": {
       "layout": "IPY_MODEL_2200562157854bbe8cea9df4dbccad28",
       "style": "IPY_MODEL_882efe15fb29471c96ad8337d7412fb3",
       "value": " 241/241 [01:05&lt;00:00,  3.70it/s, acc=0.967, loss=0.111]"
      }
     },
     "afd5e552da7d4f17b864e91500eeebd3": {
      "model_module": "@jupyter-widgets/controls",
      "model_module_version": "1.5.0",
      "model_name": "HTMLModel",
      "state": {
       "layout": "IPY_MODEL_bece5e89eb3f43ca98fc41757058710a",
       "style": "IPY_MODEL_2e3071864f624e719b192d7daff6bb97",
       "value": " 255/255 [00:45&lt;00:00,  5.55it/s, acc=0.986, loss=0.0204]"
      }
     },
     "afda1c922cb74885945c5b814fddf4c4": {
      "model_module": "@jupyter-widgets/controls",
      "model_module_version": "1.5.0",
      "model_name": "HTMLModel",
      "state": {
       "layout": "IPY_MODEL_ce180c8329b34f2293dd33a6bb90ca39",
       "style": "IPY_MODEL_087450c2bb62432888c96a2ca7cecf33",
       "value": " 283/283 [00:43&lt;00:00,  6.45it/s, acc=0.994, loss=0.00169]"
      }
     },
     "aff61058b56d45bda3bfdb937f4be19f": {
      "model_module": "@jupyter-widgets/base",
      "model_module_version": "1.2.0",
      "model_name": "LayoutModel",
      "state": {}
     },
     "b00196cd7a804e0dbf033be6b6381d2e": {
      "model_module": "@jupyter-widgets/controls",
      "model_module_version": "1.5.0",
      "model_name": "IntProgressModel",
      "state": {
       "bar_style": "success",
       "description": "Epoch [2/40]: 100%",
       "layout": "IPY_MODEL_07efb71ff2684a679a5b3050943b477b",
       "max": 338,
       "style": "IPY_MODEL_f6101aa9081849ee8e1463cbacf0de0b",
       "value": 338
      }
     },
     "b00e2d9ff17c4ec58499fa797f986314": {
      "model_module": "@jupyter-widgets/base",
      "model_module_version": "1.2.0",
      "model_name": "LayoutModel",
      "state": {}
     },
     "b015525b6d0e471a910514decea62743": {
      "model_module": "@jupyter-widgets/controls",
      "model_module_version": "1.5.0",
      "model_name": "HTMLModel",
      "state": {
       "layout": "IPY_MODEL_1555966fcbcd493c9ad8f3cbcdee645b",
       "style": "IPY_MODEL_cefeb012f40e4f41940f7d7d38f7fd70",
       "value": " 361/361 [02:14&lt;00:00,  2.67it/s, acc=0.982, loss=0.0145]"
      }
     },
     "b029d65264d74e8fb54c53ce014edb89": {
      "model_module": "@jupyter-widgets/base",
      "model_module_version": "1.2.0",
      "model_name": "LayoutModel",
      "state": {}
     },
     "b02c22272a9e455195d384b9ef2eb908": {
      "model_module": "@jupyter-widgets/controls",
      "model_module_version": "1.5.0",
      "model_name": "IntProgressModel",
      "state": {
       "bar_style": "success",
       "description": "Epoch [37/40]: 100%",
       "layout": "IPY_MODEL_8438ab02333448b2a6463ab5e9897324",
       "max": 289,
       "style": "IPY_MODEL_2a9ea2476f9643cda315e5746f49d207",
       "value": 289
      }
     },
     "b03b9aa7ea1d4dd2ae64d51582f2da8a": {
      "model_module": "@jupyter-widgets/controls",
      "model_module_version": "1.5.0",
      "model_name": "ProgressStyleModel",
      "state": {
       "description_width": "initial"
      }
     },
     "b04fc22382e443029c7f7f258ffe849f": {
      "model_module": "@jupyter-widgets/controls",
      "model_module_version": "1.5.0",
      "model_name": "HTMLModel",
      "state": {
       "layout": "IPY_MODEL_c939ed4afa7441d6a9a8c51de90f28df",
       "style": "IPY_MODEL_0e98adce9e484a04b3ba801f50043b64",
       "value": " 289/289 [01:56&lt;00:00,  2.48it/s, acc=0.952, loss=0.14]"
      }
     },
     "b052fd76c2c949939b353621d37d9422": {
      "model_module": "@jupyter-widgets/base",
      "model_module_version": "1.2.0",
      "model_name": "LayoutModel",
      "state": {}
     },
     "b080fa878269455daeac2695c1cb0526": {
      "model_module": "@jupyter-widgets/base",
      "model_module_version": "1.2.0",
      "model_name": "LayoutModel",
      "state": {}
     },
     "b083f332e74546c6b0bbf5dde0e789e7": {
      "model_module": "@jupyter-widgets/controls",
      "model_module_version": "1.5.0",
      "model_name": "IntProgressModel",
      "state": {
       "bar_style": "success",
       "description": "Epoch [34/40]: 100%",
       "layout": "IPY_MODEL_d8871f5591064765a39e58935ad3b059",
       "max": 289,
       "style": "IPY_MODEL_dd8c2881ca9e4bdd8ac7e36b8e165b20",
       "value": 289
      }
     },
     "b0889546fdae4979977c9eb67afdbf72": {
      "model_module": "@jupyter-widgets/base",
      "model_module_version": "1.2.0",
      "model_name": "LayoutModel",
      "state": {}
     },
     "b09702d8165c4aa7bc958301fcc20d09": {
      "model_module": "@jupyter-widgets/base",
      "model_module_version": "1.2.0",
      "model_name": "LayoutModel",
      "state": {}
     },
     "b0ab4f0e025f4280b976cf0eeadc62bc": {
      "model_module": "@jupyter-widgets/base",
      "model_module_version": "1.2.0",
      "model_name": "LayoutModel",
      "state": {}
     },
     "b0be876ac87d40a8964809e36be8993c": {
      "model_module": "@jupyter-widgets/controls",
      "model_module_version": "1.5.0",
      "model_name": "ProgressStyleModel",
      "state": {
       "description_width": "initial"
      }
     },
     "b0dbcc0a16e74184abddb112e87fae45": {
      "model_module": "@jupyter-widgets/controls",
      "model_module_version": "1.5.0",
      "model_name": "IntProgressModel",
      "state": {
       "bar_style": "success",
       "description": "Epoch [28/40]: 100%",
       "layout": "IPY_MODEL_1d46cea0b0534dab9801de210fa714f2",
       "max": 255,
       "style": "IPY_MODEL_82981c39e4eb4355ae5bbfbf14f06ca1",
       "value": 255
      }
     },
     "b106217d98f541f482b4736ac588fb8c": {
      "model_module": "@jupyter-widgets/base",
      "model_module_version": "1.2.0",
      "model_name": "LayoutModel",
      "state": {}
     },
     "b1336341a67f484dbcfa4c0a720bc915": {
      "model_module": "@jupyter-widgets/controls",
      "model_module_version": "1.5.0",
      "model_name": "ProgressStyleModel",
      "state": {
       "description_width": "initial"
      }
     },
     "b13920f6e4e947d8bfe8765e38c76804": {
      "model_module": "@jupyter-widgets/controls",
      "model_module_version": "1.5.0",
      "model_name": "ProgressStyleModel",
      "state": {
       "description_width": "initial"
      }
     },
     "b16e97bd08784873810a99497ea7674a": {
      "model_module": "@jupyter-widgets/base",
      "model_module_version": "1.2.0",
      "model_name": "LayoutModel",
      "state": {}
     },
     "b1a85180728748b4b3f6d64a08bbcfb4": {
      "model_module": "@jupyter-widgets/controls",
      "model_module_version": "1.5.0",
      "model_name": "HBoxModel",
      "state": {
       "children": [
        "IPY_MODEL_2ae098f3d2f24b86a0ccd0ee6ce6667d",
        "IPY_MODEL_886abe65f4f14586861ef658db6d15a1"
       ],
       "layout": "IPY_MODEL_c35b571d6ad04dc39ab09a621cc3e604"
      }
     },
     "b207247d917f458d81f1ec338cdcea8d": {
      "model_module": "@jupyter-widgets/controls",
      "model_module_version": "1.5.0",
      "model_name": "DescriptionStyleModel",
      "state": {
       "description_width": ""
      }
     },
     "b2363d1f1fe74710a233f50ff8fee69f": {
      "model_module": "@jupyter-widgets/base",
      "model_module_version": "1.2.0",
      "model_name": "LayoutModel",
      "state": {}
     },
     "b2aad718a50b4021b56c3b0c7231feb3": {
      "model_module": "@jupyter-widgets/controls",
      "model_module_version": "1.5.0",
      "model_name": "DescriptionStyleModel",
      "state": {
       "description_width": ""
      }
     },
     "b33df3d3f87042508b72a5fc837732c8": {
      "model_module": "@jupyter-widgets/controls",
      "model_module_version": "1.5.0",
      "model_name": "ProgressStyleModel",
      "state": {
       "description_width": "initial"
      }
     },
     "b34ba3ec210c47c4a526c741d1532d0a": {
      "model_module": "@jupyter-widgets/controls",
      "model_module_version": "1.5.0",
      "model_name": "DescriptionStyleModel",
      "state": {
       "description_width": ""
      }
     },
     "b36f1922afd242609de74a3eda36ae8f": {
      "model_module": "@jupyter-widgets/base",
      "model_module_version": "1.2.0",
      "model_name": "LayoutModel",
      "state": {}
     },
     "b39cdc6110614d5986f7ad6b71ea9e6a": {
      "model_module": "@jupyter-widgets/controls",
      "model_module_version": "1.5.0",
      "model_name": "DescriptionStyleModel",
      "state": {
       "description_width": ""
      }
     },
     "b3a7f2e60b5945139822bfcb3decb7bd": {
      "model_module": "@jupyter-widgets/controls",
      "model_module_version": "1.5.0",
      "model_name": "HBoxModel",
      "state": {
       "children": [
        "IPY_MODEL_1811993d44d8435d953b0ad917dd7868",
        "IPY_MODEL_d61a0fe10a2a457b8fd54341ccc99a53"
       ],
       "layout": "IPY_MODEL_002d1e06de994c1984f453615f4fbe43"
      }
     },
     "b3bd279d2a294d738e37d0da53bfcc65": {
      "model_module": "@jupyter-widgets/controls",
      "model_module_version": "1.5.0",
      "model_name": "HBoxModel",
      "state": {
       "children": [
        "IPY_MODEL_9a670e1c85aa411cbaad46b081f5c187",
        "IPY_MODEL_1d3cb08707cb448a9edb282bd6f7fcc8"
       ],
       "layout": "IPY_MODEL_ad4b35df66ab45a8aabd976a5355b82b"
      }
     },
     "b40d2960e0d542b481d8cef1c028f432": {
      "model_module": "@jupyter-widgets/base",
      "model_module_version": "1.2.0",
      "model_name": "LayoutModel",
      "state": {}
     },
     "b41112daa15145629d345a7b4d782f68": {
      "model_module": "@jupyter-widgets/controls",
      "model_module_version": "1.5.0",
      "model_name": "HTMLModel",
      "state": {
       "layout": "IPY_MODEL_b75e8cf417da4e63b8a5f2cb6204ee53",
       "style": "IPY_MODEL_d2ca1e695ac94593b499e79eabe57872",
       "value": " 255/255 [01:15&lt;00:00,  3.40it/s, acc=0.98, loss=0.0646]"
      }
     },
     "b42ee7f2207e44fe9f359656dbeff8c1": {
      "model_module": "@jupyter-widgets/controls",
      "model_module_version": "1.5.0",
      "model_name": "DescriptionStyleModel",
      "state": {
       "description_width": ""
      }
     },
     "b43183b4a2fe4d9fab208079217a68df": {
      "model_module": "@jupyter-widgets/base",
      "model_module_version": "1.2.0",
      "model_name": "LayoutModel",
      "state": {}
     },
     "b432d55d214042cdbc8a806fd33fcaaa": {
      "model_module": "@jupyter-widgets/controls",
      "model_module_version": "1.5.0",
      "model_name": "HTMLModel",
      "state": {
       "layout": "IPY_MODEL_df0e216bec4c4043abd93a8f8b6abf67",
       "style": "IPY_MODEL_32126dc4c8aa49bd84378ed4d1c5e847",
       "value": " 289/289 [01:37&lt;00:00,  2.95it/s, acc=0.979, loss=0.0622]"
      }
     },
     "b453d426dfc443639dfee174b0a57b52": {
      "model_module": "@jupyter-widgets/controls",
      "model_module_version": "1.5.0",
      "model_name": "ProgressStyleModel",
      "state": {
       "description_width": "initial"
      }
     },
     "b45e5deab8454f6392b0d53369940a6b": {
      "model_module": "@jupyter-widgets/controls",
      "model_module_version": "1.5.0",
      "model_name": "HTMLModel",
      "state": {
       "layout": "IPY_MODEL_8ceb86909f864071878b489630629022",
       "style": "IPY_MODEL_b492d58133554d70bbf41ca386f7d7e5",
       "value": " 289/289 [00:58&lt;00:00,  4.90it/s, acc=0.983, loss=0.00756]"
      }
     },
     "b46761122bb1425a93883e1a008e8a76": {
      "model_module": "@jupyter-widgets/controls",
      "model_module_version": "1.5.0",
      "model_name": "IntProgressModel",
      "state": {
       "bar_style": "success",
       "description": "Epoch [13/40]: 100%",
       "layout": "IPY_MODEL_cf7dab1e19314881868ea8486098e1d3",
       "max": 255,
       "style": "IPY_MODEL_c17bba6675024393a1d8c37a9bb7c788",
       "value": 255
      }
     },
     "b48259a92c2444a892da5e8d428f12ca": {
      "model_module": "@jupyter-widgets/controls",
      "model_module_version": "1.5.0",
      "model_name": "IntProgressModel",
      "state": {
       "bar_style": "success",
       "description": "Epoch [20/100]: 100%",
       "layout": "IPY_MODEL_c279e314a1a0426590f3203cd5f86ddb",
       "max": 289,
       "style": "IPY_MODEL_9a3cd5dd51444cb994e3e41f05be0c85",
       "value": 289
      }
     },
     "b48e34fcb4bc474f8b0a8e51c3373ae4": {
      "model_module": "@jupyter-widgets/controls",
      "model_module_version": "1.5.0",
      "model_name": "HTMLModel",
      "state": {
       "layout": "IPY_MODEL_901e577894904f9e8779ac36979e5174",
       "style": "IPY_MODEL_841ec4ac83a345c38681184379a5cf6c",
       "value": " 338/338 [01:24&lt;00:00,  3.99it/s, acc=0.978, loss=0.0562]"
      }
     },
     "b492d58133554d70bbf41ca386f7d7e5": {
      "model_module": "@jupyter-widgets/controls",
      "model_module_version": "1.5.0",
      "model_name": "DescriptionStyleModel",
      "state": {
       "description_width": ""
      }
     },
     "b4cbc5dbabc9438a88bb56640cc62ee7": {
      "model_module": "@jupyter-widgets/base",
      "model_module_version": "1.2.0",
      "model_name": "LayoutModel",
      "state": {}
     },
     "b4d6f591b7014a918712359e5905f6db": {
      "model_module": "@jupyter-widgets/controls",
      "model_module_version": "1.5.0",
      "model_name": "HTMLModel",
      "state": {
       "layout": "IPY_MODEL_b7a6e1a5b04142688df4bdd1cd18b63e",
       "style": "IPY_MODEL_233eab81305b4cf3af5e5c8cff25c315",
       "value": " 289/289 [01:54&lt;00:00,  2.52it/s, acc=0.269, loss=1.66]"
      }
     },
     "b4f8fde79ad547168c6629996e9a0e41": {
      "model_module": "@jupyter-widgets/base",
      "model_module_version": "1.2.0",
      "model_name": "LayoutModel",
      "state": {}
     },
     "b535aa15a5db4c2d8065016016a7e334": {
      "model_module": "@jupyter-widgets/controls",
      "model_module_version": "1.5.0",
      "model_name": "HTMLModel",
      "state": {
       "layout": "IPY_MODEL_53dd3568115f497ab2d008ddd8a3e670",
       "style": "IPY_MODEL_89d1a95639f04e0989cd48f30f6f6ee3",
       "value": " 361/361 [01:03&lt;00:00,  5.65it/s, acc=0.987, loss=0.00651]"
      }
     },
     "b53eca8b8d0441189661e227eba5ecc1": {
      "model_module": "@jupyter-widgets/controls",
      "model_module_version": "1.5.0",
      "model_name": "HBoxModel",
      "state": {
       "children": [
        "IPY_MODEL_e38dd52d92194608a8db568b1a038b12",
        "IPY_MODEL_3647435eb0584ff4a7326995f31f95c7"
       ],
       "layout": "IPY_MODEL_de31172fc76e44ba9ff21603966163fd"
      }
     },
     "b554b66404964f72b253e6c137079e1a": {
      "model_module": "@jupyter-widgets/controls",
      "model_module_version": "1.5.0",
      "model_name": "HBoxModel",
      "state": {
       "children": [
        "IPY_MODEL_54fad4666a1c491bb5aa05e7a002ca78",
        "IPY_MODEL_580d33911fa443c9a0519d39b9cd2a27"
       ],
       "layout": "IPY_MODEL_33ceed4d76be4322a069ec42211f5003"
      }
     },
     "b589109b70b244fd88b86adefe5f59c2": {
      "model_module": "@jupyter-widgets/controls",
      "model_module_version": "1.5.0",
      "model_name": "DescriptionStyleModel",
      "state": {
       "description_width": ""
      }
     },
     "b5a7e7db96af438e87b39526ea106cbd": {
      "model_module": "@jupyter-widgets/controls",
      "model_module_version": "1.5.0",
      "model_name": "HBoxModel",
      "state": {
       "children": [
        "IPY_MODEL_d58a2016b79247418a8ee9ee31fab461",
        "IPY_MODEL_c3b51c7bdf0d48c9ae0d66b29e8b1fc4"
       ],
       "layout": "IPY_MODEL_1828b98ee53544c4997848526977fdfc"
      }
     },
     "b5c8c1f312234f1db658abc5f959829a": {
      "model_module": "@jupyter-widgets/controls",
      "model_module_version": "1.5.0",
      "model_name": "ProgressStyleModel",
      "state": {
       "description_width": "initial"
      }
     },
     "b5ede6ef7b4c437d8be83b7a9f313953": {
      "model_module": "@jupyter-widgets/base",
      "model_module_version": "1.2.0",
      "model_name": "LayoutModel",
      "state": {}
     },
     "b60b5e9e84224001b243520a31f4b4b2": {
      "model_module": "@jupyter-widgets/base",
      "model_module_version": "1.2.0",
      "model_name": "LayoutModel",
      "state": {}
     },
     "b610a4b4db13427ab70ba365181b13d6": {
      "model_module": "@jupyter-widgets/base",
      "model_module_version": "1.2.0",
      "model_name": "LayoutModel",
      "state": {}
     },
     "b62aea15bfcc48109afc62e0eddbec0b": {
      "model_module": "@jupyter-widgets/base",
      "model_module_version": "1.2.0",
      "model_name": "LayoutModel",
      "state": {}
     },
     "b6505af386074e1c8d0e3d026695ad70": {
      "model_module": "@jupyter-widgets/base",
      "model_module_version": "1.2.0",
      "model_name": "LayoutModel",
      "state": {}
     },
     "b661371ab81144618965e8961407a618": {
      "model_module": "@jupyter-widgets/controls",
      "model_module_version": "1.5.0",
      "model_name": "ProgressStyleModel",
      "state": {
       "description_width": "initial"
      }
     },
     "b67713737db649e7bbfc0395793e13c5": {
      "model_module": "@jupyter-widgets/base",
      "model_module_version": "1.2.0",
      "model_name": "LayoutModel",
      "state": {}
     },
     "b6a5e1da05f1458292025eab55e3c562": {
      "model_module": "@jupyter-widgets/controls",
      "model_module_version": "1.5.0",
      "model_name": "IntProgressModel",
      "state": {
       "bar_style": "success",
       "description": "Epoch [6/40]: 100%",
       "layout": "IPY_MODEL_9727c8794c9a420188aa00fb855d809a",
       "max": 289,
       "style": "IPY_MODEL_85dca35800184dfe992671b2d0fe04a7",
       "value": 289
      }
     },
     "b6c4c3b6c7c54f6486cf107e28a30694": {
      "model_module": "@jupyter-widgets/base",
      "model_module_version": "1.2.0",
      "model_name": "LayoutModel",
      "state": {}
     },
     "b6d97cce0f40459c9375e8807b3bfb39": {
      "model_module": "@jupyter-widgets/base",
      "model_module_version": "1.2.0",
      "model_name": "LayoutModel",
      "state": {}
     },
     "b6da20e54379465b9a05dc4fbcd1d85e": {
      "model_module": "@jupyter-widgets/base",
      "model_module_version": "1.2.0",
      "model_name": "LayoutModel",
      "state": {}
     },
     "b70a3cd56ad14a1a974e292b2425f156": {
      "model_module": "@jupyter-widgets/base",
      "model_module_version": "1.2.0",
      "model_name": "LayoutModel",
      "state": {}
     },
     "b736aceab10d4df493a7f11282bace8c": {
      "model_module": "@jupyter-widgets/controls",
      "model_module_version": "1.5.0",
      "model_name": "ProgressStyleModel",
      "state": {
       "description_width": "initial"
      }
     },
     "b73750c556a64d85abd0c9cc1c1f274b": {
      "model_module": "@jupyter-widgets/base",
      "model_module_version": "1.2.0",
      "model_name": "LayoutModel",
      "state": {}
     },
     "b744d54f68254b96ad450214d4b3f518": {
      "model_module": "@jupyter-widgets/controls",
      "model_module_version": "1.5.0",
      "model_name": "IntProgressModel",
      "state": {
       "bar_style": "success",
       "description": "Epoch [19/40]: 100%",
       "layout": "IPY_MODEL_058b9f583dd24f23a3030d9e59923a9b",
       "max": 255,
       "style": "IPY_MODEL_88f88cdf310b48869d9dc1c29e7e96e3",
       "value": 255
      }
     },
     "b74dd068e68541068bf53291dbae3930": {
      "model_module": "@jupyter-widgets/base",
      "model_module_version": "1.2.0",
      "model_name": "LayoutModel",
      "state": {}
     },
     "b75e8cf417da4e63b8a5f2cb6204ee53": {
      "model_module": "@jupyter-widgets/base",
      "model_module_version": "1.2.0",
      "model_name": "LayoutModel",
      "state": {}
     },
     "b75f36a9542a461694b61b025d5436f2": {
      "model_module": "@jupyter-widgets/base",
      "model_module_version": "1.2.0",
      "model_name": "LayoutModel",
      "state": {}
     },
     "b7a43967ac6b49348e68697087c74b96": {
      "model_module": "@jupyter-widgets/controls",
      "model_module_version": "1.5.0",
      "model_name": "ProgressStyleModel",
      "state": {
       "description_width": "initial"
      }
     },
     "b7a6e1a5b04142688df4bdd1cd18b63e": {
      "model_module": "@jupyter-widgets/base",
      "model_module_version": "1.2.0",
      "model_name": "LayoutModel",
      "state": {}
     },
     "b815042fb6284d92b221e1ec9c08911c": {
      "model_module": "@jupyter-widgets/base",
      "model_module_version": "1.2.0",
      "model_name": "LayoutModel",
      "state": {}
     },
     "b82c096781234133b824d9fdd2d094cb": {
      "model_module": "@jupyter-widgets/controls",
      "model_module_version": "1.5.0",
      "model_name": "ProgressStyleModel",
      "state": {
       "description_width": ""
      }
     },
     "b82e22035ff849bf9b97b20cae6bbba7": {
      "model_module": "@jupyter-widgets/controls",
      "model_module_version": "1.5.0",
      "model_name": "HBoxModel",
      "state": {
       "children": [
        "IPY_MODEL_2c6a872be21b41bd89f8ecaf5c4ee8eb",
        "IPY_MODEL_3d24241972e24db094a81ef770b932d8"
       ],
       "layout": "IPY_MODEL_55a910fbdfbd4da581ad3ec29130b299"
      }
     },
     "b85d8736ed3542a794d87932a0d44881": {
      "model_module": "@jupyter-widgets/controls",
      "model_module_version": "1.5.0",
      "model_name": "HTMLModel",
      "state": {
       "layout": "IPY_MODEL_21153cf7ae48418b92da3413189c2c90",
       "style": "IPY_MODEL_0b6571b6c0774c12a5974ef3ebf446a6",
       "value": " 361/361 [01:10&lt;00:00,  5.12it/s, acc=0.917, loss=0.375]"
      }
     },
     "b87a01a661234b938aecd1d690288412": {
      "model_module": "@jupyter-widgets/base",
      "model_module_version": "1.2.0",
      "model_name": "LayoutModel",
      "state": {}
     },
     "b8965b0b7a294590828729439d588ad8": {
      "model_module": "@jupyter-widgets/controls",
      "model_module_version": "1.5.0",
      "model_name": "DescriptionStyleModel",
      "state": {
       "description_width": ""
      }
     },
     "b89db179d9a0440c8eee4688bc90086c": {
      "model_module": "@jupyter-widgets/controls",
      "model_module_version": "1.5.0",
      "model_name": "DescriptionStyleModel",
      "state": {
       "description_width": ""
      }
     },
     "b8e297c5fca549488066f99ce4432954": {
      "model_module": "@jupyter-widgets/controls",
      "model_module_version": "1.5.0",
      "model_name": "DescriptionStyleModel",
      "state": {
       "description_width": ""
      }
     },
     "b90103d44ddf46c586041c575f30a9f7": {
      "model_module": "@jupyter-widgets/base",
      "model_module_version": "1.2.0",
      "model_name": "LayoutModel",
      "state": {}
     },
     "b92057811f294072a5e8215e7cff9b9d": {
      "model_module": "@jupyter-widgets/controls",
      "model_module_version": "1.5.0",
      "model_name": "HBoxModel",
      "state": {
       "children": [
        "IPY_MODEL_8c8311223b934fbc8401ef65e4a2516d",
        "IPY_MODEL_28a38374e75145cc998e7b2a6d377ec3"
       ],
       "layout": "IPY_MODEL_1553f2f655994708b881348cf2f114cf"
      }
     },
     "b94b70d9bbe94a13a5c8538b4a1d01bb": {
      "model_module": "@jupyter-widgets/controls",
      "model_module_version": "1.5.0",
      "model_name": "DescriptionStyleModel",
      "state": {
       "description_width": ""
      }
     },
     "b9652a6f3df246a6849cafdd8bdd53c5": {
      "model_module": "@jupyter-widgets/controls",
      "model_module_version": "1.5.0",
      "model_name": "DescriptionStyleModel",
      "state": {
       "description_width": ""
      }
     },
     "b96ac541ab864644af4d90d5ea8ad0c2": {
      "model_module": "@jupyter-widgets/base",
      "model_module_version": "1.2.0",
      "model_name": "LayoutModel",
      "state": {}
     },
     "b96c0dcfd0914583a0b82304de023825": {
      "model_module": "@jupyter-widgets/controls",
      "model_module_version": "1.5.0",
      "model_name": "IntProgressModel",
      "state": {
       "bar_style": "success",
       "description": "Epoch [43/100]: 100%",
       "layout": "IPY_MODEL_a117c89665ef409ca89c2370a9a563b9",
       "max": 289,
       "style": "IPY_MODEL_688abd51a38e4b52832cf9f8879a32d0",
       "value": 289
      }
     },
     "b971cfb1e60a41cbacd69d68f39423f1": {
      "model_module": "@jupyter-widgets/controls",
      "model_module_version": "1.5.0",
      "model_name": "HTMLModel",
      "state": {
       "layout": "IPY_MODEL_e7875b1c4c394dfc82b9c4aad9e0bc84",
       "style": "IPY_MODEL_5ef8b3cf6475459591d9e2048bbfd059",
       "value": " 241/241 [01:06&lt;00:00,  3.63it/s, acc=0.448, loss=1.21]"
      }
     },
     "b9e2e75fbd1c463d9a84895b5e1413be": {
      "model_module": "@jupyter-widgets/controls",
      "model_module_version": "1.5.0",
      "model_name": "HTMLModel",
      "state": {
       "layout": "IPY_MODEL_43256b80d8f94c2da9b32c8b60974d2e",
       "style": "IPY_MODEL_593911c2992d45b4bfe4dde90b133140",
       "value": " 361/361 [01:41&lt;00:00,  3.56it/s, acc=0.985, loss=0.02]"
      }
     },
     "b9e5f016081c49fc97e07a65e63fe59b": {
      "model_module": "@jupyter-widgets/controls",
      "model_module_version": "1.5.0",
      "model_name": "IntProgressModel",
      "state": {
       "bar_style": "success",
       "description": "Epoch [25/40]: 100%",
       "layout": "IPY_MODEL_3f092a76b48f45119a60cf78c0880452",
       "max": 241,
       "style": "IPY_MODEL_691b760de9954fa296a627b89bd1bbdc",
       "value": 241
      }
     },
     "b9f2bebdadfe48159da3b4cde90858fa": {
      "model_module": "@jupyter-widgets/controls",
      "model_module_version": "1.5.0",
      "model_name": "DescriptionStyleModel",
      "state": {
       "description_width": ""
      }
     },
     "ba01dfa29b4a461eace4eb5343a005b6": {
      "model_module": "@jupyter-widgets/controls",
      "model_module_version": "1.5.0",
      "model_name": "HTMLModel",
      "state": {
       "layout": "IPY_MODEL_e73b4a726473417f8f3e2a3f555864f3",
       "style": "IPY_MODEL_dbdc92a6b7b342a78dc5f23ab04acc9e",
       "value": " 289/289 [01:12&lt;00:00,  3.98it/s, acc=0.986, loss=0.104]"
      }
     },
     "ba2de7a1204346c3ab4bd64bf2039886": {
      "model_module": "@jupyter-widgets/base",
      "model_module_version": "1.2.0",
      "model_name": "LayoutModel",
      "state": {}
     },
     "ba36788b0c7c43d2823abba895a38048": {
      "model_module": "@jupyter-widgets/controls",
      "model_module_version": "1.5.0",
      "model_name": "DescriptionStyleModel",
      "state": {
       "description_width": ""
      }
     },
     "ba9015d8089d41d38b0113890228cf1e": {
      "model_module": "@jupyter-widgets/controls",
      "model_module_version": "1.5.0",
      "model_name": "DescriptionStyleModel",
      "state": {
       "description_width": ""
      }
     },
     "baab4ad55acf4656903fefc669750302": {
      "model_module": "@jupyter-widgets/base",
      "model_module_version": "1.2.0",
      "model_name": "LayoutModel",
      "state": {}
     },
     "baace7aa9bbc4804b273ddde3584b64e": {
      "model_module": "@jupyter-widgets/controls",
      "model_module_version": "1.5.0",
      "model_name": "HBoxModel",
      "state": {
       "children": [
        "IPY_MODEL_0eaccbf08cd74319baf2fcb695688cf1",
        "IPY_MODEL_d91eff865c0a4c80867fb86a6494fa0d"
       ],
       "layout": "IPY_MODEL_503cf3ec661d4f308507458fb960bff8"
      }
     },
     "bac482d0b81241749d90b1f43be5e700": {
      "model_module": "@jupyter-widgets/base",
      "model_module_version": "1.2.0",
      "model_name": "LayoutModel",
      "state": {}
     },
     "baeb69ba544b4cd0a639e5baa860fb02": {
      "model_module": "@jupyter-widgets/base",
      "model_module_version": "1.2.0",
      "model_name": "LayoutModel",
      "state": {}
     },
     "bb30f27fa28944b987c6bbfc0a4e9dd8": {
      "model_module": "@jupyter-widgets/controls",
      "model_module_version": "1.5.0",
      "model_name": "ProgressStyleModel",
      "state": {
       "description_width": "initial"
      }
     },
     "bb56f4a9f2c84ba5a7f7db59dfaaa899": {
      "model_module": "@jupyter-widgets/controls",
      "model_module_version": "1.5.0",
      "model_name": "DescriptionStyleModel",
      "state": {
       "description_width": ""
      }
     },
     "bb6f5b149d854c4e86e812964d47898f": {
      "model_module": "@jupyter-widgets/controls",
      "model_module_version": "1.5.0",
      "model_name": "DescriptionStyleModel",
      "state": {
       "description_width": ""
      }
     },
     "bb7551b8705441aba71df8af28a269fe": {
      "model_module": "@jupyter-widgets/base",
      "model_module_version": "1.2.0",
      "model_name": "LayoutModel",
      "state": {}
     },
     "bb766c70df6d44e597a133b97ff87d11": {
      "model_module": "@jupyter-widgets/controls",
      "model_module_version": "1.5.0",
      "model_name": "ProgressStyleModel",
      "state": {
       "description_width": "initial"
      }
     },
     "bb7d942d9ecd4d6e81a64a7611cc9790": {
      "model_module": "@jupyter-widgets/controls",
      "model_module_version": "1.5.0",
      "model_name": "HBoxModel",
      "state": {
       "children": [
        "IPY_MODEL_f1290278d3e94db7af24c828339be237",
        "IPY_MODEL_a46452628931409eb0debd0293321413"
       ],
       "layout": "IPY_MODEL_8ef58032d8224e078ba9ef03a47af123"
      }
     },
     "bb9ee977eb9f40f0825c132ac2d061f1": {
      "model_module": "@jupyter-widgets/base",
      "model_module_version": "1.2.0",
      "model_name": "LayoutModel",
      "state": {}
     },
     "bbb5d591ee564467a8eddd3ee9fcc9d7": {
      "model_module": "@jupyter-widgets/base",
      "model_module_version": "1.2.0",
      "model_name": "LayoutModel",
      "state": {}
     },
     "bc3e8770d7e745a1a3c4067b7a015c6d": {
      "model_module": "@jupyter-widgets/base",
      "model_module_version": "1.2.0",
      "model_name": "LayoutModel",
      "state": {}
     },
     "bc4b680514dc490ea643aee605507253": {
      "model_module": "@jupyter-widgets/controls",
      "model_module_version": "1.5.0",
      "model_name": "IntProgressModel",
      "state": {
       "layout": "IPY_MODEL_3a407d2fb8ae4a7ba73309782384b57a",
       "max": 289,
       "style": "IPY_MODEL_725cf55509cd499fb0330c9c131654ea"
      }
     },
     "bc5aea52864a4f6988c297134131ad99": {
      "model_module": "@jupyter-widgets/controls",
      "model_module_version": "1.5.0",
      "model_name": "DescriptionStyleModel",
      "state": {
       "description_width": ""
      }
     },
     "bc694644cdb74e928f4430cf1744bbe3": {
      "model_module": "@jupyter-widgets/controls",
      "model_module_version": "1.5.0",
      "model_name": "ProgressStyleModel",
      "state": {
       "description_width": "initial"
      }
     },
     "bc6a78bd7c404eba98ff66b63d88f8b0": {
      "model_module": "@jupyter-widgets/base",
      "model_module_version": "1.2.0",
      "model_name": "LayoutModel",
      "state": {}
     },
     "bc6c6159880d4bf0bdd3d1e3d973c324": {
      "model_module": "@jupyter-widgets/controls",
      "model_module_version": "1.5.0",
      "model_name": "IntProgressModel",
      "state": {
       "bar_style": "success",
       "description": "Epoch [17/40]: 100%",
       "layout": "IPY_MODEL_1576468bc6894d1f95cc5412fbff5754",
       "max": 255,
       "style": "IPY_MODEL_41f0246a4c0a428faa7f393190a694df",
       "value": 255
      }
     },
     "bc8d71ce31694a96aba94e5eff018112": {
      "model_module": "@jupyter-widgets/base",
      "model_module_version": "1.2.0",
      "model_name": "LayoutModel",
      "state": {}
     },
     "bc9d4523613a41a79fc9e7521a64fe54": {
      "model_module": "@jupyter-widgets/controls",
      "model_module_version": "1.5.0",
      "model_name": "DescriptionStyleModel",
      "state": {
       "description_width": ""
      }
     },
     "bd9febe7012240c1a22d52bca0d8f429": {
      "model_module": "@jupyter-widgets/controls",
      "model_module_version": "1.5.0",
      "model_name": "ProgressStyleModel",
      "state": {
       "description_width": "initial"
      }
     },
     "bdb41d94ae5340218374bfe3edb539ff": {
      "model_module": "@jupyter-widgets/controls",
      "model_module_version": "1.5.0",
      "model_name": "HTMLModel",
      "state": {
       "layout": "IPY_MODEL_4e3fb34b75d145d6b9ceb738d1a46328",
       "style": "IPY_MODEL_56a2bf53e2644569b6048a891e5d9a3c",
       "value": " 361/361 [01:34&lt;00:00,  3.81it/s, acc=0.988, loss=0.00488]"
      }
     },
     "bdbd77031b0d4aa0ad2136d05651892e": {
      "model_module": "@jupyter-widgets/controls",
      "model_module_version": "1.5.0",
      "model_name": "IntProgressModel",
      "state": {
       "bar_style": "success",
       "description": "Epoch [1/100]: 100%",
       "layout": "IPY_MODEL_861aff1d28124aa3ad9053b4b91a1996",
       "max": 289,
       "style": "IPY_MODEL_81cbd4defcf342e899ce0a465f81fb16",
       "value": 289
      }
     },
     "be250e033fc54b85bbc34c2fa8fb3f8e": {
      "model_module": "@jupyter-widgets/controls",
      "model_module_version": "1.5.0",
      "model_name": "DescriptionStyleModel",
      "state": {
       "description_width": ""
      }
     },
     "be54f7fbddb34dd29cb24bb104c893d6": {
      "model_module": "@jupyter-widgets/controls",
      "model_module_version": "1.5.0",
      "model_name": "DescriptionStyleModel",
      "state": {
       "description_width": ""
      }
     },
     "be5fb2d1402f48faa6937540f81d5b44": {
      "model_module": "@jupyter-widgets/controls",
      "model_module_version": "1.5.0",
      "model_name": "IntProgressModel",
      "state": {
       "bar_style": "success",
       "description": "Epoch [17/40]: 100%",
       "layout": "IPY_MODEL_f259ab23c2e34991804f8438c7bb0b4c",
       "max": 338,
       "style": "IPY_MODEL_0d623f16c85945a0a3dc236d13505585",
       "value": 338
      }
     },
     "be9feee2566e4bf6b751a00c0e99a380": {
      "model_module": "@jupyter-widgets/controls",
      "model_module_version": "1.5.0",
      "model_name": "DescriptionStyleModel",
      "state": {
       "description_width": ""
      }
     },
     "bea93f77d3e94fc1924948200a571761": {
      "model_module": "@jupyter-widgets/controls",
      "model_module_version": "1.5.0",
      "model_name": "HBoxModel",
      "state": {
       "children": [
        "IPY_MODEL_be5fb2d1402f48faa6937540f81d5b44",
        "IPY_MODEL_9e86e7484569471fa889f75270fb97b8"
       ],
       "layout": "IPY_MODEL_9b71f9524522452db009f9d8b935fdaa"
      }
     },
     "beaece561f944f2c8231470b613eb2b0": {
      "model_module": "@jupyter-widgets/controls",
      "model_module_version": "1.5.0",
      "model_name": "HTMLModel",
      "state": {
       "layout": "IPY_MODEL_067aefa4b17144d7848b016d5d58bf83",
       "style": "IPY_MODEL_a50d5997a1ca45db8d6aa8a99dfcb504",
       "value": " 241/241 [00:53&lt;00:00,  4.47it/s, acc=0.269, loss=1.58]"
      }
     },
     "bece5e89eb3f43ca98fc41757058710a": {
      "model_module": "@jupyter-widgets/base",
      "model_module_version": "1.2.0",
      "model_name": "LayoutModel",
      "state": {}
     },
     "beec451304af4b46bbf0450d309f6d6a": {
      "model_module": "@jupyter-widgets/base",
      "model_module_version": "1.2.0",
      "model_name": "LayoutModel",
      "state": {}
     },
     "bf43131567fd41b689c4a428955be3f1": {
      "model_module": "@jupyter-widgets/base",
      "model_module_version": "1.2.0",
      "model_name": "LayoutModel",
      "state": {}
     },
     "bf4a30789ef1444480e11b138b3a085e": {
      "model_module": "@jupyter-widgets/controls",
      "model_module_version": "1.5.0",
      "model_name": "HTMLModel",
      "state": {
       "layout": "IPY_MODEL_4fa568c7b4254ba49362b458e28b27a5",
       "style": "IPY_MODEL_47e3fd5f311648faac3737fefb029f7b",
       "value": " 338/338 [01:29&lt;00:00,  3.76it/s, acc=0.983, loss=0.00861]"
      }
     },
     "bf53d02158654a259400b753441dfff4": {
      "model_module": "@jupyter-widgets/base",
      "model_module_version": "1.2.0",
      "model_name": "LayoutModel",
      "state": {}
     },
     "bf740e90fa9f4fe697956ae318c34648": {
      "model_module": "@jupyter-widgets/controls",
      "model_module_version": "1.5.0",
      "model_name": "IntProgressModel",
      "state": {
       "bar_style": "success",
       "description": "Epoch [17/100]: 100%",
       "layout": "IPY_MODEL_15064251ff13417797d74a612d1d0169",
       "max": 289,
       "style": "IPY_MODEL_d451493fb52346d0863ae22fe9d29684",
       "value": 289
      }
     },
     "bf843988a980418ab181543f0e70d767": {
      "model_module": "@jupyter-widgets/controls",
      "model_module_version": "1.5.0",
      "model_name": "HBoxModel",
      "state": {
       "children": [
        "IPY_MODEL_e4f9c15db83443e9af3fe42744d61dab",
        "IPY_MODEL_3d55598a967840e7b33c81f11a34c165"
       ],
       "layout": "IPY_MODEL_96fd7e15133a427788407b102c2a3319"
      }
     },
     "bf8bf36df9cc49b6a9a78e3f85c6e3a2": {
      "model_module": "@jupyter-widgets/base",
      "model_module_version": "1.2.0",
      "model_name": "LayoutModel",
      "state": {}
     },
     "bf95d2ed503f42a88e5c81bdf386518c": {
      "model_module": "@jupyter-widgets/base",
      "model_module_version": "1.2.0",
      "model_name": "LayoutModel",
      "state": {}
     },
     "bfc5d5cf4d364a68aa4a467448d36032": {
      "model_module": "@jupyter-widgets/base",
      "model_module_version": "1.2.0",
      "model_name": "LayoutModel",
      "state": {}
     },
     "c00fdebe788944df81e32fc868ccc2e1": {
      "model_module": "@jupyter-widgets/controls",
      "model_module_version": "1.5.0",
      "model_name": "IntProgressModel",
      "state": {
       "bar_style": "success",
       "description": "Epoch [5/5]: 100%",
       "layout": "IPY_MODEL_8747d4565d8c4934ad2fa8cf8e0e8de0",
       "max": 284,
       "style": "IPY_MODEL_6c3111df4f4144b38d1df5212004f794",
       "value": 284
      }
     },
     "c02702a7f7f546fd8678fbf28272b016": {
      "model_module": "@jupyter-widgets/base",
      "model_module_version": "1.2.0",
      "model_name": "LayoutModel",
      "state": {}
     },
     "c0392b199a06487fb6298a543cac0cb3": {
      "model_module": "@jupyter-widgets/base",
      "model_module_version": "1.2.0",
      "model_name": "LayoutModel",
      "state": {}
     },
     "c045c23630af45abab5169523792c4bd": {
      "model_module": "@jupyter-widgets/base",
      "model_module_version": "1.2.0",
      "model_name": "LayoutModel",
      "state": {}
     },
     "c06781b8b0f6472cbb23381f344dc2d9": {
      "model_module": "@jupyter-widgets/controls",
      "model_module_version": "1.5.0",
      "model_name": "HTMLModel",
      "state": {
       "layout": "IPY_MODEL_eda39c767bae4689ade4c7cf2eb80c7e",
       "style": "IPY_MODEL_aba4adff6a244d64be730617335eee71",
       "value": " 338/338 [01:07&lt;00:00,  4.98it/s, acc=0.983, loss=0.0206]"
      }
     },
     "c06d6c292fca4c3aae2b7c3227a2cd34": {
      "model_module": "@jupyter-widgets/controls",
      "model_module_version": "1.5.0",
      "model_name": "ProgressStyleModel",
      "state": {
       "description_width": "initial"
      }
     },
     "c07e8bf3cefc4b258dacd79a904b1f96": {
      "model_module": "@jupyter-widgets/base",
      "model_module_version": "1.2.0",
      "model_name": "LayoutModel",
      "state": {}
     },
     "c0b130f5efc54b18987836c0fc4c4186": {
      "model_module": "@jupyter-widgets/base",
      "model_module_version": "1.2.0",
      "model_name": "LayoutModel",
      "state": {}
     },
     "c0b730abe09642e2b087ed90b71ca16e": {
      "model_module": "@jupyter-widgets/controls",
      "model_module_version": "1.5.0",
      "model_name": "DescriptionStyleModel",
      "state": {
       "description_width": ""
      }
     },
     "c0bf7b0ed85a48c897da3d7df2709601": {
      "model_module": "@jupyter-widgets/base",
      "model_module_version": "1.2.0",
      "model_name": "LayoutModel",
      "state": {}
     },
     "c0d8d361f2344f7e86feec7514610342": {
      "model_module": "@jupyter-widgets/controls",
      "model_module_version": "1.5.0",
      "model_name": "ProgressStyleModel",
      "state": {
       "description_width": "initial"
      }
     },
     "c0fbd8e478fe418c957c681fb051404f": {
      "model_module": "@jupyter-widgets/base",
      "model_module_version": "1.2.0",
      "model_name": "LayoutModel",
      "state": {}
     },
     "c11fee162b594b4387028e2e1ca4d0c7": {
      "model_module": "@jupyter-widgets/controls",
      "model_module_version": "1.5.0",
      "model_name": "IntProgressModel",
      "state": {
       "bar_style": "success",
       "description": "Epoch [3/5]: 100%",
       "layout": "IPY_MODEL_a2e9648334d14a83a19572fea40f1598",
       "max": 280,
       "style": "IPY_MODEL_adb8038d4b28450dbd573527cc4e0a85",
       "value": 280
      }
     },
     "c14f8fc1a8b44d0696032e8455bf3a0b": {
      "model_module": "@jupyter-widgets/controls",
      "model_module_version": "1.5.0",
      "model_name": "DescriptionStyleModel",
      "state": {
       "description_width": ""
      }
     },
     "c1518accef3a4c82b9cad8fa05ba224e": {
      "model_module": "@jupyter-widgets/controls",
      "model_module_version": "1.5.0",
      "model_name": "ProgressStyleModel",
      "state": {
       "description_width": "initial"
      }
     },
     "c151d2edc0874ce6aa0baf0d6c53439a": {
      "model_module": "@jupyter-widgets/controls",
      "model_module_version": "1.5.0",
      "model_name": "IntProgressModel",
      "state": {
       "bar_style": "success",
       "description": "Epoch [18/40]: 100%",
       "layout": "IPY_MODEL_11a4f556e3ed4fcf9b536da467a17204",
       "max": 255,
       "style": "IPY_MODEL_1453958c95ee490783600dc4365c6d88",
       "value": 255
      }
     },
     "c157b50727c64a8f82c16ce3e51792c7": {
      "model_module": "@jupyter-widgets/base",
      "model_module_version": "1.2.0",
      "model_name": "LayoutModel",
      "state": {}
     },
     "c168acf0e56d4af6b37da4543c4812a0": {
      "model_module": "@jupyter-widgets/controls",
      "model_module_version": "1.5.0",
      "model_name": "IntProgressModel",
      "state": {
       "bar_style": "success",
       "description": "Epoch [14/40]: 100%",
       "layout": "IPY_MODEL_908119853ebe4a6f9fa497168389c0ad",
       "max": 289,
       "style": "IPY_MODEL_3157608ad700479a8c29e9c494ddad5d",
       "value": 289
      }
     },
     "c17bba6675024393a1d8c37a9bb7c788": {
      "model_module": "@jupyter-widgets/controls",
      "model_module_version": "1.5.0",
      "model_name": "ProgressStyleModel",
      "state": {
       "description_width": "initial"
      }
     },
     "c189763a372240f7b380a07376bdf244": {
      "model_module": "@jupyter-widgets/controls",
      "model_module_version": "1.5.0",
      "model_name": "HTMLModel",
      "state": {
       "layout": "IPY_MODEL_0870903c54164f2fb7c5e8d14a7b261c",
       "style": "IPY_MODEL_b8e297c5fca549488066f99ce4432954",
       "value": " 241/241 [00:24&lt;00:00,  9.72it/s, acc=0.869, loss=0.299]"
      }
     },
     "c18cfa388f084524a26e84fdd004226b": {
      "model_module": "@jupyter-widgets/controls",
      "model_module_version": "1.5.0",
      "model_name": "HTMLModel",
      "state": {
       "layout": "IPY_MODEL_87c398361d734ce0bc7907cb5135d655",
       "style": "IPY_MODEL_6853b3d17d2f41a697c9d701ded08b52",
       "value": " 241/241 [00:23&lt;00:00, 10.24it/s, acc=0.972, loss=0.0642]"
      }
     },
     "c1d213d5896f4e5ba99ab7e73c829e6c": {
      "model_module": "@jupyter-widgets/controls",
      "model_module_version": "1.5.0",
      "model_name": "DescriptionStyleModel",
      "state": {
       "description_width": ""
      }
     },
     "c20d2ecb90084ccf9a4037831cabf6f4": {
      "model_module": "@jupyter-widgets/controls",
      "model_module_version": "1.5.0",
      "model_name": "HBoxModel",
      "state": {
       "children": [
        "IPY_MODEL_28b84eb7700a4871b641bc42412513c8",
        "IPY_MODEL_6a99a58b62fe4685bc13f751abdd2ecd"
       ],
       "layout": "IPY_MODEL_f2d6ea868064401ca6218e6ac48ee564"
      }
     },
     "c20f11d9f93e4697a6c6235f992464d0": {
      "model_module": "@jupyter-widgets/controls",
      "model_module_version": "1.5.0",
      "model_name": "ProgressStyleModel",
      "state": {
       "description_width": "initial"
      }
     },
     "c24937f69a7f41cc90581689824812f6": {
      "model_module": "@jupyter-widgets/controls",
      "model_module_version": "1.5.0",
      "model_name": "HTMLModel",
      "state": {
       "layout": "IPY_MODEL_54523b5b79c6474a99ea6d84584d51ec",
       "style": "IPY_MODEL_d254842942ba431d887a3e3ecf079d90",
       "value": " 289/289 [01:40&lt;00:00,  2.87it/s, acc=0.987, loss=0.131]"
      }
     },
     "c24b1f4ee9d54cf597bdbb04596f7bd6": {
      "model_module": "@jupyter-widgets/base",
      "model_module_version": "1.2.0",
      "model_name": "LayoutModel",
      "state": {}
     },
     "c250af10fcb2483cb008fee6193fb981": {
      "model_module": "@jupyter-widgets/base",
      "model_module_version": "1.2.0",
      "model_name": "LayoutModel",
      "state": {}
     },
     "c2600245c3a24783b47e6a9b96378e58": {
      "model_module": "@jupyter-widgets/controls",
      "model_module_version": "1.5.0",
      "model_name": "ProgressStyleModel",
      "state": {
       "description_width": ""
      }
     },
     "c262c5bc27674adcaa321dd31b1397c2": {
      "model_module": "@jupyter-widgets/base",
      "model_module_version": "1.2.0",
      "model_name": "LayoutModel",
      "state": {}
     },
     "c279e314a1a0426590f3203cd5f86ddb": {
      "model_module": "@jupyter-widgets/base",
      "model_module_version": "1.2.0",
      "model_name": "LayoutModel",
      "state": {}
     },
     "c27b6dfdf56b4b6d86a9e72f651685f1": {
      "model_module": "@jupyter-widgets/controls",
      "model_module_version": "1.5.0",
      "model_name": "HTMLModel",
      "state": {
       "layout": "IPY_MODEL_2fffe96928624cd1befd935dd8208841",
       "style": "IPY_MODEL_180734269de74b0796f0a5051db0161c",
       "value": " 338/338 [00:32&lt;00:00, 10.52it/s, acc=0.984, loss=0.0146]"
      }
     },
     "c287112b155b4d368433a4fb9ecff105": {
      "model_module": "@jupyter-widgets/controls",
      "model_module_version": "1.5.0",
      "model_name": "HBoxModel",
      "state": {
       "children": [
        "IPY_MODEL_7484cec33c9544869d19d84f0073a33b",
        "IPY_MODEL_867754a2a28b42cc96510102de04e36d"
       ],
       "layout": "IPY_MODEL_09a9786ae9944e3fa3aa91c9da3068b7"
      }
     },
     "c287d9ab28d340a48e8e16db6103f876": {
      "model_module": "@jupyter-widgets/controls",
      "model_module_version": "1.5.0",
      "model_name": "HTMLModel",
      "state": {
       "layout": "IPY_MODEL_21f5036540d2453fbf4fe1b844fc83db",
       "style": "IPY_MODEL_57979953a55c4c0dba8996a071fb23da",
       "value": " 289/289 [01:46&lt;00:00,  2.72it/s, acc=0.983, loss=0.0932]"
      }
     },
     "c28e46ddb5d842eba3f4db33f45be387": {
      "model_module": "@jupyter-widgets/controls",
      "model_module_version": "1.5.0",
      "model_name": "IntProgressModel",
      "state": {
       "bar_style": "success",
       "description": "Epoch [3/40]: 100%",
       "layout": "IPY_MODEL_87e8c4e568a14e44b750fa1a234517c8",
       "max": 255,
       "style": "IPY_MODEL_2bb699652b564b3598367544bdb4a95c",
       "value": 255
      }
     },
     "c2de6e1341714095bf620e5439a6aceb": {
      "model_module": "@jupyter-widgets/controls",
      "model_module_version": "1.5.0",
      "model_name": "HBoxModel",
      "state": {
       "children": [
        "IPY_MODEL_28955c3de769404498b87e5cf35f0134",
        "IPY_MODEL_b971cfb1e60a41cbacd69d68f39423f1"
       ],
       "layout": "IPY_MODEL_6bdf4aa0766e42c1ba5ec522f682be79"
      }
     },
     "c3244ecfe3864a1bac29d4b3061ea782": {
      "model_module": "@jupyter-widgets/controls",
      "model_module_version": "1.5.0",
      "model_name": "ProgressStyleModel",
      "state": {
       "description_width": "initial"
      }
     },
     "c3353ecf8b5544d094aaf4ecf73ffd59": {
      "model_module": "@jupyter-widgets/controls",
      "model_module_version": "1.5.0",
      "model_name": "HTMLModel",
      "state": {
       "layout": "IPY_MODEL_0bb68470949e42279b54e2aa151ece53",
       "style": "IPY_MODEL_8abc3497ccbb4a98bcce9a8e2229e6f5",
       "value": " 289/289 [01:09&lt;00:00,  4.18it/s, acc=0.883, loss=0.161]"
      }
     },
     "c35b571d6ad04dc39ab09a621cc3e604": {
      "model_module": "@jupyter-widgets/base",
      "model_module_version": "1.2.0",
      "model_name": "LayoutModel",
      "state": {}
     },
     "c3a8377a98974feb9405eb5b40ec4703": {
      "model_module": "@jupyter-widgets/controls",
      "model_module_version": "1.5.0",
      "model_name": "DescriptionStyleModel",
      "state": {
       "description_width": ""
      }
     },
     "c3b51c7bdf0d48c9ae0d66b29e8b1fc4": {
      "model_module": "@jupyter-widgets/controls",
      "model_module_version": "1.5.0",
      "model_name": "HTMLModel",
      "state": {
       "layout": "IPY_MODEL_7094e131cdce47fa97b42af9f79bbdd8",
       "style": "IPY_MODEL_a952c98caec043a5b4eccb2e16fc8b61"
      }
     },
     "c3df06abfb46442b8505fd25ccdb64dd": {
      "model_module": "@jupyter-widgets/base",
      "model_module_version": "1.2.0",
      "model_name": "LayoutModel",
      "state": {}
     },
     "c40a3c433d024dd29ee0fbbd9828bc35": {
      "model_module": "@jupyter-widgets/controls",
      "model_module_version": "1.5.0",
      "model_name": "IntProgressModel",
      "state": {
       "bar_style": "success",
       "description": "Epoch [19/100]: 100%",
       "layout": "IPY_MODEL_556fd52f005842f5a1d7ed12f9096b5d",
       "max": 289,
       "style": "IPY_MODEL_9bf1272a7fa9404a81cae6da8b4da3f2",
       "value": 289
      }
     },
     "c41d7c6fe6344e1d85e42c3badaced0c": {
      "model_module": "@jupyter-widgets/controls",
      "model_module_version": "1.5.0",
      "model_name": "HBoxModel",
      "state": {
       "children": [
        "IPY_MODEL_fdd34a5367ff4a9284f13da46208d2c0",
        "IPY_MODEL_ebfe302d7e16497fbb3dfc9e1ed724e0"
       ],
       "layout": "IPY_MODEL_7b6f6e423ffe405e9e335ee11c3ce01d"
      }
     },
     "c428dc0e85f14fe0b1735fcafb1e5d67": {
      "model_module": "@jupyter-widgets/controls",
      "model_module_version": "1.5.0",
      "model_name": "HTMLModel",
      "state": {
       "layout": "IPY_MODEL_54b736ad90dd468aa8dd889ec0814ed3",
       "style": "IPY_MODEL_8e78c1a5fbc141ac967af223c9b8602d",
       "value": " 281/281 [01:35&lt;00:00,  2.93it/s, acc=0.989, loss=0.0862]"
      }
     },
     "c459e411da5a49c7a587fd7fae30afc4": {
      "model_module": "@jupyter-widgets/base",
      "model_module_version": "1.2.0",
      "model_name": "LayoutModel",
      "state": {}
     },
     "c45cfa0e85d84c74919a3bd115e1a5b1": {
      "model_module": "@jupyter-widgets/base",
      "model_module_version": "1.2.0",
      "model_name": "LayoutModel",
      "state": {}
     },
     "c49d0e5f337e4ce29d0692892d9ce47f": {
      "model_module": "@jupyter-widgets/controls",
      "model_module_version": "1.5.0",
      "model_name": "IntProgressModel",
      "state": {
       "bar_style": "success",
       "description": "Epoch [37/40]: 100%",
       "layout": "IPY_MODEL_07cd6d5f15ce47b4ae81f4085b1247e2",
       "max": 338,
       "style": "IPY_MODEL_dc5803f2d9cb42baa3f625c8e6765881",
       "value": 338
      }
     },
     "c4abc7cbf9d64da3b8dc23c6985aa052": {
      "model_module": "@jupyter-widgets/base",
      "model_module_version": "1.2.0",
      "model_name": "LayoutModel",
      "state": {}
     },
     "c4b5b435e25d48148244378b0057156b": {
      "model_module": "@jupyter-widgets/controls",
      "model_module_version": "1.5.0",
      "model_name": "HTMLModel",
      "state": {
       "layout": "IPY_MODEL_94c6b552d1da441c9dd5fd1bce24baa6",
       "style": "IPY_MODEL_cf4e18671d1f4155a22b7bf1cdbc1ec7",
       "value": " 241/241 [00:23&lt;00:00, 10.20it/s, acc=0.981, loss=0.0359]"
      }
     },
     "c4e08fded6f1420590614a028c9b9f96": {
      "model_module": "@jupyter-widgets/controls",
      "model_module_version": "1.5.0",
      "model_name": "ProgressStyleModel",
      "state": {
       "description_width": "initial"
      }
     },
     "c50937c3e23742eb97b01cf871686be8": {
      "model_module": "@jupyter-widgets/base",
      "model_module_version": "1.2.0",
      "model_name": "LayoutModel",
      "state": {}
     },
     "c50d0fcfb14041eda90913627ccbb08f": {
      "model_module": "@jupyter-widgets/controls",
      "model_module_version": "1.5.0",
      "model_name": "IntProgressModel",
      "state": {
       "bar_style": "success",
       "description": "Epoch [18/40]: 100%",
       "layout": "IPY_MODEL_1996ca13550a4599a91df7e824792c57",
       "max": 361,
       "style": "IPY_MODEL_651a5fb99b564ad2b75094c27834f0cd",
       "value": 361
      }
     },
     "c537e5969af048df9aad813dbbe09906": {
      "model_module": "@jupyter-widgets/base",
      "model_module_version": "1.2.0",
      "model_name": "LayoutModel",
      "state": {}
     },
     "c53cb2f2b2d0496299ccaf8e410b6005": {
      "model_module": "@jupyter-widgets/controls",
      "model_module_version": "1.5.0",
      "model_name": "HTMLModel",
      "state": {
       "layout": "IPY_MODEL_3c0507795ddd4d48b9fca5e4cfdb8a09",
       "style": "IPY_MODEL_462b115b87854cea8a2d66aef00232bc",
       "value": " 255/255 [01:08&lt;00:00,  3.74it/s, acc=0.964, loss=0.0151]"
      }
     },
     "c53ee6ee503144408fb5cb2732c097f1": {
      "model_module": "@jupyter-widgets/base",
      "model_module_version": "1.2.0",
      "model_name": "LayoutModel",
      "state": {}
     },
     "c54927bc69064848a8652cb4591de27e": {
      "model_module": "@jupyter-widgets/controls",
      "model_module_version": "1.5.0",
      "model_name": "DescriptionStyleModel",
      "state": {
       "description_width": ""
      }
     },
     "c5836dcf47ae4866a65d7ac4fb7986fd": {
      "model_module": "@jupyter-widgets/controls",
      "model_module_version": "1.5.0",
      "model_name": "ProgressStyleModel",
      "state": {
       "description_width": "initial"
      }
     },
     "c5b6598c661e43e9aa57e17582b24f63": {
      "model_module": "@jupyter-widgets/base",
      "model_module_version": "1.2.0",
      "model_name": "LayoutModel",
      "state": {}
     },
     "c5c0bd13260142afa79405954483d2d1": {
      "model_module": "@jupyter-widgets/base",
      "model_module_version": "1.2.0",
      "model_name": "LayoutModel",
      "state": {}
     },
     "c5c4c045dc424a0aadd754de5ce69385": {
      "model_module": "@jupyter-widgets/controls",
      "model_module_version": "1.5.0",
      "model_name": "IntProgressModel",
      "state": {
       "bar_style": "success",
       "description": "Epoch [27/40]: 100%",
       "layout": "IPY_MODEL_6a12e4d116fd44898fa36b644c24152e",
       "max": 338,
       "style": "IPY_MODEL_22db874e8483448d96ee14aa3fd9e77b",
       "value": 338
      }
     },
     "c5cff937312b477f94f905a5994bf173": {
      "model_module": "@jupyter-widgets/base",
      "model_module_version": "1.2.0",
      "model_name": "LayoutModel",
      "state": {}
     },
     "c5e81d1875d84ef5b8b19441790f13f3": {
      "model_module": "@jupyter-widgets/controls",
      "model_module_version": "1.5.0",
      "model_name": "DescriptionStyleModel",
      "state": {
       "description_width": ""
      }
     },
     "c5fe3b76bfcf47b39f6cccf4f22b9454": {
      "model_module": "@jupyter-widgets/base",
      "model_module_version": "1.2.0",
      "model_name": "LayoutModel",
      "state": {}
     },
     "c6083b7a10e343e3a1ed0e555e243b2f": {
      "model_module": "@jupyter-widgets/base",
      "model_module_version": "1.2.0",
      "model_name": "LayoutModel",
      "state": {}
     },
     "c615c4d86e2e43e18fcf1b1872977323": {
      "model_module": "@jupyter-widgets/base",
      "model_module_version": "1.2.0",
      "model_name": "LayoutModel",
      "state": {}
     },
     "c6250adab0924676bd1bc205ac4cdfd2": {
      "model_module": "@jupyter-widgets/base",
      "model_module_version": "1.2.0",
      "model_name": "LayoutModel",
      "state": {}
     },
     "c6300e489054432196372f4f428af9af": {
      "model_module": "@jupyter-widgets/base",
      "model_module_version": "1.2.0",
      "model_name": "LayoutModel",
      "state": {}
     },
     "c6390a9c330d43deb8f089dfec7e616a": {
      "model_module": "@jupyter-widgets/base",
      "model_module_version": "1.2.0",
      "model_name": "LayoutModel",
      "state": {}
     },
     "c65809b87ae14ff9ac76644770769ec9": {
      "model_module": "@jupyter-widgets/controls",
      "model_module_version": "1.5.0",
      "model_name": "HTMLModel",
      "state": {
       "layout": "IPY_MODEL_d2ded84479724b1aaa5b18409fe4acea",
       "style": "IPY_MODEL_c7cef30d9a95496cac1e1bafa6ef5a3b",
       "value": " 289/289 [00:47&lt;00:00,  6.15it/s, acc=0.269, loss=1.65]"
      }
     },
     "c69192f6a42f49f48ce56e6db320ebb8": {
      "model_module": "@jupyter-widgets/controls",
      "model_module_version": "1.5.0",
      "model_name": "HBoxModel",
      "state": {
       "children": [
        "IPY_MODEL_febe767f068c4e7da2b4df740d8eba77",
        "IPY_MODEL_a3bbe4dc3de14722a02497e7ed96ab6c"
       ],
       "layout": "IPY_MODEL_9d2b6dd133d443ac8c84f4f780c10265"
      }
     },
     "c6aba30a257c440e8a014680977b176c": {
      "model_module": "@jupyter-widgets/controls",
      "model_module_version": "1.5.0",
      "model_name": "DescriptionStyleModel",
      "state": {
       "description_width": ""
      }
     },
     "c6af7a8f5641420389613128d4e3d24d": {
      "model_module": "@jupyter-widgets/controls",
      "model_module_version": "1.5.0",
      "model_name": "ProgressStyleModel",
      "state": {
       "description_width": "initial"
      }
     },
     "c6b2f5b5629f48ecbe0dbf4096afc1cc": {
      "model_module": "@jupyter-widgets/controls",
      "model_module_version": "1.5.0",
      "model_name": "HBoxModel",
      "state": {
       "children": [
        "IPY_MODEL_6f6fecaf812841bdbe889f1585382ed9",
        "IPY_MODEL_64ab98e71f0649298a64edb626be4cd0"
       ],
       "layout": "IPY_MODEL_e78b19b543754f1a913776e6af4c6ee6"
      }
     },
     "c6cf9bb63f9a4ddab2feddc77d67c16c": {
      "model_module": "@jupyter-widgets/controls",
      "model_module_version": "1.5.0",
      "model_name": "IntProgressModel",
      "state": {
       "bar_style": "success",
       "description": "Epoch [5/40]: 100%",
       "layout": "IPY_MODEL_ea30d4f503ed400aa935f909e2ccd431",
       "max": 361,
       "style": "IPY_MODEL_4548e8995e4f409cb355bd6dd15830b1",
       "value": 361
      }
     },
     "c6ff1f7180d2434b91b79ec8ec6f6d9c": {
      "model_module": "@jupyter-widgets/base",
      "model_module_version": "1.2.0",
      "model_name": "LayoutModel",
      "state": {}
     },
     "c71ec3d921034a4d8d281cac9131faeb": {
      "model_module": "@jupyter-widgets/controls",
      "model_module_version": "1.5.0",
      "model_name": "HTMLModel",
      "state": {
       "layout": "IPY_MODEL_51e4351b7b7c4174a1a6c6f23fec7fbc",
       "style": "IPY_MODEL_b9652a6f3df246a6849cafdd8bdd53c5",
       "value": " 361/361 [01:23&lt;00:00,  4.31it/s, acc=0.987, loss=0.0118]"
      }
     },
     "c75fa62e252a4fe298ce0342f3703504": {
      "model_module": "@jupyter-widgets/controls",
      "model_module_version": "1.5.0",
      "model_name": "HBoxModel",
      "state": {
       "children": [
        "IPY_MODEL_c00fdebe788944df81e32fc868ccc2e1",
        "IPY_MODEL_7f207aad15d349efa72ec1d9dd178ada"
       ],
       "layout": "IPY_MODEL_21becc8994b244429d8259ff73140bbe"
      }
     },
     "c7662dd49275426883aba32e054286b2": {
      "model_module": "@jupyter-widgets/controls",
      "model_module_version": "1.5.0",
      "model_name": "IntProgressModel",
      "state": {
       "layout": "IPY_MODEL_c0392b199a06487fb6298a543cac0cb3",
       "max": 289,
       "style": "IPY_MODEL_b82c096781234133b824d9fdd2d094cb"
      }
     },
     "c77640ed38194e7f9c3412ed6fe0f6cb": {
      "model_module": "@jupyter-widgets/base",
      "model_module_version": "1.2.0",
      "model_name": "LayoutModel",
      "state": {}
     },
     "c7b78d50c96b4fa1b5ebc60b72e01044": {
      "model_module": "@jupyter-widgets/base",
      "model_module_version": "1.2.0",
      "model_name": "LayoutModel",
      "state": {}
     },
     "c7c1eb7c734c43009015f7ee45f44d94": {
      "model_module": "@jupyter-widgets/controls",
      "model_module_version": "1.5.0",
      "model_name": "DescriptionStyleModel",
      "state": {
       "description_width": ""
      }
     },
     "c7cef30d9a95496cac1e1bafa6ef5a3b": {
      "model_module": "@jupyter-widgets/controls",
      "model_module_version": "1.5.0",
      "model_name": "DescriptionStyleModel",
      "state": {
       "description_width": ""
      }
     },
     "c7fd7006f8c041af81b19abecd1a4ade": {
      "model_module": "@jupyter-widgets/controls",
      "model_module_version": "1.5.0",
      "model_name": "IntProgressModel",
      "state": {
       "bar_style": "success",
       "description": "Epoch [31/40]: 100%",
       "layout": "IPY_MODEL_e08fccaea49c47939fdeb4643187d07f",
       "max": 361,
       "style": "IPY_MODEL_398038b4eb0e438ebd0c1e21de50b172",
       "value": 361
      }
     },
     "c7ff6850a2654a8fa2fb4b4373f3bf90": {
      "model_module": "@jupyter-widgets/base",
      "model_module_version": "1.2.0",
      "model_name": "LayoutModel",
      "state": {}
     },
     "c83b359cbb974d99952ba2e215f9e3b4": {
      "model_module": "@jupyter-widgets/controls",
      "model_module_version": "1.5.0",
      "model_name": "DescriptionStyleModel",
      "state": {
       "description_width": ""
      }
     },
     "c8ad282620244fa3800abb139bc7e64d": {
      "model_module": "@jupyter-widgets/controls",
      "model_module_version": "1.5.0",
      "model_name": "HTMLModel",
      "state": {
       "layout": "IPY_MODEL_91c7c653680347808073c0d9dca86779",
       "style": "IPY_MODEL_362c2e9114254cb8a93281656300dffc",
       "value": " 289/289 [02:13&lt;00:00,  2.16it/s, acc=0.277, loss=1.59]"
      }
     },
     "c8b27a9c5aca4f4185c591ef58f0e8fb": {
      "model_module": "@jupyter-widgets/controls",
      "model_module_version": "1.5.0",
      "model_name": "HTMLModel",
      "state": {
       "layout": "IPY_MODEL_9d9a2d9358aa497988829b2decec73f5",
       "style": "IPY_MODEL_86a3a3580cc1450b846dbca0d0010c75",
       "value": " 289/289 [01:53&lt;00:00,  2.54it/s, acc=0.982, loss=0.0515]"
      }
     },
     "c8ca327c6ebb49ad825d15e1f9afb9ce": {
      "model_module": "@jupyter-widgets/base",
      "model_module_version": "1.2.0",
      "model_name": "LayoutModel",
      "state": {}
     },
     "c904ea6d67214af5acf1eb73b5be554e": {
      "model_module": "@jupyter-widgets/controls",
      "model_module_version": "1.5.0",
      "model_name": "ProgressStyleModel",
      "state": {
       "description_width": "initial"
      }
     },
     "c90ebb3116fe43a5b154a8a8fdafeb06": {
      "model_module": "@jupyter-widgets/controls",
      "model_module_version": "1.5.0",
      "model_name": "HBoxModel",
      "state": {
       "children": [
        "IPY_MODEL_e8519955348640f1847eca16b5fd7966",
        "IPY_MODEL_c06781b8b0f6472cbb23381f344dc2d9"
       ],
       "layout": "IPY_MODEL_24834c8470484385bf310ffdcbc6c165"
      }
     },
     "c91c4b6f88324cd6aa877747991ec61a": {
      "model_module": "@jupyter-widgets/base",
      "model_module_version": "1.2.0",
      "model_name": "LayoutModel",
      "state": {}
     },
     "c939ed4afa7441d6a9a8c51de90f28df": {
      "model_module": "@jupyter-widgets/base",
      "model_module_version": "1.2.0",
      "model_name": "LayoutModel",
      "state": {}
     },
     "c94212c97e124f289242e0dd29b2c2ea": {
      "model_module": "@jupyter-widgets/controls",
      "model_module_version": "1.5.0",
      "model_name": "ProgressStyleModel",
      "state": {
       "description_width": "initial"
      }
     },
     "c94f010465304ddfa42f24a516d4af91": {
      "model_module": "@jupyter-widgets/base",
      "model_module_version": "1.2.0",
      "model_name": "LayoutModel",
      "state": {}
     },
     "c965dc0fc36b484d8df96578a617d34d": {
      "model_module": "@jupyter-widgets/base",
      "model_module_version": "1.2.0",
      "model_name": "LayoutModel",
      "state": {}
     },
     "c976736036154f579932e982148c46f5": {
      "model_module": "@jupyter-widgets/base",
      "model_module_version": "1.2.0",
      "model_name": "LayoutModel",
      "state": {}
     },
     "c98724891645400ba71e71928a6705f6": {
      "model_module": "@jupyter-widgets/base",
      "model_module_version": "1.2.0",
      "model_name": "LayoutModel",
      "state": {}
     },
     "c9b4b9bbcfe14e00885806a345280597": {
      "model_module": "@jupyter-widgets/controls",
      "model_module_version": "1.5.0",
      "model_name": "ProgressStyleModel",
      "state": {
       "description_width": "initial"
      }
     },
     "c9e31c0aded54a5bba5f8a5629a0997f": {
      "model_module": "@jupyter-widgets/controls",
      "model_module_version": "1.5.0",
      "model_name": "HTMLModel",
      "state": {
       "layout": "IPY_MODEL_724cc335bfd7407ca232003f57260916",
       "style": "IPY_MODEL_7b7ccdc2a18e4cfea20778da822340ea",
       "value": " 289/289 [01:44&lt;00:00,  2.77it/s, acc=0.926, loss=0.169]"
      }
     },
     "ca1119c0a2824568a8d0a297579ca4ac": {
      "model_module": "@jupyter-widgets/base",
      "model_module_version": "1.2.0",
      "model_name": "LayoutModel",
      "state": {}
     },
     "ca1539bec8ae42d1995f54a467338972": {
      "model_module": "@jupyter-widgets/controls",
      "model_module_version": "1.5.0",
      "model_name": "DescriptionStyleModel",
      "state": {
       "description_width": ""
      }
     },
     "ca1e687100a946a1912df2cd341e1615": {
      "model_module": "@jupyter-widgets/controls",
      "model_module_version": "1.5.0",
      "model_name": "HBoxModel",
      "state": {
       "children": [
        "IPY_MODEL_98e19d87dc4b4ae49241ca801e1e3285",
        "IPY_MODEL_4fa2c25cc1e4470ba693f4a79cbd1b24"
       ],
       "layout": "IPY_MODEL_6cacb272abb4471ea63b03a72124e2ca"
      }
     },
     "ca3235e7522f4f89b3a00b8dd21d0995": {
      "model_module": "@jupyter-widgets/base",
      "model_module_version": "1.2.0",
      "model_name": "LayoutModel",
      "state": {}
     },
     "ca6b3348862a4fdca574642d73c6fde1": {
      "model_module": "@jupyter-widgets/controls",
      "model_module_version": "1.5.0",
      "model_name": "IntProgressModel",
      "state": {
       "bar_style": "success",
       "description": "Epoch [16/40]: 100%",
       "layout": "IPY_MODEL_da821ce4438f43ec938f7234a2e640c8",
       "max": 255,
       "style": "IPY_MODEL_f4d7adc6d2974f5781a782e2bf05c538",
       "value": 255
      }
     },
     "ca719eea2c7c453394aeac633fa135dc": {
      "model_module": "@jupyter-widgets/controls",
      "model_module_version": "1.5.0",
      "model_name": "ProgressStyleModel",
      "state": {
       "description_width": "initial"
      }
     },
     "ca74ff5250df493587a0a0ae4752d4ed": {
      "model_module": "@jupyter-widgets/controls",
      "model_module_version": "1.5.0",
      "model_name": "IntProgressModel",
      "state": {
       "layout": "IPY_MODEL_d12e88326e3d49d2a61909f3dcbbc2ce",
       "max": 289,
       "style": "IPY_MODEL_efb4f1293f5942b19be6ef4d607c043f"
      }
     },
     "ca91db01af46455da85cf997f4a74e56": {
      "model_module": "@jupyter-widgets/controls",
      "model_module_version": "1.5.0",
      "model_name": "DescriptionStyleModel",
      "state": {
       "description_width": ""
      }
     },
     "ca94a97b5125463f9eb69450cc016eea": {
      "model_module": "@jupyter-widgets/base",
      "model_module_version": "1.2.0",
      "model_name": "LayoutModel",
      "state": {}
     },
     "caa06981967b4aea85c7577a90fa981f": {
      "model_module": "@jupyter-widgets/controls",
      "model_module_version": "1.5.0",
      "model_name": "IntProgressModel",
      "state": {
       "bar_style": "success",
       "description": "Epoch [11/40]: 100%",
       "layout": "IPY_MODEL_c6390a9c330d43deb8f089dfec7e616a",
       "max": 289,
       "style": "IPY_MODEL_3b7f44b17b7d41be93c9a981d68f323a",
       "value": 289
      }
     },
     "cac547cd123f46279847984aed3398e5": {
      "model_module": "@jupyter-widgets/controls",
      "model_module_version": "1.5.0",
      "model_name": "ProgressStyleModel",
      "state": {
       "description_width": ""
      }
     },
     "caca6a66c7354d97a5c0aefa59facb53": {
      "model_module": "@jupyter-widgets/controls",
      "model_module_version": "1.5.0",
      "model_name": "HTMLModel",
      "state": {
       "layout": "IPY_MODEL_0c71e4db24504671973d75c16f691817",
       "style": "IPY_MODEL_9a35ae1a716540229e22418b5737d3fc",
       "value": " 361/361 [00:47&lt;00:00,  7.61it/s, acc=0.98, loss=0.0186]"
      }
     },
     "cadd9203b1da42118a066eb676baf509": {
      "model_module": "@jupyter-widgets/base",
      "model_module_version": "1.2.0",
      "model_name": "LayoutModel",
      "state": {}
     },
     "cb847cc09cf141f89c54c1f37ab734a7": {
      "model_module": "@jupyter-widgets/controls",
      "model_module_version": "1.5.0",
      "model_name": "IntProgressModel",
      "state": {
       "bar_style": "success",
       "description": "Epoch [10/40]: 100%",
       "layout": "IPY_MODEL_b60b5e9e84224001b243520a31f4b4b2",
       "max": 361,
       "style": "IPY_MODEL_c20f11d9f93e4697a6c6235f992464d0",
       "value": 361
      }
     },
     "cbbd628e00614588a44db92a84ce95b1": {
      "model_module": "@jupyter-widgets/controls",
      "model_module_version": "1.5.0",
      "model_name": "DescriptionStyleModel",
      "state": {
       "description_width": ""
      }
     },
     "cbe3fc62cd9e42e4a0b54b05919455d1": {
      "model_module": "@jupyter-widgets/base",
      "model_module_version": "1.2.0",
      "model_name": "LayoutModel",
      "state": {}
     },
     "cc328a9df7594eb0a537f79e7e59c5e1": {
      "model_module": "@jupyter-widgets/base",
      "model_module_version": "1.2.0",
      "model_name": "LayoutModel",
      "state": {}
     },
     "cc41b9a72d0e479ca3a71bfc26095bff": {
      "model_module": "@jupyter-widgets/controls",
      "model_module_version": "1.5.0",
      "model_name": "IntProgressModel",
      "state": {
       "bar_style": "success",
       "description": "Epoch [16/40]: 100%",
       "layout": "IPY_MODEL_103a6c10b8d840f3a865ebebbf23cebd",
       "max": 289,
       "style": "IPY_MODEL_a7c8df0adea6460b8ee585fefe52fa78",
       "value": 289
      }
     },
     "cc4e7a8615e6404d824808968ea370fc": {
      "model_module": "@jupyter-widgets/base",
      "model_module_version": "1.2.0",
      "model_name": "LayoutModel",
      "state": {}
     },
     "cc5e8febe36c4ad2bf19672a7b28dac7": {
      "model_module": "@jupyter-widgets/base",
      "model_module_version": "1.2.0",
      "model_name": "LayoutModel",
      "state": {}
     },
     "cc79dc816a0b41d890ca97787969f208": {
      "model_module": "@jupyter-widgets/controls",
      "model_module_version": "1.5.0",
      "model_name": "DescriptionStyleModel",
      "state": {
       "description_width": ""
      }
     },
     "cce5d7f7de184252ac1aa6763dce2ddf": {
      "model_module": "@jupyter-widgets/base",
      "model_module_version": "1.2.0",
      "model_name": "LayoutModel",
      "state": {}
     },
     "ccf9a451da0049cba82e733e4a812534": {
      "model_module": "@jupyter-widgets/base",
      "model_module_version": "1.2.0",
      "model_name": "LayoutModel",
      "state": {}
     },
     "cd4942a1b5b942f3b67f97436e82dced": {
      "model_module": "@jupyter-widgets/controls",
      "model_module_version": "1.5.0",
      "model_name": "ProgressStyleModel",
      "state": {
       "description_width": "initial"
      }
     },
     "cd58661d94ea407a919e282d6de180b2": {
      "model_module": "@jupyter-widgets/controls",
      "model_module_version": "1.5.0",
      "model_name": "HBoxModel",
      "state": {
       "children": [
        "IPY_MODEL_fe0cbc5fc597490490baceb459cca040",
        "IPY_MODEL_0a5388463a4f46f3bf4c6a162aea4744"
       ],
       "layout": "IPY_MODEL_461dcd30a8a844d2adc6487a44f8ac25"
      }
     },
     "cd849194a5ab4780b3b6cc2611842583": {
      "model_module": "@jupyter-widgets/controls",
      "model_module_version": "1.5.0",
      "model_name": "HTMLModel",
      "state": {
       "layout": "IPY_MODEL_8eadbf6ebcd046b9914aaff90fc790b1",
       "style": "IPY_MODEL_cc79dc816a0b41d890ca97787969f208",
       "value": " 241/241 [00:30&lt;00:00,  7.83it/s, acc=0.263, loss=1.66]"
      }
     },
     "cd89492235e8415a8daebd9fb6fc7a11": {
      "model_module": "@jupyter-widgets/controls",
      "model_module_version": "1.5.0",
      "model_name": "DescriptionStyleModel",
      "state": {
       "description_width": ""
      }
     },
     "cdbead11d7e346a69b5bb7d1116e24e0": {
      "model_module": "@jupyter-widgets/base",
      "model_module_version": "1.2.0",
      "model_name": "LayoutModel",
      "state": {}
     },
     "cdd630ab76764db5bdeb300160ad301d": {
      "model_module": "@jupyter-widgets/base",
      "model_module_version": "1.2.0",
      "model_name": "LayoutModel",
      "state": {}
     },
     "cdde2c23f8db4c999e0f0c6245e3dd7c": {
      "model_module": "@jupyter-widgets/base",
      "model_module_version": "1.2.0",
      "model_name": "LayoutModel",
      "state": {}
     },
     "ce180c8329b34f2293dd33a6bb90ca39": {
      "model_module": "@jupyter-widgets/base",
      "model_module_version": "1.2.0",
      "model_name": "LayoutModel",
      "state": {}
     },
     "ce19f0efef444e71b44c57c78feeb130": {
      "model_module": "@jupyter-widgets/controls",
      "model_module_version": "1.5.0",
      "model_name": "HBoxModel",
      "state": {
       "children": [
        "IPY_MODEL_7d5327f70d1e449ebeaef1ba8de9fa3f",
        "IPY_MODEL_66f301e6d8e74719bba9d71a4c4ceddd"
       ],
       "layout": "IPY_MODEL_db45475a256c44dd80cdd5ccd27578e3"
      }
     },
     "ce44824eef4d4908ad6ee37d9f98e091": {
      "model_module": "@jupyter-widgets/base",
      "model_module_version": "1.2.0",
      "model_name": "LayoutModel",
      "state": {}
     },
     "ce6c2842950a4b49a151c6264924f0db": {
      "model_module": "@jupyter-widgets/controls",
      "model_module_version": "1.5.0",
      "model_name": "DescriptionStyleModel",
      "state": {
       "description_width": ""
      }
     },
     "ce7cf69f8bed4276b86c4f7230bb4624": {
      "model_module": "@jupyter-widgets/controls",
      "model_module_version": "1.5.0",
      "model_name": "HTMLModel",
      "state": {
       "layout": "IPY_MODEL_31025ab9500b4124859cdd1c235f208e",
       "style": "IPY_MODEL_9b819b79afb5496bbab579880d7064b8",
       "value": " 338/338 [01:53&lt;00:00,  2.98it/s, acc=0.978, loss=0.0626]"
      }
     },
     "ce928461cd0c43cdb57b14212fbba815": {
      "model_module": "@jupyter-widgets/controls",
      "model_module_version": "1.5.0",
      "model_name": "HTMLModel",
      "state": {
       "layout": "IPY_MODEL_c4abc7cbf9d64da3b8dc23c6985aa052",
       "style": "IPY_MODEL_4e9cbe6ef591498da1b2ade8b8c29a60"
      }
     },
     "ce9f5a8d0dd84330b75d1ee68faa4459": {
      "model_module": "@jupyter-widgets/controls",
      "model_module_version": "1.5.0",
      "model_name": "IntProgressModel",
      "state": {
       "bar_style": "success",
       "description": "Epoch [40/40]: 100%",
       "layout": "IPY_MODEL_42b9513dd7ff4d4299753e777c95e2ce",
       "max": 241,
       "style": "IPY_MODEL_a03e78bbe3a74ac8b289c06e77be0fb3",
       "value": 241
      }
     },
     "cebc109e71e8464ab70cf130904071ae": {
      "model_module": "@jupyter-widgets/base",
      "model_module_version": "1.2.0",
      "model_name": "LayoutModel",
      "state": {}
     },
     "ced6912269224f339ab2a74164a30054": {
      "model_module": "@jupyter-widgets/controls",
      "model_module_version": "1.5.0",
      "model_name": "HBoxModel",
      "state": {
       "children": [
        "IPY_MODEL_e3ea266bf33145b692313d4d7edd16d2",
        "IPY_MODEL_de02ad1f4f454fbb953ced63a8734091"
       ],
       "layout": "IPY_MODEL_1172b492f1834cc89e6cf0a1f2447bdb"
      }
     },
     "cefeb012f40e4f41940f7d7d38f7fd70": {
      "model_module": "@jupyter-widgets/controls",
      "model_module_version": "1.5.0",
      "model_name": "DescriptionStyleModel",
      "state": {
       "description_width": ""
      }
     },
     "cf4e18671d1f4155a22b7bf1cdbc1ec7": {
      "model_module": "@jupyter-widgets/controls",
      "model_module_version": "1.5.0",
      "model_name": "DescriptionStyleModel",
      "state": {
       "description_width": ""
      }
     },
     "cf511d3fb7a84314b24060198e07b917": {
      "model_module": "@jupyter-widgets/controls",
      "model_module_version": "1.5.0",
      "model_name": "IntProgressModel",
      "state": {
       "bar_style": "success",
       "description": "Epoch [4/5]: 100%",
       "layout": "IPY_MODEL_06f2455c62d84fb79a1f67b1d1b41cee",
       "max": 280,
       "style": "IPY_MODEL_7fdd3d962da140e2aa9583458c3b7a40",
       "value": 280
      }
     },
     "cf7dab1e19314881868ea8486098e1d3": {
      "model_module": "@jupyter-widgets/base",
      "model_module_version": "1.2.0",
      "model_name": "LayoutModel",
      "state": {}
     },
     "cf851677a98a4f2eaf48be3dafe309a4": {
      "model_module": "@jupyter-widgets/controls",
      "model_module_version": "1.5.0",
      "model_name": "ProgressStyleModel",
      "state": {
       "description_width": "initial"
      }
     },
     "cfacd85255234c449c3d4479be99c82f": {
      "model_module": "@jupyter-widgets/controls",
      "model_module_version": "1.5.0",
      "model_name": "DescriptionStyleModel",
      "state": {
       "description_width": ""
      }
     },
     "cfe3ab040d1f4ced8f8666a76a0aab6b": {
      "model_module": "@jupyter-widgets/controls",
      "model_module_version": "1.5.0",
      "model_name": "DescriptionStyleModel",
      "state": {
       "description_width": ""
      }
     },
     "cfe9fc5ef62a474dac84e62617cd2444": {
      "model_module": "@jupyter-widgets/base",
      "model_module_version": "1.2.0",
      "model_name": "LayoutModel",
      "state": {}
     },
     "d01f67ecba6947c4855157efc021dea2": {
      "model_module": "@jupyter-widgets/base",
      "model_module_version": "1.2.0",
      "model_name": "LayoutModel",
      "state": {}
     },
     "d0224dafc36c4fd99b98998dbadb4dce": {
      "model_module": "@jupyter-widgets/controls",
      "model_module_version": "1.5.0",
      "model_name": "IntProgressModel",
      "state": {
       "bar_style": "success",
       "description": "Epoch [36/40]: 100%",
       "layout": "IPY_MODEL_6b30d093d5cf43aeb2a687b5a5cfe14f",
       "max": 255,
       "style": "IPY_MODEL_d908556f599642458704090f35490a01",
       "value": 255
      }
     },
     "d058716935494c8b9fbdd3ae834a2c6f": {
      "model_module": "@jupyter-widgets/base",
      "model_module_version": "1.2.0",
      "model_name": "LayoutModel",
      "state": {}
     },
     "d0691ec7e6b64dba9f73160b97e3b8df": {
      "model_module": "@jupyter-widgets/base",
      "model_module_version": "1.2.0",
      "model_name": "LayoutModel",
      "state": {}
     },
     "d077ac636f514b1f9dd32f0123d026aa": {
      "model_module": "@jupyter-widgets/base",
      "model_module_version": "1.2.0",
      "model_name": "LayoutModel",
      "state": {}
     },
     "d0ce2bb7f3a041bb91bbe6991f0940c3": {
      "model_module": "@jupyter-widgets/base",
      "model_module_version": "1.2.0",
      "model_name": "LayoutModel",
      "state": {}
     },
     "d1067cd2fc874b1788186ff208a6b6ee": {
      "model_module": "@jupyter-widgets/controls",
      "model_module_version": "1.5.0",
      "model_name": "IntProgressModel",
      "state": {
       "bar_style": "success",
       "description": "Epoch [33/40]: 100%",
       "layout": "IPY_MODEL_a8d7460dea9b4b5c99a46bf62c34f3fe",
       "max": 255,
       "style": "IPY_MODEL_732a7c4031c34151ae3c1bf0ac5da4e3",
       "value": 255
      }
     },
     "d1129fdb35414752b93478f0b83e726f": {
      "model_module": "@jupyter-widgets/controls",
      "model_module_version": "1.5.0",
      "model_name": "HTMLModel",
      "state": {
       "layout": "IPY_MODEL_71bdb77dab454e758cc35608deba7c89",
       "style": "IPY_MODEL_582cbc31d51349a49429656b721ad22b",
       "value": " 361/361 [01:26&lt;00:00,  4.16it/s, acc=0.983, loss=0.0214]"
      }
     },
     "d11cad2b81fd415c9de27ded10c4d6a7": {
      "model_module": "@jupyter-widgets/base",
      "model_module_version": "1.2.0",
      "model_name": "LayoutModel",
      "state": {}
     },
     "d12e88326e3d49d2a61909f3dcbbc2ce": {
      "model_module": "@jupyter-widgets/base",
      "model_module_version": "1.2.0",
      "model_name": "LayoutModel",
      "state": {}
     },
     "d134b302f06444d095b5f98eed1e54a8": {
      "model_module": "@jupyter-widgets/controls",
      "model_module_version": "1.5.0",
      "model_name": "HBoxModel",
      "state": {
       "children": [
        "IPY_MODEL_17a716fcf09d4423bdf809586d16dcda",
        "IPY_MODEL_3947ccd696994b3c9e1761340c19568a"
       ],
       "layout": "IPY_MODEL_5e17ca33844d476796b2dd0a02a317c5"
      }
     },
     "d190dbb409ac4abeb4af1a5f2023811e": {
      "model_module": "@jupyter-widgets/controls",
      "model_module_version": "1.5.0",
      "model_name": "DescriptionStyleModel",
      "state": {
       "description_width": ""
      }
     },
     "d19b5c75cf7543f486ce4bd13418e9be": {
      "model_module": "@jupyter-widgets/controls",
      "model_module_version": "1.5.0",
      "model_name": "IntProgressModel",
      "state": {
       "bar_style": "success",
       "description": "Epoch [35/40]: 100%",
       "layout": "IPY_MODEL_17a6c7c13aca4f58833233c8a7e0c495",
       "max": 361,
       "style": "IPY_MODEL_6c6c38c00fee452392c5f3044035b0b1",
       "value": 361
      }
     },
     "d1b053c84f304d1aab74d2d62e70a4e1": {
      "model_module": "@jupyter-widgets/base",
      "model_module_version": "1.2.0",
      "model_name": "LayoutModel",
      "state": {}
     },
     "d1ca61b648b94e5aba4015abc39777dd": {
      "model_module": "@jupyter-widgets/base",
      "model_module_version": "1.2.0",
      "model_name": "LayoutModel",
      "state": {}
     },
     "d1df847722dc4d70bc310df150636685": {
      "model_module": "@jupyter-widgets/base",
      "model_module_version": "1.2.0",
      "model_name": "LayoutModel",
      "state": {}
     },
     "d1ea6f2e2f3940549e7bac84f0c183c1": {
      "model_module": "@jupyter-widgets/controls",
      "model_module_version": "1.5.0",
      "model_name": "DescriptionStyleModel",
      "state": {
       "description_width": ""
      }
     },
     "d1fde1cf7b2840f39baff13ff28f21f8": {
      "model_module": "@jupyter-widgets/controls",
      "model_module_version": "1.5.0",
      "model_name": "IntProgressModel",
      "state": {
       "bar_style": "success",
       "description": "Epoch [26/40]: 100%",
       "layout": "IPY_MODEL_b74dd068e68541068bf53291dbae3930",
       "max": 361,
       "style": "IPY_MODEL_ec64c444f33244aaa185d514d13e683e",
       "value": 361
      }
     },
     "d20ef8969573432ca8ed45c7bd28dc49": {
      "model_module": "@jupyter-widgets/base",
      "model_module_version": "1.2.0",
      "model_name": "LayoutModel",
      "state": {}
     },
     "d254842942ba431d887a3e3ecf079d90": {
      "model_module": "@jupyter-widgets/controls",
      "model_module_version": "1.5.0",
      "model_name": "DescriptionStyleModel",
      "state": {
       "description_width": ""
      }
     },
     "d25566190d0d480295f2ba874638da68": {
      "model_module": "@jupyter-widgets/controls",
      "model_module_version": "1.5.0",
      "model_name": "HBoxModel",
      "state": {
       "children": [
        "IPY_MODEL_3531c1b9af874cee9c83746dd9cc36e8",
        "IPY_MODEL_eaae02168d7247db910e64c28b3c3464"
       ],
       "layout": "IPY_MODEL_f4420d8bf1f94d66a0bd270163ec3e5f"
      }
     },
     "d282c389040d4c0ca587c26f22865fe7": {
      "model_module": "@jupyter-widgets/controls",
      "model_module_version": "1.5.0",
      "model_name": "HTMLModel",
      "state": {
       "layout": "IPY_MODEL_7062c4a0023b40af942abd0e0bcd1367",
       "style": "IPY_MODEL_12ecda2e6fdf4bd7908913f3899ee011",
       "value": " 361/361 [01:54&lt;00:00,  3.17it/s, acc=0.957, loss=0.0489]"
      }
     },
     "d2c87cd6ec6144f69b96db8a37fb77d6": {
      "model_module": "@jupyter-widgets/controls",
      "model_module_version": "1.5.0",
      "model_name": "IntProgressModel",
      "state": {
       "bar_style": "success",
       "description": "Epoch [22/40]: 100%",
       "layout": "IPY_MODEL_25c09b44b0c847b88cc5f8659a24b66a",
       "max": 255,
       "style": "IPY_MODEL_784ffa3cb7de4a328cfb8ba36c74e94b",
       "value": 255
      }
     },
     "d2ca1e695ac94593b499e79eabe57872": {
      "model_module": "@jupyter-widgets/controls",
      "model_module_version": "1.5.0",
      "model_name": "DescriptionStyleModel",
      "state": {
       "description_width": ""
      }
     },
     "d2da1ce3f79d4b7d849bc74ca05eac38": {
      "model_module": "@jupyter-widgets/controls",
      "model_module_version": "1.5.0",
      "model_name": "HBoxModel",
      "state": {
       "children": [
        "IPY_MODEL_769789d272c34786919adf52daf23a65",
        "IPY_MODEL_f0e1bcea374543bb9867cc7b84422163"
       ],
       "layout": "IPY_MODEL_41fcf5fb34c44e22b6a8d76893bc3484"
      }
     },
     "d2ddafe862e14d9db02617095ea22592": {
      "model_module": "@jupyter-widgets/controls",
      "model_module_version": "1.5.0",
      "model_name": "HTMLModel",
      "state": {
       "layout": "IPY_MODEL_457bdfd42a004287aab82190cab6d042",
       "style": "IPY_MODEL_b89db179d9a0440c8eee4688bc90086c",
       "value": " 338/338 [01:33&lt;00:00,  3.62it/s, acc=0.975, loss=0.0958]"
      }
     },
     "d2ded84479724b1aaa5b18409fe4acea": {
      "model_module": "@jupyter-widgets/base",
      "model_module_version": "1.2.0",
      "model_name": "LayoutModel",
      "state": {}
     },
     "d33b1cc351974f769b1b003c979cdb4c": {
      "model_module": "@jupyter-widgets/base",
      "model_module_version": "1.2.0",
      "model_name": "LayoutModel",
      "state": {}
     },
     "d33e2e7d4d0a4abbb1ae7160104a6d6d": {
      "model_module": "@jupyter-widgets/base",
      "model_module_version": "1.2.0",
      "model_name": "LayoutModel",
      "state": {}
     },
     "d35d39a77afc4e258b8d44d371f449d8": {
      "model_module": "@jupyter-widgets/base",
      "model_module_version": "1.2.0",
      "model_name": "LayoutModel",
      "state": {}
     },
     "d39284531aca4f72aa36881a2cf1531a": {
      "model_module": "@jupyter-widgets/controls",
      "model_module_version": "1.5.0",
      "model_name": "ProgressStyleModel",
      "state": {
       "description_width": "initial"
      }
     },
     "d3a5bf157e4d4e8c97d776de19c6cc60": {
      "model_module": "@jupyter-widgets/controls",
      "model_module_version": "1.5.0",
      "model_name": "IntProgressModel",
      "state": {
       "bar_style": "success",
       "description": "Epoch [3/40]: 100%",
       "layout": "IPY_MODEL_ef0fccf41fed4f1a8c988a49b308098a",
       "max": 338,
       "style": "IPY_MODEL_e3a4bcad358f4414ad8aac50e0d38124",
       "value": 338
      }
     },
     "d3e6788bb6c94ec4ab5ca836772f8042": {
      "model_module": "@jupyter-widgets/base",
      "model_module_version": "1.2.0",
      "model_name": "LayoutModel",
      "state": {}
     },
     "d3ed8a9c863b4d9c8c45551fbc216d0c": {
      "model_module": "@jupyter-widgets/base",
      "model_module_version": "1.2.0",
      "model_name": "LayoutModel",
      "state": {}
     },
     "d3fc8b8ea5254b82afb9671cb3ed47eb": {
      "model_module": "@jupyter-widgets/base",
      "model_module_version": "1.2.0",
      "model_name": "LayoutModel",
      "state": {}
     },
     "d43cae0648034aa4ad0c08f91ea53700": {
      "model_module": "@jupyter-widgets/base",
      "model_module_version": "1.2.0",
      "model_name": "LayoutModel",
      "state": {}
     },
     "d451493fb52346d0863ae22fe9d29684": {
      "model_module": "@jupyter-widgets/controls",
      "model_module_version": "1.5.0",
      "model_name": "ProgressStyleModel",
      "state": {
       "description_width": "initial"
      }
     },
     "d459f296c6ab466387fa6c988608876b": {
      "model_module": "@jupyter-widgets/controls",
      "model_module_version": "1.5.0",
      "model_name": "IntProgressModel",
      "state": {
       "bar_style": "success",
       "description": "Epoch [3/100]: 100%",
       "layout": "IPY_MODEL_c6ff1f7180d2434b91b79ec8ec6f6d9c",
       "max": 289,
       "style": "IPY_MODEL_1ff4a6226de04a06ae7cd3f9692a3fd4",
       "value": 289
      }
     },
     "d4b08f721d164a139ddd95442fc6c0e0": {
      "model_module": "@jupyter-widgets/controls",
      "model_module_version": "1.5.0",
      "model_name": "IntProgressModel",
      "state": {
       "bar_style": "success",
       "description": "Epoch [9/40]: 100%",
       "layout": "IPY_MODEL_ea1f5b7ee0aa490485f39e386a8098ec",
       "max": 361,
       "style": "IPY_MODEL_6b71dc0235e04fb5b8948ff08c396bdb",
       "value": 361
      }
     },
     "d4b3f93753e94573b2d4cc9443546f3b": {
      "model_module": "@jupyter-widgets/base",
      "model_module_version": "1.2.0",
      "model_name": "LayoutModel",
      "state": {}
     },
     "d4d08ec8a9404ddea11d0ee0b9180909": {
      "model_module": "@jupyter-widgets/controls",
      "model_module_version": "1.5.0",
      "model_name": "HTMLModel",
      "state": {
       "layout": "IPY_MODEL_4421c1484ed04f4ab75c51d58f463723",
       "style": "IPY_MODEL_8111781c1e564827bce06487b0f06867",
       "value": " 361/361 [00:52&lt;00:00,  6.90it/s, acc=0.967, loss=0.102]"
      }
     },
     "d50bf4a175a44258a4b071478a840894": {
      "model_module": "@jupyter-widgets/controls",
      "model_module_version": "1.5.0",
      "model_name": "DescriptionStyleModel",
      "state": {
       "description_width": ""
      }
     },
     "d55c71571e464273925a5b7ae1d60450": {
      "model_module": "@jupyter-widgets/base",
      "model_module_version": "1.2.0",
      "model_name": "LayoutModel",
      "state": {}
     },
     "d572c9e5781e4edb8d9fdcb315fd9164": {
      "model_module": "@jupyter-widgets/base",
      "model_module_version": "1.2.0",
      "model_name": "LayoutModel",
      "state": {}
     },
     "d5833b474c404ac3826c8ceb5da90bec": {
      "model_module": "@jupyter-widgets/base",
      "model_module_version": "1.2.0",
      "model_name": "LayoutModel",
      "state": {}
     },
     "d58a2016b79247418a8ee9ee31fab461": {
      "model_module": "@jupyter-widgets/controls",
      "model_module_version": "1.5.0",
      "model_name": "IntProgressModel",
      "state": {
       "layout": "IPY_MODEL_9f5a7cc4a86b4470b92103a133d4f77c",
       "max": 289,
       "style": "IPY_MODEL_cac547cd123f46279847984aed3398e5"
      }
     },
     "d59dc5885cd7426eb0b79ffe1636b05e": {
      "model_module": "@jupyter-widgets/base",
      "model_module_version": "1.2.0",
      "model_name": "LayoutModel",
      "state": {}
     },
     "d5a86fb1d1f14bc99b6400be646c43d6": {
      "model_module": "@jupyter-widgets/base",
      "model_module_version": "1.2.0",
      "model_name": "LayoutModel",
      "state": {}
     },
     "d5a891e3f8ac4eefbc03f7101da2c947": {
      "model_module": "@jupyter-widgets/controls",
      "model_module_version": "1.5.0",
      "model_name": "ProgressStyleModel",
      "state": {
       "description_width": "initial"
      }
     },
     "d5bb857570be4ab88c1ac675f8ccd94b": {
      "model_module": "@jupyter-widgets/controls",
      "model_module_version": "1.5.0",
      "model_name": "HTMLModel",
      "state": {
       "layout": "IPY_MODEL_a2e55d9ee103420eaae645f9fa607f96",
       "style": "IPY_MODEL_6f347c9988c44746af464b030eafd1ab",
       "value": " 281/281 [00:28&lt;00:00,  9.81it/s, acc=0.994, loss=0.0411]"
      }
     },
     "d5bcbf80ed7048409e7b930c426ff2eb": {
      "model_module": "@jupyter-widgets/base",
      "model_module_version": "1.2.0",
      "model_name": "LayoutModel",
      "state": {}
     },
     "d5c83183225940f684d45fef44ae9670": {
      "model_module": "@jupyter-widgets/controls",
      "model_module_version": "1.5.0",
      "model_name": "IntProgressModel",
      "state": {
       "bar_style": "success",
       "description": "Epoch [28/100]: 100%",
       "layout": "IPY_MODEL_3b6e40026b9146bebf8667ccd2e713bc",
       "max": 289,
       "style": "IPY_MODEL_d39284531aca4f72aa36881a2cf1531a",
       "value": 289
      }
     },
     "d5ccb2e805e34db3b0e4aab27fcf772c": {
      "model_module": "@jupyter-widgets/base",
      "model_module_version": "1.2.0",
      "model_name": "LayoutModel",
      "state": {}
     },
     "d5dd8eb34a96457192d3a3f24177af03": {
      "model_module": "@jupyter-widgets/base",
      "model_module_version": "1.2.0",
      "model_name": "LayoutModel",
      "state": {}
     },
     "d5e3e8e74f3047039565a0a59ca75530": {
      "model_module": "@jupyter-widgets/controls",
      "model_module_version": "1.5.0",
      "model_name": "IntProgressModel",
      "state": {
       "bar_style": "success",
       "description": "Epoch [44/100]: 100%",
       "layout": "IPY_MODEL_1725845bf591452e84653acdf7c56c37",
       "max": 289,
       "style": "IPY_MODEL_c06d6c292fca4c3aae2b7c3227a2cd34",
       "value": 289
      }
     },
     "d5fe03560bdd4046823628276c853f78": {
      "model_module": "@jupyter-widgets/controls",
      "model_module_version": "1.5.0",
      "model_name": "HTMLModel",
      "state": {
       "layout": "IPY_MODEL_03f2a84efef441319d6b67e4ac7b249a",
       "style": "IPY_MODEL_9467af6b24284edb8276df384e3473cf",
       "value": " 361/361 [01:05&lt;00:00,  5.50it/s, acc=0.974, loss=0.0548]"
      }
     },
     "d61a0fe10a2a457b8fd54341ccc99a53": {
      "model_module": "@jupyter-widgets/controls",
      "model_module_version": "1.5.0",
      "model_name": "HTMLModel",
      "state": {
       "layout": "IPY_MODEL_f506361c804c478cadd9b4e129d5afd2",
       "style": "IPY_MODEL_8a0934a152cd418491ad9c08b05c0300",
       "value": " 289/289 [00:31&lt;00:00,  9.27it/s, acc=0.986, loss=0.00812]"
      }
     },
     "d62c68cfbe7e455f8b06728ebb239c03": {
      "model_module": "@jupyter-widgets/controls",
      "model_module_version": "1.5.0",
      "model_name": "IntProgressModel",
      "state": {
       "bar_style": "success",
       "description": "Epoch [7/40]: 100%",
       "layout": "IPY_MODEL_68ec414006be4e92b309a248961364a7",
       "max": 338,
       "style": "IPY_MODEL_80a0b9f7379b4be5bc906ddb5064d7a1",
       "value": 338
      }
     },
     "d64014acf6054485ac3bf808510a5e3e": {
      "model_module": "@jupyter-widgets/base",
      "model_module_version": "1.2.0",
      "model_name": "LayoutModel",
      "state": {}
     },
     "d669ad94bcc344a6a1857d798d9d3e1c": {
      "model_module": "@jupyter-widgets/controls",
      "model_module_version": "1.5.0",
      "model_name": "HTMLModel",
      "state": {
       "layout": "IPY_MODEL_bac482d0b81241749d90b1f43be5e700",
       "style": "IPY_MODEL_23e1d084d3984c0c94d49cc1eb35499f",
       "value": " 361/361 [02:05&lt;00:00,  2.87it/s, acc=0.988, loss=0.0333]"
      }
     },
     "d6b8225335e3425b82bdc9085474d2b7": {
      "model_module": "@jupyter-widgets/base",
      "model_module_version": "1.2.0",
      "model_name": "LayoutModel",
      "state": {}
     },
     "d6ba1ba52e684589aed3ce2fa3873cc5": {
      "model_module": "@jupyter-widgets/controls",
      "model_module_version": "1.5.0",
      "model_name": "ProgressStyleModel",
      "state": {
       "description_width": "initial"
      }
     },
     "d6ca1617a18c4614919ec6987438f62b": {
      "model_module": "@jupyter-widgets/controls",
      "model_module_version": "1.5.0",
      "model_name": "IntProgressModel",
      "state": {
       "bar_style": "success",
       "description": "Epoch [31/40]: 100%",
       "layout": "IPY_MODEL_831660880fa84d649d0f7b9cb56cd6cf",
       "max": 338,
       "style": "IPY_MODEL_c3244ecfe3864a1bac29d4b3061ea782",
       "value": 338
      }
     },
     "d6dbc0972a92400796a93b890b0723e0": {
      "model_module": "@jupyter-widgets/base",
      "model_module_version": "1.2.0",
      "model_name": "LayoutModel",
      "state": {}
     },
     "d70c06cb3f0f4f9a928b4c95d6bcc72b": {
      "model_module": "@jupyter-widgets/controls",
      "model_module_version": "1.5.0",
      "model_name": "DescriptionStyleModel",
      "state": {
       "description_width": ""
      }
     },
     "d7147c999139446282fb793f1b68ec7f": {
      "model_module": "@jupyter-widgets/base",
      "model_module_version": "1.2.0",
      "model_name": "LayoutModel",
      "state": {}
     },
     "d73b06e19418409a80459819c2f9ffa2": {
      "model_module": "@jupyter-widgets/controls",
      "model_module_version": "1.5.0",
      "model_name": "HBoxModel",
      "state": {
       "children": [
        "IPY_MODEL_31b33b40e3a44e2594f1ecfdd20e112c",
        "IPY_MODEL_547b40509191452097ac9c8bad93d877"
       ],
       "layout": "IPY_MODEL_0d708c5cd8734a0eafae14e024b464f3"
      }
     },
     "d7f52fba81de41858244aba975b77652": {
      "model_module": "@jupyter-widgets/controls",
      "model_module_version": "1.5.0",
      "model_name": "IntProgressModel",
      "state": {
       "bar_style": "success",
       "description": "Epoch [17/40]: 100%",
       "layout": "IPY_MODEL_e8a01ee9dad34929a28fb1578b44d17d",
       "max": 289,
       "style": "IPY_MODEL_402046986d184ca19eab6bc3d2ba869d",
       "value": 289
      }
     },
     "d8021c4800254d7ba5fc15d7fad931c6": {
      "model_module": "@jupyter-widgets/controls",
      "model_module_version": "1.5.0",
      "model_name": "DescriptionStyleModel",
      "state": {
       "description_width": ""
      }
     },
     "d85732106ce243aea7ebf6f7c44eecbc": {
      "model_module": "@jupyter-widgets/controls",
      "model_module_version": "1.5.0",
      "model_name": "IntProgressModel",
      "state": {
       "bar_style": "success",
       "description": "Epoch [46/100]: 100%",
       "layout": "IPY_MODEL_aa4e40bf5af3450db57ceced4ec52f00",
       "max": 289,
       "style": "IPY_MODEL_26b7dc83f360405489c8c4672bc20a59",
       "value": 289
      }
     },
     "d862c666ae2e4c45aa86930c24751f4f": {
      "model_module": "@jupyter-widgets/controls",
      "model_module_version": "1.5.0",
      "model_name": "DescriptionStyleModel",
      "state": {
       "description_width": ""
      }
     },
     "d8648696138f45e4bd40623469a8d144": {
      "model_module": "@jupyter-widgets/base",
      "model_module_version": "1.2.0",
      "model_name": "LayoutModel",
      "state": {}
     },
     "d8871f5591064765a39e58935ad3b059": {
      "model_module": "@jupyter-widgets/base",
      "model_module_version": "1.2.0",
      "model_name": "LayoutModel",
      "state": {}
     },
     "d8b6935cb92142b1a52ee1851e58b33d": {
      "model_module": "@jupyter-widgets/controls",
      "model_module_version": "1.5.0",
      "model_name": "HTMLModel",
      "state": {
       "layout": "IPY_MODEL_3cb6b9add10c405981b5fd7f19829106",
       "style": "IPY_MODEL_600b2652be3f4921858d71188a4b1dfd",
       "value": " 338/338 [01:29&lt;00:00,  3.76it/s, acc=0.508, loss=0.621]"
      }
     },
     "d8c09af4df6b479c8e07bde2c1acb405": {
      "model_module": "@jupyter-widgets/controls",
      "model_module_version": "1.5.0",
      "model_name": "HTMLModel",
      "state": {
       "layout": "IPY_MODEL_bfc5d5cf4d364a68aa4a467448d36032",
       "style": "IPY_MODEL_212c89ffcfe340d691a91eb2f04bd603",
       "value": " 241/241 [01:25&lt;00:00,  2.82it/s, acc=0.981, loss=0.126]"
      }
     },
     "d8f013974d014603a980b6b2b6c0470d": {
      "model_module": "@jupyter-widgets/controls",
      "model_module_version": "1.5.0",
      "model_name": "DescriptionStyleModel",
      "state": {
       "description_width": ""
      }
     },
     "d908556f599642458704090f35490a01": {
      "model_module": "@jupyter-widgets/controls",
      "model_module_version": "1.5.0",
      "model_name": "ProgressStyleModel",
      "state": {
       "description_width": "initial"
      }
     },
     "d908d82281d9445d8f3915a82c54625d": {
      "model_module": "@jupyter-widgets/base",
      "model_module_version": "1.2.0",
      "model_name": "LayoutModel",
      "state": {}
     },
     "d91eff865c0a4c80867fb86a6494fa0d": {
      "model_module": "@jupyter-widgets/controls",
      "model_module_version": "1.5.0",
      "model_name": "HTMLModel",
      "state": {
       "layout": "IPY_MODEL_eb0ef92422ab4c55aabda02e970d65c5",
       "style": "IPY_MODEL_1572f75d983f43b09d2a9cc836bcfe67",
       "value": " 338/338 [00:46&lt;00:00,  7.21it/s, acc=0.981, loss=0.222]"
      }
     },
     "d929a156f4ca4936998c4fff6a1b24e4": {
      "model_module": "@jupyter-widgets/controls",
      "model_module_version": "1.5.0",
      "model_name": "IntProgressModel",
      "state": {
       "bar_style": "success",
       "description": "Epoch [15/40]: 100%",
       "layout": "IPY_MODEL_7d6dc9303e23444fab59178d01a0d119",
       "max": 338,
       "style": "IPY_MODEL_3c4d2b0bad2b44e38b9884f032f4fe13",
       "value": 338
      }
     },
     "d93b61a92d824f47908e191c38c3c346": {
      "model_module": "@jupyter-widgets/base",
      "model_module_version": "1.2.0",
      "model_name": "LayoutModel",
      "state": {}
     },
     "d94f9611a2324567a9492f8aa1207ede": {
      "model_module": "@jupyter-widgets/controls",
      "model_module_version": "1.5.0",
      "model_name": "HTMLModel",
      "state": {
       "layout": "IPY_MODEL_49e229e523d44fe5b29e35873f528d98",
       "style": "IPY_MODEL_84050fb30b5e4ce7bd8855a9ec7a32d5",
       "value": " 280/280 [00:43&lt;00:00,  6.47it/s, acc=0.994, loss=0.0731]"
      }
     },
     "d97f3f800ec64576be0e530519282fa8": {
      "model_module": "@jupyter-widgets/controls",
      "model_module_version": "1.5.0",
      "model_name": "HTMLModel",
      "state": {
       "layout": "IPY_MODEL_3d78dfa005b34ea293afc2e27fb5e338",
       "style": "IPY_MODEL_7b5aafb44a1445c5bbdea2a8f1a73e40",
       "value": " 361/361 [01:18&lt;00:00,  4.60it/s, acc=0.978, loss=0.135]"
      }
     },
     "d9bdb245c04945a3b1ae011a8fbe1dc6": {
      "model_module": "@jupyter-widgets/base",
      "model_module_version": "1.2.0",
      "model_name": "LayoutModel",
      "state": {}
     },
     "d9e9e4530cba4db29356bbd206b6faf9": {
      "model_module": "@jupyter-widgets/base",
      "model_module_version": "1.2.0",
      "model_name": "LayoutModel",
      "state": {}
     },
     "d9f3d5380cb4444d95b219a3bcd02b48": {
      "model_module": "@jupyter-widgets/base",
      "model_module_version": "1.2.0",
      "model_name": "LayoutModel",
      "state": {}
     },
     "da2549d989284dd69b6eb15c14346072": {
      "model_module": "@jupyter-widgets/controls",
      "model_module_version": "1.5.0",
      "model_name": "DescriptionStyleModel",
      "state": {
       "description_width": ""
      }
     },
     "da3c21d040b840efa1f45e430372bed3": {
      "model_module": "@jupyter-widgets/base",
      "model_module_version": "1.2.0",
      "model_name": "LayoutModel",
      "state": {}
     },
     "da3e97f02d3f47de910f8268cbf38ade": {
      "model_module": "@jupyter-widgets/base",
      "model_module_version": "1.2.0",
      "model_name": "LayoutModel",
      "state": {}
     },
     "da452c0b51794fd68abbb66cc211f030": {
      "model_module": "@jupyter-widgets/controls",
      "model_module_version": "1.5.0",
      "model_name": "HBoxModel",
      "state": {
       "children": [
        "IPY_MODEL_a45c250505b3408faa3badf32f2114ef",
        "IPY_MODEL_c8ad282620244fa3800abb139bc7e64d"
       ],
       "layout": "IPY_MODEL_8e175161ccd440b58c58e128ec77c213"
      }
     },
     "da6356e4cabd453daafd591e98960af0": {
      "model_module": "@jupyter-widgets/controls",
      "model_module_version": "1.5.0",
      "model_name": "IntProgressModel",
      "state": {
       "bar_style": "success",
       "description": "Epoch [25/100]: 100%",
       "layout": "IPY_MODEL_176d05beceda4440af19eba11bd6fa97",
       "max": 289,
       "style": "IPY_MODEL_a1a072a03d9840da880a0eb6ba2b02c7",
       "value": 289
      }
     },
     "da821ce4438f43ec938f7234a2e640c8": {
      "model_module": "@jupyter-widgets/base",
      "model_module_version": "1.2.0",
      "model_name": "LayoutModel",
      "state": {}
     },
     "daecd484e5e24068be6b16f44bf66d76": {
      "model_module": "@jupyter-widgets/controls",
      "model_module_version": "1.5.0",
      "model_name": "ProgressStyleModel",
      "state": {
       "description_width": "initial"
      }
     },
     "db0b8f35e4db4d73a571c6989862dd07": {
      "model_module": "@jupyter-widgets/controls",
      "model_module_version": "1.5.0",
      "model_name": "DescriptionStyleModel",
      "state": {
       "description_width": ""
      }
     },
     "db1f4e9e0bdc4b42b9548e5b7197569c": {
      "model_module": "@jupyter-widgets/controls",
      "model_module_version": "1.5.0",
      "model_name": "IntProgressModel",
      "state": {
       "bar_style": "success",
       "description": "Epoch [27/40]: 100%",
       "layout": "IPY_MODEL_687fac64901648ceb1c68b0692b668ee",
       "max": 289,
       "style": "IPY_MODEL_9acc961905e94754868195c7ea5206a9",
       "value": 289
      }
     },
     "db45475a256c44dd80cdd5ccd27578e3": {
      "model_module": "@jupyter-widgets/base",
      "model_module_version": "1.2.0",
      "model_name": "LayoutModel",
      "state": {}
     },
     "db6227ea094c4b1bbffa0a60ddccfb28": {
      "model_module": "@jupyter-widgets/controls",
      "model_module_version": "1.5.0",
      "model_name": "HBoxModel",
      "state": {
       "children": [
        "IPY_MODEL_732b06cf0a344c7db1d87507ae79b860",
        "IPY_MODEL_d94f9611a2324567a9492f8aa1207ede"
       ],
       "layout": "IPY_MODEL_b052fd76c2c949939b353621d37d9422"
      }
     },
     "db6ae3a69fbd4b9095c7bf3b58ed3497": {
      "model_module": "@jupyter-widgets/base",
      "model_module_version": "1.2.0",
      "model_name": "LayoutModel",
      "state": {}
     },
     "db6f731f19ca42ca89a928a8127fe069": {
      "model_module": "@jupyter-widgets/base",
      "model_module_version": "1.2.0",
      "model_name": "LayoutModel",
      "state": {}
     },
     "db8005ccd76742c2816aa62593a666a0": {
      "model_module": "@jupyter-widgets/base",
      "model_module_version": "1.2.0",
      "model_name": "LayoutModel",
      "state": {}
     },
     "dbae7f54606544c58f2fd2218fcaf13b": {
      "model_module": "@jupyter-widgets/base",
      "model_module_version": "1.2.0",
      "model_name": "LayoutModel",
      "state": {}
     },
     "dbafae9d56aa44fa94f6f9658da926d4": {
      "model_module": "@jupyter-widgets/base",
      "model_module_version": "1.2.0",
      "model_name": "LayoutModel",
      "state": {}
     },
     "dbb1ba6059fc497091b3aae492cab668": {
      "model_module": "@jupyter-widgets/base",
      "model_module_version": "1.2.0",
      "model_name": "LayoutModel",
      "state": {}
     },
     "dbb7e1c5d00d45daa5ea8b303358ec2a": {
      "model_module": "@jupyter-widgets/base",
      "model_module_version": "1.2.0",
      "model_name": "LayoutModel",
      "state": {}
     },
     "dbb95d2647ca4cb2a8be42a311ccf41e": {
      "model_module": "@jupyter-widgets/base",
      "model_module_version": "1.2.0",
      "model_name": "LayoutModel",
      "state": {}
     },
     "dbdc92a6b7b342a78dc5f23ab04acc9e": {
      "model_module": "@jupyter-widgets/controls",
      "model_module_version": "1.5.0",
      "model_name": "DescriptionStyleModel",
      "state": {
       "description_width": ""
      }
     },
     "dc1d05af9e524e5d83c761d3df7a33ab": {
      "model_module": "@jupyter-widgets/controls",
      "model_module_version": "1.5.0",
      "model_name": "HBoxModel",
      "state": {
       "children": [
        "IPY_MODEL_86ee6814d0484333afcc1290e3792421",
        "IPY_MODEL_25b0352a4eff43e2919f023b3598e186"
       ],
       "layout": "IPY_MODEL_aa3a8c968ded4a96b068493426442661"
      }
     },
     "dc26ca2de6504204acda496b6314fcdf": {
      "model_module": "@jupyter-widgets/controls",
      "model_module_version": "1.5.0",
      "model_name": "HTMLModel",
      "state": {
       "layout": "IPY_MODEL_d9f3d5380cb4444d95b219a3bcd02b48",
       "style": "IPY_MODEL_16eaad0771cf4a399d26ddbd8302e273",
       "value": " 289/289 [01:38&lt;00:00,  2.92it/s, acc=0.968, loss=0.119]"
      }
     },
     "dc27e7303488495fa5208920c440793f": {
      "model_module": "@jupyter-widgets/controls",
      "model_module_version": "1.5.0",
      "model_name": "HBoxModel",
      "state": {
       "children": [
        "IPY_MODEL_051b39bab7c04aa9848d5c94b7c8593f",
        "IPY_MODEL_86da4384163540fdb7e10f5e3eccd506"
       ],
       "layout": "IPY_MODEL_854cdefc3f6e45b3819db0683fe122e2"
      }
     },
     "dc4712306d9b4e7bb8d303bef4f92908": {
      "model_module": "@jupyter-widgets/controls",
      "model_module_version": "1.5.0",
      "model_name": "ProgressStyleModel",
      "state": {
       "description_width": "initial"
      }
     },
     "dc5803f2d9cb42baa3f625c8e6765881": {
      "model_module": "@jupyter-widgets/controls",
      "model_module_version": "1.5.0",
      "model_name": "ProgressStyleModel",
      "state": {
       "description_width": "initial"
      }
     },
     "dca05a24bb1345a2a446fe0d59a52d75": {
      "model_module": "@jupyter-widgets/base",
      "model_module_version": "1.2.0",
      "model_name": "LayoutModel",
      "state": {}
     },
     "dcb08f75112b47f7a674544386f4b0df": {
      "model_module": "@jupyter-widgets/base",
      "model_module_version": "1.2.0",
      "model_name": "LayoutModel",
      "state": {}
     },
     "dd00cdadf5284ee98681203168fe4db8": {
      "model_module": "@jupyter-widgets/base",
      "model_module_version": "1.2.0",
      "model_name": "LayoutModel",
      "state": {}
     },
     "dd3d88fbb8d74b87936d2b22746563a2": {
      "model_module": "@jupyter-widgets/controls",
      "model_module_version": "1.5.0",
      "model_name": "DescriptionStyleModel",
      "state": {
       "description_width": ""
      }
     },
     "dd420daf2b2a47558b9fd5ffcc4ac967": {
      "model_module": "@jupyter-widgets/controls",
      "model_module_version": "1.5.0",
      "model_name": "ProgressStyleModel",
      "state": {
       "description_width": "initial"
      }
     },
     "dd71fd4a381d4b0b957797a3751894cd": {
      "model_module": "@jupyter-widgets/controls",
      "model_module_version": "1.5.0",
      "model_name": "IntProgressModel",
      "state": {
       "bar_style": "success",
       "description": "Epoch [25/40]: 100%",
       "layout": "IPY_MODEL_b4cbc5dbabc9438a88bb56640cc62ee7",
       "max": 255,
       "style": "IPY_MODEL_5cf13739f1fe428db5844043cb289f79",
       "value": 255
      }
     },
     "dd792552d07b4fe4b0fb962b789b75a0": {
      "model_module": "@jupyter-widgets/base",
      "model_module_version": "1.2.0",
      "model_name": "LayoutModel",
      "state": {}
     },
     "dd8c2881ca9e4bdd8ac7e36b8e165b20": {
      "model_module": "@jupyter-widgets/controls",
      "model_module_version": "1.5.0",
      "model_name": "ProgressStyleModel",
      "state": {
       "description_width": "initial"
      }
     },
     "dd940ab20d214feb8e058a9c38657b68": {
      "model_module": "@jupyter-widgets/controls",
      "model_module_version": "1.5.0",
      "model_name": "ProgressStyleModel",
      "state": {
       "description_width": "initial"
      }
     },
     "dda5c81c264a47cb916119006a7ef4d4": {
      "model_module": "@jupyter-widgets/controls",
      "model_module_version": "1.5.0",
      "model_name": "HTMLModel",
      "state": {
       "layout": "IPY_MODEL_5e0705d89a474a158f04c5aeaa37f40c",
       "style": "IPY_MODEL_315ee885acbd43f6be3bc952aa37dad6",
       "value": " 280/280 [01:05&lt;00:00,  4.28it/s, acc=0.993, loss=0.014]"
      }
     },
     "ddabd5cc33d04c5cbba80db70ca773bf": {
      "model_module": "@jupyter-widgets/controls",
      "model_module_version": "1.5.0",
      "model_name": "HBoxModel",
      "state": {
       "children": [
        "IPY_MODEL_1cddadb76dd94047a9ec746ab78fca91",
        "IPY_MODEL_9ac06aa27fd0434bbc7153d53e48dc7a"
       ],
       "layout": "IPY_MODEL_8b1db1016e95493583817f13409ace4d"
      }
     },
     "ddb8586929c34d2e91ea6321a8aa71b9": {
      "model_module": "@jupyter-widgets/controls",
      "model_module_version": "1.5.0",
      "model_name": "HBoxModel",
      "state": {
       "children": [
        "IPY_MODEL_24977bfe1b4b4b1cac18dfc1b6b00c7b",
        "IPY_MODEL_ee24eee2ec5a452cad29618c4f64b54c"
       ],
       "layout": "IPY_MODEL_2c1e0b4b60454c87880500c8b8f275a3"
      }
     },
     "ddc7da7979ad4f919f675a52345c19eb": {
      "model_module": "@jupyter-widgets/base",
      "model_module_version": "1.2.0",
      "model_name": "LayoutModel",
      "state": {}
     },
     "ddd11cb09152443ea8e9a3953d7eec0b": {
      "model_module": "@jupyter-widgets/base",
      "model_module_version": "1.2.0",
      "model_name": "LayoutModel",
      "state": {}
     },
     "dde46240fa504956b9d9d1e7e1aa9b38": {
      "model_module": "@jupyter-widgets/base",
      "model_module_version": "1.2.0",
      "model_name": "LayoutModel",
      "state": {}
     },
     "de02ad1f4f454fbb953ced63a8734091": {
      "model_module": "@jupyter-widgets/controls",
      "model_module_version": "1.5.0",
      "model_name": "HTMLModel",
      "state": {
       "layout": "IPY_MODEL_94c2e61aa49342d882f91d9cc44c0ac8",
       "style": "IPY_MODEL_651020f67a984e20b9e1246fd485f2e1"
      }
     },
     "de09507722224cbdb9b923f897f00647": {
      "model_module": "@jupyter-widgets/base",
      "model_module_version": "1.2.0",
      "model_name": "LayoutModel",
      "state": {}
     },
     "de0e9f67077b48a391ac3d03acba3d8f": {
      "model_module": "@jupyter-widgets/base",
      "model_module_version": "1.2.0",
      "model_name": "LayoutModel",
      "state": {}
     },
     "de31172fc76e44ba9ff21603966163fd": {
      "model_module": "@jupyter-widgets/base",
      "model_module_version": "1.2.0",
      "model_name": "LayoutModel",
      "state": {}
     },
     "de31de9ba89742f6bdef8549f36cda1e": {
      "model_module": "@jupyter-widgets/base",
      "model_module_version": "1.2.0",
      "model_name": "LayoutModel",
      "state": {}
     },
     "de4e8e97819d4d218c2b60f7d8212435": {
      "model_module": "@jupyter-widgets/base",
      "model_module_version": "1.2.0",
      "model_name": "LayoutModel",
      "state": {}
     },
     "de8bb49010984c6f8f7c905f344fc82b": {
      "model_module": "@jupyter-widgets/controls",
      "model_module_version": "1.5.0",
      "model_name": "DescriptionStyleModel",
      "state": {
       "description_width": ""
      }
     },
     "deaae29cf5a447c9800d60db97518d20": {
      "model_module": "@jupyter-widgets/base",
      "model_module_version": "1.2.0",
      "model_name": "LayoutModel",
      "state": {}
     },
     "deb9230dc2e34403af31012e9951802e": {
      "model_module": "@jupyter-widgets/base",
      "model_module_version": "1.2.0",
      "model_name": "LayoutModel",
      "state": {}
     },
     "dec9505677a14a1e9145b29a9268dd61": {
      "model_module": "@jupyter-widgets/base",
      "model_module_version": "1.2.0",
      "model_name": "LayoutModel",
      "state": {}
     },
     "dee0d4127e42440dbac0c67eab69b52a": {
      "model_module": "@jupyter-widgets/controls",
      "model_module_version": "1.5.0",
      "model_name": "HBoxModel",
      "state": {
       "children": [
        "IPY_MODEL_09fa32466f274a208c1dc931a75064d5",
        "IPY_MODEL_a65a06309d274d858ca36e04a1722057"
       ],
       "layout": "IPY_MODEL_cc328a9df7594eb0a537f79e7e59c5e1"
      }
     },
     "df0e216bec4c4043abd93a8f8b6abf67": {
      "model_module": "@jupyter-widgets/base",
      "model_module_version": "1.2.0",
      "model_name": "LayoutModel",
      "state": {}
     },
     "df22ffdbd74f48958d686633ff719254": {
      "model_module": "@jupyter-widgets/controls",
      "model_module_version": "1.5.0",
      "model_name": "IntProgressModel",
      "state": {
       "bar_style": "success",
       "description": "Epoch [10/40]: 100%",
       "layout": "IPY_MODEL_b36f1922afd242609de74a3eda36ae8f",
       "max": 338,
       "style": "IPY_MODEL_57d838b3b40d40ba9f7a8d45de4ce484",
       "value": 338
      }
     },
     "df2dc44b2db740b9a497790d0f38bf41": {
      "model_module": "@jupyter-widgets/controls",
      "model_module_version": "1.5.0",
      "model_name": "IntProgressModel",
      "state": {
       "bar_style": "success",
       "description": "Epoch [37/40]: 100%",
       "layout": "IPY_MODEL_1325dc6e04b842068422fc09e51cfaa0",
       "max": 361,
       "style": "IPY_MODEL_eaf63ca94ed041e9bd2373f4a8cb399c",
       "value": 361
      }
     },
     "df303bc7dc4241da98da23614002ba7e": {
      "model_module": "@jupyter-widgets/base",
      "model_module_version": "1.2.0",
      "model_name": "LayoutModel",
      "state": {}
     },
     "df84e8fe274a44658e4d62822e01a6fb": {
      "model_module": "@jupyter-widgets/base",
      "model_module_version": "1.2.0",
      "model_name": "LayoutModel",
      "state": {}
     },
     "dfacede4f6c64d56937138c7128d535d": {
      "model_module": "@jupyter-widgets/controls",
      "model_module_version": "1.5.0",
      "model_name": "DescriptionStyleModel",
      "state": {
       "description_width": ""
      }
     },
     "dfbfaad00700480186224f34273af8ad": {
      "model_module": "@jupyter-widgets/controls",
      "model_module_version": "1.5.0",
      "model_name": "HBoxModel",
      "state": {
       "children": [
        "IPY_MODEL_ee6719bb2ea5471299f4d5e76175207b",
        "IPY_MODEL_23feb35a7d5642339c6527d1289a1324"
       ],
       "layout": "IPY_MODEL_beec451304af4b46bbf0450d309f6d6a"
      }
     },
     "dfcebf2015764b8b8fb74cfec229d06f": {
      "model_module": "@jupyter-widgets/controls",
      "model_module_version": "1.5.0",
      "model_name": "ProgressStyleModel",
      "state": {
       "description_width": "initial"
      }
     },
     "e00add41df064b93bec0fff6bceedbf3": {
      "model_module": "@jupyter-widgets/controls",
      "model_module_version": "1.5.0",
      "model_name": "HTMLModel",
      "state": {
       "layout": "IPY_MODEL_255ae8e91bdc41509f5c8c43ee1d9688",
       "style": "IPY_MODEL_0a82cb00217e4337b3e4397e3c059d67",
       "value": " 361/361 [02:01&lt;00:00,  2.97it/s, acc=0.979, loss=0.0458]"
      }
     },
     "e0115c33577f47bea02db915fc43c5b7": {
      "model_module": "@jupyter-widgets/controls",
      "model_module_version": "1.5.0",
      "model_name": "HBoxModel",
      "state": {
       "children": [
        "IPY_MODEL_a7dab5ad6d074a4da9b06c65863141a2",
        "IPY_MODEL_d8c09af4df6b479c8e07bde2c1acb405"
       ],
       "layout": "IPY_MODEL_e7ba7ad4bf874379aca03f7867dd9d5c"
      }
     },
     "e053902dd144416c898732bdbd819fd2": {
      "model_module": "@jupyter-widgets/controls",
      "model_module_version": "1.5.0",
      "model_name": "HBoxModel",
      "state": {
       "children": [
        "IPY_MODEL_db1f4e9e0bdc4b42b9548e5b7197569c",
        "IPY_MODEL_2800aaf65be54efe81e13d615eb8335b"
       ],
       "layout": "IPY_MODEL_1d889790292f4b7a9a97fca55e7d0e60"
      }
     },
     "e05e3e6440694f0f8dc45c411cc89ad1": {
      "model_module": "@jupyter-widgets/controls",
      "model_module_version": "1.5.0",
      "model_name": "IntProgressModel",
      "state": {
       "bar_style": "success",
       "description": "Epoch [5/40]: 100%",
       "layout": "IPY_MODEL_0df9d3968af84c579f993d67a9e56a4b",
       "max": 289,
       "style": "IPY_MODEL_65bad96b485148c69678718ca4f0256b",
       "value": 289
      }
     },
     "e08fccaea49c47939fdeb4643187d07f": {
      "model_module": "@jupyter-widgets/base",
      "model_module_version": "1.2.0",
      "model_name": "LayoutModel",
      "state": {}
     },
     "e09e17319bc0493682061cfc8c4b789c": {
      "model_module": "@jupyter-widgets/controls",
      "model_module_version": "1.5.0",
      "model_name": "HBoxModel",
      "state": {
       "children": [
        "IPY_MODEL_147d44397aa04be7a18050cc2d243861",
        "IPY_MODEL_5e6a43ff413843ff85f9a18052a3a21f"
       ],
       "layout": "IPY_MODEL_2c74fbb73cb04472a961ae4ea05a4554"
      }
     },
     "e0dc8e7faa9e43f68afca94f8be018b9": {
      "model_module": "@jupyter-widgets/controls",
      "model_module_version": "1.5.0",
      "model_name": "HBoxModel",
      "state": {
       "children": [
        "IPY_MODEL_131e25581aa947aa85467da73320ebd0",
        "IPY_MODEL_3d8935d728a54c4c8e4ac00db86f2418"
       ],
       "layout": "IPY_MODEL_96931e932cc641ceaf22cd74ac20786b"
      }
     },
     "e0e937b65cdd47e9bab3baaf04ed3eca": {
      "model_module": "@jupyter-widgets/controls",
      "model_module_version": "1.5.0",
      "model_name": "HTMLModel",
      "state": {
       "layout": "IPY_MODEL_d908d82281d9445d8f3915a82c54625d",
       "style": "IPY_MODEL_b39cdc6110614d5986f7ad6b71ea9e6a",
       "value": " 361/361 [00:55&lt;00:00,  6.45it/s, acc=0.984, loss=0.0318]"
      }
     },
     "e119d292bc8f4082b85987a70dd5fe36": {
      "model_module": "@jupyter-widgets/controls",
      "model_module_version": "1.5.0",
      "model_name": "ProgressStyleModel",
      "state": {
       "description_width": "initial"
      }
     },
     "e128f22bdfbe4e4fba992bc87947e362": {
      "model_module": "@jupyter-widgets/controls",
      "model_module_version": "1.5.0",
      "model_name": "HBoxModel",
      "state": {
       "children": [
        "IPY_MODEL_1a4727c0a66a42f2aa176680f2a5af6e",
        "IPY_MODEL_8029bad94f68484dbfe210f349d198fa"
       ],
       "layout": "IPY_MODEL_c965dc0fc36b484d8df96578a617d34d"
      }
     },
     "e12c696b403f4e6eb905fd4d3cc373a4": {
      "model_module": "@jupyter-widgets/controls",
      "model_module_version": "1.5.0",
      "model_name": "DescriptionStyleModel",
      "state": {
       "description_width": ""
      }
     },
     "e15373aeaf504183b8d2e9dd89440d90": {
      "model_module": "@jupyter-widgets/controls",
      "model_module_version": "1.5.0",
      "model_name": "ProgressStyleModel",
      "state": {
       "description_width": "initial"
      }
     },
     "e173b8848baf4d5b8122e94d3440a6e7": {
      "model_module": "@jupyter-widgets/base",
      "model_module_version": "1.2.0",
      "model_name": "LayoutModel",
      "state": {}
     },
     "e1a27b8e2058404791d2dd67404c6f66": {
      "model_module": "@jupyter-widgets/base",
      "model_module_version": "1.2.0",
      "model_name": "LayoutModel",
      "state": {}
     },
     "e1a780e1fc7e4bf0a1e4d79e37248749": {
      "model_module": "@jupyter-widgets/controls",
      "model_module_version": "1.5.0",
      "model_name": "IntProgressModel",
      "state": {
       "bar_style": "danger",
       "description": "Epoch [1/5]:  78%",
       "layout": "IPY_MODEL_f9d63b5841f946169d5e654205a97271",
       "max": 255,
       "style": "IPY_MODEL_6e512e03c514400f8fac827f41e60e8c",
       "value": 198
      }
     },
     "e1f040ae5665441f8435b932bc23ee5e": {
      "model_module": "@jupyter-widgets/base",
      "model_module_version": "1.2.0",
      "model_name": "LayoutModel",
      "state": {}
     },
     "e1f6e09ba93f478a9763a2f309038587": {
      "model_module": "@jupyter-widgets/base",
      "model_module_version": "1.2.0",
      "model_name": "LayoutModel",
      "state": {}
     },
     "e2015875bdae4fdfac6ec6a55beb16e1": {
      "model_module": "@jupyter-widgets/base",
      "model_module_version": "1.2.0",
      "model_name": "LayoutModel",
      "state": {}
     },
     "e2017493ddb74da39d101e9bbdb06e7b": {
      "model_module": "@jupyter-widgets/base",
      "model_module_version": "1.2.0",
      "model_name": "LayoutModel",
      "state": {}
     },
     "e20c07dc5bde4422aa66b8447437c808": {
      "model_module": "@jupyter-widgets/controls",
      "model_module_version": "1.5.0",
      "model_name": "IntProgressModel",
      "state": {
       "bar_style": "success",
       "description": "Epoch [10/40]: 100%",
       "layout": "IPY_MODEL_4e7a0cbba37f42a5acf4b9bde4556131",
       "max": 289,
       "style": "IPY_MODEL_10b59372d14b4321878b3895fadd77ff",
       "value": 289
      }
     },
     "e21fe9d093484eccbc6313228684865e": {
      "model_module": "@jupyter-widgets/controls",
      "model_module_version": "1.5.0",
      "model_name": "DescriptionStyleModel",
      "state": {
       "description_width": ""
      }
     },
     "e221556245a64b5aa94abb29005fde33": {
      "model_module": "@jupyter-widgets/controls",
      "model_module_version": "1.5.0",
      "model_name": "HBoxModel",
      "state": {
       "children": [
        "IPY_MODEL_7d08e19d475b43398d85a629a4545428",
        "IPY_MODEL_c65809b87ae14ff9ac76644770769ec9"
       ],
       "layout": "IPY_MODEL_cadd9203b1da42118a066eb676baf509"
      }
     },
     "e2896d41a30a4b78be29476c6c4c7909": {
      "model_module": "@jupyter-widgets/base",
      "model_module_version": "1.2.0",
      "model_name": "LayoutModel",
      "state": {}
     },
     "e2899e919f6d45f1878d338b150f4a73": {
      "model_module": "@jupyter-widgets/controls",
      "model_module_version": "1.5.0",
      "model_name": "HTMLModel",
      "state": {
       "layout": "IPY_MODEL_ddd11cb09152443ea8e9a3953d7eec0b",
       "style": "IPY_MODEL_8a0576faff784548a6339f35288e24c2",
       "value": " 282/282 [00:50&lt;00:00,  5.63it/s, acc=0.988, loss=0.0322]"
      }
     },
     "e29f4487a7314585a3c0731de6da6d66": {
      "model_module": "@jupyter-widgets/controls",
      "model_module_version": "1.5.0",
      "model_name": "HTMLModel",
      "state": {
       "layout": "IPY_MODEL_002b427987ca4810933d19d770d85b76",
       "style": "IPY_MODEL_5b7f3f794b1042e9b05d6f2abc6353d5",
       "value": " 338/338 [02:05&lt;00:00,  2.69it/s, acc=0.982, loss=0.11]"
      }
     },
     "e2b76d58533540d690c9cba0b55903ba": {
      "model_module": "@jupyter-widgets/controls",
      "model_module_version": "1.5.0",
      "model_name": "DescriptionStyleModel",
      "state": {
       "description_width": ""
      }
     },
     "e32d12d842b644aa8379fc2f023c4081": {
      "model_module": "@jupyter-widgets/controls",
      "model_module_version": "1.5.0",
      "model_name": "ProgressStyleModel",
      "state": {
       "description_width": "initial"
      }
     },
     "e333209cd85e418ebca3e834e781f3bd": {
      "model_module": "@jupyter-widgets/controls",
      "model_module_version": "1.5.0",
      "model_name": "HTMLModel",
      "state": {
       "layout": "IPY_MODEL_991b088af20a4752a94d65c07456b954",
       "style": "IPY_MODEL_3dd87b10dceb4fb7b62ae369971f4a89",
       "value": " 241/241 [01:27&lt;00:00,  2.77it/s, acc=0.275, loss=1.52]"
      }
     },
     "e340926132d8477ca3f5cf5644d1a881": {
      "model_module": "@jupyter-widgets/controls",
      "model_module_version": "1.5.0",
      "model_name": "HBoxModel",
      "state": {
       "children": [
        "IPY_MODEL_78dd3d1ae2374bff87078676b4d052b8",
        "IPY_MODEL_562ada0434994877a24c070d167813ed"
       ],
       "layout": "IPY_MODEL_dbafae9d56aa44fa94f6f9658da926d4"
      }
     },
     "e37ee8f3d36846ba819f404842a4e2c7": {
      "model_module": "@jupyter-widgets/controls",
      "model_module_version": "1.5.0",
      "model_name": "ProgressStyleModel",
      "state": {
       "description_width": "initial"
      }
     },
     "e38dd52d92194608a8db568b1a038b12": {
      "model_module": "@jupyter-widgets/controls",
      "model_module_version": "1.5.0",
      "model_name": "IntProgressModel",
      "state": {
       "bar_style": "success",
       "description": "Epoch [27/100]: 100%",
       "layout": "IPY_MODEL_2d5a8e5557b140ff8ce1ef07fe635dec",
       "max": 289,
       "style": "IPY_MODEL_0c9af3b0e9bc4606b90f8f91ecac83bd",
       "value": 289
      }
     },
     "e3a0058001204e73a17ffb72e17b0a6d": {
      "model_module": "@jupyter-widgets/base",
      "model_module_version": "1.2.0",
      "model_name": "LayoutModel",
      "state": {}
     },
     "e3a4bcad358f4414ad8aac50e0d38124": {
      "model_module": "@jupyter-widgets/controls",
      "model_module_version": "1.5.0",
      "model_name": "ProgressStyleModel",
      "state": {
       "description_width": "initial"
      }
     },
     "e3b0072cb16645b19aa4c1ccf9d6768a": {
      "model_module": "@jupyter-widgets/base",
      "model_module_version": "1.2.0",
      "model_name": "LayoutModel",
      "state": {}
     },
     "e3d7083645594cb6b47eb4226bdeef36": {
      "model_module": "@jupyter-widgets/controls",
      "model_module_version": "1.5.0",
      "model_name": "HBoxModel",
      "state": {
       "children": [
        "IPY_MODEL_6b5809f406a94ed6ac343cbdca7b3110",
        "IPY_MODEL_c189763a372240f7b380a07376bdf244"
       ],
       "layout": "IPY_MODEL_89d7b6ea3b11440481bc9d90e8906672"
      }
     },
     "e3ea266bf33145b692313d4d7edd16d2": {
      "model_module": "@jupyter-widgets/controls",
      "model_module_version": "1.5.0",
      "model_name": "IntProgressModel",
      "state": {
       "layout": "IPY_MODEL_de31de9ba89742f6bdef8549f36cda1e",
       "max": 289,
       "style": "IPY_MODEL_5a87d0b9206b43cd8160de41ca5a9f32"
      }
     },
     "e4069cef1d334806b955576b800e7029": {
      "model_module": "@jupyter-widgets/base",
      "model_module_version": "1.2.0",
      "model_name": "LayoutModel",
      "state": {}
     },
     "e428d4a01c9c4edba1b6d5879da53ed7": {
      "model_module": "@jupyter-widgets/controls",
      "model_module_version": "1.5.0",
      "model_name": "HBoxModel",
      "state": {
       "children": [
        "IPY_MODEL_06b79763cf5340f691fb98fccc12c839",
        "IPY_MODEL_a47602fd90124f0c8991988f8cf6beb5"
       ],
       "layout": "IPY_MODEL_c0fbd8e478fe418c957c681fb051404f"
      }
     },
     "e44896f7079940ad85ab026d1a480da9": {
      "model_module": "@jupyter-widgets/controls",
      "model_module_version": "1.5.0",
      "model_name": "DescriptionStyleModel",
      "state": {
       "description_width": ""
      }
     },
     "e49712a4a89b48a38aa3f70002c77d2e": {
      "model_module": "@jupyter-widgets/controls",
      "model_module_version": "1.5.0",
      "model_name": "DescriptionStyleModel",
      "state": {
       "description_width": ""
      }
     },
     "e49e27c85f7141589eac8d52b5caab9c": {
      "model_module": "@jupyter-widgets/controls",
      "model_module_version": "1.5.0",
      "model_name": "HBoxModel",
      "state": {
       "children": [
        "IPY_MODEL_623d6dc7337b473a88be68776af7c0a0",
        "IPY_MODEL_a584bd1fafb247c198c7c14b90af58a0"
       ],
       "layout": "IPY_MODEL_dbb1ba6059fc497091b3aae492cab668"
      }
     },
     "e4afaaa935aa44608ae66829d8ff24c7": {
      "model_module": "@jupyter-widgets/base",
      "model_module_version": "1.2.0",
      "model_name": "LayoutModel",
      "state": {}
     },
     "e4c2ca9d191741748be2861486051775": {
      "model_module": "@jupyter-widgets/base",
      "model_module_version": "1.2.0",
      "model_name": "LayoutModel",
      "state": {}
     },
     "e4c72c00e399497abb07acd64e5e0228": {
      "model_module": "@jupyter-widgets/base",
      "model_module_version": "1.2.0",
      "model_name": "LayoutModel",
      "state": {}
     },
     "e4c77e1bec0f4e3c97a9a1d0ff682957": {
      "model_module": "@jupyter-widgets/controls",
      "model_module_version": "1.5.0",
      "model_name": "DescriptionStyleModel",
      "state": {
       "description_width": ""
      }
     },
     "e4c9f865f1ab4f3aaa9e4d848ca8f20f": {
      "model_module": "@jupyter-widgets/controls",
      "model_module_version": "1.5.0",
      "model_name": "HTMLModel",
      "state": {
       "layout": "IPY_MODEL_e51a62b514ce48adb7ce7240f67a8943",
       "style": "IPY_MODEL_d70c06cb3f0f4f9a928b4c95d6bcc72b",
       "value": " 361/361 [01:17&lt;00:00,  4.65it/s, acc=0.287, loss=1.61]"
      }
     },
     "e4e091e5cc5b426e9b25eda54946ccc6": {
      "model_module": "@jupyter-widgets/controls",
      "model_module_version": "1.5.0",
      "model_name": "ProgressStyleModel",
      "state": {
       "description_width": "initial"
      }
     },
     "e4f8cc9d58ba49a9a468c25f848c9227": {
      "model_module": "@jupyter-widgets/controls",
      "model_module_version": "1.5.0",
      "model_name": "IntProgressModel",
      "state": {
       "bar_style": "success",
       "description": "Epoch [12/40]: 100%",
       "layout": "IPY_MODEL_17d96c798000430baf2642b357c6fe85",
       "max": 338,
       "style": "IPY_MODEL_f76da8c8d90e463b85d2acdc32e3afca",
       "value": 338
      }
     },
     "e4f9c15db83443e9af3fe42744d61dab": {
      "model_module": "@jupyter-widgets/controls",
      "model_module_version": "1.5.0",
      "model_name": "IntProgressModel",
      "state": {
       "bar_style": "success",
       "description": "Epoch [18/100]: 100%",
       "layout": "IPY_MODEL_c02702a7f7f546fd8678fbf28272b016",
       "max": 289,
       "style": "IPY_MODEL_7ce09cf4e6194567a6a1b0c0e16b4813",
       "value": 289
      }
     },
     "e4fe22db184140419f9383d3bd08e03e": {
      "model_module": "@jupyter-widgets/controls",
      "model_module_version": "1.5.0",
      "model_name": "HBoxModel",
      "state": {
       "children": [
        "IPY_MODEL_d6ca1617a18c4614919ec6987438f62b",
        "IPY_MODEL_bf4a30789ef1444480e11b138b3a085e"
       ],
       "layout": "IPY_MODEL_8d2fbfdf89a24ed8bd9eb14c17beb317"
      }
     },
     "e5007b0d79714b118671db6bb543d303": {
      "model_module": "@jupyter-widgets/controls",
      "model_module_version": "1.5.0",
      "model_name": "DescriptionStyleModel",
      "state": {
       "description_width": ""
      }
     },
     "e51a62b514ce48adb7ce7240f67a8943": {
      "model_module": "@jupyter-widgets/base",
      "model_module_version": "1.2.0",
      "model_name": "LayoutModel",
      "state": {}
     },
     "e56232fe02ac42fd915724fdea2aacab": {
      "model_module": "@jupyter-widgets/controls",
      "model_module_version": "1.5.0",
      "model_name": "HBoxModel",
      "state": {
       "children": [
        "IPY_MODEL_5fcba7381779499ea807798bde301df0",
        "IPY_MODEL_492d1439784d4ac1aabf9d2f7c5e7bf2"
       ],
       "layout": "IPY_MODEL_79f7d142f1814407a9c9907fa72dd800"
      }
     },
     "e56ab9bdfd9e4116b1624193a1d626c5": {
      "model_module": "@jupyter-widgets/controls",
      "model_module_version": "1.5.0",
      "model_name": "HBoxModel",
      "state": {
       "children": [
        "IPY_MODEL_d459f296c6ab466387fa6c988608876b",
        "IPY_MODEL_91280ba9e6384b0ea158e2741486bd76"
       ],
       "layout": "IPY_MODEL_7ba014b8d8d440178f44d50949c07b05"
      }
     },
     "e59929407a7b438aa69fff14aa9da957": {
      "model_module": "@jupyter-widgets/base",
      "model_module_version": "1.2.0",
      "model_name": "LayoutModel",
      "state": {}
     },
     "e625f79d0eb9424687b0fd22cf251e5a": {
      "model_module": "@jupyter-widgets/controls",
      "model_module_version": "1.5.0",
      "model_name": "HBoxModel",
      "state": {
       "children": [
        "IPY_MODEL_b9e5f016081c49fc97e07a65e63fe59b",
        "IPY_MODEL_3fb13ccf2104447c82e204a5d4637eee"
       ],
       "layout": "IPY_MODEL_d7147c999139446282fb793f1b68ec7f"
      }
     },
     "e62c7831909c4d448637da3d2147e32f": {
      "model_module": "@jupyter-widgets/controls",
      "model_module_version": "1.5.0",
      "model_name": "HTMLModel",
      "state": {
       "layout": "IPY_MODEL_3a0d1558b8b643b2a42bd4f8bc9d0697",
       "style": "IPY_MODEL_05e13a80baf44f00a30787edc6270dd2",
       "value": " 289/289 [1:26:08&lt;00:00, 17.88s/it, acc=0.991, loss=0.0616]"
      }
     },
     "e64ae95a946a4c81907f2468961a10ad": {
      "model_module": "@jupyter-widgets/base",
      "model_module_version": "1.2.0",
      "model_name": "LayoutModel",
      "state": {}
     },
     "e658868ae5444ccbb62a9db2d84ab528": {
      "model_module": "@jupyter-widgets/controls",
      "model_module_version": "1.5.0",
      "model_name": "ProgressStyleModel",
      "state": {
       "description_width": "initial"
      }
     },
     "e69ee90de4a441a99b25e4361f626eae": {
      "model_module": "@jupyter-widgets/base",
      "model_module_version": "1.2.0",
      "model_name": "LayoutModel",
      "state": {}
     },
     "e6b5fa0736fe4197baed3ca7972b2e61": {
      "model_module": "@jupyter-widgets/controls",
      "model_module_version": "1.5.0",
      "model_name": "ProgressStyleModel",
      "state": {
       "description_width": "initial"
      }
     },
     "e6d9723d60ec45d585a2f9f63a94b9d1": {
      "model_module": "@jupyter-widgets/controls",
      "model_module_version": "1.5.0",
      "model_name": "IntProgressModel",
      "state": {
       "bar_style": "success",
       "description": "Epoch [5/5]: 100%",
       "layout": "IPY_MODEL_2bd7f3cdf3a246739e906842bf4981bd",
       "max": 283,
       "style": "IPY_MODEL_36ca96f18ec64c51a3f94024fe0615d8",
       "value": 283
      }
     },
     "e7170faad4754317a522f49dbebc906f": {
      "model_module": "@jupyter-widgets/controls",
      "model_module_version": "1.5.0",
      "model_name": "IntProgressModel",
      "state": {
       "bar_style": "success",
       "description": "Epoch [33/40]: 100%",
       "layout": "IPY_MODEL_73c7a8e0b9f44badabfd11564d5860b7",
       "max": 289,
       "style": "IPY_MODEL_eb3098bad8ec4846ae607e80a545e3fe",
       "value": 289
      }
     },
     "e72dbeed9de14b1d8aed26df09efb756": {
      "model_module": "@jupyter-widgets/base",
      "model_module_version": "1.2.0",
      "model_name": "LayoutModel",
      "state": {}
     },
     "e73b4a726473417f8f3e2a3f555864f3": {
      "model_module": "@jupyter-widgets/base",
      "model_module_version": "1.2.0",
      "model_name": "LayoutModel",
      "state": {}
     },
     "e73e8f5f24264b0cacddde4e0512c885": {
      "model_module": "@jupyter-widgets/controls",
      "model_module_version": "1.5.0",
      "model_name": "DescriptionStyleModel",
      "state": {
       "description_width": ""
      }
     },
     "e742ca03cf484ab5ab88a8767850a8cf": {
      "model_module": "@jupyter-widgets/controls",
      "model_module_version": "1.5.0",
      "model_name": "IntProgressModel",
      "state": {
       "bar_style": "success",
       "description": "Epoch [20/40]: 100%",
       "layout": "IPY_MODEL_c7b78d50c96b4fa1b5ebc60b72e01044",
       "max": 289,
       "style": "IPY_MODEL_dd940ab20d214feb8e058a9c38657b68",
       "value": 289
      }
     },
     "e74e8b4115a7492095c31a57c9cfa321": {
      "model_module": "@jupyter-widgets/base",
      "model_module_version": "1.2.0",
      "model_name": "LayoutModel",
      "state": {}
     },
     "e7875b1c4c394dfc82b9c4aad9e0bc84": {
      "model_module": "@jupyter-widgets/base",
      "model_module_version": "1.2.0",
      "model_name": "LayoutModel",
      "state": {}
     },
     "e78b19b543754f1a913776e6af4c6ee6": {
      "model_module": "@jupyter-widgets/base",
      "model_module_version": "1.2.0",
      "model_name": "LayoutModel",
      "state": {}
     },
     "e79e55478c034605afd058f08c7d007d": {
      "model_module": "@jupyter-widgets/controls",
      "model_module_version": "1.5.0",
      "model_name": "HTMLModel",
      "state": {
       "layout": "IPY_MODEL_46cf8ae52c48498b9e874d78d3309c42",
       "style": "IPY_MODEL_b34ba3ec210c47c4a526c741d1532d0a",
       "value": " 255/255 [00:58&lt;00:00,  4.33it/s, acc=0.974, loss=0.0321]"
      }
     },
     "e7ba7ad4bf874379aca03f7867dd9d5c": {
      "model_module": "@jupyter-widgets/base",
      "model_module_version": "1.2.0",
      "model_name": "LayoutModel",
      "state": {}
     },
     "e7e4fe2accb64a1c9da561112472ac2f": {
      "model_module": "@jupyter-widgets/controls",
      "model_module_version": "1.5.0",
      "model_name": "ProgressStyleModel",
      "state": {
       "description_width": "initial"
      }
     },
     "e81207edf01a4cf18462c68f1ab012ae": {
      "model_module": "@jupyter-widgets/controls",
      "model_module_version": "1.5.0",
      "model_name": "IntProgressModel",
      "state": {
       "bar_style": "success",
       "description": "Epoch [9/40]: 100%",
       "layout": "IPY_MODEL_bc6a78bd7c404eba98ff66b63d88f8b0",
       "max": 338,
       "style": "IPY_MODEL_ea63f59656894ec59784dd61c520bd3e",
       "value": 338
      }
     },
     "e819251abba2461fbbb7741cf9385c8a": {
      "model_module": "@jupyter-widgets/controls",
      "model_module_version": "1.5.0",
      "model_name": "HBoxModel",
      "state": {
       "children": [
        "IPY_MODEL_df22ffdbd74f48958d686633ff719254",
        "IPY_MODEL_65e7914c1d21403d8847bf4ec82264e8"
       ],
       "layout": "IPY_MODEL_80110fa57754447a9f5ad5ab9ec75705"
      }
     },
     "e8519955348640f1847eca16b5fd7966": {
      "model_module": "@jupyter-widgets/controls",
      "model_module_version": "1.5.0",
      "model_name": "IntProgressModel",
      "state": {
       "bar_style": "success",
       "description": "Epoch [28/40]: 100%",
       "layout": "IPY_MODEL_94079b44c78d4312a9370fcd8a01f7d2",
       "max": 338,
       "style": "IPY_MODEL_3b729607674043cfac27c112c69371ad",
       "value": 338
      }
     },
     "e85948628b8a4dcda3f5a78ded9ede1c": {
      "model_module": "@jupyter-widgets/base",
      "model_module_version": "1.2.0",
      "model_name": "LayoutModel",
      "state": {}
     },
     "e8a01ee9dad34929a28fb1578b44d17d": {
      "model_module": "@jupyter-widgets/base",
      "model_module_version": "1.2.0",
      "model_name": "LayoutModel",
      "state": {}
     },
     "e8a2be28bbe54e2aa1be7d1416ec6e71": {
      "model_module": "@jupyter-widgets/controls",
      "model_module_version": "1.5.0",
      "model_name": "HBoxModel",
      "state": {
       "children": [
        "IPY_MODEL_2a478abbfa1e4ad0bf49a6e03200a1b1",
        "IPY_MODEL_beaece561f944f2c8231470b613eb2b0"
       ],
       "layout": "IPY_MODEL_73005dfb7c9047e68869d35aaecadc2a"
      }
     },
     "e8e752630f524add94d92d40f5bb3c8c": {
      "model_module": "@jupyter-widgets/controls",
      "model_module_version": "1.5.0",
      "model_name": "ProgressStyleModel",
      "state": {
       "description_width": "initial"
      }
     },
     "e91930c00fd14ce3bf488bacaadf86ca": {
      "model_module": "@jupyter-widgets/controls",
      "model_module_version": "1.5.0",
      "model_name": "HTMLModel",
      "state": {
       "layout": "IPY_MODEL_d5833b474c404ac3826c8ceb5da90bec",
       "style": "IPY_MODEL_1f81ebee27bd4f7880e529561b4e3875",
       "value": " 281/281 [00:44&lt;00:00,  6.37it/s, acc=0.942, loss=0.0421]"
      }
     },
     "e91a8e276ec14981b38fbc850ef6141b": {
      "model_module": "@jupyter-widgets/controls",
      "model_module_version": "1.5.0",
      "model_name": "ProgressStyleModel",
      "state": {
       "description_width": "initial"
      }
     },
     "e9812daef9044e31a85d2e94af17836a": {
      "model_module": "@jupyter-widgets/base",
      "model_module_version": "1.2.0",
      "model_name": "LayoutModel",
      "state": {}
     },
     "e996faefb0394104a69e327e7da52fcf": {
      "model_module": "@jupyter-widgets/base",
      "model_module_version": "1.2.0",
      "model_name": "LayoutModel",
      "state": {}
     },
     "e99f7373c6dc42c4991396aed4c72103": {
      "model_module": "@jupyter-widgets/base",
      "model_module_version": "1.2.0",
      "model_name": "LayoutModel",
      "state": {}
     },
     "e9a9bee10a5c4d9c89ea9f713bd6faed": {
      "model_module": "@jupyter-widgets/controls",
      "model_module_version": "1.5.0",
      "model_name": "IntProgressModel",
      "state": {
       "bar_style": "success",
       "description": "Epoch [36/40]: 100%",
       "layout": "IPY_MODEL_c50937c3e23742eb97b01cf871686be8",
       "max": 361,
       "style": "IPY_MODEL_a633f47bd8c2405d9253c0327fbda5c5",
       "value": 361
      }
     },
     "e9cebcb03798452daba573df3163ecbd": {
      "model_module": "@jupyter-widgets/controls",
      "model_module_version": "1.5.0",
      "model_name": "HBoxModel",
      "state": {
       "children": [
        "IPY_MODEL_3a6182cfb68c45938341094b96f72eee",
        "IPY_MODEL_f94a5ec4d56143038a148b35d3684794"
       ],
       "layout": "IPY_MODEL_12ceed9212184f0a8ed22a1c9554f74e"
      }
     },
     "ea02d5f5836b43b8ac7926da4c5055de": {
      "model_module": "@jupyter-widgets/controls",
      "model_module_version": "1.5.0",
      "model_name": "ProgressStyleModel",
      "state": {
       "description_width": "initial"
      }
     },
     "ea1ccc2023b1448eb148e108476d5c53": {
      "model_module": "@jupyter-widgets/controls",
      "model_module_version": "1.5.0",
      "model_name": "ProgressStyleModel",
      "state": {
       "description_width": "initial"
      }
     },
     "ea1eabeeecfa4679bf5194df99c68b21": {
      "model_module": "@jupyter-widgets/controls",
      "model_module_version": "1.5.0",
      "model_name": "HBoxModel",
      "state": {
       "children": [
        "IPY_MODEL_f8c8e377926d403d8a1a4e0008e4996f",
        "IPY_MODEL_c4b5b435e25d48148244378b0057156b"
       ],
       "layout": "IPY_MODEL_417167abdd204be4bfa105dd36f15446"
      }
     },
     "ea1f5b7ee0aa490485f39e386a8098ec": {
      "model_module": "@jupyter-widgets/base",
      "model_module_version": "1.2.0",
      "model_name": "LayoutModel",
      "state": {}
     },
     "ea23dcc4d5804deca67ca0078bd08630": {
      "model_module": "@jupyter-widgets/base",
      "model_module_version": "1.2.0",
      "model_name": "LayoutModel",
      "state": {}
     },
     "ea30d4f503ed400aa935f909e2ccd431": {
      "model_module": "@jupyter-widgets/base",
      "model_module_version": "1.2.0",
      "model_name": "LayoutModel",
      "state": {}
     },
     "ea4901709b63493ba02beb8d0a435cd2": {
      "model_module": "@jupyter-widgets/controls",
      "model_module_version": "1.5.0",
      "model_name": "HTMLModel",
      "state": {
       "layout": "IPY_MODEL_9f4d119faedb4bb39e971ac475c14d63",
       "style": "IPY_MODEL_68e49792f6f1482387563f9d8aa7fce6",
       "value": " 361/361 [00:58&lt;00:00,  6.21it/s, acc=0.297, loss=1.52]"
      }
     },
     "ea49bc96274346d6837999dc24255c60": {
      "model_module": "@jupyter-widgets/base",
      "model_module_version": "1.2.0",
      "model_name": "LayoutModel",
      "state": {}
     },
     "ea63f59656894ec59784dd61c520bd3e": {
      "model_module": "@jupyter-widgets/controls",
      "model_module_version": "1.5.0",
      "model_name": "ProgressStyleModel",
      "state": {
       "description_width": "initial"
      }
     },
     "ea9910372299461d9042bbe8bbd5dd82": {
      "model_module": "@jupyter-widgets/base",
      "model_module_version": "1.2.0",
      "model_name": "LayoutModel",
      "state": {}
     },
     "ea9986f63e8b4cc5862c6f8a7a70cc05": {
      "model_module": "@jupyter-widgets/base",
      "model_module_version": "1.2.0",
      "model_name": "LayoutModel",
      "state": {}
     },
     "eaa5b1734ded423c9c74c8dce2e97be8": {
      "model_module": "@jupyter-widgets/controls",
      "model_module_version": "1.5.0",
      "model_name": "DescriptionStyleModel",
      "state": {
       "description_width": ""
      }
     },
     "eaae02168d7247db910e64c28b3c3464": {
      "model_module": "@jupyter-widgets/controls",
      "model_module_version": "1.5.0",
      "model_name": "HTMLModel",
      "state": {
       "layout": "IPY_MODEL_43230cffabd747acaa438859196a5ab6",
       "style": "IPY_MODEL_7a7b9a4d49de41a8b06c6d1797e65309",
       "value": " 289/289 [02:06&lt;00:00,  2.28it/s, acc=0.964, loss=0.153]"
      }
     },
     "eabcf9e90d964ab78a72fa6e314af695": {
      "model_module": "@jupyter-widgets/controls",
      "model_module_version": "1.5.0",
      "model_name": "HTMLModel",
      "state": {
       "layout": "IPY_MODEL_ee4df4787b7b466094980120ae886c56",
       "style": "IPY_MODEL_6424def5dfb24cf99a07cdf11c95520d",
       "value": " 255/255 [00:50&lt;00:00,  5.08it/s, acc=0.982, loss=0.0549]"
      }
     },
     "eaf63ca94ed041e9bd2373f4a8cb399c": {
      "model_module": "@jupyter-widgets/controls",
      "model_module_version": "1.5.0",
      "model_name": "ProgressStyleModel",
      "state": {
       "description_width": "initial"
      }
     },
     "eb08a2c9318a4229a947d3f199eb6d2b": {
      "model_module": "@jupyter-widgets/controls",
      "model_module_version": "1.5.0",
      "model_name": "IntProgressModel",
      "state": {
       "bar_style": "success",
       "description": "Epoch [15/40]: 100%",
       "layout": "IPY_MODEL_3a912142aa0241d085cd79ea29faf858",
       "max": 289,
       "style": "IPY_MODEL_32ad3ed80be34e97825b95da61410832",
       "value": 289
      }
     },
     "eb0ef92422ab4c55aabda02e970d65c5": {
      "model_module": "@jupyter-widgets/base",
      "model_module_version": "1.2.0",
      "model_name": "LayoutModel",
      "state": {}
     },
     "eb3098bad8ec4846ae607e80a545e3fe": {
      "model_module": "@jupyter-widgets/controls",
      "model_module_version": "1.5.0",
      "model_name": "ProgressStyleModel",
      "state": {
       "description_width": "initial"
      }
     },
     "eb399b02c1dc4c49b6fd848f5c6f6796": {
      "model_module": "@jupyter-widgets/base",
      "model_module_version": "1.2.0",
      "model_name": "LayoutModel",
      "state": {}
     },
     "eb4f00699257409eb987e8aee62ee22b": {
      "model_module": "@jupyter-widgets/base",
      "model_module_version": "1.2.0",
      "model_name": "LayoutModel",
      "state": {}
     },
     "eb8c07390c8740a79c4b92e304edbc8d": {
      "model_module": "@jupyter-widgets/base",
      "model_module_version": "1.2.0",
      "model_name": "LayoutModel",
      "state": {}
     },
     "eb963cc3c94249c193b6a0785d48717b": {
      "model_module": "@jupyter-widgets/controls",
      "model_module_version": "1.5.0",
      "model_name": "DescriptionStyleModel",
      "state": {
       "description_width": ""
      }
     },
     "eb98501a316845bbb8d0ad94bbdd106b": {
      "model_module": "@jupyter-widgets/controls",
      "model_module_version": "1.5.0",
      "model_name": "ProgressStyleModel",
      "state": {
       "description_width": "initial"
      }
     },
     "eba476dcb59943adb70816540d05a2b2": {
      "model_module": "@jupyter-widgets/controls",
      "model_module_version": "1.5.0",
      "model_name": "HTMLModel",
      "state": {
       "layout": "IPY_MODEL_1703bc161c9345cc8faf127bbe724b98",
       "style": "IPY_MODEL_eb963cc3c94249c193b6a0785d48717b",
       "value": " 361/361 [00:39&lt;00:00,  9.11it/s, acc=0.984, loss=0.0347]"
      }
     },
     "ebbb870ec6574e9e875972b4b93fd481": {
      "model_module": "@jupyter-widgets/controls",
      "model_module_version": "1.5.0",
      "model_name": "DescriptionStyleModel",
      "state": {
       "description_width": ""
      }
     },
     "ebfe302d7e16497fbb3dfc9e1ed724e0": {
      "model_module": "@jupyter-widgets/controls",
      "model_module_version": "1.5.0",
      "model_name": "HTMLModel",
      "state": {
       "layout": "IPY_MODEL_6cd45769fd1b4070a7c9b70e0b400d64",
       "style": "IPY_MODEL_ec849f3f066c4990b269733a8e9bb0bb",
       "value": " 361/361 [01:54&lt;00:00,  3.15it/s, acc=0.985, loss=0.0186]"
      }
     },
     "ec1561b8da4f4447bdc8aece6041397b": {
      "model_module": "@jupyter-widgets/base",
      "model_module_version": "1.2.0",
      "model_name": "LayoutModel",
      "state": {}
     },
     "ec270eab4644458dad93ee8ec8d34b2f": {
      "model_module": "@jupyter-widgets/base",
      "model_module_version": "1.2.0",
      "model_name": "LayoutModel",
      "state": {}
     },
     "ec3af8ae8f57465bbda149dca2f408c2": {
      "model_module": "@jupyter-widgets/base",
      "model_module_version": "1.2.0",
      "model_name": "LayoutModel",
      "state": {}
     },
     "ec4ff90e745349b998ecdb172a92a44a": {
      "model_module": "@jupyter-widgets/base",
      "model_module_version": "1.2.0",
      "model_name": "LayoutModel",
      "state": {}
     },
     "ec628b001be442f98992f9b85c716b4f": {
      "model_module": "@jupyter-widgets/base",
      "model_module_version": "1.2.0",
      "model_name": "LayoutModel",
      "state": {}
     },
     "ec64c444f33244aaa185d514d13e683e": {
      "model_module": "@jupyter-widgets/controls",
      "model_module_version": "1.5.0",
      "model_name": "ProgressStyleModel",
      "state": {
       "description_width": "initial"
      }
     },
     "ec849f3f066c4990b269733a8e9bb0bb": {
      "model_module": "@jupyter-widgets/controls",
      "model_module_version": "1.5.0",
      "model_name": "DescriptionStyleModel",
      "state": {
       "description_width": ""
      }
     },
     "ec8cab37c5914df6935bf8970eab8077": {
      "model_module": "@jupyter-widgets/controls",
      "model_module_version": "1.5.0",
      "model_name": "HTMLModel",
      "state": {
       "layout": "IPY_MODEL_8592dddb7dbe4690bf525eaccba327fc",
       "style": "IPY_MODEL_8ddb0961e0e14e888bf2fc46b34e7ac9",
       "value": " 241/241 [01:43&lt;00:00,  2.34it/s, acc=0.984, loss=0.0151]"
      }
     },
     "eca685b5fb6a4e3aba3278ee87678344": {
      "model_module": "@jupyter-widgets/controls",
      "model_module_version": "1.5.0",
      "model_name": "DescriptionStyleModel",
      "state": {
       "description_width": ""
      }
     },
     "eccec5c73acc4b3f8a0760b7e1a158de": {
      "model_module": "@jupyter-widgets/controls",
      "model_module_version": "1.5.0",
      "model_name": "IntProgressModel",
      "state": {
       "bar_style": "success",
       "description": "Epoch [5/100]: 100%",
       "layout": "IPY_MODEL_262a4331b18748cc8372fad2d99d9938",
       "max": 289,
       "style": "IPY_MODEL_919958ac46df458ab187e0b67661cf29",
       "value": 289
      }
     },
     "ecd2b037748340938ba2f3ece20241b9": {
      "model_module": "@jupyter-widgets/controls",
      "model_module_version": "1.5.0",
      "model_name": "HTMLModel",
      "state": {
       "layout": "IPY_MODEL_aae94c54117948618b9cd4474cc66924",
       "style": "IPY_MODEL_a2de8c3a8a8948fcb3d7a12ec479a34c",
       "value": " 289/289 [00:41&lt;00:00,  7.01it/s, acc=0.982, loss=0.0266]"
      }
     },
     "ecdb6b21ee544e4e92c588c3b382c0eb": {
      "model_module": "@jupyter-widgets/controls",
      "model_module_version": "1.5.0",
      "model_name": "HBoxModel",
      "state": {
       "children": [
        "IPY_MODEL_2412c18073cf447e8cf21f08c0c6cced",
        "IPY_MODEL_cd849194a5ab4780b3b6cc2611842583"
       ],
       "layout": "IPY_MODEL_96e7d4cfd6bb4ad0b11726d8e9d176b4"
      }
     },
     "ece7997acf96455e837bd971fb2a7692": {
      "model_module": "@jupyter-widgets/controls",
      "model_module_version": "1.5.0",
      "model_name": "HBoxModel",
      "state": {
       "children": [
        "IPY_MODEL_154a409a00b546e2baf9c1c8130f9ae4",
        "IPY_MODEL_119992c99fe34ad59db84f1b95515bf7"
       ],
       "layout": "IPY_MODEL_eb8c07390c8740a79c4b92e304edbc8d"
      }
     },
     "ecf644eaa6dd4d92a1117fb6281dfebf": {
      "model_module": "@jupyter-widgets/base",
      "model_module_version": "1.2.0",
      "model_name": "LayoutModel",
      "state": {}
     },
     "ed021b3310de47198ab2a5ec53ef3d0f": {
      "model_module": "@jupyter-widgets/controls",
      "model_module_version": "1.5.0",
      "model_name": "HTMLModel",
      "state": {
       "layout": "IPY_MODEL_1012903e0cdd4dba90068e7bf426f003",
       "style": "IPY_MODEL_d1ea6f2e2f3940549e7bac84f0c183c1",
       "value": " 255/255 [01:42&lt;00:00,  2.49it/s, acc=0.861, loss=0.177]"
      }
     },
     "ed027b7a16e049ca907161dd094c5039": {
      "model_module": "@jupyter-widgets/controls",
      "model_module_version": "1.5.0",
      "model_name": "IntProgressModel",
      "state": {
       "layout": "IPY_MODEL_4474660a5cc14cad90e0c9ce04709b6a",
       "max": 289,
       "style": "IPY_MODEL_fd0d48b5a2a1483f888c59a18c4a3331"
      }
     },
     "ed188e327ccd49fbbb1ef04be45eef6f": {
      "model_module": "@jupyter-widgets/base",
      "model_module_version": "1.2.0",
      "model_name": "LayoutModel",
      "state": {}
     },
     "ed84722da5564bbda1dedb2707fe8cf6": {
      "model_module": "@jupyter-widgets/base",
      "model_module_version": "1.2.0",
      "model_name": "LayoutModel",
      "state": {}
     },
     "eda39c767bae4689ade4c7cf2eb80c7e": {
      "model_module": "@jupyter-widgets/base",
      "model_module_version": "1.2.0",
      "model_name": "LayoutModel",
      "state": {}
     },
     "edb1fb7f87174ae8a850d01e39e4df74": {
      "model_module": "@jupyter-widgets/base",
      "model_module_version": "1.2.0",
      "model_name": "LayoutModel",
      "state": {}
     },
     "edb83818f3d3466fa8c12beed4a93ff1": {
      "model_module": "@jupyter-widgets/base",
      "model_module_version": "1.2.0",
      "model_name": "LayoutModel",
      "state": {}
     },
     "eddb8d10bac64b0fbb9bc8697efef7f1": {
      "model_module": "@jupyter-widgets/controls",
      "model_module_version": "1.5.0",
      "model_name": "HTMLModel",
      "state": {
       "layout": "IPY_MODEL_24ff9e7eb8474e12b91944f119348acf",
       "style": "IPY_MODEL_240f97915cb84e789c077dd6f2d67be6",
       "value": " 338/338 [00:40&lt;00:00,  8.30it/s, acc=0.315, loss=1.61]"
      }
     },
     "ede3a45cfe8d4e8ca65d98ca06860fd1": {
      "model_module": "@jupyter-widgets/controls",
      "model_module_version": "1.5.0",
      "model_name": "HTMLModel",
      "state": {
       "layout": "IPY_MODEL_aa518cb30f7346c9b7b28ca5aa0b763c",
       "style": "IPY_MODEL_065d8931fd08455cb69104fc8986c284",
       "value": " 241/241 [01:05&lt;00:00,  3.66it/s, acc=0.944, loss=0.141]"
      }
     },
     "ede3c539d04f47a1be70bad6a2170feb": {
      "model_module": "@jupyter-widgets/controls",
      "model_module_version": "1.5.0",
      "model_name": "DescriptionStyleModel",
      "state": {
       "description_width": ""
      }
     },
     "edfd7c33cc6f4341a901530d6da2c566": {
      "model_module": "@jupyter-widgets/base",
      "model_module_version": "1.2.0",
      "model_name": "LayoutModel",
      "state": {}
     },
     "ee24eee2ec5a452cad29618c4f64b54c": {
      "model_module": "@jupyter-widgets/controls",
      "model_module_version": "1.5.0",
      "model_name": "HTMLModel",
      "state": {
       "layout": "IPY_MODEL_eb399b02c1dc4c49b6fd848f5c6f6796",
       "style": "IPY_MODEL_9c47c35d107e44a3967a4a4b92899f46",
       "value": " 361/361 [00:59&lt;00:00,  6.03it/s, acc=0.98, loss=0.129]"
      }
     },
     "ee2c08e395d2447b9ac19a1ff1c8218a": {
      "model_module": "@jupyter-widgets/controls",
      "model_module_version": "1.5.0",
      "model_name": "IntProgressModel",
      "state": {
       "layout": "IPY_MODEL_170d9c27331044498bed2ba141d0d725",
       "max": 289,
       "style": "IPY_MODEL_0d962961d16d447a9c3c279565ff1e92"
      }
     },
     "ee4df4787b7b466094980120ae886c56": {
      "model_module": "@jupyter-widgets/base",
      "model_module_version": "1.2.0",
      "model_name": "LayoutModel",
      "state": {}
     },
     "ee6719bb2ea5471299f4d5e76175207b": {
      "model_module": "@jupyter-widgets/controls",
      "model_module_version": "1.5.0",
      "model_name": "IntProgressModel",
      "state": {
       "bar_style": "success",
       "description": "Epoch [37/40]: 100%",
       "layout": "IPY_MODEL_3cbbec183d8d4528b58184d18eaabd98",
       "max": 255,
       "style": "IPY_MODEL_3741904616a1405fbb13198776323ada",
       "value": 255
      }
     },
     "ee742cb8ac3e40648701fcc1b6d04fbb": {
      "model_module": "@jupyter-widgets/base",
      "model_module_version": "1.2.0",
      "model_name": "LayoutModel",
      "state": {}
     },
     "ee7dba81b057449fbfabf72ee4d490b9": {
      "model_module": "@jupyter-widgets/controls",
      "model_module_version": "1.5.0",
      "model_name": "ProgressStyleModel",
      "state": {
       "description_width": "initial"
      }
     },
     "ee8e221ce07a4f2190f30ab62fbb61e1": {
      "model_module": "@jupyter-widgets/controls",
      "model_module_version": "1.5.0",
      "model_name": "DescriptionStyleModel",
      "state": {
       "description_width": ""
      }
     },
     "ee905d0b82aa48d0ae11ded423c1d3d4": {
      "model_module": "@jupyter-widgets/controls",
      "model_module_version": "1.5.0",
      "model_name": "ProgressStyleModel",
      "state": {
       "description_width": "initial"
      }
     },
     "ee97933f8fcf4aee93c77abd23a2e324": {
      "model_module": "@jupyter-widgets/base",
      "model_module_version": "1.2.0",
      "model_name": "LayoutModel",
      "state": {}
     },
     "eebcf5b943d949d293e8a32786096ae9": {
      "model_module": "@jupyter-widgets/controls",
      "model_module_version": "1.5.0",
      "model_name": "HTMLModel",
      "state": {
       "layout": "IPY_MODEL_d058716935494c8b9fbdd3ae834a2c6f",
       "style": "IPY_MODEL_ca91db01af46455da85cf997f4a74e56"
      }
     },
     "eebdc44dd0b24bf6955446294f87d90f": {
      "model_module": "@jupyter-widgets/controls",
      "model_module_version": "1.5.0",
      "model_name": "IntProgressModel",
      "state": {
       "bar_style": "success",
       "description": "Epoch [39/40]: 100%",
       "layout": "IPY_MODEL_8c7cfb04f59f43289ef2c774bb769b3e",
       "max": 241,
       "style": "IPY_MODEL_19fc4dfdb4244cb0afc3458e3f53e162",
       "value": 241
      }
     },
     "eedab0bf97c5450cbadb152b6411cee7": {
      "model_module": "@jupyter-widgets/controls",
      "model_module_version": "1.5.0",
      "model_name": "HBoxModel",
      "state": {
       "children": [
        "IPY_MODEL_f70222fe20bd43c4802219ce0327d709",
        "IPY_MODEL_66f9a94c09384367bdc41f1b94ee6217"
       ],
       "layout": "IPY_MODEL_ccf9a451da0049cba82e733e4a812534"
      }
     },
     "ef0fccf41fed4f1a8c988a49b308098a": {
      "model_module": "@jupyter-widgets/base",
      "model_module_version": "1.2.0",
      "model_name": "LayoutModel",
      "state": {}
     },
     "ef119d562a76414d83a8a37df1b8c540": {
      "model_module": "@jupyter-widgets/controls",
      "model_module_version": "1.5.0",
      "model_name": "IntProgressModel",
      "state": {
       "bar_style": "success",
       "description": "Epoch [27/40]: 100%",
       "layout": "IPY_MODEL_658ae1bd912f462bac781010c2d97d9a",
       "max": 255,
       "style": "IPY_MODEL_4f72ad7bca654e15b0b37d6bef56b7b2",
       "value": 255
      }
     },
     "ef1e2b6ee9e549ed8596043f677dd511": {
      "model_module": "@jupyter-widgets/controls",
      "model_module_version": "1.5.0",
      "model_name": "ProgressStyleModel",
      "state": {
       "description_width": "initial"
      }
     },
     "ef2bed04b97440ed9b3e928a37cd17b1": {
      "model_module": "@jupyter-widgets/controls",
      "model_module_version": "1.5.0",
      "model_name": "HTMLModel",
      "state": {
       "layout": "IPY_MODEL_c157b50727c64a8f82c16ce3e51792c7",
       "style": "IPY_MODEL_815e9da96a8e4f96ba4919d51844ce80",
       "value": " 198/255 [23:39&lt;06:48,  7.17s/it, acc=0.24, loss=1.62]"
      }
     },
     "ef2e099beafd4334b419a9ebf90fb3cc": {
      "model_module": "@jupyter-widgets/controls",
      "model_module_version": "1.5.0",
      "model_name": "ProgressStyleModel",
      "state": {
       "description_width": "initial"
      }
     },
     "efa2b6af01ad4fde9dd09ec474f1d2da": {
      "model_module": "@jupyter-widgets/controls",
      "model_module_version": "1.5.0",
      "model_name": "HBoxModel",
      "state": {
       "children": [
        "IPY_MODEL_aaabffd199544dd29282266eb735a2ba",
        "IPY_MODEL_44bdf8ea0ff74308a7a7309d277374a1"
       ],
       "layout": "IPY_MODEL_a2866ff7a6c84f028188a48a4c86e5d1"
      }
     },
     "efb4f1293f5942b19be6ef4d607c043f": {
      "model_module": "@jupyter-widgets/controls",
      "model_module_version": "1.5.0",
      "model_name": "ProgressStyleModel",
      "state": {
       "description_width": ""
      }
     },
     "efcaea1bbd374820817399eb1915d5d0": {
      "model_module": "@jupyter-widgets/controls",
      "model_module_version": "1.5.0",
      "model_name": "HTMLModel",
      "state": {
       "layout": "IPY_MODEL_585b8f88a0844666be92ac29db970cab",
       "style": "IPY_MODEL_bc5aea52864a4f6988c297134131ad99",
       "value": " 289/289 [02:15&lt;00:00,  2.13it/s, acc=0.969, loss=0.0778]"
      }
     },
     "efe142abdd16447d9d3361a9c6c97c87": {
      "model_module": "@jupyter-widgets/controls",
      "model_module_version": "1.5.0",
      "model_name": "IntProgressModel",
      "state": {
       "bar_style": "success",
       "description": "Epoch [18/40]: 100%",
       "layout": "IPY_MODEL_68765fa74011400ba5d1eda9f2e5fa85",
       "max": 241,
       "style": "IPY_MODEL_07235eefb3e54296bc502d931d60c108",
       "value": 241
      }
     },
     "eff0fbb779b440cdbc22a139200448d6": {
      "model_module": "@jupyter-widgets/base",
      "model_module_version": "1.2.0",
      "model_name": "LayoutModel",
      "state": {}
     },
     "eff9fb18f015449e9bbb2b3fd99a662c": {
      "model_module": "@jupyter-widgets/controls",
      "model_module_version": "1.5.0",
      "model_name": "HBoxModel",
      "state": {
       "children": [
        "IPY_MODEL_1b3996ef6f7d4e2b8d9ae26a26c7c9a1",
        "IPY_MODEL_78df76b85ac14d14a233417f9cc5452c"
       ],
       "layout": "IPY_MODEL_4388599e535046969b9435fecc8339fa"
      }
     },
     "efff6bbb4f7543be9585988b198933f6": {
      "model_module": "@jupyter-widgets/controls",
      "model_module_version": "1.5.0",
      "model_name": "DescriptionStyleModel",
      "state": {
       "description_width": ""
      }
     },
     "f023914cae1f40458c81e3e6b986ccc1": {
      "model_module": "@jupyter-widgets/base",
      "model_module_version": "1.2.0",
      "model_name": "LayoutModel",
      "state": {}
     },
     "f027c48cdc894d74b000d3aeb089bc9e": {
      "model_module": "@jupyter-widgets/controls",
      "model_module_version": "1.5.0",
      "model_name": "DescriptionStyleModel",
      "state": {
       "description_width": ""
      }
     },
     "f02a7d5f044a4bcaac1ef07589d02841": {
      "model_module": "@jupyter-widgets/controls",
      "model_module_version": "1.5.0",
      "model_name": "DescriptionStyleModel",
      "state": {
       "description_width": ""
      }
     },
     "f02e8ad458124640934c4e5ffd4e154c": {
      "model_module": "@jupyter-widgets/controls",
      "model_module_version": "1.5.0",
      "model_name": "HTMLModel",
      "state": {
       "layout": "IPY_MODEL_d9bdb245c04945a3b1ae011a8fbe1dc6",
       "style": "IPY_MODEL_bb56f4a9f2c84ba5a7f7db59dfaaa899",
       "value": " 289/289 [01:25&lt;00:00,  3.38it/s, acc=0.272, loss=1.61]"
      }
     },
     "f09a2d79146549f2974e6770ac49f044": {
      "model_module": "@jupyter-widgets/controls",
      "model_module_version": "1.5.0",
      "model_name": "IntProgressModel",
      "state": {
       "bar_style": "success",
       "description": "Epoch [32/40]: 100%",
       "layout": "IPY_MODEL_161a0e2250374f5fb776b35496e69198",
       "max": 255,
       "style": "IPY_MODEL_ad3358a76e544332939a2266a7681e43",
       "value": 255
      }
     },
     "f0a7e19a3e96424f8eeda7c91a9ff63f": {
      "model_module": "@jupyter-widgets/controls",
      "model_module_version": "1.5.0",
      "model_name": "ProgressStyleModel",
      "state": {
       "description_width": "initial"
      }
     },
     "f0e1bcea374543bb9867cc7b84422163": {
      "model_module": "@jupyter-widgets/controls",
      "model_module_version": "1.5.0",
      "model_name": "HTMLModel",
      "state": {
       "layout": "IPY_MODEL_012f17d1daf041b4b19b2fc89771a727",
       "style": "IPY_MODEL_4185aaea27f14007a6919e503aa6fd08",
       "value": " 282/282 [01:12&lt;00:00,  3.89it/s, acc=0.984, loss=0.0192]"
      }
     },
     "f0ea3f70555548ddade7c47349dd08c0": {
      "model_module": "@jupyter-widgets/controls",
      "model_module_version": "1.5.0",
      "model_name": "HTMLModel",
      "state": {
       "layout": "IPY_MODEL_82a406d5606141b6897baf69ad9be007",
       "style": "IPY_MODEL_ebbb870ec6574e9e875972b4b93fd481",
       "value": " 289/289 [00:58&lt;00:00,  4.95it/s, acc=0.274, loss=1.59]"
      }
     },
     "f1290278d3e94db7af24c828339be237": {
      "model_module": "@jupyter-widgets/controls",
      "model_module_version": "1.5.0",
      "model_name": "IntProgressModel",
      "state": {
       "bar_style": "danger",
       "description": "Epoch [1/5]:  99%",
       "layout": "IPY_MODEL_1238acc68eab4bd8a0f80b54873795c8",
       "max": 289,
       "style": "IPY_MODEL_1f81069bd321478ab1d6c05adcdb7ac5",
       "value": 287
      }
     },
     "f13421b7ebd24973bda59d51569b46d8": {
      "model_module": "@jupyter-widgets/controls",
      "model_module_version": "1.5.0",
      "model_name": "HBoxModel",
      "state": {
       "children": [
        "IPY_MODEL_98253b86ad0741fd839a7c82b3010ebf",
        "IPY_MODEL_418a61518d9f4b8690b99882f5498b6f"
       ],
       "layout": "IPY_MODEL_d8648696138f45e4bd40623469a8d144"
      }
     },
     "f136f40d033c4ac29140ec3228d1bc89": {
      "model_module": "@jupyter-widgets/base",
      "model_module_version": "1.2.0",
      "model_name": "LayoutModel",
      "state": {}
     },
     "f1617f14d0774e41acbe03ef5eddca11": {
      "model_module": "@jupyter-widgets/base",
      "model_module_version": "1.2.0",
      "model_name": "LayoutModel",
      "state": {}
     },
     "f164287aedef44d683b266113cea9179": {
      "model_module": "@jupyter-widgets/base",
      "model_module_version": "1.2.0",
      "model_name": "LayoutModel",
      "state": {}
     },
     "f1701f59fc8a4374987d79e857009007": {
      "model_module": "@jupyter-widgets/controls",
      "model_module_version": "1.5.0",
      "model_name": "IntProgressModel",
      "state": {
       "bar_style": "success",
       "description": "Epoch [12/40]: 100%",
       "layout": "IPY_MODEL_9ae2a6a8b4004e4b850fb297bb40ea2d",
       "max": 255,
       "style": "IPY_MODEL_1c9f3009dd604a97bc7cbbdaaf269b32",
       "value": 255
      }
     },
     "f1a22e95e9e641e88276a0089ba06837": {
      "model_module": "@jupyter-widgets/base",
      "model_module_version": "1.2.0",
      "model_name": "LayoutModel",
      "state": {}
     },
     "f1c86f4e1d5b464db3be8e26e3798b36": {
      "model_module": "@jupyter-widgets/controls",
      "model_module_version": "1.5.0",
      "model_name": "HBoxModel",
      "state": {
       "children": [
        "IPY_MODEL_9c66f081ec9148dfb55d2c198d5fe1b1",
        "IPY_MODEL_86007e763c504d62a19ab017081673fe"
       ],
       "layout": "IPY_MODEL_4b957390b6ef494b9293eebe9c9b43bf"
      }
     },
     "f1d606ed4ff34d6dbb731d393517ee1e": {
      "model_module": "@jupyter-widgets/base",
      "model_module_version": "1.2.0",
      "model_name": "LayoutModel",
      "state": {}
     },
     "f1ecf2b7596442aab931b30631cfd5b9": {
      "model_module": "@jupyter-widgets/base",
      "model_module_version": "1.2.0",
      "model_name": "LayoutModel",
      "state": {}
     },
     "f21e9ca59b4944f599827a5267cc9a11": {
      "model_module": "@jupyter-widgets/base",
      "model_module_version": "1.2.0",
      "model_name": "LayoutModel",
      "state": {}
     },
     "f24c940829b547d396bb8f2b515e4d60": {
      "model_module": "@jupyter-widgets/controls",
      "model_module_version": "1.5.0",
      "model_name": "DescriptionStyleModel",
      "state": {
       "description_width": ""
      }
     },
     "f24cb15126ab4938b0ce633e1a05eb17": {
      "model_module": "@jupyter-widgets/controls",
      "model_module_version": "1.5.0",
      "model_name": "IntProgressModel",
      "state": {
       "bar_style": "success",
       "description": "Epoch [34/40]: 100%",
       "layout": "IPY_MODEL_c6083b7a10e343e3a1ed0e555e243b2f",
       "max": 255,
       "style": "IPY_MODEL_10416a4faebc48daa82005badbf21c4d",
       "value": 255
      }
     },
     "f259ab23c2e34991804f8438c7bb0b4c": {
      "model_module": "@jupyter-widgets/base",
      "model_module_version": "1.2.0",
      "model_name": "LayoutModel",
      "state": {}
     },
     "f266bf060e0847dcb539736b1faad279": {
      "model_module": "@jupyter-widgets/base",
      "model_module_version": "1.2.0",
      "model_name": "LayoutModel",
      "state": {}
     },
     "f27d5c5297f849cdb696c95af1f6fc47": {
      "model_module": "@jupyter-widgets/controls",
      "model_module_version": "1.5.0",
      "model_name": "DescriptionStyleModel",
      "state": {
       "description_width": ""
      }
     },
     "f286d1e11bbd4ae7ae401af8a2c921c9": {
      "model_module": "@jupyter-widgets/controls",
      "model_module_version": "1.5.0",
      "model_name": "DescriptionStyleModel",
      "state": {
       "description_width": ""
      }
     },
     "f2abaeb782c64f619411a606767caf0d": {
      "model_module": "@jupyter-widgets/controls",
      "model_module_version": "1.5.0",
      "model_name": "IntProgressModel",
      "state": {
       "bar_style": "success",
       "description": "Epoch [40/40]: 100%",
       "layout": "IPY_MODEL_0e883bde970d4c4ab9ade4032894d388",
       "max": 361,
       "style": "IPY_MODEL_cf851677a98a4f2eaf48be3dafe309a4",
       "value": 361
      }
     },
     "f2b4ea7024b8487e92a9b13ef921e82b": {
      "model_module": "@jupyter-widgets/controls",
      "model_module_version": "1.5.0",
      "model_name": "DescriptionStyleModel",
      "state": {
       "description_width": ""
      }
     },
     "f2d5e41e3c7f49d6a936a0c1e9650731": {
      "model_module": "@jupyter-widgets/controls",
      "model_module_version": "1.5.0",
      "model_name": "DescriptionStyleModel",
      "state": {
       "description_width": ""
      }
     },
     "f2d6ea868064401ca6218e6ac48ee564": {
      "model_module": "@jupyter-widgets/base",
      "model_module_version": "1.2.0",
      "model_name": "LayoutModel",
      "state": {}
     },
     "f2dbf91008234ef9956989914e9c0dea": {
      "model_module": "@jupyter-widgets/base",
      "model_module_version": "1.2.0",
      "model_name": "LayoutModel",
      "state": {}
     },
     "f334352e07054a0e833de048e8cfe59d": {
      "model_module": "@jupyter-widgets/controls",
      "model_module_version": "1.5.0",
      "model_name": "HBoxModel",
      "state": {
       "children": [
        "IPY_MODEL_a4d6218f64e94f04a59cc285144fcbcc",
        "IPY_MODEL_5b49826e34cd4ac58140f41934b84ffc"
       ],
       "layout": "IPY_MODEL_c5cff937312b477f94f905a5994bf173"
      }
     },
     "f386b0b6e331473e9199d2a95181ed38": {
      "model_module": "@jupyter-widgets/controls",
      "model_module_version": "1.5.0",
      "model_name": "ProgressStyleModel",
      "state": {
       "description_width": "initial"
      }
     },
     "f39842a1468743e5beb2cc9c37d5c6b1": {
      "model_module": "@jupyter-widgets/controls",
      "model_module_version": "1.5.0",
      "model_name": "HTMLModel",
      "state": {
       "layout": "IPY_MODEL_19d2b42e326046e49da708714b1a813c",
       "style": "IPY_MODEL_6704ebf3888147a99fe7766708da58db",
       "value": " 241/241 [00:45&lt;00:00,  5.34it/s, acc=0.949, loss=0.164]"
      }
     },
     "f3b7a7da83dd4e91863d3f6f2a59b3f5": {
      "model_module": "@jupyter-widgets/controls",
      "model_module_version": "1.5.0",
      "model_name": "HBoxModel",
      "state": {
       "children": [
        "IPY_MODEL_4b2c1d1ae9384bf59923f4d34bc8fd4a",
        "IPY_MODEL_2726ee29aacf40888cdba910e3c241d4"
       ],
       "layout": "IPY_MODEL_0e16bf239ca74be687be6638cfc6c056"
      }
     },
     "f3f7a8fc71b94c3b8591d21a8880624a": {
      "model_module": "@jupyter-widgets/controls",
      "model_module_version": "1.5.0",
      "model_name": "ProgressStyleModel",
      "state": {
       "description_width": "initial"
      }
     },
     "f3f88b42348944b9af05247d2aa45137": {
      "model_module": "@jupyter-widgets/controls",
      "model_module_version": "1.5.0",
      "model_name": "HBoxModel",
      "state": {
       "children": [
        "IPY_MODEL_62e17f1048ee46d1aaa3e72c8ddd7c59",
        "IPY_MODEL_c3353ecf8b5544d094aaf4ecf73ffd59"
       ],
       "layout": "IPY_MODEL_8d102b81547943019971cd25d6d2cce1"
      }
     },
     "f404beed6d1a4e508628902529256913": {
      "model_module": "@jupyter-widgets/base",
      "model_module_version": "1.2.0",
      "model_name": "LayoutModel",
      "state": {}
     },
     "f43b6a9beedc4030a613de141a930a5b": {
      "model_module": "@jupyter-widgets/controls",
      "model_module_version": "1.5.0",
      "model_name": "HTMLModel",
      "state": {
       "layout": "IPY_MODEL_8f746500fca147f5a98c134e00ad833c",
       "style": "IPY_MODEL_a18153f5e5e841a2bbd55b51dbaa27d4",
       "value": " 281/281 [00:50&lt;00:00,  5.51it/s, acc=0.994, loss=0.00847]"
      }
     },
     "f4420d8bf1f94d66a0bd270163ec3e5f": {
      "model_module": "@jupyter-widgets/base",
      "model_module_version": "1.2.0",
      "model_name": "LayoutModel",
      "state": {}
     },
     "f4670a2417d54dce9589fd9a43296886": {
      "model_module": "@jupyter-widgets/base",
      "model_module_version": "1.2.0",
      "model_name": "LayoutModel",
      "state": {}
     },
     "f4bc22b903a54febb9ba7cb866b54e24": {
      "model_module": "@jupyter-widgets/controls",
      "model_module_version": "1.5.0",
      "model_name": "IntProgressModel",
      "state": {
       "bar_style": "success",
       "description": "Epoch [2/40]: 100%",
       "layout": "IPY_MODEL_10a8dcfceed2457087c4f70daf396d03",
       "max": 289,
       "style": "IPY_MODEL_3f49e0d959074fbebb5963e506edf037",
       "value": 289
      }
     },
     "f4c8568a59df416b87fcd1f4ee701d57": {
      "model_module": "@jupyter-widgets/controls",
      "model_module_version": "1.5.0",
      "model_name": "DescriptionStyleModel",
      "state": {
       "description_width": ""
      }
     },
     "f4d7adc6d2974f5781a782e2bf05c538": {
      "model_module": "@jupyter-widgets/controls",
      "model_module_version": "1.5.0",
      "model_name": "ProgressStyleModel",
      "state": {
       "description_width": "initial"
      }
     },
     "f4d7e2c9686c4f96ac9c924af1f3e70c": {
      "model_module": "@jupyter-widgets/controls",
      "model_module_version": "1.5.0",
      "model_name": "HBoxModel",
      "state": {
       "children": [
        "IPY_MODEL_bdbd77031b0d4aa0ad2136d05651892e",
        "IPY_MODEL_b4d6f591b7014a918712359e5905f6db"
       ],
       "layout": "IPY_MODEL_73fcf2b79cf64d08894f6a76a9ff39ff"
      }
     },
     "f4e7211f28744d8bbbbcbea6ce7e1c3f": {
      "model_module": "@jupyter-widgets/base",
      "model_module_version": "1.2.0",
      "model_name": "LayoutModel",
      "state": {}
     },
     "f506361c804c478cadd9b4e129d5afd2": {
      "model_module": "@jupyter-widgets/base",
      "model_module_version": "1.2.0",
      "model_name": "LayoutModel",
      "state": {}
     },
     "f506e8ea715f40168142175500b2f1a2": {
      "model_module": "@jupyter-widgets/base",
      "model_module_version": "1.2.0",
      "model_name": "LayoutModel",
      "state": {}
     },
     "f52b8393728a4fffa59f12b1b34ac82b": {
      "model_module": "@jupyter-widgets/controls",
      "model_module_version": "1.5.0",
      "model_name": "HBoxModel",
      "state": {
       "children": [
        "IPY_MODEL_0bff57df135b4ac08204ef6f165d1bf8",
        "IPY_MODEL_5df2b04f242e45b2aa6ce731a820e315"
       ],
       "layout": "IPY_MODEL_acd95f91cfbf408ea56ede0315e324f7"
      }
     },
     "f5591a80769f48bc8759e15fbbd405cc": {
      "model_module": "@jupyter-widgets/controls",
      "model_module_version": "1.5.0",
      "model_name": "HBoxModel",
      "state": {
       "children": [
        "IPY_MODEL_c151d2edc0874ce6aa0baf0d6c53439a",
        "IPY_MODEL_43c72b1eec704854ae7e9a1f45565bbf"
       ],
       "layout": "IPY_MODEL_b106217d98f541f482b4736ac588fb8c"
      }
     },
     "f582bb8591c941a4b2387634ede3e78d": {
      "model_module": "@jupyter-widgets/controls",
      "model_module_version": "1.5.0",
      "model_name": "DescriptionStyleModel",
      "state": {
       "description_width": ""
      }
     },
     "f5a61f150be8436c9104ab8cbde5319d": {
      "model_module": "@jupyter-widgets/controls",
      "model_module_version": "1.5.0",
      "model_name": "IntProgressModel",
      "state": {
       "bar_style": "success",
       "description": "Epoch [38/40]: 100%",
       "layout": "IPY_MODEL_f8d6e2994a1b4cdcbd37589dff7e51f5",
       "max": 361,
       "style": "IPY_MODEL_706414125b4d41358b5acfa37b2613f9",
       "value": 361
      }
     },
     "f5bc4df35e6d46379fe693a6333c7136": {
      "model_module": "@jupyter-widgets/base",
      "model_module_version": "1.2.0",
      "model_name": "LayoutModel",
      "state": {}
     },
     "f606edaa8166483d8c0b731f7125d8b4": {
      "model_module": "@jupyter-widgets/controls",
      "model_module_version": "1.5.0",
      "model_name": "HBoxModel",
      "state": {
       "children": [
        "IPY_MODEL_2d564a28b7e64ba1b00db58bd36f5fc8",
        "IPY_MODEL_221c1b6746fe4b9f95fa02bdaf7b4186"
       ],
       "layout": "IPY_MODEL_351e566584c146dfb27df54fbef11c27"
      }
     },
     "f6101aa9081849ee8e1463cbacf0de0b": {
      "model_module": "@jupyter-widgets/controls",
      "model_module_version": "1.5.0",
      "model_name": "ProgressStyleModel",
      "state": {
       "description_width": "initial"
      }
     },
     "f6184203492c4478984528aa6bb06e83": {
      "model_module": "@jupyter-widgets/controls",
      "model_module_version": "1.5.0",
      "model_name": "HBoxModel",
      "state": {
       "children": [
        "IPY_MODEL_e81207edf01a4cf18462c68f1ab012ae",
        "IPY_MODEL_652072ca46d546ceb0d56b7df69af2ea"
       ],
       "layout": "IPY_MODEL_f9775aee6cbc4ff4aafe623d456d428b"
      }
     },
     "f683747129dc4ca2b456f538471dc11a": {
      "model_module": "@jupyter-widgets/controls",
      "model_module_version": "1.5.0",
      "model_name": "ProgressStyleModel",
      "state": {
       "description_width": "initial"
      }
     },
     "f692537c70654045837f570de214fe9f": {
      "model_module": "@jupyter-widgets/controls",
      "model_module_version": "1.5.0",
      "model_name": "ProgressStyleModel",
      "state": {
       "description_width": "initial"
      }
     },
     "f6a3b04b784a417ea6279e0dbbee8d98": {
      "model_module": "@jupyter-widgets/controls",
      "model_module_version": "1.5.0",
      "model_name": "IntProgressModel",
      "state": {
       "bar_style": "success",
       "description": "Epoch [42/100]: 100%",
       "layout": "IPY_MODEL_2684b2d475764ffd9db7a03316a02ec6",
       "max": 289,
       "style": "IPY_MODEL_c2600245c3a24783b47e6a9b96378e58",
       "value": 289
      }
     },
     "f6ae7ebc742f4d618a8ff14cd0293b65": {
      "model_module": "@jupyter-widgets/base",
      "model_module_version": "1.2.0",
      "model_name": "LayoutModel",
      "state": {}
     },
     "f6ef42eff73440eb9fadb2a1acfe249b": {
      "model_module": "@jupyter-widgets/controls",
      "model_module_version": "1.5.0",
      "model_name": "IntProgressModel",
      "state": {
       "bar_style": "success",
       "description": "Epoch [30/40]: 100%",
       "layout": "IPY_MODEL_a774f079eb0047a0aa5f6a409f739420",
       "max": 289,
       "style": "IPY_MODEL_61665ef2087a4613b5940b3b28ac08ef",
       "value": 289
      }
     },
     "f6f787a49d72426cac9e0b1bc6266b3e": {
      "model_module": "@jupyter-widgets/controls",
      "model_module_version": "1.5.0",
      "model_name": "HTMLModel",
      "state": {
       "layout": "IPY_MODEL_37366efa39844fb082a055414d6fa931",
       "style": "IPY_MODEL_12eeec86c7664effa35296cd9c64d5c1",
       "value": " 338/338 [01:38&lt;00:00,  3.44it/s, acc=0.301, loss=1.54]"
      }
     },
     "f6fb0a92328f4365a3904e7e35f12733": {
      "model_module": "@jupyter-widgets/base",
      "model_module_version": "1.2.0",
      "model_name": "LayoutModel",
      "state": {}
     },
     "f70222fe20bd43c4802219ce0327d709": {
      "model_module": "@jupyter-widgets/controls",
      "model_module_version": "1.5.0",
      "model_name": "IntProgressModel",
      "state": {
       "bar_style": "success",
       "description": "Epoch [3/5]: 100%",
       "layout": "IPY_MODEL_2f47733d8bab4b88bd726a6a139ada4b",
       "max": 283,
       "style": "IPY_MODEL_59e91c18914946cfaaf550586e586ce6",
       "value": 283
      }
     },
     "f726e00f26904c4ab74d9931a9a238e2": {
      "model_module": "@jupyter-widgets/base",
      "model_module_version": "1.2.0",
      "model_name": "LayoutModel",
      "state": {}
     },
     "f73fd9a74ce3404487501b1b3deb28ae": {
      "model_module": "@jupyter-widgets/controls",
      "model_module_version": "1.5.0",
      "model_name": "HBoxModel",
      "state": {
       "children": [
        "IPY_MODEL_1a6fc8eceaf64f2f8257bd37cc2e55f9",
        "IPY_MODEL_70d435c92a6b4679aab30dc1be7288e9"
       ],
       "layout": "IPY_MODEL_b43183b4a2fe4d9fab208079217a68df"
      }
     },
     "f742b8ff99764815a4de58bf2e7e5ea5": {
      "model_module": "@jupyter-widgets/controls",
      "model_module_version": "1.5.0",
      "model_name": "HTMLModel",
      "state": {
       "layout": "IPY_MODEL_aa5955178af543408110331d841bab36",
       "style": "IPY_MODEL_bc9d4523613a41a79fc9e7521a64fe54",
       "value": " 284/284 [01:19&lt;00:00,  3.56it/s, acc=0.992, loss=0.0149]"
      }
     },
     "f746c5572cce4a37873334da9f6f93d4": {
      "model_module": "@jupyter-widgets/controls",
      "model_module_version": "1.5.0",
      "model_name": "IntProgressModel",
      "state": {
       "bar_style": "success",
       "description": "Epoch [33/40]: 100%",
       "layout": "IPY_MODEL_2de1f3415c004be8acb6cdd4150478ac",
       "max": 338,
       "style": "IPY_MODEL_b1336341a67f484dbcfa4c0a720bc915",
       "value": 338
      }
     },
     "f75fbd13a8844902a639f660a9ffda11": {
      "model_module": "@jupyter-widgets/controls",
      "model_module_version": "1.5.0",
      "model_name": "IntProgressModel",
      "state": {
       "bar_style": "success",
       "description": "Epoch [1/5]: 100%",
       "layout": "IPY_MODEL_817876fcf0a745ac9ee1e3e804e4412d",
       "max": 284,
       "style": "IPY_MODEL_e37ee8f3d36846ba819f404842a4e2c7",
       "value": 284
      }
     },
     "f76da8c8d90e463b85d2acdc32e3afca": {
      "model_module": "@jupyter-widgets/controls",
      "model_module_version": "1.5.0",
      "model_name": "ProgressStyleModel",
      "state": {
       "description_width": "initial"
      }
     },
     "f793577a54d945ec909d6901d633f24c": {
      "model_module": "@jupyter-widgets/controls",
      "model_module_version": "1.5.0",
      "model_name": "IntProgressModel",
      "state": {
       "bar_style": "success",
       "description": "Epoch [24/40]: 100%",
       "layout": "IPY_MODEL_addf0388bffa4aa684d8817b47e0b059",
       "max": 361,
       "style": "IPY_MODEL_1d18cb107d894d59a802f2ff84ed9ca0",
       "value": 361
      }
     },
     "f79935b12f574bb38564141831c54535": {
      "model_module": "@jupyter-widgets/controls",
      "model_module_version": "1.5.0",
      "model_name": "HTMLModel",
      "state": {
       "layout": "IPY_MODEL_e59929407a7b438aa69fff14aa9da957",
       "style": "IPY_MODEL_59dabc7a766f440681b37e2ff6270e5c",
       "value": " 361/361 [01:36&lt;00:00,  3.74it/s, acc=0.973, loss=0.0957]"
      }
     },
     "f7994ba4365d4c379e5c8b2ba912feff": {
      "model_module": "@jupyter-widgets/controls",
      "model_module_version": "1.5.0",
      "model_name": "HBoxModel",
      "state": {
       "children": [
        "IPY_MODEL_f5a61f150be8436c9104ab8cbde5319d",
        "IPY_MODEL_bdb41d94ae5340218374bfe3edb539ff"
       ],
       "layout": "IPY_MODEL_b6da20e54379465b9a05dc4fbcd1d85e"
      }
     },
     "f79ec1774a8042a59d54ba2334355526": {
      "model_module": "@jupyter-widgets/controls",
      "model_module_version": "1.5.0",
      "model_name": "HBoxModel",
      "state": {
       "children": [
        "IPY_MODEL_bc6c6159880d4bf0bdd3d1e3d973c324",
        "IPY_MODEL_2f48a05a66f840b18273c9706536db8d"
       ],
       "layout": "IPY_MODEL_38862dc3ecb047b2bebfad3a11cdc168"
      }
     },
     "f7a64f4e668249e6b254baf1beb6d8a9": {
      "model_module": "@jupyter-widgets/base",
      "model_module_version": "1.2.0",
      "model_name": "LayoutModel",
      "state": {}
     },
     "f80925aa724647ee987a14fc87024078": {
      "model_module": "@jupyter-widgets/base",
      "model_module_version": "1.2.0",
      "model_name": "LayoutModel",
      "state": {}
     },
     "f81464cd71694e44892f806c15b70049": {
      "model_module": "@jupyter-widgets/base",
      "model_module_version": "1.2.0",
      "model_name": "LayoutModel",
      "state": {}
     },
     "f87516095f4c4ae1be0a0c34622e8d08": {
      "model_module": "@jupyter-widgets/controls",
      "model_module_version": "1.5.0",
      "model_name": "DescriptionStyleModel",
      "state": {
       "description_width": ""
      }
     },
     "f87c34537c7a4a378049936ebad07dff": {
      "model_module": "@jupyter-widgets/base",
      "model_module_version": "1.2.0",
      "model_name": "LayoutModel",
      "state": {}
     },
     "f898af74e1884f51b0c037b3563da08c": {
      "model_module": "@jupyter-widgets/controls",
      "model_module_version": "1.5.0",
      "model_name": "HTMLModel",
      "state": {
       "layout": "IPY_MODEL_83cef394a09f4be5ad8724a5b0d93f67",
       "style": "IPY_MODEL_c5e81d1875d84ef5b8b19441790f13f3",
       "value": " 289/289 [01:10&lt;00:00,  4.10it/s, acc=0.971, loss=0.103]"
      }
     },
     "f89af2f232ac46b1a1286c1a89ad84c1": {
      "model_module": "@jupyter-widgets/base",
      "model_module_version": "1.2.0",
      "model_name": "LayoutModel",
      "state": {}
     },
     "f8c072660eb443cd9299bcb7037375eb": {
      "model_module": "@jupyter-widgets/base",
      "model_module_version": "1.2.0",
      "model_name": "LayoutModel",
      "state": {}
     },
     "f8c8e377926d403d8a1a4e0008e4996f": {
      "model_module": "@jupyter-widgets/controls",
      "model_module_version": "1.5.0",
      "model_name": "IntProgressModel",
      "state": {
       "bar_style": "success",
       "description": "Epoch [29/40]: 100%",
       "layout": "IPY_MODEL_096a6be964a44682837fa59393b9b015",
       "max": 241,
       "style": "IPY_MODEL_2775d3b93fef4c14b2dc11c01752fc66",
       "value": 241
      }
     },
     "f8d6e2994a1b4cdcbd37589dff7e51f5": {
      "model_module": "@jupyter-widgets/base",
      "model_module_version": "1.2.0",
      "model_name": "LayoutModel",
      "state": {}
     },
     "f8e77ceb494340a99c3f39ca75ae17cf": {
      "model_module": "@jupyter-widgets/controls",
      "model_module_version": "1.5.0",
      "model_name": "HBoxModel",
      "state": {
       "children": [
        "IPY_MODEL_caa06981967b4aea85c7577a90fa981f",
        "IPY_MODEL_63f7d2d4d1d04208ab3c64b74f27d2da"
       ],
       "layout": "IPY_MODEL_5cffc0bb78554b4fa30e5c249ee15b0b"
      }
     },
     "f8f188340feb4fe9aa2f1c9c6e8b86ad": {
      "model_module": "@jupyter-widgets/controls",
      "model_module_version": "1.5.0",
      "model_name": "HBoxModel",
      "state": {
       "children": [
        "IPY_MODEL_e1a780e1fc7e4bf0a1e4d79e37248749",
        "IPY_MODEL_ef2bed04b97440ed9b3e928a37cd17b1"
       ],
       "layout": "IPY_MODEL_232a5a93521844ca9d44c8276caf28e3"
      }
     },
     "f902d34c38d44bb7989c2f1126358f90": {
      "model_module": "@jupyter-widgets/controls",
      "model_module_version": "1.5.0",
      "model_name": "IntProgressModel",
      "state": {
       "bar_style": "success",
       "description": "Epoch [4/40]: 100%",
       "layout": "IPY_MODEL_620760c61aeb42f7b04f5de6d8260a4a",
       "max": 289,
       "style": "IPY_MODEL_027ad8b9f14a4222978c2e704002d039",
       "value": 289
      }
     },
     "f90fb26c21684511878dc350b6fef27f": {
      "model_module": "@jupyter-widgets/controls",
      "model_module_version": "1.5.0",
      "model_name": "DescriptionStyleModel",
      "state": {
       "description_width": ""
      }
     },
     "f9159efa16384beea9657eeef8d7686b": {
      "model_module": "@jupyter-widgets/base",
      "model_module_version": "1.2.0",
      "model_name": "LayoutModel",
      "state": {}
     },
     "f94a5ec4d56143038a148b35d3684794": {
      "model_module": "@jupyter-widgets/controls",
      "model_module_version": "1.5.0",
      "model_name": "HTMLModel",
      "state": {
       "layout": "IPY_MODEL_f5bc4df35e6d46379fe693a6333c7136",
       "style": "IPY_MODEL_fafb9ecfbecb4d9aa8a49bdbae2f3a09",
       "value": " 289/289 [01:37&lt;00:00,  2.96it/s, acc=0.495, loss=0.576]"
      }
     },
     "f9775aee6cbc4ff4aafe623d456d428b": {
      "model_module": "@jupyter-widgets/base",
      "model_module_version": "1.2.0",
      "model_name": "LayoutModel",
      "state": {}
     },
     "f9b2cabd73f94d5a9a3e629a458c5002": {
      "model_module": "@jupyter-widgets/base",
      "model_module_version": "1.2.0",
      "model_name": "LayoutModel",
      "state": {}
     },
     "f9b709f78ebf4fd49de42b0742c8f2ab": {
      "model_module": "@jupyter-widgets/base",
      "model_module_version": "1.2.0",
      "model_name": "LayoutModel",
      "state": {}
     },
     "f9d63b5841f946169d5e654205a97271": {
      "model_module": "@jupyter-widgets/base",
      "model_module_version": "1.2.0",
      "model_name": "LayoutModel",
      "state": {}
     },
     "fa167f5a365541c9970c4304c3d014c3": {
      "model_module": "@jupyter-widgets/controls",
      "model_module_version": "1.5.0",
      "model_name": "IntProgressModel",
      "state": {
       "bar_style": "success",
       "description": "Epoch [23/40]: 100%",
       "layout": "IPY_MODEL_967555a8236d47508f5558867f512673",
       "max": 338,
       "style": "IPY_MODEL_7071fe9d9a3549139108851bbf6e1c5e",
       "value": 338
      }
     },
     "fa5358bbb8b0407a9dcaadd8ea506d0d": {
      "model_module": "@jupyter-widgets/controls",
      "model_module_version": "1.5.0",
      "model_name": "IntProgressModel",
      "state": {
       "bar_style": "success",
       "description": "Epoch [2/40]: 100%",
       "layout": "IPY_MODEL_1fc4fef080d6429488f94ee1fa66d128",
       "max": 255,
       "style": "IPY_MODEL_f386b0b6e331473e9199d2a95181ed38",
       "value": 255
      }
     },
     "fa666469d5654b06ad4daa1f1bc00624": {
      "model_module": "@jupyter-widgets/controls",
      "model_module_version": "1.5.0",
      "model_name": "DescriptionStyleModel",
      "state": {
       "description_width": ""
      }
     },
     "faaa417127f746dd95137b43a9170585": {
      "model_module": "@jupyter-widgets/base",
      "model_module_version": "1.2.0",
      "model_name": "LayoutModel",
      "state": {}
     },
     "fab22bcb2a9b4e95871c1a1be0f2b73c": {
      "model_module": "@jupyter-widgets/controls",
      "model_module_version": "1.5.0",
      "model_name": "IntProgressModel",
      "state": {
       "bar_style": "success",
       "description": "Epoch [3/5]: 100%",
       "layout": "IPY_MODEL_d5bcbf80ed7048409e7b930c426ff2eb",
       "max": 281,
       "style": "IPY_MODEL_289ddf85539548b2aa00c78156a57b69",
       "value": 281
      }
     },
     "fab8793e9b6644aab344660ca2f04668": {
      "model_module": "@jupyter-widgets/base",
      "model_module_version": "1.2.0",
      "model_name": "LayoutModel",
      "state": {}
     },
     "facc3a7063964b72ba12508320b85ad3": {
      "model_module": "@jupyter-widgets/controls",
      "model_module_version": "1.5.0",
      "model_name": "IntProgressModel",
      "state": {
       "bar_style": "success",
       "description": "Epoch [28/40]: 100%",
       "layout": "IPY_MODEL_a026b3b0b567415c966fc718f4aae8c3",
       "max": 289,
       "style": "IPY_MODEL_40a6fc69a84d47258cb3594d34073661",
       "value": 289
      }
     },
     "facf8fa976294e8289a121952d52305b": {
      "model_module": "@jupyter-widgets/controls",
      "model_module_version": "1.5.0",
      "model_name": "HBoxModel",
      "state": {
       "children": [
        "IPY_MODEL_541eb8d08fbc47988ff28780cf888dd7",
        "IPY_MODEL_f0ea3f70555548ddade7c47349dd08c0"
       ],
       "layout": "IPY_MODEL_76834dfc6edc4cd28c6ede49bd2e3e2a"
      }
     },
     "fad94e42f4b3406a83b573554fa3263a": {
      "model_module": "@jupyter-widgets/controls",
      "model_module_version": "1.5.0",
      "model_name": "HBoxModel",
      "state": {
       "children": [
        "IPY_MODEL_1401458bc1014f2c9cd000392346a855",
        "IPY_MODEL_18c777e8be5d4c10820e4d84cf5eeead"
       ],
       "layout": "IPY_MODEL_da3e97f02d3f47de910f8268cbf38ade"
      }
     },
     "fae5f6a7b6b74175b8f65772732fcc6e": {
      "model_module": "@jupyter-widgets/controls",
      "model_module_version": "1.5.0",
      "model_name": "IntProgressModel",
      "state": {
       "bar_style": "success",
       "description": "Epoch [1/40]: 100%",
       "layout": "IPY_MODEL_de09507722224cbdb9b923f897f00647",
       "max": 241,
       "style": "IPY_MODEL_937a7c862e39410b936ecb06db15ae29",
       "value": 241
      }
     },
     "fafb9ecfbecb4d9aa8a49bdbae2f3a09": {
      "model_module": "@jupyter-widgets/controls",
      "model_module_version": "1.5.0",
      "model_name": "DescriptionStyleModel",
      "state": {
       "description_width": ""
      }
     },
     "fb4f529a0919426e96fc1f896e28b8d4": {
      "model_module": "@jupyter-widgets/base",
      "model_module_version": "1.2.0",
      "model_name": "LayoutModel",
      "state": {}
     },
     "fb539981af394ce7abcb9cf9c9edfc39": {
      "model_module": "@jupyter-widgets/controls",
      "model_module_version": "1.5.0",
      "model_name": "HBoxModel",
      "state": {
       "children": [
        "IPY_MODEL_191052923d5f49629964edec69e3d2e0",
        "IPY_MODEL_a43906846d984f3aad1ae4ed836d8a38"
       ],
       "layout": "IPY_MODEL_1bf89bafbdd847a2ba5f8e1416bb1c0f"
      }
     },
     "fb6e64eee4644067bc62c91293d7f013": {
      "model_module": "@jupyter-widgets/base",
      "model_module_version": "1.2.0",
      "model_name": "LayoutModel",
      "state": {}
     },
     "fb9fc57708c7472b818200884f6a75d9": {
      "model_module": "@jupyter-widgets/base",
      "model_module_version": "1.2.0",
      "model_name": "LayoutModel",
      "state": {}
     },
     "fbc65bbaf819448f9284b6cd099aa8c2": {
      "model_module": "@jupyter-widgets/base",
      "model_module_version": "1.2.0",
      "model_name": "LayoutModel",
      "state": {}
     },
     "fc58000569cc4853acbb609c2513ad17": {
      "model_module": "@jupyter-widgets/controls",
      "model_module_version": "1.5.0",
      "model_name": "HBoxModel",
      "state": {
       "children": [
        "IPY_MODEL_2f4c070b42b245f79fe16ede15cc40c1",
        "IPY_MODEL_84e441b172374d80aa40ace8c3bbe81b"
       ],
       "layout": "IPY_MODEL_765979586fc64339b0a45285ea5ec1a7"
      }
     },
     "fc8f006a3ff341b69905b065648a2962": {
      "model_module": "@jupyter-widgets/controls",
      "model_module_version": "1.5.0",
      "model_name": "IntProgressModel",
      "state": {
       "bar_style": "success",
       "description": "Epoch [24/40]: 100%",
       "layout": "IPY_MODEL_e996faefb0394104a69e327e7da52fcf",
       "max": 241,
       "style": "IPY_MODEL_302b167fd3a64c48a89a52e547e47f95",
       "value": 241
      }
     },
     "fcbd07e4d32843788a0abcd324cab08f": {
      "model_module": "@jupyter-widgets/controls",
      "model_module_version": "1.5.0",
      "model_name": "IntProgressModel",
      "state": {
       "bar_style": "success",
       "description": "Epoch [21/40]: 100%",
       "layout": "IPY_MODEL_52ee77e9f32948f081f0b9f768ae4ee7",
       "max": 255,
       "style": "IPY_MODEL_6c9d5bc0874d4aa3949ace7a37d9b73a",
       "value": 255
      }
     },
     "fcc66342a8e64a47b023c04dabc24386": {
      "model_module": "@jupyter-widgets/controls",
      "model_module_version": "1.5.0",
      "model_name": "ProgressStyleModel",
      "state": {
       "description_width": "initial"
      }
     },
     "fcfa2551919847b28ddd1e16957bd8d6": {
      "model_module": "@jupyter-widgets/controls",
      "model_module_version": "1.5.0",
      "model_name": "HTMLModel",
      "state": {
       "layout": "IPY_MODEL_bf95d2ed503f42a88e5c81bdf386518c",
       "style": "IPY_MODEL_a3d428e4ea804890be1a3c1dac0b862c",
       "value": " 361/361 [01:28&lt;00:00,  4.06it/s, acc=0.295, loss=1.52]"
      }
     },
     "fd0d48b5a2a1483f888c59a18c4a3331": {
      "model_module": "@jupyter-widgets/controls",
      "model_module_version": "1.5.0",
      "model_name": "ProgressStyleModel",
      "state": {
       "description_width": ""
      }
     },
     "fd24a387aeca46ebb59304fc04add3eb": {
      "model_module": "@jupyter-widgets/controls",
      "model_module_version": "1.5.0",
      "model_name": "HTMLModel",
      "state": {
       "layout": "IPY_MODEL_db6ae3a69fbd4b9095c7bf3b58ed3497",
       "style": "IPY_MODEL_73ee95690a444393a0c626fafe18ab64",
       "value": " 289/289 [01:58&lt;00:00,  2.44it/s, acc=0.273, loss=1.55]"
      }
     },
     "fd68732358b3408ca98257020ed49d98": {
      "model_module": "@jupyter-widgets/base",
      "model_module_version": "1.2.0",
      "model_name": "LayoutModel",
      "state": {}
     },
     "fd68a03efc6e40e18d9e6bf823f10ac3": {
      "model_module": "@jupyter-widgets/controls",
      "model_module_version": "1.5.0",
      "model_name": "DescriptionStyleModel",
      "state": {
       "description_width": ""
      }
     },
     "fd6af58076d74e8998df569cbf038a38": {
      "model_module": "@jupyter-widgets/base",
      "model_module_version": "1.2.0",
      "model_name": "LayoutModel",
      "state": {}
     },
     "fd720423515843dd825a5730630419a5": {
      "model_module": "@jupyter-widgets/controls",
      "model_module_version": "1.5.0",
      "model_name": "ProgressStyleModel",
      "state": {
       "description_width": "initial"
      }
     },
     "fd8ed01ab14f464c8b22c202987bb099": {
      "model_module": "@jupyter-widgets/controls",
      "model_module_version": "1.5.0",
      "model_name": "IntProgressModel",
      "state": {
       "bar_style": "success",
       "description": "Epoch [1/40]: 100%",
       "layout": "IPY_MODEL_f1a22e95e9e641e88276a0089ba06837",
       "max": 361,
       "style": "IPY_MODEL_42435783c4434fc48673f2e867bcd3c5",
       "value": 361
      }
     },
     "fdacc825756b4ee985919f4a36ca6f71": {
      "model_module": "@jupyter-widgets/controls",
      "model_module_version": "1.5.0",
      "model_name": "HTMLModel",
      "state": {
       "layout": "IPY_MODEL_a7718604d0794b898778a916ed3f27f1",
       "style": "IPY_MODEL_6dd10274e85d44d58fc0a38392e8ef4e",
       "value": " 338/338 [01:59&lt;00:00,  2.84it/s, acc=0.983, loss=0.0285]"
      }
     },
     "fdb3463c74e343fdb1ba5fee78c7a903": {
      "model_module": "@jupyter-widgets/base",
      "model_module_version": "1.2.0",
      "model_name": "LayoutModel",
      "state": {}
     },
     "fdc80a6506c445af873b4a8e8e7b0168": {
      "model_module": "@jupyter-widgets/base",
      "model_module_version": "1.2.0",
      "model_name": "LayoutModel",
      "state": {}
     },
     "fdd34a5367ff4a9284f13da46208d2c0": {
      "model_module": "@jupyter-widgets/controls",
      "model_module_version": "1.5.0",
      "model_name": "IntProgressModel",
      "state": {
       "bar_style": "success",
       "description": "Epoch [34/40]: 100%",
       "layout": "IPY_MODEL_46254d8fe7d64e999bfc7f9ec1c2046c",
       "max": 361,
       "style": "IPY_MODEL_6f174548c0b847eab7ab2fc1c5e1a91a",
       "value": 361
      }
     },
     "fdfa8384591c4d3abe1af9dc81f6be18": {
      "model_module": "@jupyter-widgets/controls",
      "model_module_version": "1.5.0",
      "model_name": "HBoxModel",
      "state": {
       "children": [
        "IPY_MODEL_ad64978f34d9424cb3fdbfe5963394ab",
        "IPY_MODEL_c428dc0e85f14fe0b1735fcafb1e5d67"
       ],
       "layout": "IPY_MODEL_3637f5bd5f534a2aba2148350c4f3094"
      }
     },
     "fe0cbc5fc597490490baceb459cca040": {
      "model_module": "@jupyter-widgets/controls",
      "model_module_version": "1.5.0",
      "model_name": "IntProgressModel",
      "state": {
       "bar_style": "success",
       "description": "Epoch [13/40]: 100%",
       "layout": "IPY_MODEL_d33b1cc351974f769b1b003c979cdb4c",
       "max": 241,
       "style": "IPY_MODEL_9de26acfe6e04b5292491f60c8743194",
       "value": 241
      }
     },
     "fe990ce890e1442d94727c396610137a": {
      "model_module": "@jupyter-widgets/base",
      "model_module_version": "1.2.0",
      "model_name": "LayoutModel",
      "state": {}
     },
     "febe767f068c4e7da2b4df740d8eba77": {
      "model_module": "@jupyter-widgets/controls",
      "model_module_version": "1.5.0",
      "model_name": "IntProgressModel",
      "state": {
       "bar_style": "success",
       "description": "Epoch [28/40]: 100%",
       "layout": "IPY_MODEL_c94f010465304ddfa42f24a516d4af91",
       "max": 241,
       "style": "IPY_MODEL_eb98501a316845bbb8d0ad94bbdd106b",
       "value": 241
      }
     },
     "fecb51716bfa4edbb1c95281a8d6863a": {
      "model_module": "@jupyter-widgets/controls",
      "model_module_version": "1.5.0",
      "model_name": "HTMLModel",
      "state": {
       "layout": "IPY_MODEL_ec628b001be442f98992f9b85c716b4f",
       "style": "IPY_MODEL_c3a8377a98974feb9405eb5b40ec4703",
       "value": " 289/289 [00:30&lt;00:00,  9.41it/s, acc=0.281, loss=1.59]"
      }
     },
     "ff06ec3880184a5a920b7e87f31c4790": {
      "model_module": "@jupyter-widgets/controls",
      "model_module_version": "1.5.0",
      "model_name": "DescriptionStyleModel",
      "state": {
       "description_width": ""
      }
     },
     "ff195de10d5f493d91661f6f44ae1d53": {
      "model_module": "@jupyter-widgets/controls",
      "model_module_version": "1.5.0",
      "model_name": "HBoxModel",
      "state": {
       "children": [
        "IPY_MODEL_62172606efa94ed787142fd6a72a08d4",
        "IPY_MODEL_b41112daa15145629d345a7b4d782f68"
       ],
       "layout": "IPY_MODEL_4c7f89ee47d7456eb55e8085be3763aa"
      }
     },
     "ff78d4054d1b43c0a6a767328750427f": {
      "model_module": "@jupyter-widgets/controls",
      "model_module_version": "1.5.0",
      "model_name": "IntProgressModel",
      "state": {
       "bar_style": "success",
       "description": "Epoch [29/40]: 100%",
       "layout": "IPY_MODEL_a87caf1afaf84a58bdbadc27128515f4",
       "max": 338,
       "style": "IPY_MODEL_c4e08fded6f1420590614a028c9b9f96",
       "value": 338
      }
     },
     "ff7a276c3e1a4dac9e9169b87a114717": {
      "model_module": "@jupyter-widgets/base",
      "model_module_version": "1.2.0",
      "model_name": "LayoutModel",
      "state": {}
     },
     "ff9fe7f0e66e4399a198c953715ea169": {
      "model_module": "@jupyter-widgets/controls",
      "model_module_version": "1.5.0",
      "model_name": "DescriptionStyleModel",
      "state": {
       "description_width": ""
      }
     },
     "ffa5a412dcd248bc8167cb9286a337c3": {
      "model_module": "@jupyter-widgets/base",
      "model_module_version": "1.2.0",
      "model_name": "LayoutModel",
      "state": {}
     },
     "ffb2cf6c0ff04dd6bdff5ae91156573a": {
      "model_module": "@jupyter-widgets/controls",
      "model_module_version": "1.5.0",
      "model_name": "DescriptionStyleModel",
      "state": {
       "description_width": ""
      }
     },
     "fffc7be8bc8547f9ba7f8355f0af9e21": {
      "model_module": "@jupyter-widgets/controls",
      "model_module_version": "1.5.0",
      "model_name": "HTMLModel",
      "state": {
       "layout": "IPY_MODEL_68542deaeec64077bb5e892f2b3b29b8",
       "style": "IPY_MODEL_fa666469d5654b06ad4daa1f1bc00624",
       "value": " 255/255 [00:55&lt;00:00,  4.59it/s, acc=0.988, loss=0.00423]"
      }
     }
    },
    "version_major": 2,
    "version_minor": 0
   }
  }
 },
 "nbformat": 4,
 "nbformat_minor": 2
}
