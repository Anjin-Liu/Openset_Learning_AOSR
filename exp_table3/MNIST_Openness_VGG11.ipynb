{
 "cells": [
  {
   "cell_type": "markdown",
   "metadata": {},
   "source": [
    "# Import Packages"
   ]
  },
  {
   "cell_type": "code",
   "execution_count": 1,
   "metadata": {
    "ExecuteTime": {
     "end_time": "2021-05-26T13:23:26.628324Z",
     "start_time": "2021-05-26T13:23:14.527821Z"
    }
   },
   "outputs": [],
   "source": [
    "from scipy.io import loadmat\n",
    "from sklearn.metrics import accuracy_score\n",
    "from sklearn.metrics import f1_score\n",
    "\n",
    "from tensorflow.keras import backend as K\n",
    "import tensorflow as tf\n",
    "import tarfile\n",
    "\n",
    "from torch.utils.data import TensorDataset, DataLoader\n",
    "import torch\n",
    "import torch.nn as nn\n",
    "import torch.optim as optim\n",
    "import torch.nn.functional as F\n",
    "import torch.backends.cudnn as cudnn\n",
    "import torchvision\n",
    "import torchvision.transforms as transforms\n",
    "\n",
    "from io import BytesIO\n",
    "from PIL import Image\n",
    "import gzip\n",
    "import zipfile\n",
    "import numpy as np\n",
    "import pandas as pd\n",
    "import matplotlib.pyplot as plt\n",
    "import os\n",
    "\n",
    "import data_handler as dh\n",
    "import utility_handler as uh\n",
    "import backbond_handler as bh\n",
    "\n",
    "r_seed = 0\n",
    "\n",
    "# To load known-unknown class setting as the same as\n",
    "# The details can be found here:\n",
    "# https://github.com/iCGY96/ARPL/blob/master/split.py\n",
    "num_shuffle = len(uh.splits_2020['mnist'])\n",
    "data_load_func = dh.load_mnist\n",
    "\n",
    "backbone = bh.VGG11\n",
    "device = 'cuda' if torch.cuda.is_available() else 'cpu'\n",
    "epoch_max = 120"
   ]
  },
  {
   "cell_type": "markdown",
   "metadata": {},
   "source": [
    "# Loading Data"
   ]
  },
  {
   "cell_type": "code",
   "execution_count": 2,
   "metadata": {
    "ExecuteTime": {
     "end_time": "2021-05-26T13:23:27.089111Z",
     "start_time": "2021-05-26T13:23:26.630211Z"
    }
   },
   "outputs": [],
   "source": [
    "trX, trY, teX, teY = data_load_func()"
   ]
  },
  {
   "cell_type": "markdown",
   "metadata": {},
   "source": [
    "# Encoding"
   ]
  },
  {
   "cell_type": "code",
   "execution_count": 3,
   "metadata": {
    "ExecuteTime": {
     "end_time": "2021-05-26T13:23:27.094413Z",
     "start_time": "2021-05-26T13:23:27.091055Z"
    }
   },
   "outputs": [],
   "source": [
    "num_class = 10\n",
    "label_set = np.arange(num_class)\n",
    "kn_list = uh.splits_2020['mnist']\n",
    "uk_list = []\n",
    "\n",
    "for kn_labels in kn_list:\n",
    "    temp_uk_label_list = np.setdiff1d(label_set, kn_labels)\n",
    "    uk_list.append(temp_uk_label_list.tolist())"
   ]
  },
  {
   "cell_type": "code",
   "execution_count": 4,
   "metadata": {
    "ExecuteTime": {
     "end_time": "2021-05-26T13:24:07.160152Z",
     "start_time": "2021-05-26T13:23:27.095749Z"
    },
    "scrolled": true
   },
   "outputs": [
    {
     "name": "stdout",
     "output_type": "stream",
     "text": [
      "numpy random seed 0\n",
      "Ranodm set 0\n",
      "    know classes [2, 4, 5, 9, 8, 3]\n",
      "    unkn classes [0, 1, 6, 7]\n",
      "Ranodm set 1\n",
      "    know classes [3, 2, 6, 9, 4, 0]\n",
      "    unkn classes [1, 5, 7, 8]\n",
      "Ranodm set 2\n",
      "    know classes [5, 8, 3, 2, 4, 6]\n",
      "    unkn classes [0, 1, 7, 9]\n",
      "Ranodm set 3\n",
      "    know classes [3, 7, 8, 4, 0, 5]\n",
      "    unkn classes [1, 2, 6, 9]\n",
      "Ranodm set 4\n",
      "    know classes [6, 3, 4, 9, 8, 2]\n",
      "    unkn classes [0, 1, 5, 7]\n",
      "channel 1\n",
      "99.32191896931684 tensor(0.0195, device='cuda:0', grad_fn=<NllLossBackward>)\n",
      "99.64830011723329 tensor(0.0311, device='cuda:0', grad_fn=<NllLossBackward>)\n",
      "99.57250341997263 tensor(0.0011, device='cuda:0', grad_fn=<NllLossBackward>)\n",
      "99.64200477326969 tensor(0.0017, device='cuda:0', grad_fn=<NllLossBackward>)\n",
      "99.24559932942162 tensor(0.0135, device='cuda:0', grad_fn=<NllLossBackward>)\n"
     ]
    }
   ],
   "source": [
    "# ====================================================== #\n",
    "# random split 10 classes into 6 known 4 unknown classes #\n",
    "# ====================================================== #\n",
    "dataset_X_dict, dataset_Y_dict = uh.split_know_unkn_mnist_svhn_cifar10(\n",
    "    trX,\n",
    "    trY,\n",
    "    teX,\n",
    "    teY,\n",
    "    num_shuffle=num_shuffle,\n",
    "    know_class_list=kn_list,\n",
    "    unkn_class_list=uk_list,\n",
    "    r_seed=0)\n",
    "\n",
    "# ============= #\n",
    "# build encoder #\n",
    "# ============= #\n",
    "encoder_list = bh.build_encoder(dataset_X_dict,\n",
    "                                dataset_Y_dict,\n",
    "                                backbone,\n",
    "                                device,\n",
    "                                r_seed,\n",
    "                                epoch_max,\n",
    "                                'minist',\n",
    "                                lr=0.01)\n",
    "\n",
    "# ============= #\n",
    "# encode images #\n",
    "# ============= #\n",
    "kn_trX_encode_list = []\n",
    "kn_teX_encode_list = []\n",
    "uk_teX_encode_list = []\n",
    "\n",
    "# shuffle is enabled during traing\n",
    "# therefore, we need to store the label at encoding stage\n",
    "kn_trY_encode_list = []\n",
    "kn_teY_encode_list = []\n",
    "uk_teY_encode_list = []\n",
    "\n",
    "for idx, encoder in enumerate(encoder_list):\n",
    "    kn_tr_Dataset = bh.image_data_to_dataloader(dataset_X_dict['kn_tr'][idx],\n",
    "                                                dataset_Y_dict['kn_tr'][idx],\n",
    "                                                128)\n",
    "    kn_te_Dataset = bh.image_data_to_dataloader(dataset_X_dict['kn_te'][idx],\n",
    "                                                dataset_Y_dict['kn_te'][idx],\n",
    "                                                128)\n",
    "    uk_te_Dataset = bh.image_data_to_dataloader(dataset_X_dict['uk_te'][idx],\n",
    "                                                dataset_Y_dict['uk_te'][idx],\n",
    "                                                128)\n",
    "\n",
    "    kn_tr_encode_XY = bh.encoding(kn_tr_Dataset, encoder, device)\n",
    "    kn_te_encode_XY = bh.encoding(kn_te_Dataset, encoder, device)\n",
    "    uk_te_encode_XY = bh.encoding(uk_te_Dataset, encoder, device)\n",
    "\n",
    "    kn_trX_encode_list.append(kn_tr_encode_XY[:, :-1])\n",
    "    kn_teX_encode_list.append(kn_te_encode_XY[:, :-1])\n",
    "    uk_teX_encode_list.append(uk_te_encode_XY[:, :-1])\n",
    "\n",
    "    kn_trY_encode_list.append(kn_tr_encode_XY[:, -1])\n",
    "    kn_teY_encode_list.append(kn_te_encode_XY[:, -1])\n",
    "    uk_teY_encode_list.append(uk_te_encode_XY[:, -1])"
   ]
  },
  {
   "cell_type": "markdown",
   "metadata": {},
   "source": [
    "# Open-set Enrichment"
   ]
  },
  {
   "cell_type": "code",
   "execution_count": 5,
   "metadata": {
    "ExecuteTime": {
     "end_time": "2021-05-26T13:24:24.423805Z",
     "start_time": "2021-05-26T13:24:07.161853Z"
    }
   },
   "outputs": [
    {
     "name": "stdout",
     "output_type": "stream",
     "text": [
      "(88111,)\n",
      "(93328,)\n",
      "(87921,)\n",
      "(88706,)\n",
      "(88637,)\n"
     ]
    }
   ],
   "source": [
    "from aosr_utility import sample_enrichment_IF\n",
    "\n",
    "kn_trX_encode_zqX_list = []\n",
    "kn_trX_encode_zqW_list = []\n",
    "\n",
    "for i in range(num_shuffle):\n",
    "    encX = kn_trX_encode_list[i]\n",
    "    zqX, zqW = sample_enrichment_IF(0, encX, encX.shape[0] * 3)\n",
    "    zqW = 1 - zqW * 1.0\n",
    "\n",
    "    tau = np.sort(zqW)[int(zqW.shape[0] * .001)]\n",
    "\n",
    "    # Unknown Samples\n",
    "    cond1 = (zqW > tau)\n",
    "    cond1 = np.squeeze(cond1)\n",
    "    # Known Samples\n",
    "    cond2 = (zqW <= tau)\n",
    "    cond2 = np.squeeze(cond2)\n",
    "    # Wipe Known Samples\n",
    "    zqW[cond2] = 0\n",
    "    # Balance the weights\n",
    "    zqW = zqW * (zqW.shape[0] / zqW.sum())\n",
    "\n",
    "    kn_trX_encode_zqX_list.append(zqX)\n",
    "    kn_trX_encode_zqW_list.append(zqW)"
   ]
  },
  {
   "cell_type": "markdown",
   "metadata": {},
   "source": [
    "# Open-set Learning"
   ]
  },
  {
   "cell_type": "code",
   "execution_count": 6,
   "metadata": {
    "ExecuteTime": {
     "end_time": "2021-05-26T13:29:46.014811Z",
     "start_time": "2021-05-26T13:24:24.425877Z"
    },
    "scrolled": true
   },
   "outputs": [
    {
     "name": "stdout",
     "output_type": "stream",
     "text": [
      "0.05 6\n",
      "Epoch 1/2\n",
      "1099/1099 [==============================] - 2s 895us/step - loss: 2.7778 - accuracy: 0.6093\n",
      "Epoch 2/2\n",
      "1099/1099 [==============================] - 1s 892us/step - loss: 0.0337 - accuracy: 0.9944\n",
      "Epoch 1/100\n",
      "1099/1099 [==============================] - 2s 2ms/step - loss: 1447493158.9818 - accuracy: 0.9954\n",
      "Epoch 2/100\n",
      "1099/1099 [==============================] - 2s 2ms/step - loss: 2477.3174 - accuracy: 0.9959\n",
      "Epoch 3/100\n",
      "1099/1099 [==============================] - 2s 2ms/step - loss: 2477.2034 - accuracy: 0.9953\n",
      "Epoch 4/100\n",
      "1099/1099 [==============================] - 2s 2ms/step - loss: 2476.9187 - accuracy: 0.9963\n",
      "Epoch 5/100\n",
      "1099/1099 [==============================] - 2s 2ms/step - loss: 2476.3729 - accuracy: 0.9956\n",
      "Epoch 6/100\n",
      "1099/1099 [==============================] - 2s 2ms/step - loss: 2475.2209 - accuracy: 0.9951\n",
      "Epoch 7/100\n",
      "1099/1099 [==============================] - 2s 2ms/step - loss: 2473.3253 - accuracy: 0.9948\n",
      "Epoch 8/100\n",
      "1099/1099 [==============================] - 2s 2ms/step - loss: 2469.1656 - accuracy: 0.9954\n",
      "Epoch 9/100\n",
      "1099/1099 [==============================] - 2s 2ms/step - loss: 2274.9149 - accuracy: 0.9953\n",
      "Epoch 10/100\n",
      "1099/1099 [==============================] - 2s 2ms/step - loss: 2266.4668 - accuracy: 0.9949\n",
      "Epoch 11/100\n",
      "1099/1099 [==============================] - 2s 2ms/step - loss: 2046.9873 - accuracy: 0.9953\n",
      "Epoch 12/100\n",
      "1099/1099 [==============================] - 2s 2ms/step - loss: 1808.9580 - accuracy: 0.9953\n",
      "Epoch 13/100\n",
      "1099/1099 [==============================] - 2s 2ms/step - loss: 1627.3319 - accuracy: 0.9952\n",
      "Epoch 14/100\n",
      "1099/1099 [==============================] - 2s 2ms/step - loss: 1185.9940 - accuracy: 0.9952\n",
      "Epoch 15/100\n",
      "1099/1099 [==============================] - 2s 2ms/step - loss: 875.6568 - accuracy: 0.9949\n",
      "Epoch 16/100\n",
      "1099/1099 [==============================] - 2s 2ms/step - loss: 635.4130 - accuracy: 0.9946\n",
      "Epoch 17/100\n",
      "1099/1099 [==============================] - 2s 2ms/step - loss: 405.5173 - accuracy: 0.9955\n",
      "Epoch 18/100\n",
      "1099/1099 [==============================] - 2s 2ms/step - loss: 245.2803 - accuracy: 0.9933\n",
      "Epoch 19/100\n",
      "1099/1099 [==============================] - 2s 2ms/step - loss: 169.0044 - accuracy: 0.9940\n",
      "Epoch 20/100\n",
      "1099/1099 [==============================] - 2s 2ms/step - loss: 104.4848 - accuracy: 0.9916\n",
      "Epoch 21/100\n",
      "1099/1099 [==============================] - 2s 2ms/step - loss: 58.4085 - accuracy: 0.9877\n",
      "Epoch 22/100\n",
      "1099/1099 [==============================] - 2s 2ms/step - loss: 32.2092 - accuracy: 0.9832\n",
      "Epoch 23/100\n",
      "1099/1099 [==============================] - 2s 2ms/step - loss: 17.4218 - accuracy: 0.9736\n",
      "Epoch 24/100\n",
      "1099/1099 [==============================] - 2s 2ms/step - loss: 9.5354 - accuracy: 0.9587\n",
      "Epoch 25/100\n",
      "1099/1099 [==============================] - 2s 2ms/step - loss: 5.9545 - accuracy: 0.9438\n",
      "Epoch 00024: early stopping\n",
      "Epoch 1/2\n",
      "1117/1117 [==============================] - 1s 913us/step - loss: 4.0693 - accuracy: 0.5072\n",
      "Epoch 2/2\n",
      "1117/1117 [==============================] - 1s 934us/step - loss: 0.0327 - accuracy: 0.9971\n",
      "Epoch 1/100\n",
      "1117/1117 [==============================] - 2s 2ms/step - loss: 2103478937.6458 - accuracy: 0.9978\n",
      "Epoch 2/100\n",
      "1117/1117 [==============================] - 2s 2ms/step - loss: 8497.5954 - accuracy: 0.9979\n",
      "Epoch 3/100\n",
      "1117/1117 [==============================] - 2s 2ms/step - loss: 8496.2025 - accuracy: 0.9977\n",
      "Epoch 4/100\n",
      "1117/1117 [==============================] - 2s 2ms/step - loss: 8493.5465 - accuracy: 0.9975\n",
      "Epoch 5/100\n",
      "1117/1117 [==============================] - 2s 2ms/step - loss: 8488.7724 - accuracy: 0.9980\n",
      "Epoch 6/100\n",
      "1117/1117 [==============================] - 2s 2ms/step - loss: 8480.3885 - accuracy: 0.9980\n",
      "Epoch 7/100\n",
      "1117/1117 [==============================] - 2s 2ms/step - loss: 8465.7608 - accuracy: 0.9979\n",
      "Epoch 8/100\n",
      "1117/1117 [==============================] - 2s 2ms/step - loss: 8128.0209 - accuracy: 0.9983\n",
      "Epoch 9/100\n",
      "1117/1117 [==============================] - 2s 2ms/step - loss: 6712.3653 - accuracy: 0.9973\n",
      "Epoch 10/100\n",
      "1117/1117 [==============================] - 2s 2ms/step - loss: 5495.5045 - accuracy: 0.9974\n",
      "Epoch 11/100\n",
      "1117/1117 [==============================] - 2s 2ms/step - loss: 4680.5829 - accuracy: 0.9980\n",
      "Epoch 12/100\n",
      "1117/1117 [==============================] - 2s 2ms/step - loss: 3961.4057 - accuracy: 0.9979\n",
      "Epoch 13/100\n",
      "1117/1117 [==============================] - 2s 2ms/step - loss: 2325.4932 - accuracy: 0.9978\n",
      "Epoch 14/100\n",
      "1117/1117 [==============================] - 2s 2ms/step - loss: 1707.3808 - accuracy: 0.9981\n",
      "Epoch 15/100\n",
      "1117/1117 [==============================] - 2s 2ms/step - loss: 1133.7139 - accuracy: 0.9976\n",
      "Epoch 16/100\n",
      "1117/1117 [==============================] - 2s 2ms/step - loss: 708.4547 - accuracy: 0.9973\n",
      "Epoch 17/100\n",
      "1117/1117 [==============================] - 2s 2ms/step - loss: 406.1029 - accuracy: 0.9963\n",
      "Epoch 18/100\n",
      "1117/1117 [==============================] - 2s 2ms/step - loss: 229.5623 - accuracy: 0.9947\n",
      "Epoch 19/100\n",
      "1117/1117 [==============================] - 2s 2ms/step - loss: 126.1966 - accuracy: 0.9924\n",
      "Epoch 20/100\n",
      "1117/1117 [==============================] - 2s 2ms/step - loss: 71.2983 - accuracy: 0.9882\n",
      "Epoch 21/100\n",
      "1117/1117 [==============================] - 2s 2ms/step - loss: 45.0956 - accuracy: 0.9832A: 1s - loss: \n",
      "Epoch 22/100\n",
      "1117/1117 [==============================] - 2s 2ms/step - loss: 30.8466 - accuracy: 0.9780\n",
      "Epoch 23/100\n",
      "1117/1117 [==============================] - 2s 2ms/step - loss: 21.7085 - accuracy: 0.9708\n",
      "Epoch 24/100\n",
      "1117/1117 [==============================] - 2s 2ms/step - loss: 15.1478 - accuracy: 0.9632\n",
      "Epoch 25/100\n",
      "1117/1117 [==============================] - 2s 2ms/step - loss: 11.0083 - accuracy: 0.9546\n",
      "Epoch 26/100\n",
      "1117/1117 [==============================] - 2s 2ms/step - loss: 8.7096 - accuracy: 0.9550\n",
      "Epoch 27/100\n",
      "1117/1117 [==============================] - 2s 2ms/step - loss: 6.2837 - accuracy: 0.9606\n",
      "Epoch 28/100\n",
      "1117/1117 [==============================] - 2s 2ms/step - loss: 3.1178 - accuracy: 0.9504\n",
      "Epoch 00025: early stopping\n",
      "Epoch 1/2\n",
      "1098/1098 [==============================] - 2s 1ms/step - loss: 4.0991 - accuracy: 0.5065\n",
      "Epoch 2/2\n",
      "1098/1098 [==============================] - 1s 933us/step - loss: 0.0323 - accuracy: 0.9964\n",
      "Epoch 1/100\n",
      "1098/1098 [==============================] - 3s 2ms/step - loss: 1630238796.2002 - accuracy: 0.9978\n",
      "Epoch 2/100\n",
      "1098/1098 [==============================] - 2s 2ms/step - loss: 371.2586 - accuracy: 0.9967\n",
      "Epoch 3/100\n",
      "1098/1098 [==============================] - 3s 2ms/step - loss: 371.2559 - accuracy: 0.9964\n",
      "Epoch 4/100\n",
      "1098/1098 [==============================] - 3s 2ms/step - loss: 371.2463 - accuracy: 0.9964\n",
      "Epoch 5/100\n",
      "1098/1098 [==============================] - 2s 2ms/step - loss: 371.2203 - accuracy: 0.9968\n",
      "Epoch 6/100\n",
      "1098/1098 [==============================] - 3s 3ms/step - loss: 371.1688 - accuracy: 0.9971\n",
      "Epoch 7/100\n",
      "1098/1098 [==============================] - 2s 2ms/step - loss: 371.0653 - accuracy: 0.9965\n",
      "Epoch 8/100\n",
      "1098/1098 [==============================] - 2s 2ms/step - loss: 368.9687 - accuracy: 0.9968\n",
      "Epoch 9/100\n",
      "1098/1098 [==============================] - 2s 2ms/step - loss: 360.2000 - accuracy: 0.9973\n",
      "Epoch 10/100\n",
      "1098/1098 [==============================] - 3s 3ms/step - loss: 351.2998 - accuracy: 0.9968\n",
      "Epoch 11/100\n",
      "1098/1098 [==============================] - 2s 2ms/step - loss: 339.4817 - accuracy: 0.9963\n",
      "Epoch 12/100\n",
      "1098/1098 [==============================] - 2s 2ms/step - loss: 328.3254 - accuracy: 0.9967\n",
      "Epoch 13/100\n",
      "1098/1098 [==============================] - 3s 2ms/step - loss: 297.5571 - accuracy: 0.9968\n",
      "Epoch 14/100\n",
      "1098/1098 [==============================] - 3s 3ms/step - loss: 262.7662 - accuracy: 0.9964\n",
      "Epoch 15/100\n",
      "1098/1098 [==============================] - 2s 2ms/step - loss: 199.5690 - accuracy: 0.9966\n",
      "Epoch 16/100\n",
      "1098/1098 [==============================] - 2s 2ms/step - loss: 145.8923 - accuracy: 0.9959\n",
      "Epoch 17/100\n",
      "1098/1098 [==============================] - 2s 2ms/step - loss: 104.8605 - accuracy: 0.9945\n",
      "Epoch 18/100\n",
      "1098/1098 [==============================] - 3s 3ms/step - loss: 76.3048 - accuracy: 0.9936\n",
      "Epoch 19/100\n",
      "1098/1098 [==============================] - 2s 2ms/step - loss: 50.8773 - accuracy: 0.9913\n",
      "Epoch 20/100\n",
      "1098/1098 [==============================] - 2s 2ms/step - loss: 29.9488 - accuracy: 0.9886\n",
      "Epoch 21/100\n",
      "1098/1098 [==============================] - 2s 2ms/step - loss: 18.5893 - accuracy: 0.9830\n",
      "Epoch 22/100\n",
      "1098/1098 [==============================] - 2s 2ms/step - loss: 11.9786 - accuracy: 0.9766\n",
      "Epoch 23/100\n",
      "1098/1098 [==============================] - 2s 2ms/step - loss: 8.1794 - accuracy: 0.9681\n",
      "Epoch 24/100\n",
      "1098/1098 [==============================] - 2s 2ms/step - loss: 6.1814 - accuracy: 0.9629\n",
      "Epoch 25/100\n",
      "1098/1098 [==============================] - 2s 2ms/step - loss: 4.9439 - accuracy: 0.9621\n",
      "Epoch 26/100\n",
      "1098/1098 [==============================] - 2s 2ms/step - loss: 3.9995 - accuracy: 0.9616\n",
      "Epoch 27/100\n",
      "1098/1098 [==============================] - 2s 2ms/step - loss: 2.6670 - accuracy: 0.9589\n",
      "Epoch 28/100\n",
      "1098/1098 [==============================] - 2s 2ms/step - loss: 1.4006 - accuracy: 0.9343\n",
      "Epoch 00027: early stopping\n",
      "Epoch 1/2\n",
      "1108/1108 [==============================] - 1s 923us/step - loss: 2.6280 - accuracy: 0.5939\n",
      "Epoch 2/2\n",
      "1108/1108 [==============================] - 1s 924us/step - loss: 0.0277 - accuracy: 0.9952\n",
      "Epoch 1/100\n",
      "1108/1108 [==============================] - 2s 2ms/step - loss: 1129618484.5446 - accuracy: 0.9974\n",
      "Epoch 2/100\n",
      "1108/1108 [==============================] - 2s 2ms/step - loss: 13487.1959 - accuracy: 0.9968\n",
      "Epoch 3/100\n",
      "1108/1108 [==============================] - 2s 2ms/step - loss: 13479.8285 - accuracy: 0.9970\n",
      "Epoch 4/100\n",
      "1108/1108 [==============================] - 2s 2ms/step - loss: 13467.2035 - accuracy: 0.9974\n",
      "Epoch 5/100\n",
      "1108/1108 [==============================] - 2s 2ms/step - loss: 13444.5109 - accuracy: 0.9972\n",
      "Epoch 6/100\n",
      "1108/1108 [==============================] - 3s 2ms/step - loss: 13404.9107 - accuracy: 0.9971\n",
      "Epoch 7/100\n",
      "1108/1108 [==============================] - 3s 3ms/step - loss: 13335.8569 - accuracy: 0.9972\n",
      "Epoch 8/100\n",
      "1108/1108 [==============================] - 3s 3ms/step - loss: 13215.6205 - accuracy: 0.9973\n",
      "Epoch 9/100\n",
      "1108/1108 [==============================] - 3s 2ms/step - loss: 13006.3917 - accuracy: 0.9976\n",
      "Epoch 10/100\n",
      "1108/1108 [==============================] - 3s 3ms/step - loss: 7847.2603 - accuracy: 0.9976\n",
      "Epoch 11/100\n",
      "1108/1108 [==============================] - 3s 3ms/step - loss: 4253.1911 - accuracy: 0.9970\n",
      "Epoch 12/100\n",
      "1108/1108 [==============================] - 3s 3ms/step - loss: 2892.3017 - accuracy: 0.9969\n",
      "Epoch 13/100\n",
      "1108/1108 [==============================] - 3s 3ms/step - loss: 2030.8218 - accuracy: 0.9968\n",
      "Epoch 14/100\n",
      "1108/1108 [==============================] - 3s 3ms/step - loss: 1443.0124 - accuracy: 0.9969\n",
      "Epoch 15/100\n",
      "1108/1108 [==============================] - 3s 3ms/step - loss: 999.8864 - accuracy: 0.9972\n",
      "Epoch 16/100\n",
      "1108/1108 [==============================] - 3s 2ms/step - loss: 653.7330 - accuracy: 0.9966\n",
      "Epoch 17/100\n",
      "1108/1108 [==============================] - 3s 2ms/step - loss: 473.5916 - accuracy: 0.9968\n",
      "Epoch 18/100\n",
      "1108/1108 [==============================] - 3s 2ms/step - loss: 269.4203 - accuracy: 0.9959\n",
      "Epoch 19/100\n",
      "1108/1108 [==============================] - 3s 2ms/step - loss: 148.0971 - accuracy: 0.9956\n",
      "Epoch 20/100\n",
      "1108/1108 [==============================] - 3s 3ms/step - loss: 67.7513 - accuracy: 0.9932\n",
      "Epoch 21/100\n",
      "1108/1108 [==============================] - 3s 3ms/step - loss: 33.9686 - accuracy: 0.9907\n",
      "Epoch 22/100\n",
      "1108/1108 [==============================] - 3s 3ms/step - loss: 17.4877 - accuracy: 0.9860\n",
      "Epoch 23/100\n",
      "1108/1108 [==============================] - 3s 2ms/step - loss: 8.7403 - accuracy: 0.9774\n",
      "Epoch 24/100\n",
      "1108/1108 [==============================] - 3s 3ms/step - loss: 5.0246 - accuracy: 0.9687\n",
      "Epoch 25/100\n",
      "1108/1108 [==============================] - 3s 3ms/step - loss: 3.2046 - accuracy: 0.9592\n",
      "Epoch 26/100\n",
      "1108/1108 [==============================] - 3s 3ms/step - loss: 2.0777 - accuracy: 0.9457\n",
      "Epoch 00025: early stopping\n",
      "Epoch 1/2\n",
      "1115/1115 [==============================] - 2s 1ms/step - loss: 4.0160 - accuracy: 0.5319\n",
      "Epoch 2/2\n",
      "1115/1115 [==============================] - 1s 1ms/step - loss: 0.0417 - accuracy: 0.9934\n",
      "Epoch 1/100\n",
      "1115/1115 [==============================] - 3s 3ms/step - loss: 1196705633.9211 - accuracy: 0.9960\n",
      "Epoch 2/100\n",
      "1115/1115 [==============================] - 3s 3ms/step - loss: 5775.1430 - accuracy: 0.9953\n",
      "Epoch 3/100\n",
      "1115/1115 [==============================] - 3s 3ms/step - loss: 5773.5899 - accuracy: 0.9959\n",
      "Epoch 4/100\n",
      "1115/1115 [==============================] - 3s 3ms/step - loss: 5770.2738 - accuracy: 0.9958\n",
      "Epoch 5/100\n",
      "1115/1115 [==============================] - 3s 2ms/step - loss: 5764.6302 - accuracy: 0.9960\n",
      "Epoch 6/100\n",
      "1115/1115 [==============================] - 3s 3ms/step - loss: 5754.6624 - accuracy: 0.9957\n",
      "Epoch 7/100\n",
      "1115/1115 [==============================] - 3s 2ms/step - loss: 5737.2531 - accuracy: 0.9956\n",
      "Epoch 8/100\n",
      "1115/1115 [==============================] - 3s 3ms/step - loss: 5706.9054 - accuracy: 0.9961\n",
      "Epoch 9/100\n",
      "1115/1115 [==============================] - 3s 2ms/step - loss: 5654.0845 - accuracy: 0.9956\n",
      "Epoch 10/100\n",
      "1115/1115 [==============================] - 3s 3ms/step - loss: 5562.4380 - accuracy: 0.9957\n",
      "Epoch 11/100\n",
      "1115/1115 [==============================] - 3s 3ms/step - loss: 4665.9146 - accuracy: 0.9955\n",
      "Epoch 12/100\n",
      "1115/1115 [==============================] - 3s 2ms/step - loss: 2557.4540 - accuracy: 0.9956\n",
      "Epoch 13/100\n",
      "1115/1115 [==============================] - 3s 2ms/step - loss: 1672.0893 - accuracy: 0.9953\n",
      "Epoch 14/100\n",
      "1115/1115 [==============================] - 3s 2ms/step - loss: 1069.8286 - accuracy: 0.9960\n",
      "Epoch 15/100\n",
      "1115/1115 [==============================] - 3s 2ms/step - loss: 644.3841 - accuracy: 0.9952\n",
      "Epoch 16/100\n",
      "1115/1115 [==============================] - 3s 2ms/step - loss: 427.2874 - accuracy: 0.9953\n",
      "Epoch 17/100\n",
      "1115/1115 [==============================] - 3s 2ms/step - loss: 290.1564 - accuracy: 0.9946\n",
      "Epoch 18/100\n",
      "1115/1115 [==============================] - 3s 2ms/step - loss: 183.9176 - accuracy: 0.9945\n",
      "Epoch 19/100\n",
      "1115/1115 [==============================] - 3s 2ms/step - loss: 112.3516 - accuracy: 0.9936\n",
      "Epoch 20/100\n",
      "1115/1115 [==============================] - 3s 2ms/step - loss: 60.1444 - accuracy: 0.9913\n",
      "Epoch 21/100\n",
      "1115/1115 [==============================] - 3s 3ms/step - loss: 26.4692 - accuracy: 0.9865\n",
      "Epoch 22/100\n",
      "1115/1115 [==============================] - 3s 3ms/step - loss: 12.8067 - accuracy: 0.9780\n",
      "Epoch 23/100\n",
      "1115/1115 [==============================] - 3s 2ms/step - loss: 8.0372 - accuracy: 0.9663\n",
      "Epoch 24/100\n",
      "1115/1115 [==============================] - 2s 2ms/step - loss: 6.0611 - accuracy: 0.9602\n",
      "Epoch 25/100\n",
      "1115/1115 [==============================] - 2s 2ms/step - loss: 4.8753 - accuracy: 0.9606\n",
      "Epoch 26/100\n",
      "1115/1115 [==============================] - 3s 2ms/step - loss: 3.7968 - accuracy: 0.9618\n",
      "Epoch 27/100\n",
      "1115/1115 [==============================] - 3s 3ms/step - loss: 2.6071 - accuracy: 0.9641\n",
      "Epoch 28/100\n",
      "1115/1115 [==============================] - 3s 3ms/step - loss: 1.5290 - accuracy: 0.9527\n",
      "Epoch 00027: early stopping\n"
     ]
    }
   ],
   "source": [
    "from aosr_utility import aosr_risk, EarlyStoppingBeforeOverfit\n",
    "from sklearn.preprocessing import LabelEncoder\n",
    "\n",
    "for i in range(num_shuffle):\n",
    "    le = LabelEncoder()\n",
    "    kn_trY_encode_list[i] = le.fit_transform(kn_trY_encode_list[i])\n",
    "    kn_teY_encode_list[i] = le.transform(kn_teY_encode_list[i])\n",
    "\n",
    "\n",
    "def build_openset_learner(zpX, zpY, zqX, zqW, mu, num_class):\n",
    "\n",
    "    bh.set_random_seed(r_seed, device)\n",
    "\n",
    "    detector = tf.keras.models.Sequential([\n",
    "        tf.keras.layers.Dense(num_class + 1),\n",
    "        tf.keras.layers.Activation(activation='softmax')\n",
    "    ])\n",
    "\n",
    "    detector.compile(optimizer='adam',\n",
    "                     loss='sparse_categorical_crossentropy',\n",
    "                     metrics=['accuracy'])\n",
    "    detector.fit(zpX, zpY * 1.0, epochs=2)\n",
    "\n",
    "    detector.compile(optimizer='adam',\n",
    "                     loss=aosr_risk(detector, zqX, zqW, zpX, mu, num_class),\n",
    "                     metrics=['accuracy'])\n",
    "\n",
    "    K.set_value(detector.optimizer.learning_rate, 0.001)\n",
    "    detector.fit(zpX,\n",
    "                 zpY,\n",
    "                 epochs=100,\n",
    "                 callbacks=[EarlyStoppingBeforeOverfit()])\n",
    "    return detector\n",
    "\n",
    "\n",
    "mu = 0.05\n",
    "num_class = np.unique(kn_trY_encode_list[0]).shape[0]\n",
    "print(mu, num_class)\n",
    "detector_list = []\n",
    "\n",
    "for i in range(num_shuffle):\n",
    "\n",
    "    zpX = kn_trX_encode_list[i]\n",
    "    zpY = kn_trY_encode_list[i]\n",
    "    zqX = kn_trX_encode_zqX_list[i]\n",
    "    zqW = kn_trX_encode_zqW_list[i]\n",
    "    detector = build_openset_learner(zpX, zpY, zqX, zqW, mu, num_class)\n",
    "    detector_list.append(detector)"
   ]
  },
  {
   "cell_type": "markdown",
   "metadata": {},
   "source": [
    "# Evaluation"
   ]
  },
  {
   "cell_type": "code",
   "execution_count": 7,
   "metadata": {
    "ExecuteTime": {
     "end_time": "2021-05-26T13:29:46.018951Z",
     "start_time": "2021-05-26T13:29:46.016269Z"
    }
   },
   "outputs": [],
   "source": [
    "from sklearn.metrics import roc_auc_score\n",
    "from sklearn.metrics import accuracy_score\n",
    "from sklearn import metrics\n",
    "from sklearn.metrics import f1_score"
   ]
  },
  {
   "cell_type": "code",
   "execution_count": 8,
   "metadata": {
    "ExecuteTime": {
     "end_time": "2021-05-26T13:29:47.353104Z",
     "start_time": "2021-05-26T13:29:46.020485Z"
    }
   },
   "outputs": [],
   "source": [
    "actY_list = []\n",
    "preY_list = []\n",
    "\n",
    "actY_know_list = []\n",
    "preY_know_list = []\n",
    "\n",
    "actY_binary_list = []\n",
    "preY_binary_list = []\n",
    "\n",
    "for i in range(num_shuffle):\n",
    "    \n",
    "    actY = np.zeros(kn_teX_encode_list[i].shape[0] + uk_teX_encode_list[i].shape[0])\n",
    "    actY[:kn_teX_encode_list[i].shape[0]] = kn_teY_encode_list[i]\n",
    "    actY[kn_teX_encode_list[i].shape[0]:] = num_class\n",
    "    \n",
    "    kn_preY = detector_list[i].predict(kn_teX_encode_list[i])\n",
    "    uk_preY = detector_list[i].predict(uk_teX_encode_list[i])\n",
    "    preY = np.concatenate([kn_preY, uk_preY], axis=0)\n",
    "    \n",
    "    actY_know_list.append(kn_teY_encode_list[i])\n",
    "    preY_know_list.append(kn_preY.argmax(axis=1))\n",
    "    \n",
    "    actY_list.append(actY)\n",
    "    preY_list.append(preY)\n",
    "    \n",
    "    actY_bi = np.array(actY)\n",
    "    preY_bi = preY[:, -1]\n",
    "    \n",
    "    actY_bi[actY_bi<6] = 0\n",
    "    actY_bi[actY_bi==6] = 1\n",
    "    \n",
    "    actY_binary_list.append(actY_bi)\n",
    "    preY_binary_list.append(preY_bi)"
   ]
  },
  {
   "cell_type": "code",
   "execution_count": 9,
   "metadata": {
    "ExecuteTime": {
     "end_time": "2021-05-26T13:29:47.494818Z",
     "start_time": "2021-05-26T13:29:47.354586Z"
    }
   },
   "outputs": [
    {
     "name": "stdout",
     "output_type": "stream",
     "text": [
      "shuffle 0\n",
      "    acc score 0.9413459908459061\n",
      "    acc known 0.998062015503876\n",
      "    acc uknow 0.997029702970297\n",
      "    f1 macro score 0.8597360884325017\n",
      "    auc only score 0.8970506492716808\n",
      "    auc multi-score 0.9558772763735826\n",
      "    auc binary score 0.8970506492716808\n",
      "shuffle 1\n",
      "    acc score 0.9542790152403282\n",
      "    acc known 0.773469387755102\n",
      "    acc uknow 0.997093023255814\n",
      "    f1 macro score 0.7172609526877307\n",
      "    auc only score 0.6269517734824799\n",
      "    auc multi-score 0.8477966198546079\n",
      "    auc binary score 0.6269517734824799\n",
      "shuffle 2\n",
      "    acc score 0.9423734610123119\n",
      "    acc known 0.9951550387596899\n",
      "    acc uknow 0.9445544554455445\n",
      "    f1 macro score 0.8710858403886866\n",
      "    auc only score 0.8988156985640068\n",
      "    auc multi-score 0.9567316725673937\n",
      "    auc binary score 0.8988156985640068\n",
      "shuffle 3\n",
      "    acc score 0.9555063075349471\n",
      "    acc known 0.9795918367346939\n",
      "    acc uknow 0.9752475247524752\n",
      "    f1 macro score 0.8898850017858004\n",
      "    auc only score 0.9090221856917043\n",
      "    auc multi-score 0.9602032859425832\n",
      "    auc binary score 0.9090221856917043\n",
      "shuffle 4\n",
      "    acc score 0.9572506286672254\n",
      "    acc known 0.9903100775193798\n",
      "    acc uknow 0.9712871287128713\n",
      "    f1 macro score 0.9124082124090169\n",
      "    auc only score 0.9563964098712959\n",
      "    auc multi-score 0.9813436671540853\n",
      "    auc binary score 0.9563964098712959\n",
      "Avg F1 0.8500752191407474, 0.06876718522402692\n",
      "Avg AUC 0.8576473433762336, 0.11735301658632076\n",
      "Avg Accurac 0.9403905043784505, 0.047223318795821444\n",
      "Avg ROC_AUC 0.8576473433762336, 0.11735301658632076\n"
     ]
    }
   ],
   "source": [
    "acc_list = []\n",
    "auc_bi_list = []\n",
    "auc_list = []\n",
    "f1_list = []\n",
    "for i in range(num_shuffle):\n",
    "    print(f'shuffle {i}')\n",
    "    print('    acc score', accuracy_score(actY_know_list[i], preY_know_list[i]))\n",
    "    print('    acc known', accuracy_score(actY_know_list[i][actY_know_list[i]==0], preY_know_list[i][actY_know_list[i]==0]))\n",
    "    print('    acc uknow', accuracy_score(actY_know_list[i][actY_know_list[i]==1], preY_know_list[i][actY_know_list[i]==1]))\n",
    "    acc_list.append(roc_auc_score(actY_list[i], preY_list[i], multi_class='ovr', average='weighted'))\n",
    "    auc_bi_list.append(roc_auc_score(actY_binary_list[i], preY_binary_list[i]))\n",
    "    fpr, tpr, thresholds = metrics.roc_curve(actY_binary_list[i], preY_binary_list[i], pos_label=1)\n",
    "    auc_list.append(metrics.auc(fpr, tpr))\n",
    "    f1_list.append(f1_score(actY_list[i], preY_list[i].argmax(1), average='macro'))\n",
    "    print('    f1 macro score', f1_list[i])\n",
    "    print('    auc only score', auc_list[i])\n",
    "    print('    auc multi-score', acc_list[i])\n",
    "    print('    auc binary score', auc_bi_list[i])\n",
    "print(f'Avg F1 {np.mean(f1_list)}, {np.std(f1_list)}')\n",
    "print(f'Avg AUC {np.mean(auc_list)}, {np.std(auc_list)}')\n",
    "print(f'Avg Accurac {np.mean(acc_list)}, {np.std(acc_list)}')\n",
    "print(f'Avg ROC_AUC {np.mean(auc_bi_list)}, {np.std(auc_bi_list)}')"
   ]
  }
 ],
 "metadata": {
  "kernelspec": {
   "display_name": "Python 3",
   "language": "python",
   "name": "python3"
  },
  "language_info": {
   "codemirror_mode": {
    "name": "ipython",
    "version": 3
   },
   "file_extension": ".py",
   "mimetype": "text/x-python",
   "name": "python",
   "nbconvert_exporter": "python",
   "pygments_lexer": "ipython3",
   "version": "3.6.8"
  },
  "toc": {
   "base_numbering": 1,
   "nav_menu": {},
   "number_sections": true,
   "sideBar": true,
   "skip_h1_title": false,
   "title_cell": "Table of Contents",
   "title_sidebar": "Contents",
   "toc_cell": false,
   "toc_position": {
    "height": "calc(100% - 180px)",
    "left": "10px",
    "top": "150px",
    "width": "384px"
   },
   "toc_section_display": true,
   "toc_window_display": true
  },
  "widgets": {
   "application/vnd.jupyter.widget-state+json": {
    "state": {
     "00ad292d6ac846839494d74a86a43912": {
      "model_module": "@jupyter-widgets/base",
      "model_module_version": "1.2.0",
      "model_name": "LayoutModel",
      "state": {}
     },
     "00bf8525108c47b9811b2583c4054faf": {
      "model_module": "@jupyter-widgets/base",
      "model_module_version": "1.2.0",
      "model_name": "LayoutModel",
      "state": {}
     },
     "017af8e58e854121b51411ec917ae0bd": {
      "model_module": "@jupyter-widgets/controls",
      "model_module_version": "1.5.0",
      "model_name": "ProgressStyleModel",
      "state": {
       "description_width": "initial"
      }
     },
     "018053317b6c487f906973db5f42259c": {
      "model_module": "@jupyter-widgets/controls",
      "model_module_version": "1.5.0",
      "model_name": "HBoxModel",
      "state": {
       "children": [
        "IPY_MODEL_4ca6a02fbea447659bd25f044283fafb",
        "IPY_MODEL_f1c9be7ec64b4bd39f0fb7fbd6c26701"
       ],
       "layout": "IPY_MODEL_248b1da82ea54d598852ea4380fa319f"
      }
     },
     "01a900e23fd748c1877640d69efa145d": {
      "model_module": "@jupyter-widgets/controls",
      "model_module_version": "1.5.0",
      "model_name": "HTMLModel",
      "state": {
       "layout": "IPY_MODEL_f499231c42154aef9ad3f3468b51dfa9",
       "style": "IPY_MODEL_dec12f36d1dd48758c3eb4beaf4a0e5c",
       "value": " 575/577 [26:22&lt;00:05,  2.75s/it, acc=0.941, loss=0.171]"
      }
     },
     "020bb76b1f15467baacc79d229058c8a": {
      "model_module": "@jupyter-widgets/base",
      "model_module_version": "1.2.0",
      "model_name": "LayoutModel",
      "state": {}
     },
     "02daab7bdce148b0843969fdf4f7640a": {
      "model_module": "@jupyter-widgets/controls",
      "model_module_version": "1.5.0",
      "model_name": "HTMLModel",
      "state": {
       "layout": "IPY_MODEL_a0e12a63108e4d19b342b136accc5ca9",
       "style": "IPY_MODEL_8f2793642647407f92196221ea03b8ee",
       "value": " 279/279 [00:12&lt;00:00, 21.93it/s, acc=0.895, loss=0.0196]"
      }
     },
     "0413377fd82f47e4abb665c5cd4753f4": {
      "model_module": "@jupyter-widgets/controls",
      "model_module_version": "1.5.0",
      "model_name": "HBoxModel",
      "state": {
       "children": [
        "IPY_MODEL_0759c1db6b424c31b02e52732d84abf3",
        "IPY_MODEL_7b732accab214500a0ec6ac7f68feec9"
       ],
       "layout": "IPY_MODEL_8515017ff2c34b4596b2e03d88a1c5ab"
      }
     },
     "046854ba03f0438ab5f31740c93f7a2c": {
      "model_module": "@jupyter-widgets/controls",
      "model_module_version": "1.5.0",
      "model_name": "HBoxModel",
      "state": {
       "children": [
        "IPY_MODEL_f04cb084bf90468894cbc8b257ccec47",
        "IPY_MODEL_618aaf90ff9d4123b605ffd427a34e93"
       ],
       "layout": "IPY_MODEL_8994966a2b4548279a58593faafd8c8e"
      }
     },
     "0548e4305f8d494b9ba95c807ca5c799": {
      "model_module": "@jupyter-widgets/base",
      "model_module_version": "1.2.0",
      "model_name": "LayoutModel",
      "state": {}
     },
     "056a3e89627e41ac9449d20c86110aa5": {
      "model_module": "@jupyter-widgets/base",
      "model_module_version": "1.2.0",
      "model_name": "LayoutModel",
      "state": {}
     },
     "06563788fbe14860b90af9e47dcff51a": {
      "model_module": "@jupyter-widgets/base",
      "model_module_version": "1.2.0",
      "model_name": "LayoutModel",
      "state": {}
     },
     "0759c1db6b424c31b02e52732d84abf3": {
      "model_module": "@jupyter-widgets/controls",
      "model_module_version": "1.5.0",
      "model_name": "IntProgressModel",
      "state": {
       "bar_style": "success",
       "description": "Epoch [1/10]: 100%",
       "layout": "IPY_MODEL_660ee2ab779f43ca95ecc564af03a9a0",
       "max": 275,
       "style": "IPY_MODEL_2c9b209351964ada855196f569d42475",
       "value": 275
      }
     },
     "0772f5b401634c8e87ab4d9447e2efc4": {
      "model_module": "@jupyter-widgets/controls",
      "model_module_version": "1.5.0",
      "model_name": "DescriptionStyleModel",
      "state": {
       "description_width": ""
      }
     },
     "08bd0c3c1e98471ca5dabb4b55b9564c": {
      "model_module": "@jupyter-widgets/base",
      "model_module_version": "1.2.0",
      "model_name": "LayoutModel",
      "state": {}
     },
     "092f6b0e76204b24ac7a5d99d9818985": {
      "model_module": "@jupyter-widgets/base",
      "model_module_version": "1.2.0",
      "model_name": "LayoutModel",
      "state": {}
     },
     "093d15fcc6ad46188f5b7c989f05c504": {
      "model_module": "@jupyter-widgets/controls",
      "model_module_version": "1.5.0",
      "model_name": "ProgressStyleModel",
      "state": {
       "description_width": "initial"
      }
     },
     "0998a4437999476ca9bac5590b1653ab": {
      "model_module": "@jupyter-widgets/controls",
      "model_module_version": "1.5.0",
      "model_name": "ProgressStyleModel",
      "state": {
       "description_width": "initial"
      }
     },
     "09e4c3d804994a88b38cdff77049a7ef": {
      "model_module": "@jupyter-widgets/base",
      "model_module_version": "1.2.0",
      "model_name": "LayoutModel",
      "state": {}
     },
     "0a4bcb3825de40f1929b74851d692cfa": {
      "model_module": "@jupyter-widgets/base",
      "model_module_version": "1.2.0",
      "model_name": "LayoutModel",
      "state": {}
     },
     "0a66ea09c4f64a47ba8694ed7f11a162": {
      "model_module": "@jupyter-widgets/controls",
      "model_module_version": "1.5.0",
      "model_name": "IntProgressModel",
      "state": {
       "bar_style": "success",
       "description": "Epoch [4/10]: 100%",
       "layout": "IPY_MODEL_1c892cd001a04ed3801fc348bc4f3664",
       "max": 277,
       "style": "IPY_MODEL_d900d8e0d6a14f1e8d2dbde39afb7e85",
       "value": 277
      }
     },
     "0adda97dc858479d9e26e3b1bba21d6e": {
      "model_module": "@jupyter-widgets/controls",
      "model_module_version": "1.5.0",
      "model_name": "ProgressStyleModel",
      "state": {
       "description_width": "initial"
      }
     },
     "0b69c3f19fcf403b88972bbdee06b205": {
      "model_module": "@jupyter-widgets/base",
      "model_module_version": "1.2.0",
      "model_name": "LayoutModel",
      "state": {}
     },
     "0b8c378855044e8e802503eadcd40a99": {
      "model_module": "@jupyter-widgets/base",
      "model_module_version": "1.2.0",
      "model_name": "LayoutModel",
      "state": {}
     },
     "0c296edc385c4d4ba81d4369fcf198c8": {
      "model_module": "@jupyter-widgets/base",
      "model_module_version": "1.2.0",
      "model_name": "LayoutModel",
      "state": {}
     },
     "0c4fda5a0c3b42999ee23635af853915": {
      "model_module": "@jupyter-widgets/controls",
      "model_module_version": "1.5.0",
      "model_name": "HTMLModel",
      "state": {
       "layout": "IPY_MODEL_6a6bb170a1c74d2e96fb04e06d3e5455",
       "style": "IPY_MODEL_648de3e0a6244ea59f0e317289d5b8e0",
       "value": " 282/282 [00:53&lt;00:00,  5.28it/s, acc=0.99, loss=0.0062]"
      }
     },
     "0d31bc950a8149b3bd68158dcf70765b": {
      "model_module": "@jupyter-widgets/base",
      "model_module_version": "1.2.0",
      "model_name": "LayoutModel",
      "state": {}
     },
     "0d663b5be663406e84e795e85ad3a232": {
      "model_module": "@jupyter-widgets/controls",
      "model_module_version": "1.5.0",
      "model_name": "DescriptionStyleModel",
      "state": {
       "description_width": ""
      }
     },
     "0df2736385be4b49b21ef897cf43f58b": {
      "model_module": "@jupyter-widgets/base",
      "model_module_version": "1.2.0",
      "model_name": "LayoutModel",
      "state": {}
     },
     "0eec95b3fbe84e2cbf92721bd332770a": {
      "model_module": "@jupyter-widgets/base",
      "model_module_version": "1.2.0",
      "model_name": "LayoutModel",
      "state": {}
     },
     "0f19daa9f7c34497bde6fc1f17eee88a": {
      "model_module": "@jupyter-widgets/controls",
      "model_module_version": "1.5.0",
      "model_name": "HBoxModel",
      "state": {
       "children": [
        "IPY_MODEL_429dd8bfe4d14d3bb5663f20c981d27d",
        "IPY_MODEL_b93a5a84afd64a539a7ca17b283982c9"
       ],
       "layout": "IPY_MODEL_c18701b724ce45ab8aecc11ee5e03f0b"
      }
     },
     "0ffe691a2b8c4d5e950e6fe9093d5d26": {
      "model_module": "@jupyter-widgets/controls",
      "model_module_version": "1.5.0",
      "model_name": "HBoxModel",
      "state": {
       "children": [
        "IPY_MODEL_2576594fdd144995b6a444a92d7e727b",
        "IPY_MODEL_7768ef892500441ea62c2d5ac6069ade"
       ],
       "layout": "IPY_MODEL_cf827feec0d84ba2933550cc06def87b"
      }
     },
     "1051fdec4d2d4e9090b584b200537a0e": {
      "model_module": "@jupyter-widgets/controls",
      "model_module_version": "1.5.0",
      "model_name": "HTMLModel",
      "state": {
       "layout": "IPY_MODEL_63bf759c64f1464aa60a75205dbdc71c",
       "style": "IPY_MODEL_92ada78408734527a9b85b2398f0cf5b",
       "value": " 286/286 [00:40&lt;00:00,  7.11it/s, acc=0.987, loss=0.0482]"
      }
     },
     "1058135593c44d0a8e761a097fbb8968": {
      "model_module": "@jupyter-widgets/base",
      "model_module_version": "1.2.0",
      "model_name": "LayoutModel",
      "state": {}
     },
     "114714c299cf460dac54d61786680586": {
      "model_module": "@jupyter-widgets/base",
      "model_module_version": "1.2.0",
      "model_name": "LayoutModel",
      "state": {}
     },
     "132ea75ea5854a14ac8ed6ccabbb935d": {
      "model_module": "@jupyter-widgets/base",
      "model_module_version": "1.2.0",
      "model_name": "LayoutModel",
      "state": {}
     },
     "1346fa5ffaeb4ada8453ec05d21369e2": {
      "model_module": "@jupyter-widgets/controls",
      "model_module_version": "1.5.0",
      "model_name": "HBoxModel",
      "state": {
       "children": [
        "IPY_MODEL_78d47480e925458a92851742a4e01b18",
        "IPY_MODEL_02daab7bdce148b0843969fdf4f7640a"
       ],
       "layout": "IPY_MODEL_af3634e3e0854dcc8ffdcf3080192fd1"
      }
     },
     "13fdd6d625a04027bff5361b1afa9274": {
      "model_module": "@jupyter-widgets/controls",
      "model_module_version": "1.5.0",
      "model_name": "ProgressStyleModel",
      "state": {
       "description_width": "initial"
      }
     },
     "143a35ca8c42420285cab63ec24acaa3": {
      "model_module": "@jupyter-widgets/controls",
      "model_module_version": "1.5.0",
      "model_name": "HTMLModel",
      "state": {
       "layout": "IPY_MODEL_360b0ddc287b438885c04d52bb02f4ed",
       "style": "IPY_MODEL_a922f951348b4e3ca1d266d47cdbc92f",
       "value": " 282/282 [01:01&lt;00:00,  4.60it/s, acc=0.985, loss=0.00415]"
      }
     },
     "14527569121b47a080b43b1c2f8f1067": {
      "model_module": "@jupyter-widgets/controls",
      "model_module_version": "1.5.0",
      "model_name": "ProgressStyleModel",
      "state": {
       "description_width": "initial"
      }
     },
     "1482caebb7564a45a27e81e2bd541ef5": {
      "model_module": "@jupyter-widgets/base",
      "model_module_version": "1.2.0",
      "model_name": "LayoutModel",
      "state": {}
     },
     "14cf0b982ae64f05b978c8050f3a8450": {
      "model_module": "@jupyter-widgets/controls",
      "model_module_version": "1.5.0",
      "model_name": "IntProgressModel",
      "state": {
       "bar_style": "success",
       "description": "Epoch [7/10]: 100%",
       "layout": "IPY_MODEL_1c59fb6e024b4f9e9e715583e1a46307",
       "max": 275,
       "style": "IPY_MODEL_b97b32478c8f4326b110142bf9eb221e",
       "value": 275
      }
     },
     "14cfa3d0bc754a25b0cbbb6de17a2261": {
      "model_module": "@jupyter-widgets/controls",
      "model_module_version": "1.5.0",
      "model_name": "DescriptionStyleModel",
      "state": {
       "description_width": ""
      }
     },
     "14dccf50e436434485f3971c5b6221eb": {
      "model_module": "@jupyter-widgets/base",
      "model_module_version": "1.2.0",
      "model_name": "LayoutModel",
      "state": {}
     },
     "14fec3a766f74a55bb6bb86529da5025": {
      "model_module": "@jupyter-widgets/base",
      "model_module_version": "1.2.0",
      "model_name": "LayoutModel",
      "state": {}
     },
     "1535415f22fc4431a0e265989d6d6198": {
      "model_module": "@jupyter-widgets/controls",
      "model_module_version": "1.5.0",
      "model_name": "ProgressStyleModel",
      "state": {
       "description_width": "initial"
      }
     },
     "15f52536ec9c440f8ee0049c1f4c0873": {
      "model_module": "@jupyter-widgets/controls",
      "model_module_version": "1.5.0",
      "model_name": "IntProgressModel",
      "state": {
       "bar_style": "success",
       "description": "Epoch [5/10]: 100%",
       "layout": "IPY_MODEL_73520018abf647c0a7c7071abe56a977",
       "max": 275,
       "style": "IPY_MODEL_c56bc31a417b4a2e97486894085415c4",
       "value": 275
      }
     },
     "16d12d12ee694850ba93a21c0bdb1e89": {
      "model_module": "@jupyter-widgets/controls",
      "model_module_version": "1.5.0",
      "model_name": "HTMLModel",
      "state": {
       "layout": "IPY_MODEL_53f93a39bc3d4616b93e5a52862c9f8f",
       "style": "IPY_MODEL_e1040de918b54f2caafdafb0a48693bd",
       "value": " 277/277 [00:49&lt;00:00,  5.55it/s, acc=0.997, loss=0.00179]"
      }
     },
     "17a1ce6095b34772875574703f160632": {
      "model_module": "@jupyter-widgets/base",
      "model_module_version": "1.2.0",
      "model_name": "LayoutModel",
      "state": {}
     },
     "185b545ed3144810821f381212009565": {
      "model_module": "@jupyter-widgets/controls",
      "model_module_version": "1.5.0",
      "model_name": "DescriptionStyleModel",
      "state": {
       "description_width": ""
      }
     },
     "187eff96c33640b4b1b45123c6a5cc16": {
      "model_module": "@jupyter-widgets/base",
      "model_module_version": "1.2.0",
      "model_name": "LayoutModel",
      "state": {}
     },
     "18bba95632334a52abfe64103632bf4a": {
      "model_module": "@jupyter-widgets/controls",
      "model_module_version": "1.5.0",
      "model_name": "IntProgressModel",
      "state": {
       "bar_style": "success",
       "description": "Epoch [5/10]: 100%",
       "layout": "IPY_MODEL_c14b60f1c5e7470e87c192bc3c72ff0d",
       "max": 277,
       "style": "IPY_MODEL_de93e6a9281c46228e14e8c6a05f2a94",
       "value": 277
      }
     },
     "18e69c54a5eb451bb332b5188dc2b77a": {
      "model_module": "@jupyter-widgets/controls",
      "model_module_version": "1.5.0",
      "model_name": "IntProgressModel",
      "state": {
       "bar_style": "success",
       "description": "Epoch [6/10]: 100%",
       "layout": "IPY_MODEL_1a6bebb2a4504a8996fe816324957660",
       "max": 275,
       "style": "IPY_MODEL_14527569121b47a080b43b1c2f8f1067",
       "value": 275
      }
     },
     "18f0d128277f4c06a74927ab0e7b7b40": {
      "model_module": "@jupyter-widgets/controls",
      "model_module_version": "1.5.0",
      "model_name": "HBoxModel",
      "state": {
       "children": [
        "IPY_MODEL_4a511658e9ea471480c1b611d989b879",
        "IPY_MODEL_31c1251cc6f7461d9b452531a0f32a47"
       ],
       "layout": "IPY_MODEL_ba82fb3f022b4d0180b75d3354bcbb2d"
      }
     },
     "190a168b46ea444fb8b455574dd509fc": {
      "model_module": "@jupyter-widgets/controls",
      "model_module_version": "1.5.0",
      "model_name": "DescriptionStyleModel",
      "state": {
       "description_width": ""
      }
     },
     "198ac01c06f94c55ba05d009a7552d8b": {
      "model_module": "@jupyter-widgets/controls",
      "model_module_version": "1.5.0",
      "model_name": "DescriptionStyleModel",
      "state": {
       "description_width": ""
      }
     },
     "1a09f43ed00c42e593262e86ed8c2a61": {
      "model_module": "@jupyter-widgets/controls",
      "model_module_version": "1.5.0",
      "model_name": "HTMLModel",
      "state": {
       "layout": "IPY_MODEL_f238d373614e40c98b97179e59d2fe48",
       "style": "IPY_MODEL_3142a07cab964c67923d1179dbc0fd25",
       "value": " 280/280 [05:36&lt;00:00,  1.20s/it, acc=0.994, loss=0.000105]"
      }
     },
     "1a519f3bea06495e8f8988a0c7a5e5a3": {
      "model_module": "@jupyter-widgets/controls",
      "model_module_version": "1.5.0",
      "model_name": "DescriptionStyleModel",
      "state": {
       "description_width": ""
      }
     },
     "1a6bebb2a4504a8996fe816324957660": {
      "model_module": "@jupyter-widgets/base",
      "model_module_version": "1.2.0",
      "model_name": "LayoutModel",
      "state": {}
     },
     "1abf0813aa924954b240db726e9d82c1": {
      "model_module": "@jupyter-widgets/controls",
      "model_module_version": "1.5.0",
      "model_name": "IntProgressModel",
      "state": {
       "bar_style": "success",
       "description": "Epoch [6/10]: 100%",
       "layout": "IPY_MODEL_790c80e0186b42eb8e3e182dd07ea869",
       "max": 280,
       "style": "IPY_MODEL_b3c3c49fadac437e85272003f2e5c7ea",
       "value": 280
      }
     },
     "1b085da81613472988f164fd81336312": {
      "model_module": "@jupyter-widgets/base",
      "model_module_version": "1.2.0",
      "model_name": "LayoutModel",
      "state": {}
     },
     "1bb4ad93dcc849bdb507e229bfac3a39": {
      "model_module": "@jupyter-widgets/controls",
      "model_module_version": "1.5.0",
      "model_name": "ProgressStyleModel",
      "state": {
       "description_width": "initial"
      }
     },
     "1bb8ae6c6eda40978da43894675c4bfa": {
      "model_module": "@jupyter-widgets/controls",
      "model_module_version": "1.5.0",
      "model_name": "HBoxModel",
      "state": {
       "children": [
        "IPY_MODEL_27aee5d09a0d4620b80f1cbab5e50a98",
        "IPY_MODEL_d1dbdf643a2f4ae584356be11c5ae45a"
       ],
       "layout": "IPY_MODEL_2d5d4c2d7e814520ba851cbfefe986a0"
      }
     },
     "1bd7e30c88414733b6fe6e451f5bc2b9": {
      "model_module": "@jupyter-widgets/controls",
      "model_module_version": "1.5.0",
      "model_name": "ProgressStyleModel",
      "state": {
       "description_width": "initial"
      }
     },
     "1c59fb6e024b4f9e9e715583e1a46307": {
      "model_module": "@jupyter-widgets/base",
      "model_module_version": "1.2.0",
      "model_name": "LayoutModel",
      "state": {}
     },
     "1c61452205564c37a27f7f2824e2ce10": {
      "model_module": "@jupyter-widgets/controls",
      "model_module_version": "1.5.0",
      "model_name": "ProgressStyleModel",
      "state": {
       "description_width": "initial"
      }
     },
     "1c892cd001a04ed3801fc348bc4f3664": {
      "model_module": "@jupyter-widgets/base",
      "model_module_version": "1.2.0",
      "model_name": "LayoutModel",
      "state": {}
     },
     "1d9cff521e3045f480f10316f075eb6d": {
      "model_module": "@jupyter-widgets/base",
      "model_module_version": "1.2.0",
      "model_name": "LayoutModel",
      "state": {}
     },
     "1db4b9083f2e4f7f98f3a7ede9fd2163": {
      "model_module": "@jupyter-widgets/base",
      "model_module_version": "1.2.0",
      "model_name": "LayoutModel",
      "state": {}
     },
     "1dd39748b9334687a69af3c23d1ddf66": {
      "model_module": "@jupyter-widgets/base",
      "model_module_version": "1.2.0",
      "model_name": "LayoutModel",
      "state": {}
     },
     "1e006f9f0c6c45888e57678e399d1e3d": {
      "model_module": "@jupyter-widgets/base",
      "model_module_version": "1.2.0",
      "model_name": "LayoutModel",
      "state": {}
     },
     "1e7b5aed1e5a44b0bf915498f29fa349": {
      "model_module": "@jupyter-widgets/controls",
      "model_module_version": "1.5.0",
      "model_name": "IntProgressModel",
      "state": {
       "bar_style": "success",
       "description": "Epoch [2/10]: 100%",
       "layout": "IPY_MODEL_200b935e308f4333929ed52c03c1dba6",
       "max": 277,
       "style": "IPY_MODEL_bc84f57db92e41ba9a0b42c132f5dcd4",
       "value": 277
      }
     },
     "1e98718dd6b34ec38e67f2afe5fcb0d3": {
      "model_module": "@jupyter-widgets/controls",
      "model_module_version": "1.5.0",
      "model_name": "DescriptionStyleModel",
      "state": {
       "description_width": ""
      }
     },
     "1ea3821334fc48c6aa1c0d8644ac760f": {
      "model_module": "@jupyter-widgets/controls",
      "model_module_version": "1.5.0",
      "model_name": "IntProgressModel",
      "state": {
       "bar_style": "success",
       "description": "Epoch [5/5]: 100%",
       "layout": "IPY_MODEL_4d24e96585d745f7a82ae1ba44c53b8f",
       "max": 286,
       "style": "IPY_MODEL_a2f314764db54a77b3f3971d60e80387",
       "value": 286
      }
     },
     "1f2e814f384e437287fa797912069088": {
      "model_module": "@jupyter-widgets/controls",
      "model_module_version": "1.5.0",
      "model_name": "ProgressStyleModel",
      "state": {
       "description_width": "initial"
      }
     },
     "1f75c4a5fc7545478ad69b0a90be6480": {
      "model_module": "@jupyter-widgets/base",
      "model_module_version": "1.2.0",
      "model_name": "LayoutModel",
      "state": {}
     },
     "1f8f7e0067e94333b8259fac8a95380d": {
      "model_module": "@jupyter-widgets/controls",
      "model_module_version": "1.5.0",
      "model_name": "IntProgressModel",
      "state": {
       "bar_style": "success",
       "description": "Epoch [6/10]: 100%",
       "layout": "IPY_MODEL_b6d7c0087e77439f8aa2f0fe58b8946d",
       "max": 275,
       "style": "IPY_MODEL_1c61452205564c37a27f7f2824e2ce10",
       "value": 275
      }
     },
     "200b935e308f4333929ed52c03c1dba6": {
      "model_module": "@jupyter-widgets/base",
      "model_module_version": "1.2.0",
      "model_name": "LayoutModel",
      "state": {}
     },
     "202ec6721a6046f98dfccfbf29c6726d": {
      "model_module": "@jupyter-widgets/base",
      "model_module_version": "1.2.0",
      "model_name": "LayoutModel",
      "state": {}
     },
     "209a667d059742a78245ef6ad9fb76a4": {
      "model_module": "@jupyter-widgets/base",
      "model_module_version": "1.2.0",
      "model_name": "LayoutModel",
      "state": {}
     },
     "20ed05959b364772855ea032895eb30f": {
      "model_module": "@jupyter-widgets/controls",
      "model_module_version": "1.5.0",
      "model_name": "DescriptionStyleModel",
      "state": {
       "description_width": ""
      }
     },
     "2219fcf4f427415d982252afdde7fbcc": {
      "model_module": "@jupyter-widgets/controls",
      "model_module_version": "1.5.0",
      "model_name": "HTMLModel",
      "state": {
       "layout": "IPY_MODEL_4308763a46934033a06cd1fabbee284f",
       "style": "IPY_MODEL_561c859b94ff4794a668c20fcb95c3ef",
       "value": " 275/275 [00:52&lt;00:00,  5.19it/s, acc=0.989, loss=0.165]"
      }
     },
     "22a7e083b1d348eaa128ea86a0b7b045": {
      "model_module": "@jupyter-widgets/base",
      "model_module_version": "1.2.0",
      "model_name": "LayoutModel",
      "state": {}
     },
     "23c374f82b0a4192bbb5a1622c49a3ad": {
      "model_module": "@jupyter-widgets/base",
      "model_module_version": "1.2.0",
      "model_name": "LayoutModel",
      "state": {}
     },
     "23de282d02e94c349148391f7f5051b7": {
      "model_module": "@jupyter-widgets/controls",
      "model_module_version": "1.5.0",
      "model_name": "DescriptionStyleModel",
      "state": {
       "description_width": ""
      }
     },
     "248b1da82ea54d598852ea4380fa319f": {
      "model_module": "@jupyter-widgets/base",
      "model_module_version": "1.2.0",
      "model_name": "LayoutModel",
      "state": {}
     },
     "24e5cc814ae948fc95ebd4e1252af08c": {
      "model_module": "@jupyter-widgets/controls",
      "model_module_version": "1.5.0",
      "model_name": "HTMLModel",
      "state": {
       "layout": "IPY_MODEL_27f3640e1cbd44738ea54c695f1361ff",
       "style": "IPY_MODEL_ecafe9eda24d406ba3d4a25cd7d95c78",
       "value": " 277/277 [02:00&lt;00:00,  2.30it/s, acc=0.991, loss=0.0245]"
      }
     },
     "24ec3b5dfcc54171a6a7501abfa9a9b6": {
      "model_module": "@jupyter-widgets/controls",
      "model_module_version": "1.5.0",
      "model_name": "ProgressStyleModel",
      "state": {
       "description_width": "initial"
      }
     },
     "25640c652c1a4acebf3f5f7e1e7bdd48": {
      "model_module": "@jupyter-widgets/controls",
      "model_module_version": "1.5.0",
      "model_name": "ProgressStyleModel",
      "state": {
       "description_width": "initial"
      }
     },
     "2576594fdd144995b6a444a92d7e727b": {
      "model_module": "@jupyter-widgets/controls",
      "model_module_version": "1.5.0",
      "model_name": "IntProgressModel",
      "state": {
       "bar_style": "success",
       "description": "Epoch [3/10]: 100%",
       "layout": "IPY_MODEL_334ce02d8aa54fcdb5451ed161d58c04",
       "max": 277,
       "style": "IPY_MODEL_a35479e0d3744deda630871c168870b0",
       "value": 277
      }
     },
     "268bfc5dba0f4d209da30d1ea87f73c1": {
      "model_module": "@jupyter-widgets/controls",
      "model_module_version": "1.5.0",
      "model_name": "IntProgressModel",
      "state": {
       "bar_style": "success",
       "description": "Epoch [5/5]: 100%",
       "layout": "IPY_MODEL_67f29cd0c0774211834cfc9bfedc7696",
       "max": 282,
       "style": "IPY_MODEL_978bb5e4ca034b21b0c97a343395e1aa",
       "value": 282
      }
     },
     "26e5b778cd2b481890fbd21038b2068c": {
      "model_module": "@jupyter-widgets/controls",
      "model_module_version": "1.5.0",
      "model_name": "IntProgressModel",
      "state": {
       "bar_style": "success",
       "description": "Epoch [2/5]: 100%",
       "layout": "IPY_MODEL_cb00ade5a0d9463aadb200229123b740",
       "max": 286,
       "style": "IPY_MODEL_9e5adcbee9924b7988e83177cd6cb11c",
       "value": 286
      }
     },
     "27015ba8e93a45fdbd61bfcd6cfa79a9": {
      "model_module": "@jupyter-widgets/base",
      "model_module_version": "1.2.0",
      "model_name": "LayoutModel",
      "state": {}
     },
     "27aee5d09a0d4620b80f1cbab5e50a98": {
      "model_module": "@jupyter-widgets/controls",
      "model_module_version": "1.5.0",
      "model_name": "IntProgressModel",
      "state": {
       "bar_style": "success",
       "description": "Epoch [3/5]: 100%",
       "layout": "IPY_MODEL_741817b5ad3c43be951cd0ed2c5e3de2",
       "max": 282,
       "style": "IPY_MODEL_606387df790f4a2c85dd81f8565719e9",
       "value": 282
      }
     },
     "27db3c48443545d0b9137450caf01835": {
      "model_module": "@jupyter-widgets/base",
      "model_module_version": "1.2.0",
      "model_name": "LayoutModel",
      "state": {}
     },
     "27f3640e1cbd44738ea54c695f1361ff": {
      "model_module": "@jupyter-widgets/base",
      "model_module_version": "1.2.0",
      "model_name": "LayoutModel",
      "state": {}
     },
     "2808fdf3d8154460895eaf30d57673e2": {
      "model_module": "@jupyter-widgets/base",
      "model_module_version": "1.2.0",
      "model_name": "LayoutModel",
      "state": {}
     },
     "282c594919374ab28ced93213d89022a": {
      "model_module": "@jupyter-widgets/controls",
      "model_module_version": "1.5.0",
      "model_name": "HTMLModel",
      "state": {
       "layout": "IPY_MODEL_51c5f43ccf7644ee87e4509820dc27b8",
       "style": "IPY_MODEL_0772f5b401634c8e87ab4d9447e2efc4",
       "value": " 276/276 [01:36&lt;00:00,  2.87it/s, acc=0.948, loss=0.0545]"
      }
     },
     "285565e091ed484eb7776965a204379b": {
      "model_module": "@jupyter-widgets/controls",
      "model_module_version": "1.5.0",
      "model_name": "HTMLModel",
      "state": {
       "layout": "IPY_MODEL_209a667d059742a78245ef6ad9fb76a4",
       "style": "IPY_MODEL_e84be35587f54bb28682ebc46493128d",
       "value": " 280/280 [05:48&lt;00:00,  1.25s/it, acc=0.993, loss=0.000601]"
      }
     },
     "2858efa76e80487ca9f92f07c1b12084": {
      "model_module": "@jupyter-widgets/controls",
      "model_module_version": "1.5.0",
      "model_name": "DescriptionStyleModel",
      "state": {
       "description_width": ""
      }
     },
     "28c338193a944d30a4671c50e247a32f": {
      "model_module": "@jupyter-widgets/controls",
      "model_module_version": "1.5.0",
      "model_name": "ProgressStyleModel",
      "state": {
       "description_width": "initial"
      }
     },
     "28f08558870f4558ba8ac57f8a0337d9": {
      "model_module": "@jupyter-widgets/base",
      "model_module_version": "1.2.0",
      "model_name": "LayoutModel",
      "state": {}
     },
     "28fcb50031f94f77b0d6a3279e22f503": {
      "model_module": "@jupyter-widgets/controls",
      "model_module_version": "1.5.0",
      "model_name": "IntProgressModel",
      "state": {
       "bar_style": "success",
       "description": "Epoch [8/10]: 100%",
       "layout": "IPY_MODEL_c9bb1b74e6f44357a9a67c9bf5cf6a60",
       "max": 280,
       "style": "IPY_MODEL_30a73218d1514e16b2951d714ab5d4c1",
       "value": 280
      }
     },
     "2945a568ecd147cea6182b503485de6e": {
      "model_module": "@jupyter-widgets/controls",
      "model_module_version": "1.5.0",
      "model_name": "DescriptionStyleModel",
      "state": {
       "description_width": ""
      }
     },
     "297a13d763f74800b27fe295f779eb61": {
      "model_module": "@jupyter-widgets/base",
      "model_module_version": "1.2.0",
      "model_name": "LayoutModel",
      "state": {}
     },
     "297f59ca6e8e48c098465012de6eee41": {
      "model_module": "@jupyter-widgets/base",
      "model_module_version": "1.2.0",
      "model_name": "LayoutModel",
      "state": {}
     },
     "29dca08ace304cb0a92beed02f551d72": {
      "model_module": "@jupyter-widgets/base",
      "model_module_version": "1.2.0",
      "model_name": "LayoutModel",
      "state": {}
     },
     "2ad376ceeb2d42ad98dda94cc370770b": {
      "model_module": "@jupyter-widgets/controls",
      "model_module_version": "1.5.0",
      "model_name": "DescriptionStyleModel",
      "state": {
       "description_width": ""
      }
     },
     "2aefa75f136c4bee880997b6a746c598": {
      "model_module": "@jupyter-widgets/controls",
      "model_module_version": "1.5.0",
      "model_name": "IntProgressModel",
      "state": {
       "bar_style": "success",
       "description": "Epoch [1/5]: 100%",
       "layout": "IPY_MODEL_22a7e083b1d348eaa128ea86a0b7b045",
       "max": 615,
       "style": "IPY_MODEL_f640fc971e99428f8432922521662a97",
       "value": 615
      }
     },
     "2b0c58ce448d493bbcf63186ca52d2bc": {
      "model_module": "@jupyter-widgets/controls",
      "model_module_version": "1.5.0",
      "model_name": "DescriptionStyleModel",
      "state": {
       "description_width": ""
      }
     },
     "2b1069c309554096a7eab9ac898b5a00": {
      "model_module": "@jupyter-widgets/controls",
      "model_module_version": "1.5.0",
      "model_name": "HBoxModel",
      "state": {
       "children": [
        "IPY_MODEL_be72b2d17d764523a5acf39785967c05",
        "IPY_MODEL_4e9882292fed4503b899407c8c57096a"
       ],
       "layout": "IPY_MODEL_c564467cadc343e59fd7e153c3572714"
      }
     },
     "2c9b209351964ada855196f569d42475": {
      "model_module": "@jupyter-widgets/controls",
      "model_module_version": "1.5.0",
      "model_name": "ProgressStyleModel",
      "state": {
       "description_width": "initial"
      }
     },
     "2cfc3ac458e54460b9542804c2ae9f44": {
      "model_module": "@jupyter-widgets/controls",
      "model_module_version": "1.5.0",
      "model_name": "HBoxModel",
      "state": {
       "children": [
        "IPY_MODEL_a652bae9a1894ca890d33055a9d3a4e3",
        "IPY_MODEL_c204c84eab0941e3b4eb1e8d4b3deaa1"
       ],
       "layout": "IPY_MODEL_d4879c972f394a5ab26def14f66b7504"
      }
     },
     "2d428417a3a34d9e8ddeb24c7bcc8f71": {
      "model_module": "@jupyter-widgets/controls",
      "model_module_version": "1.5.0",
      "model_name": "HBoxModel",
      "state": {
       "children": [
        "IPY_MODEL_407c093e555f4ca5badaf89d44a0669d",
        "IPY_MODEL_d93afa74f3864cbba91a82bf60b3d2d5"
       ],
       "layout": "IPY_MODEL_be9b5b1c4f8b49b4a2548958d12b8598"
      }
     },
     "2d4b3dfaa69a45e9b3d69b85ca924e65": {
      "model_module": "@jupyter-widgets/controls",
      "model_module_version": "1.5.0",
      "model_name": "HTMLModel",
      "state": {
       "layout": "IPY_MODEL_a1702983309642a5b8970def06ade1ec",
       "style": "IPY_MODEL_8c2994be3ada4d30b6fa64e98ded577b",
       "value": " 0/275 [03:51&lt;?, ?it/s]"
      }
     },
     "2d5d4c2d7e814520ba851cbfefe986a0": {
      "model_module": "@jupyter-widgets/base",
      "model_module_version": "1.2.0",
      "model_name": "LayoutModel",
      "state": {}
     },
     "2d8310208aa44393b76fbbd2c57cd261": {
      "model_module": "@jupyter-widgets/controls",
      "model_module_version": "1.5.0",
      "model_name": "DescriptionStyleModel",
      "state": {
       "description_width": ""
      }
     },
     "2d98c91eb7574ce6b5286bfb8d8e9718": {
      "model_module": "@jupyter-widgets/controls",
      "model_module_version": "1.5.0",
      "model_name": "DescriptionStyleModel",
      "state": {
       "description_width": ""
      }
     },
     "2dbb0019cd004cb99a414741fab707ae": {
      "model_module": "@jupyter-widgets/controls",
      "model_module_version": "1.5.0",
      "model_name": "HBoxModel",
      "state": {
       "children": [
        "IPY_MODEL_51d0161bf1f3435f83bc592361e9f0b2",
        "IPY_MODEL_900c603cb4c547eaae1169de34a41a85"
       ],
       "layout": "IPY_MODEL_132ea75ea5854a14ac8ed6ccabbb935d"
      }
     },
     "2e5cdc82750d4fb395093aa8a97cc878": {
      "model_module": "@jupyter-widgets/base",
      "model_module_version": "1.2.0",
      "model_name": "LayoutModel",
      "state": {}
     },
     "2e799b18c5be42e4bd0687942d605f3d": {
      "model_module": "@jupyter-widgets/controls",
      "model_module_version": "1.5.0",
      "model_name": "DescriptionStyleModel",
      "state": {
       "description_width": ""
      }
     },
     "2e7e6e41a6cd4f75a07a98ae4627a290": {
      "model_module": "@jupyter-widgets/controls",
      "model_module_version": "1.5.0",
      "model_name": "HBoxModel",
      "state": {
       "children": [
        "IPY_MODEL_c5c1c0ef3f1d4a378d08aedaf67e13fc",
        "IPY_MODEL_59dc3e8a8b7448eb9005e135d0a230b1"
       ],
       "layout": "IPY_MODEL_8cee8d6e8798410e8bb017f8fee840d1"
      }
     },
     "3027b93262b949a3bde40959c563ca5c": {
      "model_module": "@jupyter-widgets/base",
      "model_module_version": "1.2.0",
      "model_name": "LayoutModel",
      "state": {}
     },
     "30a73218d1514e16b2951d714ab5d4c1": {
      "model_module": "@jupyter-widgets/controls",
      "model_module_version": "1.5.0",
      "model_name": "ProgressStyleModel",
      "state": {
       "description_width": "initial"
      }
     },
     "30bccf7145954598b833735505284d7c": {
      "model_module": "@jupyter-widgets/controls",
      "model_module_version": "1.5.0",
      "model_name": "HTMLModel",
      "state": {
       "layout": "IPY_MODEL_360f8e0e2ba8441a95d3e7aae54f8402",
       "style": "IPY_MODEL_64f8ae9903b4477284fb735490a5778b",
       "value": " 276/276 [01:13&lt;00:00,  3.74it/s, acc=0.988, loss=0.0161]"
      }
     },
     "30f509e83baa4498b5ebe13e156d1ad9": {
      "model_module": "@jupyter-widgets/controls",
      "model_module_version": "1.5.0",
      "model_name": "HTMLModel",
      "state": {
       "layout": "IPY_MODEL_a3ce453c8c9a4a8faf643f29e4413166",
       "style": "IPY_MODEL_fd95b7c347c44a13a62e69b2202b8058",
       "value": " 0/275 [09:36&lt;?, ?it/s]"
      }
     },
     "3142a07cab964c67923d1179dbc0fd25": {
      "model_module": "@jupyter-widgets/controls",
      "model_module_version": "1.5.0",
      "model_name": "DescriptionStyleModel",
      "state": {
       "description_width": ""
      }
     },
     "3168029ed2ef4945a8c283aab5f81121": {
      "model_module": "@jupyter-widgets/base",
      "model_module_version": "1.2.0",
      "model_name": "LayoutModel",
      "state": {}
     },
     "31c1251cc6f7461d9b452531a0f32a47": {
      "model_module": "@jupyter-widgets/controls",
      "model_module_version": "1.5.0",
      "model_name": "HTMLModel",
      "state": {
       "layout": "IPY_MODEL_4a2426412d124f6e8d23ed3a49b861cb",
       "style": "IPY_MODEL_ee2c3ac275934c34824ee6dd35e1509a",
       "value": " 275/275 [06:25&lt;00:00,  1.40s/it, acc=0.997, loss=0.00949]"
      }
     },
     "31ceb32cf8b5429d877a6f684d9bc508": {
      "model_module": "@jupyter-widgets/controls",
      "model_module_version": "1.5.0",
      "model_name": "HTMLModel",
      "state": {
       "layout": "IPY_MODEL_b36e8cb24d69476da9313373ce5a788f",
       "style": "IPY_MODEL_1e98718dd6b34ec38e67f2afe5fcb0d3",
       "value": " 280/280 [05:01&lt;00:00,  1.08s/it, acc=0.996, loss=0.0004]"
      }
     },
     "3335b1a1c0184968900a87c76e01172b": {
      "model_module": "@jupyter-widgets/controls",
      "model_module_version": "1.5.0",
      "model_name": "DescriptionStyleModel",
      "state": {
       "description_width": ""
      }
     },
     "334ce02d8aa54fcdb5451ed161d58c04": {
      "model_module": "@jupyter-widgets/base",
      "model_module_version": "1.2.0",
      "model_name": "LayoutModel",
      "state": {}
     },
     "336ca7da10544873b7c6a6c285644b41": {
      "model_module": "@jupyter-widgets/base",
      "model_module_version": "1.2.0",
      "model_name": "LayoutModel",
      "state": {}
     },
     "3392caef5e7b45c4bed8be8f2a8a8807": {
      "model_module": "@jupyter-widgets/base",
      "model_module_version": "1.2.0",
      "model_name": "LayoutModel",
      "state": {}
     },
     "33ac54b3b47749bdb4bf06379171eeaa": {
      "model_module": "@jupyter-widgets/controls",
      "model_module_version": "1.5.0",
      "model_name": "HTMLModel",
      "state": {
       "layout": "IPY_MODEL_671718a7c30a4f0ea739a84fd030d588",
       "style": "IPY_MODEL_b9ccd0ea7fac4bbc95fecb12d0bf829d",
       "value": " 286/286 [00:41&lt;00:00,  6.83it/s, acc=0.993, loss=0.00266]"
      }
     },
     "34811f679e5f40418010e7bea96bd115": {
      "model_module": "@jupyter-widgets/controls",
      "model_module_version": "1.5.0",
      "model_name": "HTMLModel",
      "state": {
       "layout": "IPY_MODEL_e8639b8207764cc1be97ff41bb0e22e6",
       "style": "IPY_MODEL_9c6c4bda95d64221ac72d216574fdbdf",
       "value": " 275/275 [03:12&lt;00:00,  1.43it/s, acc=0.996, loss=0.0248]"
      }
     },
     "360b0ddc287b438885c04d52bb02f4ed": {
      "model_module": "@jupyter-widgets/base",
      "model_module_version": "1.2.0",
      "model_name": "LayoutModel",
      "state": {}
     },
     "360f8e0e2ba8441a95d3e7aae54f8402": {
      "model_module": "@jupyter-widgets/base",
      "model_module_version": "1.2.0",
      "model_name": "LayoutModel",
      "state": {}
     },
     "365cacf12f924881b842a5518f953612": {
      "model_module": "@jupyter-widgets/base",
      "model_module_version": "1.2.0",
      "model_name": "LayoutModel",
      "state": {}
     },
     "37e287d6e86f4b7ea4e26677c4504946": {
      "model_module": "@jupyter-widgets/base",
      "model_module_version": "1.2.0",
      "model_name": "LayoutModel",
      "state": {}
     },
     "3803aa1099b0419dbe3e8739bf8d8e56": {
      "model_module": "@jupyter-widgets/controls",
      "model_module_version": "1.5.0",
      "model_name": "DescriptionStyleModel",
      "state": {
       "description_width": ""
      }
     },
     "38407711e19c403fbccc15aae07ba7c2": {
      "model_module": "@jupyter-widgets/controls",
      "model_module_version": "1.5.0",
      "model_name": "IntProgressModel",
      "state": {
       "bar_style": "success",
       "description": "Epoch [8/10]: 100%",
       "layout": "IPY_MODEL_5a99b1617d3a467b8daf0d71cdf25a44",
       "max": 277,
       "style": "IPY_MODEL_f3e6c6b28296436585e270af511cba2d",
       "value": 277
      }
     },
     "396f8cc441664638abe6ed33aaf1fe41": {
      "model_module": "@jupyter-widgets/base",
      "model_module_version": "1.2.0",
      "model_name": "LayoutModel",
      "state": {}
     },
     "3970328515644e71a4da44076692f678": {
      "model_module": "@jupyter-widgets/controls",
      "model_module_version": "1.5.0",
      "model_name": "ProgressStyleModel",
      "state": {
       "description_width": "initial"
      }
     },
     "39e7b47df51b4b5aa19c455bd35f3d12": {
      "model_module": "@jupyter-widgets/base",
      "model_module_version": "1.2.0",
      "model_name": "LayoutModel",
      "state": {}
     },
     "3b7a9572681b4d5782ed38c931016b32": {
      "model_module": "@jupyter-widgets/controls",
      "model_module_version": "1.5.0",
      "model_name": "HBoxModel",
      "state": {
       "children": [
        "IPY_MODEL_3c13420bf07a4aa0a854e27fe3359a72",
        "IPY_MODEL_143a35ca8c42420285cab63ec24acaa3"
       ],
       "layout": "IPY_MODEL_bad3697ae78a4359892ca979d05704a5"
      }
     },
     "3b8cdff0a5804127a0aec94d75cedda8": {
      "model_module": "@jupyter-widgets/base",
      "model_module_version": "1.2.0",
      "model_name": "LayoutModel",
      "state": {}
     },
     "3bfd1281a4d145faa40c0ca2d2cc8a6f": {
      "model_module": "@jupyter-widgets/controls",
      "model_module_version": "1.5.0",
      "model_name": "HBoxModel",
      "state": {
       "children": [
        "IPY_MODEL_782c993f4a6a4704ac8e74b6c2e15f47",
        "IPY_MODEL_5c235ce41ca84f4cb1dbc3f47fc9850c"
       ],
       "layout": "IPY_MODEL_7ad420d06e4c4cbba3a17736f06b577f"
      }
     },
     "3c13420bf07a4aa0a854e27fe3359a72": {
      "model_module": "@jupyter-widgets/controls",
      "model_module_version": "1.5.0",
      "model_name": "IntProgressModel",
      "state": {
       "bar_style": "success",
       "description": "Epoch [2/5]: 100%",
       "layout": "IPY_MODEL_6388ae87f5914b06b489512a2f597003",
       "max": 282,
       "style": "IPY_MODEL_8595890973c94fdd931be0a8e8614350",
       "value": 282
      }
     },
     "3c96537612fc4bb4800559b8bc71a1f7": {
      "model_module": "@jupyter-widgets/controls",
      "model_module_version": "1.5.0",
      "model_name": "ProgressStyleModel",
      "state": {
       "description_width": "initial"
      }
     },
     "3d8828b6bf9c4b79b2d0229c0e24baae": {
      "model_module": "@jupyter-widgets/controls",
      "model_module_version": "1.5.0",
      "model_name": "HBoxModel",
      "state": {
       "children": [
        "IPY_MODEL_5f61dfecc23945bd8622539b0d6d4301",
        "IPY_MODEL_ed6a8e9fe65f464c88f595ef184281fb"
       ],
       "layout": "IPY_MODEL_09e4c3d804994a88b38cdff77049a7ef"
      }
     },
     "3d9f91ed2e4043cbaad7395d056ad405": {
      "model_module": "@jupyter-widgets/controls",
      "model_module_version": "1.5.0",
      "model_name": "ProgressStyleModel",
      "state": {
       "description_width": "initial"
      }
     },
     "3e136c2918104893ba4892473dec2366": {
      "model_module": "@jupyter-widgets/controls",
      "model_module_version": "1.5.0",
      "model_name": "ProgressStyleModel",
      "state": {
       "description_width": "initial"
      }
     },
     "3e8558a510684ba9ba8d1a1a20876401": {
      "model_module": "@jupyter-widgets/controls",
      "model_module_version": "1.5.0",
      "model_name": "DescriptionStyleModel",
      "state": {
       "description_width": ""
      }
     },
     "3e8f3b24a0494fce9192d793ff783139": {
      "model_module": "@jupyter-widgets/controls",
      "model_module_version": "1.5.0",
      "model_name": "ProgressStyleModel",
      "state": {
       "description_width": "initial"
      }
     },
     "3eeea982c6864be88bbad85c0cf8941e": {
      "model_module": "@jupyter-widgets/controls",
      "model_module_version": "1.5.0",
      "model_name": "DescriptionStyleModel",
      "state": {
       "description_width": ""
      }
     },
     "3f499fd37071411db6bb544672de6ba7": {
      "model_module": "@jupyter-widgets/controls",
      "model_module_version": "1.5.0",
      "model_name": "HBoxModel",
      "state": {
       "children": [
        "IPY_MODEL_79a6cb479864453cbdef5c6000767898",
        "IPY_MODEL_2d4b3dfaa69a45e9b3d69b85ca924e65"
       ],
       "layout": "IPY_MODEL_6d65163538d64b51afc6be747d8de1d8"
      }
     },
     "3ff74db26eeb47e8978883576f197a38": {
      "model_module": "@jupyter-widgets/base",
      "model_module_version": "1.2.0",
      "model_name": "LayoutModel",
      "state": {}
     },
     "407c093e555f4ca5badaf89d44a0669d": {
      "model_module": "@jupyter-widgets/controls",
      "model_module_version": "1.5.0",
      "model_name": "IntProgressModel",
      "state": {
       "bar_style": "success",
       "description": "Epoch [6/10]: 100%",
       "layout": "IPY_MODEL_50a1bc78388f43919672f9ed9f8d599c",
       "max": 277,
       "style": "IPY_MODEL_c425003b7b1049a0bee5ead1a41fe8cd",
       "value": 277
      }
     },
     "415aac685efc473fa81d23dc2ff51e4b": {
      "model_module": "@jupyter-widgets/controls",
      "model_module_version": "1.5.0",
      "model_name": "IntProgressModel",
      "state": {
       "bar_style": "success",
       "description": "Epoch [3/5]: 100%",
       "layout": "IPY_MODEL_a6b73311d34a4f49a724c2490543aea8",
       "max": 276,
       "style": "IPY_MODEL_76601e420483453997d3feb09541d22e",
       "value": 276
      }
     },
     "428777dd87f7478caaf63bbeb1416b2d": {
      "model_module": "@jupyter-widgets/controls",
      "model_module_version": "1.5.0",
      "model_name": "HBoxModel",
      "state": {
       "children": [
        "IPY_MODEL_74d5f229816d482e84477649134e901d",
        "IPY_MODEL_9608051f78e944659b6e1f9a01e40d8c"
       ],
       "layout": "IPY_MODEL_ba669b8282bc4ff68b95af7904945471"
      }
     },
     "429dd8bfe4d14d3bb5663f20c981d27d": {
      "model_module": "@jupyter-widgets/controls",
      "model_module_version": "1.5.0",
      "model_name": "IntProgressModel",
      "state": {
       "bar_style": "success",
       "description": "Epoch [4/10]: 100%",
       "layout": "IPY_MODEL_790c4dd5a50040789204046f42bab71b",
       "max": 275,
       "style": "IPY_MODEL_76a4842743c84e1682e63807dfad3c5b",
       "value": 275
      }
     },
     "4308763a46934033a06cd1fabbee284f": {
      "model_module": "@jupyter-widgets/base",
      "model_module_version": "1.2.0",
      "model_name": "LayoutModel",
      "state": {}
     },
     "435545f654b8424aa3f6839f45b51e98": {
      "model_module": "@jupyter-widgets/controls",
      "model_module_version": "1.5.0",
      "model_name": "HTMLModel",
      "state": {
       "layout": "IPY_MODEL_0eec95b3fbe84e2cbf92721bd332770a",
       "style": "IPY_MODEL_190a168b46ea444fb8b455574dd509fc",
       "value": " 275/275 [00:41&lt;00:00,  6.66it/s, acc=0.992, loss=0.0271]"
      }
     },
     "438ad7b17642439c92fe89205b3f91d8": {
      "model_module": "@jupyter-widgets/controls",
      "model_module_version": "1.5.0",
      "model_name": "HTMLModel",
      "state": {
       "layout": "IPY_MODEL_d07ff3d464974606b5f3612b69037208",
       "style": "IPY_MODEL_673b8aa5d8bb4dffa9d050ed3cf2266d",
       "value": " 275/275 [01:04&lt;00:00,  4.24it/s, acc=0.986, loss=0.0584]"
      }
     },
     "446435a55c884416b213de3caa9eb345": {
      "model_module": "@jupyter-widgets/controls",
      "model_module_version": "1.5.0",
      "model_name": "ProgressStyleModel",
      "state": {
       "description_width": "initial"
      }
     },
     "44aa26a4f8514874b732df0ad2df16c3": {
      "model_module": "@jupyter-widgets/controls",
      "model_module_version": "1.5.0",
      "model_name": "DescriptionStyleModel",
      "state": {
       "description_width": ""
      }
     },
     "44f125432db043ff9c12e3c7d6e9fc04": {
      "model_module": "@jupyter-widgets/base",
      "model_module_version": "1.2.0",
      "model_name": "LayoutModel",
      "state": {}
     },
     "45813438b5dd4258be12f46b197ab1a5": {
      "model_module": "@jupyter-widgets/controls",
      "model_module_version": "1.5.0",
      "model_name": "ProgressStyleModel",
      "state": {
       "description_width": "initial"
      }
     },
     "466f2212b7a849069b5269b3145f1580": {
      "model_module": "@jupyter-widgets/controls",
      "model_module_version": "1.5.0",
      "model_name": "HBoxModel",
      "state": {
       "children": [
        "IPY_MODEL_15f52536ec9c440f8ee0049c1f4c0873",
        "IPY_MODEL_67c4770181ad4170a103e082771b57ef"
       ],
       "layout": "IPY_MODEL_84116ebbf82a4da0967c12e24999ee97"
      }
     },
     "46dd721bb2b64d14940d891cff8f0696": {
      "model_module": "@jupyter-widgets/controls",
      "model_module_version": "1.5.0",
      "model_name": "HBoxModel",
      "state": {
       "children": [
        "IPY_MODEL_18bba95632334a52abfe64103632bf4a",
        "IPY_MODEL_df2636a6aa934d0c86b5df976d4cafb5"
       ],
       "layout": "IPY_MODEL_e14e0ffa93644f04bda71719ec7da20b"
      }
     },
     "4701a89a84674594a8f069cbb1fc4847": {
      "model_module": "@jupyter-widgets/base",
      "model_module_version": "1.2.0",
      "model_name": "LayoutModel",
      "state": {}
     },
     "47854cbb5f0946d2bf6a533010a098dc": {
      "model_module": "@jupyter-widgets/base",
      "model_module_version": "1.2.0",
      "model_name": "LayoutModel",
      "state": {}
     },
     "47e3a0c219af4b46a3071d1de02172d1": {
      "model_module": "@jupyter-widgets/controls",
      "model_module_version": "1.5.0",
      "model_name": "HTMLModel",
      "state": {
       "layout": "IPY_MODEL_764e80f0225c4c7d85bbbc033104458d",
       "style": "IPY_MODEL_548347a6e7724deb8e77af629ef51cce",
       "value": " 279/279 [22:09:04&lt;00:00, 285.82s/it, acc=0.986, loss=0.0058]"
      }
     },
     "47ea1305155147b2a263a9c2c71148b6": {
      "model_module": "@jupyter-widgets/controls",
      "model_module_version": "1.5.0",
      "model_name": "HTMLModel",
      "state": {
       "layout": "IPY_MODEL_a05768b261fa492a893abfdb9e7c376a",
       "style": "IPY_MODEL_20ed05959b364772855ea032895eb30f",
       "value": " 287/289 [42:43&lt;00:17,  8.93s/it, acc=0.9, loss=0.0824]"
      }
     },
     "48be620f8eeb4a41a3441b417cf54d09": {
      "model_module": "@jupyter-widgets/controls",
      "model_module_version": "1.5.0",
      "model_name": "IntProgressModel",
      "state": {
       "bar_style": "success",
       "description": "Epoch [7/10]: 100%",
       "layout": "IPY_MODEL_6c97f2c969744b20be28d7383ac193e4",
       "max": 277,
       "style": "IPY_MODEL_c033c173233d4b308a2e8494f357cf36",
       "value": 277
      }
     },
     "48dbc20438f840c29ad503574a00b6f5": {
      "model_module": "@jupyter-widgets/controls",
      "model_module_version": "1.5.0",
      "model_name": "HBoxModel",
      "state": {
       "children": [
        "IPY_MODEL_268bfc5dba0f4d209da30d1ea87f73c1",
        "IPY_MODEL_885cb7dafe10415f818136bee7ea56a3"
       ],
       "layout": "IPY_MODEL_97426c3aba1346bdbbd70b5d68480bb0"
      }
     },
     "49bcc797a92a467c9542438377a3e971": {
      "model_module": "@jupyter-widgets/controls",
      "model_module_version": "1.5.0",
      "model_name": "IntProgressModel",
      "state": {
       "bar_style": "danger",
       "description": "Epoch [1/5]: 100%",
       "layout": "IPY_MODEL_0d31bc950a8149b3bd68158dcf70765b",
       "max": 289,
       "style": "IPY_MODEL_5f47b205cddd4843821076ebb192d6a0",
       "value": 288
      }
     },
     "4a2426412d124f6e8d23ed3a49b861cb": {
      "model_module": "@jupyter-widgets/base",
      "model_module_version": "1.2.0",
      "model_name": "LayoutModel",
      "state": {}
     },
     "4a511658e9ea471480c1b611d989b879": {
      "model_module": "@jupyter-widgets/controls",
      "model_module_version": "1.5.0",
      "model_name": "IntProgressModel",
      "state": {
       "bar_style": "success",
       "description": "Epoch [10/10]: 100%",
       "layout": "IPY_MODEL_e512cbe1c4ad4e43a3ba183304feecd8",
       "max": 275,
       "style": "IPY_MODEL_6962246ba1064457b506645857299045",
       "value": 275
      }
     },
     "4a786ff52e694aa3bab00903f0395a26": {
      "model_module": "@jupyter-widgets/base",
      "model_module_version": "1.2.0",
      "model_name": "LayoutModel",
      "state": {}
     },
     "4bb370f48be140dfa4a0a540108eb70b": {
      "model_module": "@jupyter-widgets/controls",
      "model_module_version": "1.5.0",
      "model_name": "IntProgressModel",
      "state": {
       "bar_style": "success",
       "description": "Epoch [5/5]: 100%",
       "layout": "IPY_MODEL_1db4b9083f2e4f7f98f3a7ede9fd2163",
       "max": 282,
       "style": "IPY_MODEL_28c338193a944d30a4671c50e247a32f",
       "value": 282
      }
     },
     "4ca6a02fbea447659bd25f044283fafb": {
      "model_module": "@jupyter-widgets/controls",
      "model_module_version": "1.5.0",
      "model_name": "IntProgressModel",
      "state": {
       "bar_style": "success",
       "description": "Epoch [5/5]: 100%",
       "layout": "IPY_MODEL_1058135593c44d0a8e761a097fbb8968",
       "max": 276,
       "style": "IPY_MODEL_a8072c64205b4e5e8cf12a17f18d7296",
       "value": 276
      }
     },
     "4cadade4b36448c49ef01868fc628359": {
      "model_module": "@jupyter-widgets/controls",
      "model_module_version": "1.5.0",
      "model_name": "HTMLModel",
      "state": {
       "layout": "IPY_MODEL_ec35735aaf3249439374490ef84fe369",
       "style": "IPY_MODEL_2d98c91eb7574ce6b5286bfb8d8e9718",
       "value": " 275/275 [04:00&lt;00:00,  1.15it/s, acc=0.988, loss=0.00542]"
      }
     },
     "4ce972a118a7421d8a709c9e5e97bbdd": {
      "model_module": "@jupyter-widgets/base",
      "model_module_version": "1.2.0",
      "model_name": "LayoutModel",
      "state": {}
     },
     "4d24e96585d745f7a82ae1ba44c53b8f": {
      "model_module": "@jupyter-widgets/base",
      "model_module_version": "1.2.0",
      "model_name": "LayoutModel",
      "state": {}
     },
     "4e9882292fed4503b899407c8c57096a": {
      "model_module": "@jupyter-widgets/controls",
      "model_module_version": "1.5.0",
      "model_name": "HTMLModel",
      "state": {
       "layout": "IPY_MODEL_b977548770914b1985f7d2fb7951089a",
       "style": "IPY_MODEL_185b545ed3144810821f381212009565",
       "value": " 282/282 [00:49&lt;00:00,  5.75it/s, acc=0.937, loss=0.149]"
      }
     },
     "4f3aa13546934eb78f8b22c001be3d6c": {
      "model_module": "@jupyter-widgets/base",
      "model_module_version": "1.2.0",
      "model_name": "LayoutModel",
      "state": {}
     },
     "4f879bd0314d4fd29fe5d474da2eaf16": {
      "model_module": "@jupyter-widgets/controls",
      "model_module_version": "1.5.0",
      "model_name": "HBoxModel",
      "state": {
       "children": [
        "IPY_MODEL_5ae43a70871947439fd26ef6b181abf3",
        "IPY_MODEL_30bccf7145954598b833735505284d7c"
       ],
       "layout": "IPY_MODEL_ce06d93e577046118292e2d8eb0fddd5"
      }
     },
     "50a1bc78388f43919672f9ed9f8d599c": {
      "model_module": "@jupyter-widgets/base",
      "model_module_version": "1.2.0",
      "model_name": "LayoutModel",
      "state": {}
     },
     "50c0f233bca14541b238c6d6819050ef": {
      "model_module": "@jupyter-widgets/controls",
      "model_module_version": "1.5.0",
      "model_name": "DescriptionStyleModel",
      "state": {
       "description_width": ""
      }
     },
     "51c5f43ccf7644ee87e4509820dc27b8": {
      "model_module": "@jupyter-widgets/base",
      "model_module_version": "1.2.0",
      "model_name": "LayoutModel",
      "state": {}
     },
     "51d0161bf1f3435f83bc592361e9f0b2": {
      "model_module": "@jupyter-widgets/controls",
      "model_module_version": "1.5.0",
      "model_name": "IntProgressModel",
      "state": {
       "bar_style": "success",
       "description": "Epoch [9/10]: 100%",
       "layout": "IPY_MODEL_a76bd4a529bb4cc99a367608dfbd3414",
       "max": 277,
       "style": "IPY_MODEL_24ec3b5dfcc54171a6a7501abfa9a9b6",
       "value": 277
      }
     },
     "51d309a4ed8d46afa681cd49035c6a79": {
      "model_module": "@jupyter-widgets/base",
      "model_module_version": "1.2.0",
      "model_name": "LayoutModel",
      "state": {}
     },
     "526af35e333442afa651d0e897917c40": {
      "model_module": "@jupyter-widgets/controls",
      "model_module_version": "1.5.0",
      "model_name": "HTMLModel",
      "state": {
       "layout": "IPY_MODEL_f0c0128366234b6ebb4c7afb833d34b7",
       "style": "IPY_MODEL_a0a5ab12e37f49da91277a6ac23e2981",
       "value": " 280/280 [05:12&lt;00:00,  1.12s/it, acc=0.996, loss=0.0774]"
      }
     },
     "537dee3ff22e4b95843e2069b5119a8f": {
      "model_module": "@jupyter-widgets/base",
      "model_module_version": "1.2.0",
      "model_name": "LayoutModel",
      "state": {}
     },
     "539871badf4640588771382f34cbf956": {
      "model_module": "@jupyter-widgets/controls",
      "model_module_version": "1.5.0",
      "model_name": "DescriptionStyleModel",
      "state": {
       "description_width": ""
      }
     },
     "53f93a39bc3d4616b93e5a52862c9f8f": {
      "model_module": "@jupyter-widgets/base",
      "model_module_version": "1.2.0",
      "model_name": "LayoutModel",
      "state": {}
     },
     "53fbc85dc2dd4cc49a038ed3872d88af": {
      "model_module": "@jupyter-widgets/controls",
      "model_module_version": "1.5.0",
      "model_name": "ProgressStyleModel",
      "state": {
       "description_width": "initial"
      }
     },
     "541f6aa1b9ea4f869573cbcd89927306": {
      "model_module": "@jupyter-widgets/base",
      "model_module_version": "1.2.0",
      "model_name": "LayoutModel",
      "state": {}
     },
     "5446c3c7b7454766897f29c97626726a": {
      "model_module": "@jupyter-widgets/base",
      "model_module_version": "1.2.0",
      "model_name": "LayoutModel",
      "state": {}
     },
     "548347a6e7724deb8e77af629ef51cce": {
      "model_module": "@jupyter-widgets/controls",
      "model_module_version": "1.5.0",
      "model_name": "DescriptionStyleModel",
      "state": {
       "description_width": ""
      }
     },
     "557c00db67c145fdb6bd5bdb40cf0a5d": {
      "model_module": "@jupyter-widgets/controls",
      "model_module_version": "1.5.0",
      "model_name": "ProgressStyleModel",
      "state": {
       "description_width": "initial"
      }
     },
     "561c859b94ff4794a668c20fcb95c3ef": {
      "model_module": "@jupyter-widgets/controls",
      "model_module_version": "1.5.0",
      "model_name": "DescriptionStyleModel",
      "state": {
       "description_width": ""
      }
     },
     "564d0dab926e464e96bf5ff1dc1230d2": {
      "model_module": "@jupyter-widgets/controls",
      "model_module_version": "1.5.0",
      "model_name": "HTMLModel",
      "state": {
       "layout": "IPY_MODEL_51d309a4ed8d46afa681cd49035c6a79",
       "style": "IPY_MODEL_2b0c58ce448d493bbcf63186ca52d2bc",
       "value": " 275/275 [06:38&lt;00:00,  1.45s/it, acc=0.996, loss=0.00704]"
      }
     },
     "57fc6b61a2bb4cfa84929ec4ed30e5d9": {
      "model_module": "@jupyter-widgets/controls",
      "model_module_version": "1.5.0",
      "model_name": "HTMLModel",
      "state": {
       "layout": "IPY_MODEL_3168029ed2ef4945a8c283aab5f81121",
       "style": "IPY_MODEL_c79709f6e7594cb98d75944ae2ddd50d",
       "value": " 286/286 [01:03&lt;00:00,  4.52it/s, acc=0.948, loss=0.0896]"
      }
     },
     "5835303275c647a38b7a79e10ef44b15": {
      "model_module": "@jupyter-widgets/base",
      "model_module_version": "1.2.0",
      "model_name": "LayoutModel",
      "state": {}
     },
     "5854c0eb946943b1aff22fb605129951": {
      "model_module": "@jupyter-widgets/controls",
      "model_module_version": "1.5.0",
      "model_name": "IntProgressModel",
      "state": {
       "bar_style": "danger",
       "description": "Epoch [2/5]:   9%",
       "layout": "IPY_MODEL_b677dfe8acfd456bb0490777052c4f52",
       "max": 615,
       "style": "IPY_MODEL_94fdb8e0a7bb413180c2a0b5a23183bf",
       "value": 54
      }
     },
     "58b63d8e305542e1852e0872ec3efc7a": {
      "model_module": "@jupyter-widgets/controls",
      "model_module_version": "1.5.0",
      "model_name": "IntProgressModel",
      "state": {
       "bar_style": "success",
       "description": "Epoch [2/10]: 100%",
       "layout": "IPY_MODEL_0548e4305f8d494b9ba95c807ca5c799",
       "max": 275,
       "style": "IPY_MODEL_017af8e58e854121b51411ec917ae0bd",
       "value": 275
      }
     },
     "590af45798314c11b7cf883a14ad6406": {
      "model_module": "@jupyter-widgets/controls",
      "model_module_version": "1.5.0",
      "model_name": "HBoxModel",
      "state": {
       "children": [
        "IPY_MODEL_38407711e19c403fbccc15aae07ba7c2",
        "IPY_MODEL_16d12d12ee694850ba93a21c0bdb1e89"
       ],
       "layout": "IPY_MODEL_d4384316c04e4e3b8386eb687f8f3393"
      }
     },
     "591b78c085d84b0d948c01bc4cf2f7d7": {
      "model_module": "@jupyter-widgets/base",
      "model_module_version": "1.2.0",
      "model_name": "LayoutModel",
      "state": {}
     },
     "59dc3e8a8b7448eb9005e135d0a230b1": {
      "model_module": "@jupyter-widgets/controls",
      "model_module_version": "1.5.0",
      "model_name": "HTMLModel",
      "state": {
       "layout": "IPY_MODEL_930e5b7b95134c91b9bbcf6a127afd26",
       "style": "IPY_MODEL_5f88b423b7b54f0f90976142e4230e7d",
       "value": " 282/282 [00:26&lt;00:00, 10.68it/s, acc=0.985, loss=0.0592]"
      }
     },
     "5a34e00860094b77b574ba3191f3031e": {
      "model_module": "@jupyter-widgets/controls",
      "model_module_version": "1.5.0",
      "model_name": "HTMLModel",
      "state": {
       "layout": "IPY_MODEL_ecc199669c554a168c0fdbdfa23291ce",
       "style": "IPY_MODEL_9c5a5743a0854884b98dc9b40a66915d",
       "value": " 282/282 [14:28&lt;00:00,  3.08s/it, acc=0.992, loss=0.00928]"
      }
     },
     "5a99b1617d3a467b8daf0d71cdf25a44": {
      "model_module": "@jupyter-widgets/base",
      "model_module_version": "1.2.0",
      "model_name": "LayoutModel",
      "state": {}
     },
     "5ae43a70871947439fd26ef6b181abf3": {
      "model_module": "@jupyter-widgets/controls",
      "model_module_version": "1.5.0",
      "model_name": "IntProgressModel",
      "state": {
       "bar_style": "success",
       "description": "Epoch [2/5]: 100%",
       "layout": "IPY_MODEL_a244dafeefae4ac4b2197895efbcf3ac",
       "max": 276,
       "style": "IPY_MODEL_53fbc85dc2dd4cc49a038ed3872d88af",
       "value": 276
      }
     },
     "5b02f60eef4446e480d18b925ee94f84": {
      "model_module": "@jupyter-widgets/controls",
      "model_module_version": "1.5.0",
      "model_name": "HBoxModel",
      "state": {
       "children": [
        "IPY_MODEL_18e69c54a5eb451bb332b5188dc2b77a",
        "IPY_MODEL_34811f679e5f40418010e7bea96bd115"
       ],
       "layout": "IPY_MODEL_4a786ff52e694aa3bab00903f0395a26"
      }
     },
     "5b64c423ea9948e6847d75720733b6de": {
      "model_module": "@jupyter-widgets/base",
      "model_module_version": "1.2.0",
      "model_name": "LayoutModel",
      "state": {}
     },
     "5c14c569d9004aae8c802a691c5fb6ce": {
      "model_module": "@jupyter-widgets/controls",
      "model_module_version": "1.5.0",
      "model_name": "ProgressStyleModel",
      "state": {
       "description_width": "initial"
      }
     },
     "5c235ce41ca84f4cb1dbc3f47fc9850c": {
      "model_module": "@jupyter-widgets/controls",
      "model_module_version": "1.5.0",
      "model_name": "HTMLModel",
      "state": {
       "layout": "IPY_MODEL_44f125432db043ff9c12e3c7d6e9fc04",
       "style": "IPY_MODEL_2d8310208aa44393b76fbbd2c57cd261",
       "value": " 280/280 [04:25&lt;00:00,  1.06it/s, acc=0.997, loss=1.08e-5]"
      }
     },
     "5c26b2fccdfb4d36ad11f3e70f15ba85": {
      "model_module": "@jupyter-widgets/base",
      "model_module_version": "1.2.0",
      "model_name": "LayoutModel",
      "state": {}
     },
     "5d3c3fdac2e649489aaf7f9cbd19f69d": {
      "model_module": "@jupyter-widgets/controls",
      "model_module_version": "1.5.0",
      "model_name": "HBoxModel",
      "state": {
       "children": [
        "IPY_MODEL_5dba2a1500f24d3690296f5dbde295db",
        "IPY_MODEL_7007fbb244304c328e3efb972df0fd1a"
       ],
       "layout": "IPY_MODEL_a64c10cb3baf47bfa2996146b32ba586"
      }
     },
     "5dba2a1500f24d3690296f5dbde295db": {
      "model_module": "@jupyter-widgets/controls",
      "model_module_version": "1.5.0",
      "model_name": "IntProgressModel",
      "state": {
       "bar_style": "success",
       "description": "Epoch [4/5]: 100%",
       "layout": "IPY_MODEL_28f08558870f4558ba8ac57f8a0337d9",
       "max": 286,
       "style": "IPY_MODEL_446435a55c884416b213de3caa9eb345",
       "value": 286
      }
     },
     "5eb0ff4734b443b4bc51b7f688fb6ebc": {
      "model_module": "@jupyter-widgets/controls",
      "model_module_version": "1.5.0",
      "model_name": "HTMLModel",
      "state": {
       "layout": "IPY_MODEL_47854cbb5f0946d2bf6a533010a098dc",
       "style": "IPY_MODEL_d0d655f9250c47b7b7c8bf728139f11f",
       "value": " 282/282 [01:23&lt;00:00,  3.36it/s, acc=0.946, loss=0.0152]"
      }
     },
     "5f057092e4d644deab5ab4b5cea5de25": {
      "model_module": "@jupyter-widgets/controls",
      "model_module_version": "1.5.0",
      "model_name": "HBoxModel",
      "state": {
       "children": [
        "IPY_MODEL_d77b732e05a4426e810717323321693a",
        "IPY_MODEL_edd16d86d4f741f599d370bc2ceccc39"
       ],
       "layout": "IPY_MODEL_c8f70cfd63e045ae873f617e6b4eb2c8"
      }
     },
     "5f47b205cddd4843821076ebb192d6a0": {
      "model_module": "@jupyter-widgets/controls",
      "model_module_version": "1.5.0",
      "model_name": "ProgressStyleModel",
      "state": {
       "description_width": "initial"
      }
     },
     "5f61dfecc23945bd8622539b0d6d4301": {
      "model_module": "@jupyter-widgets/controls",
      "model_module_version": "1.5.0",
      "model_name": "IntProgressModel",
      "state": {
       "bar_style": "success",
       "description": "Epoch [1/10]: 100%",
       "layout": "IPY_MODEL_72b877032d8d4a55be9e540aa616f9f4",
       "max": 280,
       "style": "IPY_MODEL_81e46ab894ec42218ead3cf2ed101112",
       "value": 280
      }
     },
     "5f88b423b7b54f0f90976142e4230e7d": {
      "model_module": "@jupyter-widgets/controls",
      "model_module_version": "1.5.0",
      "model_name": "DescriptionStyleModel",
      "state": {
       "description_width": ""
      }
     },
     "5fcaf3ceb0a9483f903cd7ca131c0f2d": {
      "model_module": "@jupyter-widgets/controls",
      "model_module_version": "1.5.0",
      "model_name": "IntProgressModel",
      "state": {
       "bar_style": "success",
       "description": "Epoch [3/10]: 100%",
       "layout": "IPY_MODEL_bc69a97beb424c389d48d50f0011fb4c",
       "max": 279,
       "style": "IPY_MODEL_093d15fcc6ad46188f5b7c989f05c504",
       "value": 279
      }
     },
     "6060e1f17e5649abb84c94338e16d16c": {
      "model_module": "@jupyter-widgets/controls",
      "model_module_version": "1.5.0",
      "model_name": "ProgressStyleModel",
      "state": {
       "description_width": "initial"
      }
     },
     "606387df790f4a2c85dd81f8565719e9": {
      "model_module": "@jupyter-widgets/controls",
      "model_module_version": "1.5.0",
      "model_name": "ProgressStyleModel",
      "state": {
       "description_width": "initial"
      }
     },
     "607d753aa7184cdfb6ff63e1fe73955f": {
      "model_module": "@jupyter-widgets/controls",
      "model_module_version": "1.5.0",
      "model_name": "HBoxModel",
      "state": {
       "children": [
        "IPY_MODEL_f407f0e6590c426aa6ae5828df7b6d61",
        "IPY_MODEL_438ad7b17642439c92fe89205b3f91d8"
       ],
       "layout": "IPY_MODEL_99f34f1454bd41709961fe9624707e15"
      }
     },
     "60fd27dff2f84974bc3f8f4852786b6c": {
      "model_module": "@jupyter-widgets/controls",
      "model_module_version": "1.5.0",
      "model_name": "HTMLModel",
      "state": {
       "layout": "IPY_MODEL_8daaa7e39e2e47068dc205450fa821e3",
       "style": "IPY_MODEL_50c0f233bca14541b238c6d6819050ef",
       "value": " 276/276 [00:29&lt;00:00,  9.50it/s, acc=0.994, loss=0.0116]"
      }
     },
     "6154bddce3fa465ea8db04e1a32129c0": {
      "model_module": "@jupyter-widgets/controls",
      "model_module_version": "1.5.0",
      "model_name": "HBoxModel",
      "state": {
       "children": [
        "IPY_MODEL_49bcc797a92a467c9542438377a3e971",
        "IPY_MODEL_dca2b33830be47688997c42e0f56e7a5"
       ],
       "layout": "IPY_MODEL_5835303275c647a38b7a79e10ef44b15"
      }
     },
     "6169d26d27bc4b8e89746dc15dfb3007": {
      "model_module": "@jupyter-widgets/controls",
      "model_module_version": "1.5.0",
      "model_name": "DescriptionStyleModel",
      "state": {
       "description_width": ""
      }
     },
     "617f1cf40a1440ecabf9c44db6c9afa2": {
      "model_module": "@jupyter-widgets/base",
      "model_module_version": "1.2.0",
      "model_name": "LayoutModel",
      "state": {}
     },
     "618aaf90ff9d4123b605ffd427a34e93": {
      "model_module": "@jupyter-widgets/controls",
      "model_module_version": "1.5.0",
      "model_name": "HTMLModel",
      "state": {
       "layout": "IPY_MODEL_c68abd671d18443cb836a26c1c203764",
       "style": "IPY_MODEL_d9eb0c636336451caa597794aecdcf52",
       "value": " 275/275 [02:25&lt;00:00,  1.88it/s, acc=0.998, loss=0.000717]"
      }
     },
     "618b0f4cc828427381c92729fbd04232": {
      "model_module": "@jupyter-widgets/base",
      "model_module_version": "1.2.0",
      "model_name": "LayoutModel",
      "state": {}
     },
     "62541b091a624bad9529dbffac825607": {
      "model_module": "@jupyter-widgets/controls",
      "model_module_version": "1.5.0",
      "model_name": "DescriptionStyleModel",
      "state": {
       "description_width": ""
      }
     },
     "62bb4bd378314c57a562549bfe5cbe30": {
      "model_module": "@jupyter-widgets/controls",
      "model_module_version": "1.5.0",
      "model_name": "HBoxModel",
      "state": {
       "children": [
        "IPY_MODEL_48be620f8eeb4a41a3441b417cf54d09",
        "IPY_MODEL_99f8741b717d4dff90263f95b1b461d8"
       ],
       "layout": "IPY_MODEL_6f919101d1d54a93b67ce113dd00f9f7"
      }
     },
     "6350223795fe4e6c8a5ae5326dc0572f": {
      "model_module": "@jupyter-widgets/base",
      "model_module_version": "1.2.0",
      "model_name": "LayoutModel",
      "state": {}
     },
     "6388ae87f5914b06b489512a2f597003": {
      "model_module": "@jupyter-widgets/base",
      "model_module_version": "1.2.0",
      "model_name": "LayoutModel",
      "state": {}
     },
     "63bf759c64f1464aa60a75205dbdc71c": {
      "model_module": "@jupyter-widgets/base",
      "model_module_version": "1.2.0",
      "model_name": "LayoutModel",
      "state": {}
     },
     "640f79b2991f41768f18919e8e20f80c": {
      "model_module": "@jupyter-widgets/controls",
      "model_module_version": "1.5.0",
      "model_name": "DescriptionStyleModel",
      "state": {
       "description_width": ""
      }
     },
     "648de3e0a6244ea59f0e317289d5b8e0": {
      "model_module": "@jupyter-widgets/controls",
      "model_module_version": "1.5.0",
      "model_name": "DescriptionStyleModel",
      "state": {
       "description_width": ""
      }
     },
     "64a50f2d09b34468a7ac492543600f2e": {
      "model_module": "@jupyter-widgets/controls",
      "model_module_version": "1.5.0",
      "model_name": "DescriptionStyleModel",
      "state": {
       "description_width": ""
      }
     },
     "64f8ae9903b4477284fb735490a5778b": {
      "model_module": "@jupyter-widgets/controls",
      "model_module_version": "1.5.0",
      "model_name": "DescriptionStyleModel",
      "state": {
       "description_width": ""
      }
     },
     "64fb5345093e45c680245146a55bcf06": {
      "model_module": "@jupyter-widgets/controls",
      "model_module_version": "1.5.0",
      "model_name": "IntProgressModel",
      "state": {
       "bar_style": "success",
       "description": "Epoch [1/10]: 100%",
       "layout": "IPY_MODEL_5446c3c7b7454766897f29c97626726a",
       "max": 275,
       "style": "IPY_MODEL_963d97fb3c5646b7b1cc58b88355c4c6",
       "value": 275
      }
     },
     "65a8e869b78b4f31aaece3d7e883e39f": {
      "model_module": "@jupyter-widgets/base",
      "model_module_version": "1.2.0",
      "model_name": "LayoutModel",
      "state": {}
     },
     "660ee2ab779f43ca95ecc564af03a9a0": {
      "model_module": "@jupyter-widgets/base",
      "model_module_version": "1.2.0",
      "model_name": "LayoutModel",
      "state": {}
     },
     "665404b200654cf880c33f1ae2b6eb35": {
      "model_module": "@jupyter-widgets/controls",
      "model_module_version": "1.5.0",
      "model_name": "ProgressStyleModel",
      "state": {
       "description_width": "initial"
      }
     },
     "671718a7c30a4f0ea739a84fd030d588": {
      "model_module": "@jupyter-widgets/base",
      "model_module_version": "1.2.0",
      "model_name": "LayoutModel",
      "state": {}
     },
     "673b8aa5d8bb4dffa9d050ed3cf2266d": {
      "model_module": "@jupyter-widgets/controls",
      "model_module_version": "1.5.0",
      "model_name": "DescriptionStyleModel",
      "state": {
       "description_width": ""
      }
     },
     "67c4770181ad4170a103e082771b57ef": {
      "model_module": "@jupyter-widgets/controls",
      "model_module_version": "1.5.0",
      "model_name": "HTMLModel",
      "state": {
       "layout": "IPY_MODEL_9a2628b6f033419e9fd91894a6da73a6",
       "style": "IPY_MODEL_922cfb79a09541d8ab91905bd47a5e1d",
       "value": " 275/275 [00:29&lt;00:00,  9.27it/s, acc=0.993, loss=0.00375]"
      }
     },
     "67f29cd0c0774211834cfc9bfedc7696": {
      "model_module": "@jupyter-widgets/base",
      "model_module_version": "1.2.0",
      "model_name": "LayoutModel",
      "state": {}
     },
     "681e27f47dc6456281803c46d1d7e6ed": {
      "model_module": "@jupyter-widgets/base",
      "model_module_version": "1.2.0",
      "model_name": "LayoutModel",
      "state": {}
     },
     "682e4a6264d54cbba76db9421ce817e5": {
      "model_module": "@jupyter-widgets/base",
      "model_module_version": "1.2.0",
      "model_name": "LayoutModel",
      "state": {}
     },
     "690223501b514699a5c876859b7ed1e7": {
      "model_module": "@jupyter-widgets/controls",
      "model_module_version": "1.5.0",
      "model_name": "DescriptionStyleModel",
      "state": {
       "description_width": ""
      }
     },
     "6962246ba1064457b506645857299045": {
      "model_module": "@jupyter-widgets/controls",
      "model_module_version": "1.5.0",
      "model_name": "ProgressStyleModel",
      "state": {
       "description_width": "initial"
      }
     },
     "6a0640c5fef1455cb4351329331d1fcb": {
      "model_module": "@jupyter-widgets/base",
      "model_module_version": "1.2.0",
      "model_name": "LayoutModel",
      "state": {}
     },
     "6a33b27f4a8f4ed1877892d21d84cb7e": {
      "model_module": "@jupyter-widgets/controls",
      "model_module_version": "1.5.0",
      "model_name": "HBoxModel",
      "state": {
       "children": [
        "IPY_MODEL_14cf0b982ae64f05b978c8050f3a8450",
        "IPY_MODEL_da422fe5fb7a4f859cc018b99ce18371"
       ],
       "layout": "IPY_MODEL_23c374f82b0a4192bbb5a1622c49a3ad"
      }
     },
     "6a6bb170a1c74d2e96fb04e06d3e5455": {
      "model_module": "@jupyter-widgets/base",
      "model_module_version": "1.2.0",
      "model_name": "LayoutModel",
      "state": {}
     },
     "6c24b71782734e2dab1c6b92929f1eae": {
      "model_module": "@jupyter-widgets/controls",
      "model_module_version": "1.5.0",
      "model_name": "HBoxModel",
      "state": {
       "children": [
        "IPY_MODEL_77b5ddfd30734c7283dcdeaa2ae98edf",
        "IPY_MODEL_285565e091ed484eb7776965a204379b"
       ],
       "layout": "IPY_MODEL_a7b99b13e7274a3aa82150659d7b1a9c"
      }
     },
     "6c97f2c969744b20be28d7383ac193e4": {
      "model_module": "@jupyter-widgets/base",
      "model_module_version": "1.2.0",
      "model_name": "LayoutModel",
      "state": {}
     },
     "6d65163538d64b51afc6be747d8de1d8": {
      "model_module": "@jupyter-widgets/base",
      "model_module_version": "1.2.0",
      "model_name": "LayoutModel",
      "state": {}
     },
     "6dcad1402b8840f1b67ee1a60b6fa0fd": {
      "model_module": "@jupyter-widgets/controls",
      "model_module_version": "1.5.0",
      "model_name": "HBoxModel",
      "state": {
       "children": [
        "IPY_MODEL_c6f0bc531ed14df19fdbfe585f8cafd4",
        "IPY_MODEL_5eb0ff4734b443b4bc51b7f688fb6ebc"
       ],
       "layout": "IPY_MODEL_1e006f9f0c6c45888e57678e399d1e3d"
      }
     },
     "6e39c10964b9428eb6dcd14bb031a970": {
      "model_module": "@jupyter-widgets/controls",
      "model_module_version": "1.5.0",
      "model_name": "HBoxModel",
      "state": {
       "children": [
        "IPY_MODEL_2aefa75f136c4bee880997b6a746c598",
        "IPY_MODEL_772beff3597f4c6d8eae3d029f592027"
       ],
       "layout": "IPY_MODEL_7334065013f54c8d9222ee0fa7acf9a1"
      }
     },
     "6f919101d1d54a93b67ce113dd00f9f7": {
      "model_module": "@jupyter-widgets/base",
      "model_module_version": "1.2.0",
      "model_name": "LayoutModel",
      "state": {}
     },
     "7007fbb244304c328e3efb972df0fd1a": {
      "model_module": "@jupyter-widgets/controls",
      "model_module_version": "1.5.0",
      "model_name": "HTMLModel",
      "state": {
       "layout": "IPY_MODEL_4701a89a84674594a8f069cbb1fc4847",
       "style": "IPY_MODEL_afeebadf0f5146479d3db85c1e47a503",
       "value": " 286/286 [01:04&lt;00:00,  4.41it/s, acc=0.992, loss=0.022]"
      }
     },
     "70770bdb46ce4007b40f0bbe53742b0f": {
      "model_module": "@jupyter-widgets/controls",
      "model_module_version": "1.5.0",
      "model_name": "IntProgressModel",
      "state": {
       "bar_style": "success",
       "description": "Epoch [3/10]: 100%",
       "layout": "IPY_MODEL_f5d75180ed584a00958a5895436bf848",
       "max": 275,
       "style": "IPY_MODEL_a9f7371ba150405281846ddc894f3623",
       "value": 275
      }
     },
     "708686ec57d74781b1ba0256d13425f5": {
      "model_module": "@jupyter-widgets/controls",
      "model_module_version": "1.5.0",
      "model_name": "HBoxModel",
      "state": {
       "children": [
        "IPY_MODEL_415aac685efc473fa81d23dc2ff51e4b",
        "IPY_MODEL_94673e1632cd4b2ab6cea7c7c8723812"
       ],
       "layout": "IPY_MODEL_06563788fbe14860b90af9e47dcff51a"
      }
     },
     "70f16b4d704b4b098c56a1c1569afed3": {
      "model_module": "@jupyter-widgets/controls",
      "model_module_version": "1.5.0",
      "model_name": "HBoxModel",
      "state": {
       "children": [
        "IPY_MODEL_c69ad6924abc4d18a6f55f31fc3ccc32",
        "IPY_MODEL_8dfda4883cc74713af826fc9576074a3"
       ],
       "layout": "IPY_MODEL_8dda41b4df084868b2c90c5fadd083d0"
      }
     },
     "71615226ae6845379781ec3702ec913d": {
      "model_module": "@jupyter-widgets/base",
      "model_module_version": "1.2.0",
      "model_name": "LayoutModel",
      "state": {}
     },
     "71e3872a131c4187b7fb9b4afd0ce6b7": {
      "model_module": "@jupyter-widgets/base",
      "model_module_version": "1.2.0",
      "model_name": "LayoutModel",
      "state": {}
     },
     "72b877032d8d4a55be9e540aa616f9f4": {
      "model_module": "@jupyter-widgets/base",
      "model_module_version": "1.2.0",
      "model_name": "LayoutModel",
      "state": {}
     },
     "7334065013f54c8d9222ee0fa7acf9a1": {
      "model_module": "@jupyter-widgets/base",
      "model_module_version": "1.2.0",
      "model_name": "LayoutModel",
      "state": {}
     },
     "7334c1e4e4a747e39be5d9d91f05ec34": {
      "model_module": "@jupyter-widgets/controls",
      "model_module_version": "1.5.0",
      "model_name": "HTMLModel",
      "state": {
       "layout": "IPY_MODEL_76b01188cf104d45afe2032764f8638e",
       "style": "IPY_MODEL_7baeac47b9e64e3c8a60a9eb7a1c7df5",
       "value": " 282/282 [00:38&lt;00:00,  7.30it/s, acc=0.991, loss=0.177]"
      }
     },
     "73520018abf647c0a7c7071abe56a977": {
      "model_module": "@jupyter-widgets/base",
      "model_module_version": "1.2.0",
      "model_name": "LayoutModel",
      "state": {}
     },
     "73c3e33ec0c949a8ab3b945d6996c62d": {
      "model_module": "@jupyter-widgets/controls",
      "model_module_version": "1.5.0",
      "model_name": "IntProgressModel",
      "state": {
       "bar_style": "success",
       "description": "Epoch [9/10]: 100%",
       "layout": "IPY_MODEL_7ee46592931d48a5bc0319f0099dcc69",
       "max": 280,
       "style": "IPY_MODEL_1bb4ad93dcc849bdb507e229bfac3a39",
       "value": 280
      }
     },
     "741817b5ad3c43be951cd0ed2c5e3de2": {
      "model_module": "@jupyter-widgets/base",
      "model_module_version": "1.2.0",
      "model_name": "LayoutModel",
      "state": {}
     },
     "7430fbe5e4f246e2ac74fb2ca8a4a619": {
      "model_module": "@jupyter-widgets/controls",
      "model_module_version": "1.5.0",
      "model_name": "ProgressStyleModel",
      "state": {
       "description_width": "initial"
      }
     },
     "74d5f229816d482e84477649134e901d": {
      "model_module": "@jupyter-widgets/controls",
      "model_module_version": "1.5.0",
      "model_name": "IntProgressModel",
      "state": {
       "bar_style": "success",
       "description": "Epoch [8/10]: 100%",
       "layout": "IPY_MODEL_591b78c085d84b0d948c01bc4cf2f7d7",
       "max": 275,
       "style": "IPY_MODEL_1f2e814f384e437287fa797912069088",
       "value": 275
      }
     },
     "758c7b9524e94631864b90da5d42a715": {
      "model_module": "@jupyter-widgets/base",
      "model_module_version": "1.2.0",
      "model_name": "LayoutModel",
      "state": {}
     },
     "761897e273c84a608eba3bafa67a700c": {
      "model_module": "@jupyter-widgets/controls",
      "model_module_version": "1.5.0",
      "model_name": "ProgressStyleModel",
      "state": {
       "description_width": "initial"
      }
     },
     "764e80f0225c4c7d85bbbc033104458d": {
      "model_module": "@jupyter-widgets/base",
      "model_module_version": "1.2.0",
      "model_name": "LayoutModel",
      "state": {}
     },
     "76601e420483453997d3feb09541d22e": {
      "model_module": "@jupyter-widgets/controls",
      "model_module_version": "1.5.0",
      "model_name": "ProgressStyleModel",
      "state": {
       "description_width": "initial"
      }
     },
     "76a4842743c84e1682e63807dfad3c5b": {
      "model_module": "@jupyter-widgets/controls",
      "model_module_version": "1.5.0",
      "model_name": "ProgressStyleModel",
      "state": {
       "description_width": "initial"
      }
     },
     "76b01188cf104d45afe2032764f8638e": {
      "model_module": "@jupyter-widgets/base",
      "model_module_version": "1.2.0",
      "model_name": "LayoutModel",
      "state": {}
     },
     "76d4a5f12d0a4d34a599493a61897e2b": {
      "model_module": "@jupyter-widgets/controls",
      "model_module_version": "1.5.0",
      "model_name": "ProgressStyleModel",
      "state": {
       "description_width": "initial"
      }
     },
     "76ebaf9ee5184109aa18cd4e1db48e85": {
      "model_module": "@jupyter-widgets/controls",
      "model_module_version": "1.5.0",
      "model_name": "HTMLModel",
      "state": {
       "layout": "IPY_MODEL_1482caebb7564a45a27e81e2bd541ef5",
       "style": "IPY_MODEL_3803aa1099b0419dbe3e8739bf8d8e56",
       "value": " 280/280 [06:00&lt;00:00,  1.29s/it, acc=0.989, loss=0.00135]"
      }
     },
     "7729c62ce94a4359851e0ebb95dac6fd": {
      "model_module": "@jupyter-widgets/controls",
      "model_module_version": "1.5.0",
      "model_name": "DescriptionStyleModel",
      "state": {
       "description_width": ""
      }
     },
     "772beff3597f4c6d8eae3d029f592027": {
      "model_module": "@jupyter-widgets/controls",
      "model_module_version": "1.5.0",
      "model_name": "HTMLModel",
      "state": {
       "layout": "IPY_MODEL_1f75c4a5fc7545478ad69b0a90be6480",
       "style": "IPY_MODEL_14cfa3d0bc754a25b0cbbb6de17a2261",
       "value": " 615/615 [04:04&lt;00:00,  2.51it/s, acc=0.939, loss=1.01]"
      }
     },
     "7768ef892500441ea62c2d5ac6069ade": {
      "model_module": "@jupyter-widgets/controls",
      "model_module_version": "1.5.0",
      "model_name": "HTMLModel",
      "state": {
       "layout": "IPY_MODEL_eb3ea45f9f3c4e5e986cb9acc37b373c",
       "style": "IPY_MODEL_2e799b18c5be42e4bd0687942d605f3d",
       "value": " 277/277 [01:48&lt;00:00,  2.55it/s, acc=0.993, loss=0.0146]"
      }
     },
     "77b134a3d1a5456095e2f319cd042c68": {
      "model_module": "@jupyter-widgets/base",
      "model_module_version": "1.2.0",
      "model_name": "LayoutModel",
      "state": {}
     },
     "77b5ddfd30734c7283dcdeaa2ae98edf": {
      "model_module": "@jupyter-widgets/controls",
      "model_module_version": "1.5.0",
      "model_name": "IntProgressModel",
      "state": {
       "bar_style": "success",
       "description": "Epoch [3/10]: 100%",
       "layout": "IPY_MODEL_00bf8525108c47b9811b2583c4054faf",
       "max": 280,
       "style": "IPY_MODEL_3c96537612fc4bb4800559b8bc71a1f7",
       "value": 280
      }
     },
     "782c993f4a6a4704ac8e74b6c2e15f47": {
      "model_module": "@jupyter-widgets/controls",
      "model_module_version": "1.5.0",
      "model_name": "IntProgressModel",
      "state": {
       "bar_style": "success",
       "description": "Epoch [10/10]: 100%",
       "layout": "IPY_MODEL_d13db1231c7b4a67acc86450143c6595",
       "max": 280,
       "style": "IPY_MODEL_db8fe664a8fe4b80878225c905d440a7",
       "value": 280
      }
     },
     "7839136038d9406ba9e93420ed81f59c": {
      "model_module": "@jupyter-widgets/controls",
      "model_module_version": "1.5.0",
      "model_name": "HBoxModel",
      "state": {
       "children": [
        "IPY_MODEL_ef38579ceff84263a25498ab51df2700",
        "IPY_MODEL_970f262e51db45ee8d59d85f94359dc1"
       ],
       "layout": "IPY_MODEL_71615226ae6845379781ec3702ec913d"
      }
     },
     "78d47480e925458a92851742a4e01b18": {
      "model_module": "@jupyter-widgets/controls",
      "model_module_version": "1.5.0",
      "model_name": "IntProgressModel",
      "state": {
       "bar_style": "success",
       "description": "Epoch [1/10]: 100%",
       "layout": "IPY_MODEL_829f4592f9e047ed86c4f036deb6cfcd",
       "max": 279,
       "style": "IPY_MODEL_d4d9362e44f446488bedf59d5d44d73a",
       "value": 279
      }
     },
     "790c4dd5a50040789204046f42bab71b": {
      "model_module": "@jupyter-widgets/base",
      "model_module_version": "1.2.0",
      "model_name": "LayoutModel",
      "state": {}
     },
     "790c80e0186b42eb8e3e182dd07ea869": {
      "model_module": "@jupyter-widgets/base",
      "model_module_version": "1.2.0",
      "model_name": "LayoutModel",
      "state": {}
     },
     "79a6cb479864453cbdef5c6000767898": {
      "model_module": "@jupyter-widgets/controls",
      "model_module_version": "1.5.0",
      "model_name": "IntProgressModel",
      "state": {
       "bar_style": "danger",
       "description": "  0%",
       "layout": "IPY_MODEL_758c7b9524e94631864b90da5d42a715",
       "max": 275,
       "style": "IPY_MODEL_8ae276a7f1294a99bb438e8c8f96948f"
      }
     },
     "7ad420d06e4c4cbba3a17736f06b577f": {
      "model_module": "@jupyter-widgets/base",
      "model_module_version": "1.2.0",
      "model_name": "LayoutModel",
      "state": {}
     },
     "7b732accab214500a0ec6ac7f68feec9": {
      "model_module": "@jupyter-widgets/controls",
      "model_module_version": "1.5.0",
      "model_name": "HTMLModel",
      "state": {
       "layout": "IPY_MODEL_b3b76ee11afa4d038376a4fec3f5e9b9",
       "style": "IPY_MODEL_7729c62ce94a4359851e0ebb95dac6fd",
       "value": " 275/275 [04:11&lt;00:00,  1.09it/s, acc=0.897, loss=0.151]"
      }
     },
     "7b85a9daee0e405f9c8ab20eefefbab7": {
      "model_module": "@jupyter-widgets/controls",
      "model_module_version": "1.5.0",
      "model_name": "ProgressStyleModel",
      "state": {
       "description_width": "initial"
      }
     },
     "7baeac47b9e64e3c8a60a9eb7a1c7df5": {
      "model_module": "@jupyter-widgets/controls",
      "model_module_version": "1.5.0",
      "model_name": "DescriptionStyleModel",
      "state": {
       "description_width": ""
      }
     },
     "7bfe480cfbda4ca7b4979c031957ecf6": {
      "model_module": "@jupyter-widgets/controls",
      "model_module_version": "1.5.0",
      "model_name": "DescriptionStyleModel",
      "state": {
       "description_width": ""
      }
     },
     "7c1f9a077656491c8c4bade20e7f728f": {
      "model_module": "@jupyter-widgets/controls",
      "model_module_version": "1.5.0",
      "model_name": "HBoxModel",
      "state": {
       "children": [
        "IPY_MODEL_c49b23caa97646879e62ffd1aa5c0028",
        "IPY_MODEL_8482e8626600434fa12397bf8fcfe2aa"
       ],
       "layout": "IPY_MODEL_e7a05dd2e1084a2fb1864638bb85285d"
      }
     },
     "7c2b55022956439d831500b5efddb6af": {
      "model_module": "@jupyter-widgets/controls",
      "model_module_version": "1.5.0",
      "model_name": "ProgressStyleModel",
      "state": {
       "description_width": "initial"
      }
     },
     "7ee46592931d48a5bc0319f0099dcc69": {
      "model_module": "@jupyter-widgets/base",
      "model_module_version": "1.2.0",
      "model_name": "LayoutModel",
      "state": {}
     },
     "81e46ab894ec42218ead3cf2ed101112": {
      "model_module": "@jupyter-widgets/controls",
      "model_module_version": "1.5.0",
      "model_name": "ProgressStyleModel",
      "state": {
       "description_width": "initial"
      }
     },
     "829f4592f9e047ed86c4f036deb6cfcd": {
      "model_module": "@jupyter-widgets/base",
      "model_module_version": "1.2.0",
      "model_name": "LayoutModel",
      "state": {}
     },
     "82dca582a22d4e2e8fc4bb6d9095fed4": {
      "model_module": "@jupyter-widgets/controls",
      "model_module_version": "1.5.0",
      "model_name": "DescriptionStyleModel",
      "state": {
       "description_width": ""
      }
     },
     "83675abd1d8241f0978bf3ba0bfecd98": {
      "model_module": "@jupyter-widgets/controls",
      "model_module_version": "1.5.0",
      "model_name": "HTMLModel",
      "state": {
       "layout": "IPY_MODEL_e02af827b9914293b71f7caa2575780e",
       "style": "IPY_MODEL_82dca582a22d4e2e8fc4bb6d9095fed4",
       "value": " 275/275 [03:24&lt;00:00,  1.34it/s, acc=0.995, loss=0.00266]"
      }
     },
     "83fb86e06ee24114b6df6f09bb3e02f2": {
      "model_module": "@jupyter-widgets/controls",
      "model_module_version": "1.5.0",
      "model_name": "HBoxModel",
      "state": {
       "children": [
        "IPY_MODEL_da9c9013c3d747c4affe300e186944da",
        "IPY_MODEL_01a900e23fd748c1877640d69efa145d"
       ],
       "layout": "IPY_MODEL_6350223795fe4e6c8a5ae5326dc0572f"
      }
     },
     "84116ebbf82a4da0967c12e24999ee97": {
      "model_module": "@jupyter-widgets/base",
      "model_module_version": "1.2.0",
      "model_name": "LayoutModel",
      "state": {}
     },
     "8482e8626600434fa12397bf8fcfe2aa": {
      "model_module": "@jupyter-widgets/controls",
      "model_module_version": "1.5.0",
      "model_name": "HTMLModel",
      "state": {
       "layout": "IPY_MODEL_e42c874d02e745b1b6dda3f9eb3a1586",
       "style": "IPY_MODEL_44aa26a4f8514874b732df0ad2df16c3",
       "value": " 279/279 [22:08:28&lt;00:00, 285.69s/it, acc=0.994, loss=0.1]"
      }
     },
     "84e893a7af66485f9feea8e56c026b37": {
      "model_module": "@jupyter-widgets/controls",
      "model_module_version": "1.5.0",
      "model_name": "HBoxModel",
      "state": {
       "children": [
        "IPY_MODEL_1e7b5aed1e5a44b0bf915498f29fa349",
        "IPY_MODEL_24e5cc814ae948fc95ebd4e1252af08c"
       ],
       "layout": "IPY_MODEL_94bd0c49943d4195ae981eaea0b3d581"
      }
     },
     "8515017ff2c34b4596b2e03d88a1c5ab": {
      "model_module": "@jupyter-widgets/base",
      "model_module_version": "1.2.0",
      "model_name": "LayoutModel",
      "state": {}
     },
     "8595890973c94fdd931be0a8e8614350": {
      "model_module": "@jupyter-widgets/controls",
      "model_module_version": "1.5.0",
      "model_name": "ProgressStyleModel",
      "state": {
       "description_width": "initial"
      }
     },
     "865a787fe8b740329d4835dfc185969a": {
      "model_module": "@jupyter-widgets/controls",
      "model_module_version": "1.5.0",
      "model_name": "IntProgressModel",
      "state": {
       "bar_style": "success",
       "description": "Epoch [7/10]: 100%",
       "layout": "IPY_MODEL_c58de4639e874e449c3eb175d5207665",
       "max": 280,
       "style": "IPY_MODEL_3e8f3b24a0494fce9192d793ff783139",
       "value": 280
      }
     },
     "87d7df7c641a460a8a7d576b05eaf3ec": {
      "model_module": "@jupyter-widgets/controls",
      "model_module_version": "1.5.0",
      "model_name": "ProgressStyleModel",
      "state": {
       "description_width": "initial"
      }
     },
     "88332998edd541868c6a341c1f1f1d32": {
      "model_module": "@jupyter-widgets/controls",
      "model_module_version": "1.5.0",
      "model_name": "HBoxModel",
      "state": {
       "children": [
        "IPY_MODEL_d54ee7fa32c5495c9dbae94be3905851",
        "IPY_MODEL_435545f654b8424aa3f6839f45b51e98"
       ],
       "layout": "IPY_MODEL_e78ba5e3dc154afd87cc7d515706d51b"
      }
     },
     "885cb7dafe10415f818136bee7ea56a3": {
      "model_module": "@jupyter-widgets/controls",
      "model_module_version": "1.5.0",
      "model_name": "HTMLModel",
      "state": {
       "layout": "IPY_MODEL_95f2e206777f49d7a9de82a797ac4fe5",
       "style": "IPY_MODEL_f87034484b934c68abb5387c7cc356b8",
       "value": " 282/282 [00:30&lt;00:00,  9.18it/s, acc=0.992, loss=0.0222]"
      }
     },
     "88b6da567f7149adb8362bbff8c47eda": {
      "model_module": "@jupyter-widgets/base",
      "model_module_version": "1.2.0",
      "model_name": "LayoutModel",
      "state": {}
     },
     "88de112366e84f8aafdc0d49ba180a82": {
      "model_module": "@jupyter-widgets/base",
      "model_module_version": "1.2.0",
      "model_name": "LayoutModel",
      "state": {}
     },
     "8994966a2b4548279a58593faafd8c8e": {
      "model_module": "@jupyter-widgets/base",
      "model_module_version": "1.2.0",
      "model_name": "LayoutModel",
      "state": {}
     },
     "8a3e3331e5404db6ad69e3e53e36dd83": {
      "model_module": "@jupyter-widgets/base",
      "model_module_version": "1.2.0",
      "model_name": "LayoutModel",
      "state": {}
     },
     "8a4dd41397cd41428b7871240e4ad97f": {
      "model_module": "@jupyter-widgets/controls",
      "model_module_version": "1.5.0",
      "model_name": "HBoxModel",
      "state": {
       "children": [
        "IPY_MODEL_d100f0b2336341a88e51d9bffd0051e8",
        "IPY_MODEL_47e3a0c219af4b46a3071d1de02172d1"
       ],
       "layout": "IPY_MODEL_5c26b2fccdfb4d36ad11f3e70f15ba85"
      }
     },
     "8a5a609dc56b4c09a51070f2318b0d67": {
      "model_module": "@jupyter-widgets/controls",
      "model_module_version": "1.5.0",
      "model_name": "IntProgressModel",
      "state": {
       "bar_style": "danger",
       "description": "Epoch [1/5]:  99%",
       "layout": "IPY_MODEL_4f3aa13546934eb78f8b22c001be3d6c",
       "max": 289,
       "style": "IPY_MODEL_13fdd6d625a04027bff5361b1afa9274",
       "value": 287
      }
     },
     "8ae276a7f1294a99bb438e8c8f96948f": {
      "model_module": "@jupyter-widgets/controls",
      "model_module_version": "1.5.0",
      "model_name": "ProgressStyleModel",
      "state": {
       "description_width": "initial"
      }
     },
     "8c2994be3ada4d30b6fa64e98ded577b": {
      "model_module": "@jupyter-widgets/controls",
      "model_module_version": "1.5.0",
      "model_name": "DescriptionStyleModel",
      "state": {
       "description_width": ""
      }
     },
     "8c7a3704c50546bf9bf8afed3441605c": {
      "model_module": "@jupyter-widgets/controls",
      "model_module_version": "1.5.0",
      "model_name": "HBoxModel",
      "state": {
       "children": [
        "IPY_MODEL_a170fc06dd1a476a9807ae94eea41395",
        "IPY_MODEL_282c594919374ab28ced93213d89022a"
       ],
       "layout": "IPY_MODEL_d4be7248c9e84865b6144e901faf39c7"
      }
     },
     "8cee8d6e8798410e8bb017f8fee840d1": {
      "model_module": "@jupyter-widgets/base",
      "model_module_version": "1.2.0",
      "model_name": "LayoutModel",
      "state": {}
     },
     "8d5a94ddb316431ba1847c654c59ed6c": {
      "model_module": "@jupyter-widgets/base",
      "model_module_version": "1.2.0",
      "model_name": "LayoutModel",
      "state": {}
     },
     "8daaa7e39e2e47068dc205450fa821e3": {
      "model_module": "@jupyter-widgets/base",
      "model_module_version": "1.2.0",
      "model_name": "LayoutModel",
      "state": {}
     },
     "8dda41b4df084868b2c90c5fadd083d0": {
      "model_module": "@jupyter-widgets/base",
      "model_module_version": "1.2.0",
      "model_name": "LayoutModel",
      "state": {}
     },
     "8dfda4883cc74713af826fc9576074a3": {
      "model_module": "@jupyter-widgets/controls",
      "model_module_version": "1.5.0",
      "model_name": "HTMLModel",
      "state": {
       "layout": "IPY_MODEL_f6146a19bb2d4fd8af335f46fef03a1d",
       "style": "IPY_MODEL_9cdecd0c3c9a48f9884c65e991e6aaaf",
       "value": " 280/280 [05:24&lt;00:00,  1.16s/it, acc=0.995, loss=0.0346]"
      }
     },
     "8e30cb3379ab48b8a31884a9ebea01f4": {
      "model_module": "@jupyter-widgets/controls",
      "model_module_version": "1.5.0",
      "model_name": "ProgressStyleModel",
      "state": {
       "description_width": "initial"
      }
     },
     "8f2793642647407f92196221ea03b8ee": {
      "model_module": "@jupyter-widgets/controls",
      "model_module_version": "1.5.0",
      "model_name": "DescriptionStyleModel",
      "state": {
       "description_width": ""
      }
     },
     "8fcbc51b08bb4326bb47d9ee9a57a052": {
      "model_module": "@jupyter-widgets/controls",
      "model_module_version": "1.5.0",
      "model_name": "IntProgressModel",
      "state": {
       "bar_style": "success",
       "description": "Epoch [2/10]: 100%",
       "layout": "IPY_MODEL_cb26ac18d00f4504963c04dca69a3870",
       "max": 280,
       "style": "IPY_MODEL_eddbbcee60df4aec8360c9be073a33f7",
       "value": 280
      }
     },
     "900c603cb4c547eaae1169de34a41a85": {
      "model_module": "@jupyter-widgets/controls",
      "model_module_version": "1.5.0",
      "model_name": "HTMLModel",
      "state": {
       "layout": "IPY_MODEL_d9c2364efbc544d989e32b7a80c0760a",
       "style": "IPY_MODEL_3eeea982c6864be88bbad85c0cf8941e",
       "value": " 277/277 [00:38&lt;00:00,  7.28it/s, acc=0.998, loss=0.00131]"
      }
     },
     "90cd1e4ba6f04f1f9be11ced74dbc224": {
      "model_module": "@jupyter-widgets/controls",
      "model_module_version": "1.5.0",
      "model_name": "HBoxModel",
      "state": {
       "children": [
        "IPY_MODEL_70770bdb46ce4007b40f0bbe53742b0f",
        "IPY_MODEL_ea7879be8f334d3f807755928660648c"
       ],
       "layout": "IPY_MODEL_37e287d6e86f4b7ea4e26677c4504946"
      }
     },
     "913e85aa422a40cf92a1e8e2ac9c69df": {
      "model_module": "@jupyter-widgets/controls",
      "model_module_version": "1.5.0",
      "model_name": "HBoxModel",
      "state": {
       "children": [
        "IPY_MODEL_1ea3821334fc48c6aa1c0d8644ac760f",
        "IPY_MODEL_33ac54b3b47749bdb4bf06379171eeaa"
       ],
       "layout": "IPY_MODEL_9e4131ce625044dd8779def7ba145e56"
      }
     },
     "91c2a194d3b346059469235961ee1dd4": {
      "model_module": "@jupyter-widgets/base",
      "model_module_version": "1.2.0",
      "model_name": "LayoutModel",
      "state": {}
     },
     "922cfb79a09541d8ab91905bd47a5e1d": {
      "model_module": "@jupyter-widgets/controls",
      "model_module_version": "1.5.0",
      "model_name": "DescriptionStyleModel",
      "state": {
       "description_width": ""
      }
     },
     "9252ef21f60d49cb8f125f015186d1bb": {
      "model_module": "@jupyter-widgets/controls",
      "model_module_version": "1.5.0",
      "model_name": "HBoxModel",
      "state": {
       "children": [
        "IPY_MODEL_0a66ea09c4f64a47ba8694ed7f11a162",
        "IPY_MODEL_e87d593bc7e14304a97a1b9820920693"
       ],
       "layout": "IPY_MODEL_4ce972a118a7421d8a709c9e5e97bbdd"
      }
     },
     "92ada78408734527a9b85b2398f0cf5b": {
      "model_module": "@jupyter-widgets/controls",
      "model_module_version": "1.5.0",
      "model_name": "DescriptionStyleModel",
      "state": {
       "description_width": ""
      }
     },
     "930e5b7b95134c91b9bbcf6a127afd26": {
      "model_module": "@jupyter-widgets/base",
      "model_module_version": "1.2.0",
      "model_name": "LayoutModel",
      "state": {}
     },
     "933327d1921443a2b7e50d6a2385b1b0": {
      "model_module": "@jupyter-widgets/controls",
      "model_module_version": "1.5.0",
      "model_name": "HBoxModel",
      "state": {
       "children": [
        "IPY_MODEL_1abf0813aa924954b240db726e9d82c1",
        "IPY_MODEL_526af35e333442afa651d0e897917c40"
       ],
       "layout": "IPY_MODEL_0c296edc385c4d4ba81d4369fcf198c8"
      }
     },
     "944e39e43d724065a2415276bd7dfeb6": {
      "model_module": "@jupyter-widgets/base",
      "model_module_version": "1.2.0",
      "model_name": "LayoutModel",
      "state": {}
     },
     "94673e1632cd4b2ab6cea7c7c8723812": {
      "model_module": "@jupyter-widgets/controls",
      "model_module_version": "1.5.0",
      "model_name": "HTMLModel",
      "state": {
       "layout": "IPY_MODEL_efdd760cdd6e4713902a68b1588e0c49",
       "style": "IPY_MODEL_64a50f2d09b34468a7ac492543600f2e",
       "value": " 276/276 [00:51&lt;00:00,  5.39it/s, acc=0.991, loss=0.0309]"
      }
     },
     "94bd0c49943d4195ae981eaea0b3d581": {
      "model_module": "@jupyter-widgets/base",
      "model_module_version": "1.2.0",
      "model_name": "LayoutModel",
      "state": {}
     },
     "94fdb8e0a7bb413180c2a0b5a23183bf": {
      "model_module": "@jupyter-widgets/controls",
      "model_module_version": "1.5.0",
      "model_name": "ProgressStyleModel",
      "state": {
       "description_width": "initial"
      }
     },
     "9532ce33ec294f47a687e3ad797be7dd": {
      "model_module": "@jupyter-widgets/controls",
      "model_module_version": "1.5.0",
      "model_name": "IntProgressModel",
      "state": {
       "bar_style": "success",
       "description": "Epoch [8/10]: 100%",
       "layout": "IPY_MODEL_d13ce11a027f428995c172a6523dccdb",
       "max": 275,
       "style": "IPY_MODEL_665404b200654cf880c33f1ae2b6eb35",
       "value": 275
      }
     },
     "955e21802fcd413a87eafc9855ae1c9b": {
      "model_module": "@jupyter-widgets/base",
      "model_module_version": "1.2.0",
      "model_name": "LayoutModel",
      "state": {}
     },
     "95f2e206777f49d7a9de82a797ac4fe5": {
      "model_module": "@jupyter-widgets/base",
      "model_module_version": "1.2.0",
      "model_name": "LayoutModel",
      "state": {}
     },
     "9608051f78e944659b6e1f9a01e40d8c": {
      "model_module": "@jupyter-widgets/controls",
      "model_module_version": "1.5.0",
      "model_name": "HTMLModel",
      "state": {
       "layout": "IPY_MODEL_3b8cdff0a5804127a0aec94d75cedda8",
       "style": "IPY_MODEL_539871badf4640588771382f34cbf956",
       "value": " 275/275 [06:49&lt;00:00,  1.49s/it, acc=0.995, loss=0.00347]"
      }
     },
     "9635251f72084ad8931a29f9ec7edea4": {
      "model_module": "@jupyter-widgets/controls",
      "model_module_version": "1.5.0",
      "model_name": "ProgressStyleModel",
      "state": {
       "description_width": "initial"
      }
     },
     "963d97fb3c5646b7b1cc58b88355c4c6": {
      "model_module": "@jupyter-widgets/controls",
      "model_module_version": "1.5.0",
      "model_name": "ProgressStyleModel",
      "state": {
       "description_width": "initial"
      }
     },
     "970f262e51db45ee8d59d85f94359dc1": {
      "model_module": "@jupyter-widgets/controls",
      "model_module_version": "1.5.0",
      "model_name": "HTMLModel",
      "state": {
       "layout": "IPY_MODEL_202ec6721a6046f98dfccfbf29c6726d",
       "style": "IPY_MODEL_23de282d02e94c349148391f7f5051b7",
       "value": " 275/275 [02:37&lt;00:00,  1.74it/s, acc=0.997, loss=0.00607]"
      }
     },
     "97426c3aba1346bdbbd70b5d68480bb0": {
      "model_module": "@jupyter-widgets/base",
      "model_module_version": "1.2.0",
      "model_name": "LayoutModel",
      "state": {}
     },
     "978bb5e4ca034b21b0c97a343395e1aa": {
      "model_module": "@jupyter-widgets/controls",
      "model_module_version": "1.5.0",
      "model_name": "ProgressStyleModel",
      "state": {
       "description_width": "initial"
      }
     },
     "989f44315f5245999321455338f33c03": {
      "model_module": "@jupyter-widgets/controls",
      "model_module_version": "1.5.0",
      "model_name": "ProgressStyleModel",
      "state": {
       "description_width": "initial"
      }
     },
     "998699e978e7430da64e6ea6f3563cc9": {
      "model_module": "@jupyter-widgets/controls",
      "model_module_version": "1.5.0",
      "model_name": "ProgressStyleModel",
      "state": {
       "description_width": "initial"
      }
     },
     "99f34f1454bd41709961fe9624707e15": {
      "model_module": "@jupyter-widgets/base",
      "model_module_version": "1.2.0",
      "model_name": "LayoutModel",
      "state": {}
     },
     "99f8741b717d4dff90263f95b1b461d8": {
      "model_module": "@jupyter-widgets/controls",
      "model_module_version": "1.5.0",
      "model_name": "HTMLModel",
      "state": {
       "layout": "IPY_MODEL_b57bd685a63543b296b6e90e6d8273da",
       "style": "IPY_MODEL_e55938b7e7bc495b8ab5e0a1b34639a2",
       "value": " 277/277 [01:01&lt;00:00,  4.48it/s, acc=0.997, loss=0.0551]"
      }
     },
     "9a2628b6f033419e9fd91894a6da73a6": {
      "model_module": "@jupyter-widgets/base",
      "model_module_version": "1.2.0",
      "model_name": "LayoutModel",
      "state": {}
     },
     "9a44365eef674d5391f75f281cea09c3": {
      "model_module": "@jupyter-widgets/base",
      "model_module_version": "1.2.0",
      "model_name": "LayoutModel",
      "state": {}
     },
     "9a5bb51b749049709b033fe185884bda": {
      "model_module": "@jupyter-widgets/controls",
      "model_module_version": "1.5.0",
      "model_name": "IntProgressModel",
      "state": {
       "bar_style": "success",
       "description": "Epoch [4/10]: 100%",
       "layout": "IPY_MODEL_cf87c0481eba4a3ebd54df6d101f38e3",
       "max": 280,
       "style": "IPY_MODEL_ef259f76257e4d279d8e383d5baf0155",
       "value": 280
      }
     },
     "9b15862650f74fbdbc00126ace4b3a68": {
      "model_module": "@jupyter-widgets/base",
      "model_module_version": "1.2.0",
      "model_name": "LayoutModel",
      "state": {}
     },
     "9b9cd266edb145a8979a6b39b15d296f": {
      "model_module": "@jupyter-widgets/controls",
      "model_module_version": "1.5.0",
      "model_name": "HBoxModel",
      "state": {
       "children": [
        "IPY_MODEL_5854c0eb946943b1aff22fb605129951",
        "IPY_MODEL_b6c0724004df4938bfa755ddd3bfd333"
       ],
       "layout": "IPY_MODEL_618b0f4cc828427381c92729fbd04232"
      }
     },
     "9c5a5743a0854884b98dc9b40a66915d": {
      "model_module": "@jupyter-widgets/controls",
      "model_module_version": "1.5.0",
      "model_name": "DescriptionStyleModel",
      "state": {
       "description_width": ""
      }
     },
     "9c6c4bda95d64221ac72d216574fdbdf": {
      "model_module": "@jupyter-widgets/controls",
      "model_module_version": "1.5.0",
      "model_name": "DescriptionStyleModel",
      "state": {
       "description_width": ""
      }
     },
     "9cb5e8eb451147ab95830629071e10bd": {
      "model_module": "@jupyter-widgets/base",
      "model_module_version": "1.2.0",
      "model_name": "LayoutModel",
      "state": {}
     },
     "9cb8ed5ba7254f52b4df3b7323c15d57": {
      "model_module": "@jupyter-widgets/controls",
      "model_module_version": "1.5.0",
      "model_name": "HBoxModel",
      "state": {
       "children": [
        "IPY_MODEL_a0caa6a18c2342a1b5f5a93c4a810a9c",
        "IPY_MODEL_57fc6b61a2bb4cfa84929ec4ed30e5d9"
       ],
       "layout": "IPY_MODEL_2e5cdc82750d4fb395093aa8a97cc878"
      }
     },
     "9cd328dbc1574b91bec6640b14dca556": {
      "model_module": "@jupyter-widgets/base",
      "model_module_version": "1.2.0",
      "model_name": "LayoutModel",
      "state": {}
     },
     "9cdecd0c3c9a48f9884c65e991e6aaaf": {
      "model_module": "@jupyter-widgets/controls",
      "model_module_version": "1.5.0",
      "model_name": "DescriptionStyleModel",
      "state": {
       "description_width": ""
      }
     },
     "9dd0f46cc81e4638aa3904b0273ac2ed": {
      "model_module": "@jupyter-widgets/controls",
      "model_module_version": "1.5.0",
      "model_name": "HBoxModel",
      "state": {
       "children": [
        "IPY_MODEL_4bb370f48be140dfa4a0a540108eb70b",
        "IPY_MODEL_5a34e00860094b77b574ba3191f3031e"
       ],
       "layout": "IPY_MODEL_056a3e89627e41ac9449d20c86110aa5"
      }
     },
     "9e4131ce625044dd8779def7ba145e56": {
      "model_module": "@jupyter-widgets/base",
      "model_module_version": "1.2.0",
      "model_name": "LayoutModel",
      "state": {}
     },
     "9e5adcbee9924b7988e83177cd6cb11c": {
      "model_module": "@jupyter-widgets/controls",
      "model_module_version": "1.5.0",
      "model_name": "ProgressStyleModel",
      "state": {
       "description_width": "initial"
      }
     },
     "9faf73ecfc664a6a918647f917abec69": {
      "model_module": "@jupyter-widgets/controls",
      "model_module_version": "1.5.0",
      "model_name": "HBoxModel",
      "state": {
       "children": [
        "IPY_MODEL_d7020a33b47a4b20a272c4c0634b16df",
        "IPY_MODEL_cfe5021beef349b3954788212808eddb"
       ],
       "layout": "IPY_MODEL_955e21802fcd413a87eafc9855ae1c9b"
      }
     },
     "a05768b261fa492a893abfdb9e7c376a": {
      "model_module": "@jupyter-widgets/base",
      "model_module_version": "1.2.0",
      "model_name": "LayoutModel",
      "state": {}
     },
     "a0a5ab12e37f49da91277a6ac23e2981": {
      "model_module": "@jupyter-widgets/controls",
      "model_module_version": "1.5.0",
      "model_name": "DescriptionStyleModel",
      "state": {
       "description_width": ""
      }
     },
     "a0caa6a18c2342a1b5f5a93c4a810a9c": {
      "model_module": "@jupyter-widgets/controls",
      "model_module_version": "1.5.0",
      "model_name": "IntProgressModel",
      "state": {
       "bar_style": "success",
       "description": "Epoch [1/5]: 100%",
       "layout": "IPY_MODEL_e81e6e5fb1bf4eedb415ab9a9dd1d911",
       "max": 286,
       "style": "IPY_MODEL_1535415f22fc4431a0e265989d6d6198",
       "value": 286
      }
     },
     "a0e12a63108e4d19b342b136accc5ca9": {
      "model_module": "@jupyter-widgets/base",
      "model_module_version": "1.2.0",
      "model_name": "LayoutModel",
      "state": {}
     },
     "a1702983309642a5b8970def06ade1ec": {
      "model_module": "@jupyter-widgets/base",
      "model_module_version": "1.2.0",
      "model_name": "LayoutModel",
      "state": {}
     },
     "a170fc06dd1a476a9807ae94eea41395": {
      "model_module": "@jupyter-widgets/controls",
      "model_module_version": "1.5.0",
      "model_name": "IntProgressModel",
      "state": {
       "bar_style": "success",
       "description": "Epoch [1/5]: 100%",
       "layout": "IPY_MODEL_00ad292d6ac846839494d74a86a43912",
       "max": 276,
       "style": "IPY_MODEL_25640c652c1a4acebf3f5f7e1e7bdd48",
       "value": 276
      }
     },
     "a241b9f5744c4200b548e09c5c3d28cc": {
      "model_module": "@jupyter-widgets/controls",
      "model_module_version": "1.5.0",
      "model_name": "DescriptionStyleModel",
      "state": {
       "description_width": ""
      }
     },
     "a244dafeefae4ac4b2197895efbcf3ac": {
      "model_module": "@jupyter-widgets/base",
      "model_module_version": "1.2.0",
      "model_name": "LayoutModel",
      "state": {}
     },
     "a2f314764db54a77b3f3971d60e80387": {
      "model_module": "@jupyter-widgets/controls",
      "model_module_version": "1.5.0",
      "model_name": "ProgressStyleModel",
      "state": {
       "description_width": "initial"
      }
     },
     "a34e357c15f142be9204abd2d974e7ee": {
      "model_module": "@jupyter-widgets/base",
      "model_module_version": "1.2.0",
      "model_name": "LayoutModel",
      "state": {}
     },
     "a35479e0d3744deda630871c168870b0": {
      "model_module": "@jupyter-widgets/controls",
      "model_module_version": "1.5.0",
      "model_name": "ProgressStyleModel",
      "state": {
       "description_width": "initial"
      }
     },
     "a3ce453c8c9a4a8faf643f29e4413166": {
      "model_module": "@jupyter-widgets/base",
      "model_module_version": "1.2.0",
      "model_name": "LayoutModel",
      "state": {}
     },
     "a502587fe3fc4d69a0b37506d0cb35c9": {
      "model_module": "@jupyter-widgets/controls",
      "model_module_version": "1.5.0",
      "model_name": "ProgressStyleModel",
      "state": {
       "description_width": "initial"
      }
     },
     "a635fd4521d44835bd1b2645591f95f4": {
      "model_module": "@jupyter-widgets/base",
      "model_module_version": "1.2.0",
      "model_name": "LayoutModel",
      "state": {}
     },
     "a64c10cb3baf47bfa2996146b32ba586": {
      "model_module": "@jupyter-widgets/base",
      "model_module_version": "1.2.0",
      "model_name": "LayoutModel",
      "state": {}
     },
     "a652bae9a1894ca890d33055a9d3a4e3": {
      "model_module": "@jupyter-widgets/controls",
      "model_module_version": "1.5.0",
      "model_name": "IntProgressModel",
      "state": {
       "bar_style": "success",
       "description": "Epoch [1/10]: 100%",
       "layout": "IPY_MODEL_f5157757b6324753b574c56c2209742b",
       "max": 277,
       "style": "IPY_MODEL_45813438b5dd4258be12f46b197ab1a5",
       "value": 277
      }
     },
     "a6b73311d34a4f49a724c2490543aea8": {
      "model_module": "@jupyter-widgets/base",
      "model_module_version": "1.2.0",
      "model_name": "LayoutModel",
      "state": {}
     },
     "a76bd4a529bb4cc99a367608dfbd3414": {
      "model_module": "@jupyter-widgets/base",
      "model_module_version": "1.2.0",
      "model_name": "LayoutModel",
      "state": {}
     },
     "a7b99b13e7274a3aa82150659d7b1a9c": {
      "model_module": "@jupyter-widgets/base",
      "model_module_version": "1.2.0",
      "model_name": "LayoutModel",
      "state": {}
     },
     "a8072c64205b4e5e8cf12a17f18d7296": {
      "model_module": "@jupyter-widgets/controls",
      "model_module_version": "1.5.0",
      "model_name": "ProgressStyleModel",
      "state": {
       "description_width": "initial"
      }
     },
     "a922f951348b4e3ca1d266d47cdbc92f": {
      "model_module": "@jupyter-widgets/controls",
      "model_module_version": "1.5.0",
      "model_name": "DescriptionStyleModel",
      "state": {
       "description_width": ""
      }
     },
     "a9a6780b8b8b47daa3dc6a92b9269eda": {
      "model_module": "@jupyter-widgets/controls",
      "model_module_version": "1.5.0",
      "model_name": "HBoxModel",
      "state": {
       "children": [
        "IPY_MODEL_ad7ed5e19faa4d0ba2617069e87890d9",
        "IPY_MODEL_83675abd1d8241f0978bf3ba0bfecd98"
       ],
       "layout": "IPY_MODEL_944e39e43d724065a2415276bd7dfeb6"
      }
     },
     "a9f7371ba150405281846ddc894f3623": {
      "model_module": "@jupyter-widgets/controls",
      "model_module_version": "1.5.0",
      "model_name": "ProgressStyleModel",
      "state": {
       "description_width": "initial"
      }
     },
     "acf3a189a3e74fe3b674dedc668bbd89": {
      "model_module": "@jupyter-widgets/controls",
      "model_module_version": "1.5.0",
      "model_name": "DescriptionStyleModel",
      "state": {
       "description_width": ""
      }
     },
     "ad7ed5e19faa4d0ba2617069e87890d9": {
      "model_module": "@jupyter-widgets/controls",
      "model_module_version": "1.5.0",
      "model_name": "IntProgressModel",
      "state": {
       "bar_style": "success",
       "description": "Epoch [5/10]: 100%",
       "layout": "IPY_MODEL_114714c299cf460dac54d61786680586",
       "max": 275,
       "style": "IPY_MODEL_1bd7e30c88414733b6fe6e451f5bc2b9",
       "value": 275
      }
     },
     "ae92637dcdc945b8b8975968d0e3b5eb": {
      "model_module": "@jupyter-widgets/controls",
      "model_module_version": "1.5.0",
      "model_name": "HBoxModel",
      "state": {
       "children": [
        "IPY_MODEL_b76154a710c143e39c81224936fee64b",
        "IPY_MODEL_2219fcf4f427415d982252afdde7fbcc"
       ],
       "layout": "IPY_MODEL_a635fd4521d44835bd1b2645591f95f4"
      }
     },
     "af3634e3e0854dcc8ffdcf3080192fd1": {
      "model_module": "@jupyter-widgets/base",
      "model_module_version": "1.2.0",
      "model_name": "LayoutModel",
      "state": {}
     },
     "afeebadf0f5146479d3db85c1e47a503": {
      "model_module": "@jupyter-widgets/controls",
      "model_module_version": "1.5.0",
      "model_name": "DescriptionStyleModel",
      "state": {
       "description_width": ""
      }
     },
     "b057ed07631a4dc384cf86d2c231dced": {
      "model_module": "@jupyter-widgets/base",
      "model_module_version": "1.2.0",
      "model_name": "LayoutModel",
      "state": {}
     },
     "b1b9f1edd7d74a5aa84886ba4e164e94": {
      "model_module": "@jupyter-widgets/controls",
      "model_module_version": "1.5.0",
      "model_name": "HTMLModel",
      "state": {
       "layout": "IPY_MODEL_537dee3ff22e4b95843e2069b5119a8f",
       "style": "IPY_MODEL_a241b9f5744c4200b548e09c5c3d28cc",
       "value": " 275/275 [01:22&lt;00:00,  3.34it/s, acc=0.887, loss=0.0289]"
      }
     },
     "b1e1b7d0078a4137bf47c6d18f656949": {
      "model_module": "@jupyter-widgets/controls",
      "model_module_version": "1.5.0",
      "model_name": "HBoxModel",
      "state": {
       "children": [
        "IPY_MODEL_26e5b778cd2b481890fbd21038b2068c",
        "IPY_MODEL_1051fdec4d2d4e9090b584b200537a0e"
       ],
       "layout": "IPY_MODEL_6a0640c5fef1455cb4351329331d1fcb"
      }
     },
     "b25731643da847d0ba94780ba8e7d8ba": {
      "model_module": "@jupyter-widgets/controls",
      "model_module_version": "1.5.0",
      "model_name": "DescriptionStyleModel",
      "state": {
       "description_width": ""
      }
     },
     "b30f59ffaa1d4a44976ba765b691168f": {
      "model_module": "@jupyter-widgets/base",
      "model_module_version": "1.2.0",
      "model_name": "LayoutModel",
      "state": {}
     },
     "b36e8cb24d69476da9313373ce5a788f": {
      "model_module": "@jupyter-widgets/base",
      "model_module_version": "1.2.0",
      "model_name": "LayoutModel",
      "state": {}
     },
     "b3b76ee11afa4d038376a4fec3f5e9b9": {
      "model_module": "@jupyter-widgets/base",
      "model_module_version": "1.2.0",
      "model_name": "LayoutModel",
      "state": {}
     },
     "b3c3c49fadac437e85272003f2e5c7ea": {
      "model_module": "@jupyter-widgets/controls",
      "model_module_version": "1.5.0",
      "model_name": "ProgressStyleModel",
      "state": {
       "description_width": "initial"
      }
     },
     "b4ab860b0a7b4b3fb65fb3494ec005a8": {
      "model_module": "@jupyter-widgets/base",
      "model_module_version": "1.2.0",
      "model_name": "LayoutModel",
      "state": {}
     },
     "b57bd685a63543b296b6e90e6d8273da": {
      "model_module": "@jupyter-widgets/base",
      "model_module_version": "1.2.0",
      "model_name": "LayoutModel",
      "state": {}
     },
     "b677dfe8acfd456bb0490777052c4f52": {
      "model_module": "@jupyter-widgets/base",
      "model_module_version": "1.2.0",
      "model_name": "LayoutModel",
      "state": {}
     },
     "b6c0724004df4938bfa755ddd3bfd333": {
      "model_module": "@jupyter-widgets/controls",
      "model_module_version": "1.5.0",
      "model_name": "HTMLModel",
      "state": {
       "layout": "IPY_MODEL_020bb76b1f15467baacc79d229058c8a",
       "style": "IPY_MODEL_62541b091a624bad9529dbffac825607",
       "value": " 54/615 [00:21&lt;00:27, 20.39it/s, acc=0.971, loss=0.166]"
      }
     },
     "b6d7c0087e77439f8aa2f0fe58b8946d": {
      "model_module": "@jupyter-widgets/base",
      "model_module_version": "1.2.0",
      "model_name": "LayoutModel",
      "state": {}
     },
     "b76154a710c143e39c81224936fee64b": {
      "model_module": "@jupyter-widgets/controls",
      "model_module_version": "1.5.0",
      "model_name": "IntProgressModel",
      "state": {
       "bar_style": "success",
       "description": "Epoch [3/10]: 100%",
       "layout": "IPY_MODEL_541f6aa1b9ea4f869573cbcd89927306",
       "max": 275,
       "style": "IPY_MODEL_9635251f72084ad8931a29f9ec7edea4",
       "value": 275
      }
     },
     "b7a25c94641f46cda9ef01458ce96b58": {
      "model_module": "@jupyter-widgets/controls",
      "model_module_version": "1.5.0",
      "model_name": "DescriptionStyleModel",
      "state": {
       "description_width": ""
      }
     },
     "b7d75669e13743c88c80e4d1e547cc51": {
      "model_module": "@jupyter-widgets/controls",
      "model_module_version": "1.5.0",
      "model_name": "IntProgressModel",
      "state": {
       "bar_style": "success",
       "description": "Epoch [4/5]: 100%",
       "layout": "IPY_MODEL_c897e050c8674df8bcbc7c19648473c7",
       "max": 282,
       "style": "IPY_MODEL_e0674b1435ab4f93b2611626fc72a5ea",
       "value": 282
      }
     },
     "b8930efb44e04c07b1c13b3f21f50499": {
      "model_module": "@jupyter-widgets/controls",
      "model_module_version": "1.5.0",
      "model_name": "HBoxModel",
      "state": {
       "children": [
        "IPY_MODEL_1f8f7e0067e94333b8259fac8a95380d",
        "IPY_MODEL_c0da49291f294c9d913b7bf4e48eacf1"
       ],
       "layout": "IPY_MODEL_1b085da81613472988f164fd81336312"
      }
     },
     "b93a5a84afd64a539a7ca17b283982c9": {
      "model_module": "@jupyter-widgets/controls",
      "model_module_version": "1.5.0",
      "model_name": "HTMLModel",
      "state": {
       "layout": "IPY_MODEL_f29ce08b1ef748afb76dc8ac250693e4",
       "style": "IPY_MODEL_1a519f3bea06495e8f8988a0c7a5e5a3",
       "value": " 275/275 [03:36&lt;00:00,  1.27it/s, acc=0.994, loss=0.153]"
      }
     },
     "b977548770914b1985f7d2fb7951089a": {
      "model_module": "@jupyter-widgets/base",
      "model_module_version": "1.2.0",
      "model_name": "LayoutModel",
      "state": {}
     },
     "b97b32478c8f4326b110142bf9eb221e": {
      "model_module": "@jupyter-widgets/controls",
      "model_module_version": "1.5.0",
      "model_name": "ProgressStyleModel",
      "state": {
       "description_width": "initial"
      }
     },
     "b9c1687c4f9f4d858ff16d75ca0aa529": {
      "model_module": "@jupyter-widgets/controls",
      "model_module_version": "1.5.0",
      "model_name": "HBoxModel",
      "state": {
       "children": [
        "IPY_MODEL_64fb5345093e45c680245146a55bcf06",
        "IPY_MODEL_b1b9f1edd7d74a5aa84886ba4e164e94"
       ],
       "layout": "IPY_MODEL_d3a67ce18c6f48ca83ed916711d35d12"
      }
     },
     "b9ccd0ea7fac4bbc95fecb12d0bf829d": {
      "model_module": "@jupyter-widgets/controls",
      "model_module_version": "1.5.0",
      "model_name": "DescriptionStyleModel",
      "state": {
       "description_width": ""
      }
     },
     "b9d74465c8504aa68b149e98a9933b3e": {
      "model_module": "@jupyter-widgets/controls",
      "model_module_version": "1.5.0",
      "model_name": "HTMLModel",
      "state": {
       "layout": "IPY_MODEL_c5de526579f1445a90a6c60491867c21",
       "style": "IPY_MODEL_690223501b514699a5c876859b7ed1e7",
       "value": " 279/279 [22:08:40&lt;00:00, 285.74s/it, acc=0.993, loss=0.138]"
      }
     },
     "ba669b8282bc4ff68b95af7904945471": {
      "model_module": "@jupyter-widgets/base",
      "model_module_version": "1.2.0",
      "model_name": "LayoutModel",
      "state": {}
     },
     "ba82fb3f022b4d0180b75d3354bcbb2d": {
      "model_module": "@jupyter-widgets/base",
      "model_module_version": "1.2.0",
      "model_name": "LayoutModel",
      "state": {}
     },
     "bad3697ae78a4359892ca979d05704a5": {
      "model_module": "@jupyter-widgets/base",
      "model_module_version": "1.2.0",
      "model_name": "LayoutModel",
      "state": {}
     },
     "bc69a97beb424c389d48d50f0011fb4c": {
      "model_module": "@jupyter-widgets/base",
      "model_module_version": "1.2.0",
      "model_name": "LayoutModel",
      "state": {}
     },
     "bc84f57db92e41ba9a0b42c132f5dcd4": {
      "model_module": "@jupyter-widgets/controls",
      "model_module_version": "1.5.0",
      "model_name": "ProgressStyleModel",
      "state": {
       "description_width": "initial"
      }
     },
     "bd9af7809a924d0a92ea6d2228193250": {
      "model_module": "@jupyter-widgets/controls",
      "model_module_version": "1.5.0",
      "model_name": "DescriptionStyleModel",
      "state": {
       "description_width": ""
      }
     },
     "be72b2d17d764523a5acf39785967c05": {
      "model_module": "@jupyter-widgets/controls",
      "model_module_version": "1.5.0",
      "model_name": "IntProgressModel",
      "state": {
       "bar_style": "success",
       "description": "Epoch [1/5]: 100%",
       "layout": "IPY_MODEL_0b8c378855044e8e802503eadcd40a99",
       "max": 282,
       "style": "IPY_MODEL_3e136c2918104893ba4892473dec2366",
       "value": 282
      }
     },
     "be9b5b1c4f8b49b4a2548958d12b8598": {
      "model_module": "@jupyter-widgets/base",
      "model_module_version": "1.2.0",
      "model_name": "LayoutModel",
      "state": {}
     },
     "bf79ab0af2314327b0e93b6add2fd9e6": {
      "model_module": "@jupyter-widgets/controls",
      "model_module_version": "1.5.0",
      "model_name": "HBoxModel",
      "state": {
       "children": [
        "IPY_MODEL_d35bdf5b1b394adda1b262c961aa1816",
        "IPY_MODEL_fabab5c7b20c4d15ba1816581cb533ac"
       ],
       "layout": "IPY_MODEL_e6c392066a344d29a3ebd0c0ac6dcae3"
      }
     },
     "bf90517c055647f992eac5a5a791321c": {
      "model_module": "@jupyter-widgets/base",
      "model_module_version": "1.2.0",
      "model_name": "LayoutModel",
      "state": {}
     },
     "c033c173233d4b308a2e8494f357cf36": {
      "model_module": "@jupyter-widgets/controls",
      "model_module_version": "1.5.0",
      "model_name": "ProgressStyleModel",
      "state": {
       "description_width": "initial"
      }
     },
     "c0da49291f294c9d913b7bf4e48eacf1": {
      "model_module": "@jupyter-widgets/controls",
      "model_module_version": "1.5.0",
      "model_name": "HTMLModel",
      "state": {
       "layout": "IPY_MODEL_cfeabf64cd764b03962b8db6991d7733",
       "style": "IPY_MODEL_6169d26d27bc4b8e89746dc15dfb3007",
       "value": " 275/275 [00:18&lt;00:00, 15.19it/s, acc=0.994, loss=0.000648]"
      }
     },
     "c0ff936b963f4fe09b350a1f1ea585ab": {
      "model_module": "@jupyter-widgets/controls",
      "model_module_version": "1.5.0",
      "model_name": "HBoxModel",
      "state": {
       "children": [
        "IPY_MODEL_f3ca4afb350144c48bb067f5ecb4821a",
        "IPY_MODEL_b9d74465c8504aa68b149e98a9933b3e"
       ],
       "layout": "IPY_MODEL_d0dbe2d510bb4b68bf0756456a86aa73"
      }
     },
     "c14b60f1c5e7470e87c192bc3c72ff0d": {
      "model_module": "@jupyter-widgets/base",
      "model_module_version": "1.2.0",
      "model_name": "LayoutModel",
      "state": {}
     },
     "c156d8a65de04146834e457bc8dd12f5": {
      "model_module": "@jupyter-widgets/base",
      "model_module_version": "1.2.0",
      "model_name": "LayoutModel",
      "state": {}
     },
     "c18701b724ce45ab8aecc11ee5e03f0b": {
      "model_module": "@jupyter-widgets/base",
      "model_module_version": "1.2.0",
      "model_name": "LayoutModel",
      "state": {}
     },
     "c204c84eab0941e3b4eb1e8d4b3deaa1": {
      "model_module": "@jupyter-widgets/controls",
      "model_module_version": "1.5.0",
      "model_name": "HTMLModel",
      "state": {
       "layout": "IPY_MODEL_14fec3a766f74a55bb6bb86529da5025",
       "style": "IPY_MODEL_f2755d03926e4b7298abe2a0c40797c0",
       "value": " 277/277 [02:12&lt;00:00,  2.09it/s, acc=0.91, loss=0.0185]"
      }
     },
     "c425003b7b1049a0bee5ead1a41fe8cd": {
      "model_module": "@jupyter-widgets/controls",
      "model_module_version": "1.5.0",
      "model_name": "ProgressStyleModel",
      "state": {
       "description_width": "initial"
      }
     },
     "c49b23caa97646879e62ffd1aa5c0028": {
      "model_module": "@jupyter-widgets/controls",
      "model_module_version": "1.5.0",
      "model_name": "IntProgressModel",
      "state": {
       "description": "Epoch [5/10]:  57%",
       "layout": "IPY_MODEL_9cd328dbc1574b91bec6640b14dca556",
       "max": 279,
       "style": "IPY_MODEL_76d4a5f12d0a4d34a599493a61897e2b",
       "value": 158
      }
     },
     "c4cd9349cbb94216b2d58866b88510e5": {
      "model_module": "@jupyter-widgets/base",
      "model_module_version": "1.2.0",
      "model_name": "LayoutModel",
      "state": {}
     },
     "c564467cadc343e59fd7e153c3572714": {
      "model_module": "@jupyter-widgets/base",
      "model_module_version": "1.2.0",
      "model_name": "LayoutModel",
      "state": {}
     },
     "c56bc31a417b4a2e97486894085415c4": {
      "model_module": "@jupyter-widgets/controls",
      "model_module_version": "1.5.0",
      "model_name": "ProgressStyleModel",
      "state": {
       "description_width": "initial"
      }
     },
     "c58cd792b54642229fab4ad5c46d482b": {
      "model_module": "@jupyter-widgets/controls",
      "model_module_version": "1.5.0",
      "model_name": "HTMLModel",
      "state": {
       "layout": "IPY_MODEL_77b134a3d1a5456095e2f319cd042c68",
       "style": "IPY_MODEL_2858efa76e80487ca9f92f07c1b12084",
       "value": " 280/280 [04:49&lt;00:00,  1.03s/it, acc=0.997, loss=0.000687]"
      }
     },
     "c58de4639e874e449c3eb175d5207665": {
      "model_module": "@jupyter-widgets/base",
      "model_module_version": "1.2.0",
      "model_name": "LayoutModel",
      "state": {}
     },
     "c599e19425274e948850a59cec123aae": {
      "model_module": "@jupyter-widgets/controls",
      "model_module_version": "1.5.0",
      "model_name": "HTMLModel",
      "state": {
       "layout": "IPY_MODEL_396f8cc441664638abe6ed33aaf1fe41",
       "style": "IPY_MODEL_0d663b5be663406e84e795e85ad3a232",
       "value": " 275/275 [02:49&lt;00:00,  1.62it/s, acc=0.996, loss=0.016]"
      }
     },
     "c5c1c0ef3f1d4a378d08aedaf67e13fc": {
      "model_module": "@jupyter-widgets/controls",
      "model_module_version": "1.5.0",
      "model_name": "IntProgressModel",
      "state": {
       "bar_style": "success",
       "description": "Epoch [2/5]: 100%",
       "layout": "IPY_MODEL_297f59ca6e8e48c098465012de6eee41",
       "max": 282,
       "style": "IPY_MODEL_0998a4437999476ca9bac5590b1653ab",
       "value": 282
      }
     },
     "c5de526579f1445a90a6c60491867c21": {
      "model_module": "@jupyter-widgets/base",
      "model_module_version": "1.2.0",
      "model_name": "LayoutModel",
      "state": {}
     },
     "c6217ed01c4c48ae9e1dfe2bd777305c": {
      "model_module": "@jupyter-widgets/base",
      "model_module_version": "1.2.0",
      "model_name": "LayoutModel",
      "state": {}
     },
     "c62230343b92430a9ee8cf8a4ebdb165": {
      "model_module": "@jupyter-widgets/controls",
      "model_module_version": "1.5.0",
      "model_name": "ProgressStyleModel",
      "state": {
       "description_width": "initial"
      }
     },
     "c68abd671d18443cb836a26c1c203764": {
      "model_module": "@jupyter-widgets/base",
      "model_module_version": "1.2.0",
      "model_name": "LayoutModel",
      "state": {}
     },
     "c69ad6924abc4d18a6f55f31fc3ccc32": {
      "model_module": "@jupyter-widgets/controls",
      "model_module_version": "1.5.0",
      "model_name": "IntProgressModel",
      "state": {
       "bar_style": "success",
       "description": "Epoch [5/10]: 100%",
       "layout": "IPY_MODEL_e0ed0932cc1c47e9a1a2e303f7d6071e",
       "max": 280,
       "style": "IPY_MODEL_998699e978e7430da64e6ea6f3563cc9",
       "value": 280
      }
     },
     "c6f0bc531ed14df19fdbfe585f8cafd4": {
      "model_module": "@jupyter-widgets/controls",
      "model_module_version": "1.5.0",
      "model_name": "IntProgressModel",
      "state": {
       "bar_style": "success",
       "description": "Epoch [1/5]: 100%",
       "layout": "IPY_MODEL_617f1cf40a1440ecabf9c44db6c9afa2",
       "max": 282,
       "style": "IPY_MODEL_761897e273c84a608eba3bafa67a700c",
       "value": 282
      }
     },
     "c6fdf7feb04b4e788cd1c0925ce6a595": {
      "model_module": "@jupyter-widgets/controls",
      "model_module_version": "1.5.0",
      "model_name": "HTMLModel",
      "state": {
       "layout": "IPY_MODEL_9b15862650f74fbdbc00126ace4b3a68",
       "style": "IPY_MODEL_2ad376ceeb2d42ad98dda94cc370770b",
       "value": " 280/280 [04:37&lt;00:00,  1.01it/s, acc=0.997, loss=0.00188]"
      }
     },
     "c79709f6e7594cb98d75944ae2ddd50d": {
      "model_module": "@jupyter-widgets/controls",
      "model_module_version": "1.5.0",
      "model_name": "DescriptionStyleModel",
      "state": {
       "description_width": ""
      }
     },
     "c891b97baa3142f7ac5ce4fce1074372": {
      "model_module": "@jupyter-widgets/controls",
      "model_module_version": "1.5.0",
      "model_name": "HBoxModel",
      "state": {
       "children": [
        "IPY_MODEL_865a787fe8b740329d4835dfc185969a",
        "IPY_MODEL_31ceb32cf8b5429d877a6f684d9bc508"
       ],
       "layout": "IPY_MODEL_88b6da567f7149adb8362bbff8c47eda"
      }
     },
     "c897e050c8674df8bcbc7c19648473c7": {
      "model_module": "@jupyter-widgets/base",
      "model_module_version": "1.2.0",
      "model_name": "LayoutModel",
      "state": {}
     },
     "c8f70cfd63e045ae873f617e6b4eb2c8": {
      "model_module": "@jupyter-widgets/base",
      "model_module_version": "1.2.0",
      "model_name": "LayoutModel",
      "state": {}
     },
     "c9558b4004074e7eba1fe334c42bbaf9": {
      "model_module": "@jupyter-widgets/controls",
      "model_module_version": "1.5.0",
      "model_name": "HBoxModel",
      "state": {
       "children": [
        "IPY_MODEL_f7f9a81b573c46388046966ac929d2df",
        "IPY_MODEL_60fd27dff2f84974bc3f8f4852786b6c"
       ],
       "layout": "IPY_MODEL_f1f85e2a76e74865bbdfa7848a7d30ab"
      }
     },
     "c9bb1b74e6f44357a9a67c9bf5cf6a60": {
      "model_module": "@jupyter-widgets/base",
      "model_module_version": "1.2.0",
      "model_name": "LayoutModel",
      "state": {}
     },
     "ca8f84c59e7d47609b96804a0aa88082": {
      "model_module": "@jupyter-widgets/controls",
      "model_module_version": "1.5.0",
      "model_name": "IntProgressModel",
      "state": {
       "bar_style": "success",
       "description": "Epoch [9/10]: 100%",
       "layout": "IPY_MODEL_187eff96c33640b4b1b45123c6a5cc16",
       "max": 275,
       "style": "IPY_MODEL_6060e1f17e5649abb84c94338e16d16c",
       "value": 275
      }
     },
     "cb00ade5a0d9463aadb200229123b740": {
      "model_module": "@jupyter-widgets/base",
      "model_module_version": "1.2.0",
      "model_name": "LayoutModel",
      "state": {}
     },
     "cb26ac18d00f4504963c04dca69a3870": {
      "model_module": "@jupyter-widgets/base",
      "model_module_version": "1.2.0",
      "model_name": "LayoutModel",
      "state": {}
     },
     "cc921fa47aad47f8b97f5decfcaf7779": {
      "model_module": "@jupyter-widgets/controls",
      "model_module_version": "1.5.0",
      "model_name": "HBoxModel",
      "state": {
       "children": [
        "IPY_MODEL_e82b84bcfbdb4ac489df5aaa79b5fb76",
        "IPY_MODEL_7334c1e4e4a747e39be5d9d91f05ec34"
       ],
       "layout": "IPY_MODEL_65a8e869b78b4f31aaece3d7e883e39f"
      }
     },
     "ce06d93e577046118292e2d8eb0fddd5": {
      "model_module": "@jupyter-widgets/base",
      "model_module_version": "1.2.0",
      "model_name": "LayoutModel",
      "state": {}
     },
     "ce75873012754a35a827809285265f70": {
      "model_module": "@jupyter-widgets/controls",
      "model_module_version": "1.5.0",
      "model_name": "DescriptionStyleModel",
      "state": {
       "description_width": ""
      }
     },
     "ce85f3e444e14d139280195cc58529c8": {
      "model_module": "@jupyter-widgets/controls",
      "model_module_version": "1.5.0",
      "model_name": "HTMLModel",
      "state": {
       "layout": "IPY_MODEL_71e3872a131c4187b7fb9b4afd0ce6b7",
       "style": "IPY_MODEL_3335b1a1c0184968900a87c76e01172b",
       "value": " 279/279 [22:08:52&lt;00:00, 285.78s/it, acc=0.99, loss=0.0164]"
      }
     },
     "ce86c5a379bc4b39b5e4a7b12b855a1a": {
      "model_module": "@jupyter-widgets/controls",
      "model_module_version": "1.5.0",
      "model_name": "HBoxModel",
      "state": {
       "children": [
        "IPY_MODEL_9a5bb51b749049709b033fe185884bda",
        "IPY_MODEL_1a09f43ed00c42e593262e86ed8c2a61"
       ],
       "layout": "IPY_MODEL_17a1ce6095b34772875574703f160632"
      }
     },
     "cf827feec0d84ba2933550cc06def87b": {
      "model_module": "@jupyter-widgets/base",
      "model_module_version": "1.2.0",
      "model_name": "LayoutModel",
      "state": {}
     },
     "cf87c0481eba4a3ebd54df6d101f38e3": {
      "model_module": "@jupyter-widgets/base",
      "model_module_version": "1.2.0",
      "model_name": "LayoutModel",
      "state": {}
     },
     "cfe5021beef349b3954788212808eddb": {
      "model_module": "@jupyter-widgets/controls",
      "model_module_version": "1.5.0",
      "model_name": "HTMLModel",
      "state": {
       "layout": "IPY_MODEL_8d5a94ddb316431ba1847c654c59ed6c",
       "style": "IPY_MODEL_198ac01c06f94c55ba05d009a7552d8b",
       "value": " 277/277 [00:26&lt;00:00, 10.54it/s, acc=0.998, loss=0.00157]"
      }
     },
     "cfeabf64cd764b03962b8db6991d7733": {
      "model_module": "@jupyter-widgets/base",
      "model_module_version": "1.2.0",
      "model_name": "LayoutModel",
      "state": {}
     },
     "d04ba8998d404c8d8b70598784041f4f": {
      "model_module": "@jupyter-widgets/controls",
      "model_module_version": "1.5.0",
      "model_name": "DescriptionStyleModel",
      "state": {
       "description_width": ""
      }
     },
     "d07ff3d464974606b5f3612b69037208": {
      "model_module": "@jupyter-widgets/base",
      "model_module_version": "1.2.0",
      "model_name": "LayoutModel",
      "state": {}
     },
     "d0d655f9250c47b7b7c8bf728139f11f": {
      "model_module": "@jupyter-widgets/controls",
      "model_module_version": "1.5.0",
      "model_name": "DescriptionStyleModel",
      "state": {
       "description_width": ""
      }
     },
     "d0dbe2d510bb4b68bf0756456a86aa73": {
      "model_module": "@jupyter-widgets/base",
      "model_module_version": "1.2.0",
      "model_name": "LayoutModel",
      "state": {}
     },
     "d100f0b2336341a88e51d9bffd0051e8": {
      "model_module": "@jupyter-widgets/controls",
      "model_module_version": "1.5.0",
      "model_name": "IntProgressModel",
      "state": {
       "bar_style": "success",
       "description": "Epoch [2/10]: 100%",
       "layout": "IPY_MODEL_a34e357c15f142be9204abd2d974e7ee",
       "max": 279,
       "style": "IPY_MODEL_3970328515644e71a4da44076692f678",
       "value": 279
      }
     },
     "d13ce11a027f428995c172a6523dccdb": {
      "model_module": "@jupyter-widgets/base",
      "model_module_version": "1.2.0",
      "model_name": "LayoutModel",
      "state": {}
     },
     "d13db1231c7b4a67acc86450143c6595": {
      "model_module": "@jupyter-widgets/base",
      "model_module_version": "1.2.0",
      "model_name": "LayoutModel",
      "state": {}
     },
     "d1dbdf643a2f4ae584356be11c5ae45a": {
      "model_module": "@jupyter-widgets/controls",
      "model_module_version": "1.5.0",
      "model_name": "HTMLModel",
      "state": {
       "layout": "IPY_MODEL_f89e63c240f848bdb8e361d848094cbf",
       "style": "IPY_MODEL_f7d36987c8964b29b9013244e41e24f1",
       "value": " 282/282 [01:16&lt;00:00,  3.70it/s, acc=0.989, loss=0.0167]"
      }
     },
     "d31552020d8047eba42a88fd9af20e09": {
      "model_module": "@jupyter-widgets/controls",
      "model_module_version": "1.5.0",
      "model_name": "HBoxModel",
      "state": {
       "children": [
        "IPY_MODEL_8fcbc51b08bb4326bb47d9ee9a57a052",
        "IPY_MODEL_76ebaf9ee5184109aa18cd4e1db48e85"
       ],
       "layout": "IPY_MODEL_27db3c48443545d0b9137450caf01835"
      }
     },
     "d35bdf5b1b394adda1b262c961aa1816": {
      "model_module": "@jupyter-widgets/controls",
      "model_module_version": "1.5.0",
      "model_name": "IntProgressModel",
      "state": {
       "bar_style": "success",
       "description": "Epoch [7/10]: 100%",
       "layout": "IPY_MODEL_5b64c423ea9948e6847d75720733b6de",
       "max": 275,
       "style": "IPY_MODEL_7b85a9daee0e405f9c8ab20eefefbab7",
       "value": 275
      }
     },
     "d3a67ce18c6f48ca83ed916711d35d12": {
      "model_module": "@jupyter-widgets/base",
      "model_module_version": "1.2.0",
      "model_name": "LayoutModel",
      "state": {}
     },
     "d4384316c04e4e3b8386eb687f8f3393": {
      "model_module": "@jupyter-widgets/base",
      "model_module_version": "1.2.0",
      "model_name": "LayoutModel",
      "state": {}
     },
     "d45cd41ffa084d508b8f46efabe50975": {
      "model_module": "@jupyter-widgets/controls",
      "model_module_version": "1.5.0",
      "model_name": "IntProgressModel",
      "state": {
       "bar_style": "danger",
       "description": "  0%",
       "layout": "IPY_MODEL_91c2a194d3b346059469235961ee1dd4",
       "max": 275,
       "style": "IPY_MODEL_ea55cf6471804735856ded659f1a9040"
      }
     },
     "d4879c972f394a5ab26def14f66b7504": {
      "model_module": "@jupyter-widgets/base",
      "model_module_version": "1.2.0",
      "model_name": "LayoutModel",
      "state": {}
     },
     "d4be7248c9e84865b6144e901faf39c7": {
      "model_module": "@jupyter-widgets/base",
      "model_module_version": "1.2.0",
      "model_name": "LayoutModel",
      "state": {}
     },
     "d4d9362e44f446488bedf59d5d44d73a": {
      "model_module": "@jupyter-widgets/controls",
      "model_module_version": "1.5.0",
      "model_name": "ProgressStyleModel",
      "state": {
       "description_width": "initial"
      }
     },
     "d54ee7fa32c5495c9dbae94be3905851": {
      "model_module": "@jupyter-widgets/controls",
      "model_module_version": "1.5.0",
      "model_name": "IntProgressModel",
      "state": {
       "bar_style": "success",
       "description": "Epoch [4/10]: 100%",
       "layout": "IPY_MODEL_1dd39748b9334687a69af3c23d1ddf66",
       "max": 275,
       "style": "IPY_MODEL_557c00db67c145fdb6bd5bdb40cf0a5d",
       "value": 275
      }
     },
     "d7020a33b47a4b20a272c4c0634b16df": {
      "model_module": "@jupyter-widgets/controls",
      "model_module_version": "1.5.0",
      "model_name": "IntProgressModel",
      "state": {
       "bar_style": "success",
       "description": "Epoch [10/10]: 100%",
       "layout": "IPY_MODEL_3392caef5e7b45c4bed8be8f2a8a8807",
       "max": 277,
       "style": "IPY_MODEL_989f44315f5245999321455338f33c03",
       "value": 277
      }
     },
     "d77b732e05a4426e810717323321693a": {
      "model_module": "@jupyter-widgets/controls",
      "model_module_version": "1.5.0",
      "model_name": "IntProgressModel",
      "state": {
       "bar_style": "success",
       "description": "Epoch [3/5]: 100%",
       "layout": "IPY_MODEL_08bd0c3c1e98471ca5dabb4b55b9564c",
       "max": 286,
       "style": "IPY_MODEL_0adda97dc858479d9e26e3b1bba21d6e",
       "value": 286
      }
     },
     "d8c2071e97ee4c4385312e9f82161015": {
      "model_module": "@jupyter-widgets/base",
      "model_module_version": "1.2.0",
      "model_name": "LayoutModel",
      "state": {}
     },
     "d900d8e0d6a14f1e8d2dbde39afb7e85": {
      "model_module": "@jupyter-widgets/controls",
      "model_module_version": "1.5.0",
      "model_name": "ProgressStyleModel",
      "state": {
       "description_width": "initial"
      }
     },
     "d93afa74f3864cbba91a82bf60b3d2d5": {
      "model_module": "@jupyter-widgets/controls",
      "model_module_version": "1.5.0",
      "model_name": "HTMLModel",
      "state": {
       "layout": "IPY_MODEL_1d9cff521e3045f480f10316f075eb6d",
       "style": "IPY_MODEL_3e8558a510684ba9ba8d1a1a20876401",
       "value": " 277/277 [01:13&lt;00:00,  3.77it/s, acc=0.997, loss=0.00425]"
      }
     },
     "d9c2364efbc544d989e32b7a80c0760a": {
      "model_module": "@jupyter-widgets/base",
      "model_module_version": "1.2.0",
      "model_name": "LayoutModel",
      "state": {}
     },
     "d9eb0c636336451caa597794aecdcf52": {
      "model_module": "@jupyter-widgets/controls",
      "model_module_version": "1.5.0",
      "model_name": "DescriptionStyleModel",
      "state": {
       "description_width": ""
      }
     },
     "da011717dbf2413f8d5d269646858a88": {
      "model_module": "@jupyter-widgets/base",
      "model_module_version": "1.2.0",
      "model_name": "LayoutModel",
      "state": {}
     },
     "da1baefb0d5f4d9cbf15100d06e5a5fe": {
      "model_module": "@jupyter-widgets/controls",
      "model_module_version": "1.5.0",
      "model_name": "HBoxModel",
      "state": {
       "children": [
        "IPY_MODEL_9532ce33ec294f47a687e3ad797be7dd",
        "IPY_MODEL_c599e19425274e948850a59cec123aae"
       ],
       "layout": "IPY_MODEL_27015ba8e93a45fdbd61bfcd6cfa79a9"
      }
     },
     "da323f8653f944d89627a1929309351a": {
      "model_module": "@jupyter-widgets/controls",
      "model_module_version": "1.5.0",
      "model_name": "HBoxModel",
      "state": {
       "children": [
        "IPY_MODEL_5fcaf3ceb0a9483f903cd7ca131c0f2d",
        "IPY_MODEL_ce85f3e444e14d139280195cc58529c8"
       ],
       "layout": "IPY_MODEL_c6217ed01c4c48ae9e1dfe2bd777305c"
      }
     },
     "da422fe5fb7a4f859cc018b99ce18371": {
      "model_module": "@jupyter-widgets/controls",
      "model_module_version": "1.5.0",
      "model_name": "HTMLModel",
      "state": {
       "layout": "IPY_MODEL_3027b93262b949a3bde40959c563ca5c",
       "style": "IPY_MODEL_f4e73ea28c7447b88b9e260f37ac8001",
       "value": " 275/275 [03:01&lt;00:00,  1.52it/s, acc=0.996, loss=0.0317]"
      }
     },
     "da9c9013c3d747c4affe300e186944da": {
      "model_module": "@jupyter-widgets/controls",
      "model_module_version": "1.5.0",
      "model_name": "IntProgressModel",
      "state": {
       "bar_style": "danger",
       "description": "Epoch [1/5]: 100%",
       "layout": "IPY_MODEL_0df2736385be4b49b21ef897cf43f58b",
       "max": 577,
       "style": "IPY_MODEL_87d7df7c641a460a8a7d576b05eaf3ec",
       "value": 575
      }
     },
     "db8fe664a8fe4b80878225c905d440a7": {
      "model_module": "@jupyter-widgets/controls",
      "model_module_version": "1.5.0",
      "model_name": "ProgressStyleModel",
      "state": {
       "description_width": "initial"
      }
     },
     "dca07895fbe34ab18fb879ba3c661a02": {
      "model_module": "@jupyter-widgets/controls",
      "model_module_version": "1.5.0",
      "model_name": "HBoxModel",
      "state": {
       "children": [
        "IPY_MODEL_f73f406c2a4c488ea0bfcc075db0ba05",
        "IPY_MODEL_e63aa00aba4b48839791c352d95cf479"
       ],
       "layout": "IPY_MODEL_9a44365eef674d5391f75f281cea09c3"
      }
     },
     "dca2b33830be47688997c42e0f56e7a5": {
      "model_module": "@jupyter-widgets/controls",
      "model_module_version": "1.5.0",
      "model_name": "HTMLModel",
      "state": {
       "layout": "IPY_MODEL_da011717dbf2413f8d5d269646858a88",
       "style": "IPY_MODEL_2945a568ecd147cea6182b503485de6e",
       "value": " 288/289 [00:43&lt;00:00, 12.30it/s, acc=0.944, loss=0.0804]"
      }
     },
     "dcdbc8e5371c441ea5b6da9cff67ffb7": {
      "model_module": "@jupyter-widgets/base",
      "model_module_version": "1.2.0",
      "model_name": "LayoutModel",
      "state": {}
     },
     "dce83ebb252a419992422819288cb365": {
      "model_module": "@jupyter-widgets/controls",
      "model_module_version": "1.5.0",
      "model_name": "HBoxModel",
      "state": {
       "children": [
        "IPY_MODEL_b7d75669e13743c88c80e4d1e547cc51",
        "IPY_MODEL_e1d2174dcbe94b9aabb678357c89befb"
       ],
       "layout": "IPY_MODEL_336ca7da10544873b7c6a6c285644b41"
      }
     },
     "de93e6a9281c46228e14e8c6a05f2a94": {
      "model_module": "@jupyter-widgets/controls",
      "model_module_version": "1.5.0",
      "model_name": "ProgressStyleModel",
      "state": {
       "description_width": "initial"
      }
     },
     "dec12f36d1dd48758c3eb4beaf4a0e5c": {
      "model_module": "@jupyter-widgets/controls",
      "model_module_version": "1.5.0",
      "model_name": "DescriptionStyleModel",
      "state": {
       "description_width": ""
      }
     },
     "df2636a6aa934d0c86b5df976d4cafb5": {
      "model_module": "@jupyter-widgets/controls",
      "model_module_version": "1.5.0",
      "model_name": "HTMLModel",
      "state": {
       "layout": "IPY_MODEL_d8c2071e97ee4c4385312e9f82161015",
       "style": "IPY_MODEL_acf3a189a3e74fe3b674dedc668bbd89",
       "value": " 277/277 [01:25&lt;00:00,  3.25it/s, acc=0.995, loss=0.011]"
      }
     },
     "dfd81cef939e465bb3bdabd7371e5303": {
      "model_module": "@jupyter-widgets/controls",
      "model_module_version": "1.5.0",
      "model_name": "IntProgressModel",
      "state": {
       "bar_style": "success",
       "description": "Epoch [4/5]: 100%",
       "layout": "IPY_MODEL_b30f59ffaa1d4a44976ba765b691168f",
       "max": 282,
       "style": "IPY_MODEL_3d9f91ed2e4043cbaad7395d056ad405",
       "value": 282
      }
     },
     "e02af827b9914293b71f7caa2575780e": {
      "model_module": "@jupyter-widgets/base",
      "model_module_version": "1.2.0",
      "model_name": "LayoutModel",
      "state": {}
     },
     "e0674b1435ab4f93b2611626fc72a5ea": {
      "model_module": "@jupyter-widgets/controls",
      "model_module_version": "1.5.0",
      "model_name": "ProgressStyleModel",
      "state": {
       "description_width": "initial"
      }
     },
     "e0ed0932cc1c47e9a1a2e303f7d6071e": {
      "model_module": "@jupyter-widgets/base",
      "model_module_version": "1.2.0",
      "model_name": "LayoutModel",
      "state": {}
     },
     "e1040de918b54f2caafdafb0a48693bd": {
      "model_module": "@jupyter-widgets/controls",
      "model_module_version": "1.5.0",
      "model_name": "DescriptionStyleModel",
      "state": {
       "description_width": ""
      }
     },
     "e14e0ffa93644f04bda71719ec7da20b": {
      "model_module": "@jupyter-widgets/base",
      "model_module_version": "1.2.0",
      "model_name": "LayoutModel",
      "state": {}
     },
     "e1d2174dcbe94b9aabb678357c89befb": {
      "model_module": "@jupyter-widgets/controls",
      "model_module_version": "1.5.0",
      "model_name": "HTMLModel",
      "state": {
       "layout": "IPY_MODEL_14dccf50e436434485f3971c5b6221eb",
       "style": "IPY_MODEL_e85cc20a49564ae58b10ebb2d2beffd2",
       "value": " 282/282 [14:51&lt;00:00,  3.16s/it, acc=0.992, loss=0.165]"
      }
     },
     "e2423cf7600540f1a629113c8c1db499": {
      "model_module": "@jupyter-widgets/controls",
      "model_module_version": "1.5.0",
      "model_name": "HBoxModel",
      "state": {
       "children": [
        "IPY_MODEL_dfd81cef939e465bb3bdabd7371e5303",
        "IPY_MODEL_0c4fda5a0c3b42999ee23635af853915"
       ],
       "layout": "IPY_MODEL_2808fdf3d8154460895eaf30d57673e2"
      }
     },
     "e42c874d02e745b1b6dda3f9eb3a1586": {
      "model_module": "@jupyter-widgets/base",
      "model_module_version": "1.2.0",
      "model_name": "LayoutModel",
      "state": {}
     },
     "e512cbe1c4ad4e43a3ba183304feecd8": {
      "model_module": "@jupyter-widgets/base",
      "model_module_version": "1.2.0",
      "model_name": "LayoutModel",
      "state": {}
     },
     "e55938b7e7bc495b8ab5e0a1b34639a2": {
      "model_module": "@jupyter-widgets/controls",
      "model_module_version": "1.5.0",
      "model_name": "DescriptionStyleModel",
      "state": {
       "description_width": ""
      }
     },
     "e5ae9672589e43dea07b7de7e03f28d6": {
      "model_module": "@jupyter-widgets/base",
      "model_module_version": "1.2.0",
      "model_name": "LayoutModel",
      "state": {}
     },
     "e63aa00aba4b48839791c352d95cf479": {
      "model_module": "@jupyter-widgets/controls",
      "model_module_version": "1.5.0",
      "model_name": "HTMLModel",
      "state": {
       "layout": "IPY_MODEL_681e27f47dc6456281803c46d1d7e6ed",
       "style": "IPY_MODEL_b7a25c94641f46cda9ef01458ce96b58",
       "value": " 287/289 [05:09&lt;00:02,  1.08s/it, acc=0.938, loss=0.0548]"
      }
     },
     "e6c392066a344d29a3ebd0c0ac6dcae3": {
      "model_module": "@jupyter-widgets/base",
      "model_module_version": "1.2.0",
      "model_name": "LayoutModel",
      "state": {}
     },
     "e78ba5e3dc154afd87cc7d515706d51b": {
      "model_module": "@jupyter-widgets/base",
      "model_module_version": "1.2.0",
      "model_name": "LayoutModel",
      "state": {}
     },
     "e7a05dd2e1084a2fb1864638bb85285d": {
      "model_module": "@jupyter-widgets/base",
      "model_module_version": "1.2.0",
      "model_name": "LayoutModel",
      "state": {}
     },
     "e81e6e5fb1bf4eedb415ab9a9dd1d911": {
      "model_module": "@jupyter-widgets/base",
      "model_module_version": "1.2.0",
      "model_name": "LayoutModel",
      "state": {}
     },
     "e82b84bcfbdb4ac489df5aaa79b5fb76": {
      "model_module": "@jupyter-widgets/controls",
      "model_module_version": "1.5.0",
      "model_name": "IntProgressModel",
      "state": {
       "bar_style": "success",
       "description": "Epoch [3/5]: 100%",
       "layout": "IPY_MODEL_9cb5e8eb451147ab95830629071e10bd",
       "max": 282,
       "style": "IPY_MODEL_7430fbe5e4f246e2ac74fb2ca8a4a619",
       "value": 282
      }
     },
     "e84be35587f54bb28682ebc46493128d": {
      "model_module": "@jupyter-widgets/controls",
      "model_module_version": "1.5.0",
      "model_name": "DescriptionStyleModel",
      "state": {
       "description_width": ""
      }
     },
     "e85cc20a49564ae58b10ebb2d2beffd2": {
      "model_module": "@jupyter-widgets/controls",
      "model_module_version": "1.5.0",
      "model_name": "DescriptionStyleModel",
      "state": {
       "description_width": ""
      }
     },
     "e8639b8207764cc1be97ff41bb0e22e6": {
      "model_module": "@jupyter-widgets/base",
      "model_module_version": "1.2.0",
      "model_name": "LayoutModel",
      "state": {}
     },
     "e87b04615aeb43e7975b3fd1f34d5462": {
      "model_module": "@jupyter-widgets/controls",
      "model_module_version": "1.5.0",
      "model_name": "HBoxModel",
      "state": {
       "children": [
        "IPY_MODEL_8a5a609dc56b4c09a51070f2318b0d67",
        "IPY_MODEL_47ea1305155147b2a263a9c2c71148b6"
       ],
       "layout": "IPY_MODEL_0a4bcb3825de40f1929b74851d692cfa"
      }
     },
     "e87d593bc7e14304a97a1b9820920693": {
      "model_module": "@jupyter-widgets/controls",
      "model_module_version": "1.5.0",
      "model_name": "HTMLModel",
      "state": {
       "layout": "IPY_MODEL_b4ab860b0a7b4b3fb65fb3494ec005a8",
       "style": "IPY_MODEL_7bfe480cfbda4ca7b4979c031957ecf6",
       "value": " 277/277 [01:37&lt;00:00,  2.85it/s, acc=0.996, loss=0.00978]"
      }
     },
     "ea55cf6471804735856ded659f1a9040": {
      "model_module": "@jupyter-widgets/controls",
      "model_module_version": "1.5.0",
      "model_name": "ProgressStyleModel",
      "state": {
       "description_width": "initial"
      }
     },
     "ea7879be8f334d3f807755928660648c": {
      "model_module": "@jupyter-widgets/controls",
      "model_module_version": "1.5.0",
      "model_name": "HTMLModel",
      "state": {
       "layout": "IPY_MODEL_39e7b47df51b4b5aa19c455bd35f3d12",
       "style": "IPY_MODEL_bd9af7809a924d0a92ea6d2228193250",
       "value": " 275/275 [03:48&lt;00:00,  1.20it/s, acc=0.992, loss=0.0214]"
      }
     },
     "eb3ea45f9f3c4e5e986cb9acc37b373c": {
      "model_module": "@jupyter-widgets/base",
      "model_module_version": "1.2.0",
      "model_name": "LayoutModel",
      "state": {}
     },
     "ebcb7b7efdc84e29bed2f196b202da10": {
      "model_module": "@jupyter-widgets/controls",
      "model_module_version": "1.5.0",
      "model_name": "HBoxModel",
      "state": {
       "children": [
        "IPY_MODEL_28fcb50031f94f77b0d6a3279e22f503",
        "IPY_MODEL_c58cd792b54642229fab4ad5c46d482b"
       ],
       "layout": "IPY_MODEL_0b69c3f19fcf403b88972bbdee06b205"
      }
     },
     "ec35735aaf3249439374490ef84fe369": {
      "model_module": "@jupyter-widgets/base",
      "model_module_version": "1.2.0",
      "model_name": "LayoutModel",
      "state": {}
     },
     "ecafe9eda24d406ba3d4a25cd7d95c78": {
      "model_module": "@jupyter-widgets/controls",
      "model_module_version": "1.5.0",
      "model_name": "DescriptionStyleModel",
      "state": {
       "description_width": ""
      }
     },
     "ecc199669c554a168c0fdbdfa23291ce": {
      "model_module": "@jupyter-widgets/base",
      "model_module_version": "1.2.0",
      "model_name": "LayoutModel",
      "state": {}
     },
     "ed6a8e9fe65f464c88f595ef184281fb": {
      "model_module": "@jupyter-widgets/controls",
      "model_module_version": "1.5.0",
      "model_name": "HTMLModel",
      "state": {
       "layout": "IPY_MODEL_c4cd9349cbb94216b2d58866b88510e5",
       "style": "IPY_MODEL_d04ba8998d404c8d8b70598784041f4f",
       "value": " 280/280 [06:12&lt;00:00,  1.33s/it, acc=0.905, loss=0.019]"
      }
     },
     "eda96dd9d02c447b89bd82a1b6361774": {
      "model_module": "@jupyter-widgets/controls",
      "model_module_version": "1.5.0",
      "model_name": "HBoxModel",
      "state": {
       "children": [
        "IPY_MODEL_58b63d8e305542e1852e0872ec3efc7a",
        "IPY_MODEL_4cadade4b36448c49ef01868fc628359"
       ],
       "layout": "IPY_MODEL_297a13d763f74800b27fe295f779eb61"
      }
     },
     "edd16d86d4f741f599d370bc2ceccc39": {
      "model_module": "@jupyter-widgets/controls",
      "model_module_version": "1.5.0",
      "model_name": "HTMLModel",
      "state": {
       "layout": "IPY_MODEL_e5ae9672589e43dea07b7de7e03f28d6",
       "style": "IPY_MODEL_b25731643da847d0ba94780ba8e7d8ba",
       "value": " 286/286 [01:27&lt;00:00,  3.25it/s, acc=0.991, loss=0.0611]"
      }
     },
     "eddbbcee60df4aec8360c9be073a33f7": {
      "model_module": "@jupyter-widgets/controls",
      "model_module_version": "1.5.0",
      "model_name": "ProgressStyleModel",
      "state": {
       "description_width": "initial"
      }
     },
     "ee2c3ac275934c34824ee6dd35e1509a": {
      "model_module": "@jupyter-widgets/controls",
      "model_module_version": "1.5.0",
      "model_name": "DescriptionStyleModel",
      "state": {
       "description_width": ""
      }
     },
     "ef259f76257e4d279d8e383d5baf0155": {
      "model_module": "@jupyter-widgets/controls",
      "model_module_version": "1.5.0",
      "model_name": "ProgressStyleModel",
      "state": {
       "description_width": "initial"
      }
     },
     "ef38579ceff84263a25498ab51df2700": {
      "model_module": "@jupyter-widgets/controls",
      "model_module_version": "1.5.0",
      "model_name": "IntProgressModel",
      "state": {
       "bar_style": "success",
       "description": "Epoch [9/10]: 100%",
       "layout": "IPY_MODEL_dcdbc8e5371c441ea5b6da9cff67ffb7",
       "max": 275,
       "style": "IPY_MODEL_a502587fe3fc4d69a0b37506d0cb35c9",
       "value": 275
      }
     },
     "efa2b407c4ba4191a436467e3f79cac8": {
      "model_module": "@jupyter-widgets/controls",
      "model_module_version": "1.5.0",
      "model_name": "HBoxModel",
      "state": {
       "children": [
        "IPY_MODEL_ca8f84c59e7d47609b96804a0aa88082",
        "IPY_MODEL_564d0dab926e464e96bf5ff1dc1230d2"
       ],
       "layout": "IPY_MODEL_29dca08ace304cb0a92beed02f551d72"
      }
     },
     "efdd760cdd6e4713902a68b1588e0c49": {
      "model_module": "@jupyter-widgets/base",
      "model_module_version": "1.2.0",
      "model_name": "LayoutModel",
      "state": {}
     },
     "f04cb084bf90468894cbc8b257ccec47": {
      "model_module": "@jupyter-widgets/controls",
      "model_module_version": "1.5.0",
      "model_name": "IntProgressModel",
      "state": {
       "bar_style": "success",
       "description": "Epoch [10/10]: 100%",
       "layout": "IPY_MODEL_88de112366e84f8aafdc0d49ba180a82",
       "max": 275,
       "style": "IPY_MODEL_fc56d0a9ce424c2284fb53a051c2f625",
       "value": 275
      }
     },
     "f0c0128366234b6ebb4c7afb833d34b7": {
      "model_module": "@jupyter-widgets/base",
      "model_module_version": "1.2.0",
      "model_name": "LayoutModel",
      "state": {}
     },
     "f1c9be7ec64b4bd39f0fb7fbd6c26701": {
      "model_module": "@jupyter-widgets/controls",
      "model_module_version": "1.5.0",
      "model_name": "HTMLModel",
      "state": {
       "layout": "IPY_MODEL_682e4a6264d54cbba76db9421ce817e5",
       "style": "IPY_MODEL_ce75873012754a35a827809285265f70",
       "value": " 276/276 [01:20&lt;00:00,  3.44it/s, acc=0.995, loss=0.00395]"
      }
     },
     "f1f85e2a76e74865bbdfa7848a7d30ab": {
      "model_module": "@jupyter-widgets/base",
      "model_module_version": "1.2.0",
      "model_name": "LayoutModel",
      "state": {}
     },
     "f238d373614e40c98b97179e59d2fe48": {
      "model_module": "@jupyter-widgets/base",
      "model_module_version": "1.2.0",
      "model_name": "LayoutModel",
      "state": {}
     },
     "f2755d03926e4b7298abe2a0c40797c0": {
      "model_module": "@jupyter-widgets/controls",
      "model_module_version": "1.5.0",
      "model_name": "DescriptionStyleModel",
      "state": {
       "description_width": ""
      }
     },
     "f29ce08b1ef748afb76dc8ac250693e4": {
      "model_module": "@jupyter-widgets/base",
      "model_module_version": "1.2.0",
      "model_name": "LayoutModel",
      "state": {}
     },
     "f3ca4afb350144c48bb067f5ecb4821a": {
      "model_module": "@jupyter-widgets/controls",
      "model_module_version": "1.5.0",
      "model_name": "IntProgressModel",
      "state": {
       "bar_style": "success",
       "description": "Epoch [4/10]: 100%",
       "layout": "IPY_MODEL_092f6b0e76204b24ac7a5d99d9818985",
       "max": 279,
       "style": "IPY_MODEL_5c14c569d9004aae8c802a691c5fb6ce",
       "value": 279
      }
     },
     "f3e6c6b28296436585e270af511cba2d": {
      "model_module": "@jupyter-widgets/controls",
      "model_module_version": "1.5.0",
      "model_name": "ProgressStyleModel",
      "state": {
       "description_width": "initial"
      }
     },
     "f407f0e6590c426aa6ae5828df7b6d61": {
      "model_module": "@jupyter-widgets/controls",
      "model_module_version": "1.5.0",
      "model_name": "IntProgressModel",
      "state": {
       "bar_style": "success",
       "description": "Epoch [2/10]: 100%",
       "layout": "IPY_MODEL_c156d8a65de04146834e457bc8dd12f5",
       "max": 275,
       "style": "IPY_MODEL_8e30cb3379ab48b8a31884a9ebea01f4",
       "value": 275
      }
     },
     "f447e02f1c4b4f758eb4ff2adbef792e": {
      "model_module": "@jupyter-widgets/controls",
      "model_module_version": "1.5.0",
      "model_name": "HBoxModel",
      "state": {
       "children": [
        "IPY_MODEL_d45cd41ffa084d508b8f46efabe50975",
        "IPY_MODEL_30f509e83baa4498b5ebe13e156d1ad9"
       ],
       "layout": "IPY_MODEL_b057ed07631a4dc384cf86d2c231dced"
      }
     },
     "f499231c42154aef9ad3f3468b51dfa9": {
      "model_module": "@jupyter-widgets/base",
      "model_module_version": "1.2.0",
      "model_name": "LayoutModel",
      "state": {}
     },
     "f4e73ea28c7447b88b9e260f37ac8001": {
      "model_module": "@jupyter-widgets/controls",
      "model_module_version": "1.5.0",
      "model_name": "DescriptionStyleModel",
      "state": {
       "description_width": ""
      }
     },
     "f5157757b6324753b574c56c2209742b": {
      "model_module": "@jupyter-widgets/base",
      "model_module_version": "1.2.0",
      "model_name": "LayoutModel",
      "state": {}
     },
     "f5d75180ed584a00958a5895436bf848": {
      "model_module": "@jupyter-widgets/base",
      "model_module_version": "1.2.0",
      "model_name": "LayoutModel",
      "state": {}
     },
     "f6146a19bb2d4fd8af335f46fef03a1d": {
      "model_module": "@jupyter-widgets/base",
      "model_module_version": "1.2.0",
      "model_name": "LayoutModel",
      "state": {}
     },
     "f640fc971e99428f8432922521662a97": {
      "model_module": "@jupyter-widgets/controls",
      "model_module_version": "1.5.0",
      "model_name": "ProgressStyleModel",
      "state": {
       "description_width": "initial"
      }
     },
     "f73f406c2a4c488ea0bfcc075db0ba05": {
      "model_module": "@jupyter-widgets/controls",
      "model_module_version": "1.5.0",
      "model_name": "IntProgressModel",
      "state": {
       "bar_style": "danger",
       "description": "Epoch [1/5]:  99%",
       "layout": "IPY_MODEL_365cacf12f924881b842a5518f953612",
       "max": 289,
       "style": "IPY_MODEL_7c2b55022956439d831500b5efddb6af",
       "value": 287
      }
     },
     "f7d36987c8964b29b9013244e41e24f1": {
      "model_module": "@jupyter-widgets/controls",
      "model_module_version": "1.5.0",
      "model_name": "DescriptionStyleModel",
      "state": {
       "description_width": ""
      }
     },
     "f7f9a81b573c46388046966ac929d2df": {
      "model_module": "@jupyter-widgets/controls",
      "model_module_version": "1.5.0",
      "model_name": "IntProgressModel",
      "state": {
       "bar_style": "success",
       "description": "Epoch [4/5]: 100%",
       "layout": "IPY_MODEL_3ff74db26eeb47e8978883576f197a38",
       "max": 276,
       "style": "IPY_MODEL_c62230343b92430a9ee8cf8a4ebdb165",
       "value": 276
      }
     },
     "f87034484b934c68abb5387c7cc356b8": {
      "model_module": "@jupyter-widgets/controls",
      "model_module_version": "1.5.0",
      "model_name": "DescriptionStyleModel",
      "state": {
       "description_width": ""
      }
     },
     "f89e63c240f848bdb8e361d848094cbf": {
      "model_module": "@jupyter-widgets/base",
      "model_module_version": "1.2.0",
      "model_name": "LayoutModel",
      "state": {}
     },
     "fabab5c7b20c4d15ba1816581cb533ac": {
      "model_module": "@jupyter-widgets/controls",
      "model_module_version": "1.5.0",
      "model_name": "HTMLModel",
      "state": {
       "layout": "IPY_MODEL_bf90517c055647f992eac5a5a791321c",
       "style": "IPY_MODEL_640f79b2991f41768f18919e8e20f80c",
       "value": " 275/275 [07:01&lt;00:00,  1.53s/it, acc=0.995, loss=0.0158]"
      }
     },
     "fc56d0a9ce424c2284fb53a051c2f625": {
      "model_module": "@jupyter-widgets/controls",
      "model_module_version": "1.5.0",
      "model_name": "ProgressStyleModel",
      "state": {
       "description_width": "initial"
      }
     },
     "fd95b7c347c44a13a62e69b2202b8058": {
      "model_module": "@jupyter-widgets/controls",
      "model_module_version": "1.5.0",
      "model_name": "DescriptionStyleModel",
      "state": {
       "description_width": ""
      }
     },
     "fdf76041af6742e9847fee14508b4ccc": {
      "model_module": "@jupyter-widgets/controls",
      "model_module_version": "1.5.0",
      "model_name": "HBoxModel",
      "state": {
       "children": [
        "IPY_MODEL_73c3e33ec0c949a8ab3b945d6996c62d",
        "IPY_MODEL_c6fdf7feb04b4e788cd1c0925ce6a595"
       ],
       "layout": "IPY_MODEL_8a3e3331e5404db6ad69e3e53e36dd83"
      }
     }
    },
    "version_major": 2,
    "version_minor": 0
   }
  }
 },
 "nbformat": 4,
 "nbformat_minor": 2
}
